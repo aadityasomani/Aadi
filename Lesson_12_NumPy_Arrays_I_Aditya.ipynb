{
  "nbformat": 4,
  "nbformat_minor": 0,
  "metadata": {
    "colab": {
      "name": "Lesson 12 - NumPy Arrays I - Aditya",
      "provenance": [],
      "collapsed_sections": [],
      "include_colab_link": true
    },
    "kernelspec": {
      "name": "python3",
      "display_name": "Python 3"
    }
  },
  "cells": [
    {
      "cell_type": "markdown",
      "metadata": {
        "id": "view-in-github",
        "colab_type": "text"
      },
      "source": [
        "<a href=\"https://colab.research.google.com/github/aadityasomani/Aadi/blob/master/Lesson_12_NumPy_Arrays_I_Aditya.ipynb\" target=\"_parent\"><img src=\"https://colab.research.google.com/assets/colab-badge.svg\" alt=\"Open In Colab\"/></a>"
      ]
    },
    {
      "cell_type": "markdown",
      "metadata": {
        "id": "7LlG_PPFjJUz"
      },
      "source": [
        "# Lesson 12: NumPy Arrays I\n"
      ]
    },
    {
      "cell_type": "markdown",
      "metadata": {
        "id": "3QmD9tXNboId"
      },
      "source": [
        "---"
      ]
    },
    {
      "cell_type": "markdown",
      "metadata": {
        "id": "3rJJF2_hNmmS"
      },
      "source": [
        "### Teacher-Student Tasks\n",
        "\n",
        "In the previous lesson, we learned how to create a Python list using the list comprehension method. In this lesson, we are going to learn how to create NumPy arrays.\n",
        "\n",
        "An array is also a data structure that contains multiple values. Working with NumPy arrays is much easier than working with Python lists.\n",
        "\n",
        "The term NumPy stands for Numeric (or Numerical) Python. It is one of the most popular modules amongst Statisticians and Data Scientists across the globe to perform heavy mathematical computations. NumPy arrays are also faster than Python lists in terms of code execution time.\n",
        "\n",
        "For all practical purposes, **an array is the same as a list**. Fundamentally, they have been programmed differently by the inventors of Python language. We are **NOT** required to know how they were created. We only need to know how to apply them in different situations.\n"
      ]
    },
    {
      "cell_type": "markdown",
      "metadata": {
        "id": "TD65811mb1s6"
      },
      "source": [
        "---"
      ]
    },
    {
      "cell_type": "markdown",
      "metadata": {
        "id": "8C6arOgwIdZR"
      },
      "source": [
        "#### Task 1: NumPy Arrays - The `ones()` and `zeros()` Functions\n",
        "\n",
        "To get started with NumPy arrays, let's create an array having each item as `1` with dimensions `3` rows and `3` columns. \n",
        "\n",
        "To create such an array, you first need to `import` the `numpy` module at the beginning of the code. Then use the `ones()` function from the `numpy` module.\n",
        "\n",
        "The `ones()` function requires two inputs. The first input should be the required dimension of the array and the second input should define the data type of the items in the required array. \n"
      ]
    },
    {
      "cell_type": "code",
      "metadata": {
        "id": "vlgvfn4lhd2L",
        "colab": {
          "base_uri": "https://localhost:8080/"
        },
        "outputId": "ba8bc98e-d5a3-457f-a924-2391f5737c89"
      },
      "source": [
        "import numpy as np\n",
        "# S1.1: Create an array containing '1' as its items using the 'ones()' function from the 'numpy' module.\n",
        "ones=np.ones((3,3),dtype=int)\n",
        "# Step 1: Always import the 'numpy' module at the beginning of the code and give it an alias (or nickname) called np. \n",
        "# We will always refer to the 'numpy' module as 'np' throughout the code.\n",
        "ones\n",
        "# Step 2: Call 'ones()' function from the np module using the dot operator.\n",
        "# The 'ones()' function, requires two inputs: the dimension of the array and data type of the items which in this case is 'int'. \n"
      ],
      "execution_count": 1,
      "outputs": [
        {
          "output_type": "execute_result",
          "data": {
            "text/plain": [
              "array([[1, 1, 1],\n",
              "       [1, 1, 1],\n",
              "       [1, 1, 1]])"
            ]
          },
          "metadata": {},
          "execution_count": 1
        }
      ]
    },
    {
      "cell_type": "markdown",
      "metadata": {
        "id": "rCnmusCAc6gI"
      },
      "source": [
        "**Note:** \n",
        "\n",
        "1. Always import the `numpy` module at the beginning of the code with `np` as its alias (or nickname). Throughout the course, we will always refer to the `numpy` module as `np` unless otherwise specified.\n",
        "\n",
        "2. The de facto data type of an item in a NumPy array is `float`.\n",
        "\n",
        "Using the `type()` function, you can verify whether an array is a NumPy array or not:"
      ]
    },
    {
      "cell_type": "code",
      "metadata": {
        "id": "AXL0BiNXc7iK",
        "colab": {
          "base_uri": "https://localhost:8080/"
        },
        "outputId": "f9b8c5f7-c750-4166-eff9-6d51e2c1722a"
      },
      "source": [
        "# S1.2: Using the 'type()' function, verify whether the 'ones' array is a NumPy array or not.\n",
        "type(ones)"
      ],
      "execution_count": 2,
      "outputs": [
        {
          "output_type": "execute_result",
          "data": {
            "text/plain": [
              "numpy.ndarray"
            ]
          },
          "metadata": {},
          "execution_count": 2
        }
      ]
    },
    {
      "cell_type": "markdown",
      "metadata": {
        "id": "wwpuCqm3aIZm"
      },
      "source": [
        "As you can see, the `type()` function has returned `numpy.ndarray` as an output which confirms that the `ones` array is indeed a NumPy array. \n",
        "\n",
        "Similarly, you try to create a NumPy array having each item as `0` with dimensions `2` rows and `3` columns using the `zeros()` function. Make sure that each item is an integer:\n"
      ]
    },
    {
      "cell_type": "code",
      "metadata": {
        "id": "lD8__Mj7oT6G",
        "colab": {
          "base_uri": "https://localhost:8080/"
        },
        "outputId": "c903c30a-c41b-4597-b1ac-1febe14cb111"
      },
      "source": [
        "# S1.3: Using 'zeros()' function, create a NumPy array having 2 rows and 3 columns. The items should be int data-type.\n",
        "zeros=np.zeros((2,3),dtype=int)\n",
        "zeros"
      ],
      "execution_count": 3,
      "outputs": [
        {
          "output_type": "execute_result",
          "data": {
            "text/plain": [
              "array([[0, 0, 0],\n",
              "       [0, 0, 0]])"
            ]
          },
          "metadata": {},
          "execution_count": 3
        }
      ]
    },
    {
      "cell_type": "markdown",
      "metadata": {
        "id": "rTfcnhivbui_"
      },
      "source": [
        "Recreate the above array without providing the data type as input. The output should be a two-dimensional array with each item as `0.` which is a floating-point number.\n"
      ]
    },
    {
      "cell_type": "code",
      "metadata": {
        "id": "iM5JTdq3b8kt",
        "colab": {
          "base_uri": "https://localhost:8080/"
        },
        "outputId": "7ed23498-f663-4f7f-ff12-9a0fae6c5139"
      },
      "source": [
        "# S1.4: Using 'zeros()' function, create a numpy array having 2 rows and 3 columns.\n",
        "zeros_float=np.zeros((2,3))\n",
        "zeros_float"
      ],
      "execution_count": 5,
      "outputs": [
        {
          "output_type": "execute_result",
          "data": {
            "text/plain": [
              "array([[0., 0., 0.],\n",
              "       [0., 0., 0.]])"
            ]
          },
          "metadata": {},
          "execution_count": 5
        }
      ]
    },
    {
      "cell_type": "markdown",
      "metadata": {
        "id": "M5PzhOjLfyCi"
      },
      "source": [
        "As you can see, all the items of the `zero_float` array are of `float` data type. \n"
      ]
    },
    {
      "cell_type": "markdown",
      "metadata": {
        "id": "5MTE0KcDqqUe"
      },
      "source": [
        "---"
      ]
    },
    {
      "cell_type": "markdown",
      "metadata": {
        "id": "r9A3Qj0cqrCA"
      },
      "source": [
        "#### Task 2: The `dtype` Keyword\n",
        "\n",
        "To check the data type of the values stored in a NumPy array, you can use the `dtype` keyword:\n"
      ]
    },
    {
      "cell_type": "code",
      "metadata": {
        "id": "pxd0yIn5eE9J",
        "colab": {
          "base_uri": "https://localhost:8080/"
        },
        "outputId": "056bec5a-e326-4bc0-9e6d-b4219926c2e9"
      },
      "source": [
        "# S2.1: Using the 'dtype' keyword, verify whether the 'zeros_float' array items are floating-point values or not. \n",
        "zeros_float.dtype"
      ],
      "execution_count": 6,
      "outputs": [
        {
          "output_type": "execute_result",
          "data": {
            "text/plain": [
              "dtype('float64')"
            ]
          },
          "metadata": {},
          "execution_count": 6
        }
      ]
    },
    {
      "cell_type": "markdown",
      "metadata": {
        "id": "zym6XMZugTPY"
      },
      "source": [
        "**Note:** For the time being ignore the number `64`.\n",
        "\n",
        "As you can see, the `dtype` keyword has returned `dtype('float64')` as an output confirming that all the items of the `zeros_float` array are floating-point values: \n"
      ]
    },
    {
      "cell_type": "code",
      "metadata": {
        "id": "2lFDm3JvgwgN",
        "colab": {
          "base_uri": "https://localhost:8080/"
        },
        "outputId": "662bb572-d84b-4c24-94b7-1b35096838f1"
      },
      "source": [
        "# S2.2: Using the 'dtype' keyword, verify whether the 'ones' array items are int values or not. \n",
        "ones.dtype"
      ],
      "execution_count": 7,
      "outputs": [
        {
          "output_type": "execute_result",
          "data": {
            "text/plain": [
              "dtype('int64')"
            ]
          },
          "metadata": {},
          "execution_count": 7
        }
      ]
    },
    {
      "cell_type": "markdown",
      "metadata": {
        "id": "YqEeGauMg6Gd"
      },
      "source": [
        "For the time being ignore the number `64`. As you can see, the `dtype` keyword has returned `dtype('int64')` as an output confirming that all the items of the `ones` array are integer values. \n",
        " \n",
        "\n",
        "**Difference between the `type()` function and the `dtype` keyword**\n",
        "\n",
        "The `type()` function is a function of Python. It returns the type of Python object. The data types or more accurately the **primitive data types** `int`, `float`, `str`, and `bool` are Python objects. Similarly, Python lists, NumPy modules, `random` modules are also Python objects. The `type()` function will tell you what type of Python objects they are:"
      ]
    },
    {
      "cell_type": "code",
      "metadata": {
        "id": "cA-nCcNS6T9I"
      },
      "source": [
        "# S2.3: Run the code shown below to see that the 'type()' function returns the type of Python object.\n"
      ],
      "execution_count": null,
      "outputs": []
    },
    {
      "cell_type": "markdown",
      "metadata": {
        "id": "oJqyhPWq77Uw"
      },
      "source": [
        "In the output, ignore the term `class`. We will explore this term in more detail in the upcoming classes.\n",
        "\n",
        "As you can see, the `type()` function indeed returns the type of Python object for an entity in Python."
      ]
    },
    {
      "cell_type": "markdown",
      "metadata": {
        "id": "qikzHXnYobUR"
      },
      "source": [
        "---"
      ]
    },
    {
      "cell_type": "markdown",
      "metadata": {
        "id": "qkZj_ZVTiHz9"
      },
      "source": [
        "#### Task 3: The `ndim` and `shape` Keywords\n",
        "\n",
        "**The `ndim` keyword:** Using the `ndim` keyword, you can find out the dimension of a NumPy array. The `ones`, `zeros`, and `zeros_float` arrays are two-dimensional arrays. So, the `ndim` keyword should return `2` for each of these arrays."
      ]
    },
    {
      "cell_type": "code",
      "metadata": {
        "id": "aKuQhbixiMVK",
        "colab": {
          "base_uri": "https://localhost:8080/"
        },
        "outputId": "ade0df56-32b0-46d9-adc3-fbfe998827c6"
      },
      "source": [
        "# S3.1: Using the 'ndim' array, find out the dimension of 'ones', 'zeros', and 'zeros_float' NumPy arrays.\n",
        "print(ones.ndim)\n",
        "print(zeros.ndim)\n",
        "zeros_float.ndim"
      ],
      "execution_count": 10,
      "outputs": [
        {
          "output_type": "stream",
          "name": "stdout",
          "text": [
            "2\n",
            "2\n"
          ]
        },
        {
          "output_type": "execute_result",
          "data": {
            "text/plain": [
              "2"
            ]
          },
          "metadata": {},
          "execution_count": 10
        }
      ]
    },
    {
      "cell_type": "markdown",
      "metadata": {
        "id": "tC0fYlbmlRxH"
      },
      "source": [
        "**The `shape` keyword:** Using the `shape` keyword, you can find out the number of rows and columns present in NumPy arrays."
      ]
    },
    {
      "cell_type": "code",
      "metadata": {
        "id": "f8jxBActlY0o",
        "colab": {
          "base_uri": "https://localhost:8080/"
        },
        "outputId": "0c26f317-175a-4c5b-89cb-7d7cc71722f9"
      },
      "source": [
        "# S3.2: Using the 'shape' keyword find out the number of blocks, rows, and columns in the 'ones', 'zeros', and 'zeros_float' arrays.\n",
        "print(ones.shape)\n",
        "print(zeros.shape)\n",
        "zeros_float.shape"
      ],
      "execution_count": 11,
      "outputs": [
        {
          "output_type": "stream",
          "name": "stdout",
          "text": [
            "(3, 3)\n",
            "(2, 3)\n"
          ]
        },
        {
          "output_type": "execute_result",
          "data": {
            "text/plain": [
              "(2, 3)"
            ]
          },
          "metadata": {},
          "execution_count": 11
        }
      ]
    },
    {
      "cell_type": "markdown",
      "metadata": {
        "id": "Sr-QqVlgmB7G"
      },
      "source": [
        "From the above output, we can conclude that:\n",
        "\n",
        "- The `ones` array has 3 rows and 3 columns.\n",
        "\n",
        "- The `zeros` array has 2 rows and 3 columns.\n",
        "\n",
        "- The `zeros_ones` array also has 2 rows and 3 columns."
      ]
    },
    {
      "cell_type": "markdown",
      "metadata": {
        "id": "jW-6nwfUlQi1"
      },
      "source": [
        "---"
      ]
    },
    {
      "cell_type": "markdown",
      "metadata": {
        "id": "83zFWveBmVT4"
      },
      "source": [
        "#### Task 4: The `arange()` and `linspace()` Functions\n",
        "\n",
        "There are `arange()` and `linspace()` functions in NumPy module create an array of numbers such that the difference between a pair of any two consecutive numbers in the array is constant. However, there is a slight difference in their outputs.\n",
        "\n",
        "**The `arange()` function:** It returns a one-dimensional array containing numbers between two specific numbers. It is similar to the `range()` function in the `for` loop."
      ]
    },
    {
      "cell_type": "code",
      "metadata": {
        "id": "RvOk2XS6mz7g",
        "colab": {
          "base_uri": "https://localhost:8080/"
        },
        "outputId": "0c94e15b-9555-4109-8f28-f5f28a42cc92"
      },
      "source": [
        "# S4.1: Create a one-dimensional array containing numbers between 5 and 20 using the 'arange()' function in the NumPy module.\n",
        "arr1=np.arange(5,21)\n",
        "arr1"
      ],
      "execution_count": 13,
      "outputs": [
        {
          "output_type": "execute_result",
          "data": {
            "text/plain": [
              "array([ 5,  6,  7,  8,  9, 10, 11, 12, 13, 14, 15, 16, 17, 18, 19, 20])"
            ]
          },
          "metadata": {},
          "execution_count": 13
        }
      ]
    },
    {
      "cell_type": "markdown",
      "metadata": {
        "id": "17OYVXuAm2Jl"
      },
      "source": [
        "Here, the `arange()` function has created an array of numbers from `5` to `20`. The difference between a pair of any two consecutive numbers is `1`. The `arange()` function will not include the last number specified in the array created.\n",
        "\n",
        "If you want the difference between two consecutive numbers to be greater than `1` (say `4`) in an array, then you can specify the difference as an additional input to the `arange()` function."
      ]
    },
    {
      "cell_type": "code",
      "metadata": {
        "id": "MlDrsatOm4uU",
        "colab": {
          "base_uri": "https://localhost:8080/"
        },
        "outputId": "51efbb1b-2236-441b-e359-d72eca7d4bf7"
      },
      "source": [
        "# S4.2: Create an array of numbers from 1 to 24 such that the difference between two consecutive numbers is 4.\n",
        "arr2=np.arange(1,25,4)\n",
        "arr2"
      ],
      "execution_count": 15,
      "outputs": [
        {
          "output_type": "execute_result",
          "data": {
            "text/plain": [
              "array([ 1,  5,  9, 13, 17, 21])"
            ]
          },
          "metadata": {},
          "execution_count": 15
        }
      ]
    },
    {
      "cell_type": "markdown",
      "metadata": {
        "id": "5_r2bBl4m7cm"
      },
      "source": [
        "As you can see, the `arange()` function has created an array of numbers from `1` to `24` such that the difference between two consecutive numbers is `4`. \n",
        "\n",
        "**Note:** If the difference between two consecutive numbers is not specified, then the `arange()` function will assume that the difference is `1`.\n",
        "\n",
        "You can also create an array containing the floating-point numbers using the `arange()` function by providing `dtype=float` as an additional input to the function."
      ]
    },
    {
      "cell_type": "code",
      "metadata": {
        "id": "G3TJYq0dm9qU",
        "colab": {
          "base_uri": "https://localhost:8080/"
        },
        "outputId": "3a58b382-e67a-4e14-9ad1-59b7597c36e7"
      },
      "source": [
        "# S4.3: Create an array of numbers from 1 to 24 such that the difference between two consecutive numbers is 4 and each item is a float.\n",
        "arr3=np.arange(1,25,4,dtype=float)\n",
        "arr3"
      ],
      "execution_count": 18,
      "outputs": [
        {
          "output_type": "execute_result",
          "data": {
            "text/plain": [
              "array([ 1.,  5.,  9., 13., 17., 21.])"
            ]
          },
          "metadata": {},
          "execution_count": 18
        }
      ]
    },
    {
      "cell_type": "markdown",
      "metadata": {
        "id": "UnR5FyRpnAWy"
      },
      "source": [
        "As you can see, the items contained in `array3` are floating-point numbers.\n",
        "\n",
        "**The `linspace()` function:** This function creates an array containing a fixed number of numbers between two specific numbers such that the difference between any two consecutive numbers in the array is constant. This will be clear to you with an example.\n",
        "\n",
        "Suppose you want to create an array containing exactly `4` numbers between the numbers `1` and `25` such that all the difference between any two consecutive numbers is constant, then you can use the `linspace()` function."
      ]
    },
    {
      "cell_type": "code",
      "metadata": {
        "id": "SCdhTcEinE9y",
        "colab": {
          "base_uri": "https://localhost:8080/"
        },
        "outputId": "d4026396-01b9-4e12-83ab-14734a3b577c"
      },
      "source": [
        "# S4.4: Create an array containing 4 numbers between 1 to 25.\n",
        "array4 = np.linspace(1, 25, 5)\n",
        "array4"
      ],
      "execution_count": 19,
      "outputs": [
        {
          "output_type": "execute_result",
          "data": {
            "text/plain": [
              "array([ 1.,  7., 13., 19., 25.])"
            ]
          },
          "metadata": {},
          "execution_count": 19
        }
      ]
    },
    {
      "cell_type": "markdown",
      "metadata": {
        "id": "aNIZgk9NnF1G"
      },
      "source": [
        "As you can see, the `linspace()` function has created an array containing `4` numbers between `1` and `25` (including `25`) such that the difference between two consecutive numbers is constant. Take a pair of any two consecutive numbers in `array5`, the difference between them will be `8.`\n",
        "\n",
        "**Note:** Notice the difference between the outputs of the `arange()` and `linspace()` functions for the same inputs. The `arange()` function returns `6` numbers such that the difference between them is exactly `4` whereas the `linspace()` function returns exactly `4` numbers such that the difference between two consecutive numbers is constant. \n",
        "\n",
        "In other words:\n",
        "\n",
        "- In the `arange()` function, you specify the value of the difference between two consecutive numbers as the third input.\n",
        "\n",
        "- Whereas, in the `linspace()` function, you specify the length of the array to be created as the third input.\n",
        "\n",
        "Let's create another array using the `linspace()` function to get a better understanding. Let's create an array containing `10` numbers between `1` and `25` such that the difference between two consecutive numbers is constant. \n"
      ]
    },
    {
      "cell_type": "code",
      "metadata": {
        "id": "Yma1-oPkFXuU",
        "colab": {
          "base_uri": "https://localhost:8080/"
        },
        "outputId": "e04c5f73-189d-47c3-e659-d282f50f93ab"
      },
      "source": [
        "# S4.5: Create an array containing 10 numbers between 1 and 25 such that the difference between two consecutive numbers is constant.\n",
        "arr5=np.linspace(1,25,10)\n",
        "arr5"
      ],
      "execution_count": 22,
      "outputs": [
        {
          "output_type": "execute_result",
          "data": {
            "text/plain": [
              "array([ 1.        ,  3.66666667,  6.33333333,  9.        , 11.66666667,\n",
              "       14.33333333, 17.        , 19.66666667, 22.33333333, 25.        ])"
            ]
          },
          "metadata": {},
          "execution_count": 22
        }
      ]
    },
    {
      "cell_type": "markdown",
      "metadata": {
        "id": "LjM6JCndGMR9"
      },
      "source": [
        "Take a pair of any two consecutive numbers in the `array5`, the difference between them will be `2.66666666`"
      ]
    },
    {
      "cell_type": "markdown",
      "metadata": {
        "id": "KQ0PGPSitkjx"
      },
      "source": [
        "---"
      ]
    },
    {
      "cell_type": "markdown",
      "metadata": {
        "id": "i5XfedwAtmQn"
      },
      "source": [
        "#### Task 5: The `reshape()` Function\n",
        "\n",
        "\n",
        "The `reshape()` function reshapes an array from one configuration to another without changing the items.\n",
        "\n",
        "The `zeros` array has 2 rows and 3 columns. Suppose you want to reshape it into another array having `6` rows and `4` columns without changing the items, then you can use the `reshape()` function:"
      ]
    },
    {
      "cell_type": "code",
      "metadata": {
        "id": "TVSPwGGJuZUb",
        "colab": {
          "base_uri": "https://localhost:8080/"
        },
        "outputId": "231326fa-7db9-4fb5-d1e6-3478505dda6f"
      },
      "source": [
        "# S5.1: Reshape the 'zeros' array so that it has 6 rows and 4 columns.\n",
        "zeros=np.zeros(24,dtype=int)\n",
        "reshape_zeros=zeros.reshape(6,4)\n",
        "print(zeros)\n",
        "reshape_zeros"
      ],
      "execution_count": 25,
      "outputs": [
        {
          "output_type": "stream",
          "name": "stdout",
          "text": [
            "[0 0 0 0 0 0 0 0 0 0 0 0 0 0 0 0 0 0 0 0 0 0 0 0]\n"
          ]
        },
        {
          "output_type": "execute_result",
          "data": {
            "text/plain": [
              "array([[0, 0, 0, 0],\n",
              "       [0, 0, 0, 0],\n",
              "       [0, 0, 0, 0],\n",
              "       [0, 0, 0, 0],\n",
              "       [0, 0, 0, 0],\n",
              "       [0, 0, 0, 0]])"
            ]
          },
          "metadata": {},
          "execution_count": 25
        }
      ]
    },
    {
      "cell_type": "markdown",
      "metadata": {
        "id": "UR-_4ugcudOM"
      },
      "source": [
        "The `reshape()` function has reshaped the `zeros` array to a two-dimensional array having 3 rows and 2 columns. Inside the `reshape()` function, you have to provide the new configuration. \n",
        "\n",
        "This operation is only valid when the number of items in the new configuration is the same as the number of items in the original configuration. \n",
        "\n",
        "In this case, there are 6 items  in the original configuration. So the new configuration must also have 6 items.\n"
      ]
    },
    {
      "cell_type": "markdown",
      "metadata": {
        "id": "PABm6WB9mUbu"
      },
      "source": [
        "---"
      ]
    },
    {
      "cell_type": "markdown",
      "metadata": {
        "id": "BzGc9n870SGw"
      },
      "source": [
        "#### Task 6: The `ndarray()` Function\n",
        "In general, we can create a NumPy array containing some random values using `ndarray()` function.\n",
        "\n",
        "Let's say we want to create a NumPy array having some random integer values which have 5 rows and 2 columns, then you can use the `ndarray()` function.\n",
        "\n",
        "Similar to the `zeros()` and `ones()` functions, the `ndarray()` function takes two inputs: the first input is the configuration of the required array and the second input is the data type of items. The de facto data type is a floating-point value:"
      ]
    },
    {
      "cell_type": "code",
      "metadata": {
        "id": "col1d2ca0H9D",
        "colab": {
          "base_uri": "https://localhost:8080/"
        },
        "outputId": "c281d3c0-3c92-4e81-c279-e4b6c4e2139d"
      },
      "source": [
        "# S6.1: Create a 'numpy' array using 'ndarray()' function having 5 rows and 2 columns.\n",
        "arr6=np.ndarray((5,2),dtype=int)\n",
        "arr6"
      ],
      "execution_count": 30,
      "outputs": [
        {
          "output_type": "execute_result",
          "data": {
            "text/plain": [
              "array([[94759332833072,   446676598899],\n",
              "       [  481036337249,   408021893221],\n",
              "       [  433791697018,   476741369970],\n",
              "       [  261993005171,            122],\n",
              "       [             0,              0]])"
            ]
          },
          "metadata": {},
          "execution_count": 30
        }
      ]
    },
    {
      "cell_type": "markdown",
      "metadata": {
        "id": "cQmO3nvTqk5J"
      },
      "source": [
        "From the above output, you may observe that the `ndarray()` function has created an array of desired shapes containing random integers.\n",
        "\n"
      ]
    },
    {
      "cell_type": "markdown",
      "metadata": {
        "id": "7kDnzej73oIB"
      },
      "source": [
        "---"
      ]
    },
    {
      "cell_type": "markdown",
      "metadata": {
        "id": "w3vt6nG702lD"
      },
      "source": [
        "#### Task 7: The `random.randint()` Function\n",
        "\n",
        "The NumPy module also has its `random.randint()` function. It takes two inputs. The first input is the range of two integers between which a random number is to be created. The second input is the `size` parameter which defines the number of random integers to be created.\n",
        "\n",
        "**Syntax:** `np.random.randint(num1, num2, size=N)`\n",
        " \n",
        " Where `num1` and `num2` are starting numbers and `N` is the number of items to be contained in the array."
      ]
    },
    {
      "cell_type": "code",
      "metadata": {
        "id": "afZhlYWK03jU",
        "colab": {
          "base_uri": "https://localhost:8080/"
        },
        "outputId": "a998c687-64c0-4b23-9009-41f53969017f"
      },
      "source": [
        "# S7.1: Create a one-dimensional NumPy array containing 15 random integers between 50 and 100.\n",
        "import random\n",
        "arr7_1d=np.random.randint(50,100,size=15)\n",
        "arr7_1d"
      ],
      "execution_count": 32,
      "outputs": [
        {
          "output_type": "execute_result",
          "data": {
            "text/plain": [
              "array([51, 92, 66, 67, 91, 63, 86, 60, 83, 63, 88, 73, 92, 82, 75])"
            ]
          },
          "metadata": {},
          "execution_count": 32
        }
      ]
    },
    {
      "cell_type": "markdown",
      "metadata": {
        "id": "zginraKG07S-"
      },
      "source": [
        "Similarly, you can create a multi-dimensional NumPy array containing random integers by specifying the dimensions of the array to be created in the `size` parameter:"
      ]
    },
    {
      "cell_type": "code",
      "metadata": {
        "id": "4ts8pu2108A7",
        "colab": {
          "base_uri": "https://localhost:8080/"
        },
        "outputId": "b471c18e-dbed-4809-cdbc-453ffb92bb19"
      },
      "source": [
        "# S7.2: Create a two-dimensional NumPy array containing 15 random integers between 50 and 100.\n",
        "arr7_2d=np.random.randint(50,100,size=(3,5))\n",
        "arr7_2d"
      ],
      "execution_count": 33,
      "outputs": [
        {
          "output_type": "execute_result",
          "data": {
            "text/plain": [
              "array([[70, 92, 77, 92, 85],\n",
              "       [95, 58, 88, 51, 79],\n",
              "       [90, 52, 72, 93, 62]])"
            ]
          },
          "metadata": {},
          "execution_count": 33
        }
      ]
    },
    {
      "cell_type": "code",
      "metadata": {
        "colab": {
          "base_uri": "https://localhost:8080/"
        },
        "id": "ylDubWmUnciV",
        "outputId": "9134f2c6-37c1-4ea3-cac0-10414f65011b"
      },
      "source": [
        "arr7_2d[0][0]"
      ],
      "execution_count": 34,
      "outputs": [
        {
          "output_type": "execute_result",
          "data": {
            "text/plain": [
              "70"
            ]
          },
          "metadata": {},
          "execution_count": 34
        }
      ]
    },
    {
      "cell_type": "markdown",
      "metadata": {
        "id": "GxD5DdNrrdzu"
      },
      "source": [
        "In this way, you can generate one-dimensional and two-dimensional arrays containing random numbers within a specific range using `random.randint()` function."
      ]
    },
    {
      "cell_type": "markdown",
      "metadata": {
        "id": "v57wLWnh01qh"
      },
      "source": [
        "---"
      ]
    },
    {
      "cell_type": "markdown",
      "metadata": {
        "id": "V_OCAj0f3paN"
      },
      "source": [
        "#### Task 8: The `array()` Function\n",
        "\n",
        "\n",
        "We can convert a Python list into a NumPy array. To do this, use the `array()` function which takes a Python list as an input.\n",
        "\n",
        "Let's first create a list of natural numbers from `1` to `15` using the list comprehension method. Then convert the list into a NumPy array using the `array()` function:"
      ]
    },
    {
      "cell_type": "code",
      "metadata": {
        "id": "ekUreHwA4AuX",
        "colab": {
          "base_uri": "https://localhost:8080/"
        },
        "outputId": "4ae7104d-16f7-4af4-f28b-58d85b6bc059"
      },
      "source": [
        "# S8.1: Convert a Python list into a NumPy array using the 'array()' function.\n",
        "lst=[i for i in range(1,16)]\n",
        "print(lst)\n",
        "array9=np.array(lst)\n",
        "array9"
      ],
      "execution_count": 38,
      "outputs": [
        {
          "output_type": "stream",
          "name": "stdout",
          "text": [
            "[1, 2, 3, 4, 5, 6, 7, 8, 9, 10, 11, 12, 13, 14, 15]\n"
          ]
        },
        {
          "output_type": "execute_result",
          "data": {
            "text/plain": [
              "array([ 1,  2,  3,  4,  5,  6,  7,  8,  9, 10, 11, 12, 13, 14, 15])"
            ]
          },
          "metadata": {},
          "execution_count": 38
        }
      ]
    },
    {
      "cell_type": "markdown",
      "metadata": {
        "id": "EqudPIx11ZHd"
      },
      "source": [
        "To check whether a Python list is converted into a NumPy array or not, you can use the `type()` function:"
      ]
    },
    {
      "cell_type": "code",
      "metadata": {
        "id": "VOEbjYwC1nF7",
        "colab": {
          "base_uri": "https://localhost:8080/"
        },
        "outputId": "aecb8fcd-c7ce-4fc8-dfd4-92058b11627a"
      },
      "source": [
        "# S8.2: Verify whether the 'arr' array is a NumPy array or a Python list.\n",
        "print(type(lst))\n",
        "array9.dtype"
      ],
      "execution_count": 40,
      "outputs": [
        {
          "output_type": "stream",
          "name": "stdout",
          "text": [
            "<class 'list'>\n"
          ]
        },
        {
          "output_type": "execute_result",
          "data": {
            "text/plain": [
              "dtype('int64')"
            ]
          },
          "metadata": {},
          "execution_count": 40
        }
      ]
    },
    {
      "cell_type": "markdown",
      "metadata": {
        "id": "0fUxUM9Jr28f"
      },
      "source": [
        "From the above output, we observe that we have successfully created a NumPy `ndarray` object from a Python list using the `array()` function."
      ]
    },
    {
      "cell_type": "markdown",
      "metadata": {
        "id": "2doxkX1qyC9S"
      },
      "source": [
        "---"
      ]
    },
    {
      "cell_type": "markdown",
      "metadata": {
        "id": "yDM2ZGP6J00k"
      },
      "source": [
        "#### Task 9: The `list()` Function\n",
        "\n",
        "We can convert a NumPy array into a Python list using the `list()` function.\n",
        "\n",
        "Let's convert the `arr` NumPy array into a Python list using the `list()` function:"
      ]
    },
    {
      "cell_type": "code",
      "metadata": {
        "id": "SkKJekR5KOad",
        "colab": {
          "base_uri": "https://localhost:8080/"
        },
        "outputId": "3de3d2b5-4809-4a5f-d39f-2b3be3e53452"
      },
      "source": [
        "# S9.1: Convert a NumPy array into a Python list using the 'list()' function.\n",
        "lst2=list(array9)\n",
        "lst2"
      ],
      "execution_count": 41,
      "outputs": [
        {
          "output_type": "execute_result",
          "data": {
            "text/plain": [
              "[1, 2, 3, 4, 5, 6, 7, 8, 9, 10, 11, 12, 13, 14, 15]"
            ]
          },
          "metadata": {},
          "execution_count": 41
        }
      ]
    },
    {
      "cell_type": "markdown",
      "metadata": {
        "id": "PNrK6z-HKcgr"
      },
      "source": [
        "Let's verify whether the conversion happened or not using the `type()` function:"
      ]
    },
    {
      "cell_type": "code",
      "metadata": {
        "id": "us1-glqEKZ_m",
        "colab": {
          "base_uri": "https://localhost:8080/"
        },
        "outputId": "0b27fa5b-00c8-4cb8-c44f-276eb3dbe3d7"
      },
      "source": [
        "# S9.2: Verify whether the 'arr_converted' list is a Python list or not.\n",
        "type(lst2)"
      ],
      "execution_count": 42,
      "outputs": [
        {
          "output_type": "execute_result",
          "data": {
            "text/plain": [
              "list"
            ]
          },
          "metadata": {},
          "execution_count": 42
        }
      ]
    },
    {
      "cell_type": "markdown",
      "metadata": {
        "id": "4R2D_nX5Kzg5"
      },
      "source": [
        "As you can see, the output is a `list`. Hence, we successfully converted the NumPy array to a Python list using the `list()` function."
      ]
    },
    {
      "cell_type": "markdown",
      "metadata": {
        "id": "sOoBZyjS0e9W"
      },
      "source": [
        "---"
      ]
    },
    {
      "cell_type": "markdown",
      "metadata": {
        "id": "-XLCEilb0fqW"
      },
      "source": [
        "#### Task 10: The `sqrt()` Function\n",
        "\n",
        "One of the most notorious concepts in maths is Heron's formula. It calculates the area of a triangle having sides $a, b, \\space \\text{and} \\space c$.\n",
        "\n",
        "<img src='https://drive.google.com/uc?id=18SFm-ovV_QnKufMNNaXB6aWhIhT1cVki' width=500>\n",
        "\n",
        "According to Heron's formula, the area of a triangle is given by.\n",
        "\n",
        "$$\\text{Area} = \\sqrt{s(s-a)(s-b)(s-c)}$$\n",
        "\n",
        "Where,\n",
        "$$s = \\frac{a + b + c}{2}$$\n",
        "\n",
        "i.e., the semi-perimeter of a triangle.\n",
        "\n",
        "Let's create a function that takes the lengths of the sides of a triangle and checks whether the lengths indeed represent the lengths of the sides of a triangle.\n",
        "\n",
        "*The sum of lengths of any two sides of a triangle is always greater than the length of the third side.*\n",
        "\n",
        "If the lengths meet the criteria for being the lengths of the sides of a triangle, then the function should return `True`. Else it should return `False`."
      ]
    },
    {
      "cell_type": "code",
      "metadata": {
        "id": "_TUP-If80jOu"
      },
      "source": [
        "# S10.1: Create a function to check whether the input lenghts represent the lengths of the side of a triangle.\n",
        "def is_triangle(a,b,c):\n",
        "    if a+b>c and a+c>b and b+c>a:\n",
        "        return True\n",
        "    else:\n",
        "        return False"
      ],
      "execution_count": 43,
      "outputs": []
    },
    {
      "cell_type": "markdown",
      "metadata": {
        "id": "PVoy-up50jrT"
      },
      "source": [
        "Now, let's create a function to calculate the area of a triangle using Heron's formula. The function must include the `is_triangle()` function and `np.sqrt()` functions. If the invalid side lengths are passed as input to the function, then it should return an `Invalid triangle.` message else it should return the area of a triangle.\n"
      ]
    },
    {
      "cell_type": "code",
      "metadata": {
        "id": "MykC-hZR0ls9",
        "colab": {
          "base_uri": "https://localhost:8080/"
        },
        "outputId": "07ad165d-7e50-4aa9-b175-1ee3cf5282b5"
      },
      "source": [
        "# S10.2: Create a function to calculate the area of a triangle using Heron's formula.\n",
        "def herons_formula(a,b,c):\n",
        "   # if is_triangle(a,b,c):\n",
        "        s=(a+b+c)/2\n",
        "        \n",
        "        return np.sqrt(s*(s-a)*(s-b)*(s-c))\n",
        "        #return (s*(s-a)*(s-b)*(s-c))**0.5\n",
        "   # else:\n",
        "        print(\"Invalid Triangle.\")\n",
        "herons_formula(-3,4,5)"
      ],
      "execution_count": 59,
      "outputs": [
        {
          "output_type": "execute_result",
          "data": {
            "text/plain": [
              "0.0"
            ]
          },
          "metadata": {},
          "execution_count": 59
        }
      ]
    },
    {
      "cell_type": "code",
      "metadata": {
        "colab": {
          "base_uri": "https://localhost:8080/"
        },
        "id": "QHQcvomzryac",
        "outputId": "12027e7b-65f9-49d6-f4fc-ec1e4d2a26b2"
      },
      "source": [
        "np.sqrt(-9)"
      ],
      "execution_count": 62,
      "outputs": [
        {
          "output_type": "stream",
          "name": "stderr",
          "text": [
            "/usr/local/lib/python3.7/dist-packages/ipykernel_launcher.py:1: RuntimeWarning: invalid value encountered in sqrt\n",
            "  \"\"\"Entry point for launching an IPython kernel.\n"
          ]
        },
        {
          "output_type": "execute_result",
          "data": {
            "text/plain": [
              "nan"
            ]
          },
          "metadata": {},
          "execution_count": 62
        }
      ]
    },
    {
      "cell_type": "markdown",
      "metadata": {
        "id": "TONrRiAe2x9w"
      },
      "source": [
        "Alternatively, you can raise a number to the power `0.5` to calculate the square root of a number, but it will return a complex number as an output for a negative number. On the other hand, the `np.sqrt()` function returns `nan` for negative numbers. It stands for **not a number** and denotes a NumPy null value."
      ]
    },
    {
      "cell_type": "markdown",
      "metadata": {
        "id": "m8imnv9bTgxr"
      },
      "source": [
        "We will stop here. Thus, in this class, we learned how to create a NumPy array and some basic NumPy functions. In the next class, we will learn to create three-dimensional arrays and also explore the Claude Shannon Mind Reading algorithm."
      ]
    },
    {
      "cell_type": "markdown",
      "metadata": {
        "id": "DpXlygkgK_jk"
      },
      "source": [
        "---"
      ]
    },
    {
      "cell_type": "code",
      "metadata": {
        "colab": {
          "base_uri": "https://localhost:8080/"
        },
        "id": "BTgt_G1ashjs",
        "outputId": "f2194be0-9b3d-4af3-b569-d25fc06e115a"
      },
      "source": [
        "arr=np.arange(1,13).reshape(6,2)\n",
        "print(arr)\n",
        "rev_arr=arr[::-1,::-1].reshape(2,6)\n",
        "rev_arr\n",
        "arr_trans=arr.reshape(2,6)\n",
        "arr_trans"
      ],
      "execution_count": 73,
      "outputs": [
        {
          "output_type": "stream",
          "name": "stdout",
          "text": [
            "[[ 1  2]\n",
            " [ 3  4]\n",
            " [ 5  6]\n",
            " [ 7  8]\n",
            " [ 9 10]\n",
            " [11 12]]\n"
          ]
        },
        {
          "output_type": "execute_result",
          "data": {
            "text/plain": [
              "array([[ 1,  2,  3,  4,  5,  6],\n",
              "       [ 7,  8,  9, 10, 11, 12]])"
            ]
          },
          "metadata": {},
          "execution_count": 73
        }
      ]
    }
  ]
}