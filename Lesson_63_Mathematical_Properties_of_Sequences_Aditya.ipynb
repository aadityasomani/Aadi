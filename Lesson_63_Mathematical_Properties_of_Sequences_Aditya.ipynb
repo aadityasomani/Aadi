{
  "nbformat": 4,
  "nbformat_minor": 0,
  "metadata": {
    "colab": {
      "name": "Lesson 63: Mathematical Properties of Sequences -Aditya",
      "provenance": [],
      "collapsed_sections": [],
      "include_colab_link": true
    },
    "kernelspec": {
      "name": "python3",
      "display_name": "Python 3"
    }
  },
  "cells": [
    {
      "cell_type": "markdown",
      "metadata": {
        "id": "view-in-github",
        "colab_type": "text"
      },
      "source": [
        "<a href=\"https://colab.research.google.com/github/aadityasomani/Aadi/blob/master/Lesson_63_Mathematical_Properties_of_Sequences_Aditya.ipynb\" target=\"_parent\"><img src=\"https://colab.research.google.com/assets/colab-badge.svg\" alt=\"Open In Colab\"/></a>"
      ]
    },
    {
      "cell_type": "markdown",
      "metadata": {
        "id": "0Z7PqdeHdJol"
      },
      "source": [
        "# Lesson 63: Mathematical Properties of Sequences\n"
      ]
    },
    {
      "cell_type": "markdown",
      "metadata": {
        "id": "u8yxawIEXEIj"
      },
      "source": [
        "---"
      ]
    },
    {
      "cell_type": "markdown",
      "metadata": {
        "id": "MicnOrfVdRHm"
      },
      "source": [
        "### Teacher-Student Tasks\n",
        "\n",
        "In this class, we will learn how to calculate the general term of a sequence and compute the sum of n-terms of a sequence."
      ]
    },
    {
      "cell_type": "markdown",
      "metadata": {
        "id": "WvOdkh2pdf4z"
      },
      "source": [
        "---"
      ]
    },
    {
      "cell_type": "markdown",
      "metadata": {
        "id": "nADPiykgCtG9"
      },
      "source": [
        "#### What is a Sequence?\n",
        "\n",
        "A **sequence** is something that occurs one after another.\n",
        "\n",
        "For example:\n",
        "- The rising of the sun and its setting is a sequence. \n",
        "- Planets revolve around the sun in a sequence.\n",
        "\n",
        "There are many such examples of sequences in our day-to-day life. However, we will learn sequences only  with numbers.\n",
        "\n",
        "A sequence of numbers is an **ordered list** or **set of numbers**. \n",
        "\n",
        "For example: `2, 4, 6, 8, 10, 12, 14, 16, 18,...`\n",
        "\n",
        "There are different types of number sequences. Let's investigate the following most widely used types of number sequences:\n",
        "\n",
        "1. Arithmetic Sequence.\n",
        "2. Geometric Sequence.\n",
        "3. Fibonacci Sequence.\n",
        "\n"
      ]
    },
    {
      "cell_type": "markdown",
      "metadata": {
        "id": "oajn19aWC4Nz"
      },
      "source": [
        "---"
      ]
    },
    {
      "cell_type": "markdown",
      "metadata": {
        "id": "Cqzkj1JUJ25J"
      },
      "source": [
        "#### Task 1: Finding the $n^{th}$ term of an Arithmetic Sequence\n",
        "\n",
        "An **arithmetic sequence** is a sequence in which the difference of consecutive terms is constant (also known as a **common difference**). This common difference is often denoted by $d$. Such arithmetic sequence is also known as  **Arithmetic progression**.\n",
        "\n",
        "For Example:\n",
        "\n",
        "1. Set of even numbers: `2, 4, 6, 8, 10, 12, 14, 16, 18,...`  \n",
        "2. Set of natural numbers: `1, 2, 3, 4, 5, 6, 7, 8, 9, 10, 11,...` \n",
        "\n",
        "To generate the terms of an arithmetic sequence, we keep adding the common difference $d$, to the last known term. That is if $a_1$ represents the first term and $d$ is a common difference:\n",
        "\n",
        "$$a_2 = a_1 + d$$\n",
        "$$a_3 = a_2 + d = a_1 + 2d$$\n",
        "$$a_4 = a_3 + d = a_1 + 3d$$\n",
        "\n",
        "We write the general (or $n^\\text{th}$) term of a sequence as:\n",
        "\n",
        "$$a_n = a_1 + (n - 1 ) d$$\n",
        "\n",
        "This is the formula to be used to find the general (or $n^\\text{th}$) term of an arithmetic sequence.\n",
        "\n",
        "**Example:** *Find the general (or $n^{th}$) term of the arithmetic sequence:\n",
        "2, 5, 8, 11, 14, 17, 20, 23...*\n",
        "\n",
        "\n",
        "We know that the difference between any two consecutive terms is a constant, i. e. $d$. Therefore, $d$ = 5 - 2 = 3.\n",
        "\n",
        "Placing $d$ = 3 along with the first term, $a_1$ = 2 into the general formula, we get the following:\n",
        "\n",
        "$$a_n = 2 + (n - 1) ( 3)$$\n",
        "$$a_n = 2 + 3n - 3 = 3n - 1$$\n",
        "\n",
        "**General (or $n^{th}$) term:** $a_n= 3n - 1$\n",
        "\n",
        "Suppose you want to find the $2^{nd}$ term in this series. Simply replace $n$ by 2,\n",
        "\n",
        "$$a_2= 3 \\times 2 - 1 = 5$$\n",
        "\n",
        "As you may notice the $2^{nd}$ term in the above series is indeed $5$.\n",
        "\n",
        "\n",
        "Let's write Python code that determines the $n^{th}$ term of an arithmetic sequence:\n",
        "\n",
        "\n",
        "\n",
        "\n"
      ]
    },
    {
      "cell_type": "code",
      "metadata": {
        "id": "DzhCNDH29Yow",
        "colab": {
          "base_uri": "https://localhost:8080/"
        },
        "outputId": "3ad0fda9-4d75-45aa-c05e-d80485ff4e6c"
      },
      "source": [
        "# S1.1: Code to find the nth term of an arithmetic sequence.\n",
        "a1=int(input(\"Enter First Term\"))\n",
        "a2=int(input(\"Enter Second Term\"))\n",
        "n=int(input(\"Enter nth term\"))\n",
        "\n",
        "# Apply formula: 'an = a1 + (n−1)d' to find nth term\n",
        "d=a2-a1\n",
        "print(f'{n}th Term is :{a1+(n-1)*d}')"
      ],
      "execution_count": 2,
      "outputs": [
        {
          "output_type": "stream",
          "name": "stdout",
          "text": [
            "Enter First Term5\n",
            "Enter Second Term7\n",
            "Enter nth term3\n",
            "3th Term is :9\n"
          ]
        }
      ]
    },
    {
      "cell_type": "markdown",
      "metadata": {
        "id": "sD-0vHhK0nXF"
      },
      "source": [
        "Thus, we calculated the $n^{th}$ term of an arithmetic sequence by applying the formula in Python."
      ]
    },
    {
      "cell_type": "markdown",
      "metadata": {
        "id": "8CWFQPySHqSD"
      },
      "source": [
        "---"
      ]
    },
    {
      "cell_type": "markdown",
      "metadata": {
        "id": "guV8CQGLBBms"
      },
      "source": [
        "#### Task 2: Finding $n^{th}$ Term of a Geometric Sequence\n",
        "\n",
        "\n",
        "A **geometric sequence**, also known as a **geometric progression**, is an ordered list of numbers in which each term after the first is found by multiplying the previous one by a constant called $r$, the common ratio of the two consecutive numbers.\n",
        "\n",
        "For example, the sequence 2, 6, 18, 54,...  is a geometric progression with a common ratio 3. Similarly, 10, 5, 2.5, 1.25, ... is a geometric sequence with a common ratio $1\\over2$.\n",
        "\n",
        "Given a geometric sequence with the first term $a_1$ and the common ratio $r$, the $n^{th}$ (or general) term is given by\n",
        "$$a_n=a_1 \\times r^{n−1}$$ \n",
        "\n",
        "\n",
        "**Example:** *Find the general (or $n^{th}$) term of the geometric sequence: 3, 12, 48, ...*\n",
        "\n",
        "\n",
        "We know that the common ratio $r$ is the ratio between any two adjacent numbers. Therefore, \n",
        "$$r = {12 \\over 3} = 4$$\n",
        "\n",
        "Placing $r = 4$ along with the first term, $a_1$ = 3 into the general formula, we get the following:\n",
        "\n",
        "$$a_n=3 \\times 4^{n−1}$$\n",
        "\n",
        "\n",
        "**General (or $n^{th}$) term:** $a_n=3 \\times 4^{n−1}$\n",
        "\n",
        "Suppose you want to find the $2^{nd}$ term in the above series. Simply replace $n$ by 2,\n",
        "\n",
        "The $a_2= 3 \\times 4^{2−1} = 3 \\times 4^{1} = 12$\n",
        "\n",
        "You will notice the $2^{nd}$ term in the above series is indeed $12$.\n",
        "\n",
        "\n",
        "Let's write Python code that determines the $n^{th}$ term of a geometric sequence:\n"
      ]
    },
    {
      "cell_type": "code",
      "metadata": {
        "id": "ho5m_6aGIz-j",
        "colab": {
          "base_uri": "https://localhost:8080/"
        },
        "outputId": "d039da59-6691-4007-fda9-e480e192f07f"
      },
      "source": [
        "# S2.1: Code to find the nth term of a geometric sequence.\n",
        "a1=int(input(\"Enter First Term\"))\n",
        "a2=int(input(\"Enter Second Term\"))\n",
        "n=int(input(\"Enter nth term\"))\n",
        "r=a2/a1\n",
        "# Apply formula: 'an = a1 x r^(n−1)' to find nth term\n",
        "print(f'{n}th Term is :{a1+r**(n-1)}')"
      ],
      "execution_count": 4,
      "outputs": [
        {
          "output_type": "stream",
          "name": "stdout",
          "text": [
            "Enter First Term2\n",
            "Enter Second Term4\n",
            "Enter nth term8\n",
            "8th Term is :130.0\n"
          ]
        }
      ]
    },
    {
      "cell_type": "markdown",
      "metadata": {
        "id": "N04vMEJK3PA_"
      },
      "source": [
        "Thus, we calculated the $n^{th}$ term of a geometric sequence by applying the formula in Python."
      ]
    },
    {
      "cell_type": "markdown",
      "metadata": {
        "id": "lHr-vcXzI00Z"
      },
      "source": [
        "---"
      ]
    },
    {
      "cell_type": "markdown",
      "metadata": {
        "id": "DsIaT7O7hBkM"
      },
      "source": [
        "#### Task 3: Calculating the Sum of $n$-terms of Arithmetic Sequence\n",
        "\n",
        "The sum of the terms of a sequence is called a **series**. To find the sum of the first $n$ terms of an arithmetic sequence, we use the following formula:\n",
        "\n",
        "\n",
        "\n",
        "$$S_n = \\frac{n \\times(2a_1 + (n-1)d)}{2}$$\n",
        "\n",
        "Where:\n",
        "- $a_1$: First term of the series.\n",
        "- $d$: Common difference between two consecutive numbers.\n",
        "- $n$: Number of terms in the series.\n",
        "\n",
        "**Example:**\n",
        "\n",
        "```\n",
        "Find the sum of the first 10 terms of the arithmetic series if the first term is 4 and a common difference is 3.\n",
        "```\n",
        "\n",
        "In this case:\n",
        "- $n=10$\n",
        "- $a_1=4$ \n",
        "- $d=3$\n",
        "\n",
        "$$S_{10} = \\frac{10\\times(2 \\times 4 + (10-1)\\times 3)}{2}$$\n",
        "\n",
        "$$=\\frac{10\\times(8 + 9 \\times 3)}{2}=\\frac{10\\times(8 + 27)}{2}= \\frac{350}{2}=175$$ \n",
        "\n",
        "**Sum of first 10 terms of the series** = $175$\n",
        "\n",
        "Let's write Python code to calculate the sum of the Arithmetic Progression series:\n",
        "\n"
      ]
    },
    {
      "cell_type": "code",
      "metadata": {
        "id": "4CHzDWiEcMRs",
        "colab": {
          "base_uri": "https://localhost:8080/"
        },
        "outputId": "fbc0615b-4e1b-43b0-ee78-33125f59b1a3"
      },
      "source": [
        "# S3.1: Python Program to find Sum of Arithmetic Progression Series.\n",
        "a1=int(input(\"Enter First Term\"))\n",
        "a2=int(input(\"Enter Second Term\"))\n",
        "n=int(input(\"Enter nth term\"))\n",
        "\n",
        "d=a2-a1\n",
        "print(f'Sum Of {n}th Term is :{(n*(2*a1+((n-1)*d)))/2}')\n"
      ],
      "execution_count": 9,
      "outputs": [
        {
          "output_type": "stream",
          "name": "stdout",
          "text": [
            "Enter First Term2\n",
            "Enter Second Term4\n",
            "Enter nth term3\n",
            "Sum Of 3th Term is :12.0\n"
          ]
        }
      ]
    },
    {
      "cell_type": "markdown",
      "metadata": {
        "id": "wLg5niI33VmB"
      },
      "source": [
        "Thus, in this way, we can determine the sum of an Arithmetic Progression series by applying the formula in Python."
      ]
    },
    {
      "cell_type": "markdown",
      "metadata": {
        "id": "E79h33COmBIU"
      },
      "source": [
        "---"
      ]
    },
    {
      "cell_type": "markdown",
      "metadata": {
        "id": "cVZ5-MZbT-iX"
      },
      "source": [
        "#### Task 4: Calculating the Sum of $n$-terms of Geometric Sequence\n",
        "\n",
        "To find the sum of the first $n$ terms of a geometric sequence, we use the following formula:\n",
        "\n",
        "$$S_n = \\frac{a_1 \\times (1-r^n)}{(1- r)}$$\n",
        "\n",
        "Where:\n",
        "- $a_1$: First term of the series.\n",
        "- $r$: Common ratio between two consecutive numbers. \n",
        "- $n$: Number of terms in the series.\n",
        "\n",
        "\n",
        "**Example:**\n",
        "\n",
        "```\n",
        "Find the sum of the first 3 terms of the geometric series if the first term is 1 and a common ratio is 4.\n",
        "```\n",
        "\n",
        "In this case:\n",
        "- $n=3$\n",
        "- $a_1=10$ \n",
        "- $r=3$\n",
        "\n",
        "$$S_{3} = \\frac{10 \\times (1-3^{3})}{(1- 3)}$$\n",
        "$$=\\frac{10 \\times  (1-27)}{-2}=\\frac{10 \\times (-26)}{-2}=130$$\n",
        "\n",
        "**Sum of first 3 terms of the series** = $130$\n",
        "\n",
        "\n",
        "Let's write Python code that calculates the sum of the Geometric Progression series:"
      ]
    },
    {
      "cell_type": "code",
      "metadata": {
        "id": "CBNg-FVTgYlc",
        "colab": {
          "base_uri": "https://localhost:8080/"
        },
        "outputId": "370a2f07-19d2-4fd5-bbed-7416496c7781"
      },
      "source": [
        "# S4.1: Python Program to find the sum of geometric progression series\n",
        "a1=int(input(\"Enter First Term\"))\n",
        "a2=int(input(\"Enter Second Term\"))\n",
        "n=int(input(\"Enter nth term\"))\n",
        "r=a2/a1\n",
        "# Apply formula: 'an = a1 x r^(n−1)' to find nth term\n",
        "print(f'Sum of {n} Term is :{(a1*(1-(r**n)))/(1-r)}')\n",
        "# Apply formula sum = (a * (1 - r^ n)) / (1- r)\n",
        "\n"
      ],
      "execution_count": 10,
      "outputs": [
        {
          "output_type": "stream",
          "name": "stdout",
          "text": [
            "Enter First Term3\n",
            "Enter Second Term6\n",
            "Enter nth term6\n",
            "Sum of 6 Term is :189.0\n"
          ]
        }
      ]
    },
    {
      "cell_type": "markdown",
      "metadata": {
        "id": "Oj4OOf4aktb5"
      },
      "source": [
        "Thus, in this way, we can determine the sum of a Geometric Progression series by applying the formula in Python.\n"
      ]
    },
    {
      "cell_type": "markdown",
      "metadata": {
        "id": "IQvwi5GKiv-7"
      },
      "source": [
        "---"
      ]
    },
    {
      "cell_type": "markdown",
      "metadata": {
        "id": "SwuhgFlIBOFo"
      },
      "source": [
        "#### Task 5: Calculating the $n^{th}$ Term and the Sum of $n$-terms of a Fibonacci Sequence\n",
        "\n",
        "Fibonacci sequence is a very interesting ordered arrangement of numbers where the terms are found by adding the two previous terms. \n",
        "\n",
        "It looks like this:  **0, 1, 1, 2, 3, 5, 8, 13, 21, 34, ...**\n",
        "\n",
        "  The first two terms are 0 and 1. All other terms are obtained by adding two preceding terms. This means to say the $n^{th}$ term is the sum of $(n-1)^{th}$ and $(n-2)^{th}$ term.\n",
        "\n",
        "**For example:** \n",
        "\n",
        "- The third term `1` is obtained by adding the first term `0` and the second term `1`.\n",
        "\n",
        "- Similarly, the fifth term `3` is obtained by adding the third term `1` and the fourth term `2`.\n",
        "\n",
        "- The sum of first 5 terms would be: `0 + 1 + 1 + 2 + 3 = 7`\n",
        "\n",
        "Let us calculate the $n^{th}$ term in a Fibonacci sequence and also calculate the sum of the first $n$-terms using the steps given below in Python:\n",
        "\n",
        "1. Create the following two variables which signify the first two numbers of the sequence:\n",
        "    - `first_num = 0`\n",
        "    - `second_num = 1`\n",
        "\n",
        "2. Create a variable `fibonacci_sum` to store the sum of the first $n$-terms and initialize it with `1`.\n",
        "\n",
        "3. Ask the user to enter the term they would like to find and store it in a variable `n`. Convert it into integer using `int()` function.\n",
        "\n",
        "4. Create a condition such that, if `n==1`, then print `\"The number in position 1 is: 0\"`, as the Fibonacci sequence always starts with `0`.\n",
        "\n",
        "5. Else start a `for` loop which ranges from `2` to `n`. Inside this `for` loop:\n",
        " - Create a variable `temp` which  holds the sum of the preceding two terms.\n",
        " - Assign the value of `second_num` to `first_num` and `temp` to `second_num` to change the values of the preceding two terms for the next iteration.\n",
        " - Add the value of `second_num` to `fibonacci_sum` in each iteration as follows: \n",
        "   `fibonacci_sum = fibonacci_sum + second_num`.\n",
        "\n",
        "6. Outside for loop, print the $n^{th}$ term in the following way:\n",
        "\n",
        "  `\"The number in position\", n ,\"is:\", second_num`, where `second_num` holds the $n^{th}$ term.\n",
        "\n",
        "7. Print the sum of the first $n$-terms of the Fibonacci series by printing the value of the variable `fibonacci_sum`."
      ]
    },
    {
      "cell_type": "code",
      "metadata": {
        "id": "0DnTmVWO_FGz",
        "colab": {
          "base_uri": "https://localhost:8080/"
        },
        "outputId": "7ddd0b64-9a7f-4663-ee98-26ce73402bc5"
      },
      "source": [
        "# S5.1:Python Program to find the nth term and sum of fibonacci series\n",
        "first_num = 0\n",
        "second_num = 1\n",
        "sum=1\n",
        "n=int(input(\"Enter nth terms:\"))\n",
        "if (n==1):\n",
        "    print(\"The number in position 1 is: 0\")\n",
        "else:\n",
        "    for i in range(2,n):\n",
        "        temp=first_num+second_num\n",
        "        first_num=second_num\n",
        "        second_num=temp\n",
        "        sum+=second_num\n",
        "    print(\"The number in position\", n ,\"is:\", second_num)\n",
        "    print(\"Sum of Fibonacci is :\",sum)\n",
        "        "
      ],
      "execution_count": 21,
      "outputs": [
        {
          "output_type": "stream",
          "name": "stdout",
          "text": [
            "Enter nth terms:4\n",
            "The number in position 4 is: 2\n",
            "Sum of Fibonacci is : 4\n"
          ]
        }
      ]
    },
    {
      "cell_type": "code",
      "source": [
        "def n_fibonacci(n,a1,a2):\n",
        "    if n-1==0:\n",
        "        return a1\n",
        "    else:\n",
        "        temp=a1+a2\n",
        "        a1=a2\n",
        "        return fibonacci(n-1,a1,temp)\n",
        "n_fibonacci(9,0,1)"
      ],
      "metadata": {
        "colab": {
          "base_uri": "https://localhost:8080/"
        },
        "id": "fkuOwcc28lSN",
        "outputId": "ea9c648b-4770-46e0-de25-ffe34cb1287f"
      },
      "execution_count": 29,
      "outputs": [
        {
          "output_type": "execute_result",
          "data": {
            "text/plain": [
              "21"
            ]
          },
          "metadata": {},
          "execution_count": 29
        }
      ]
    },
    {
      "cell_type": "code",
      "source": [
        "first_num = 0\n",
        "second_num = 1\n",
        "sum=1\n",
        "n=int(input(\"Enter nth terms:\"))\n",
        "if (n==1):\n",
        "    print(\"0\")\n",
        "else:\n",
        "    print(\"0\")\n",
        "    for i in range(2,n+1):\n",
        "        temp=first_num+second_num\n",
        "        first_num=second_num\n",
        "        second_num=temp\n",
        "        sum+=second_num\n",
        "        print(first_num)"
      ],
      "metadata": {
        "colab": {
          "base_uri": "https://localhost:8080/"
        },
        "id": "sZzVdKOz-kLV",
        "outputId": "b19b0671-f9d2-44a9-dfaf-dbcf5b42e585"
      },
      "execution_count": 35,
      "outputs": [
        {
          "output_type": "stream",
          "name": "stdout",
          "text": [
            "Enter nth terms:8\n",
            "0\n",
            "1\n",
            "1\n",
            "2\n",
            "3\n",
            "5\n",
            "8\n",
            "13\n"
          ]
        }
      ]
    },
    {
      "cell_type": "markdown",
      "metadata": {
        "id": "A4bbizIUPFA9"
      },
      "source": [
        "Thus, we obtained the $n^{th}$ term of a Fibonacci series and also calculated the sum of the first $n$-terms.\n",
        "\n",
        "\n",
        "Hence, in this class, we learned the types of sequence and also how to calculate the general term of a sequence and compute the sum of $n$-terms of a sequence using Python. In the next class, we will explore a linear data structure called Linked List."
      ]
    }
  ]
}