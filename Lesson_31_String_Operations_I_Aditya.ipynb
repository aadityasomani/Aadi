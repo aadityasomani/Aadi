{
  "nbformat": 4,
  "nbformat_minor": 0,
  "metadata": {
    "colab": {
      "name": " Lesson 31 - String Operations I - Aditya",
      "provenance": [],
      "collapsed_sections": [],
      "include_colab_link": true
    },
    "kernelspec": {
      "name": "python3",
      "display_name": "Python 3"
    }
  },
  "cells": [
    {
      "cell_type": "markdown",
      "metadata": {
        "id": "view-in-github",
        "colab_type": "text"
      },
      "source": [
        "<a href=\"https://colab.research.google.com/github/aadityasomani/Aadi/blob/master/Lesson_31_String_Operations_I_Aditya.ipynb\" target=\"_parent\"><img src=\"https://colab.research.google.com/assets/colab-badge.svg\" alt=\"Open In Colab\"/></a>"
      ]
    },
    {
      "cell_type": "markdown",
      "metadata": {
        "id": "ZmBmKJ7A93-o"
      },
      "source": [
        "# Lesson 31: String Operations I"
      ]
    },
    {
      "cell_type": "markdown",
      "metadata": {
        "id": "vatnmWbAh8pi"
      },
      "source": [
        "---"
      ]
    },
    {
      "cell_type": "markdown",
      "metadata": {
        "id": "I0cTgOwYT8s0"
      },
      "source": [
        "### Teacher-Student Tasks\n",
        "\n",
        "So far, we have been calling string a data type. But technically, in Python, a string is another data structure just like a list, a tuple, and a dictionary. Therefore, it means a string also stores data. Essentially, a string is an array containing some items. Any character (whether a letter, a number, or a special symbol like space, brackets, etc.) enclosed within double quotes (`\"\"`) or single quotes (`''`) is considered as a string. \n",
        "\n",
        "Since a string is a data structure, the following operations/functions applicable for lists and tuples are also applicable for strings:\n",
        "\n",
        "1. String Length\n",
        "\n",
        "2. String Indexing\n",
        "\n",
        "3. String Slicing\n",
        "\n",
        "4. Index of an Item\n",
        "\n",
        "5. String Concatenation\n",
        "\n",
        "6. The `enumerate()` Function\n",
        "\n",
        "7. The `count()` Function\n",
        "\n",
        "Let's first quickly apply the above operations/functions on strings and then learn some new concepts about them."
      ]
    },
    {
      "cell_type": "markdown",
      "metadata": {
        "id": "AxTo4CQPDPZb"
      },
      "source": [
        "---"
      ]
    },
    {
      "cell_type": "markdown",
      "metadata": {
        "id": "g5D1KJm0C5PH"
      },
      "source": [
        "#### Task 1: Common Data Structure Operations on Strings\n",
        "\n",
        "Here are the common operations or functions that can be applied to a data structure in Python.\n",
        "\n",
        "**1. String Length:** The number of items (or characters) contained in a string:"
      ]
    },
    {
      "cell_type": "code",
      "metadata": {
        "id": "uU_TcNO7TxQy",
        "colab": {
          "base_uri": "https://localhost:8080/"
        },
        "outputId": "cbefed55-2d64-4c9d-c50d-5b6a272269d8"
      },
      "source": [
        "# S1.1: Create an alphanumeric string, preferably a short sentence. Also, find its length.\n",
        "some_string=\"I am Aditya ,I'm 22 years old.\"\n",
        "print(some_string,\"Length is :\",len(some_string))"
      ],
      "execution_count": null,
      "outputs": [
        {
          "output_type": "stream",
          "name": "stdout",
          "text": [
            "I am Aditya ,I'm 22 years old. Length is : 30\n"
          ]
        }
      ]
    },
    {
      "cell_type": "markdown",
      "metadata": {
        "id": "u8WU1MYlFMZ9"
      },
      "source": [
        "**2. Indexing**: The positions occupied by the items or characters in a string.\n"
      ]
    },
    {
      "cell_type": "code",
      "metadata": {
        "id": "uYRMrXEaXe51",
        "colab": {
          "base_uri": "https://localhost:8080/"
        },
        "outputId": "1971fae9-9321-4cba-b9ab-990114d9cfc4"
      },
      "source": [
        "# S1.2: Print every item (or character) of the above string using a loop and the indexing method. Also, print the indices.\n",
        "for i in range(len(some_string)):\n",
        "    print(i,some_string[i])"
      ],
      "execution_count": null,
      "outputs": [
        {
          "output_type": "stream",
          "name": "stdout",
          "text": [
            "0 I\n",
            "1  \n",
            "2 a\n",
            "3 m\n",
            "4  \n",
            "5 A\n",
            "6 d\n",
            "7 i\n",
            "8 t\n",
            "9 y\n",
            "10 a\n",
            "11  \n",
            "12 ,\n",
            "13 I\n",
            "14 '\n",
            "15 m\n",
            "16  \n",
            "17 2\n",
            "18 2\n",
            "19  \n",
            "20 y\n",
            "21 e\n",
            "22 a\n",
            "23 r\n",
            "24 s\n",
            "25  \n",
            "26 o\n",
            "27 l\n",
            "28 d\n",
            "29 .\n"
          ]
        }
      ]
    },
    {
      "cell_type": "markdown",
      "metadata": {
        "id": "DQVtMw0aGFiD"
      },
      "source": [
        "As you can see in the above output, even the spaces occupy an index because they are also a part of the string.\n",
        "\n",
        "Let us now print the items of the above string in the reverse order without using negative indexing. "
      ]
    },
    {
      "cell_type": "code",
      "metadata": {
        "id": "nxAGqzUTGRGu",
        "colab": {
          "base_uri": "https://localhost:8080/"
        },
        "outputId": "16bfd8cd-c930-489e-a566-e53532075d8f"
      },
      "source": [
        "# Student Action: Print the items of the above string in the reverse order without using negative indexing. Also, print the indices.\n",
        "for i in range(1,len(some_string)+1):\n",
        "    print(len(some_string)-i,some_string[len(some_string)-i])"
      ],
      "execution_count": null,
      "outputs": [
        {
          "output_type": "stream",
          "name": "stdout",
          "text": [
            "29 .\n",
            "28 d\n",
            "27 l\n",
            "26 o\n",
            "25  \n",
            "24 s\n",
            "23 r\n",
            "22 a\n",
            "21 e\n",
            "20 y\n",
            "19  \n",
            "18 2\n",
            "17 2\n",
            "16  \n",
            "15 m\n",
            "14 '\n",
            "13 I\n",
            "12 ,\n",
            "11  \n",
            "10 a\n",
            "9 y\n",
            "8 t\n",
            "7 i\n",
            "6 d\n",
            "5 A\n",
            "4  \n",
            "3 m\n",
            "2 a\n",
            "1  \n",
            "0 I\n"
          ]
        }
      ]
    },
    {
      "cell_type": "code",
      "metadata": {
        "id": "yNQHfLnZHmX_",
        "colab": {
          "base_uri": "https://localhost:8080/"
        },
        "outputId": "53ecc3be-e07f-44ae-ed14-9f0cba6e2452"
      },
      "source": [
        "# S1.3: Print the items of the above string using negative indexing. Also, print the indices.\n",
        "for i in range(-len(some_string),0):\n",
        "    print(i,some_string[i])\n"
      ],
      "execution_count": null,
      "outputs": [
        {
          "output_type": "stream",
          "name": "stdout",
          "text": [
            "-30 I\n",
            "-29  \n",
            "-28 a\n",
            "-27 m\n",
            "-26  \n",
            "-25 A\n",
            "-24 d\n",
            "-23 i\n",
            "-22 t\n",
            "-21 y\n",
            "-20 a\n",
            "-19  \n",
            "-18 ,\n",
            "-17 I\n",
            "-16 '\n",
            "-15 m\n",
            "-14  \n",
            "-13 2\n",
            "-12 2\n",
            "-11  \n",
            "-10 y\n",
            "-9 e\n",
            "-8 a\n",
            "-7 r\n",
            "-6 s\n",
            "-5  \n",
            "-4 o\n",
            "-3 l\n",
            "-2 d\n",
            "-1 .\n"
          ]
        }
      ]
    },
    {
      "cell_type": "markdown",
      "metadata": {
        "id": "FJnZY6yTIh2e"
      },
      "source": [
        "**3. String Slicing:** A small part of string sliced out from the original string:"
      ]
    },
    {
      "cell_type": "code",
      "metadata": {
        "id": "_u4_5mr_IeLf",
        "colab": {
          "base_uri": "https://localhost:8080/",
          "height": 35
        },
        "outputId": "21ad8e9b-01ca-4f85-a9d0-a78a53283b81"
      },
      "source": [
        "# S1.4: Get the first 5 characters (or items) of the above string.\n",
        "some_string[:5]"
      ],
      "execution_count": null,
      "outputs": [
        {
          "output_type": "execute_result",
          "data": {
            "application/vnd.google.colaboratory.intrinsic+json": {
              "type": "string"
            },
            "text/plain": [
              "'I am '"
            ]
          },
          "metadata": {},
          "execution_count": 5
        }
      ]
    },
    {
      "cell_type": "code",
      "metadata": {
        "id": "CXiH4PSFIzzE",
        "colab": {
          "base_uri": "https://localhost:8080/",
          "height": 35
        },
        "outputId": "e868501f-d5a8-4570-fa4b-a1a2ea8088f9"
      },
      "source": [
        "# S1.5: Get the first 5 characters (or items) of the above string in the reverse order.\n",
        "some_string[4::-1]"
      ],
      "execution_count": null,
      "outputs": [
        {
          "output_type": "execute_result",
          "data": {
            "application/vnd.google.colaboratory.intrinsic+json": {
              "type": "string"
            },
            "text/plain": [
              "' ma I'"
            ]
          },
          "metadata": {},
          "execution_count": 7
        }
      ]
    },
    {
      "cell_type": "code",
      "metadata": {
        "id": "NUIt-yWBJhjT",
        "colab": {
          "base_uri": "https://localhost:8080/",
          "height": 35
        },
        "outputId": "a8b7b6ae-42e4-473a-8c5e-18c6659091c2"
      },
      "source": [
        "# S1.6: Get all the characters (or items) of the above string in the reverse order.\n",
        "some_string[::-1]"
      ],
      "execution_count": null,
      "outputs": [
        {
          "output_type": "execute_result",
          "data": {
            "application/vnd.google.colaboratory.intrinsic+json": {
              "type": "string"
            },
            "text/plain": [
              "\".dlo sraey 22 m'I, aytidA ma I\""
            ]
          },
          "metadata": {},
          "execution_count": 8
        }
      ]
    },
    {
      "cell_type": "markdown",
      "metadata": {
        "id": "awt5qmUzKBNP"
      },
      "source": [
        "You cannot change/replace the items of a string using the index method. For that, we have to use the `replace()` function which we will learn shortly."
      ]
    },
    {
      "cell_type": "code",
      "metadata": {
        "id": "3-nJOCEmK5W9",
        "colab": {
          "base_uri": "https://localhost:8080/",
          "height": 200
        },
        "outputId": "5622b3bb-7f72-44f2-926f-b08b73e27fed"
      },
      "source": [
        "# S1.7: Try to replace the item at index = 3 with 'W'. You should get 'TypeError' because the 'str' object does not support item assignment.\n",
        "some_string[3]='W'\n",
        "some_string"
      ],
      "execution_count": null,
      "outputs": [
        {
          "output_type": "error",
          "ename": "TypeError",
          "evalue": "ignored",
          "traceback": [
            "\u001b[0;31m---------------------------------------------------------------------------\u001b[0m",
            "\u001b[0;31mTypeError\u001b[0m                                 Traceback (most recent call last)",
            "\u001b[0;32m<ipython-input-9-9f9da4184670>\u001b[0m in \u001b[0;36m<module>\u001b[0;34m()\u001b[0m\n\u001b[1;32m      1\u001b[0m \u001b[0;31m# S1.7: Try to replace the item at index = 3 with 'W'. You should get 'TypeError' because the 'str' object does not support item assignment.\u001b[0m\u001b[0;34m\u001b[0m\u001b[0;34m\u001b[0m\u001b[0;34m\u001b[0m\u001b[0m\n\u001b[0;32m----> 2\u001b[0;31m \u001b[0msome_string\u001b[0m\u001b[0;34m[\u001b[0m\u001b[0;36m3\u001b[0m\u001b[0;34m]\u001b[0m\u001b[0;34m=\u001b[0m\u001b[0;34m'W'\u001b[0m\u001b[0;34m\u001b[0m\u001b[0;34m\u001b[0m\u001b[0m\n\u001b[0m\u001b[1;32m      3\u001b[0m \u001b[0msome_string\u001b[0m\u001b[0;34m\u001b[0m\u001b[0;34m\u001b[0m\u001b[0m\n",
            "\u001b[0;31mTypeError\u001b[0m: 'str' object does not support item assignment"
          ]
        }
      ]
    },
    {
      "cell_type": "markdown",
      "metadata": {
        "id": "QqqNuxL-rO30"
      },
      "source": [
        "From the above output, you may observe that the index method cannot be used to replace items in a string."
      ]
    },
    {
      "cell_type": "markdown",
      "metadata": {
        "id": "zvzKPHe9LgqO"
      },
      "source": [
        "**4. String Index:** The `index()` function returns the index at which the item is located. In the case of the repeated item, it returns the index at which it appears the first time in the string. The same is true in the case of a list and a tuple."
      ]
    },
    {
      "cell_type": "code",
      "metadata": {
        "id": "uD5Ld2S3LxHm",
        "colab": {
          "base_uri": "https://localhost:8080/"
        },
        "outputId": "362d636f-fe74-41a5-d47e-71b6dfcee760"
      },
      "source": [
        "# S1.8: Get the index of any item in the string that you created.\n",
        "some_string.index('A')"
      ],
      "execution_count": null,
      "outputs": [
        {
          "output_type": "execute_result",
          "data": {
            "text/plain": [
              "5"
            ]
          },
          "metadata": {},
          "execution_count": 10
        }
      ]
    },
    {
      "cell_type": "markdown",
      "metadata": {
        "id": "oNa1cgFTNMXi"
      },
      "source": [
        "**5. String Concatenation:** The process of joining two or more strings to get one string using the `+` operator is called string concatenation. \n",
        "\n",
        "**Note:** Before the string concatenation operation, you need to ensure that the objects to be concatenated are all strings. If a data type that needs to be concatenated is not a string then, you first need to convert it into a string using the `str()` function."
      ]
    },
    {
      "cell_type": "code",
      "metadata": {
        "id": "MFk2vzm0OuvK",
        "colab": {
          "base_uri": "https://localhost:8080/",
          "height": 35
        },
        "outputId": "b927161c-d10a-4050-a689-a63836c834f1"
      },
      "source": [
        "# S1.9: Concatenate the following objects to get the \"Jupiter has 79 known moons.\"\n",
        "planet=\"Jupiter\"\n",
        "moons=79\n",
        "sentance=planet+' has '+str(moons)+\" known moons.\"\n",
        "sentance"
      ],
      "execution_count": null,
      "outputs": [
        {
          "output_type": "execute_result",
          "data": {
            "application/vnd.google.colaboratory.intrinsic+json": {
              "type": "string"
            },
            "text/plain": [
              "'Jupiter has 79 known moons.'"
            ]
          },
          "metadata": {},
          "execution_count": 12
        }
      ]
    },
    {
      "cell_type": "markdown",
      "metadata": {
        "id": "eQ2Hn1sefX6t"
      },
      "source": [
        "**6. The `enumerate()` Function**: It pairs the item in a string with its roll call and returns a collection of tuples."
      ]
    },
    {
      "cell_type": "code",
      "metadata": {
        "id": "cbB4VwB2gEjh",
        "colab": {
          "base_uri": "https://localhost:8080/"
        },
        "outputId": "9519c23e-0592-4332-b5bc-2dd64df22798"
      },
      "source": [
        "# S1.10: Apply the 'enumerate()' function on above string thrice: On top of it apply the 'list()', 'dict()' &  'tuple()' functions.\n",
        "# Store all of three of them in different variables.\n",
        "enum_list=list(enumerate(sentance))\n",
        "enum_dict=dict(enumerate(sentance))\n",
        "enum_tuple=tuple(enumerate(sentance))\n",
        "print(\"List :\",enum_list,\"\\nDict: \",enum_dict,\"\\ntuple: \",enum_tuple)"
      ],
      "execution_count": null,
      "outputs": [
        {
          "output_type": "stream",
          "name": "stdout",
          "text": [
            "List : [(0, 'J'), (1, 'u'), (2, 'p'), (3, 'i'), (4, 't'), (5, 'e'), (6, 'r'), (7, ' '), (8, 'h'), (9, 'a'), (10, 's'), (11, ' '), (12, '7'), (13, '9'), (14, ' '), (15, 'k'), (16, 'n'), (17, 'o'), (18, 'w'), (19, 'n'), (20, ' '), (21, 'm'), (22, 'o'), (23, 'o'), (24, 'n'), (25, 's'), (26, '.')] \n",
            "Dict:  {0: 'J', 1: 'u', 2: 'p', 3: 'i', 4: 't', 5: 'e', 6: 'r', 7: ' ', 8: 'h', 9: 'a', 10: 's', 11: ' ', 12: '7', 13: '9', 14: ' ', 15: 'k', 16: 'n', 17: 'o', 18: 'w', 19: 'n', 20: ' ', 21: 'm', 22: 'o', 23: 'o', 24: 'n', 25: 's', 26: '.'} \n",
            "tuple:  ((0, 'J'), (1, 'u'), (2, 'p'), (3, 'i'), (4, 't'), (5, 'e'), (6, 'r'), (7, ' '), (8, 'h'), (9, 'a'), (10, 's'), (11, ' '), (12, '7'), (13, '9'), (14, ' '), (15, 'k'), (16, 'n'), (17, 'o'), (18, 'w'), (19, 'n'), (20, ' '), (21, 'm'), (22, 'o'), (23, 'o'), (24, 'n'), (25, 's'), (26, '.'))\n"
          ]
        }
      ]
    },
    {
      "cell_type": "markdown",
      "metadata": {
        "id": "47fwac30rP7R"
      },
      "source": [
        "**7. The `count()` Function:** It returns the number of times an item (or a character) appears in a string.  "
      ]
    },
    {
      "cell_type": "code",
      "metadata": {
        "id": "u6jwT9VEq0cW",
        "colab": {
          "base_uri": "https://localhost:8080/"
        },
        "outputId": "7940cded-2e77-4c9f-8909-7fb34315ebd9"
      },
      "source": [
        "# S1.11: Count the number of spaces in the above string.\n",
        "sentance.count(\" \")"
      ],
      "execution_count": null,
      "outputs": [
        {
          "output_type": "execute_result",
          "data": {
            "text/plain": [
              "4"
            ]
          },
          "metadata": {},
          "execution_count": 15
        }
      ]
    },
    {
      "cell_type": "markdown",
      "metadata": {
        "id": "V5c--rHQrvis"
      },
      "source": [
        "Thus, we learned how certain functions which are common to almost every data structure like lists, tuples, dictionaries, etc. can be applied to strings in Python."
      ]
    },
    {
      "cell_type": "markdown",
      "metadata": {
        "id": "Q42qBPhNVMjz"
      },
      "source": [
        "---"
      ]
    },
    {
      "cell_type": "markdown",
      "metadata": {
        "id": "ThWR9mIBVOX1"
      },
      "source": [
        "#### Task 2: Empty String and Multiline String\n",
        "\n",
        "A string that has no item (or character) is called an **empty string**. It can be created by either using single quotes or double quotes without enclosing anything between them. Not even space."
      ]
    },
    {
      "cell_type": "code",
      "metadata": {
        "id": "o-_NmJhSVkNN",
        "colab": {
          "base_uri": "https://localhost:8080/"
        },
        "outputId": "d6a5a53d-78a9-4ff5-d797-e98d0c398dd3"
      },
      "source": [
        "# S2.1: Create an empty string. Print the string and also print its length.\n",
        "string=\"\"\n",
        "print(len(string))"
      ],
      "execution_count": null,
      "outputs": [
        {
          "output_type": "stream",
          "name": "stdout",
          "text": [
            "0\n"
          ]
        }
      ]
    },
    {
      "cell_type": "markdown",
      "metadata": {
        "id": "jnZrU2FXkB9D"
      },
      "source": [
        "You may require to write a very long string in multiple lines in a code cell. Such a string is called a multiline string. To create a multiline string, use three single quotes (`''' '''`) or three double quotes (`\"\"\" \"\"\"`).\n",
        "\n",
        "Here's one of the wonderful poems by Nobel Prize Winner Dr Rabindranath Tagore from this collection called Gitanjali.\n",
        "\n",
        "```\n",
        "Where the mind is without fear\n",
        "and the head is held high,\n",
        "where knowledge is free.\n",
        "Where the world has not been broken up into fragments, \n",
        "by narrow domestic walls.\n",
        "Where words come out from the depth of truth,\n",
        "where tireless striving stretches its arms toward perfection.\n",
        "Where the clear stream of reason has not lost its way\n",
        "into the dreary desert sand of dead habit.\n",
        "Where the mind is led forward by thee\n",
        "into ever widening thought and action.\n",
        "In to that heaven of freedom, my father,\n",
        "LET MY COUNTRY AWAKE!\n",
        "```\n",
        "\n",
        "The above poem has 13 lines. If we want to print it as a string in the following code cell, then we will have to create it as a multiline string."
      ]
    },
    {
      "cell_type": "code",
      "metadata": {
        "id": "hJlxpFfmmN7-",
        "colab": {
          "base_uri": "https://localhost:8080/"
        },
        "outputId": "341fb077-206b-44c3-fd3d-a11e25b47135"
      },
      "source": [
        "# S2.2: Create the multiline string for the above poem and print it using the 'print()' function.\n",
        "poem=\"\"\"Where the mind is without fear\n",
        "and the head is held high,\n",
        "where knowledge is free.\n",
        "Where the world has not been broken up into fragments, \n",
        "by narrow domestic walls.\n",
        "Where words come out from the depth of truth,\n",
        "where tireless striving stretches its arms toward perfection.\n",
        "Where the clear stream of reason has not lost its way\n",
        "into the dreary desert sand of dead habit.\n",
        "Where the mind is led forward by thee\n",
        "into ever widening thought and action.\n",
        "In to that heaven of freedom, my father,\n",
        "LET MY COUNTRY AWAKE!\"\"\"\n",
        "print(poem)"
      ],
      "execution_count": null,
      "outputs": [
        {
          "output_type": "stream",
          "name": "stdout",
          "text": [
            "Where the mind is without fear\n",
            "and the head is held high,\n",
            "where knowledge is free.\n",
            "Where the world has not been broken up into fragments, \n",
            "by narrow domestic walls.\n",
            "Where words come out from the depth of truth,\n",
            "where tireless striving stretches its arms toward perfection.\n",
            "Where the clear stream of reason has not lost its way\n",
            "into the dreary desert sand of dead habit.\n",
            "Where the mind is led forward by thee\n",
            "into ever widening thought and action.\n",
            "In to that heaven of freedom, my father,\n",
            "LET MY COUNTRY AWAKE!\n"
          ]
        }
      ]
    },
    {
      "cell_type": "markdown",
      "metadata": {
        "id": "6igTWqxBmo7s"
      },
      "source": [
        "The way you indent a multiline string is a way it gets printed in the output.\n",
        "\n",
        "Try to create the above string with either single quotes and double quotes. You should get an error."
      ]
    },
    {
      "cell_type": "code",
      "metadata": {
        "id": "MTCL0R8Kmwm9"
      },
      "source": [
        "# S2.3: Create the multiline string for the above poem and print it using the 'print()' function.\n"
      ],
      "execution_count": null,
      "outputs": []
    },
    {
      "cell_type": "markdown",
      "metadata": {
        "id": "GXptAYrIsXzG"
      },
      "source": [
        "As you can see, you will get error if you use only one double quotes to print multiline string. Hence, we need to use three double quotes or three single quotes to print multiline string."
      ]
    },
    {
      "cell_type": "markdown",
      "metadata": {
        "id": "XV9GyuzxaRxk"
      },
      "source": [
        "---"
      ]
    },
    {
      "cell_type": "markdown",
      "metadata": {
        "id": "mZ4NjAtWsSMG"
      },
      "source": [
        "#### Task 3: Repetition\n",
        "\n",
        "You can repeat a string several times by using the `*` operator. Using this concept you can create many incredible patterns such as a triangle, a rectangle, a square, etc.\n",
        "\n",
        "Let's learn this concept by creating the following triangle:\n",
        "\n",
        "```\n",
        "#\n",
        "##\n",
        "###\n",
        "####\n",
        "#####\n",
        "```\n",
        "\n",
        "Here, the `#` string appears only once in the first line, twice in the second line, thrice in the third line, four times in the fourth line, and five times in the fifth line:"
      ]
    },
    {
      "cell_type": "code",
      "metadata": {
        "id": "JfepSinHstil",
        "colab": {
          "base_uri": "https://localhost:8080/"
        },
        "outputId": "468c7241-a0a4-4976-bda1-801c1219d3e7"
      },
      "source": [
        "# S3.1: Create the above triangle.\n",
        "for i in range(1,6):\n",
        "    print(\"#\"*i)"
      ],
      "execution_count": null,
      "outputs": [
        {
          "output_type": "stream",
          "name": "stdout",
          "text": [
            "#\n",
            "##\n",
            "###\n",
            "####\n",
            "#####\n"
          ]
        }
      ]
    },
    {
      "cell_type": "markdown",
      "metadata": {
        "id": "5OiQmtuLtaT2"
      },
      "source": [
        "In the above code:\n",
        "\n",
        "- The value of `i` goes from 1 to 5.\n",
        "\n",
        "- `i = 1`, repeats the `'#'` string only once because of `'#' * 1`.\n",
        "\n",
        "- `i = 2`, repeats the `'#'` string twice because of `'#' * 2`.\n",
        "\n",
        "- `i = 3`, repeats the `'#'` string thrice because of `'#' * 3`.\n",
        "\n",
        "- `i = 4`, repeats the `'#'` string four times because of `'#' * 4`.\n",
        "\n",
        "- `i = 5`, repeats the `'#'` string five times because of `'#' * 5`.\n",
        "\n",
        "Now, you create the following triangle. It is a mirror image of the above triangle:\n",
        "\n",
        "```\n",
        "    #\n",
        "   ##\n",
        "  ###\n",
        " ####\n",
        "#####\n",
        "```\n"
      ]
    },
    {
      "cell_type": "code",
      "metadata": {
        "id": "wrCs3k3ZvhLT",
        "colab": {
          "base_uri": "https://localhost:8080/"
        },
        "outputId": "ad12c9f7-9335-4509-9f32-1e0213a72889"
      },
      "source": [
        "# S3.2: Create the above triangle.\n",
        "for i in range(1,6):\n",
        "    print(\" \"*(5-i)+\"#\"*i)"
      ],
      "execution_count": null,
      "outputs": [
        {
          "output_type": "stream",
          "name": "stdout",
          "text": [
            "    #\n",
            "   ##\n",
            "  ###\n",
            " ####\n",
            "#####\n"
          ]
        }
      ]
    },
    {
      "cell_type": "markdown",
      "metadata": {
        "id": "FMhzOap-x8IM"
      },
      "source": [
        "In the above code:\n",
        "\n",
        "- The value of `i` goes from 1 to 5.\n",
        "\n",
        "- `i = 1`, repeats the space `' '` four times because of `' ' * (5 - 1)` and the `'#'` string only once because of `'#' * 1`.\n",
        "\n",
        "- `i = 2`, repeats the space `' '` thrice because of `' ' * (5 - 2)` and the `'#'` string twice because of `'#' * 2`.\n",
        "\n",
        "- `i = 3`, repeats the space `' '` twice because of `' ' * (5 - 3)` and the `'#'` string thrice because of `'#' * 3`.\n",
        "\n",
        "- `i = 4`, repeats the space `' '` only once because of `' ' * (5 - 4)` and the `'#'` string four times because of `'#' * 4`.\n",
        "\n",
        "- `i = 5`, repeats the space `' '` zero times because of `' ' * (5 - 5)` and the `'#'` string five times because of `'#' * 5`.\n",
        "\n",
        "\n",
        "Similarly, you can create many more such patterns.\n",
        "\n",
        "**Note:** Similarly, you can also repeat the times contained in a list and in a tuple multiple times using the `*` operator."
      ]
    },
    {
      "cell_type": "code",
      "metadata": {
        "id": "DNX97jn-St3h",
        "colab": {
          "base_uri": "https://localhost:8080/"
        },
        "outputId": "67677369-9100-4f15-944d-0aa7ee6c8fa3"
      },
      "source": [
        "# S3.3: Create a list containing three items and repeat them twice.\n",
        "list1=[1,2,3]\n",
        "list1*2"
      ],
      "execution_count": null,
      "outputs": [
        {
          "output_type": "execute_result",
          "data": {
            "text/plain": [
              "[1, 2, 3, 1, 2, 3]"
            ]
          },
          "metadata": {},
          "execution_count": 23
        }
      ]
    },
    {
      "cell_type": "code",
      "metadata": {
        "id": "bK7ovlG1SJ-w",
        "colab": {
          "base_uri": "https://localhost:8080/"
        },
        "outputId": "3d7b28cf-3a3e-49d2-d544-b3706d0e993d"
      },
      "source": [
        "# S3.4: Create a tuple containing three items and repeat them four times.\n",
        "tuple1=(1,2,3,4)\n",
        "tuple1*4"
      ],
      "execution_count": null,
      "outputs": [
        {
          "output_type": "execute_result",
          "data": {
            "text/plain": [
              "(1, 2, 3, 4, 1, 2, 3, 4, 1, 2, 3, 4, 1, 2, 3, 4)"
            ]
          },
          "metadata": {},
          "execution_count": 24
        }
      ]
    },
    {
      "cell_type": "markdown",
      "metadata": {
        "id": "Sv-EWVbhs9eH"
      },
      "source": [
        "Hence, the `*` operator can be used with lists, tuples as well as strings to repeat the items contained in them."
      ]
    },
    {
      "cell_type": "markdown",
      "metadata": {
        "id": "0OMi1V9osRiW"
      },
      "source": [
        "---"
      ]
    },
    {
      "cell_type": "markdown",
      "metadata": {
        "id": "uSbF9A2m8Hm4"
      },
      "source": [
        "#### Task 4: The `format()` Function\n",
        "\n",
        "This function is our best friend when it comes to formatting a string. Why?\n",
        "\n",
        "Recall that in the case of the string concatenation, we have to use the `+` operator several times to get one string. Additionally, you have to beware of spaces and also have to convert a non-string data type object to a string before concatenation. This is such a big hassle if too many strings are to be concatenated.\n",
        "\n",
        "Similarly, while printing the values of multiple entities using the `print()` function, you have to separate them with commas. Again quite a handful of  tasks especially in the case of long strings.\n",
        "\n",
        "The `format()` function doesn't require that much effort to generate a clean string. It allows you to create one long string with proper punctuation and plug in the required values at the respective places in the long string.\n",
        "\n",
        "Let's learn this function with the help of an example. We have a dummy CSV containing the data of the 20 professional marathon runners (men's category) who participated in the **Mumbai Marathon (TMM)** 2020.\n",
        "\n",
        "Our task is to create a certificate for each runner using the `format()` function. The certificate should read the following:\n",
        "\n",
        "```\n",
        "Mumbai Marathon 2020\n",
        "\n",
        "      CONGRATULATIONS\n",
        "\n",
        "This is to certify that JOHN DERA                     \n",
        "BIB No. 22\n",
        "officially completed the marathon \n",
        "(distance 42.2 km) \n",
        "in the men's category \n",
        "with a finish time of 2:08:09 \n",
        "and rank 1.                   \n",
        "--------------------------------------------------\n",
        "```\n",
        "\n",
        "Here's the link to the CSV file containing data for each runner:\n",
        "\n",
        "\n",
        "https://s3-whjr-curriculum-uploads.whjr.online/0da95234-a814-4957-b949-38d4b7754a94.csv\n",
        "\n",
        "**Note:** This is a dummy dataset used for the sole purpose of understanding the concept. \n",
        "\n",
        "\n",
        "**How to approach this task?**\n",
        "\n",
        "1. Create a Pandas DataFrame for the MM 2020 professional runners (men's category).\n",
        "\n",
        "2. Create the following string with curly brackets as placeholders:\n",
        "\n",
        "  ```\n",
        "  Mumbai Marathon 2020\n",
        "\n",
        "        CONGRATULATIONS\n",
        "\n",
        "  This is to certify that {}                    \n",
        "  BIB No. {}\n",
        "  officially completed the marathon \n",
        "  (distance 42.2 km) \n",
        "  in the men's category \n",
        "  with a finish time of {} \n",
        "  and rank {}.                   \n",
        "  {}\n",
        "  ```\n",
        "\n",
        "3. Iterate through each row of the DataFrame created in the first step to get the name, BIB number, race finish time, and rank of a runner.\n",
        "\n",
        "4. Fill the values in the placeholders (or curly brackets) using the `format()` function such that,\n",
        "\n",
        "      - The name of a runner goes to the first placeholder.\n",
        "\n",
        "      - The BIB number of a runner goes to the second placeholder.\n",
        "\n",
        "      - The race finish time of a runner goes to the third placeholder.\n",
        "\n",
        "      - The rank of a runner goes to the fifth placeholder.\n",
        "\n",
        "      - The 50 repetitions of the hyphen symbol goes to the last placeholder.\n",
        "\n",
        "5. Print the prescribed certificate for each runner.\n",
        "\n",
        "Steps 3, 4, and 5 are part of the same iteration."
      ]
    },
    {
      "cell_type": "code",
      "metadata": {
        "id": "VNq8Xc7E3X39",
        "colab": {
          "base_uri": "https://localhost:8080/",
          "height": 206
        },
        "outputId": "03b111e3-3a6d-48bb-cdd2-3f7de4a2d04c"
      },
      "source": [
        "# S4.1: Create a Pandas DataFrame for the TMM 2020 runners.\n",
        "import pandas as pd\n",
        "df=pd.read_csv(\"https://s3-whjr-curriculum-uploads.whjr.online/0da95234-a814-4957-b949-38d4b7754a94.csv\")\n",
        "df.head()"
      ],
      "execution_count": null,
      "outputs": [
        {
          "output_type": "execute_result",
          "data": {
            "text/html": [
              "\n",
              "  <div id=\"df-bab48ed1-3ec8-496a-8e92-54612e822c20\">\n",
              "    <div class=\"colab-df-container\">\n",
              "      <div>\n",
              "<style scoped>\n",
              "    .dataframe tbody tr th:only-of-type {\n",
              "        vertical-align: middle;\n",
              "    }\n",
              "\n",
              "    .dataframe tbody tr th {\n",
              "        vertical-align: top;\n",
              "    }\n",
              "\n",
              "    .dataframe thead th {\n",
              "        text-align: right;\n",
              "    }\n",
              "</style>\n",
              "<table border=\"1\" class=\"dataframe\">\n",
              "  <thead>\n",
              "    <tr style=\"text-align: right;\">\n",
              "      <th></th>\n",
              "      <th>Finish Position</th>\n",
              "      <th>BIB</th>\n",
              "      <th>NAME</th>\n",
              "      <th>NATIONALITY</th>\n",
              "      <th>Net Finish Time</th>\n",
              "    </tr>\n",
              "  </thead>\n",
              "  <tbody>\n",
              "    <tr>\n",
              "      <th>0</th>\n",
              "      <td>1</td>\n",
              "      <td>22</td>\n",
              "      <td>JOHN DERA</td>\n",
              "      <td>UGA</td>\n",
              "      <td>02:08:09</td>\n",
              "    </tr>\n",
              "    <tr>\n",
              "      <th>1</th>\n",
              "      <td>2</td>\n",
              "      <td>3</td>\n",
              "      <td>JAMES GREYSON</td>\n",
              "      <td>ETH</td>\n",
              "      <td>02:08:20</td>\n",
              "    </tr>\n",
              "    <tr>\n",
              "      <th>2</th>\n",
              "      <td>3</td>\n",
              "      <td>9</td>\n",
              "      <td>CARTER JACK</td>\n",
              "      <td>ETH</td>\n",
              "      <td>02:08:26</td>\n",
              "    </tr>\n",
              "    <tr>\n",
              "      <th>3</th>\n",
              "      <td>4</td>\n",
              "      <td>15</td>\n",
              "      <td>SHOEB SYED</td>\n",
              "      <td>UGA</td>\n",
              "      <td>02:08:41</td>\n",
              "    </tr>\n",
              "    <tr>\n",
              "      <th>4</th>\n",
              "      <td>5</td>\n",
              "      <td>20</td>\n",
              "      <td>SHER SINGH</td>\n",
              "      <td>IND</td>\n",
              "      <td>02:08:56</td>\n",
              "    </tr>\n",
              "  </tbody>\n",
              "</table>\n",
              "</div>\n",
              "      <button class=\"colab-df-convert\" onclick=\"convertToInteractive('df-bab48ed1-3ec8-496a-8e92-54612e822c20')\"\n",
              "              title=\"Convert this dataframe to an interactive table.\"\n",
              "              style=\"display:none;\">\n",
              "        \n",
              "  <svg xmlns=\"http://www.w3.org/2000/svg\" height=\"24px\"viewBox=\"0 0 24 24\"\n",
              "       width=\"24px\">\n",
              "    <path d=\"M0 0h24v24H0V0z\" fill=\"none\"/>\n",
              "    <path d=\"M18.56 5.44l.94 2.06.94-2.06 2.06-.94-2.06-.94-.94-2.06-.94 2.06-2.06.94zm-11 1L8.5 8.5l.94-2.06 2.06-.94-2.06-.94L8.5 2.5l-.94 2.06-2.06.94zm10 10l.94 2.06.94-2.06 2.06-.94-2.06-.94-.94-2.06-.94 2.06-2.06.94z\"/><path d=\"M17.41 7.96l-1.37-1.37c-.4-.4-.92-.59-1.43-.59-.52 0-1.04.2-1.43.59L10.3 9.45l-7.72 7.72c-.78.78-.78 2.05 0 2.83L4 21.41c.39.39.9.59 1.41.59.51 0 1.02-.2 1.41-.59l7.78-7.78 2.81-2.81c.8-.78.8-2.07 0-2.86zM5.41 20L4 18.59l7.72-7.72 1.47 1.35L5.41 20z\"/>\n",
              "  </svg>\n",
              "      </button>\n",
              "      \n",
              "  <style>\n",
              "    .colab-df-container {\n",
              "      display:flex;\n",
              "      flex-wrap:wrap;\n",
              "      gap: 12px;\n",
              "    }\n",
              "\n",
              "    .colab-df-convert {\n",
              "      background-color: #E8F0FE;\n",
              "      border: none;\n",
              "      border-radius: 50%;\n",
              "      cursor: pointer;\n",
              "      display: none;\n",
              "      fill: #1967D2;\n",
              "      height: 32px;\n",
              "      padding: 0 0 0 0;\n",
              "      width: 32px;\n",
              "    }\n",
              "\n",
              "    .colab-df-convert:hover {\n",
              "      background-color: #E2EBFA;\n",
              "      box-shadow: 0px 1px 2px rgba(60, 64, 67, 0.3), 0px 1px 3px 1px rgba(60, 64, 67, 0.15);\n",
              "      fill: #174EA6;\n",
              "    }\n",
              "\n",
              "    [theme=dark] .colab-df-convert {\n",
              "      background-color: #3B4455;\n",
              "      fill: #D2E3FC;\n",
              "    }\n",
              "\n",
              "    [theme=dark] .colab-df-convert:hover {\n",
              "      background-color: #434B5C;\n",
              "      box-shadow: 0px 1px 3px 1px rgba(0, 0, 0, 0.15);\n",
              "      filter: drop-shadow(0px 1px 2px rgba(0, 0, 0, 0.3));\n",
              "      fill: #FFFFFF;\n",
              "    }\n",
              "  </style>\n",
              "\n",
              "      <script>\n",
              "        const buttonEl =\n",
              "          document.querySelector('#df-bab48ed1-3ec8-496a-8e92-54612e822c20 button.colab-df-convert');\n",
              "        buttonEl.style.display =\n",
              "          google.colab.kernel.accessAllowed ? 'block' : 'none';\n",
              "\n",
              "        async function convertToInteractive(key) {\n",
              "          const element = document.querySelector('#df-bab48ed1-3ec8-496a-8e92-54612e822c20');\n",
              "          const dataTable =\n",
              "            await google.colab.kernel.invokeFunction('convertToInteractive',\n",
              "                                                     [key], {});\n",
              "          if (!dataTable) return;\n",
              "\n",
              "          const docLinkHtml = 'Like what you see? Visit the ' +\n",
              "            '<a target=\"_blank\" href=https://colab.research.google.com/notebooks/data_table.ipynb>data table notebook</a>'\n",
              "            + ' to learn more about interactive tables.';\n",
              "          element.innerHTML = '';\n",
              "          dataTable['output_type'] = 'display_data';\n",
              "          await google.colab.output.renderOutput(dataTable, element);\n",
              "          const docLink = document.createElement('div');\n",
              "          docLink.innerHTML = docLinkHtml;\n",
              "          element.appendChild(docLink);\n",
              "        }\n",
              "      </script>\n",
              "    </div>\n",
              "  </div>\n",
              "  "
            ],
            "text/plain": [
              "   Finish Position  BIB           NAME NATIONALITY Net Finish Time\n",
              "0                1   22      JOHN DERA         UGA        02:08:09\n",
              "1                2    3  JAMES GREYSON         ETH        02:08:20\n",
              "2                3    9    CARTER JACK         ETH        02:08:26\n",
              "3                4   15     SHOEB SYED         UGA        02:08:41\n",
              "4                5   20     SHER SINGH         IND        02:08:56"
            ]
          },
          "metadata": {},
          "execution_count": 26
        }
      ]
    },
    {
      "cell_type": "markdown",
      "metadata": {
        "id": "LH7PYgKn7FAQ"
      },
      "source": [
        "The first step is done. Now, let's follow the remaining steps:"
      ]
    },
    {
      "cell_type": "code",
      "metadata": {
        "id": "TdemmHi_8-vb",
        "colab": {
          "base_uri": "https://localhost:8080/"
        },
        "outputId": "392a6175-6b7c-4a61-838a-52d1a1793a87"
      },
      "source": [
        "# S4.2: Print the certificates for each TMM 2020 runner in the prescribed format.\n",
        "certificate='''\n",
        "Mumbai Marathon 2020\n",
        "\n",
        "     CONGRATULATIONS\n",
        "\n",
        "This is to certify that {}                    \n",
        "BIB No. {}\n",
        "officially completed the marathon \n",
        "(distance 42.2 km) \n",
        "in the men's category \n",
        "with a finish time of {} \n",
        "and rank {}.                   \n",
        "{}'''\n",
        "for i in df.index:\n",
        "    print(certificate.format(df.loc[i,\"NAME\"],df.loc[i,\"BIB\"],df.loc[i,\"Net Finish Time\"],df.loc[i,\"Finish Position\"],\"-\"*50))"
      ],
      "execution_count": null,
      "outputs": [
        {
          "output_type": "stream",
          "name": "stdout",
          "text": [
            "\n",
            "Mumbai Marathon 2020\n",
            "\n",
            "     CONGRATULATIONS\n",
            "\n",
            "This is to certify that JOHN DERA                    \n",
            "BIB No. 22\n",
            "officially completed the marathon \n",
            "(distance 42.2 km) \n",
            "in the men's category \n",
            "with a finish time of 02:08:09 \n",
            "and rank 1.                   \n",
            "--------------------------------------------------\n",
            "\n",
            "Mumbai Marathon 2020\n",
            "\n",
            "     CONGRATULATIONS\n",
            "\n",
            "This is to certify that JAMES GREYSON                    \n",
            "BIB No. 3\n",
            "officially completed the marathon \n",
            "(distance 42.2 km) \n",
            "in the men's category \n",
            "with a finish time of 02:08:20 \n",
            "and rank 2.                   \n",
            "--------------------------------------------------\n",
            "\n",
            "Mumbai Marathon 2020\n",
            "\n",
            "     CONGRATULATIONS\n",
            "\n",
            "This is to certify that CARTER JACK                    \n",
            "BIB No. 9\n",
            "officially completed the marathon \n",
            "(distance 42.2 km) \n",
            "in the men's category \n",
            "with a finish time of 02:08:26 \n",
            "and rank 3.                   \n",
            "--------------------------------------------------\n",
            "\n",
            "Mumbai Marathon 2020\n",
            "\n",
            "     CONGRATULATIONS\n",
            "\n",
            "This is to certify that SHOEB SYED                    \n",
            "BIB No. 15\n",
            "officially completed the marathon \n",
            "(distance 42.2 km) \n",
            "in the men's category \n",
            "with a finish time of 02:08:41 \n",
            "and rank 4.                   \n",
            "--------------------------------------------------\n",
            "\n",
            "Mumbai Marathon 2020\n",
            "\n",
            "     CONGRATULATIONS\n",
            "\n",
            "This is to certify that SHER SINGH                    \n",
            "BIB No. 20\n",
            "officially completed the marathon \n",
            "(distance 42.2 km) \n",
            "in the men's category \n",
            "with a finish time of 02:08:56 \n",
            "and rank 5.                   \n",
            "--------------------------------------------------\n",
            "\n",
            "Mumbai Marathon 2020\n",
            "\n",
            "     CONGRATULATIONS\n",
            "\n",
            "This is to certify that MOHIT RAJ                    \n",
            "BIB No. 11\n",
            "officially completed the marathon \n",
            "(distance 42.2 km) \n",
            "in the men's category \n",
            "with a finish time of 02:09:01 \n",
            "and rank 6.                   \n",
            "--------------------------------------------------\n",
            "\n",
            "Mumbai Marathon 2020\n",
            "\n",
            "     CONGRATULATIONS\n",
            "\n",
            "This is to certify that AVA JACKSON                    \n",
            "BIB No. 4\n",
            "officially completed the marathon \n",
            "(distance 42.2 km) \n",
            "in the men's category \n",
            "with a finish time of 02:09:15 \n",
            "and rank 7.                   \n",
            "--------------------------------------------------\n",
            "\n",
            "Mumbai Marathon 2020\n",
            "\n",
            "     CONGRATULATIONS\n",
            "\n",
            "This is to certify that DELNAZ BAK                    \n",
            "BIB No. 23\n",
            "officially completed the marathon \n",
            "(distance 42.2 km) \n",
            "in the men's category \n",
            "with a finish time of 02:10:04 \n",
            "and rank 8.                   \n",
            "--------------------------------------------------\n",
            "\n",
            "Mumbai Marathon 2020\n",
            "\n",
            "     CONGRATULATIONS\n",
            "\n",
            "This is to certify that SHRENU SINGH                    \n",
            "BIB No. 44\n",
            "officially completed the marathon \n",
            "(distance 42.2 km) \n",
            "in the men's category \n",
            "with a finish time of 02:10:36 \n",
            "and rank 9.                   \n",
            "--------------------------------------------------\n",
            "\n",
            "Mumbai Marathon 2020\n",
            "\n",
            "     CONGRATULATIONS\n",
            "\n",
            "This is to certify that RAHUL BHATT                    \n",
            "BIB No. 32\n",
            "officially completed the marathon \n",
            "(distance 42.2 km) \n",
            "in the men's category \n",
            "with a finish time of 02:10:37 \n",
            "and rank 10.                   \n",
            "--------------------------------------------------\n",
            "\n",
            "Mumbai Marathon 2020\n",
            "\n",
            "     CONGRATULATIONS\n",
            "\n",
            "This is to certify that VINCENT                     \n",
            "BIB No. 43\n",
            "officially completed the marathon \n",
            "(distance 42.2 km) \n",
            "in the men's category \n",
            "with a finish time of 02:11:15 \n",
            "and rank 11.                   \n",
            "--------------------------------------------------\n",
            "\n",
            "Mumbai Marathon 2020\n",
            "\n",
            "     CONGRATULATIONS\n",
            "\n",
            "This is to certify that CAMILA HARPER                    \n",
            "BIB No. 10\n",
            "officially completed the marathon \n",
            "(distance 42.2 km) \n",
            "in the men's category \n",
            "with a finish time of 02:13:39 \n",
            "and rank 12.                   \n",
            "--------------------------------------------------\n",
            "\n",
            "Mumbai Marathon 2020\n",
            "\n",
            "     CONGRATULATIONS\n",
            "\n",
            "This is to certify that LUNA LAMP                    \n",
            "BIB No. 51\n",
            "officially completed the marathon \n",
            "(distance 42.2 km) \n",
            "in the men's category \n",
            "with a finish time of 02:18:44 \n",
            "and rank 13.                   \n",
            "--------------------------------------------------\n",
            "\n",
            "Mumbai Marathon 2020\n",
            "\n",
            "     CONGRATULATIONS\n",
            "\n",
            "This is to certify that SOFIA JOHNSON                    \n",
            "BIB No. 56\n",
            "officially completed the marathon \n",
            "(distance 42.2 km) \n",
            "in the men's category \n",
            "with a finish time of 02:24:00 \n",
            "and rank 14.                   \n",
            "--------------------------------------------------\n",
            "\n",
            "Mumbai Marathon 2020\n",
            "\n",
            "     CONGRATULATIONS\n",
            "\n",
            "This is to certify that ELIZABETH RAY                    \n",
            "BIB No. 53\n",
            "officially completed the marathon \n",
            "(distance 42.2 km) \n",
            "in the men's category \n",
            "with a finish time of 02:24:03 \n",
            "and rank 15.                   \n",
            "--------------------------------------------------\n",
            "\n",
            "Mumbai Marathon 2020\n",
            "\n",
            "     CONGRATULATIONS\n",
            "\n",
            "This is to certify that RAVIKUMAR                    \n",
            "BIB No. 70\n",
            "officially completed the marathon \n",
            "(distance 42.2 km) \n",
            "in the men's category \n",
            "with a finish time of 02:24:32 \n",
            "and rank 16.                   \n",
            "--------------------------------------------------\n",
            "\n",
            "Mumbai Marathon 2020\n",
            "\n",
            "     CONGRATULATIONS\n",
            "\n",
            "This is to certify that GRACE ZOE                    \n",
            "BIB No. 27\n",
            "officially completed the marathon \n",
            "(distance 42.2 km) \n",
            "in the men's category \n",
            "with a finish time of 02:24:53 \n",
            "and rank 17.                   \n",
            "--------------------------------------------------\n",
            "\n",
            "Mumbai Marathon 2020\n",
            "\n",
            "     CONGRATULATIONS\n",
            "\n",
            "This is to certify that RAHUL PAL                    \n",
            "BIB No. 55\n",
            "officially completed the marathon \n",
            "(distance 42.2 km) \n",
            "in the men's category \n",
            "with a finish time of 02:26:56 \n",
            "and rank 18.                   \n",
            "--------------------------------------------------\n",
            "\n",
            "Mumbai Marathon 2020\n",
            "\n",
            "     CONGRATULATIONS\n",
            "\n",
            "This is to certify that PRADEEP BHOSALE                    \n",
            "BIB No. 54\n",
            "officially completed the marathon \n",
            "(distance 42.2 km) \n",
            "in the men's category \n",
            "with a finish time of 02:29:27 \n",
            "and rank 19.                   \n",
            "--------------------------------------------------\n",
            "\n",
            "Mumbai Marathon 2020\n",
            "\n",
            "     CONGRATULATIONS\n",
            "\n",
            "This is to certify that NAOMI HADLEY                    \n",
            "BIB No. 57\n",
            "officially completed the marathon \n",
            "(distance 42.2 km) \n",
            "in the men's category \n",
            "with a finish time of 02:31:16 \n",
            "and rank 20.                   \n",
            "--------------------------------------------------\n"
          ]
        }
      ]
    },
    {
      "cell_type": "markdown",
      "metadata": {
        "id": "_Zbr1xTY9Olb"
      },
      "source": [
        "As you can see, we first created a multiline string and stored it in a variable. The string contains five placeholders in the form of curly brackets.\n",
        "\n",
        "- The first place holder is created to store the name of each runner.\n",
        "\n",
        "- The second place holder is created to store the BIB number of each runner.\n",
        "\n",
        "- The third place holder is created to store the finish time of each runner.\n",
        "\n",
        "- The fourth place holder is created to store the rank secured by each runner in the marathon.\n",
        "\n",
        "- The fifth place holder is created to store the hyphen symbol (`-`).\n",
        "\n",
        "In the same order of the placeholders, we passed the values to the `format()` so that they occupy their respective places in the final string. The last value,  `'-' * 50`, that is passed to the `format()` function means that the hyphen symbol is repeated 50 times.\n",
        "\n",
        "**Labeling Placeholders**\n",
        "\n",
        "When there are too many placeholders to fill, you might lose a track of what value to put to what placeholder. In such cases, the better approach is to label the placeholders in such a way that they describe the values to put to the placeholders:"
      ]
    },
    {
      "cell_type": "code",
      "metadata": {
        "id": "aSqns1fTbYio",
        "colab": {
          "base_uri": "https://localhost:8080/"
        },
        "outputId": "77eae6e9-4bac-4db6-d0c1-95028aa007ae"
      },
      "source": [
        "# S4.3: Label the placeholders in the above code.\n",
        "certificate='''\n",
        "Mumbai Marathon 2020\n",
        "\n",
        "     CONGRATULATIONS\n",
        "\n",
        "This is to certify that {Name}                    \n",
        "BIB No. {Bib}\n",
        "officially completed the marathon \n",
        "(distance 42.2 km) \n",
        "in the men's category \n",
        "with a finish time of {Finish_Time} \n",
        "and rank {Rank}.                   \n",
        "{Hyphen}'''\n",
        "for i in df.index:\n",
        "    print(certificate.format(Name=df.loc[i,\"NAME\"],Bib=df.loc[i,\"BIB\"],Finish_Time=df.loc[i,\"Net Finish Time\"],Rank=df.loc[i,\"Finish Position\"],Hyphen=\"-\"*50))"
      ],
      "execution_count": null,
      "outputs": [
        {
          "output_type": "stream",
          "name": "stdout",
          "text": [
            "\n",
            "Mumbai Marathon 2020\n",
            "\n",
            "     CONGRATULATIONS\n",
            "\n",
            "This is to certify that JOHN DERA                    \n",
            "BIB No. 22\n",
            "officially completed the marathon \n",
            "(distance 42.2 km) \n",
            "in the men's category \n",
            "with a finish time of 02:08:09 \n",
            "and rank 1.                   \n",
            "--------------------------------------------------\n",
            "\n",
            "Mumbai Marathon 2020\n",
            "\n",
            "     CONGRATULATIONS\n",
            "\n",
            "This is to certify that JAMES GREYSON                    \n",
            "BIB No. 3\n",
            "officially completed the marathon \n",
            "(distance 42.2 km) \n",
            "in the men's category \n",
            "with a finish time of 02:08:20 \n",
            "and rank 2.                   \n",
            "--------------------------------------------------\n",
            "\n",
            "Mumbai Marathon 2020\n",
            "\n",
            "     CONGRATULATIONS\n",
            "\n",
            "This is to certify that CARTER JACK                    \n",
            "BIB No. 9\n",
            "officially completed the marathon \n",
            "(distance 42.2 km) \n",
            "in the men's category \n",
            "with a finish time of 02:08:26 \n",
            "and rank 3.                   \n",
            "--------------------------------------------------\n",
            "\n",
            "Mumbai Marathon 2020\n",
            "\n",
            "     CONGRATULATIONS\n",
            "\n",
            "This is to certify that SHOEB SYED                    \n",
            "BIB No. 15\n",
            "officially completed the marathon \n",
            "(distance 42.2 km) \n",
            "in the men's category \n",
            "with a finish time of 02:08:41 \n",
            "and rank 4.                   \n",
            "--------------------------------------------------\n",
            "\n",
            "Mumbai Marathon 2020\n",
            "\n",
            "     CONGRATULATIONS\n",
            "\n",
            "This is to certify that SHER SINGH                    \n",
            "BIB No. 20\n",
            "officially completed the marathon \n",
            "(distance 42.2 km) \n",
            "in the men's category \n",
            "with a finish time of 02:08:56 \n",
            "and rank 5.                   \n",
            "--------------------------------------------------\n",
            "\n",
            "Mumbai Marathon 2020\n",
            "\n",
            "     CONGRATULATIONS\n",
            "\n",
            "This is to certify that MOHIT RAJ                    \n",
            "BIB No. 11\n",
            "officially completed the marathon \n",
            "(distance 42.2 km) \n",
            "in the men's category \n",
            "with a finish time of 02:09:01 \n",
            "and rank 6.                   \n",
            "--------------------------------------------------\n",
            "\n",
            "Mumbai Marathon 2020\n",
            "\n",
            "     CONGRATULATIONS\n",
            "\n",
            "This is to certify that AVA JACKSON                    \n",
            "BIB No. 4\n",
            "officially completed the marathon \n",
            "(distance 42.2 km) \n",
            "in the men's category \n",
            "with a finish time of 02:09:15 \n",
            "and rank 7.                   \n",
            "--------------------------------------------------\n",
            "\n",
            "Mumbai Marathon 2020\n",
            "\n",
            "     CONGRATULATIONS\n",
            "\n",
            "This is to certify that DELNAZ BAK                    \n",
            "BIB No. 23\n",
            "officially completed the marathon \n",
            "(distance 42.2 km) \n",
            "in the men's category \n",
            "with a finish time of 02:10:04 \n",
            "and rank 8.                   \n",
            "--------------------------------------------------\n",
            "\n",
            "Mumbai Marathon 2020\n",
            "\n",
            "     CONGRATULATIONS\n",
            "\n",
            "This is to certify that SHRENU SINGH                    \n",
            "BIB No. 44\n",
            "officially completed the marathon \n",
            "(distance 42.2 km) \n",
            "in the men's category \n",
            "with a finish time of 02:10:36 \n",
            "and rank 9.                   \n",
            "--------------------------------------------------\n",
            "\n",
            "Mumbai Marathon 2020\n",
            "\n",
            "     CONGRATULATIONS\n",
            "\n",
            "This is to certify that RAHUL BHATT                    \n",
            "BIB No. 32\n",
            "officially completed the marathon \n",
            "(distance 42.2 km) \n",
            "in the men's category \n",
            "with a finish time of 02:10:37 \n",
            "and rank 10.                   \n",
            "--------------------------------------------------\n",
            "\n",
            "Mumbai Marathon 2020\n",
            "\n",
            "     CONGRATULATIONS\n",
            "\n",
            "This is to certify that VINCENT                     \n",
            "BIB No. 43\n",
            "officially completed the marathon \n",
            "(distance 42.2 km) \n",
            "in the men's category \n",
            "with a finish time of 02:11:15 \n",
            "and rank 11.                   \n",
            "--------------------------------------------------\n",
            "\n",
            "Mumbai Marathon 2020\n",
            "\n",
            "     CONGRATULATIONS\n",
            "\n",
            "This is to certify that CAMILA HARPER                    \n",
            "BIB No. 10\n",
            "officially completed the marathon \n",
            "(distance 42.2 km) \n",
            "in the men's category \n",
            "with a finish time of 02:13:39 \n",
            "and rank 12.                   \n",
            "--------------------------------------------------\n",
            "\n",
            "Mumbai Marathon 2020\n",
            "\n",
            "     CONGRATULATIONS\n",
            "\n",
            "This is to certify that LUNA LAMP                    \n",
            "BIB No. 51\n",
            "officially completed the marathon \n",
            "(distance 42.2 km) \n",
            "in the men's category \n",
            "with a finish time of 02:18:44 \n",
            "and rank 13.                   \n",
            "--------------------------------------------------\n",
            "\n",
            "Mumbai Marathon 2020\n",
            "\n",
            "     CONGRATULATIONS\n",
            "\n",
            "This is to certify that SOFIA JOHNSON                    \n",
            "BIB No. 56\n",
            "officially completed the marathon \n",
            "(distance 42.2 km) \n",
            "in the men's category \n",
            "with a finish time of 02:24:00 \n",
            "and rank 14.                   \n",
            "--------------------------------------------------\n",
            "\n",
            "Mumbai Marathon 2020\n",
            "\n",
            "     CONGRATULATIONS\n",
            "\n",
            "This is to certify that ELIZABETH RAY                    \n",
            "BIB No. 53\n",
            "officially completed the marathon \n",
            "(distance 42.2 km) \n",
            "in the men's category \n",
            "with a finish time of 02:24:03 \n",
            "and rank 15.                   \n",
            "--------------------------------------------------\n",
            "\n",
            "Mumbai Marathon 2020\n",
            "\n",
            "     CONGRATULATIONS\n",
            "\n",
            "This is to certify that RAVIKUMAR                    \n",
            "BIB No. 70\n",
            "officially completed the marathon \n",
            "(distance 42.2 km) \n",
            "in the men's category \n",
            "with a finish time of 02:24:32 \n",
            "and rank 16.                   \n",
            "--------------------------------------------------\n",
            "\n",
            "Mumbai Marathon 2020\n",
            "\n",
            "     CONGRATULATIONS\n",
            "\n",
            "This is to certify that GRACE ZOE                    \n",
            "BIB No. 27\n",
            "officially completed the marathon \n",
            "(distance 42.2 km) \n",
            "in the men's category \n",
            "with a finish time of 02:24:53 \n",
            "and rank 17.                   \n",
            "--------------------------------------------------\n",
            "\n",
            "Mumbai Marathon 2020\n",
            "\n",
            "     CONGRATULATIONS\n",
            "\n",
            "This is to certify that RAHUL PAL                    \n",
            "BIB No. 55\n",
            "officially completed the marathon \n",
            "(distance 42.2 km) \n",
            "in the men's category \n",
            "with a finish time of 02:26:56 \n",
            "and rank 18.                   \n",
            "--------------------------------------------------\n",
            "\n",
            "Mumbai Marathon 2020\n",
            "\n",
            "     CONGRATULATIONS\n",
            "\n",
            "This is to certify that PRADEEP BHOSALE                    \n",
            "BIB No. 54\n",
            "officially completed the marathon \n",
            "(distance 42.2 km) \n",
            "in the men's category \n",
            "with a finish time of 02:29:27 \n",
            "and rank 19.                   \n",
            "--------------------------------------------------\n",
            "\n",
            "Mumbai Marathon 2020\n",
            "\n",
            "     CONGRATULATIONS\n",
            "\n",
            "This is to certify that NAOMI HADLEY                    \n",
            "BIB No. 57\n",
            "officially completed the marathon \n",
            "(distance 42.2 km) \n",
            "in the men's category \n",
            "with a finish time of 02:31:16 \n",
            "and rank 20.                   \n",
            "--------------------------------------------------\n"
          ]
        }
      ]
    },
    {
      "cell_type": "markdown",
      "metadata": {
        "id": "OjZsTtePdO0c"
      },
      "source": [
        "As you can see, we have labeled the placeholders to determine which value to assign to which placeholder. Then, using the `format()` function, we have assigned the values to their respective placeholders.\n",
        "\n",
        "**Syntax of `format()` function:** `string.format(placeholder1 = value1, placeholder2 = value2, ..., placeholderN = valueN)` where `N` is the number of values to assign or the number of placeholders to fill.\n",
        "\n",
        "We will pause here now and will continue learning the remaining string operations in the next class."
      ]
    },
    {
      "cell_type": "markdown",
      "metadata": {
        "id": "DrJU6Q5E8G0c"
      },
      "source": [
        "---"
      ]
    }
  ]
}