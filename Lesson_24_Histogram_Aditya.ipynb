{
  "nbformat": 4,
  "nbformat_minor": 0,
  "metadata": {
    "colab": {
      "name": " Lesson 24 - Histogram - Aditya",
      "provenance": [],
      "collapsed_sections": [],
      "include_colab_link": true
    },
    "kernelspec": {
      "name": "python3",
      "display_name": "Python 3"
    }
  },
  "cells": [
    {
      "cell_type": "markdown",
      "metadata": {
        "id": "view-in-github",
        "colab_type": "text"
      },
      "source": [
        "<a href=\"https://colab.research.google.com/github/aadityasomani/Aadi/blob/master/Lesson_24_Histogram_Aditya.ipynb\" target=\"_parent\"><img src=\"https://colab.research.google.com/assets/colab-badge.svg\" alt=\"Open In Colab\"/></a>"
      ]
    },
    {
      "cell_type": "markdown",
      "metadata": {
        "id": "aMbswDYFUt_1"
      },
      "source": [
        "# Lesson 24: Histogram"
      ]
    },
    {
      "cell_type": "markdown",
      "metadata": {
        "id": "1NgsnWDpDxpt"
      },
      "source": [
        "---"
      ]
    },
    {
      "cell_type": "markdown",
      "metadata": {
        "id": "dmruqgPqb9BH"
      },
      "source": [
        "### Teacher-Student Tasks\n",
        "\n",
        "In the previous classes, we learned how to create a count plot. In this class, we will learn another type of graph called a histogram.\n",
        "\n",
        "A histogram is very similar to a count plot. It also shows the count of values. However, unlike the discrete counts in a count plot, a histogram shows the continuous counts of values. You will get a better understanding once we start creating a histogram.\n",
        "\n",
        "Let's quickly rush through the activities we covered in the previous class and begin this class from **Task 1: Count Plot** section.\n",
        "\n"
      ]
    },
    {
      "cell_type": "markdown",
      "metadata": {
        "id": "0btx_ehOLDK5"
      },
      "source": [
        "---"
      ]
    },
    {
      "cell_type": "markdown",
      "metadata": {
        "id": "DoShzic97iBl"
      },
      "source": [
        "#### Recap\n",
        "\n",
        "Dataset Link (don't click on it):\n",
        "\n",
        "https://s3-student-datasets-bucket.whjr.online/whitehat-ds-datasets/meteorite-landings/meteorite-landings.csv\n",
        "\n",
        "\n",
        "**Dataset Credits:** https://www.kaggle.com/nasa/meteorite-landings"
      ]
    },
    {
      "cell_type": "code",
      "metadata": {
        "id": "ThLLbqIzUd9f",
        "colab": {
          "base_uri": "https://localhost:8080/"
        },
        "outputId": "b37ecbfe-ab7c-48eb-9a56-9e10eec36b18"
      },
      "source": [
        "# Below are the activities that have been covered in the previous class.\n",
        "# 1. Import the necessary libraries for this class and create a DataFrame.\n",
        "import numpy as np\n",
        "import pandas as pd\n",
        "import matplotlib.pyplot as plt\n",
        "import warnings\n",
        "\n",
        "warnings.filterwarnings(\"ignore\")\n",
        "met_df = pd.read_csv('https://s3-student-datasets-bucket.whjr.online/whitehat-ds-datasets/meteorite-landings/meteorite-landings.csv')\n",
        "\n",
        "# 2. Find the number of rows and columns in the DataFrame. \n",
        "print(met_df.shape)\n",
        "\n",
        "# 3. Rows containing the year values less than 860 and greater than 2016.\n",
        "correct_years_df = met_df[(met_df['year'] >= 860) & (met_df['year'] <= 2016)]\n",
        "\n",
        "# 4. Rows having the 'reclong' values greater than or equal to -180 degrees and less than or equal to 180 degrees.\n",
        "correct_long_df = correct_years_df[(correct_years_df['reclong'] >= -180) & (correct_years_df['reclong'] <= 180)]\n",
        "\n",
        "# 5. Rows containing the '0 reclat' and '0 reclong' values from the 'correct_long_df'.\n",
        "correct_lat_long_df = correct_long_df[~((correct_long_df['reclat'] == 0 ) & (correct_long_df['reclong'] == 0))]\n",
        "\n",
        "# 6. Indices of the rows having missing mass values.\n",
        "row_indices = correct_lat_long_df[correct_lat_long_df['mass'].isnull() == True].index\n",
        "\n",
        "# 7. Missing values in the 'mass' column in the 'correct_lat_long_df' DataFrame with median of mass.\n",
        "median_mass = correct_lat_long_df['mass'].median()\n",
        "correct_lat_long_df.loc[row_indices, 'mass'] = median_mass\n",
        "\n",
        "# 8. Convert the 'year' values into an integer type values.\n",
        "correct_lat_long_df.loc[:, 'year'] = correct_lat_long_df.loc[:, 'year'].astype('int')"
      ],
      "execution_count": 26,
      "outputs": [
        {
          "output_type": "stream",
          "name": "stdout",
          "text": [
            "(45716, 10)\n"
          ]
        }
      ]
    },
    {
      "cell_type": "markdown",
      "metadata": {
        "id": "mAHPBr8hmtGf"
      },
      "source": [
        "---"
      ]
    },
    {
      "cell_type": "markdown",
      "metadata": {
        "id": "P-XzsmGGL25Z"
      },
      "source": [
        "#### Task 1: Count Plot\n",
        "\n",
        "Recall that in the previous class we couldn't draw count plots for all the meteorites found in a year. We had to divide the years in the 20 to 30 years period and then draw the count plot. The count plot works well when you want to look at the variation in the count of a feature across a category. E.g., we observed that the count of `Valid` meteorites was more than the count of the `Relict` meteorites for a year. So, this is where the count plots are helpful.\n",
        "\n",
        "However, if you want to observe the count trend in one single graph, then, in that case, it is better to create a histogram. \n",
        "\n",
        "*A histogram is a type of bar graph that plots the data falling in the same interval together.* Let's understand a histogram through an example.\n",
        "\n",
        "Consider the count of the meteorites between the years `1970` and `2000`. Let's create a count plot for this period:"
      ]
    },
    {
      "cell_type": "code",
      "metadata": {
        "id": "n5mVgyomUZQY",
        "colab": {
          "base_uri": "https://localhost:8080/",
          "height": 279
        },
        "outputId": "b0de4d90-d884-4754-b51b-7ec9ce5b74a0"
      },
      "source": [
        "# S1.1: Create a count plot for the count of the meteorites between the years 1970 and 2000.\n",
        "import seaborn as sns\n",
        "met_1970_2000_df=correct_lat_long_df[(correct_lat_long_df['year']>=1970) & (correct_lat_long_df['year']<=2000)]\n",
        "# Create a DataFrame for the meteorites fallen between 1970 and 2000 including both.\n",
        "# Create a count plot for the meteorites fallen between 1970 and 2000 including both.\n",
        "plt.figure(figsize=(15,4))\n",
        "sns.countplot(x='year',data=met_1970_2000_df)\n",
        "plt.show()"
      ],
      "execution_count": 27,
      "outputs": [
        {
          "output_type": "display_data",
          "data": {
            "image/png": "[encoded data removed]",
            "text/plain": [
              "<Figure size 1080x288 with 1 Axes>"
            ]
          },
          "metadata": {
            "needs_background": "light"
          }
        }
      ]
    },
    {
      "cell_type": "markdown",
      "metadata": {
        "id": "0swSLoOCUqcX"
      },
      "source": [
        "Now, suppose we want to plot a bar graph for the count of the number of meteorites fallen in 5 years between 1970 and 2000. In this case, we will have 6 intervals. They are:\n",
        "\n",
        "1. 1970 to 1975 (excluding 1975)\n",
        "\n",
        "2. 1975 to 1980 (excluding 1980)\n",
        "\n",
        "3. 1980 to 1985 (excluding 1985)\n",
        "\n",
        "4. 1985 to 1990 (excluding 1990)\n",
        "\n",
        "5. 1990 to 1995 (excluding 1995)\n",
        "\n",
        "6. 1995 to 2000 (**including** 2000)\n",
        "\n",
        "To create bar graphs for such intervals, we will use a histogram. Let us learn how to create histograms in Python. "
      ]
    },
    {
      "cell_type": "markdown",
      "metadata": {
        "id": "tXO47iQ3Fo-8"
      },
      "source": [
        "---"
      ]
    },
    {
      "cell_type": "markdown",
      "metadata": {
        "id": "x1sGC6kWFpqI"
      },
      "source": [
        "#### Task 2: Histogram Using the `hist()` Function\n",
        "\n",
        "The bars in the count plot merge to form one bar in the histogram. So, for the interval:\n",
        "\n",
        "1. 1970 to 1975 (excluding 1975), the bars in a count plot for the years 1970, 1971, 1972, 1973, and 1974 will merge to form one bar in a histogram.\n",
        "\n",
        "2. 1975 to 1980 (excluding 1980), the bars in a count plot for the years 1975, 1976, 1977, 1978, and 1979 will merge to form one bar in a histogram.\n",
        "\n",
        "3. 1980 to 1985 (excluding 1985), the bars in a count plot for the years 1980, 1981, 1982, 1983, and 1984 will merge to form one bar in a histogram.\n",
        "\n",
        "4. 1985 to 1980 (excluding 1990), the bars in a count plot for the years 1985, 1986, 1987, 1988, and 1989 will merge to form one bar in a histogram.\n",
        "\n",
        "5. 1990 to 1995 (excluding 1995), the bars in a count plot for the years 1990, 1991, 1992, 1993, and 1994 will merge to form one bar in a histogram.\n",
        "\n",
        "6. 1995 to 2000 (**including** 2000), the bars in a count plot for the years 1995, 1996, 1997, 1998, and 2000 will merge to form one bar in a histogram.\n",
        "\n",
        "To create a histogram, you can use the `hist()` function which exists in the `matplotlib.pyplot` library. The `hist()` function requires a one-dimensional array/list/series as an input to create a histogram. Let's create a histogram for the Pandas series which contains the year values between 1970 and 2000 including both of them, i.e., \n",
        "\n",
        "`correct_lat_long_df.loc[(correct_lat_long_df['year'] >= 1970) & (correct_lat_long_df['year'] < 2001)]`\n"
      ]
    },
    {
      "cell_type": "code",
      "metadata": {
        "id": "9e2cUJqriWk6",
        "colab": {
          "base_uri": "https://localhost:8080/"
        },
        "outputId": "3b2db5e9-889a-4ebf-c7be-4dd49415b868"
      },
      "source": [
        "# S2.1: Create a Pandas series containing the year values between 1970 and 2000 including both of them.\n",
        "met_1970_2000_seies=met_1970_2000_df['year']\n",
        "met_1970_2000_seies"
      ],
      "execution_count": 28,
      "outputs": [
        {
          "output_type": "execute_result",
          "data": {
            "text/plain": [
              "3        1976\n",
              "10       1974\n",
              "16       1981\n",
              "31       1977\n",
              "41       1971\n",
              "         ... \n",
              "45709    1981\n",
              "45710    1990\n",
              "45711    1990\n",
              "45712    1999\n",
              "45715    1976\n",
              "Name: year, Length: 22368, dtype: int64"
            ]
          },
          "metadata": {},
          "execution_count": 28
        }
      ]
    },
    {
      "cell_type": "markdown",
      "metadata": {
        "id": "BDoQkLKdQqjf"
      },
      "source": [
        "So, we have sliced the `correct_lat_long_df` DataFrame to obtain a Pandas series containing the year values between the years 1970 and 2000. **Since for every meteorite, we have recorded its fall year. Hence, the number of year values is equal to the number of meteorites fallen on Earth.**\n",
        "\n",
        "Now let's create a histogram for the meteorites fallen between 1970 and 2000 using the `hist()` function. Perform the following tasks to create this histogram:\n",
        "\n",
        "1. Provide following two inputs to the `hist()` function:\n",
        "\n",
        "  - The Pandas series `met_bet_1970_and_2000_series` for which the histogram needs to be created.\n",
        "  - The `bins` value. This value defines the number of bars to be created in the histogram. As we are going to create 6 bars, hence pass `bins=6` as the second input to the `hist()` function.\n",
        "\n",
        "2. Use `grid()` function to show the grid lines."
      ]
    },
    {
      "cell_type": "code",
      "metadata": {
        "id": "cRWZrocPR4Lg",
        "colab": {
          "base_uri": "https://localhost:8080/",
          "height": 265
        },
        "outputId": "6cd48603-030b-4582-9a4e-e0205b3ffde2"
      },
      "source": [
        "# S2.2: Create a histogram for the Pandas series containing the year values between 1970 and 2000 including both of them.\n",
        "plt.figure(figsize=(15,4))\n",
        "plt.hist(met_1970_2000_df['year'],bins=6)\n",
        "plt.grid()\n",
        "plt.show()"
      ],
      "execution_count": 29,
      "outputs": [
        {
          "output_type": "display_data",
          "data": {
            "image/png": "[encoded data removed]",
            "text/plain": [
              "<Figure size 1080x288 with 1 Axes>"
            ]
          },
          "metadata": {
            "needs_background": "light"
          }
        }
      ]
    },
    {
      "cell_type": "markdown",
      "metadata": {
        "id": "TyPWmfrYqJ3O"
      },
      "source": [
        "In the histogram above, on the horizontal axis, we have the year values and on the vertical axis, we have the count of the meteorites fallen to Earth including both `Fell` & `Found` meteorites. So from the histogram, we can say that: \n",
        "\n",
        "1. Just below 1000 meteorites fell on Earth from 1970 to 1975 (excluding 1975).\n",
        "\n",
        "2. Just over 4000 meteorites fell on Earth from 1975 to 1980 (excluding 1980).\n",
        "\n",
        "3. Just below 2000 meteorites fell on Earth from 1980 to 1985 (excluding 1985).\n",
        "\n",
        "4. Just over 5000 meteorites fell on Earth from 1985 to 1990 (excluding 1990).\n",
        "\n",
        "5. Just below 4500 meteorites fell on Earth from 1990 to 1995 (excluding 1995).\n",
        "\n",
        "6. Just over 6000 meteorites fell on Earth from 1995 to 2000 (**including** 2000).\n"
      ]
    },
    {
      "cell_type": "markdown",
      "metadata": {
        "id": "nbghBY4-GAJN"
      },
      "source": [
        "---"
      ]
    },
    {
      "cell_type": "markdown",
      "metadata": {
        "id": "ANCPiCzvGAwB"
      },
      "source": [
        "#### Task 3: The `sum()` Function\n",
        "\n",
        "We can find the actual number of meteorites that fell on Earth in each of the six intervals using the `sum()` function which exists in the Pandas module.\n",
        "\n",
        "**Note:** The number of meteorites that fell on Earth is equal to the number of year values.\n",
        "\n",
        "To do this exercise, first, obtain a Pandas series containing the year values for each interval of 5-years using the `loc[]` function. E.g.,\n",
        "\n",
        "```python\n",
        "correct_lat_long_df.loc[(correct_lat_long_df['year'] >= 1970) & (correct_lat_long_df['year'] < 1975), 'year']\n",
        "```\n",
        "\n",
        "Then apply the `value_counts()` function followed by the `sum()` function. The `value_counts()` function will return another Pandas series containing the count of year values in the 5 year interval. The `sum()` function will return the sum of all counts. E.g.,\n",
        "\n",
        "```python\n",
        "correct_lat_long_df.loc[(correct_lat_long_df['year'] >= 1970) & (correct_lat_long_df['year'] < 1975), 'year'].value_counts().sum()\n",
        "```"
      ]
    },
    {
      "cell_type": "code",
      "metadata": {
        "id": "37_USqMKi1dn",
        "colab": {
          "base_uri": "https://localhost:8080/"
        },
        "outputId": "d9ec5d6f-d8d9-46a0-aa4b-2558d7cea271"
      },
      "source": [
        "# S3.1: Find the actual number of meteorites fell on Earth in each of the six intervals.\n",
        "met_1970_2000_df.loc[(met_1970_2000_df['year']>=1970) & (met_1970_2000_df['year']<1975),'year'].value_counts().sum()"
      ],
      "execution_count": 30,
      "outputs": [
        {
          "output_type": "execute_result",
          "data": {
            "text/plain": [
              "846"
            ]
          },
          "metadata": {},
          "execution_count": 30
        }
      ]
    },
    {
      "cell_type": "markdown",
      "metadata": {
        "id": "A4n2s76eqi-d"
      },
      "source": [
        "Therefore, \n",
        "\n",
        "- 846 meteorites fell on Earth from 1970 to 1975 (excluding 1975)\n",
        "\n",
        "- 4116 meteorites fell on Earth from 1975 to 1980 (excluding 1980)\n",
        "\n",
        "- 1708 meteorites fell on Earth from 1980 to 1985 (excluding 1985)\n",
        "\n",
        "- 5098 meteorites fell on Earth from 1985 to 1990 (excluding 1990)\n",
        "\n",
        "- 4448 meteorites fell on Earth from 1990 to 1995 (excluding 1995)\n",
        "\n",
        "- 6152 meteorites fell on Earth from 1995 to 2000 (**including** 2000)\n",
        "\n",
        "\n",
        "There's an alternate way to do the above exercise. Create a `while` loop to iterate through each interval of 5 years to count the number of years in each interval:\n"
      ]
    },
    {
      "cell_type": "code",
      "metadata": {
        "id": "OYvwnzyTZxjG",
        "colab": {
          "base_uri": "https://localhost:8080/"
        },
        "outputId": "9c3076d0-988b-4b0b-dcb8-f8568eca178e"
      },
      "source": [
        "# S3.2: Create a 'while' loop to iterete through first 5 intervals to obtain the count of the meteorites fallen.\n",
        "n=1970\n",
        "while n!=1995:\n",
        "    print(met_1970_2000_df.loc[(met_1970_2000_df['year']>=n) & (met_1970_2000_df['year']<n+5),'year'].value_counts().sum())\n",
        "    n+=5\n",
        "print(met_1970_2000_df.loc[(met_1970_2000_df['year']>=1995) & (met_1970_2000_df['year']<=2000),'year'].value_counts().sum())\n",
        "# For the last interval, we want to include the counts of the year '2000'. Hence, let's print the required counts without using the 'while' loop."
      ],
      "execution_count": 31,
      "outputs": [
        {
          "output_type": "stream",
          "name": "stdout",
          "text": [
            "846\n",
            "4116\n",
            "1708\n",
            "5098\n",
            "4448\n",
            "6152\n"
          ]
        }
      ]
    },
    {
      "cell_type": "markdown",
      "metadata": {
        "id": "AH2Mssh-mcjU"
      },
      "source": [
        "Here the output shows the actual number of meteorites that fell on Earth between the years 1970 to 2000."
      ]
    },
    {
      "cell_type": "markdown",
      "metadata": {
        "id": "S_Zjx-qtF1fy"
      },
      "source": [
        "---"
      ]
    },
    {
      "cell_type": "markdown",
      "metadata": {
        "id": "mqfVR2K9F2SG"
      },
      "source": [
        "#### Task 4: Histogram Using the `distplot()` Function\n",
        "\n",
        "We can also create a histogram using the `distplot()` function from the `seaborn` module. The term `distplot` stands for distribution plot. It also takes a Pandas series / NumPy array / Python list as an input. The other inputs that you can provide are `bins` and `kde` values. The `kde` parameter takes a boolean value, i.e., either `True` or `False`. Let's set the `bins` parameter equal to `6` and the `kde` parameter equal to `False` in the `distplot()` function. We will learn about the `kde` parameter later."
      ]
    },
    {
      "cell_type": "code",
      "metadata": {
        "id": "Fzjd6fRYmkS-",
        "colab": {
          "base_uri": "https://localhost:8080/",
          "height": 334
        },
        "outputId": "504734d5-45ca-4c6d-f309-4a6c40564cde"
      },
      "source": [
        "# S4.1: Create a histogram using the 'distplot()' function from the seaborn library.\n",
        "import seaborn as sns\n",
        "plt.figure(figsize=(14,5))\n",
        "sns.distplot(met_1970_2000_seies,bins=6,kde=False)\n",
        "plt.grid()\n",
        "plt.show()"
      ],
      "execution_count": 50,
      "outputs": [
        {
          "output_type": "display_data",
          "data": {
            "image/png": "[encoded data removed]",
            "text/plain": [
              "<Figure size 1008x360 with 1 Axes>"
            ]
          },
          "metadata": {
            "needs_background": "light"
          }
        }
      ]
    },
    {
      "cell_type": "markdown",
      "metadata": {
        "id": "Dmf4kU7S-ABq"
      },
      "source": [
        "As you can see, we have created the same histogram using the `distplot()` function. **The `distplot()` function is smarter in terms of choosing the appropriate default number of bins**. Hence, it is best to create a histogram using the `distplot()` function over the `hist()` function. \n",
        "\n",
        "Now, let's create a histogram to see the distribution of the fall of meteorites over the years starting from the year `860`:"
      ]
    },
    {
      "cell_type": "code",
      "metadata": {
        "id": "GCc4tY0NioCQ",
        "colab": {
          "base_uri": "https://localhost:8080/",
          "height": 334
        },
        "outputId": "478daff8-7259-4603-9ad5-43798286643a"
      },
      "source": [
        "# S4.2: Create a histogram for the 'year' column in the 'correct_lat_long_df' DataFrame using the 'distplot()' function.\n",
        "plt.figure(figsize=(14,5))\n",
        "sns.distplot(correct_lat_long_df['year'],kde=False)\n",
        "plt.grid()\n",
        "plt.show()"
      ],
      "execution_count": 52,
      "outputs": [
        {
          "output_type": "display_data",
          "data": {
            "image/png": "[encoded data removed]",
            "text/plain": [
              "<Figure size 1008x360 with 1 Axes>"
            ]
          },
          "metadata": {
            "needs_background": "light"
          }
        }
      ]
    },
    {
      "cell_type": "markdown",
      "metadata": {
        "id": "rj1yzh66jF4w"
      },
      "source": [
        "If you look at the graph, the number of meteorites fallen to Earth is almost 0 till the year 1800. After that, there is some increase but it is very little. After 1900, the is a rapid increase in the number of meteorites falling to Earth. \n",
        "\n",
        "Let's closely observe the period after 1900 to see the variation in the number of meteorites falling to Earth by creating another histogram:"
      ]
    },
    {
      "cell_type": "code",
      "metadata": {
        "id": "_0HqVknjL2Dz",
        "colab": {
          "base_uri": "https://localhost:8080/",
          "height": 334
        },
        "outputId": "b5cfb747-6cc0-4d5c-b810-e800a4d5ba13"
      },
      "source": [
        "# S4.3: Create a histogram to visualise the number of meteorites fallen after the year 1900 using the 'distplot()' function.\n",
        "plt.figure(figsize=(14,5))\n",
        "sns.distplot(correct_lat_long_df.loc[correct_lat_long_df['year']>=1900,'year'],kde=False)\n",
        "plt.grid()\n",
        "plt.show()"
      ],
      "execution_count": 53,
      "outputs": [
        {
          "output_type": "display_data",
          "data": {
            "image/png": "[encoded data removed]",
            "text/plain": [
              "<Figure size 1008x360 with 1 Axes>"
            ]
          },
          "metadata": {
            "needs_background": "light"
          }
        }
      ]
    },
    {
      "cell_type": "markdown",
      "metadata": {
        "id": "ota6cXm6t78C"
      },
      "source": [
        "If you increase the size of the bins, the width of the bars will decrease whereas if you decrease the size of the bins, the width of the bars will increase.\n",
        "\n",
        "Let's recreate the above histogram with bin size set to `25`:\n"
      ]
    },
    {
      "cell_type": "code",
      "metadata": {
        "id": "WdFD32CbmWop",
        "colab": {
          "base_uri": "https://localhost:8080/",
          "height": 334
        },
        "outputId": "13b1fd77-5135-4eac-eaca-bb277857772b"
      },
      "source": [
        "# S4.4: Set the bins size equal to 25 in the previous histogram.\n",
        "plt.figure(figsize=(14,5))\n",
        "sns.distplot(correct_lat_long_df.loc[correct_lat_long_df['year']>=1900,'year'],bins=25,kde=False)\n",
        "plt.grid()\n",
        "plt.show()"
      ],
      "execution_count": 54,
      "outputs": [
        {
          "output_type": "display_data",
          "data": {
            "image/png": "[encoded data removed]",
            "text/plain": [
              "<Figure size 1008x360 with 1 Axes>"
            ]
          },
          "metadata": {
            "needs_background": "light"
          }
        }
      ]
    },
    {
      "cell_type": "markdown",
      "metadata": {
        "id": "5tGcENuloGW3"
      },
      "source": [
        "Now set the bin size to `100` and recreate the above histogram:"
      ]
    },
    {
      "cell_type": "code",
      "metadata": {
        "id": "6ZtBae1tu4DV",
        "colab": {
          "base_uri": "https://localhost:8080/",
          "height": 334
        },
        "outputId": "4da3f681-b094-4381-f702-3c8247b73d41"
      },
      "source": [
        "# S4.5: Set the bins size equal to 100 in the previous histogram.\n",
        "plt.figure(figsize=(14,5))\n",
        "sns.distplot(correct_lat_long_df.loc[correct_lat_long_df['year']>=1900,'year'],bins=100,kde=False)\n",
        "plt.grid()\n",
        "plt.show()"
      ],
      "execution_count": 55,
      "outputs": [
        {
          "output_type": "display_data",
          "data": {
            "image/png": "[encoded data removed]",
            "text/plain": [
              "<Figure size 1008x360 with 1 Axes>"
            ]
          },
          "metadata": {
            "needs_background": "light"
          }
        }
      ]
    },
    {
      "cell_type": "markdown",
      "metadata": {
        "id": "i1RMl0-cosJO"
      },
      "source": [
        "Thus, we can create histogram using `distplot()` function by setting the desired bin size."
      ]
    },
    {
      "cell_type": "markdown",
      "metadata": {
        "id": "icaFkNH-SciQ"
      },
      "source": [
        "---"
      ]
    },
    {
      "cell_type": "markdown",
      "metadata": {
        "id": "E1dRYFoRzSp_"
      },
      "source": [
        "#### Task 5: Meteorite Class-wise Histograms\n",
        "\n",
        "Let's create a meteorite class-wise histogram to observe the trend of the fall of meteorites belonging to a class. But first, let's find out the number of unique classes of meteorites present in the dataset and the count of their falls:"
      ]
    },
    {
      "cell_type": "code",
      "metadata": {
        "id": "9U3xbkhsd5rw",
        "colab": {
          "base_uri": "https://localhost:8080/"
        },
        "outputId": "7efaad82-3305-40c5-c14c-c922219b3fb5"
      },
      "source": [
        "# S5.1: Calcuate the number of unique class of meteorites.\n",
        "len(correct_lat_long_df['recclass'].unique())"
      ],
      "execution_count": 62,
      "outputs": [
        {
          "output_type": "execute_result",
          "data": {
            "text/plain": [
              "394"
            ]
          },
          "metadata": {},
          "execution_count": 62
        }
      ]
    },
    {
      "cell_type": "markdown",
      "metadata": {
        "id": "VnX6b45R0fqe"
      },
      "source": [
        "So there are 394 different classes of meteorites. Let's compute the counts for each class of meteorite using the `value_counts()` function:"
      ]
    },
    {
      "cell_type": "code",
      "metadata": {
        "id": "zT4HRB2ld9kI",
        "colab": {
          "base_uri": "https://localhost:8080/"
        },
        "outputId": "7f65a175-ae4a-4f48-d6af-13b9c76b2183"
      },
      "source": [
        "# S5.2: Count of the fall of the different class of meteorites.\n",
        "correct_lat_long_df['recclass'].value_counts()"
      ],
      "execution_count": 63,
      "outputs": [
        {
          "output_type": "execute_result",
          "data": {
            "text/plain": [
              "L6         6529\n",
              "H5         5590\n",
              "H4         3324\n",
              "H6         3231\n",
              "L5         2725\n",
              "           ... \n",
              "H5-7          1\n",
              "L3.9-6        1\n",
              "H~4/5         1\n",
              "L/LL4-6       1\n",
              "LL3.7-6       1\n",
              "Name: recclass, Length: 394, dtype: int64"
            ]
          },
          "metadata": {},
          "execution_count": 63
        }
      ]
    },
    {
      "cell_type": "markdown",
      "metadata": {
        "id": "LWw5dZk4GnG9"
      },
      "source": [
        "The `value_counts()` function returns a Pandas series. Let's store the series in a variable to do further analysis:"
      ]
    },
    {
      "cell_type": "code",
      "metadata": {
        "id": "MxveeXXCeThX",
        "colab": {
          "base_uri": "https://localhost:8080/"
        },
        "outputId": "aba6e8e6-03df-4729-93f6-c0c47a723fa4"
      },
      "source": [
        "# S5.3: Store the 'correct_lat_long_df['recclass'].value_counts()' Pandas series in a new variable.\n",
        "met_class_count=correct_lat_long_df['recclass'].value_counts()\n",
        "met_class_count"
      ],
      "execution_count": 64,
      "outputs": [
        {
          "output_type": "execute_result",
          "data": {
            "text/plain": [
              "L6         6529\n",
              "H5         5590\n",
              "H4         3324\n",
              "H6         3231\n",
              "L5         2725\n",
              "           ... \n",
              "H5-7          1\n",
              "L3.9-6        1\n",
              "H~4/5         1\n",
              "L/LL4-6       1\n",
              "LL3.7-6       1\n",
              "Name: recclass, Length: 394, dtype: int64"
            ]
          },
          "metadata": {},
          "execution_count": 64
        }
      ]
    },
    {
      "cell_type": "markdown",
      "metadata": {
        "id": "SLI4XWSk0qm4"
      },
      "source": [
        "Since there are 394 unique meteorite classes, it's not too useful to create a histogram for every single one of them. Let's create a histogram for the top ten class of meteorites to see if there is any kind of similarity in the pattern of their falls:"
      ]
    },
    {
      "cell_type": "code",
      "metadata": {
        "id": "dt8j4JGNese-",
        "colab": {
          "base_uri": "https://localhost:8080/"
        },
        "outputId": "54a21fad-4175-48ca-9973-50d1675287e2"
      },
      "source": [
        "# S5.4: Display the top 10 most number of class of meteorites fallen on Earth.\n",
        "met_class_count[:10].index"
      ],
      "execution_count": 67,
      "outputs": [
        {
          "output_type": "execute_result",
          "data": {
            "text/plain": [
              "Index(['L6', 'H5', 'H4', 'H6', 'L5', 'LL5', 'LL6', 'L4', 'H4/5', 'CM2'], dtype='object')"
            ]
          },
          "metadata": {},
          "execution_count": 67
        }
      ]
    },
    {
      "cell_type": "markdown",
      "metadata": {
        "id": "5yBhlS4dHC8s"
      },
      "source": [
        "Let's plot the histograms for the top 10 most number of fallen meteorite classes using the `hist()` function. Make sure that each histogram has exactly 50 bins:"
      ]
    },
    {
      "cell_type": "code",
      "metadata": {
        "id": "AO_UfL7gfE5w",
        "colab": {
          "base_uri": "https://localhost:8080/",
          "height": 1000
        },
        "outputId": "9ccd03af-c51b-4dec-b64d-19f17a239dd8"
      },
      "source": [
        "# S5.5: Plot the histograms for the top 10 most number of fallen meteorite classes using the 'hist()' function.\n",
        "for i in met_class_count[:10].index:\n",
        "    plt.figure(figsize=(14,5))\n",
        "    \n",
        "    plt.hist(correct_lat_long_df.loc[(correct_lat_long_df['recclass']==i) &(correct_lat_long_df['year']>1900),'year'],bins=50) \n",
        "    plt.title(i,loc='left',fontsize=\"50\")\n",
        "    plt.show()"
      ],
      "execution_count": 82,
      "outputs": [
        {
          "output_type": "display_data",
          "data": {
            "image/png": "[encoded data removed]",
            "text/plain": [
              "<Figure size 1008x360 with 1 Axes>"
            ]
          },
          "metadata": {
            "needs_background": "light"
          }
        },
        {
          "output_type": "display_data",
          "data": {
            "image/png": "[encoded data removed]",
            "text/plain": [
              "<Figure size 1008x360 with 1 Axes>"
            ]
          },
          "metadata": {
            "needs_background": "light"
          }
        },
        {
          "output_type": "display_data",
          "data": {
            "image/png": "[encoded data removed]",
            "text/plain": [
              "<Figure size 1008x360 with 1 Axes>"
            ]
          },
          "metadata": {
            "needs_background": "light"
          }
        },
        {
          "output_type": "display_data",
          "data": {
            "image/png": "[encoded data removed]",
            "text/plain": [
              "<Figure size 1008x360 with 1 Axes>"
            ]
          },
          "metadata": {
            "needs_background": "light"
          }
        },
        {
          "output_type": "display_data",
          "data": {
            "image/png": "[encoded data removed]",
            "text/plain": [
              "<Figure size 1008x360 with 1 Axes>"
            ]
          },
          "metadata": {
            "needs_background": "light"
          }
        },
        {
          "output_type": "display_data",
          "data": {
            "image/png": "[encoded data removed]",
            "text/plain": [
              "<Figure size 1008x360 with 1 Axes>"
            ]
          },
          "metadata": {
            "needs_background": "light"
          }
        },
        {
          "output_type": "display_data",
          "data": {
            "image/png": "[encoded data removed]",
            "text/plain": [
              "<Figure size 1008x360 with 1 Axes>"
            ]
          },
          "metadata": {
            "needs_background": "light"
          }
        },
        {
          "output_type": "display_data",
          "data": {
            "image/png": "[encoded data removed]",
            "text/plain": [
              "<Figure size 1008x360 with 1 Axes>"
            ]
          },
          "metadata": {
            "needs_background": "light"
          }
        },
        {
          "output_type": "display_data",
          "data": {
            "image/png": "[encoded data removed]",
            "text/plain": [
              "<Figure size 1008x360 with 1 Axes>"
            ]
          },
          "metadata": {
            "needs_background": "light"
          }
        },
        {
          "output_type": "display_data",
          "data": {
            "image/png": "[encoded data removed]",
            "text/plain": [
              "<Figure size 1008x360 with 1 Axes>"
            ]
          },
          "metadata": {
            "needs_background": "light"
          }
        }
      ]
    },
    {
      "cell_type": "markdown",
      "metadata": {
        "id": "77Ob_q--3MSB"
      },
      "source": [
        "There is no definite recognizable pattern in the fall of the meteorites over the years for a class of a meteorite. \n",
        "\n",
        "The only concrete observation that we can make from the histograms is that the most number of `LL5` class meteorites fell between the years 1995 and 2005 and the most number of the `H4/5` class meteorites fell between the years 1975 and 1980. \n",
        "\n",
        "That's it for now. In the next class, we will learn how to add additional information such as the counts of the meteorites in the histograms and count plots."
      ]
    },
    {
      "cell_type": "markdown",
      "metadata": {
        "id": "jFTqSsa6UuZA"
      },
      "source": [
        "---"
      ]
    }
  ]
}