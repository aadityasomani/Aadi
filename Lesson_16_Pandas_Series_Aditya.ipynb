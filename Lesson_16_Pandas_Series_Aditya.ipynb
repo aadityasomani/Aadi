{
  "nbformat": 4,
  "nbformat_minor": 0,
  "metadata": {
    "colab": {
      "name": "Lesson 16 - Pandas Series - Aditya",
      "provenance": [],
      "collapsed_sections": [],
      "include_colab_link": true
    },
    "kernelspec": {
      "name": "python3",
      "display_name": "Python 3"
    }
  },
  "cells": [
    {
      "cell_type": "markdown",
      "metadata": {
        "id": "view-in-github",
        "colab_type": "text"
      },
      "source": [
        "<a href=\"https://colab.research.google.com/github/aadityasomani/Aadi/blob/master/Lesson_16_Pandas_Series_Aditya.ipynb\" target=\"_parent\"><img src=\"https://colab.research.google.com/assets/colab-badge.svg\" alt=\"Open In Colab\"/></a>"
      ]
    },
    {
      "cell_type": "markdown",
      "metadata": {
        "id": "KZngaph1E1HU"
      },
      "source": [
        "# Lesson 16: Pandas Series"
      ]
    },
    {
      "cell_type": "markdown",
      "metadata": {
        "id": "lu7sQsTV5-eP"
      },
      "source": [
        "\n",
        "|Particulars|Description|\n",
        "|-|-|\n",
        "|**Topics Covered**|Creating Pandas series|\n",
        "||Measures of central tendency|\n",
        "||Pandas series operations|\n",
        "||Comparison between Python lists, NumPy arrays, and Pandas series|\n",
        "|||\n",
        "|**Lesson Description**|In this class, a student will create a Pandas series.|\n",
        "|||\n",
        "|**Lesson Duration**|45 minutes|\n",
        "|||\n",
        "|**Learning Outcomes**|Create a Pandas series.|\n",
        "||Retrieve an item from a Pandas series.|\n",
        "||Apply basic statistical operations on a Pandas series.|\n",
        "\n"
      ]
    },
    {
      "cell_type": "markdown",
      "metadata": {
        "id": "6zaxTgXE5_5n"
      },
      "source": [
        "---"
      ]
    },
    {
      "cell_type": "markdown",
      "metadata": {
        "id": "9xQQ4vHgQBSN"
      },
      "source": [
        "### Teacher-Student Tasks\n",
        "\n",
        "Before we go ahead with more concepts on Machine Learning and Artificial Intelligence, let's first learn a bit of Data Analysis, so that you can get a better understanding of data. Every dataset tells you a story if you look at it through the right lenses.\n",
        "\n",
        "To give you a perspective, imagine that you have data on the number of sales happening in every month of every single shop in your city. You would notice that during the festivals, the sales volume of sweets rises by a tremendous magnitude. Similarly, the sales volume of clothes, jewellery, and electronic products also rose significantly in this period.\n",
        "\n",
        "If you have the tourism data, then you would see that a lot of people in India go on a vacation in May and June, which makes sense because schools are closed in these two months due to summer vacation.\n",
        "\n",
        "Through data, you can observe a trend, and based on that trend you can draw meaningful insights, helping you in making decisions in your daily life, in business organizations, in medical and engineering applications, etc. \n",
        "\n",
        "When it comes to Data Analysis in Python, we use a module called Pandas which is specifically designed to manipulate, manage and analyze a huge amount of data by creating Pandas Series and Pandas DataFrames. \n",
        "\n",
        "In this lesson, we will learn about the Pandas Series."
      ]
    },
    {
      "cell_type": "markdown",
      "metadata": {
        "id": "crUqZtm_BRK6"
      },
      "source": [
        "---"
      ]
    },
    {
      "cell_type": "markdown",
      "metadata": {
        "id": "2jtEZd96SmI9"
      },
      "source": [
        "#### Pandas Series \n",
        "\n",
        "A Pandas series is a one-dimensional array that can hold various data types. It is similar to a Python list and a NumPy array.\n",
        "\n",
        "Without going too much into the theory, let's get started with the Pandas series right away. At the end of the class, we will learn when to use a Python list, a NumPy array, and a Pandas series."
      ]
    },
    {
      "cell_type": "markdown",
      "metadata": {
        "id": "PiRvtjf1BXlV"
      },
      "source": [
        "---"
      ]
    },
    {
      "cell_type": "markdown",
      "metadata": {
        "id": "6VYKPpnVavVx"
      },
      "source": [
        "#### Task 1: Python List To Pandas Series Conversion\n",
        "\n",
        "Let's understand the Pandas series through an example. Suppose there are `30` students in your class and their weights vary in the range of `45` to `60` kg (both inclusive).\n",
        "\n",
        "We can create a Pandas series containing the weights of the students by first creating a Python list and then converting it to a Pandas series. To create a Pandas series, you have to first import the `pandas` module using the `import` keyword. \n",
        "\n",
        "```\n",
        "import pandas as pd\n",
        "```\n",
        "\n",
        "Here, `pd` is an alias (or nickname) for `pandas`\n",
        "\n",
        "Then you can call the `Series()` function to convert a Python list or a NumPy array into a Pandas series:\n",
        "\n",
        "```\n",
        "weights = pd.Series([random.randint(45, 60) for i in range(30)])\n",
        "```\n",
        "\n",
        "**Note:** Unlike other functions, the `Series()` function begins with the uppercase letter `S`."
      ]
    },
    {
      "cell_type": "code",
      "metadata": {
        "id": "EMr9AICpP2wY",
        "colab": {
          "base_uri": "https://localhost:8080/"
        },
        "outputId": "c8226828-40f9-4770-c1d6-a44943df16fa"
      },
      "source": [
        "# S1.1: Create a Pandas series containing 30 random integers between 45 and 60.\n",
        "import pandas as pd\n",
        "import random\n",
        "weights=pd.Series([random.randint(45,60) for i in range(30)])\n",
        "weights"
      ],
      "execution_count": null,
      "outputs": [
        {
          "output_type": "execute_result",
          "data": {
            "text/plain": [
              "0     58\n",
              "1     56\n",
              "2     60\n",
              "3     59\n",
              "4     58\n",
              "5     50\n",
              "6     50\n",
              "7     57\n",
              "8     57\n",
              "9     60\n",
              "10    58\n",
              "11    49\n",
              "12    53\n",
              "13    46\n",
              "14    56\n",
              "15    48\n",
              "16    45\n",
              "17    59\n",
              "18    49\n",
              "19    58\n",
              "20    53\n",
              "21    46\n",
              "22    51\n",
              "23    52\n",
              "24    55\n",
              "25    52\n",
              "26    57\n",
              "27    51\n",
              "28    57\n",
              "29    52\n",
              "dtype: int64"
            ]
          },
          "metadata": {},
          "execution_count": 139
        }
      ]
    },
    {
      "cell_type": "markdown",
      "metadata": {
        "id": "UrDULktVb2Ji"
      },
      "source": [
        "The first column in the output represents the indices of all the items in the `weights` Pandas series. The second column contains the weights of the students. The data type of each item is an `int`.\n",
        "\n",
        "**Note:** Ignore the `64` in the `int64` for the time being. \n",
        "\n",
        "Using the `Series()` function, you can convert any one-dimensional Python list into a Pandas series. Now, let's verify whether `weights` is a Pandas series or not:"
      ]
    },
    {
      "cell_type": "code",
      "metadata": {
        "id": "TDnNWIjxz99A",
        "colab": {
          "base_uri": "https://localhost:8080/"
        },
        "outputId": "99215f05-6730-4350-9daa-02f9dd616d74"
      },
      "source": [
        "# S1.2: Verify the type of value stored in the 'weights' variable using the 'type()' function.\n",
        "type(weights)"
      ],
      "execution_count": null,
      "outputs": [
        {
          "output_type": "execute_result",
          "data": {
            "text/plain": [
              "pandas.core.series.Series"
            ]
          },
          "metadata": {},
          "execution_count": 140
        }
      ]
    },
    {
      "cell_type": "markdown",
      "metadata": {
        "id": "9sOodrKz0K4O"
      },
      "source": [
        "The `type()` function returns `pandas.core.series.Series` as an output that confirms that `weights` are indeed a Pandas series. \n",
        "\n",
        "A Pandas series can also contain items of multiple data types. Recall that in one of the previous class, we created 4 different variables to store the attributes of a planet (*Learned in Lesson:  Variables and Data Types*).\n",
        "\n",
        "||Mercury|\n",
        "|-|-|\n",
        "|Diameter (km)|4879|\n",
        "|Gravity ($m/s^2$)|3.7|\n",
        "|Ring|No|\n",
        "\n",
        "\n",
        "Let's store the name of a planet, its diameter, gravity, and whether it has a ring or not in a Python list and then convert it into a pandas series:\n"
      ]
    },
    {
      "cell_type": "code",
      "metadata": {
        "id": "rsq1SJvObuMK",
        "colab": {
          "base_uri": "https://localhost:8080/"
        },
        "outputId": "581595b8-99e1-42ee-b312-f146dda81c90"
      },
      "source": [
        "# S1.3: Create a Python list that contains planet name, diameter, gravity, and False if the planet has a ring.\n",
        "# Convert the list into a Pandas series. Also, verify whether the list successfully is converted to a Pandas series or not.\n",
        "planet_data=pd.Series([\"Mercury\",4879,4.56,True])\n",
        "print(planet_data)"
      ],
      "execution_count": null,
      "outputs": [
        {
          "output_type": "stream",
          "name": "stdout",
          "text": [
            "0    Mercury\n",
            "1       4879\n",
            "2       4.56\n",
            "3       True\n",
            "dtype: object\n"
          ]
        }
      ]
    },
    {
      "cell_type": "markdown",
      "metadata": {
        "id": "qYnWSTd-oEBY"
      },
      "source": [
        "Here the data type is an `object`. Pandas cannot return the data type of every individual item. Hence, it has returned `object` data type to represent one common data type for all the items.\n",
        "\n",
        "You can also use the `size` keyword to find the number of items in a Pandas series:"
      ]
    },
    {
      "cell_type": "code",
      "metadata": {
        "id": "PUa5uRc2Cysy",
        "colab": {
          "base_uri": "https://localhost:8080/"
        },
        "outputId": "08341cff-6edd-40a1-fdc6-64c122b278cf"
      },
      "source": [
        "# S1.4: Find the number of items in the 'weights' Pandas series using the 'size' keyword.\n",
        "weights.size"
      ],
      "execution_count": null,
      "outputs": [
        {
          "output_type": "execute_result",
          "data": {
            "text/plain": [
              "30"
            ]
          },
          "metadata": {},
          "execution_count": 142
        }
      ]
    },
    {
      "cell_type": "markdown",
      "metadata": {
        "id": "QtQA2xU0C94F"
      },
      "source": [
        "So, there are `30` items in the `weights` Pandas series. \n",
        "\n",
        "You can also use the `shape` keyword to find the number of rows and columns in a Pandas series:"
      ]
    },
    {
      "cell_type": "code",
      "metadata": {
        "id": "-y9cRsdBDH-G",
        "colab": {
          "base_uri": "https://localhost:8080/"
        },
        "outputId": "5feab030-a9a9-41e7-ad47-e00745076588"
      },
      "source": [
        "# S1.5: Find the number of rows and columns in the 'weights' Pandas series using the 'shape' keyword.\n",
        "weights.shape"
      ],
      "execution_count": null,
      "outputs": [
        {
          "output_type": "execute_result",
          "data": {
            "text/plain": [
              "(30,)"
            ]
          },
          "metadata": {},
          "execution_count": 143
        }
      ]
    },
    {
      "cell_type": "markdown",
      "metadata": {
        "id": "UiqBN8vsDOyh"
      },
      "source": [
        "So, there are `30` rows and `1` column in the `weights` Pandas series."
      ]
    },
    {
      "cell_type": "markdown",
      "metadata": {
        "id": "KGtlRcPDBfPd"
      },
      "source": [
        "---"
      ]
    },
    {
      "cell_type": "markdown",
      "metadata": {
        "id": "SLrh_iDB1M74"
      },
      "source": [
        "#### Task 2: The `mean(), min(), max()` Functions \n",
        "\n",
        "The `mean()` function does not take any input and returns the average value of all the items as an output.\n",
        "\n",
        "To apply this function, you need to write the Pandas series; whose mean value you need to compute, followed by the dot (`.`) operator:\n"
      ]
    },
    {
      "cell_type": "code",
      "metadata": {
        "id": "Ce9nbvapc3HX",
        "colab": {
          "base_uri": "https://localhost:8080/"
        },
        "outputId": "476fcabd-342f-434a-9f41-9cc313fc5efc"
      },
      "source": [
        "# S2.1: Calculate the average value of all the numbers in a Pandas series.\n",
        "weights.mean()"
      ],
      "execution_count": null,
      "outputs": [
        {
          "output_type": "execute_result",
          "data": {
            "text/plain": [
              "53.733333333333334"
            ]
          },
          "metadata": {},
          "execution_count": 144
        }
      ]
    },
    {
      "cell_type": "markdown",
      "metadata": {
        "id": "Xb62jTLtup7l"
      },
      "source": [
        "Thus, the mean value of `weights` series is approximately `54.567`. Similarly, you can also find the minimum and maximum values in a Pandas series using the `min()` and `max()` functions:"
      ]
    },
    {
      "cell_type": "code",
      "metadata": {
        "id": "MoGFFlFGzm5_",
        "colab": {
          "base_uri": "https://localhost:8080/"
        },
        "outputId": "6d761997-b47e-465e-f116-0bcafa9ea10e"
      },
      "source": [
        "# S2.2: Using the 'min()' and 'max()' functions, print the minimum and maximum values in the 'weights' Pandas series.\n",
        "weights.max()"
      ],
      "execution_count": null,
      "outputs": [
        {
          "output_type": "execute_result",
          "data": {
            "text/plain": [
              "60"
            ]
          },
          "metadata": {},
          "execution_count": 145
        }
      ]
    },
    {
      "cell_type": "markdown",
      "metadata": {
        "id": "rtH3HOvsGvxG"
      },
      "source": [
        "Thus, the minimum and maximum values in `weights` series is 46 and 60 respectively."
      ]
    },
    {
      "cell_type": "markdown",
      "metadata": {
        "id": "1Aa8dT_nBg0U"
      },
      "source": [
        "---"
      ]
    },
    {
      "cell_type": "markdown",
      "metadata": {
        "id": "ppYm2Q9V3s2H"
      },
      "source": [
        "#### Task 3: The `head()` and `tail()` Functions\n",
        "\n",
        "Sometimes instead of looking at the full dataset, we just want to look at the first few rows or the last few rows of the dataset. In such cases, we can use the `head()` and `tail()` functions.\n",
        "\n",
        "The `head()` function shows the first five and the `tail()` function shows the last five items in a Pandas series.\n",
        "\n",
        "Let us apply `head()` and `tail()` functions on `weights` series."
      ]
    },
    {
      "cell_type": "code",
      "metadata": {
        "id": "C2mEBmQv1wmr",
        "colab": {
          "base_uri": "https://localhost:8080/"
        },
        "outputId": "3ec3f1b2-9291-4883-c80a-36bf4e39612a"
      },
      "source": [
        "# S3.1: Print only the first 5 items in a Pandas series using the 'head()' function.\n",
        "weights.head()"
      ],
      "execution_count": null,
      "outputs": [
        {
          "output_type": "execute_result",
          "data": {
            "text/plain": [
              "0    58\n",
              "1    56\n",
              "2    60\n",
              "3    59\n",
              "4    58\n",
              "dtype: int64"
            ]
          },
          "metadata": {},
          "execution_count": 146
        }
      ]
    },
    {
      "cell_type": "markdown",
      "metadata": {
        "id": "8vHjxvBe4mDU"
      },
      "source": [
        "The numbers in the first column in the output are the indices of each item in the Pandas series. Since we print the first five items, the indices range from `0` to `4`."
      ]
    },
    {
      "cell_type": "code",
      "metadata": {
        "id": "4BZ0vDmy4kWQ",
        "colab": {
          "base_uri": "https://localhost:8080/"
        },
        "outputId": "d90d58b7-5d19-45d6-c3a8-6a7596e5b44e"
      },
      "source": [
        "# S3.2: Using the 'tail()' function, print the last 5 items in the Pandas series.\n",
        "weights.tail()"
      ],
      "execution_count": null,
      "outputs": [
        {
          "output_type": "execute_result",
          "data": {
            "text/plain": [
              "25    52\n",
              "26    57\n",
              "27    51\n",
              "28    57\n",
              "29    52\n",
              "dtype: int64"
            ]
          },
          "metadata": {},
          "execution_count": 147
        }
      ]
    },
    {
      "cell_type": "markdown",
      "metadata": {
        "id": "-Z8RAfIr3wiO"
      },
      "source": [
        "Since we printed the last five items of the series, the indices range from `25` to `29`.\n",
        "\n",
        "Within the `head()` and `tail()` functions, you can specify the `n` number of first items and the `n` number of last items you wish to see in a Pandas series.\n",
        "\n",
        "Let us print the first 8 items of the `weights` series using `head()` function."
      ]
    },
    {
      "cell_type": "code",
      "metadata": {
        "id": "QX5A5rd23v01",
        "colab": {
          "base_uri": "https://localhost:8080/"
        },
        "outputId": "888c9afa-2e2b-4bf0-e3a7-4d428dbc306b"
      },
      "source": [
        "# S3.3: Using the 'head()' function, print the first 8 items of the weights series.\n",
        "weights.head(8)"
      ],
      "execution_count": null,
      "outputs": [
        {
          "output_type": "execute_result",
          "data": {
            "text/plain": [
              "0    58\n",
              "1    56\n",
              "2    60\n",
              "3    59\n",
              "4    58\n",
              "5    50\n",
              "6    50\n",
              "7    57\n",
              "dtype: int64"
            ]
          },
          "metadata": {},
          "execution_count": 148
        }
      ]
    },
    {
      "cell_type": "markdown",
      "metadata": {
        "id": "NbmDxzYkIptO"
      },
      "source": [
        "Similarly, let us print the last 12 items of the `weights` series using `tail()` function."
      ]
    },
    {
      "cell_type": "code",
      "metadata": {
        "id": "jG3-LcqW4Xps",
        "colab": {
          "base_uri": "https://localhost:8080/"
        },
        "outputId": "fc665ba6-5219-4d44-ac4a-952b22509650"
      },
      "source": [
        "# S3.4: Using the 'tail()' function, print the last 12 items of the weights series.\n",
        "weights.tail(3)"
      ],
      "execution_count": null,
      "outputs": [
        {
          "output_type": "execute_result",
          "data": {
            "text/plain": [
              "27    51\n",
              "28    57\n",
              "29    52\n",
              "dtype: int64"
            ]
          },
          "metadata": {},
          "execution_count": 149
        }
      ]
    },
    {
      "cell_type": "markdown",
      "metadata": {
        "id": "36VLFXO3I-Hl"
      },
      "source": [
        "Thus, we can view a small sample of a series using pandas `head()` and `tail()` functions."
      ]
    },
    {
      "cell_type": "markdown",
      "metadata": {
        "id": "Rme5LFfDBjBl"
      },
      "source": [
        "---"
      ]
    },
    {
      "cell_type": "markdown",
      "metadata": {
        "id": "R-YHECv8272g"
      },
      "source": [
        "#### Task 4: Indexing A Pandas Series\n",
        "\n",
        "Indexing a Pandas series is the same as indexing a Python list or a NumPy array. \n",
        "\n",
        "Let's say we want to get the weights of the students whose indices range from `13` to `21`, then you can write the variable storing the Pandas series followed by the square brackets `[]`. Inside the square brackets, you can mention the range of items you wish to retrieve from a series.\n",
        "\n",
        "**Syntax:** `pandas_series[start_index:end_index]`\n",
        "\n",
        "For example, to print the weights of the students whose indices range from `13` to `21`, the `start_index` would be `13` and `end_index` would be the next number after `21` i.e. `22`. Let us print these weights."
      ]
    },
    {
      "cell_type": "code",
      "metadata": {
        "id": "phhN5YRc3k3b",
        "colab": {
          "base_uri": "https://localhost:8080/"
        },
        "outputId": "54c9efb7-09c4-4480-cca3-bd3ef551291a"
      },
      "source": [
        "# S4.1: Retrieve items from a Pandas series using the indexing method.\n",
        "weights[17:28]"
      ],
      "execution_count": null,
      "outputs": [
        {
          "output_type": "execute_result",
          "data": {
            "text/plain": [
              "17    59\n",
              "18    49\n",
              "19    58\n",
              "20    53\n",
              "21    46\n",
              "22    51\n",
              "23    52\n",
              "24    55\n",
              "25    52\n",
              "26    57\n",
              "27    51\n",
              "dtype: int64"
            ]
          },
          "metadata": {},
          "execution_count": 150
        }
      ]
    },
    {
      "cell_type": "code",
      "metadata": {
        "id": "OkuDG88ICFF8"
      },
      "source": [
        "# S4.2: Print the items ranging from indices 17 to 27.\n"
      ],
      "execution_count": null,
      "outputs": []
    },
    {
      "cell_type": "markdown",
      "metadata": {
        "id": "JNWu5EOFKGRt"
      },
      "source": [
        "Hence, we can select particular rows and columns of data from a series using indexing method."
      ]
    },
    {
      "cell_type": "markdown",
      "metadata": {
        "id": "KyUdbTFud0V0"
      },
      "source": [
        "---"
      ]
    },
    {
      "cell_type": "markdown",
      "metadata": {
        "id": "kWIw-52mGY_O"
      },
      "source": [
        "#### Task 5: The `mode()` Function\n",
        "\n",
        "Let's say you want to find out the weights of the most number of students in your class, then you can use the `mode()` function."
      ]
    },
    {
      "cell_type": "code",
      "metadata": {
        "id": "usuCFOT5DnI0",
        "colab": {
          "base_uri": "https://localhost:8080/"
        },
        "outputId": "6ea8fbf8-d383-4c36-b130-8f8f21c2e2cd"
      },
      "source": [
        "# S5.1: Compute the modal value in the 'weight' series.\n",
        "weights.mode()"
      ],
      "execution_count": null,
      "outputs": [
        {
          "output_type": "execute_result",
          "data": {
            "text/plain": [
              "0    57\n",
              "1    58\n",
              "dtype: int64"
            ]
          },
          "metadata": {},
          "execution_count": 152
        }
      ]
    },
    {
      "cell_type": "markdown",
      "metadata": {
        "id": "a4lTVCuwIkC2"
      },
      "source": [
        "**Note**: A dataset can have more than one modal value. \n"
      ]
    },
    {
      "cell_type": "markdown",
      "metadata": {
        "id": "8wRQOfR7Bmqr"
      },
      "source": [
        "---"
      ]
    },
    {
      "cell_type": "markdown",
      "metadata": {
        "id": "FHZ9M6342j2M"
      },
      "source": [
        "#### Task 6: The `sort_values()` Function\n",
        "\n",
        "We can use the `sort_values()` function to arrange the numbers in a Pandas series either in an ascending order or in descending order.\n",
        "\n",
        "To arrange the numbers in a Pandas series in increasing order, use the `sort_values()` function with the `ascending=True` as an input."
      ]
    },
    {
      "cell_type": "code",
      "metadata": {
        "id": "Ahm8KCSm243J",
        "colab": {
          "base_uri": "https://localhost:8080/"
        },
        "outputId": "6ae860c4-8a98-4da7-dd96-52025e9030ec"
      },
      "source": [
        "# S6.1: Arrange the weights in the increasing order using the 'sort_values()' function.\n",
        "weights.sort_values(ascending=True)"
      ],
      "execution_count": null,
      "outputs": [
        {
          "output_type": "execute_result",
          "data": {
            "text/plain": [
              "16    45\n",
              "21    46\n",
              "13    46\n",
              "15    48\n",
              "18    49\n",
              "11    49\n",
              "5     50\n",
              "6     50\n",
              "27    51\n",
              "22    51\n",
              "29    52\n",
              "25    52\n",
              "23    52\n",
              "20    53\n",
              "12    53\n",
              "24    55\n",
              "14    56\n",
              "1     56\n",
              "8     57\n",
              "7     57\n",
              "26    57\n",
              "28    57\n",
              "10    58\n",
              "19    58\n",
              "4     58\n",
              "0     58\n",
              "17    59\n",
              "3     59\n",
              "9     60\n",
              "2     60\n",
              "dtype: int64"
            ]
          },
          "metadata": {},
          "execution_count": 153
        }
      ]
    },
    {
      "cell_type": "markdown",
      "metadata": {
        "id": "HvuYmLY01NRE"
      },
      "source": [
        "To arrange the numbers in a Pandas series in the decreasing order, use the `sort_values()` function with the `ascending=False` as an input."
      ]
    },
    {
      "cell_type": "code",
      "metadata": {
        "id": "58zrrGp03MPr",
        "colab": {
          "base_uri": "https://localhost:8080/"
        },
        "outputId": "d7853420-8c41-4cbd-cae8-7aa01ab0292f"
      },
      "source": [
        "# Student Action: Using the 'sort_values()' function, arrange the weights in the decreasing order.\n",
        "weights.sort_values(ascending=False)"
      ],
      "execution_count": null,
      "outputs": [
        {
          "output_type": "execute_result",
          "data": {
            "text/plain": [
              "2     60\n",
              "9     60\n",
              "3     59\n",
              "17    59\n",
              "0     58\n",
              "4     58\n",
              "19    58\n",
              "10    58\n",
              "28    57\n",
              "26    57\n",
              "7     57\n",
              "8     57\n",
              "1     56\n",
              "14    56\n",
              "24    55\n",
              "12    53\n",
              "20    53\n",
              "23    52\n",
              "25    52\n",
              "29    52\n",
              "22    51\n",
              "27    51\n",
              "6     50\n",
              "5     50\n",
              "11    49\n",
              "18    49\n",
              "15    48\n",
              "13    46\n",
              "21    46\n",
              "16    45\n",
              "dtype: int64"
            ]
          },
          "metadata": {},
          "execution_count": 154
        }
      ]
    },
    {
      "cell_type": "markdown",
      "metadata": {
        "id": "ZK1Iu7vKJwtE"
      },
      "source": [
        "**Note:** The `sort_values()` function does not have any separate attribute like `descending = True` for arranging numbers in descending order. Use `ascending = False` only for descending order."
      ]
    },
    {
      "cell_type": "markdown",
      "metadata": {
        "id": "f_gvj2iuBojX"
      },
      "source": [
        "---"
      ]
    },
    {
      "cell_type": "markdown",
      "metadata": {
        "id": "JzMxsDyM1xjF"
      },
      "source": [
        "#### Task 7: The `median()` Function\n",
        "\n",
        "To find the median value in a Pandas series, we can simply use the `median()` function.\n"
      ]
    },
    {
      "cell_type": "code",
      "metadata": {
        "id": "7ow8yIRJIVkH",
        "colab": {
          "base_uri": "https://localhost:8080/"
        },
        "outputId": "1f275aaf-8af2-4f42-809f-965d8c536a96"
      },
      "source": [
        "# S7.1: Using the 'median()' function, find the median weight in the weights series.\n",
        "weights.median()"
      ],
      "execution_count": null,
      "outputs": [
        {
          "output_type": "execute_result",
          "data": {
            "text/plain": [
              "54.0"
            ]
          },
          "metadata": {},
          "execution_count": 155
        }
      ]
    },
    {
      "cell_type": "markdown",
      "metadata": {
        "id": "ZIOsjoUMKdCE"
      },
      "source": [
        "Thus, the median value of `weights` series is `55.5`."
      ]
    },
    {
      "cell_type": "markdown",
      "metadata": {
        "id": "miV_5-BUBqgo"
      },
      "source": [
        "---"
      ]
    },
    {
      "cell_type": "markdown",
      "metadata": {
        "id": "OzwfreqNImoh"
      },
      "source": [
        "#### Task 8: The `value_counts()` Function\n",
        "\n",
        "To count the number of occurrences of an item in a Pandas series, you can use the `value_counts()` function:"
      ]
    },
    {
      "cell_type": "code",
      "metadata": {
        "id": "oXpzD6kCIrFc",
        "colab": {
          "base_uri": "https://localhost:8080/"
        },
        "outputId": "c4a03072-e0bb-42c8-a6af-4e833b139878"
      },
      "source": [
        "# S8.1: Count the number of times each item in the 'weights' Pandas series occurs.\n",
        "weights.value_counts()"
      ],
      "execution_count": null,
      "outputs": [
        {
          "output_type": "execute_result",
          "data": {
            "text/plain": [
              "58    4\n",
              "57    4\n",
              "52    3\n",
              "60    2\n",
              "59    2\n",
              "56    2\n",
              "53    2\n",
              "51    2\n",
              "50    2\n",
              "49    2\n",
              "46    2\n",
              "55    1\n",
              "48    1\n",
              "45    1\n",
              "dtype: int64"
            ]
          },
          "metadata": {},
          "execution_count": 156
        }
      ]
    },
    {
      "cell_type": "markdown",
      "metadata": {
        "id": "sm6gnHKkJFTw"
      },
      "source": [
        "**Note:** The `value_counts()` function is not available for Python lists and NumPy arrays.\n",
        "\n",
        "There is more to the Pandas series. We will learn it in detail along with Pandas DataFrames from the next class onwards. This is just an introductory class to Pandas."
      ]
    },
    {
      "cell_type": "markdown",
      "metadata": {
        "id": "fxkchvyXiCdB"
      },
      "source": [
        "---"
      ]
    },
    {
      "cell_type": "markdown",
      "metadata": {
        "id": "5EwMI1JpiEDr"
      },
      "source": [
        "#### Python List vs NumPy Array vs Pandas Series\n",
        "\n",
        "You might now wonder when to use a Python list, a NumPy array, and a Pandas series?\n",
        "\n",
        "There are no hard rules to decide when to use which one of these data structures but as a guide you may consider the following:\n",
        "\n",
        "1. When you just want to store data, retrieve data, and add more data, use a Python list.\n",
        "\n",
        "2. When you want to store numerical data (one-dimensional or multidimensional) and want to perform a lot of mathematical operations, then use a NumPy array as it faster than a Python list and it is easy to create a multidimensional array using a NumPy array.\n",
        "\n",
        "3. When you want to import data from an external file such as `TXT, XLXS, CSV, XML`, etc. then use a Pandas series. In the next class, you will learn how to import data from an external file. Additionally, Pandas allow you to interpret data in different ways. It also allows you to do complicated data extraction, manipulation, and data processing operations on a dataset. Throughout this course, we will use the Pandas library to handle data."
      ]
    },
    {
      "cell_type": "markdown",
      "metadata": {
        "id": "beimGUcBsjx2"
      },
      "source": [
        "We will stop here. In the next class, we will learn about Pandas DataFrame which is a collection of Pandas series."
      ]
    },
    {
      "cell_type": "markdown",
      "metadata": {
        "id": "g1bVOdOWJSav"
      },
      "source": [
        "---"
      ]
    },
    {
      "cell_type": "markdown",
      "metadata": {
        "id": "TGE34-ioij-T"
      },
      "source": [
        "# User Define Median\n",
        "1. Take input in the function\n",
        "2. result=0\n",
        "3. convert series into list\n",
        "4. sort \n",
        "5. if even no of elemnts print avg of n/2+ n/2-1\n",
        "6. else print elemnt n/2"
      ]
    },
    {
      "cell_type": "code",
      "metadata": {
        "colab": {
          "base_uri": "https://localhost:8080/"
        },
        "id": "99KRz7s6in3D",
        "outputId": "1a7d866b-dfab-48dd-971b-9addd86f6986"
      },
      "source": [
        "def compute_median(num_series):\n",
        "    result=0\n",
        "    #num_list=list(num_series)\n",
        "    num_list=[num for num in num_series]\n",
        "    num_list.sort()\n",
        "    l=len(num_list)\n",
        "    if l%2==0:\n",
        "        result=(num_list[l//2]+num_list[l//2-1])/2\n",
        "    else:\n",
        "        result=num_list[l//2]\n",
        "    return result\n",
        "compute_median(weights)"
      ],
      "execution_count": null,
      "outputs": [
        {
          "output_type": "execute_result",
          "data": {
            "text/plain": [
              "54.0"
            ]
          },
          "metadata": {},
          "execution_count": 157
        }
      ]
    },
    {
      "cell_type": "code",
      "metadata": {
        "colab": {
          "base_uri": "https://localhost:8080/"
        },
        "id": "bjdeQoBxlFf8",
        "outputId": "f403d6ab-dbea-430e-f591-cfdc717d47ee"
      },
      "source": [
        "#Mean\n",
        "def compute_mean(num_series):\n",
        "    sum=0\n",
        "    num_list=list(num_series)\n",
        "    l=len(num_list)\n",
        "    for i in num_list:\n",
        "        sum+=i\n",
        "    return sum/l\n",
        "compute_mean(weights)"
      ],
      "execution_count": null,
      "outputs": [
        {
          "output_type": "execute_result",
          "data": {
            "text/plain": [
              "53.733333333333334"
            ]
          },
          "metadata": {},
          "execution_count": 158
        }
      ]
    },
    {
      "cell_type": "code",
      "metadata": {
        "colab": {
          "base_uri": "https://localhost:8080/"
        },
        "id": "ksZcW8eElxC8",
        "outputId": "93be061f-e912-4979-8b53-78e7e0613be2"
      },
      "source": [
        "#min\n",
        "def min_max(num_series):\n",
        "    \n",
        "    max=0\n",
        "    \n",
        "    num_list=list(num_series)\n",
        "    min=num_list[0]\n",
        "    l=len(num_list)\n",
        "    for i in num_list:\n",
        "        \n",
        "        if i<min:\n",
        "            min=i\n",
        "        if i>max:\n",
        "            max=i\n",
        "    return min,max\n",
        "min_max(weights)\n",
        "        "
      ],
      "execution_count": null,
      "outputs": [
        {
          "output_type": "execute_result",
          "data": {
            "text/plain": [
              "(45, 60)"
            ]
          },
          "metadata": {},
          "execution_count": 159
        }
      ]
    },
    {
      "cell_type": "code",
      "metadata": {
        "colab": {
          "base_uri": "https://localhost:8080/"
        },
        "id": "3g1XFa1_my7u",
        "outputId": "970852f0-cdf7-4d75-ac23-eb1e27ffb5b2"
      },
      "source": [
        "#mode\n",
        "def compute_mode(num_series):\n",
        "    count_list=[]\n",
        "    input_list=list(num_series)\n",
        "    for i in input_list:\n",
        "        item_count=input_list.count(i)\n",
        "        count_list.append(item_count)\n",
        "    count_arr=pd.Series(count_list)\n",
        "    max_count=count_arr.max()\n",
        "    max_index=count_list.index(max_count)\n",
        "    mode=input_list[max_index]\n",
        "    return mode,max_count\n",
        "compute_mode(weights)\n"
      ],
      "execution_count": null,
      "outputs": [
        {
          "output_type": "execute_result",
          "data": {
            "text/plain": [
              "(58, 4)"
            ]
          },
          "metadata": {},
          "execution_count": 162
        }
      ]
    },
    {
      "cell_type": "code",
      "metadata": {
        "id": "aK7LRBOZpAzh"
      },
      "source": [
        ""
      ],
      "execution_count": null,
      "outputs": []
    }
  ]
}