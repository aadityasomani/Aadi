{
  "nbformat": 4,
  "nbformat_minor": 0,
  "metadata": {
    "colab": {
      "name": "Lesson 78 - Database Fundamentals - Aditya",
      "provenance": [],
      "collapsed_sections": [],
      "include_colab_link": true
    },
    "kernelspec": {
      "name": "python3",
      "display_name": "Python 3"
    },
    "language_info": {
      "name": "python"
    }
  },
  "cells": [
    {
      "cell_type": "markdown",
      "metadata": {
        "id": "view-in-github",
        "colab_type": "text"
      },
      "source": [
        "<a href=\"https://colab.research.google.com/github/aadityasomani/Aadi/blob/master/Lesson_78_Database_Fundamentals_Aditya.ipynb\" target=\"_parent\"><img src=\"https://colab.research.google.com/assets/colab-badge.svg\" alt=\"Open In Colab\"/></a>"
      ]
    },
    {
      "cell_type": "markdown",
      "metadata": {
        "id": "ZUozgLzWzm3i"
      },
      "source": [
        "# Lesson 78: Database Fundamentals"
      ]
    },
    {
      "cell_type": "markdown",
      "metadata": {
        "id": "fUOZH_r6pLRa"
      },
      "source": [
        "---"
      ]
    },
    {
      "cell_type": "markdown",
      "metadata": {
        "id": "OrHqTxW_6Hop"
      },
      "source": [
        "### Teacher-Student Tasks\n",
        "\n",
        "In this class, you will be introduced to the database and some of the fundamentals of databases like Relational Databases, Schemas, and SQL."
      ]
    },
    {
      "cell_type": "markdown",
      "metadata": {
        "id": "WzWzUNQpx203"
      },
      "source": [
        "---"
      ]
    },
    {
      "cell_type": "markdown",
      "metadata": {
        "id": "C1BFColH9NoT"
      },
      "source": [
        "#### Task 1: Introduction to Databases\n",
        "\n",
        "A database is the organized collection of interrelated data where the data can be anything from simple text to a video file. A database can be of any size and complexity.\n",
        "\n",
        "Traditionally, to store information **file processing systems** were used where for every function a specific file was create. For example, for a school management system, \n",
        "- One file was created for student's academic information about classes, grades, etc. \n",
        "- Another file was created for student's accounting information about fees and payments from students.\n",
        "\n",
        "Both the files were maintained separately, hence if the information of the student, e.g. student's phone number,  need to be updated then both files need to be updated accordingly. The mainteinance of this system may result in a lot of issues like: \n",
        "- **Data Redundancy:** Same data may be duplicated in multiple files which takes up more disc space.\n",
        "- **Data Inconsistency:** Due to data redundancy, the same data stored in multiple files may not match with each other thereby causing inconsistency in data.\n",
        "- **Expensive Storage:** Duplicate data also leads to wastage of space and high storage and access cost.\n",
        "\n",
        "This lead to the development of **DBMS**. A **database management system** (**DBMS**) is a collection of programs used to create and manage the database. \n",
        "\n",
        "DBMS involves both:\n",
        "- Defining the structure to store information. \n",
        "- Providing functional ways for manipulating the information.\n",
        "\n",
        "DBMS goals to achieve a way to store and retrieve the information from a database that is both convenient and efficient.\n",
        "\n",
        "Some of the common examples of applications of DBMS are:\n",
        "1. **Banking:** For the management of customer information, bank accounts, transaction, etc.\n",
        "2. **Airlines:** For the management of passenger information, reservations, and flight schedules.\n",
        "2. **Universities:** For the management of students, teachers, and staff information, course registrations, and grade processing.\n",
        "\n"
      ]
    },
    {
      "cell_type": "markdown",
      "metadata": {
        "id": "9O3kOu3lSr5c"
      },
      "source": [
        "**Can you think of more examples for the application of DBMS?**\n",
        "\n",
        "The following are some of the different examples of the application of DBMS:\n",
        "\n",
        "1. **Telecommunication Systems:** For the management of records of calls made, payment and billing system, customer information, etc.\n",
        "2. **E-commerce websites:** For the management of users information - buyers and seller, product availability, pricing system, billing system.\n",
        "3. **Social Media:** For the management of user's information, media processing system, management of operations -  likes, shares, followers, etc.\n",
        "\n",
        "\n",
        "\n"
      ]
    },
    {
      "cell_type": "markdown",
      "metadata": {
        "id": "vu46BbzGStG_"
      },
      "source": [
        "All of the above examples require different types of structure and design for database systems based on the use of the data. One of the most common types of database is **Relational Databases**. Let's learn more about the Relation Databases in the next task."
      ]
    },
    {
      "cell_type": "markdown",
      "metadata": {
        "id": "lO-h2yHnVNvv"
      },
      "source": [
        "---"
      ]
    },
    {
      "cell_type": "markdown",
      "metadata": {
        "id": "6JRIdTaVVPNu"
      },
      "source": [
        "#### Task 2: Relational Databases\n",
        "\n",
        "Relational Databases consist of a collection of tables to store the information. The tables here are linked with each other based on their relationship. These relationship links are also stored in the table itself.\n",
        "\n",
        "Let's understand it with the help of an example.\n",
        "\n",
        "**Example:**\n",
        "\n",
        "Consider a DBMS for Banking System, we need to store the personal information of the customer and the account details of the customer. Now, there is a possibility that the customer has two accounts. In that case, we have two options:\n",
        "1. Storing the customer and account details in one table and repeating the customer information for both accounts.\n",
        "2. We can store the information in two different tables **Customer Information** and  **Accounts Information** where we can link both the tables using a common field, in this case, **Customer Id**. \n",
        "\n",
        "The Relational Database systems follow the second approach where the data and their relations both are maintained effectively.\n",
        "\n",
        "A basic structure of the Relational Database is defined by the tables created. Let's understand them in more detail."
      ]
    },
    {
      "cell_type": "markdown",
      "metadata": {
        "id": "vKYw5ehTpqHz"
      },
      "source": [
        "---"
      ]
    },
    {
      "cell_type": "markdown",
      "metadata": {
        "id": "kEPe1-8Xpmdz"
      },
      "source": [
        "#### Task 3: Basic Structure of Relational Database - Tables\n",
        "\n",
        "The Relational Database is an example of a record-based model where the database is structured in the fixed-format records of several types in the collection of tables. \n",
        "\n",
        "The Relation Database consists of a collection of tables to represent both data and the relationships among those data. Following are some of the common terms of the relational model:\n",
        "\n",
        "1. **Attribute**: Column of the table\n",
        "2. **Tuple**: Row of the table.\n",
        "3. **Domain**: A set of permitted values for an attribute also known as datatype of the column. For Example, a column of integer the data type will have domain values as set of all the integer values (..., -2, -1, 0, 1, 2, ...).\n",
        "\n",
        "\n",
        "Each table has multiple columns, each column has a unique name. Each table contains records of a particular type. Each record type defines a fixed number of fields or attributes. Each table has multiple columns and each column has a unique name. Each table has a record of a unique type  with a fixed number of columns.\n",
        "\n",
        "A table is also known as a **Relation**. "
      ]
    },
    {
      "cell_type": "markdown",
      "metadata": {
        "id": "VzU0zJb6zta0"
      },
      "source": [
        "**Q:** Consider the `account` table in the image. Can you list the following terms looking at the table? Attributes, Domain.\n",
        "\n",
        "**A:** In the `account` table attributes and their respective domains are:\n",
        "- **Attribute 1:** account_number - integer\n",
        "- **Attribute 2:** branch_name - string/text\n",
        "- **Attribute 3:** balance - float\n",
        "\n"
      ]
    },
    {
      "cell_type": "markdown",
      "metadata": {
        "id": "CKmnUo5r4zLx"
      },
      "source": [
        "---"
      ]
    },
    {
      "cell_type": "markdown",
      "metadata": {
        "id": "BzOPWhM846Dk"
      },
      "source": [
        "#### Database Schema\n",
        "\n",
        "The database schema is the logical design of the database. It defines how the storage of the data in the database and their relationship with each other. It gives an overview of the organization of the tables. \n",
        "\n",
        "Individually, a schema can be created for every relation known as relation schema. In programming, if the relation or table is the variable then a relation schema corresponds to the type definition of that table.\n",
        "\n",
        "The database schema may be in textual or graphical representation. \n",
        "\n",
        "**Textual Representation:**\n",
        "The textual representation of schema includes:\n",
        "1. The name of the relations (tables) in lower case like `account`.\n",
        "2. The name  of the relation schema in upper case for the first letter `Account_schema`.\n",
        "\n",
        "The textual representation of `Account_schema` relation schema is given as:\n",
        "\n",
        "<center><img src = 'https://i.imgur.com/NW9dR49.png' width = 400></center>\n",
        "\n",
        "\n",
        "$$ \\text{Account_schema} = (\\text{account_number},  \\text{branch_name},  \\text{balance})$$\n",
        "\n",
        "And, denoting the `account` as relation,\n",
        "$$ \\text{account(Account_schema)}$$\n",
        "\n",
        "\n",
        "Hence, in general, a relation schema includes a list of the table. Similarly, we can create a relation schema for every table. \n"
      ]
    },
    {
      "cell_type": "markdown",
      "metadata": {
        "id": "DmFqwjY4DFk9"
      },
      "source": [
        "**Q:** Create a relation schema for the given two tables.\n",
        "\n",
        "1. Table 1: Customer Table: A table to store the information of customers:\n",
        "<center><img src = 'https://i.imgur.com/G7oMA8e.png' width = 400></center>\n",
        "\n",
        "**A:** `Customer_schema` is given as:\n",
        "$$ \\text{Customer_schema} = (\\text{customer_id},  \\text{customer_name},  \\text{customer_street})$$\n",
        "\n",
        "And, denoting the `customer` as relation,\n",
        "$$ \\text{customer(Customer_schema)}$$\n",
        "\n",
        "---\n",
        "\n",
        "2. Table 2: Customer Account Details Table: A table to store the information of customers:\n",
        "\n",
        "<center><img src = 'https://i.imgur.com/UTwaiW8.png' width = 300></center>\n",
        "\n",
        "\n",
        "**A:** `Customer_Account_schema` is given as:\n",
        "$$ \\text{Customer_Account_schema} = (\\text{customer_id},  \\text{account_number})$$\n",
        "\n",
        "And, denoting the `customer_account` as relation,\n",
        "$$ \\text{customer_account(Customer_Account_schema)}$$\n"
      ]
    },
    {
      "cell_type": "markdown",
      "metadata": {
        "id": "MO3VDlfzC-XQ"
      },
      "source": [
        "**Graphical Representation:** Graphical representation can be used to design the schema for the entire database together.\n",
        "It includes the boxes to define tables in the database and arrows to show their relationship with each other. \n",
        "\n",
        "For example, the schema for the tables `account`, `customer`, and `customer_account` is as follows:\n",
        "\n",
        "<center><img src = 'https://obj.whitehatjr.com/5a51432b-d4a4-47b9-bc0d-0e95c27dfab5.PNG' width = 600></center>\n",
        "\n",
        "\n",
        "This database schema is in the end applied using the query processing language used to create programs to create databases.\n"
      ]
    },
    {
      "cell_type": "markdown",
      "metadata": {
        "id": "om8zd4-2NVRM"
      },
      "source": [
        "---"
      ]
    },
    {
      "cell_type": "markdown",
      "metadata": {
        "id": "Kvr4pNe-NV-z"
      },
      "source": [
        "#### Task 5: Structured Query Language (SQL)\n",
        "\n",
        "**Structured Query Language (SQL)**, pronounced as Sequel, is the most commonly used standard Query Language for Database developed by IBM. The SQL language has several parts. The SQL DDL and SQL DML parts contain the most widely used commands. They are explained as:\n",
        "\n",
        "1. **Data Definition Language (DDL):** The SQL DDL provides commands for defining the relation schemas i.e. creating tables (skeleton of the table), deleting tables, and modifying relation schemas.\n",
        "\n",
        "2. **Data Manipulation Language (DML):** The SQL DML includes commands to insert tuples into, delete tuples from, and modify tuples in the database.\n",
        "\n",
        "Some of the commonly used commands are:\n",
        "\n",
        "1. Create\n",
        "```\n",
        "CREATE TABLE Customer (\n",
        "customer_id int,\n",
        "customer_name varchar(21),\n",
        "customer_street varchar(21)\n",
        ");\n",
        "```\n",
        "\n",
        "2. Insert \n",
        "```\n",
        "INSERT INTO Customer (customer_id, customer_name, customer_street)\n",
        "VALUES (101, 'Cardinal','Stavanger');\n",
        "```\n"
      ]
    },
    {
      "cell_type": "markdown",
      "metadata": {
        "id": "qUWlQXUuQ-DW"
      },
      "source": [
        "---"
      ]
    },
    {
      "cell_type": "markdown",
      "metadata": {
        "id": "MLNhnKVWukZF"
      },
      "source": [
        "#### Task 6: Data Types in SQL\n",
        "\n",
        "Data types are used to represent the nature of the data that can be stored in the database table. For example, in a particular column of a table, if we want to store a string type of data then we will have to declare a string data type of this column.\n",
        "\n",
        "**Choosing a Data Type:**\n",
        "- Each data type takes up a different amount of space on your system. \n",
        "- The measure of space for these data types at the lowest level is measure in bytes. \n",
        "- A **byte** defines the amount of storage needed to define a single character. A value like \"HORSE\" would consist of five bytes. \n",
        "\n",
        "SQL Server offers six categories of data types for your use which are listed below:\n",
        "\n",
        "**1. Exact Numeric Data Types:**\n",
        "\n",
        "|Data Type|From|To|Example|\n",
        "|-|-|-|-|\n",
        "|bigint|\t-9,223,372,036,854,775,808|\t9,223,372,036,854,775,807|1,223,372,036,854,770,000|\n",
        "|int|\t-2,147,483,648|\t2,147,483,647|1,147,400,600|\n",
        "|smallint|\t-32,768\t|32,767|10,000|\n",
        "|tinyint|\t0|\t255|45|\n",
        "|bit|\t0|\t1|0|\n",
        "|decimal|\t-10^38 +1|\t10^38 -1|10,000|\n",
        "|numeric|\t-10^38 +1\t|10^38 -1|10,000|\n",
        "|money|\t-922,337,203,685,477.5808|\t+922,337,203,685,477.5807|233,337,302,666,577.0000|\n",
        "|smallmoney|\t-214,748.3648\t|+214,748.3647|12,000.00|\n",
        "\n",
        "**2. Approximate  Numeric Data Types:**\n",
        "\n",
        "|Data Type|From|To|Example|\n",
        "|-|-|-|-|\n",
        "|float|\t-1.79E + 30|\t1.79E + 38|-0.99999|\n",
        "|real|\t-3.40E + 38|\t3.40E + 38|2.55667|\n",
        "\n",
        "**3. Date and Time Data Types:**\n",
        "\n",
        "|Data Type|From|To|\n",
        "|-|-|-|\n",
        "|datetime|\tJan 1, 1753\t|Dec 31, 9999|\n",
        "|smalldatetime|\tJan 1, 1900\t|Jun 6, 2079|\n",
        "|date|\tStores a date like June 30, 1991|\n",
        "|time|\tStores a time of day like 12:30 P.M.|\n",
        "\n",
        "**4. Character Strings Data Types:**\n",
        "\n",
        "|Data Type|Description|Example|\n",
        "|-|-|-|\n",
        "|char|Maximum length of 8,000 characters. (Fixed length non-unicode characters)|'Hello'|\n",
        "|varchar|Maximum of 8,000 characters. (Variable-length non-unicode data).|'Male'|\n",
        "|varchar(max)|Maximum length of 2E + 31 characters, variable-length non-unicode data (SQL Server 2005 only).|'Male'|\n",
        "|text|Variable-length non-unicode data with a maximum length of 2,147,483,647 characters.|'Welcome to Python programming'|\n",
        "\n",
        "**5. Unicode Character Strings Data Types:**\n",
        "\n",
        "|Data Type|Description|Example|\n",
        "|-|-|-|\n",
        "|nchar|Maximum length of 4,000 characters.( Fixed length Unicode)|'Hello'|\n",
        "|nvarchar|Maximum length of 4,000 characters. (Variable length Unicode)|'Male'|\n",
        "|nvarchar(max)|Maximum length of 2E + 31 characters (SQL Server 2005 only). (Variable length unicode)|'Male'|\n",
        "|ntext|Maximum length of 1,073,741,823 characters. ( Variable length unicode )|'Welcome to Python programming'|\n",
        "\n",
        "**6. Binary Data Types:**\n",
        "\n",
        "|Data Type|Description|\n",
        "|-|-|\n",
        "|binary|Maximum length of 8,000 bytes. (Fixed-length binary data )|\n",
        "|varbinary|Maximum length of 8,000 bytes. (Variable length binary data)|\n",
        "|varbinary(max)|Maximum length of 2E + 31 bytes. (SQL Server 2005 only). (Variable length Binary data)|\n",
        "|image|Maximum length of 2,147,483,647 bytes. (Variable length Binary Data)|\n",
        "\n",
        "**7. Misc Data Types:**\n",
        "\n",
        "|Data Type|Description|\n",
        "|-|-|\n",
        "|sql_variant|Stores values of various SQL Server-supported data types, except text, ntext, and timestamp.|\n",
        "|timestamp|Stores a database-wide unique number that gets updated every time a row gets updated.|\n",
        "|uniqueidentifier|Stores a globally unique identifier (GUID).|\n",
        "|xml|Stores XML data. You can store xml instances in a column or a variable (SQL Server 2005 only).|\n",
        "|cursor|Reference to a cursor object.|\n",
        "|table|Stores a result set for later processing.|"
      ]
    },
    {
      "cell_type": "markdown",
      "metadata": {
        "id": "DogRpJfvTMU8"
      },
      "source": [
        "Let us stop here. In the next class you will be learning the principles of Machine Learning."
      ]
    },
    {
      "cell_type": "markdown",
      "metadata": {
        "id": "TZWp2wTKTWtd"
      },
      "source": [
        "---"
      ]
    }
  ]
}