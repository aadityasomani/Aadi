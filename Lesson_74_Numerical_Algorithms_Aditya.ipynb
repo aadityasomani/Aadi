{
  "nbformat": 4,
  "nbformat_minor": 0,
  "metadata": {
    "colab": {
      "name": "Lesson 74 - Numerical Algorithms - Aditya",
      "provenance": [],
      "collapsed_sections": [],
      "include_colab_link": true
    },
    "kernelspec": {
      "name": "python3",
      "display_name": "Python 3"
    }
  },
  "cells": [
    {
      "cell_type": "markdown",
      "metadata": {
        "id": "view-in-github",
        "colab_type": "text"
      },
      "source": [
        "<a href=\"https://colab.research.google.com/github/aadityasomani/Aadi/blob/master/Lesson_74_Numerical_Algorithms_Aditya.ipynb\" target=\"_parent\"><img src=\"https://colab.research.google.com/assets/colab-badge.svg\" alt=\"Open In Colab\"/></a>"
      ]
    },
    {
      "cell_type": "markdown",
      "metadata": {
        "id": "0Z7PqdeHdJol"
      },
      "source": [
        "# Lesson 74: Numerical Algorithms\n"
      ]
    },
    {
      "cell_type": "markdown",
      "metadata": {
        "id": "u8yxawIEXEIj"
      },
      "source": [
        "---"
      ]
    },
    {
      "cell_type": "markdown",
      "metadata": {
        "id": "MicnOrfVdRHm"
      },
      "source": [
        "### Teacher-Student Tasks\n",
        "\n",
        "In this class, we will learn how to perform computational tasks using the numerical algorithms."
      ]
    },
    {
      "cell_type": "markdown",
      "metadata": {
        "id": "WvOdkh2pdf4z"
      },
      "source": [
        "---"
      ]
    },
    {
      "cell_type": "markdown",
      "metadata": {
        "id": "Cqzkj1JUJ25J"
      },
      "source": [
        "#### Task 1: Interpolation\n",
        "\n",
        "**Interpolation** or linear interpolation is usually the process of estimating unknown values that fall between known values. It is the estimation of an unknown value that falls within two known values. \n",
        "\n",
        "For e.g: within points 1 and 2, we may interpolate and find points 1.33 and 1.69.\n",
        "\n",
        "Linear interpolation is used in various disciplines like statistical, economics, price determination, etc. It is used to fill the gaps in the statistical data for the sake of continuity of information. \n",
        "\n",
        "By using the following formula we can linearly interpolate the given data point:\n",
        "$$\\text{Linear Interpolation:} y(x) = y1 + (x - x1)\\frac{(y2-y1)}{(x2-x1)}$$\n",
        "\n",
        "Here,\n",
        "-  $(x1, y1)$ are the coordinates of the first data point.\n",
        "- $(x2,y2)$ are coordinates of the second data point.\n",
        "- $x$ is the point on which we perform the interpolation.\n",
        "- $y$ is the interpolated value.\n",
        "\n",
        "Let us try to understand this with the help of an example.\n",
        "\n",
        "We have the following data values where $x$ denotes the number and $y$ is the function of the square root of $x$. Our task is to find the square root of `5.5` (i.e `x` = `5.5`)\n",
        "\n",
        "|x|y = f(x) = $\\sqrt{x}$|\n",
        "|-|-|\n",
        "|1|1|\n",
        "|2|1.4141|\n",
        "|3|1.7320|\n",
        "|4|2|\n",
        "|5|2.2360|\n",
        "|6|2.4494|\n",
        "\n",
        "**Steps:**\n",
        "\n",
        "1. Find the two adjacent  $(x1, y1)$ ,$(x2,y2)$ from the $x$ i.e. `(5, 2.2360)` and `(6, 2.4494)`.\n",
        "2. Put the values in the equation:\n",
        "$$y(x) = y1 + (x - x1)\\frac{(y2-y1)}{(x2-x1)}$$\n",
        "3. After putting values:\n",
        "  $$y(x) = 2.2360 + (5.5 - 5)\\frac{(2.4494-2.2360)}{6-5}$$\n",
        "\n",
        "  we get $y = 2.3427$\n",
        "\n",
        "At $x = 5.5$ the value of $Y$ will be `2.3427`. So by using linear interpolation we can easily determine the value of a function between two intervals.\n",
        "\n",
        "We can also find the interpolation value by applying the formula in Python."
      ]
    },
    {
      "cell_type": "code",
      "metadata": {
        "colab": {
          "base_uri": "https://localhost:8080/"
        },
        "id": "8-LW6XplGMUM",
        "outputId": "46947687-8416-4002-daec-5ebb6f71ee48"
      },
      "source": [
        "# S1.1: Create a function that calculates y value using formula.\n",
        "def interpolation(d, x):\n",
        "    output = d[0][1] + (x - d[0][0]) * ((d[1][1] - d[0][1])/(d[1][0] - d[0][0]))\n",
        "  \n",
        "    return output\n",
        "  \n",
        "# Store x1, y1, x2, y2 values as list\n",
        "data=[[5, 2.2360],[6, 2.4494]]\n",
        "\n",
        "# Create a variable to store the 'x' value.\n",
        "x_data = 5.5\n",
        "  \n",
        "# Finding the interpolation\n",
        "print(\"The value of y for x = {} is\".format(x_data),\n",
        "             interpolation(data, x_data))"
      ],
      "execution_count": null,
      "outputs": [
        {
          "output_type": "stream",
          "text": [
            "The value of y for x = 5.5 is 2.3427\n"
          ],
          "name": "stdout"
        }
      ]
    },
    {
      "cell_type": "markdown",
      "metadata": {
        "id": "r1euQIlzDWen"
      },
      "source": [
        "Thus, we obtained the desired value by implementing the formula using Python.\n",
        "\n",
        "**Using scipy.interpolate.interp1d**\n",
        "\n",
        "Similarly, we can achieve linear interpolation using a `scipy` library function called `interpolate.interp1d`\n",
        "\n",
        "\n",
        "- The `interp1d` class in the `scipy.interpolate` is used to interpolate 1D function.\n",
        "- An instance of this class is created by passing the 1-D vectors comprising the data.\n",
        "\n",
        "  **Syntax:**`scipy.interpolate.interp1d(x, y)`\n",
        "\n",
        "  where, \n",
        "  - `x` and `y`are arrays of real values.\n",
        " - The length of `y` along the interpolation axis must be equal to the length of `x`.\n",
        "\n",
        "Let’s have a random dataset :\n",
        "\n",
        "- `x` = `[1, 2, 3, 4, 5]`\n",
        "- `y` = `[11, 2.2, 3.5, -88, 1]` \n",
        "\n",
        "We want to find the value of `y` at point `2.5`"
      ]
    },
    {
      "cell_type": "code",
      "metadata": {
        "colab": {
          "base_uri": "https://localhost:8080/"
        },
        "id": "-7JIomFRI04z",
        "outputId": "25111099-b806-4c51-a96c-509fc7ad0c16"
      },
      "source": [
        "# S2.2: Implementation of Linear Interpolation using Python\n",
        "# Import library\n",
        "from scipy.interpolate import interp1d\n",
        "\n",
        "# Create 'x' and 'y' arrays.\n",
        "x = [1, 2, 3, 4, 5] \n",
        "y = [11, 2.2, 3.5, -88, 1] \n",
        "  \n",
        "# Test value\n",
        "interpolate_x = 2.5\n",
        "  \n",
        "# Find the interpolation\n",
        "y_interp = interp1d(x, y)\n",
        "print(\"Value of y at x = {} is\".format(interpolate_x),\n",
        "      y_interp(interpolate_x))"
      ],
      "execution_count": null,
      "outputs": [
        {
          "output_type": "stream",
          "text": [
            "Value of y at x = 2.5 is 2.85\n"
          ],
          "name": "stdout"
        }
      ]
    },
    {
      "cell_type": "markdown",
      "metadata": {
        "id": "2yA381-uJb6e"
      },
      "source": [
        "Thus, we can use both formula approach or `interp1d()` function to interpolate value for a known data."
      ]
    },
    {
      "cell_type": "markdown",
      "metadata": {
        "id": "8CWFQPySHqSD"
      },
      "source": [
        "---"
      ]
    },
    {
      "cell_type": "markdown",
      "metadata": {
        "id": "DsIaT7O7hBkM"
      },
      "source": [
        "#### Task 2: Quadrature rules\n",
        "\n",
        "**What is a Quadrature rule?**\n",
        "\n",
        "- A quadrature rule is an approximation of the definite integral of a function, usually stated as a weighted sum of function values at specified points within the domain of integration.\n",
        "\n",
        "- An $n$-point Gaussian quadrature rule is a quadrature rule which generated exact result for polynomials of degree $2n − 1$ or less by a suitable choice of the nodes $x_i$ and weights $w_i$ for i = 1, ..., $n$\n",
        "\n",
        "`scipy.integrate.quadrature()` function computes a definite integral using Gaussian quadrature.\n",
        "\n",
        "**Syntax:** `scipy.integrate.quadrature(func, a, b)`\n",
        "\n",
        " where, \n",
        " - `func`: A Python function or method to integrate.\n",
        " - `a`: Lower limit of integration.\n",
        " - `b`: Upper limit of integration.\n",
        "\n",
        "Let us derive the gaussian quadrature approximation to integral function from limit `a` to `b` by using `quadrature()` function.\n"
      ]
    },
    {
      "cell_type": "code",
      "metadata": {
        "id": "xH4f3LRcU2JB",
        "colab": {
          "base_uri": "https://localhost:8080/"
        },
        "outputId": "d1e778f1-8aa0-41fe-c072-fb0bf7194512"
      },
      "source": [
        "# S2.1: Get the gaussian quadrature approximation to integral function from limit 0.0 to 1.8\n",
        "# import scipy.integrate\n",
        "from scipy import integrate\n",
        "\n",
        "func = lambda x: x**8 + x**4\n",
        "\n",
        "# use scipy.integrate.quadrature() method\n",
        "output = integrate.quadrature(func, 0.0, 1.8)\n",
        "\n",
        "print(output)\n"
      ],
      "execution_count": null,
      "outputs": [
        {
          "output_type": "stream",
          "text": [
            "(25.81905715199999, 0.0)\n"
          ],
          "name": "stdout"
        }
      ]
    },
    {
      "cell_type": "markdown",
      "source": [
        ""
      ],
      "metadata": {
        "id": "8oqt_Iq76Gde"
      }
    },
    {
      "cell_type": "markdown",
      "metadata": {
        "id": "tSiXBdfOKwxx"
      },
      "source": [
        "In the output, we obtained two values:\n",
        " - First value is the Gaussian quadrature approximation (within tolerance) to integral.\n",
        " - Second value is error or the difference between last two estimates of the integral."
      ]
    },
    {
      "cell_type": "markdown",
      "metadata": {
        "id": "E79h33COmBIU"
      },
      "source": [
        "---"
      ]
    },
    {
      "cell_type": "markdown",
      "metadata": {
        "id": "-VrIXckTvCvD"
      },
      "source": [
        "#### Task 3: Eigenvalues and Eigenvectors\n",
        "\n",
        "**Definition:**\n",
        "\n",
        "\n",
        "Let $A$ be a square matrix. A non-zero vector $v$ is an eigenvector for $A$  with eigenvalue $\\lambda$  if:\n",
        "\n",
        "$$Av=\\lambda v$$\n",
        "\n",
        "Rearranging the equation, we see that $v$ is a solution of the homogeneous system of equations:\n",
        "\n",
        "$$(A-\\lambda I)v=0$$\n",
        "\n",
        "Where $I$ is the identity matrix of size $n$ . Non-trivial solutions exist only if the matrix $(A-\\lambda I)v$  is singular which means $det(A-\\lambda I)v=0$ . \n",
        "\n",
        "Therefore eigenvalues of $A$  are roots of the characteristic polynomial\n",
        "$$p(\\lambda)=det(A-\\lambda I)$$\n",
        "\n",
        "For example, let us consider a $2 X 2$ square matrix, \n",
        "\n",
        "$$A = \\begin{bmatrix}  2 & 1 \\\\ 1\t& 2\t\\\\\\end{bmatrix}$$.\n",
        "\n",
        "Now let us take the determinant of $A − λI$, the characteristic polynomial of $A$ is,\n",
        "\n",
        "$$|A - λI|  = \\begin{bmatrix} 2 - λ & 1 \\\\ 1\t& 2 - λ\t\\\\\\end{bmatrix} = 3 - 4λ + λ^2$$\n",
        "\n",
        "In this example, setting the characteristic polynomial equal to zero, it has roots at $λ=1$ and $λ=3$, which are the two eigenvalues of $A$.\n",
        "\n",
        "The eigenvectors corresponding to each eigenvalue can be found by solving for the components of $v$ in the below equation, \n",
        "\n",
        "$$(A-\\lambda I)v=0$$\n",
        "\n",
        "$v_{λ - 1}  = \\begin{bmatrix} 1 \\\\ -1 \\\\\\end{bmatrix}$ and $v_{λ - 3} = \\begin{bmatrix} 1 \\\\ 1 \\\\\\end{bmatrix}$.\n",
        "\n",
        "**Eigenvalues and Eigenvectors using Python:**\n",
        "\n",
        "\n",
        "SciPy provides a function in the library called `eig` to compute the Eigenvalue and the Eigenvector.\n",
        "\n",
        "**Syntax to compute the Eigenvalue and the Eigenvector:** `scipy.linalg.eig(matrix)`\n",
        "\n",
        "Let us find out eigenvalues and eigenvectors of a $2 \\times 2$ matrix using `eig()` function:\n"
      ]
    },
    {
      "cell_type": "code",
      "metadata": {
        "colab": {
          "base_uri": "https://localhost:8080/"
        },
        "id": "iEskmWWQ0adS",
        "outputId": "e3a22841-8e20-4e8f-b4ca-50650f8c62f1"
      },
      "source": [
        "# S3.1: Find eigenvalues and eigenvectors using python\n",
        "from scipy import linalg\n",
        "import numpy as np\n",
        "my_arr1 = np.array([[5,7],[11,3]])\n",
        "eg_val, eg_vect = linalg.eig(my_arr1)\n",
        "print(\"The Eigenvalues are :\")\n",
        "print(eg_val)\n",
        "print(\"The Eigenvectors are :\")\n",
        "print(eg_vect)"
      ],
      "execution_count": null,
      "outputs": [
        {
          "output_type": "stream",
          "text": [
            "The Eigenvalues are :\n",
            "[12.83176087+0.j -4.83176087+0.j]\n",
            "The Eigenvectors are :\n",
            "[[ 0.66640536 -0.57999285]\n",
            " [ 0.74558963  0.81462157]]\n"
          ],
          "name": "stdout"
        }
      ]
    },
    {
      "cell_type": "markdown",
      "metadata": {
        "id": "ftxWP-Y31Vxk"
      },
      "source": [
        "In the above code:\n",
        "- We have defined a matrix having certain values.\n",
        "- The matrix is passed as a parameter to the `eig()` function that computes the eigenvalues and the eigenvectors of the matrix.\n",
        "- The `eig()` function will return two values, first is eigenvalues and second is eigenvectors."
      ]
    },
    {
      "cell_type": "markdown",
      "metadata": {
        "id": "PokBnZXyMIIj"
      },
      "source": [
        "Similarly let us find out eigenvalues and eigenvectors of a $3 \\times 3$ matrix using `eig()` function:"
      ]
    },
    {
      "cell_type": "code",
      "metadata": {
        "colab": {
          "base_uri": "https://localhost:8080/"
        },
        "id": "ePmgww9ZMf5f",
        "outputId": "9fad61ae-2f0e-49b3-cd51-489c03114f1f"
      },
      "source": [
        "# S3.2: Find eigenvalues and eigenvectors  of a 3 X 3 matrix using python.\n",
        "from scipy import linalg\n",
        "import numpy as np\n",
        "my_arr2 = np.array([[1,2,3],[2, 3, 4], [4, 5, 6]])\n",
        "eg_val, eg_vect = linalg.eig(my_arr2)\n",
        "print(\"The Eigenvalues are :\")\n",
        "print(eg_val)\n",
        "print(\"The Eigenvectors are :\")\n",
        "print(eg_vect)"
      ],
      "execution_count": null,
      "outputs": [
        {
          "output_type": "stream",
          "text": [
            "The Eigenvalues are :\n",
            "[ 1.08309519e+01+0.j -8.30951895e-01+0.j  1.01486082e-16+0.j]\n",
            "The Eigenvectors are :\n",
            "[[ 0.34416959  0.72770285  0.40824829]\n",
            " [ 0.49532111  0.27580256 -0.81649658]\n",
            " [ 0.79762415 -0.62799801  0.40824829]]\n"
          ],
          "name": "stdout"
        }
      ]
    },
    {
      "cell_type": "markdown",
      "metadata": {
        "id": "MTJ8vSwvM6_F"
      },
      "source": [
        "In the above code:\n",
        "- A $3 \\times 3$ matrix is passed as a parameter to the `eig()` function that computes the eigenvalues and the eigenvectors of the matrix.\n",
        "\n",
        "We will stop here. In the next class, we will learn to implement string matching algorithms."
      ]
    }
  ]
}