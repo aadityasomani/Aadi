{
  "nbformat": 4,
  "nbformat_minor": 0,
  "metadata": {
    "colab": {
      "name": "Lesson 47 - OOP - Encapsulation I - Aditya",
      "provenance": [],
      "collapsed_sections": [],
      "include_colab_link": true
    },
    "kernelspec": {
      "name": "python3",
      "display_name": "Python 3"
    }
  },
  "cells": [
    {
      "cell_type": "markdown",
      "metadata": {
        "id": "view-in-github",
        "colab_type": "text"
      },
      "source": [
        "<a href=\"https://colab.research.google.com/github/aadityasomani/Aadi/blob/master/Lesson_47_OOP_Encapsulation_I_Aditya.ipynb\" target=\"_parent\"><img src=\"https://colab.research.google.com/assets/colab-badge.svg\" alt=\"Open In Colab\"/></a>"
      ]
    },
    {
      "cell_type": "markdown",
      "metadata": {
        "id": "wXOH90ddtwL2"
      },
      "source": [
        "# Lesson 47: OOP - Encapsulation I\n",
        "\n",
        "\n"
      ]
    },
    {
      "cell_type": "markdown",
      "metadata": {
        "id": "GKxriZHwm33R"
      },
      "source": [
        "---"
      ]
    },
    {
      "cell_type": "markdown",
      "metadata": {
        "id": "GbhgAn5kfd-K"
      },
      "source": [
        "### Teacher-Student Tasks\n",
        "\n",
        "In this class, we will learn about **Multi-level Inheritance** and an another concept of OOP called **Encapsulation**.\n",
        "\n",
        "Let's have a quick recap of what we did in the last class .\n"
      ]
    },
    {
      "cell_type": "markdown",
      "metadata": {
        "id": "DP-8XrZ_i2yZ"
      },
      "source": [
        "---"
      ]
    },
    {
      "cell_type": "markdown",
      "metadata": {
        "id": "DoShzic97iBl"
      },
      "source": [
        "#### Recap\n",
        "\n",
        "In the previous lesson, we created a parent class `Person` and a child class `Student` using **single-level inheritance**.\n"
      ]
    },
    {
      "cell_type": "code",
      "metadata": {
        "id": "K_ry2pvE8Amu"
      },
      "source": [
        "# Create the class 'Person' as the parent class\n",
        "class Person:\n",
        "  def __init__(self, name, age, gender):\n",
        "    self.name = name\n",
        "    self.age = age\n",
        "    self.gender = gender\n",
        "\n",
        "\n",
        "# Create the 'Student' class as the child class of 'Person'.\n",
        "class Student(Person):\n",
        "  def __init__(self, name, age, gender, grade, class_teacher, school_fee):\n",
        "    Person.__init__(self, name, age, gender) \n",
        "    self.grade = grade\n",
        "    self.class_teacher = class_teacher\n",
        "    self.school_fee = school_fee\n",
        "\n",
        "  def increase_school_fee(self):\n",
        "    self.school_fee = self.school_fee * 1.05\n",
        "    return self.school_fee\n",
        "    "
      ],
      "execution_count": 1,
      "outputs": []
    },
    {
      "cell_type": "markdown",
      "metadata": {
        "id": "0giy1f829IqA"
      },
      "source": [
        "We know that we can inherit the properties of a parent class in a child class using Single-level Inheritance. \n",
        "Let’s see how we can make a child class of a child class using **Multi-level Inheritance.**"
      ]
    },
    {
      "cell_type": "markdown",
      "metadata": {
        "id": "PmWt3O-WNj2x"
      },
      "source": [
        "---"
      ]
    },
    {
      "cell_type": "markdown",
      "metadata": {
        "id": "HQS14ccHeKlU"
      },
      "source": [
        "#### Task 1: Multi-level Inheritance\n",
        "\n",
        "Multi-level inheritance means that a child class also has its own child class. Since the inheritance extends one level beyond, it is called **multi-level inheritance**. \n",
        "\n",
        "Because of multi-level inheritance, you could say the new child class is a grandchild class of the parent class.\n",
        "\n",
        "The grandchild class will also be able to inherit the properties of the parent class because the child class inherits the properties of the parent class.\n",
        "\n",
        "Let's understand this concept by creating `Alumni` class which inherits all the properties of the `Student` class except for the `school_fee` property. It also has a new property called graduation year (`grad_year`) to specify the year of graduation or transfer from the school.\n"
      ]
    },
    {
      "cell_type": "code",
      "metadata": {
        "id": "K8-IC8xldDUK"
      },
      "source": [
        "# S1.1: Create the 'Alumni' class.\n",
        "class Alumni(Student):\n",
        "    def __init__(self,name,age,gender,grade,class_teacher,grad_year):\n",
        "        super().__init__(name,age,gender,grade,class_teacher,school_fee=None)\n",
        "        self.grad_year=grad_year\n"
      ],
      "execution_count": 2,
      "outputs": []
    },
    {
      "cell_type": "markdown",
      "metadata": {
        "id": "96cTKHu_7P-L"
      },
      "source": [
        "After creating the grandchild class, let's create an object of the `Alumni` class to see if we can access the properties of the child class, i.e., `Student` and parent class, i.e., `Person`."
      ]
    },
    {
      "cell_type": "code",
      "metadata": {
        "id": "2dUkLpRKlx9L",
        "colab": {
          "base_uri": "https://localhost:8080/"
        },
        "outputId": "971c9416-2539-4bf2-bb9d-1845e2d192d6"
      },
      "source": [
        "# S1.2: Create an object of the 'Alumni' class and retrieve all the 'Alumni' class attributes.\n",
        "Alumni1=Alumni('Aditya',22,\"M\",\"A\",\"Mahima Rathi\",2022)\n",
        "print(Alumni1.name,Alumni1.grad_year)"
      ],
      "execution_count": 6,
      "outputs": [
        {
          "output_type": "stream",
          "name": "stdout",
          "text": [
            "Aditya 2022\n"
          ]
        }
      ]
    },
    {
      "cell_type": "markdown",
      "metadata": {
        "id": "OlVDMS2J-brI"
      },
      "source": [
        "As you can see, the object can be used to initialise and retrieve the variables of all the classes inherited sequentially.\n",
        "\n",
        "In this way, we can create any level of the hierarchy to make our code modular and be able to reuse the code created earlier.\n",
        "\n",
        "Now, let's try to make our varibles secure using encapsulation.\n",
        "In encapsulation, we hide the instance (or object) variables and methods. In other words, we make them private so that their values can neither be accessed nor be modified through the direct reference.\n",
        "\n"
      ]
    },
    {
      "cell_type": "markdown",
      "metadata": {
        "id": "rScFyGaSOM2K"
      },
      "source": [
        "---"
      ]
    },
    {
      "cell_type": "markdown",
      "metadata": {
        "id": "y-W-e6w93oNS"
      },
      "source": [
        "#### Task 2: The `BankAccount` Class\n",
        "\n",
        "Let's create a class called `BankAccount` having the following attributes and methods:\n",
        "\n",
        "**Attributes:**\n",
        "\n",
        "1. Name of the account holder in a bank\n",
        "\n",
        "2. Account number of that account holder\n",
        "\n",
        "3. Current available amount (or balance) in the account\n",
        "\n",
        "**Methods:**\n",
        "\n",
        "1. A function to increase the current balance upon deposit of some additional amount.\n",
        "\n",
        "2. A function to decrease the current balance upon withdrawal of some amount.\n",
        "\n"
      ]
    },
    {
      "cell_type": "code",
      "metadata": {
        "id": "u9b5Les9i3gi"
      },
      "source": [
        "# S2.1: Create the 'BankAccount' class as specified above.\n",
        "# Initiate the 'BankAccount' class\n",
        "class BankAccount:\n",
        "  # Create the class variables for 'account_num', 'account_name' and 'balance' \n",
        "    def __init__(self,account_num,account_name,balance):\n",
        "        self.account_num=account_num\n",
        "        self.account_name=account_name\n",
        "        self.balance=balance\n",
        "  # Create a function to deposit money \n",
        "    def dep_money(self,deposit_money):\n",
        "    # Add the deposit amount to the existing balance\n",
        "        self.balance+=deposit_money\n",
        "        print(f\"Money Added Succefully and Available Balance={self.balance}\")\n",
        "  # Create a function to withdraw money\n",
        "    def with_money(self,withdrawal_amount):\n",
        "        if withdrawal_amount>self.balance:\n",
        "            print(\"Insufficent Balance\")\n",
        "        else:\n",
        "            self.balance-=withdrawal_amount\n",
        "            print(f'Amount Successfully Withdrawl and Available Balance={self.balance}')\n",
        "   "
      ],
      "execution_count": 11,
      "outputs": []
    },
    {
      "cell_type": "markdown",
      "metadata": {
        "id": "A2GWB85RrsHk"
      },
      "source": [
        "Now, let's create an object of the `BankAccount` class to test whether it is working correctly or not."
      ]
    },
    {
      "cell_type": "code",
      "metadata": {
        "id": "RQwLf-qJjvBf"
      },
      "source": [
        "# S2.2: Create an object of the 'BankAccount' class and retrieve all of its attributes.\n",
        "account1=BankAccount(101,\"Aditya\",5554)"
      ],
      "execution_count": 15,
      "outputs": []
    },
    {
      "cell_type": "code",
      "metadata": {
        "id": "CYNlVtENN2Bs",
        "colab": {
          "base_uri": "https://localhost:8080/"
        },
        "outputId": "09083e4c-6390-42c2-acf1-a4f937cf2056"
      },
      "source": [
        "# S2.3: Now add some amount, say 55000, to the 'BankAccount' object created above.\n",
        "account1.dep_money(5500)"
      ],
      "execution_count": 16,
      "outputs": [
        {
          "output_type": "stream",
          "name": "stdout",
          "text": [
            "Money Added Succefully and Available Balance=11054\n"
          ]
        }
      ]
    },
    {
      "cell_type": "markdown",
      "metadata": {
        "id": "Pwe0kDhWOJ_o"
      },
      "source": [
        "Similarly, you can also withdraw some amount from the bank account."
      ]
    },
    {
      "cell_type": "code",
      "metadata": {
        "id": "bhAwqz0sj4QW",
        "colab": {
          "base_uri": "https://localhost:8080/"
        },
        "outputId": "3e8f6767-1ec6-4d5d-cd7b-81f0ffe873b3"
      },
      "source": [
        "# S2.4: Now withdraw some amount, say 50000, from the 'BankAccount' object created above.\n",
        "account1.with_money(7658)"
      ],
      "execution_count": 19,
      "outputs": [
        {
          "output_type": "stream",
          "name": "stdout",
          "text": [
            "Insufficent Balance\n"
          ]
        }
      ]
    },
    {
      "cell_type": "markdown",
      "metadata": {
        "id": "4x38doq7ORHZ"
      },
      "source": [
        "As you can see, we have successfully withdrawn some amount from the bank account. "
      ]
    },
    {
      "cell_type": "markdown",
      "metadata": {
        "id": "PMCGHA8pfcqL"
      },
      "source": [
        "---"
      ]
    },
    {
      "cell_type": "markdown",
      "metadata": {
        "id": "zhj3DBPhgtwe"
      },
      "source": [
        "#### Task 3: Encapsulation\n",
        "\n",
        "\n",
        "**What is Encapsulation?**\n",
        "\n",
        "Encapsulation is the process of hiding the variables and methods of an instance of a class in such a way that their values cannot be accessed directly by calling the attributes using the dot operator. It serves as an additional layer of security to the data of an individual object.\n",
        "\n",
        "Let's understand it better with the help of a new object called `millionaire` of the `BankAccount` class.\n",
        "\n",
        "In the current version of the `BankAccount` class, all the three attributes, i.e., account number, name and balance can easily be changed (or modified) using the assignment operator (`=`). Imagine someone having $100 million in their account getting their money transferred to some other person."
      ]
    },
    {
      "cell_type": "code",
      "metadata": {
        "id": "LEbo4whshb_8"
      },
      "source": [
        "# S3.1: Create a new 'BankAccount' object called 'millionaire' with a balance of 100 million.\n",
        "millionaire=BankAccount(102,'Aditya1',10000000)"
      ],
      "execution_count": 20,
      "outputs": []
    },
    {
      "cell_type": "markdown",
      "metadata": {
        "id": "6ddpChszh0RZ"
      },
      "source": [
        "You easily change the current account holder name to your name and just like that you can become a millionaire."
      ]
    },
    {
      "cell_type": "code",
      "metadata": {
        "id": "MLOxH785h77P",
        "colab": {
          "base_uri": "https://localhost:8080/",
          "height": 35
        },
        "outputId": "cb2f5ca0-7887-476c-9e56-62a6f6094334"
      },
      "source": [
        "# S3.2: Change the account holder name using the assignment operator ('=').\n",
        "millionaire.account_name='Mahima'\n",
        "millionaire.account_name"
      ],
      "execution_count": 22,
      "outputs": [
        {
          "output_type": "execute_result",
          "data": {
            "application/vnd.google.colaboratory.intrinsic+json": {
              "type": "string"
            },
            "text/plain": [
              "'Mahima'"
            ]
          },
          "metadata": {},
          "execution_count": 22
        }
      ]
    },
    {
      "cell_type": "markdown",
      "metadata": {
        "id": "oMbZrnaviI0F"
      },
      "source": [
        "As you can see, the original account holder's name is changed to a new name. To protect the account of the original account holder from such modifications, we can use encapsulation.\n",
        "\n",
        "**General need for encapsulation:** \n",
        "\n",
        "In many areas such as banking, such changes or modifications must be restricted by making attributes private. We must create private variables and methods for the object of a class to protect them from any kind of change or modifications outside the class. \n",
        "\n",
        "**How to define private variables?**\n",
        "\n",
        "To create a private instance variable or an instance method, simply put two underscore symbols (`__`) before a variable name or a function name as a prefix.\n",
        "\n",
        "**Syntax to create private variables:** `__attributeName` or `__methodName`\n",
        "\n",
        "Let's create the `BankAccount` class again having the private instance variables. Let's try to access and change them from outside the class:"
      ]
    },
    {
      "cell_type": "code",
      "metadata": {
        "id": "xgCTgGw2iuIQ"
      },
      "source": [
        "# S3.3: Create the 'BankAccount' class again with the private attributes.\n",
        "class BankAccount:\n",
        "  # Create the class variables for 'account_num', 'account_name' and 'balance' \n",
        "    def __init__(self,account_num,account_name,balance):\n",
        "        self.__account_num=account_num\n",
        "        self.__account_name=account_name\n",
        "        self.__balance=balance\n",
        "  # Create a function to deposit money \n",
        "    def dep_money(self,deposit_money):\n",
        "    # Add the deposit amount to the existing balance\n",
        "        self.__balance+=deposit_money\n",
        "        print(f\"Money Added Succefully and Available Balance={self.__balance}\")\n",
        "  # Create a function to withdraw money\n",
        "    def with_money(self,withdrawal_amount):\n",
        "        if withdrawal_amount>self.__balance:\n",
        "            print(\"Insufficent Balance\")\n",
        "        else:\n",
        "            self.__balance-=withdrawal_amount\n",
        "            print(f'Amount Successfully Withdrawl and Available Balance={self.__balance}')\n",
        "   "
      ],
      "execution_count": 24,
      "outputs": []
    },
    {
      "cell_type": "markdown",
      "metadata": {
        "id": "gP_a8iIalapd"
      },
      "source": [
        "Now let's create a new `BankAccount` object with the account holder having 100 million dollars. Also, try to get the balance amount through the direct reference.\n",
        "\n",
        "**Note:** Referencing the value of a private attribute directly will throw `AttributeError`."
      ]
    },
    {
      "cell_type": "code",
      "metadata": {
        "id": "_SyY-5_hi6ZG",
        "colab": {
          "base_uri": "https://localhost:8080/",
          "height": 200
        },
        "outputId": "767867df-45d2-4cfd-b906-a4be6181c0c5"
      },
      "source": [
        "# S3.4: Create the 'millionaire' object again and try to retrieve any of the attribute values.\n",
        "millionaire=BankAccount(102,'Aditya1',10000000)\n",
        "millionaire.__account_name"
      ],
      "execution_count": 26,
      "outputs": [
        {
          "output_type": "error",
          "ename": "AttributeError",
          "evalue": "ignored",
          "traceback": [
            "\u001b[0;31m---------------------------------------------------------------------------\u001b[0m",
            "\u001b[0;31mAttributeError\u001b[0m                            Traceback (most recent call last)",
            "\u001b[0;32m<ipython-input-26-dfc6f9d736f1>\u001b[0m in \u001b[0;36m<module>\u001b[0;34m()\u001b[0m\n\u001b[1;32m      1\u001b[0m \u001b[0;31m# S3.4: Create the 'millionaire' object again and try to retrieve any of the attribute values.\u001b[0m\u001b[0;34m\u001b[0m\u001b[0;34m\u001b[0m\u001b[0;34m\u001b[0m\u001b[0m\n\u001b[1;32m      2\u001b[0m \u001b[0mmillionaire\u001b[0m\u001b[0;34m=\u001b[0m\u001b[0mBankAccount\u001b[0m\u001b[0;34m(\u001b[0m\u001b[0;36m102\u001b[0m\u001b[0;34m,\u001b[0m\u001b[0;34m'Aditya1'\u001b[0m\u001b[0;34m,\u001b[0m\u001b[0;36m10000000\u001b[0m\u001b[0;34m)\u001b[0m\u001b[0;34m\u001b[0m\u001b[0;34m\u001b[0m\u001b[0m\n\u001b[0;32m----> 3\u001b[0;31m \u001b[0mmillionaire\u001b[0m\u001b[0;34m.\u001b[0m\u001b[0m__account_name\u001b[0m\u001b[0;34m\u001b[0m\u001b[0;34m\u001b[0m\u001b[0m\n\u001b[0m",
            "\u001b[0;31mAttributeError\u001b[0m: 'BankAccount' object has no attribute '__account_name'"
          ]
        }
      ]
    },
    {
      "cell_type": "markdown",
      "metadata": {
        "id": "uMaF-s0aB0LJ"
      },
      "source": [
        "As we can clearly see that the `__balance` variable is not accessible from the object directly (or outside of the `BankAccount` class) because of the presence of double underscores (__). \n",
        "\n",
        "Now let's learn how to access the private attribute values outside the class."
      ]
    },
    {
      "cell_type": "markdown",
      "metadata": {
        "id": "6fUcCF7q4h4S"
      },
      "source": [
        "---"
      ]
    },
    {
      "cell_type": "markdown",
      "metadata": {
        "id": "a0Xu6EXQlzl8"
      },
      "source": [
        "#### Task 4: Getter Functions\n",
        "\n",
        "Now that we have hidden or made the attributes private, we still want to get their values. To do this, we can create a **getter** function.\n",
        "\n",
        "A getter function is also known as an accessor. It is used to print the current value of a private variable. The recommended syntax to create getter function is:\n",
        "\n",
        "```\n",
        "def get_variable_name(self):            \n",
        "  return self.__variable_name\n",
        "```\n",
        "\n",
        "Let's create **getter** functions to get the account holder's name, number, and balance values outside the class.\n",
        "\n",
        "**Note:** The getter functions should always return a value."
      ]
    },
    {
      "cell_type": "code",
      "metadata": {
        "id": "0YpDSQ02i9gb"
      },
      "source": [
        "# S4.1: Add the getter methods (or functions) in the 'BankAccount' class to get account holder name, number and balance.\n",
        "class BankAccount:\n",
        "  # Create the class variables for 'account_num', 'account_name' and 'balance' \n",
        "    def __init__(self,account_num,account_name,balance):\n",
        "        self.__account_num=account_num\n",
        "        self.__account_name=account_name\n",
        "        self.__balance=balance\n",
        "  # Create a function to deposit money \n",
        "    def dep_money(self,deposit_money):\n",
        "    # Add the deposit amount to the existing balance\n",
        "        self.__balance+=deposit_money\n",
        "        print(f\"Money Added Succefully and Available Balance={self.__balance}\")\n",
        "  # Create a function to withdraw money\n",
        "    def with_money(self,withdrawal_amount):\n",
        "        if withdrawal_amount>self.__balance:\n",
        "            print(\"Insufficent Balance\")\n",
        "        else:\n",
        "            self.__balance-=withdrawal_amount\n",
        "            print(f'Amount Successfully Withdrawl and Available Balance={self.__balance}')\n",
        "\n",
        "  # Getter method to get account number of the account holder.\n",
        "    def get_account_num(self):\n",
        "        return self.__account_num\n",
        "\n",
        "  # Getter method to get the name of the account holder.\n",
        "    def get_account_name(self):\n",
        "        return self.__account_name\n",
        "\n",
        "  # Getter method to get the current balance of the account holder.\n",
        "    def get_balance(self):\n",
        "        return self.__balance"
      ],
      "execution_count": 27,
      "outputs": []
    },
    {
      "cell_type": "markdown",
      "metadata": {
        "id": "daXB7VgR5M9U"
      },
      "source": [
        "Now let's create a new `BankAccount` object and try to get the values of the hidden attributes using the getter functions."
      ]
    },
    {
      "cell_type": "code",
      "metadata": {
        "id": "EFsAkquYjGsj",
        "colab": {
          "base_uri": "https://localhost:8080/",
          "height": 35
        },
        "outputId": "2231b193-2994-4a26-c9f3-3004c802e257"
      },
      "source": [
        "# S4.2: Create the 'millionaire' object again and try to retrieve any of the attribute values using the getter method(s).\n",
        "millionaire=BankAccount(102,'Aditya1',10000000)\n",
        "millionaire.get_account_name()"
      ],
      "execution_count": 30,
      "outputs": [
        {
          "output_type": "execute_result",
          "data": {
            "application/vnd.google.colaboratory.intrinsic+json": {
              "type": "string"
            },
            "text/plain": [
              "'Aditya1'"
            ]
          },
          "metadata": {},
          "execution_count": 30
        }
      ]
    },
    {
      "cell_type": "markdown",
      "metadata": {
        "id": "fSS6bbZNkjUi"
      },
      "source": [
        "This time you could get the values of the hidden (or private) attributes. So this process of **restricting access to the instance attributes** through the direct reference is called encapsulation.\n",
        "\n",
        "You can also hide the `withdraw_money()` method so that nobody can withdraw an amount outside the class. Let's first withdraw an amount of say $500,000 from Jeff Bezos' account."
      ]
    },
    {
      "cell_type": "code",
      "metadata": {
        "id": "D_XXMcZ0xGkr",
        "colab": {
          "base_uri": "https://localhost:8080/"
        },
        "outputId": "0da23724-eb81-43fa-9273-59634ed19a5d"
      },
      "source": [
        "# S3.3: Withdraw an amount of say $500,000 from Jeff Bezos' account.\n",
        "millionaire.with_money(5000)"
      ],
      "execution_count": 31,
      "outputs": [
        {
          "output_type": "stream",
          "name": "stdout",
          "text": [
            "Amount Successfully Withdrawl and Available Balance=9995000\n"
          ]
        }
      ]
    },
    {
      "cell_type": "markdown",
      "metadata": {
        "id": "m6vG5oDVxiLA"
      },
      "source": [
        "Now, hide the `withdraw_money()` function."
      ]
    },
    {
      "cell_type": "code",
      "metadata": {
        "id": "Swhpns-TxBSB"
      },
      "source": [
        "# S4.4: Hide the 'withdraw_money()' function.\n",
        "# S4.1: Add the getter methods (or functions) in the 'BankAccount' class to get account holder name, number and balance.\n",
        "class BankAccount:\n",
        "  # Create the class variables for 'account_num', 'account_name' and 'balance' \n",
        "    def __init__(self,account_num,account_name,balance):\n",
        "        self.__account_num=account_num\n",
        "        self.__account_name=account_name\n",
        "        self.__balance=balance\n",
        "  # Create a function to deposit money \n",
        "    def dep_money(self,deposit_money):\n",
        "    # Add the deposit amount to the existing balance\n",
        "        self.__balance+=deposit_money\n",
        "        print(f\"Money Added Succefully and Available Balance={self.__balance}\")\n",
        "  # Create a function to withdraw money\n",
        "    def __with_money(self,withdrawal_amount):\n",
        "        if withdrawal_amount>self.__balance:\n",
        "            print(\"Insufficent Balance\")\n",
        "        else:\n",
        "            self.__balance-=withdrawal_amount\n",
        "            print(f'Amount Successfully Withdrawl and Available Balance={self.__balance}')\n",
        "\n",
        "  # Getter method to get account number of the account holder.\n",
        "    def get_account_num(self):\n",
        "        return self.__account_num\n",
        "\n",
        "  # Getter method to get the name of the account holder.\n",
        "    def get_account_name(self):\n",
        "        return self.__account_name\n",
        "\n",
        "  # Getter method to get the current balance of the account holder.\n",
        "    def get_balance(self):\n",
        "        return self.__balance"
      ],
      "execution_count": 32,
      "outputs": []
    },
    {
      "cell_type": "markdown",
      "metadata": {
        "id": "v6bSExyexzLS"
      },
      "source": [
        "Now try to withdraw an amount of $1 million using the `withdraw_money()` function.\n",
        "\n",
        "**Note:** The code below should throw `AttributeError`."
      ]
    },
    {
      "cell_type": "code",
      "metadata": {
        "id": "VWAXwijuxEdl",
        "colab": {
          "base_uri": "https://localhost:8080/",
          "height": 200
        },
        "outputId": "f188a8b7-6262-4199-dad3-5243d43dd18b"
      },
      "source": [
        "# S4.5: Create the 'millionaire' object again and try to withdraw an amount of $1 million using the withdraw_money() function.\n",
        "millionaire=BankAccount(102,'Aditya1',10000000)\n",
        "millionaire.__with_money(50000)"
      ],
      "execution_count": 35,
      "outputs": [
        {
          "output_type": "error",
          "ename": "AttributeError",
          "evalue": "ignored",
          "traceback": [
            "\u001b[0;31m---------------------------------------------------------------------------\u001b[0m",
            "\u001b[0;31mAttributeError\u001b[0m                            Traceback (most recent call last)",
            "\u001b[0;32m<ipython-input-35-c07fa68b42a6>\u001b[0m in \u001b[0;36m<module>\u001b[0;34m()\u001b[0m\n\u001b[1;32m      1\u001b[0m \u001b[0;31m# S4.5: Create the 'millionaire' object again and try to withdraw an amount of $1 million using the withdraw_money() function.\u001b[0m\u001b[0;34m\u001b[0m\u001b[0;34m\u001b[0m\u001b[0;34m\u001b[0m\u001b[0m\n\u001b[1;32m      2\u001b[0m \u001b[0mmillionaire\u001b[0m\u001b[0;34m=\u001b[0m\u001b[0mBankAccount\u001b[0m\u001b[0;34m(\u001b[0m\u001b[0;36m102\u001b[0m\u001b[0;34m,\u001b[0m\u001b[0;34m'Aditya1'\u001b[0m\u001b[0;34m,\u001b[0m\u001b[0;36m10000000\u001b[0m\u001b[0;34m)\u001b[0m\u001b[0;34m\u001b[0m\u001b[0;34m\u001b[0m\u001b[0m\n\u001b[0;32m----> 3\u001b[0;31m \u001b[0mmillionaire\u001b[0m\u001b[0;34m.\u001b[0m\u001b[0m__with_money\u001b[0m\u001b[0;34m(\u001b[0m\u001b[0;36m50000\u001b[0m\u001b[0;34m)\u001b[0m\u001b[0;34m\u001b[0m\u001b[0;34m\u001b[0m\u001b[0m\n\u001b[0m",
            "\u001b[0;31mAttributeError\u001b[0m: 'BankAccount' object has no attribute '__with_money'"
          ]
        }
      ]
    },
    {
      "cell_type": "markdown",
      "metadata": {
        "id": "xI1Jl6JxyWOK"
      },
      "source": [
        "As you can see, now you can't even withdraw money because the `withdraw_money()` function is now a private function.\n",
        "\n",
        "Let's stop here. We will continue to learn encapsulation in the next class."
      ]
    },
    {
      "cell_type": "markdown",
      "metadata": {
        "id": "4gGG3CmJ6ado"
      },
      "source": [
        "---"
      ]
    }
  ]
}