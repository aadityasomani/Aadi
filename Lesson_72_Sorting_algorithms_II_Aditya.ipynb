{
  "nbformat": 4,
  "nbformat_minor": 0,
  "metadata": {
    "colab": {
      "name": "Lesson 72 - Sorting algorithms II -Aditya",
      "provenance": [],
      "collapsed_sections": [],
      "include_colab_link": true
    },
    "kernelspec": {
      "name": "python3",
      "display_name": "Python 3"
    }
  },
  "cells": [
    {
      "cell_type": "markdown",
      "metadata": {
        "id": "view-in-github",
        "colab_type": "text"
      },
      "source": [
        "<a href=\"https://colab.research.google.com/github/aadityasomani/Aadi/blob/master/Lesson_72_Sorting_algorithms_II_Aditya.ipynb\" target=\"_parent\"><img src=\"https://colab.research.google.com/assets/colab-badge.svg\" alt=\"Open In Colab\"/></a>"
      ]
    },
    {
      "cell_type": "markdown",
      "metadata": {
        "id": "1ZFi-HFZhoMr"
      },
      "source": [
        "# Lesson 72: Sorting Algorithms - II"
      ]
    },
    {
      "cell_type": "markdown",
      "metadata": {
        "id": "1p5emuY19FwU"
      },
      "source": [
        "---"
      ]
    },
    {
      "cell_type": "markdown",
      "metadata": {
        "id": "D-Mr5iPeiOQU"
      },
      "source": [
        "### Teacher-Student Tasks\n",
        "\n",
        "When you are given a problem in computer science. We can solve it by using more than one method. These methods are also known as Algorithms. There can be more than one algorithm to solve the problem. There is always a question of which algorithm to use in the mind of a computer science programmer on the choice of algorithm for a specific case. \n",
        "\n",
        "A programmer mainly considers two things before selecting an algorithm:\n",
        "\n",
        "\n",
        "- The time required for its execution.\n",
        "- Memory space required. \n",
        "\n",
        "There is often a trade-off between these two.\n",
        "\n",
        "In this class, we will learn about the performance of the program based on time.\n"
      ]
    },
    {
      "cell_type": "markdown",
      "metadata": {
        "id": "xEgJlSusFrlr"
      },
      "source": [
        "----"
      ]
    },
    {
      "cell_type": "markdown",
      "metadata": {
        "id": "Z78qWNAbF1ga"
      },
      "source": [
        "#### Recap:\n",
        "\n",
        "In the last class we have studied sorting algorithms namely:\n",
        "\n",
        "1. **Bubble sort** - Place largest (can be implemented for smallest as well) element for each iteration on its correct position in the sorted list.\n",
        "\n",
        "2. **Selection sort** - Select the smallest element and put it in its correct position in the sorted list.\n",
        "\n",
        "3. **Insertion sort** - Insert elements serially and place them accordingly in their correct position in the sorted array.\n"
      ]
    },
    {
      "cell_type": "markdown",
      "metadata": {
        "id": "PyTjFofrpWFT"
      },
      "source": [
        "---"
      ]
    },
    {
      "cell_type": "markdown",
      "metadata": {
        "id": "IKGXgwz3iT-V"
      },
      "source": [
        "#### Task 1: Time Complexity\n",
        "\n",
        "\n",
        "\n",
        "**Time complexity** is the number of operations an algorithm performs to complete its task. The performance of the algorithms can be compared with Time complexity using $\\mathcal{O}$ also known as **big-O**  notation.\n",
        "\n",
        "The time required for an algorithm to complete is the function of the number of inputs $n$. To understand this, let the time required for an algorithm to finish its execution be $f(n)$, where $n$ is the number of inputs. \n",
        "\n",
        "Let, $g(n)$ be another function and $c$ be the constant as shown in the following graph:\n",
        "\n",
        "<center><img src = 'https://github.com/TANMAYGHODE/images/blob/master/BigO.png?raw=true' width = 800></center>\n",
        "\n",
        "Refer the following graph to compare different time complexities using Number of Elements and Number of Operations:\n",
        "\n",
        "<center><img src = 'https://github.com/TANMAYGHODE/images/blob/master/Time_complexity.png?raw=true' width = 800></center>\n",
        "\n",
        "**Example 1:**\n",
        "\n",
        "$f(n)=6n+2$ and $g(n)=n$\n",
        "\n",
        "Is $f(n)=\\mathcal{O}(n)?$ where $1\\leq n$ and $c>0$\n",
        "\n",
        "$6n+2 < cn$ for\n",
        "$c=7$ Hence, True!\n",
        "\n",
        "Something to be noted here is all $f(n) = \\mathcal{O}(n^2)$, $f(n) = \\mathcal{O}(n^2)$.... $f(n) = \\mathcal{O}(n^k)$ where $k$ is an integer is also true. We will concentrate most on the tighest upper bound for these cases.\n",
        "\n",
        "\n",
        "**Example 2:**\n",
        "\n",
        "Let us create a loop to execute from `0` to `n`\n"
      ]
    },
    {
      "cell_type": "code",
      "metadata": {
        "colab": {
          "base_uri": "https://localhost:8080/"
        },
        "id": "nNCbKlPus9O6",
        "outputId": "27b5a5e8-3117-46e6-c6b6-d0fa23975a40"
      },
      "source": [
        "#T1.1: Create a loop to execute n times\n",
        "n= 100\n",
        "counter = 0\n",
        "\n",
        "for i in range(n):\n",
        "  #print(i)\n",
        "  counter = counter + 1\n",
        "\n",
        "print(f\"The above loop was executed {counter} times\")"
      ],
      "execution_count": null,
      "outputs": [
        {
          "output_type": "stream",
          "name": "stdout",
          "text": [
            "The above loop was executed 100 times\n"
          ]
        }
      ]
    },
    {
      "cell_type": "markdown",
      "metadata": {
        "id": "eT18wt8ctpj0"
      },
      "source": [
        "\n",
        "We can see that loop will run $n$ times in the worst case. So we can say that the above algorithm is $\\mathcal{O}(n)$.\n",
        "\n",
        "**Example 2:**\n",
        "\n",
        "Let's observe a nested loop which where the inner loop, as well as the outer loop, will execute $n$ times:\n"
      ]
    },
    {
      "cell_type": "code",
      "metadata": {
        "colab": {
          "base_uri": "https://localhost:8080/"
        },
        "id": "29RivtmeuU0l",
        "outputId": "17e98664-c17b-4ef1-a5f1-fc804632b0c0"
      },
      "source": [
        "#T1.2: Create two nested loop \n",
        "\n",
        "n = 100\n",
        "counter = 0\n",
        "\n",
        "for i in range(n):\n",
        "  for j in range(n):\n",
        "    #print(i)\n",
        "    counter = counter + 1\n",
        "\n",
        "print(f\"The above loop was executed {counter} times\")"
      ],
      "execution_count": null,
      "outputs": [
        {
          "output_type": "stream",
          "name": "stdout",
          "text": [
            "The above loop was executed 10000 times\n"
          ]
        }
      ]
    },
    {
      "cell_type": "markdown",
      "metadata": {
        "id": "2mNovjHxusGq"
      },
      "source": [
        "We can see that loop will run $n \\times n$ times in the worst case. So we can say that the above algorithm is $\\mathcal{O}(n^2)$.\n",
        "\n",
        "**Example 3:**\n",
        "\n",
        "Let's observe the time complexity when `i` is multiplied by 2 in every step:"
      ]
    },
    {
      "cell_type": "code",
      "metadata": {
        "colab": {
          "base_uri": "https://localhost:8080/"
        },
        "id": "blR1jeSdu47r",
        "outputId": "b780ff7a-8d41-4e23-ce7f-60fdc9b563e2"
      },
      "source": [
        "#T1.3: Create two-loop \n",
        "import math as m\n",
        "\n",
        "n = 100\n",
        "counter = 0\n",
        "i= 1\n",
        "\n",
        "while i < n :\n",
        "  i=i*2\n",
        "  counter = counter + 1\n",
        "print(f\"The above loop was executed {counter} times\")\n",
        "print(f\"Log of {n} is {round(m.log(n, 2))}\")"
      ],
      "execution_count": null,
      "outputs": [
        {
          "output_type": "stream",
          "name": "stdout",
          "text": [
            "The above loop was executed 7 times\n",
            "Log of 100 is 7\n"
          ]
        }
      ]
    },
    {
      "cell_type": "markdown",
      "metadata": {
        "id": "7h8s1aP8znqK"
      },
      "source": [
        "\n",
        "We can see that loop will run $\\log(n)$ times in the worst case. So we can say that the above algorithm is $\\mathcal{O}(\\log(n))$.\n",
        "\n",
        "**Example 4:**\n",
        "\n",
        "Let's observe a nested loop which where the outer loop will execute n times and in the inner loop the step `j` is multiplied by 2 in every step:\n"
      ]
    },
    {
      "cell_type": "code",
      "metadata": {
        "colab": {
          "base_uri": "https://localhost:8080/"
        },
        "id": "O-3mEe2g3PDH",
        "outputId": "ea83ba35-4a67-476d-d92f-5b2433e55dea"
      },
      "source": [
        "# T1.4: Code\n",
        "counter = 0\n",
        "\n",
        "for i in range(n):\n",
        "  j=1\n",
        "  while j<n :\n",
        "    j=j*2\n",
        "    counter = counter + 1\n",
        "\n",
        "print(f\"The above loop was executed {counter} times\")\n",
        "print(f\"Log of {n} is {round(m.log(n, 2))} \\nAnd n(log (n)) is {n * round(m.log(n, 2)) }\")"
      ],
      "execution_count": null,
      "outputs": [
        {
          "output_type": "stream",
          "name": "stdout",
          "text": [
            "The above loop was executed 700 times\n",
            "Log of 100 is 7 \n",
            "And n(log (n)) is 700\n"
          ]
        }
      ]
    },
    {
      "cell_type": "markdown",
      "metadata": {
        "id": "Cw32YxIT3MqP"
      },
      "source": [
        "We can see that loop will run $n \\times \\log(n)$ times in worst case. So we can say that above algorithm is $\\mathcal{O}(n\\log(n))$.\n",
        "\n",
        "**Example 5:**\n",
        "\n",
        "The time for a constant activity, for example, accessing an element or printing a number will take some constant time.\n",
        "Hence, the time complexity of that activity is  $\\mathcal{O}(1)$.\n",
        "\n",
        "\n",
        "\n",
        "Now based on the learning above reading and answer the question given below.\n",
        "\n"
      ]
    },
    {
      "cell_type": "markdown",
      "metadata": {
        "id": "H-2lQ4AlAlvl"
      },
      "source": [
        "**Q:** What is the time complexity of Bubble sort, Selection sort, and Insertion sort respectively?\n",
        "\n",
        "**A:** $\\mathcal{O}(n^2)$\n",
        "\n",
        "\n",
        "But before that let's learn about an important programming concept in Recursion."
      ]
    },
    {
      "cell_type": "markdown",
      "metadata": {
        "id": "supHRbjXsqbv"
      },
      "source": [
        "---"
      ]
    },
    {
      "cell_type": "markdown",
      "metadata": {
        "id": "6WmstZUlwon3"
      },
      "source": [
        "#### Recursion\n",
        "\n",
        "Recursion means repetition. Observe the example below for the factorial of the numbers:\n",
        "\n",
        "$$1! = 1$$ \n",
        "\n",
        "$$2! = 2 * 1 = 2$$\n",
        "\n",
        "$$3! = 3 * 2 * 1 = 6$$\n",
        "\n",
        "$$4! = 4 * 3 * 2 * 1 = 24$$\n",
        "\n",
        "We can see that as we move ahead in the equation some part of the previous equation is repeated like **$4! = 4 * \\color{blue}{3 * 2 * 1}$**.\n",
        "\n",
        "\n",
        "We can write the above equations of factorial as:\n",
        "\n",
        "$$1! = 1$$ \n",
        "\n",
        "$$2! = 2 * \\color{blue}{1} = 2 * \\color{blue}{1!}$$\n",
        "\n",
        "$$3! = 3 * \\color{blue}{2 * 1} = 3 * \\color{blue}{2!}$$\n",
        "\n",
        "$$4! = 4 * \\color{blue}{3 * 2 * 1} = 4 * \\color{blue}{3!}$$\n",
        "\n",
        "We can see the factorial process is calling itself in every operation. It means that we have to for factorial of number `n` we require factorial for `n-1`. \n",
        "\n",
        "This process of function calling itself is known as **recursion**.\n",
        "\n",
        "Let's create a function for factorial in Python to understand recursion better:"
      ]
    },
    {
      "cell_type": "code",
      "metadata": {
        "colab": {
          "base_uri": "https://localhost:8080/"
        },
        "id": "60rlx_g9CNJ7",
        "outputId": "709e9893-f63c-4698-d3bc-fd36c594248d"
      },
      "source": [
        "#T1.6: Code for factorial\n",
        "\n",
        "def factorial(n):\n",
        "  if n == 0 or n == 1:\n",
        "    return 1\n",
        "  \n",
        "  return n * factorial(n-1)\n",
        "\n",
        "\n",
        "factorial(5)\n"
      ],
      "execution_count": null,
      "outputs": [
        {
          "output_type": "execute_result",
          "data": {
            "text/plain": [
              "120"
            ]
          },
          "metadata": {},
          "execution_count": 5
        }
      ]
    },
    {
      "cell_type": "markdown",
      "metadata": {
        "id": "HHTBZiYDClOu"
      },
      "source": [
        "In the code above, we have created a function `factorial()` which takes the input number `n` and returns its factorial by calling the factorial function for the previous number `n-1` till it reaches `1` and `0`.\n",
        "\n",
        "The recursion function can be traced using a recursion tree like below:\n",
        "\n",
        "<center><img src = 'https://github.com/TANMAYGHODE/images/blob/master/Blue%20and%20Aqua%20Decision%20Tree%20Chart.png?raw=true' width = 800></center>\n",
        "\n",
        "\n"
      ]
    },
    {
      "cell_type": "markdown",
      "metadata": {
        "id": "mTy74xduekYc"
      },
      "source": [
        "**Note:** Condition on which recursion is stopped is called anchor condition. In above code it is `if n == 0 or n == 1`. "
      ]
    },
    {
      "cell_type": "markdown",
      "metadata": {
        "id": "BSD1rcb8sr8o"
      },
      "source": [
        "---"
      ]
    },
    {
      "cell_type": "markdown",
      "metadata": {
        "id": "crYMw_wU7gh1"
      },
      "source": [
        "\n",
        "#### Task 2: Merge Sort\n",
        "\n",
        "Merge sort is a divide and conquer algorithm. The divide and conquer algorithm is dividing the problem into small subproblems. We can solve subproblems by calling recursively until the subproblem is solved or conquered. These solved subproblems are then combined to get an original solved problem. In merge sort, we divide the array to be sorted into two halves and then sort them using merge sort. Later, merge the two sorted arrays into the original sorted array. \n",
        "\n",
        "The `merge()` is the key function that is to be investigated in merge sort. This function merges the two sorted arrays into one. It takes four parameters `arr`,`l`,`m`, and `r`.\n",
        "\n",
        "Following is the pseudo-code for merge function:\n",
        "\n",
        "- `arr` is the array to be merged.\n",
        "\n",
        "- `l` is an initial index of the array.\n",
        "\n",
        "- `r` is the last index of the array.\n",
        "\n",
        "- `m` is the point where we divide the array.\n",
        "\n",
        "```\n",
        "merge(Array arr[], l, m, r)\n",
        "1. begin:\n",
        "2. n1 = m - l + 1\n",
        "3. n2 = r - m\n",
        "4. Array L[n1],R[n2]  // Create temp arrays\n",
        "5. for i=0 to n1-1:   // Copy data to temp arrays L[] \n",
        "    L[i] = arr[l + i];\n",
        "6. for j=0 to n2-1:   // Copy data to temp arrays R[]\n",
        "    R[j] = arr[m + 1 + j]; \n",
        "\n",
        " // Merge the temp arrays back into arr[l..r]   \n",
        "\n",
        "7. i = 0;             // Initial index of first subarray\n",
        "   j = 0;             // Initial index of second subarray\n",
        "   k = l;             // Initial index of merged subarray\n",
        "8. while i < n1 && j < n2:\n",
        "    if L[i] <= R[j]:   // put smallest element into      \n",
        "      arr[k] = L[i];   // Array arr[] out of pointed out by\n",
        "            i++        // i or j \n",
        "    else:\n",
        "      arr[k] = R[j]\n",
        "            j++ \n",
        "    k++\n",
        "9. while i < n1:     // Copy the remaining elements of\n",
        "    arr[k] = L[i];   // L[], if there are any\n",
        "    i++;\n",
        "    k++;\n",
        "10.while (j < n2)   // Copy the remaining elements of\n",
        "    arr[k] = R[j];  // R[], if there are any\n",
        "    j++;\n",
        "    k++;\n",
        "11.end    \n",
        "```\n",
        "\n",
        "<center><img src = 'https://github.com/TANMAYGHODE/images/blob/master/Merge_function.png?raw=true' = 800></center>\n",
        "\n",
        "Following is the pseudo-code for the merge sort algorithm:\n",
        "\n",
        "```\n",
        "MergeSort(Array arr[], l, r):\n",
        "1. begin:\n",
        "2. if l>=r :\n",
        "    return\n",
        "        \n",
        "3. m = (l+r-1)/2;\n",
        "4. mergeSort(Array arr[],l,m);\n",
        "5. mergeSort(Array arr[],m+1,r);\n",
        "6. merge(Array arr[],l,m,r);\n",
        "end\n",
        "```\n",
        "<center><img src = 'https://github.com/TANMAYGHODE/images/blob/master/merge2.png?raw=true' = 800></center>\n"
      ]
    },
    {
      "cell_type": "markdown",
      "metadata": {
        "id": "vSMfhK3qazqt"
      },
      "source": [
        "**Q:** How many times will recursion take place in the above Array `array` ?\n",
        "\n",
        "**A:** 19."
      ]
    },
    {
      "cell_type": "markdown",
      "metadata": {
        "id": "GshQlOuHb6OO"
      },
      "source": [
        "Now we will create a function to perform merge sort with help of the below steps:\n",
        "\n",
        "1. Divide the array into two parts `Left_array` and `Right_array`. Aim to sort these respective arrays and then merge them into a single array.\n",
        "\n",
        "2. Add 3 pointers `i`, `j` and `k` to the `Left_array`, `Right_array`, and `array` variables.\n",
        "\n",
        "3. Merge all the remaining elements again from the sorted list in the `array` variable. \n",
        "\n",
        "4. Either of the `Left_array` or `Right_array` will be empty first as is the termination condition for `while` loop.\n",
        "\n",
        "5. Anchor condition where we will stop with the recursion. \n",
        "\n",
        "6. Refer to the figure above for proper visualization of sorting. Numbers in red signifies the number of times recursion will take place in its respective order."
      ]
    },
    {
      "cell_type": "code",
      "metadata": {
        "id": "frfTpMa8fiax"
      },
      "source": [
        "# T2.1: Merge Sort\n",
        "def mergeSort(array):\n",
        "  \n",
        "  if  len(array)> 1:\n",
        "    middle=len(array)//2 # floor division\n",
        "\n",
        "    # Divide arrays into two parts\n",
        "    Left_array=array[:middle]\n",
        "    Right_array=array[middle:]\n",
        "\n",
        "    # Sort left and right arrays\n",
        "    mergeSort(Left_array)\n",
        "    mergeSort(Right_array)\n",
        "\n",
        "    #Merge both the arrays\n",
        "    # Can also be implemented with merge method \n",
        "    i=0\n",
        "    j=0\n",
        "    k=0\n",
        "    \n",
        "    # Merge two arrays till one of the arrays gets empty\n",
        "\n",
        "    while i<len(Left_array) and j<len(Right_array):\n",
        "      if Left_array[i]<Right_array[j]:\n",
        "        array[k]=Left_array[i]\n",
        "        i=i+1\n",
        "      else :\n",
        "        array[k]=Right_array[j]  \n",
        "        j=j+1\n",
        "      k=k+1 \n",
        "       \n",
        "   # Merge remaining elements of Left_array    \n",
        "       \n",
        "    while i < len(Left_array):\n",
        "        array[k] = Left_array[i]\n",
        "        i =i + 1\n",
        "        k =k + 1\n",
        " \n",
        "   # Merge remaining elements of Right_array\n",
        "    while j < len(Right_array):\n",
        "        array[k] = Right_array[j]\n",
        "        j =j + 1\n",
        "        k =k + 1      \n",
        " "
      ],
      "execution_count": null,
      "outputs": []
    },
    {
      "cell_type": "markdown",
      "metadata": {
        "id": "r3DTurL6YQAW"
      },
      "source": [
        "Now let's try to sort an array using the merge sort technique that we have created."
      ]
    },
    {
      "cell_type": "code",
      "metadata": {
        "id": "44Rj3qM1e63L",
        "colab": {
          "base_uri": "https://localhost:8080/"
        },
        "outputId": "bff5fa97-f71a-4c3d-c2aa-4c2cf37606d0"
      },
      "source": [
        "#S2.1: Sort the array using mergeSort()\n",
        "array = [5, 3, 4, 2, 1]\n",
        "mergeSort(array)\n",
        "print(\"Sorted array is: \")\n",
        "print(array)\n",
        " "
      ],
      "execution_count": null,
      "outputs": [
        {
          "output_type": "stream",
          "name": "stdout",
          "text": [
            "Sorted array is: \n",
            "[1, 2, 3, 4, 5]\n"
          ]
        }
      ]
    },
    {
      "cell_type": "markdown",
      "metadata": {
        "id": "IQpbeSyHd2mR"
      },
      "source": [
        "As you can see we have successfully sorted the array using the merge sort technique."
      ]
    },
    {
      "cell_type": "markdown",
      "metadata": {
        "id": "V04__Ic5nDWm"
      },
      "source": [
        "---"
      ]
    },
    {
      "cell_type": "markdown",
      "metadata": {
        "id": "0y4pgPBDm_1d"
      },
      "source": [
        "\n",
        "#### Task 3: Quick Sort\n",
        "\n",
        "The Quick sort is a divide and conquers algorithm like merge sort. In Quick sort, we pick an element as a pivot and partition the given array around the picked pivot. There are many different versions of the quicksort that pick pivot in different ways.\n",
        "\n",
        "- Always pick the first element as a pivot.\n",
        "\n",
        "- Always pick the last element as a pivot.\n",
        "\n",
        "- Pick a random element as a pivot.\n",
        "\n",
        "- Pick median as a pivot.\n",
        "\n",
        "The `partition()` is the key function that is to be investigated in quick sort. This function, given an array and an element x of an array as a pivot, put x at its correct position in a sorted array and put all smaller elements (smaller than x) before x, and put all greater elements (greater than x) after x. All this should be done in linear time.\n",
        "\n",
        "Following is the pseudo-code for `partition()` function:\n",
        "\n",
        "- `arr` is the array to be merged.\n",
        "\n",
        "- `l` an is the initial index of the array.\n",
        "\n",
        "- `r` is the last index of the array.\n",
        "\n",
        "```\n",
        "partition(Array arr[], l, r)\n",
        "1. begin:\n",
        "2. pivot = arr[r]; //Element to be put at the right place\n",
        "2. i = l - 1          //index of the smaller element\n",
        "3. for j = l to h- 1:\n",
        "    if arr[j] < pivot:// If current element is smaller than the pivot\n",
        "      i++             // increment index of smaller element\n",
        "      swap arr[i] and arr[j]\n",
        "4. swap arr[i + 1] and arr[r])\n",
        "5. return (i + 1)  \n",
        "6. end    \n",
        "\n",
        "```\n",
        "\n",
        "\n",
        "Following is the pseudo-code for the Quick sort Algorithm:\n",
        "\n",
        "```\n",
        "QuickSort(arr[], l, r)\n",
        "1. begin\n",
        "2. if l < r:\n",
        "3. pi = partition(arr, l, r) // pi is partitioning index, arr[pi] is now\n",
        "           at right place\n",
        "4. quickSort(arr, l, pi - 1);  // Before pi\n",
        "5. quickSort(arr, pi + 1, r); // After pi\n",
        "```\n",
        "<center><img src = 'https://github.com/TANMAYGHODE/images/blob/master/Quick_sort2.png?raw=true' = 800></center>\n"
      ]
    },
    {
      "cell_type": "markdown",
      "metadata": {
        "id": "p0G06loNd-GQ"
      },
      "source": [
        "Now let's perform quick sort with help of the below steps:\n",
        "\n",
        "1. Define the `partition` function which takes 3 inputs as follows: \n",
        "\n",
        "  - `array` - The array to be sorted\n",
        "\n",
        "  - `left` - First index of the array\n",
        "\n",
        "  - `right` - Last index of the array\n",
        "\n",
        "2. Select the last element as a pivot element.\n",
        "\n",
        "3. Place all the elements smaller than the pivot to the left and larger than the pivot to the right side using a `for` loop. \n",
        "\n",
        "3. Store the first element as a pointer in a variable `i`. Iterate the pointer till the element that is larger than the pivot. \n",
        "\n",
        "4. Swap `i` with the smaller element pointed by pointer `j` which iterates over all the positions. \n",
        "\n",
        "4. Keep the pivot at its right position.\n",
        "\n",
        "5. Return the index of the pivot element.  "
      ]
    },
    {
      "cell_type": "code",
      "metadata": {
        "id": "ppztm_pDlkid"
      },
      "source": [
        "# T3.1: Partition Function\n",
        "\n",
        "def partition(array,left,right):\n",
        "  i=left-1 # Select first element and point i to it.\n",
        "  pivot= array[right] #Select last element as pivot\n",
        "\n",
        "# Iterate over all the positions\n",
        "  for j in range(left,right):\n",
        "\n",
        "    # If j points at the element smaller than the pivot\n",
        "    if array[j]<pivot:\n",
        "      # increment the i and  \n",
        "      i=i+1\n",
        "      array[i],array[j]=array[j],array[i]\n",
        "\n",
        "# put pivot element at its right position\n",
        "  array[i+1],array[right]=array[right],array[i+1]\n",
        "# return position of the element  \n",
        "  return i+1  "
      ],
      "execution_count": null,
      "outputs": []
    },
    {
      "cell_type": "markdown",
      "metadata": {
        "id": "omprruQ3a-vi"
      },
      "source": [
        "Now, let's go ahead and create the main `quickSort` function with help of the below steps: \n",
        "\n",
        "1. Create a function `quickSort` that takes three inputs as follows: \n",
        "\n",
        "  - `array` - The array to be sorted\n",
        "\n",
        "  - `left` - first index of the array\n",
        "\n",
        "  - `right` - last index of the array\n",
        "\n",
        "2. Define the condition for recursion to break by checking whether `left < right`.\n",
        "\n",
        "3. Call the `partition` function to put the pivot element selected at its right position. \n",
        "\n",
        "**Note**: Select the first element as a pivot and the partition function will always put the first element at its right location in our implementation. \n",
        " "
      ]
    },
    {
      "cell_type": "code",
      "metadata": {
        "id": "LZE88Ys4D5eh"
      },
      "source": [
        " #T3.2:  Function to do Quick sort \n",
        "\n",
        "def quickSort(arr,left,right): \n",
        "  if left<right: #Condition to break for recurssion\n",
        "    pivot_location=partition(array,left,right) # Pivot location\n",
        "    quickSort(array,left,pivot_location-1) # Apply quick sort on left array\n",
        "    quickSort(array,pivot_location+1,right) # Apply quick sort on right array\n",
        "\n"
      ],
      "execution_count": null,
      "outputs": []
    },
    {
      "cell_type": "markdown",
      "metadata": {
        "id": "nf5Od94dcT7v"
      },
      "source": [
        "Now let's try to sort an array using the quick sort technique that we have created."
      ]
    },
    {
      "cell_type": "code",
      "metadata": {
        "colab": {
          "base_uri": "https://localhost:8080/"
        },
        "id": "jb0ytgcOnPBN",
        "outputId": "cc670c0c-4757-4657-f37b-3eddc26d3177"
      },
      "source": [
        "#S3.1: Implement quicksort on this array\n",
        "\n",
        "array = [5, 3, 4, 2, 1] \n",
        "quickSort(array,0,len(array)-1) \n",
        "print (\"Sorted array is:\") \n",
        "print(array)"
      ],
      "execution_count": null,
      "outputs": [
        {
          "output_type": "stream",
          "name": "stdout",
          "text": [
            "Sorted array is:\n",
            "[1, 2, 3, 4, 5]\n"
          ]
        }
      ]
    },
    {
      "cell_type": "markdown",
      "metadata": {
        "id": "VxIy0DySd9Aq"
      },
      "source": [
        "**Q:** Will our implementation work if the random element is selected as a pivot?\n",
        "\n",
        "**A:** Yes."
      ]
    },
    {
      "cell_type": "markdown",
      "metadata": {
        "id": "ms-yrJadeVys"
      },
      "source": [
        "**Q:** Which sorting algorithm is implemented in the Python sort function?\n",
        "\n",
        "**A:** Quick Sort."
      ]
    },
    {
      "cell_type": "markdown",
      "metadata": {
        "id": "_yy8mjL9yRSd"
      },
      "source": [
        "Hence, we have learned all the sorting algorithms that are crucial in Data Structures. In the next class, we will learn a new class of algorithms called as Search Algorithms."
      ]
    },
    {
      "cell_type": "markdown",
      "metadata": {
        "id": "SSlHLdoOjKa0"
      },
      "source": [
        "---"
      ]
    }
  ]
}