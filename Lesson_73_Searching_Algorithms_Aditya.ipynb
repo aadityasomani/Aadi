{
  "nbformat": 4,
  "nbformat_minor": 0,
  "metadata": {
    "colab": {
      "name": " Lesson 73 - Searching Algorithms -Aditya",
      "provenance": [],
      "collapsed_sections": [],
      "include_colab_link": true
    },
    "kernelspec": {
      "name": "python3",
      "display_name": "Python 3"
    }
  },
  "cells": [
    {
      "cell_type": "markdown",
      "metadata": {
        "id": "view-in-github",
        "colab_type": "text"
      },
      "source": [
        "<a href=\"https://colab.research.google.com/github/aadityasomani/Aadi/blob/master/Lesson_73_Searching_Algorithms_Aditya.ipynb\" target=\"_parent\"><img src=\"https://colab.research.google.com/assets/colab-badge.svg\" alt=\"Open In Colab\"/></a>"
      ]
    },
    {
      "cell_type": "markdown",
      "metadata": {
        "id": "vj2ogpJnbQC3"
      },
      "source": [
        "# Searching algorithms\n"
      ]
    },
    {
      "cell_type": "markdown",
      "metadata": {
        "id": "H7EcYDj7ICKh"
      },
      "source": [
        "---"
      ]
    },
    {
      "cell_type": "markdown",
      "metadata": {
        "id": "j3GnFOw_Hl2o"
      },
      "source": [
        "### Teacher-Student Tasks\n",
        "\n",
        "\n",
        "\n"
      ]
    },
    {
      "cell_type": "markdown",
      "metadata": {
        "id": "LM12DjPh3HDD"
      },
      "source": [
        "One of the most important operation performed on any data structure is **Searching**. \n",
        "\n",
        "Searching is a task which we perform frequently in our day to day life such as searching for a book in library, searching for an image or video in our phone or computer and what not. However, searching for a particular item becomes easy and efficient if the items are kept in a sorted order. Hence, the performance of a searching algorithm largely depends on the efficiency of the sorting algorithm.\n",
        "\n",
        "\n",
        "Following searching algorithms are used to search for an element in a given data structure:\n",
        "\n",
        "1. Linear Search\n",
        "2. Binary Search\n",
        "3. Jump Search\n"
      ]
    },
    {
      "cell_type": "markdown",
      "metadata": {
        "id": "eM-FzF_5p1mW"
      },
      "source": [
        "---"
      ]
    },
    {
      "cell_type": "markdown",
      "metadata": {
        "id": "XnMYjZv2tXmk"
      },
      "source": [
        "#### Task 1: Linear Search\n",
        "\n",
        "It is the simplest searching algorithm in which we search for our desired element one by one in the whole list or an array.\n",
        "- It starts from the beginning of the list and checks every element of the list.\n",
        "- It compares the element to be searched with all the other elements of the list. When the searched element is found in the list, it returns the index position of that element, else it returns -1.\n",
        "\n",
        "**For example:**\n",
        "\n",
        "<img src=\"https://obj.whitehatjr.com/f625dea2-497f-4116-b41b-6fe103f30f40.gif\" height=200/>\n",
        "\n",
        "\n",
        "The linear search method depends on whether the list items are sorted or not. Let us perform linear search on an unordered list i.e. a list whose elements are not sorted.\n"
      ]
    },
    {
      "cell_type": "markdown",
      "metadata": {
        "id": "KEu4z_P0ysAV"
      },
      "source": [
        "\n",
        "##### **Unordered Linear Search:**\n",
        "\n",
        "\n",
        "Let us create the following unordered Python list:\n",
        "\n",
        "<img src=\"https://obj.whitehatjr.com/24fcf464-3756-4671-8927-d6d5fa4ca530.png\" height=100/>"
      ]
    },
    {
      "cell_type": "code",
      "metadata": {
        "id": "BFodxIYxbLNe"
      },
      "source": [
        "# S1.1: Create a python list 'unordered_list'\n",
        "unordered_list=[6,1,80,9,11,25]\n"
      ],
      "execution_count": 1,
      "outputs": []
    },
    {
      "cell_type": "markdown",
      "metadata": {
        "id": "GreBDK8H3trt"
      },
      "source": [
        "The elements in the list `unordered_list` are not in sorted order. To search for a particular element in such a list:\n",
        "\n",
        "* Start from the very first element.\n",
        "* Compare that element with the search element. \n",
        "* If a match is not found, examine the next element in the list.\n",
        "* This continues till the last element in the list is reached or unless a match is found.\n",
        "\n",
        "Let us create a Python function which will search for the element in an unordered list. \n",
        "\n",
        "\n",
        "\n",
        "\n"
      ]
    },
    {
      "cell_type": "code",
      "metadata": {
        "id": "ikgmRIeH-EFg"
      },
      "source": [
        "# T1.1: Create a function to perform linear search on an unordered list\n",
        "def unordered_search(arr,key):\n",
        "    n=len(arr)\n",
        "    for i in range(n):\n",
        "        if key==arr[i]:\n",
        "            return i\n",
        "    return -1\n"
      ],
      "execution_count": 2,
      "outputs": []
    },
    {
      "cell_type": "markdown",
      "metadata": {
        "id": "4HdZJtR7JBb_"
      },
      "source": [
        "In the above code,\n",
        "\n",
        "- The `unordered_linear_search` function accepts two inputs; first is the unordered list and the second is the search element.\n",
        "\n",
        "- Inside this function, the size of the list is obtained which determines the number of times the `for` loop is executed.\n",
        " \n",
        "- On every iteration of the `for` loop, we check whether the search element is equal to the indexed element using `if` statement. If yes, then there is no need to proceed further with the search and hence, we will return the index position. \n",
        "\n",
        "- However, if the loop runs to the end of the list with no match found, then `-1` is returned to indicate there is no such item in the list."
      ]
    },
    {
      "cell_type": "markdown",
      "metadata": {
        "id": "gqLWcjaZ-mQ_"
      },
      "source": [
        "Let us search for an element `11` in the `unordered_list` list."
      ]
    },
    {
      "cell_type": "code",
      "metadata": {
        "id": "rmPjX7br-y5n",
        "colab": {
          "base_uri": "https://localhost:8080/"
        },
        "outputId": "379e52e9-9610-4f60-df0a-903a70ce4706"
      },
      "source": [
        "# S1.2: Search for element '11' in the list 'unordered_list'\n",
        "unordered_search(unordered_list,11)"
      ],
      "execution_count": 3,
      "outputs": [
        {
          "output_type": "execute_result",
          "data": {
            "text/plain": [
              "4"
            ]
          },
          "metadata": {},
          "execution_count": 3
        }
      ]
    },
    {
      "cell_type": "markdown",
      "metadata": {
        "id": "773jyJpV_qnJ"
      },
      "source": [
        "The above function returns `4` which indicates the index position  where the searched item `11` was found in the list.\n",
        "\n",
        "Similarly, try to search for the element `22` in the `unordered_list` list."
      ]
    },
    {
      "cell_type": "code",
      "metadata": {
        "id": "YHqe-zS-AnOU",
        "colab": {
          "base_uri": "https://localhost:8080/"
        },
        "outputId": "31f4d44d-3ead-49f2-eade-88f7e6d077a5"
      },
      "source": [
        "# S1.3: Search for element '22' in the list 'unordered_list'\n",
        "unordered_search(unordered_list,22)"
      ],
      "execution_count": 4,
      "outputs": [
        {
          "output_type": "execute_result",
          "data": {
            "text/plain": [
              "-1"
            ]
          },
          "metadata": {},
          "execution_count": 4
        }
      ]
    },
    {
      "cell_type": "markdown",
      "metadata": {
        "id": "6kRkMKWfA6pr"
      },
      "source": [
        "The above function returns `-1` which indicates that there is no such element in the list.\n",
        "\n",
        "The unordered linear search may consume a lot of time if there are more number of elements and if the search element is located at the last position of the list. This is because, all the elements needs to be visited before finding the element to be searched ."
      ]
    },
    {
      "cell_type": "markdown",
      "metadata": {
        "id": "q4fHBNSSBVgr"
      },
      "source": [
        "##### **Ordered Linear Search:**\n",
        "\n",
        "The linear search algorithm will work more efficiently if the list elements are sorted.\n",
        "\n",
        "Let us create the following ordered Python list which contains elements sorted in ascending order:\n",
        "\n",
        "<img src=\"https://obj.whitehatjr.com/14463f32-4668-4e83-b158-775ed601ee80.png\"/>\n"
      ]
    },
    {
      "cell_type": "code",
      "metadata": {
        "id": "Hh0bTOf8EaMV"
      },
      "source": [
        "# S1.4: Create a python list 'ordered_list'\n",
        "ordered_list=[1,6,9,11,25,80]\n"
      ],
      "execution_count": 5,
      "outputs": []
    },
    {
      "cell_type": "markdown",
      "metadata": {
        "id": "TiXfwqdqEub5"
      },
      "source": [
        "Since the elements in the `ordered_list` list are sorted, the search algorithm is reduced to the following steps:\n",
        "\n",
        "* Start from the very first element.\n",
        "* Compare that element with the search element. \n",
        "* If the current element is greater than the search element, then there is no need to continue with the search.\n",
        "\n",
        "\n",
        "<img src=\"https://obj.whitehatjr.com/e8ef501c-78b2-4478-aeb3-1a2175f89567.gif\" height=200/>\n",
        "\n",
        "In the above example, we are searching for element `10` in the `ordered_list` list.\n",
        "\n",
        "Once you reach element `11`, you realize that `11` > `10`. Hence, we will stop our search operation here. This is because all the  elements after `11` would be greater than `11` since it is a sorted list. So, we do need to search for element `10` further in the list. This saves some computation time.\n",
        "\n",
        "Let us create a Python function that will search for the element in an ordered list with help of the below steps:\n",
        "\n",
        "1. Define the `ordered_linear_search` function that takes two inputs as follows:   \n",
        "\n",
        "  - `sorted_list` - The list of elements that is already sorted in ascending order.\n",
        "\n",
        "  - `search_item` - The element to be searched.\n",
        "\n",
        "2. Initiate a `for` loop that iterates through all elements in the sorted list.\n",
        "\n",
        "3. Check whether the search element matches with the current element of the list or not. If yes, then there is no need to proceed further with the search and hence, we return the index position. \n",
        "\n",
        "4. Determine whether the current element is greater than the search element using `sorted_list[i] > search_item` in an `elif` statement. If the condition evaluates to `True`, then the function should return `-1` indicating that the search element cannot be found in the list.\n",
        "\n",
        "6. Return `-1` at the end, outside the `for` loop. It indicates that the search element is not in the list.\n",
        "\n",
        "\n",
        "\n",
        "\n",
        "\n"
      ]
    },
    {
      "cell_type": "code",
      "metadata": {
        "id": "g_08qFLNKQ3_"
      },
      "source": [
        "# S1.5: Create a function to perform linear search on an ordered list\n",
        "def ordered_search(arr,key):\n",
        "    n=len(arr)\n",
        "    for i in range(n):\n",
        "        if key==arr[i]:\n",
        "            return i\n",
        "        elif arr[i]>key:\n",
        "            return -1\n",
        "    return -1"
      ],
      "execution_count": 6,
      "outputs": []
    },
    {
      "cell_type": "markdown",
      "metadata": {
        "id": "ngKtwmDrLIbB"
      },
      "source": [
        "Let us search for an element `10` in the `ordered_list` list:"
      ]
    },
    {
      "cell_type": "code",
      "metadata": {
        "id": "E-b_11R_OIZ-",
        "colab": {
          "base_uri": "https://localhost:8080/"
        },
        "outputId": "d9dfed6e-a8f3-4d7c-a370-f6dd4c609bb4"
      },
      "source": [
        "# S1.6: Search for element '10' in the list 'ordered_list'\n",
        "ordered_search(ordered_list,10)"
      ],
      "execution_count": 7,
      "outputs": [
        {
          "output_type": "execute_result",
          "data": {
            "text/plain": [
              "-1"
            ]
          },
          "metadata": {},
          "execution_count": 7
        }
      ]
    },
    {
      "cell_type": "markdown",
      "metadata": {
        "id": "bOIC9hmAOXJN"
      },
      "source": [
        "Although ordered linear search is more efficient as compared to unordered ones, still this type of search algorithm is not efficient when working with large data sets."
      ]
    },
    {
      "cell_type": "markdown",
      "metadata": {
        "id": "GELcxz1qO6X-"
      },
      "source": [
        "---"
      ]
    },
    {
      "cell_type": "markdown",
      "metadata": {
        "id": "lMXjwuKBO7PX"
      },
      "source": [
        "#### Task 2: Binary Search\n",
        "\n",
        "Binary search algorithm is used to find elements within a sorted array or list. The algorithm works as follows:\n",
        "\n",
        "1. The sorted list is divided into half.\n",
        "2. If the search element is smaller than the middle value then the search operation is done in the first half of the list else it is done in the second half of the list.\n",
        "3. This process is repeated everytime unless the search element is found or unless the whole list is checked.\n",
        "\n",
        "Let us search for an element `49` in the following list:\n",
        "\n",
        "<img src=\"https://user-images.githubusercontent.com/67689674/111904090-1138c900-8a6b-11eb-9dc6-e9be40bb9660.PNG\"/>\n"
      ]
    },
    {
      "cell_type": "code",
      "metadata": {
        "id": "pshFGYcLoo4p"
      },
      "source": [
        "# S2.1: Create a python list 'binary_list'\n",
        "binary_list=[1,6,9,11,25,43,49,55,80]"
      ],
      "execution_count": 8,
      "outputs": []
    },
    {
      "cell_type": "markdown",
      "metadata": {
        "id": "PBmwCFBaoski"
      },
      "source": [
        "\n",
        "<img src=\"https://obj.whitehatjr.com/a34c4ec1-3422-4106-b002-a9c08f5624fc.png\"/>\n",
        "\n",
        "In the above example, \n",
        "- We start searching for element `49` by comparing it with the middle element `25`. \n",
        "- If the search element is smaller than the middle value then look into the first half of the list; otherwise, look into the second half.\n",
        "- As our search element `49` is greater than middle value `25`, we need to search only in the second half.\n",
        "- This process is repeated unless the search element `49` is found in the list.\n",
        "\n",
        "\n"
      ]
    },
    {
      "cell_type": "markdown",
      "metadata": {
        "id": "8qb649vugteZ"
      },
      "source": [
        "Let us create a Python function that will search for an element in an ordered list using a binary search algorithm with help of the following steps:\n",
        "\n",
        "1. Define the `binary_search` function that takes two inputs as follows:   \n",
        "\n",
        "  - `ordered_list` - The list of elements that is already sorted in ascending order.\n",
        "\n",
        "  - `search_item` - The element to be searched.\n",
        "\n",
        "2. Repeatedly adjust the limits within which an element is to be searched, using a `while` loop.\n",
        "\n",
        "3. The terminating condition of the `while` loop is the difference between the starting index and the last index.\n",
        "\n",
        "4. Inside the `while` loop, first obtain the middle element of the list by adding the index of the first element and index of the last element and divide the sum by `2`.\n",
        "\n",
        "   `mid_value = (first_element_index + last_element_index)//2`\n",
        "\n",
        "5. Then, check if the middle element matches the search element. If yes, then return the middle element. \n",
        "\n",
        "6. Check whether the search element is greater than the middle value using an `elif` condition. If yes, then search the element in the second half of the list. Adjust the index of the first element to `mid_value + 1` in this case:\n",
        "\n",
        "  `first_element_index = mid_value + 1`\n",
        "\n",
        "7. Check whether search element is less than the middle value using an `else` condition. If yes, then to search the element in the first half of the list. Adjust the index of the last element to `mid_value - 1` in this case:\n",
        "\n",
        "  `last_element_index = mid_value - 1`\n",
        "\n",
        "8. Continue this reduction of the list by re-adjusting the indexes as long as `first_element_index` < `last_element_index`.\n",
        "\n",
        "9. Check whether the index of first element is greater than the index of last element using `if first_element_index > last_element_index:` and if the condition is return `-1` to indicate that the element we are searching is not present in the list."
      ]
    },
    {
      "cell_type": "code",
      "metadata": {
        "id": "LnK8LJ6cXmzd"
      },
      "source": [
        "# T2.1: Create a function to perform binary search on an ordered list\n",
        "def binary_search(arr,key):\n",
        "    n=len(arr)\n",
        "    l=0\n",
        "    r=n-1\n",
        "    while(l<=r):\n",
        "        mid=(l+r)//2\n",
        "        if arr[mid]==key:\n",
        "            return mid\n",
        "        elif key>arr[mid]:\n",
        "            l=mid+1\n",
        "        else:\n",
        "            r=mid-1\n",
        "    if l>r:\n",
        "        return -1\n",
        "        "
      ],
      "execution_count": 9,
      "outputs": []
    },
    {
      "cell_type": "markdown",
      "metadata": {
        "id": "H-mXCfGzY3wg"
      },
      "source": [
        "Now Let us search for an element `49` in the `binary_list` list:"
      ]
    },
    {
      "cell_type": "code",
      "metadata": {
        "id": "C5XJyznkfZl-",
        "colab": {
          "base_uri": "https://localhost:8080/"
        },
        "outputId": "a634260e-e874-4b98-bc22-126b56f22df9"
      },
      "source": [
        "# S2.2: Search for element '49' in the list 'ordered_list'\n",
        "binary_search(binary_list,49)"
      ],
      "execution_count": 10,
      "outputs": [
        {
          "output_type": "execute_result",
          "data": {
            "text/plain": [
              "6"
            ]
          },
          "metadata": {},
          "execution_count": 10
        }
      ]
    },
    {
      "cell_type": "markdown",
      "metadata": {
        "id": "5D2WBndnrRnO"
      },
      "source": [
        "The above function returns `6` which is the index position of the element `49` in the `binary_list`."
      ]
    },
    {
      "cell_type": "markdown",
      "metadata": {
        "id": "u_-ixlBuEckR"
      },
      "source": [
        "---"
      ]
    },
    {
      "cell_type": "markdown",
      "metadata": {
        "id": "350vrGw-3Bw6"
      },
      "source": [
        "#### Task 3: Jump Search\n",
        "\n",
        "The jump search algorithm attempts to improve the efficiency of the searching algorithm for sorted arrays. The idea is to jump ahead by fixed steps in order to skip checking of each and every element and hence, reduce the number of comparisons.\n",
        "\n",
        "Let us understand jump search with the help of an example:\n",
        "\n",
        "Consider the following ordered list: \n",
        "\n",
        "\n",
        "<img src=\"https://obj.whitehatjr.com/9e40bb4f-c827-4911-9472-4416b2a70787.PNG\"/>\n",
        "\n",
        "Length of the array is 15. \n",
        "\n",
        "We need to search for value `18`. Assume the block size to be 5.\n",
        "\n",
        "<img src=\"https://s3-whjr-v2-prod-bucket.whjr.online/119558e1-c88e-4e0a-957f-940ad2862002.png\"/>\n",
        "\n",
        "\n",
        "The algorithm will work as follows:\n",
        "\n",
        "- Jump from index 0 to index 4.\n",
        "- Jump from index 5 to index 9.\n",
        "- Since the element at index 9 is greater than search element `18`, jump back a step to come to index 5. \n",
        "- Perform linear search from index 5 to get the element `18`. The element is found at index `8`.\n",
        "\n",
        "Following Python function will search for an element in an ordered list using jump search algorithm."
      ]
    },
    {
      "cell_type": "code",
      "metadata": {
        "id": "HEdJRepK_XdU"
      },
      "source": [
        "# S3.1: Python function to perform jump search on an ordered list\n",
        "import math\n",
        "def jump_search(arr,key,n):\n",
        "\t\t# Calculating the block size to be jumped\n",
        "\tblock_size=n//3\n",
        "\t# Finding the block where element is present (if it is present)\n",
        "\tblock=block_size\n",
        "\tprev=0\n",
        "\twhile(arr[int(min(block,n)-1)]<key):\n",
        "\t\tprev=block\n",
        "\t\tblock+=block_size\n",
        "\t\tif prev>=n:\n",
        "\t\t\treturn -1\n",
        "\t\t# Doing a linear search for search_element in block beginning with prev.\n",
        "\twhile(arr[int(prev)]<key):\n",
        "\t\tprev+=1\n",
        "\n",
        "\t\t# If we reached next block or end of array, element is not present.\n",
        "\t\tif prev==min(block,n):\n",
        "\t\t\treturn -1\n",
        "\t\t\t# If element is found\n",
        "\tif arr[int(prev)]==key:\n",
        "\t\treturn prev\n",
        "\treturn -1\n",
        "\t"
      ],
      "execution_count": 11,
      "outputs": []
    },
    {
      "cell_type": "code",
      "metadata": {
        "id": "ZVTCB_SJDqgW",
        "colab": {
          "base_uri": "https://localhost:8080/"
        },
        "outputId": "3c65fa0f-700e-46f6-c055-2d72bd0cf0a8"
      },
      "source": [
        "# S3.2: Search for element '18' in a sorted list  [0,2,3,5,8,10,14,15,18,20,25,30,32,39,40]\n",
        "arr=[0,2,3,5,8,10,14,15,18,20,25,30,32,39,40]\n",
        "\n",
        "# Find the index of search_element using Jump Search\n",
        "jump_search(arr,40,len(arr))\n",
        "\n",
        "# Print the index if search_element is found\n"
      ],
      "execution_count": 16,
      "outputs": [
        {
          "output_type": "execute_result",
          "data": {
            "text/plain": [
              "14"
            ]
          },
          "metadata": {},
          "execution_count": 16
        }
      ]
    },
    {
      "cell_type": "markdown",
      "metadata": {
        "id": "2wKJedlJ2xx5"
      },
      "source": [
        "The `jump_search` function returned `8` which is the index position of the element `18` in the `sorted_list`.\n",
        "\n",
        "We will stop here. In the next class, we will learn  to perform computational tasks using the numerical algorithms."
      ]
    },
    {
      "cell_type": "markdown",
      "metadata": {
        "id": "X4uEHuDjt-iy"
      },
      "source": [
        "---"
      ]
    }
  ]
}