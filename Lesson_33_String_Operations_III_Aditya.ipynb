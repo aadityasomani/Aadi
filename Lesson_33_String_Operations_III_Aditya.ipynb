{
  "nbformat": 4,
  "nbformat_minor": 0,
  "metadata": {
    "colab": {
      "name": " Lesson 33 - String Operations III -Aditya",
      "provenance": [],
      "collapsed_sections": [],
      "include_colab_link": true
    },
    "kernelspec": {
      "name": "python3",
      "display_name": "Python 3"
    }
  },
  "cells": [
    {
      "cell_type": "markdown",
      "metadata": {
        "id": "view-in-github",
        "colab_type": "text"
      },
      "source": [
        "<a href=\"https://colab.research.google.com/github/aadityasomani/Aadi/blob/master/Lesson_33_String_Operations_III_Aditya.ipynb\" target=\"_parent\"><img src=\"https://colab.research.google.com/assets/colab-badge.svg\" alt=\"Open In Colab\"/></a>"
      ]
    },
    {
      "cell_type": "markdown",
      "metadata": {
        "id": "LHMNPeUke3VC"
      },
      "source": [
        "# Lesson 33: String Operations III"
      ]
    },
    {
      "cell_type": "markdown",
      "metadata": {
        "id": "d0RqwmGHOaUo"
      },
      "source": [
        "### Teacher-Student Tasks\n",
        "\n",
        "\n",
        "In this class, we will learn the remaining string operations/functions in Python."
      ]
    },
    {
      "cell_type": "markdown",
      "metadata": {
        "id": "1ndsjaU3X0V7"
      },
      "source": [
        "---"
      ]
    },
    {
      "cell_type": "markdown",
      "metadata": {
        "id": "CFg0CuZyh1o5"
      },
      "source": [
        "#### Task 1: The `strip(), lstrip()`, `rstrip()` Functions\n",
        "\n",
        "The `strip()` function removes any unwanted item from a string present at both ends of a string. By default it removes the whitespaces unless otherwise specified.\n",
        "\n",
        "The string below contains many `#` symbols, whitespaces, and commas`:\n",
        "\n",
        "`' #food, #foodie, #yummy, #delicious, #foodislife ## '`\n",
        "\n",
        "Let's remove the whitespaces and `#` symbols from both ends of the string using the `strip()` function:\n",
        "\n",
        "**Syntax of `strip()` function:** `string.strip(character)`\n",
        "\n",
        "Where `character` is the character to be removed from both ends of a string."
      ]
    },
    {
      "cell_type": "code",
      "metadata": {
        "id": "mxbTH791h0cD",
        "colab": {
          "base_uri": "https://localhost:8080/",
          "height": 35
        },
        "outputId": "780cde7d-ebe1-42be-cdb6-90d67842d301"
      },
      "source": [
        "# S1.1: Remove whitespaces from both ends of the given string.\n",
        "hash=' #food, #foodie, #yummy, #delicious, #foodislife ## '\n",
        "hash_strip=hash.strip()\n",
        "hash_strip"
      ],
      "execution_count": 1,
      "outputs": [
        {
          "output_type": "execute_result",
          "data": {
            "application/vnd.google.colaboratory.intrinsic+json": {
              "type": "string"
            },
            "text/plain": [
              "'#food, #foodie, #yummy, #delicious, #foodislife ##'"
            ]
          },
          "metadata": {},
          "execution_count": 1
        }
      ]
    },
    {
      "cell_type": "code",
      "metadata": {
        "id": "pYt-Qka3eHsM",
        "colab": {
          "base_uri": "https://localhost:8080/",
          "height": 35
        },
        "outputId": "2b7d4916-e359-4fa3-f6e2-9fc0f3a135f4"
      },
      "source": [
        "# S1.2: Strip whitespaces and '#' symbols from both ends of the given string.\n",
        "strip_2=hash.strip(' #')\n",
        "strip_2"
      ],
      "execution_count": 2,
      "outputs": [
        {
          "output_type": "execute_result",
          "data": {
            "application/vnd.google.colaboratory.intrinsic+json": {
              "type": "string"
            },
            "text/plain": [
              "'food, #foodie, #yummy, #delicious, #foodislife'"
            ]
          },
          "metadata": {},
          "execution_count": 2
        }
      ]
    },
    {
      "cell_type": "markdown",
      "metadata": {
        "id": "aoY0M97aokd_"
      },
      "source": [
        "If you want to remove some character only from the rightmost end side of a string, then you can use the `rstrip()` function.\n",
        "\n",
        "**Syntax of `rstrip()` function:**  `string.rstrip(character)`\n",
        "\n",
        "Where `character` is the character to be removed from the rightmost end of a string."
      ]
    },
    {
      "cell_type": "code",
      "metadata": {
        "id": "n0TMCqhlleeb",
        "colab": {
          "base_uri": "https://localhost:8080/",
          "height": 35
        },
        "outputId": "08b810e9-05fd-495c-9b1a-c83af64dc1eb"
      },
      "source": [
        "# S1.3: Strip whitespaces and '#' symbols from the rightmost end of the given string.\n",
        "strip3=hash.rstrip(' #')\n",
        "strip3"
      ],
      "execution_count": 3,
      "outputs": [
        {
          "output_type": "execute_result",
          "data": {
            "application/vnd.google.colaboratory.intrinsic+json": {
              "type": "string"
            },
            "text/plain": [
              "' #food, #foodie, #yummy, #delicious, #foodislife'"
            ]
          },
          "metadata": {},
          "execution_count": 3
        }
      ]
    },
    {
      "cell_type": "markdown",
      "metadata": {
        "id": "GoYtEnCRuklj"
      },
      "source": [
        "If you want to remove some character only from the leftmost end side of a string, then you can use the `lstrip()` function.\n",
        "\n",
        "**Syntax of `lstrip()` function:**  `string.lstrip(character)`\n",
        "\n",
        "Where `character` is the character to be removed from the leftmost end of a string."
      ]
    },
    {
      "cell_type": "code",
      "metadata": {
        "id": "cJpIOHAspGhN",
        "colab": {
          "base_uri": "https://localhost:8080/",
          "height": 35
        },
        "outputId": "134905bb-a4f9-4821-d2ed-fcdd616d90e0"
      },
      "source": [
        "# S1.4: Strip whitespaces and '#' symbols from the leftmost end of the given string.\n",
        "strip4=hash.lstrip(' #')\n",
        "strip4"
      ],
      "execution_count": 4,
      "outputs": [
        {
          "output_type": "execute_result",
          "data": {
            "application/vnd.google.colaboratory.intrinsic+json": {
              "type": "string"
            },
            "text/plain": [
              "'food, #foodie, #yummy, #delicious, #foodislife ## '"
            ]
          },
          "metadata": {},
          "execution_count": 4
        }
      ]
    },
    {
      "cell_type": "markdown",
      "metadata": {
        "id": "yCZ_uXveu-fz"
      },
      "source": [
        "---"
      ]
    },
    {
      "cell_type": "markdown",
      "metadata": {
        "id": "ZiFoVm3Iu_v6"
      },
      "source": [
        "#### Task 2: The `split()` Function\n",
        "\n",
        "The `split()` function splits a string and returns a list of splitted strings.\n",
        "\n",
        "For example, the `split()` function will split the string `' #food, #foodie, #yummy, #delicious, #foodislife ## '` and will return a list containing its fragments as items."
      ]
    },
    {
      "cell_type": "code",
      "metadata": {
        "id": "XYMb7xHPu_Hu",
        "colab": {
          "base_uri": "https://localhost:8080/"
        },
        "outputId": "d12bb3ca-f8fa-4f79-d037-31017e5d1f4d"
      },
      "source": [
        "# S2.1: Apply the 'split()' function without passing any input to it on the given string.\n",
        "split1=hash.split()\n",
        "split1"
      ],
      "execution_count": 5,
      "outputs": [
        {
          "output_type": "execute_result",
          "data": {
            "text/plain": [
              "['#food,', '#foodie,', '#yummy,', '#delicious,', '#foodislife', '##']"
            ]
          },
          "metadata": {},
          "execution_count": 5
        }
      ]
    },
    {
      "cell_type": "markdown",
      "metadata": {
        "id": "wVMLyWJzvqGu"
      },
      "source": [
        "By default, the `split()` function splits a string about whitespace. If you want to split a string about a particular item, then you have to specify that item as an input to the `split()` function.\n",
        "\n",
        "Let's split the string `' #food, #foodie, #yummy, #delicious, #foodislife ## '` about the comma and whitespace."
      ]
    },
    {
      "cell_type": "code",
      "metadata": {
        "id": "Fa6QhswjdeLX",
        "colab": {
          "base_uri": "https://localhost:8080/"
        },
        "outputId": "de7d3922-1fab-49a1-e849-5e5ef67b0032"
      },
      "source": [
        "# S2.2: Split the string ' #food, #foodie, #yummy, #delicious, #foodislife ## ' about the whitespace and comma.\n",
        "split2=hash.split(', ')\n",
        "split2"
      ],
      "execution_count": 6,
      "outputs": [
        {
          "output_type": "execute_result",
          "data": {
            "text/plain": [
              "[' #food', '#foodie', '#yummy', '#delicious', '#foodislife ## ']"
            ]
          },
          "metadata": {},
          "execution_count": 6
        }
      ]
    },
    {
      "cell_type": "code",
      "metadata": {
        "id": "vzj5y1FbvojZ",
        "colab": {
          "base_uri": "https://localhost:8080/"
        },
        "outputId": "5085baf9-5aef-49c1-f9fa-0e75e4a1b1c4"
      },
      "source": [
        "# S2.3: Remove the hash symbols and whitespaces from all the items contained in the above list. Store the cleaned items in a new list.\n",
        "print(split2)\n",
        "lst=[]\n",
        "for i in split2:\n",
        "    lst.append(i.strip(' #'))\n",
        "print(lst)\n",
        "    "
      ],
      "execution_count": 7,
      "outputs": [
        {
          "output_type": "stream",
          "name": "stdout",
          "text": [
            "[' #food', '#foodie', '#yummy', '#delicious', '#foodislife ## ']\n",
            "['food', 'foodie', 'yummy', 'delicious', 'foodislife']\n"
          ]
        }
      ]
    },
    {
      "cell_type": "markdown",
      "metadata": {
        "id": "Q0bB5qCCwQ5G"
      },
      "source": [
        "---"
      ]
    },
    {
      "cell_type": "markdown",
      "metadata": {
        "id": "4cDLkzOHwbeY"
      },
      "source": [
        "#### Task 3: The `join()` Function\n",
        "\n",
        "To join the items contained in a list to form a string, you can use the `join()` function. \n",
        "\n",
        "**Syntax of `join()` function:**  `joining_character.join(list)`\n",
        "\n",
        "\n",
        "**Note:** This function works on the lists containing only the string items.\n"
      ]
    },
    {
      "cell_type": "code",
      "metadata": {
        "id": "Cs48MLoFvU6_",
        "colab": {
          "base_uri": "https://localhost:8080/",
          "height": 35
        },
        "outputId": "33b99568-b427-47d6-b14d-5882471560b8"
      },
      "source": [
        "# S3.1: Create a new string by joining the items of the above list (containing clean items) about whitespace.\n",
        "new_string=' '.join(lst)\n",
        "new_string"
      ],
      "execution_count": 8,
      "outputs": [
        {
          "output_type": "execute_result",
          "data": {
            "application/vnd.google.colaboratory.intrinsic+json": {
              "type": "string"
            },
            "text/plain": [
              "'food foodie yummy delicious foodislife'"
            ]
          },
          "metadata": {},
          "execution_count": 8
        }
      ]
    },
    {
      "cell_type": "markdown",
      "metadata": {
        "id": "Ve4pjwAKkx6I"
      },
      "source": [
        "Let's write a code to create a 12 character long password containing a combination of lowercase & uppercase English letters numbers and special characters.\n",
        "\n",
        "For this exercise, we have to import the `string` module that contains the following string constants.\n",
        "\n",
        "1. `string.ascii_lowercase`: A constant string of lowercase letters, i.e.,`'abcdefghijklmnopqrstuvwxyz'`\n",
        "\n",
        "2. `string.ascii_uppercase`: A constant string of uppercase letters, i.e., `'ABCDEFGHIJKLMNOPQRSTUVWXYZ'`\n",
        "\n",
        "3. `string.ascii_letters`: A constant string containing the concatenation of the `ascii_lowercase` and `ascii_uppercase` constants, i.e., `'abcdefghijklmnopqrstuvwxyzABCDEFGHIJKLMNOPQRSTUVWXYZ'`\n",
        "\n",
        "4. `string.digits`: A constant string of the digits, i.e, `'0123456789'`\n",
        "\n",
        "5. `string.punctuation`: A constant string of ASCII characters which are considered as punctuation characters, i.e., ``!\"#$%&'()*+,-./:;<=>?@[\\]^_`{|}~``\n",
        "\n",
        "The constants are those values which are universally true. E.g., value of `pi = 3.141` etc.\n",
        "\n",
        "Of course, you can create all of the above on your own by typing them individually. But then your life will become miserable."
      ]
    },
    {
      "cell_type": "code",
      "metadata": {
        "id": "l7UvAgLqthax",
        "colab": {
          "base_uri": "https://localhost:8080/"
        },
        "outputId": "7e9aa9b7-3b21-4f1b-f7fc-f6a9939a91dd"
      },
      "source": [
        "# S3.2: Write a code to generate a 12 character long random password containing a combination of lowercase & \n",
        "# uppercase English letters numbers and special characters.\n",
        "import string\n",
        "import random\n",
        "char=string.ascii_letters+string.digits+string.punctuation\n",
        "print(f'Aplha Numeric String = {char}')\n",
        "rand_char=[char[random.randint(0,len(char)-1)] for x in range(12)]\n",
        "print(rand_char)\n",
        "password=''.join(rand_char)\n",
        "print(f'Random Password = {password}')"
      ],
      "execution_count": 14,
      "outputs": [
        {
          "output_type": "stream",
          "name": "stdout",
          "text": [
            "Aplha Numeric String = abcdefghijklmnopqrstuvwxyzABCDEFGHIJKLMNOPQRSTUVWXYZ0123456789!\"#$%&'()*+,-./:;<=>?@[\\]^_`{|}~\n",
            "['E', '.', '^', 'e', '^', 'P', '$', '1', 'Y', '.', 'b', 'O']\n",
            "Random Password = E.^e^P$1Y.bO\n"
          ]
        }
      ]
    },
    {
      "cell_type": "markdown",
      "metadata": {
        "id": "VqSTUpO-o-8X"
      },
      "source": [
        "In the above code:\n",
        "\n",
        "- An alphanumeric string is created by concatenating the `string.ascii_letters, string.digits, string.punctuation` constants.\n",
        "\n",
        "- A list is created using the list comprehension method: \n",
        "\n",
        "    - By first generating 12 random integers between `0` and `93`. They act as indices for any 12 items of the alphanumeric string.\n",
        "\n",
        "    - Then, by adding the items to the list that are retrieved from the alphanumeric string.\n",
        "\n",
        "- The `join()` function joins the items of the above list about an empty string."
      ]
    },
    {
      "cell_type": "markdown",
      "metadata": {
        "id": "ASoiuhx3yPzV"
      },
      "source": [
        "---"
      ]
    },
    {
      "cell_type": "markdown",
      "metadata": {
        "id": "JEnaq7CeyQ9Q"
      },
      "source": [
        "#### Task 4: The `capitalize(), lower(), upper()` & `title()` Functions\n",
        "\n",
        "The `capitalize()` function, capitalizes only the item at `index = 0` provided that the item is a lowercase English letter. The syntax is `string.capitalize()`."
      ]
    },
    {
      "cell_type": "code",
      "metadata": {
        "id": "ln7sQZkV9h-_",
        "colab": {
          "base_uri": "https://localhost:8080/",
          "height": 35
        },
        "outputId": "4ed16e6a-de6b-448d-c80c-6aa76c098f1d"
      },
      "source": [
        "# S4.1: Create a string having the first item as a lowercase English letter. Then, apply the 'capitalize()' function on it.\n",
        "string='i am Aditya somani , i am in final year'\n",
        "string.capitalize()"
      ],
      "execution_count": 16,
      "outputs": [
        {
          "output_type": "execute_result",
          "data": {
            "application/vnd.google.colaboratory.intrinsic+json": {
              "type": "string"
            },
            "text/plain": [
              "'I am aditya somani , i am in final year'"
            ]
          },
          "metadata": {},
          "execution_count": 16
        }
      ]
    },
    {
      "cell_type": "markdown",
      "metadata": {
        "id": "CyONvRyCJCB-"
      },
      "source": [
        "The `lower()` function converts all the uppercase English letters to the lowercase letters. The syntax is `string.lower()`"
      ]
    },
    {
      "cell_type": "code",
      "metadata": {
        "id": "2nFS5jxiw0Kt",
        "colab": {
          "base_uri": "https://localhost:8080/",
          "height": 35
        },
        "outputId": "8f308bdd-79ca-475a-aaf1-8de6f241dc15"
      },
      "source": [
        "# S4.2: Apply the 'lower()' function on the above capitalized string.\n",
        "string.lower()"
      ],
      "execution_count": 17,
      "outputs": [
        {
          "output_type": "execute_result",
          "data": {
            "application/vnd.google.colaboratory.intrinsic+json": {
              "type": "string"
            },
            "text/plain": [
              "'i am aditya somani , i am in final year'"
            ]
          },
          "metadata": {},
          "execution_count": 17
        }
      ]
    },
    {
      "cell_type": "markdown",
      "metadata": {
        "id": "l-z_bvzIJoXo"
      },
      "source": [
        "The `upper()` function converts all the lowercase English letters to the uppercase letters. The syntax is `string.upper()`"
      ]
    },
    {
      "cell_type": "code",
      "metadata": {
        "id": "sbVqMkPCZxpv"
      },
      "source": [
        "# S4.3: Apply the 'upper()' function on the above lowercase string.\n",
        "string=string.upper()"
      ],
      "execution_count": 21,
      "outputs": []
    },
    {
      "cell_type": "markdown",
      "metadata": {
        "id": "trc26JlyK9Fk"
      },
      "source": [
        "The `title()` function capitalizes the first English letter of every word in a string provided that the words are separated in some way. The syntax is `string.title()`"
      ]
    },
    {
      "cell_type": "code",
      "metadata": {
        "id": "G3NPpHQPZwMK",
        "colab": {
          "base_uri": "https://localhost:8080/",
          "height": 35
        },
        "outputId": "8d1354b0-adac-4c58-ae54-87000e9142ba"
      },
      "source": [
        "# S4.4: Apply the 'title()' function on the above uppercase string.\n",
        "string.title()"
      ],
      "execution_count": 22,
      "outputs": [
        {
          "output_type": "execute_result",
          "data": {
            "application/vnd.google.colaboratory.intrinsic+json": {
              "type": "string"
            },
            "text/plain": [
              "'I Am Aditya Somani , I Am In Final Year'"
            ]
          },
          "metadata": {},
          "execution_count": 22
        }
      ]
    },
    {
      "cell_type": "markdown",
      "metadata": {
        "id": "jw7jMsa2NQ1q"
      },
      "source": [
        "---"
      ]
    },
    {
      "cell_type": "markdown",
      "metadata": {
        "id": "DtKI0JeVN9U5"
      },
      "source": [
        "#### Task 5: The `isupper(), islower()` & `istitle()` Functions\n",
        "\n",
        "The `istitle()` function returns `True` if the words in a string are in a title case. Otherwise, it returns `False`."
      ]
    },
    {
      "cell_type": "code",
      "metadata": {
        "id": "9Rg7h5KHNipJ",
        "colab": {
          "base_uri": "https://localhost:8080/"
        },
        "outputId": "129903b2-f489-42c7-f39d-7880a0e566bc"
      },
      "source": [
        "# S5.1: Apply the 'istitle()' function on the string that is in the title case.\n",
        "string.isupper()"
      ],
      "execution_count": 24,
      "outputs": [
        {
          "output_type": "execute_result",
          "data": {
            "text/plain": [
              "True"
            ]
          },
          "metadata": {},
          "execution_count": 24
        }
      ]
    },
    {
      "cell_type": "markdown",
      "metadata": {
        "id": "FXNvpkRgPQto"
      },
      "source": [
        "While applying the `istitle()` function on each English letter one-by-one, it returns `True` if the letter is in uppercase. Otherwise, it returns `False`."
      ]
    },
    {
      "cell_type": "code",
      "metadata": {
        "id": "soYffnhONsmM",
        "colab": {
          "base_uri": "https://localhost:8080/"
        },
        "outputId": "c9750851-df06-4286-c1c1-48a5f4523599"
      },
      "source": [
        "# S5.2: Iterate through the first 10 items in the title cased string and also apply the 'istitle()' function.\n",
        "for i in string[:10]:\n",
        "    print(f'item is {i}, result is {i.istitle()}')\n",
        "    "
      ],
      "execution_count": 25,
      "outputs": [
        {
          "output_type": "stream",
          "name": "stdout",
          "text": [
            "item is I, result is True\n",
            "item is  , result is False\n",
            "item is A, result is True\n",
            "item is M, result is True\n",
            "item is  , result is False\n",
            "item is A, result is True\n",
            "item is D, result is True\n",
            "item is I, result is True\n",
            "item is T, result is True\n",
            "item is Y, result is True\n"
          ]
        }
      ]
    },
    {
      "cell_type": "markdown",
      "metadata": {
        "id": "Mcn0DPyIQK4h"
      },
      "source": [
        "Similarly, the `isupper()` function returns `True` if an English letter is in uppercase and the `islower()` function returns `True` if an English letter is in lowercase. Otherwise, they return `False`."
      ]
    },
    {
      "cell_type": "markdown",
      "metadata": {
        "id": "UChMXLiTaWe3"
      },
      "source": [
        "---"
      ]
    },
    {
      "cell_type": "markdown",
      "metadata": {
        "id": "FppweQm1RI-U"
      },
      "source": [
        "#### Task 6: The `ljust(), rjust()` & `center()` Functions\n",
        "\n",
        "The `ljust()` function returns a fixed-length string padded with some special character and justifies (or aligns) it on the left-hand side of the output console. The syntax is `string.ljust(length, character)`\n",
        "\n",
        "Let's write a code to get the following output using the `ljust()` function.\n",
        "\n",
        "```\n",
        "1000\n",
        "2000\n",
        "3000\n",
        "4000\n",
        "5000\n",
        "```\n",
        "\n",
        "Each item in the above output is a string of length `4` padded with `0` and left justified.\n"
      ]
    },
    {
      "cell_type": "code",
      "metadata": {
        "id": "cuyFG-I2VaBP",
        "colab": {
          "base_uri": "https://localhost:8080/"
        },
        "outputId": "5cd89aee-3d6c-4840-b855-53bf53639096"
      },
      "source": [
        "# S6.1: Write a code to get the above output using the 'ljust()' function.\n",
        "for i in range(1,6):\n",
        "    print(f'{i}'.ljust(4,'*'))"
      ],
      "execution_count": 32,
      "outputs": [
        {
          "output_type": "stream",
          "name": "stdout",
          "text": [
            "1***\n",
            "2***\n",
            "3***\n",
            "4***\n",
            "5***\n"
          ]
        }
      ]
    },
    {
      "cell_type": "markdown",
      "metadata": {
        "id": "ZXwRU3aaWjxQ"
      },
      "source": [
        "**The `rjust()` function** returns a fixed-length string padded with some special character and justifies (or aligns) it on the right-hand side of the output console. The syntax is `string.rjust(length, character)`\n",
        "\n",
        "Now, write a code to get the following output using the `rjust()` function.\n",
        "\n",
        "```\n",
        "00001\n",
        "00002\n",
        "00003\n",
        "00004\n",
        "00005\n",
        "```\n",
        "\n",
        "Each item in the above output is a string of length `5` padded with `0` and right justified."
      ]
    },
    {
      "cell_type": "code",
      "metadata": {
        "id": "19-SPOeqW-tj",
        "colab": {
          "base_uri": "https://localhost:8080/"
        },
        "outputId": "ddc64f57-8f8c-4974-9ed7-b9aa63e24d92"
      },
      "source": [
        "# S6.2: Write a code to get the above output using the 'rjust()' function.\n",
        "for i in range(1,6):\n",
        "    print(f'{i}'.rjust(5,'0'))"
      ],
      "execution_count": 33,
      "outputs": [
        {
          "output_type": "stream",
          "name": "stdout",
          "text": [
            "00001\n",
            "00002\n",
            "00003\n",
            "00004\n",
            "00005\n"
          ]
        }
      ]
    },
    {
      "cell_type": "markdown",
      "metadata": {
        "id": "BC-_dts8XKQ5"
      },
      "source": [
        "**The `center()` function** returns a fixed-length string padded with some special character and justifies (or aligns) it at the center of the output console. The syntax is `string.center(length, character)`\n",
        "\n",
        "Now, write a code to get the following output.\n",
        "\n",
        "```\n",
        "-------#-------\n",
        "------###------\n",
        "-----#####-----\n",
        "----#######----\n",
        "---#########---\n",
        "--###########--\n",
        "-#############-\n",
        "###############\n",
        "```\n",
        "\n",
        "Each item in the above output is a string of length `15` padded with `-` and centre justified."
      ]
    },
    {
      "cell_type": "code",
      "metadata": {
        "id": "8rd5mmeMXfqu",
        "colab": {
          "base_uri": "https://localhost:8080/"
        },
        "outputId": "a24a5819-1563-448c-dfd5-b4946f4f5904"
      },
      "source": [
        "# S6.3: Write a code to get the above output using the 'center()' function.\n",
        "for i in range(1,16):\n",
        "    if i%2!=0:\n",
        "        print(f'{\"#\"*i}'.center(15,'-'))"
      ],
      "execution_count": 34,
      "outputs": [
        {
          "output_type": "stream",
          "name": "stdout",
          "text": [
            "-------#-------\n",
            "------###------\n",
            "-----#####-----\n",
            "----#######----\n",
            "---#########---\n",
            "--###########--\n",
            "-#############-\n",
            "###############\n"
          ]
        }
      ]
    },
    {
      "cell_type": "markdown",
      "metadata": {
        "id": "1gvWPJgHZY2R"
      },
      "source": [
        "**Note:** If the `character` value is not defined in the `ljust(), rjust()` and `center()` functions, then they take whitespace as the default character."
      ]
    },
    {
      "cell_type": "markdown",
      "metadata": {
        "id": "BXxvHiMXZHyC"
      },
      "source": [
        "---"
      ]
    },
    {
      "cell_type": "markdown",
      "metadata": {
        "id": "Wql1_zNhFaYO"
      },
      "source": [
        "#### Task 7: The `replace()` Function\n",
        "\n",
        "If you want to replace an item in a string with some other item, then you can use the `replace()` function.\n",
        "\n",
        "**Syntax of `replace()` function:** `string.replace(item_to_be_replaced, new_item)`\n",
        "\n",
        "Let's learn this concept with the help of an example. Consider the text below.\n",
        "\n",
        "*Who invented the sole? How can we scientifically prove that a sole exists? If the sole is an energy, then what kind of energy it is? The laws of physics state that energy can neither be created nor be destroyed. So, if the sole is an energy, then how does it transfer from one form to another after the death of a person? We know that the laws of physics are universally true. So, it means either the sole is not an energy or it doesn't exist.*\n",
        "\n",
        "The word *soul* has been mistakenly reported as *sole* by a machine because they are *homophone*. Two or more words having the same pronunciation are called *homophone*. \n",
        "\n",
        "We can replace the word *sole* with *soul* using the `replace()` function:"
      ]
    },
    {
      "cell_type": "code",
      "metadata": {
        "id": "-SSWzWCWFzQX",
        "colab": {
          "base_uri": "https://localhost:8080/"
        },
        "outputId": "44a11f96-9a1c-4cc3-928e-958e9f48e4d4"
      },
      "source": [
        "# S7.1: Replace the word 'sole' with 'soul' in the given paragraph.\n",
        "para='''Who invented the sole? How can we scientifically prove that a sole exists? If the sole is an energy,\n",
        "then what kind of energy it is? The laws of physics state that energy can neither be created nor be destroyed.\n",
        "So, if the sole is an energy, then how does it transfer from one form to another after the death of a person?\n",
        "We know that the laws of physics are universally true. So, it means either the sole is not an energy or it doesn't exist.'''\n",
        "mod_para=para.replace('sole','soul')\n",
        "print(mod_para)"
      ],
      "execution_count": 36,
      "outputs": [
        {
          "output_type": "stream",
          "name": "stdout",
          "text": [
            "Who invented the soul? How can we scientifically prove that a soul exists? If the soul is an energy,\n",
            "then what kind of energy it is? The laws of physics state that energy can neither be created nor be destroyed.\n",
            "So, if the soul is an energy, then how does it transfer from one form to another after the death of a person?\n",
            "We know that the laws of physics are universally true. So, it means either the soul is not an energy or it doesn't exist.\n"
          ]
        }
      ]
    },
    {
      "cell_type": "markdown",
      "metadata": {
        "id": "IRf9TEYTZryM"
      },
      "source": [
        "**Note:** If you print a multiline string without using the `print()` function, then you will get a single-line string containing the newline `\\n` character. In fact, this is how all the multiline strings are stored in Python."
      ]
    },
    {
      "cell_type": "code",
      "metadata": {
        "id": "Ej-CGR7yFBYT",
        "colab": {
          "base_uri": "https://localhost:8080/",
          "height": 70
        },
        "outputId": "431e2559-ea4b-421f-cfac-aebf62ecfafc"
      },
      "source": [
        "# S7.2: Print the above modified multiline string without using the 'print()' function.\n",
        "mod_para"
      ],
      "execution_count": 37,
      "outputs": [
        {
          "output_type": "execute_result",
          "data": {
            "application/vnd.google.colaboratory.intrinsic+json": {
              "type": "string"
            },
            "text/plain": [
              "\"Who invented the soul? How can we scientifically prove that a soul exists? If the soul is an energy,\\nthen what kind of energy it is? The laws of physics state that energy can neither be created nor be destroyed.\\nSo, if the soul is an energy, then how does it transfer from one form to another after the death of a person?\\nWe know that the laws of physics are universally true. So, it means either the soul is not an energy or it doesn't exist.\""
            ]
          },
          "metadata": {},
          "execution_count": 37
        }
      ]
    },
    {
      "cell_type": "markdown",
      "metadata": {
        "id": "LJIdIS5Zaa-Z"
      },
      "source": [
        "Let's split the above string about the newline character."
      ]
    },
    {
      "cell_type": "code",
      "metadata": {
        "id": "qnZHgVG1CDwS",
        "colab": {
          "base_uri": "https://localhost:8080/"
        },
        "outputId": "aa8d1bd1-4415-4e77-ce82-f0eb7086406f"
      },
      "source": [
        "# S7.3: Split the above string about the newline character.\n",
        "para_list=mod_para.split('\\n')\n",
        "para_list"
      ],
      "execution_count": 38,
      "outputs": [
        {
          "output_type": "execute_result",
          "data": {
            "text/plain": [
              "['Who invented the soul? How can we scientifically prove that a soul exists? If the soul is an energy,',\n",
              " 'then what kind of energy it is? The laws of physics state that energy can neither be created nor be destroyed.',\n",
              " 'So, if the soul is an energy, then how does it transfer from one form to another after the death of a person?',\n",
              " \"We know that the laws of physics are universally true. So, it means either the soul is not an energy or it doesn't exist.\"]"
            ]
          },
          "metadata": {},
          "execution_count": 38
        }
      ]
    },
    {
      "cell_type": "markdown",
      "metadata": {
        "id": "cFqmonOnatLL"
      },
      "source": [
        "The output is a list containing several single-line strings without having the newline character.\n",
        "\n",
        "Now, right justify the strings in the above list such that each string length is equal to the length of the longest string. But before that remove any unwanted strings from the list using the `remove()` function."
      ]
    },
    {
      "cell_type": "code",
      "metadata": {
        "id": "xLl67ztwbc_y"
      },
      "source": [
        "# S7.4: Remove the unwanted strings from the above list. \n",
        "# Note: This exercise may not be required depending on how you indent a multiline string.\n"
      ],
      "execution_count": null,
      "outputs": []
    },
    {
      "cell_type": "code",
      "metadata": {
        "id": "clb2lNO-Sdh4",
        "colab": {
          "base_uri": "https://localhost:8080/"
        },
        "outputId": "f1d4759d-5d66-4bfc-a90b-1ae1d580c5ce"
      },
      "source": [
        "# S7.5: Right justify the strings in the above list such that each string length is equal to the length of the longest string.\n",
        "for i in para_list:\n",
        "    i=i.strip(' ')\n",
        "    print(i.rjust(len(para_list[-1]),' '))"
      ],
      "execution_count": 39,
      "outputs": [
        {
          "output_type": "stream",
          "name": "stdout",
          "text": [
            "                     Who invented the soul? How can we scientifically prove that a soul exists? If the soul is an energy,\n",
            "           then what kind of energy it is? The laws of physics state that energy can neither be created nor be destroyed.\n",
            "            So, if the soul is an energy, then how does it transfer from one form to another after the death of a person?\n",
            "We know that the laws of physics are universally true. So, it means either the soul is not an energy or it doesn't exist.\n"
          ]
        }
      ]
    },
    {
      "cell_type": "code",
      "metadata": {
        "id": "IB4QPuapDjKY",
        "colab": {
          "base_uri": "https://localhost:8080/"
        },
        "outputId": "1c9f81dc-2e9d-47fc-f287-4988f18e3e84"
      },
      "source": [
        "# S7.6: Center justify the strings in the above list such that each string length is equal to the length of the longest string.\n",
        "for i in para_list:\n",
        "    i=i.strip(' ')\n",
        "    print(i.center(len(para_list[-1]),' '))"
      ],
      "execution_count": 40,
      "outputs": [
        {
          "output_type": "stream",
          "name": "stdout",
          "text": [
            "           Who invented the soul? How can we scientifically prove that a soul exists? If the soul is an energy,          \n",
            "      then what kind of energy it is? The laws of physics state that energy can neither be created nor be destroyed.     \n",
            "      So, if the soul is an energy, then how does it transfer from one form to another after the death of a person?      \n",
            "We know that the laws of physics are universally true. So, it means either the soul is not an energy or it doesn't exist.\n"
          ]
        }
      ]
    },
    {
      "cell_type": "markdown",
      "metadata": {
        "id": "g7Ke-E7hpwS8"
      },
      "source": [
        "---"
      ]
    },
    {
      "cell_type": "markdown",
      "metadata": {
        "id": "WZuh0OGvpxqo"
      },
      "source": [
        "#### Task 8: The Escape Character (`\\`)\n",
        "\n",
        "Sometimes you might have to create a string which would contain a combination of single quotes (`''`), double quotes (`\"\"`) or an apostrophe (`'`). In such cases, Python will terminate the string before it is complete. To create such strings, you can use the **escape character** represented by backslash sign (`\\`).\n",
        "\n",
        "Let's create the following string using the escape character.\n",
        "\n",
        "`\"She just said 'That should work' and walked out the door\", he clarified.`\n",
        "\n",
        "To create the above string using double-quotes, you will have to put one backslash before `\"She...` as shown below.\n",
        "\n",
        "`\\\"She...`\n",
        "\n",
        "and one backslash before `\", he...` as shown below\n",
        "\n",
        "`\\\", he...`\n"
      ]
    },
    {
      "cell_type": "code",
      "metadata": {
        "id": "1fm0xW6ip2_V",
        "colab": {
          "base_uri": "https://localhost:8080/"
        },
        "outputId": "adfeb2ec-9a72-43be-90a3-7bf88f4d9e47"
      },
      "source": [
        "# S8.1: Create the above string using double quotes and the escape character.\n",
        "x='\"She just said \\'That should work\\' and walked out the door\", he clarified.'\n",
        "print(x)"
      ],
      "execution_count": 42,
      "outputs": [
        {
          "output_type": "stream",
          "name": "stdout",
          "text": [
            "\"She just said 'That should work' and walked out the door\", he clarified.\n"
          ]
        }
      ]
    },
    {
      "cell_type": "markdown",
      "metadata": {
        "id": "g15ezx0gdLHR"
      },
      "source": [
        "To create the given string using single-quotes, you will have to put one backslash before `'That...` as shown below\n",
        "\n",
        "`\\'That...`\n",
        "\n",
        "and one backslash before `' and...\"` as shown below\n",
        "\n",
        "`\\' and...'`"
      ]
    },
    {
      "cell_type": "code",
      "metadata": {
        "id": "T8mbYWCedAuY",
        "colab": {
          "base_uri": "https://localhost:8080/"
        },
        "outputId": "f74cb771-0b88-476d-a575-dd46a85a7dd2"
      },
      "source": [
        "# S8.2: Create the given string using single quotes and the escape character.\n",
        "x=\"\\\"She just said 'That should work' and walked out the door\\\", he clarified.\"\n",
        "print(x)"
      ],
      "execution_count": 43,
      "outputs": [
        {
          "output_type": "stream",
          "name": "stdout",
          "text": [
            "\"She just said 'That should work' and walked out the door\", he clarified.\n"
          ]
        }
      ]
    },
    {
      "cell_type": "markdown",
      "metadata": {
        "id": "ncUKXmHXsalK"
      },
      "source": [
        "If you create the above string without putting the escape character, then Python will throw a `SyntaxError`."
      ]
    },
    {
      "cell_type": "code",
      "metadata": {
        "id": "NQhTFa9OsgrW",
        "colab": {
          "base_uri": "https://localhost:8080/",
          "height": 131
        },
        "outputId": "362760fd-ef98-4d75-8093-195c283dc1ab"
      },
      "source": [
        "# S8.3: Create the above string without putting the escape character.\n",
        "x=\"She just said 'That should work' and walked out the door\", he clarified.\n",
        "print(x)"
      ],
      "execution_count": 46,
      "outputs": [
        {
          "output_type": "error",
          "ename": "SyntaxError",
          "evalue": "ignored",
          "traceback": [
            "\u001b[0;36m  File \u001b[0;32m\"<ipython-input-46-1925925e5c05>\"\u001b[0;36m, line \u001b[0;32m2\u001b[0m\n\u001b[0;31m    x=\"She just said 'That should work' and walked out the door\", he clarified.\u001b[0m\n\u001b[0m                                                                             ^\u001b[0m\n\u001b[0;31mSyntaxError\u001b[0m\u001b[0;31m:\u001b[0m invalid syntax\n"
          ]
        }
      ]
    },
    {
      "cell_type": "markdown",
      "metadata": {
        "id": "sNreCXeMfx02"
      },
      "source": [
        "We have covered pretty much everything about the string operations that we need. \n",
        "\n",
        "In the next class, we will learn how to work with `datetime` values, i.e., how to extract date, time, day, month and year from a `datetime` value.\n",
        "\n",
        "\n",
        "\n",
        "\n",
        "\n",
        "\n"
      ]
    },
    {
      "cell_type": "markdown",
      "metadata": {
        "id": "tzBGoUi1_vIj"
      },
      "source": [
        "---"
      ]
    }
  ]
}