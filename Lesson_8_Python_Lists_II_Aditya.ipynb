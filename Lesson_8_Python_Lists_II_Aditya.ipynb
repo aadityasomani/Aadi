{
  "nbformat": 4,
  "nbformat_minor": 0,
  "metadata": {
    "colab": {
      "name": " Lesson 8 - Python Lists II -Aditya ",
      "provenance": [],
      "collapsed_sections": [],
      "include_colab_link": true
    },
    "kernelspec": {
      "name": "python3",
      "display_name": "Python 3"
    }
  },
  "cells": [
    {
      "cell_type": "markdown",
      "metadata": {
        "id": "view-in-github",
        "colab_type": "text"
      },
      "source": [
        "<a href=\"https://colab.research.google.com/github/aadityasomani/Aadi/blob/master/Lesson_8_Python_Lists_II_Aditya.ipynb\" target=\"_parent\"><img src=\"https://colab.research.google.com/assets/colab-badge.svg\" alt=\"Open In Colab\"/></a>"
      ]
    },
    {
      "cell_type": "markdown",
      "metadata": {
        "id": "ywVdfNdkVjZo"
      },
      "source": [
        "# Lesson 8 - Python Lists II"
      ]
    },
    {
      "cell_type": "markdown",
      "metadata": {
        "id": "an4cBciPWpBE"
      },
      "source": [
        "---"
      ]
    },
    {
      "cell_type": "markdown",
      "metadata": {
        "id": "7LlG_PPFjJUz"
      },
      "source": [
        "### Teacher-Student Tasks\n",
        "\n",
        "\n",
        "In the previous class, we learned that each value in a list is generally referred to as an **item** or an **element**. \n",
        "<center>\n",
        "<img src=\"https://curriculum.whitehatjr.com/APT+Asset/APT+C3+images/valid_entries2.PNG\"/>\n",
        "</center>\n",
        "\n",
        "We also created a Python list that stores the names of the countries that won the FIFA world cup from `1982` till `2018`. \n",
        "\n",
        "|Year|Winner|\n",
        "|-|-|\n",
        "|1982|Italy|\n",
        "|1986|Argentina|\n",
        "|1990|Germany|\n",
        "|1994|Brazil|\n",
        "|1998|France|\n",
        "|2002|Brazil|\n",
        "|2006|Italy|\n",
        "|2010|Spain|\n",
        "|2014|Germany|\n",
        "|2018|France|\n",
        "\n",
        "We stored the list in the `fifa_wc_winners` variable.\n",
        "\n",
        "<img src=\"https://curriculum.whitehatjr.com/APT+Asset/APT+C4+images/list.png\"/>"
      ]
    },
    {
      "cell_type": "code",
      "metadata": {
        "id": "ne1JkZ_UxuTC",
        "colab": {
          "base_uri": "https://localhost:8080/"
        },
        "outputId": "0d3f596e-af1e-4631-d454-6c8bd4fdc9ed"
      },
      "source": [
        "# Run the code below to activate the Python list containing all the winners of FIFA world cup from 1982 to 2018.\n",
        "fifa_wc_winners = ['Italy', 'Argentina', 'Germany', 'Brazil', 'France', 'Brazil', 'Italy', 'Spain', 'Germany', 'France']\n",
        "fifa_wc_winners"
      ],
      "execution_count": null,
      "outputs": [
        {
          "output_type": "execute_result",
          "data": {
            "text/plain": [
              "['Italy',\n",
              " 'Argentina',\n",
              " 'Germany',\n",
              " 'Brazil',\n",
              " 'France',\n",
              " 'Brazil',\n",
              " 'Italy',\n",
              " 'Spain',\n",
              " 'Germany',\n",
              " 'France']"
            ]
          },
          "metadata": {},
          "execution_count": 1
        }
      ]
    },
    {
      "cell_type": "markdown",
      "metadata": {
        "id": "2AKgPtU2x1y2"
      },
      "source": [
        "\n",
        "\n",
        "In today's class, we will learn more about Python lists.\n",
        "\n",
        "We will also re-create the count-based algorithm we created in the previous class using the Python lists concepts. \n",
        "\n",
        "\n"
      ]
    },
    {
      "cell_type": "markdown",
      "metadata": {
        "id": "A9DUkIzL8p6S"
      },
      "source": [
        "---"
      ]
    },
    {
      "cell_type": "markdown",
      "metadata": {
        "id": "ulZE26jaMU3P"
      },
      "source": [
        "#### Task 1: The `count()` Function\n",
        "\n",
        "The  `count()` function is used to count the number of times an element appears in the list.\n",
        "\n",
        " \n",
        "\n",
        "Recall the `update_counts()` function that we created in one of our previous class for our Mind Reader game: \n",
        "\n",
        "(*Learned in the lesson: Python Functions*)\n",
        "\n",
        "\n",
        "\n",
        "```python\n",
        "def update_counts(player_input):\n",
        "  global count_zero, count_one\n",
        "  if player_input == 0:\n",
        "    count_zero = count_zero + 1\n",
        "  else:\n",
        "    count_one = count_one + 1\n",
        "```\n",
        "\n",
        "In another version of the Mind Reader game, we are going to perform the following task:\n",
        "1. Record the player inputs in a Python list. \n",
        "2. Count the number of times a player played `0` and `1` using the  readymade `count()` function of Python lists.\n",
        "\n",
        "This will eliminate the need for the `update_counts()` function.\n",
        "\n",
        "To use the `count()` function, you first need to write the list, then the  dot (`.`) operator and lastly the `count()` function. Enter the item as an input to the `count()` function whose occurrence you wish to count.\n",
        "\n",
        "**Syntax:** `list_name.count(item)`\n",
        "\n",
        "Let's find out the number of times `'France'` and `'Brazil'` has won the world cup(s) between the years `1982` and `2018`:"
      ]
    },
    {
      "cell_type": "code",
      "metadata": {
        "id": "0HLcxrAxPBwa",
        "colab": {
          "base_uri": "https://localhost:8080/"
        },
        "outputId": "25850719-9429-48b3-db03-bac31d493972"
      },
      "source": [
        "# S1.1: Count the number of times 'France' has won the world cup between the years 1982 and 2018.\n",
        "fifa_wc_winners.count('France')"
      ],
      "execution_count": null,
      "outputs": [
        {
          "output_type": "execute_result",
          "data": {
            "text/plain": [
              "2"
            ]
          },
          "metadata": {},
          "execution_count": 2
        }
      ]
    },
    {
      "cell_type": "markdown",
      "metadata": {
        "id": "hwKc18slPPxC"
      },
      "source": [
        "So, `'France'` has won the world cup twice. Let's check for `'Brazil'`:"
      ]
    },
    {
      "cell_type": "code",
      "metadata": {
        "id": "_dHF77d8PWDU",
        "colab": {
          "base_uri": "https://localhost:8080/"
        },
        "outputId": "ffb333c3-0cb0-47b4-e249-2c8eb71038c7"
      },
      "source": [
        "# S1.2: Count the number of times 'Brazil' has won the world cup between the years 1982 and 2018.\n",
        "fifa_wc_winners.count('Brazil')"
      ],
      "execution_count": null,
      "outputs": [
        {
          "output_type": "execute_result",
          "data": {
            "text/plain": [
              "2"
            ]
          },
          "metadata": {},
          "execution_count": 3
        }
      ]
    },
    {
      "cell_type": "markdown",
      "metadata": {
        "id": "vIlGRLvlPbsN"
      },
      "source": [
        "And, `'Brazil'` has also won the world cup twice between the years `1982` and `2018`."
      ]
    },
    {
      "cell_type": "markdown",
      "metadata": {
        "id": "im74znVg_zWA"
      },
      "source": [
        "---"
      ]
    },
    {
      "cell_type": "markdown",
      "metadata": {
        "id": "xCBbVdNS4EC-"
      },
      "source": [
        "#### Task 2: An Empty List\n",
        "\n",
        "An empty list is a list with no elements.\n",
        "\n",
        "\n",
        "Let's create a list that will record the player inputs. Let's store it in a variable with the name `player_inputs_list`. \n",
        "\n",
        "Before the beginning of the game, the list will be empty. That means, it will NOT contain any player input. So, let's create an empty list and store it in the `player_inputs_list` variable.\n",
        "\n",
        "\n"
      ]
    },
    {
      "cell_type": "code",
      "metadata": {
        "id": "WS1e7xBHAN4S"
      },
      "source": [
        "# S2.1: Create an empty list and store in a variable with name 'player_inputs_list'.\n",
        "player_inputs_list=[]"
      ],
      "execution_count": null,
      "outputs": []
    },
    {
      "cell_type": "markdown",
      "metadata": {
        "id": "-gD3Yb0RAz6T"
      },
      "source": [
        "As you can see, we have created an empty list."
      ]
    },
    {
      "cell_type": "markdown",
      "metadata": {
        "id": "OHP5X39HA47W"
      },
      "source": [
        "---"
      ]
    },
    {
      "cell_type": "markdown",
      "metadata": {
        "id": "hhSZVe9aA5j2"
      },
      "source": [
        "#### Task 3: The `append()` Function\n",
        "\n",
        "To add an item to a Python list, you can use the `append()` function. A new item always gets added at the right-most end of a list.\n",
        "\n",
        "\n",
        "To use the `append()` function, you first need to write the list, then the dot (`.`) operator and lastly the `append()` function. Enter the item as an input to the `append()` function which you need to add to a list.\n",
        "\n",
        "**Syntax:** `list_name.append(item)`\n",
        "\n",
        "\n",
        "\n",
        "Suppose a player plays `0, 0, 1, 0, 1` for the first five attempts. Let's add these inputs to the list stored in the `player_inputs_list` variable:"
      ]
    },
    {
      "cell_type": "code",
      "metadata": {
        "id": "2XfXqu4OB--r"
      },
      "source": [
        "# S3.1: Using the 'append()' function, add the items 0, 0, 1, 0, and 1 to the list stored in the 'player_inputs_list' variable.\n",
        "# Print the updated list after adding each item to the 'player_inputs_list'.\n",
        "player_inputs_list.append(1)\n"
      ],
      "execution_count": null,
      "outputs": []
    },
    {
      "cell_type": "markdown",
      "metadata": {
        "id": "-bBBRCNCGuoj"
      },
      "source": [
        "As you can see, a new item gets added at the right-most end of the list. Let's count the number of times `0` and `1` appear in the `player_inputs_list` using the `count()` function:"
      ]
    },
    {
      "cell_type": "code",
      "metadata": {
        "id": "x__YLMdTK3Wy",
        "colab": {
          "base_uri": "https://localhost:8080/"
        },
        "outputId": "3017da00-ba04-4b4e-a21a-cb334ccd7540"
      },
      "source": [
        "# S3.2: Count the number of times 0 and 1 appear in the 'player_inputs_list'.\n",
        "player_inputs_list.count(1)"
      ],
      "execution_count": null,
      "outputs": [
        {
          "output_type": "execute_result",
          "data": {
            "text/plain": [
              "2"
            ]
          },
          "metadata": {},
          "execution_count": 11
        }
      ]
    },
    {
      "cell_type": "markdown",
      "metadata": {
        "id": "8Sl-Ae7JLHdH"
      },
      "source": [
        "So, `0` appears thrice and `1` appears twice in the `players_inputs_list`."
      ]
    },
    {
      "cell_type": "markdown",
      "metadata": {
        "id": "GkQYzaCI4DGs"
      },
      "source": [
        "---"
      ]
    },
    {
      "cell_type": "markdown",
      "metadata": {
        "id": "0LuQTtRnSAWj"
      },
      "source": [
        "#### Task 4: The Revised `prediction()` Function\n",
        "\n",
        "Recall the `prediction()` function that we created in one of the previous class  (*Learned in the lesson: Python Functions*):\n",
        "\n",
        "\n",
        "```python\n",
        "def prediction():\n",
        "  if count_zero > count_one:\n",
        "    predict = 0\n",
        "  elif count_one > count_zero:\n",
        "    predict = 1\n",
        "  else:\n",
        "    predict = random.randint(0, 1)\n",
        "  \n",
        "  return predict\n",
        "```\n",
        "Now, using the knowledge of Python lists, let's re-define the above`prediction()` function.\n",
        "\n",
        "Inside this function: \n",
        "\n",
        "1. Create two variables `count_zero` and `count_one` to store the number of times a player has entered `0` and `1` respectively. \n",
        "\n",
        "2. Using the `count()` function, count the number of times a player has entered `0` and `1`. \n",
        "```\n",
        "player_inputs_list.count(0)  \n",
        "player_inputs_list.count(1) \n",
        "```\n",
        "\n",
        "  Then store them in the `count_zero` and `count_one` variables.\n",
        "3. Compare the values of the `count_zero` and `count_one` variables:\n",
        "    - If `count_zero > count_one`, the `prediction()` function should return `0` as\n",
        "the prediction.\n",
        "\n",
        "  - Else if `count_one > count_zero`, the `prediction()` function should return `1` as the prediction.\n",
        "\n",
        "  - Else the `prediction()` function should return either `0` or `1` randomly as the prediction."
      ]
    },
    {
      "cell_type": "code",
      "metadata": {
        "id": "HkzbxzQlJZDf"
      },
      "source": [
        "# S4.1: Recreate the 'prediction()' function using Python lists.\n",
        "import random\n",
        "def prediction():\n",
        "    count_zero=player_inputs_list.count(0)\n",
        "    count_one=player_inputs_list.count(1)\n",
        "    if count_zero>count_one:\n",
        "        return 0\n",
        "    elif count_one>count_zero:\n",
        "        return 1\n",
        "    else:\n",
        "        return random.randint(0,1)\n"
      ],
      "execution_count": null,
      "outputs": []
    },
    {
      "cell_type": "markdown",
      "metadata": {
        "id": "TJlpjVZnBeGl"
      },
      "source": [
        "Now that we have redefined the `prediction()` function by using Python lists, let us now modify the `gameplay()` function as well."
      ]
    },
    {
      "cell_type": "markdown",
      "metadata": {
        "id": "FGSjeSTEVq-1"
      },
      "source": [
        "---"
      ]
    },
    {
      "cell_type": "markdown",
      "metadata": {
        "id": "_9jUqOBlMAQC"
      },
      "source": [
        "#### Task 5: Count Based Mind Reader Game Algorithm Using Python Lists\n",
        "\n",
        "Now, let's run the Mind Reader game with the new `prediction()` function which uses a Python list stored in the `player_inputs_list` variable.\n",
        "\n",
        "Also, there is a slight change in the `gameplay()` function. After getting the `predicted` value from the `prediction()` function, we will add the current `player_input` value to the `player_inputs_list` using the `append()` function.\n",
        "\n",
        "<img src=\"https://curriculum.whitehatjr.com/APT+Asset/C5+images/gameplay_new.png\"/>\n",
        "\n"
      ]
    },
    {
      "cell_type": "code",
      "metadata": {
        "id": "dhWD_3x011uH",
        "colab": {
          "base_uri": "https://localhost:8080/"
        },
        "outputId": "30db3834-9eda-4f41-a8d9-beec5345a4a5"
      },
      "source": [
        "# S5.1: Use the revised 'prediction()' function to create the count-based Mind Reader game algorithm.\n",
        "# Import the random module\n",
        "import random\n",
        "\n",
        "# Create an empty list and store it in the 'player_inputs_list' variable.\n",
        "player_inputs_list=[]\n",
        "\n",
        "# Create the 'player_score' and 'computer_score' variables. Set their initial values equal to 0.\n",
        "player_score,computer_score=0,0\n",
        "\n",
        "# Declare the 'prediction()' function here.\n",
        "def prediction():\n",
        "    count_zero=player_inputs_list.count(0)\n",
        "    count_one=player_inputs_list.count(1)\n",
        "    if count_zero>count_one:\n",
        "        return 0\n",
        "    elif count_one>count_zero:\n",
        "        return 1\n",
        "    else:\n",
        "        return random.randint(0,1)\n",
        "\n",
        "\n",
        "\n",
        "# Declare the 'update_scores()' function here.\n",
        "def update_scores(player_input,predict):\n",
        "    global player_score,computer_score\n",
        "    if player_score==predict:\n",
        "        computer_score+=1\n",
        "    else:\n",
        "        player_score+=1\n",
        "    print(\"Player Score: \",player_score)\n",
        "    print(\"Computer Score: \",computer_score)\n",
        "\n",
        "\n",
        "\n",
        "# Declare the 'gameplay()' function here.\n",
        "def gameplay():\n",
        "    valid_entries=['0','1']\n",
        "    while True:\n",
        "        predict=prediction()\n",
        "        player_input=input(\"Enter either 0 or 1: \")\n",
        "        while player_input not in valid_entries:\n",
        "            print(\"Invalid entry.\")\n",
        "            player_input=input(\"Enter either 0 or 1: \")\n",
        "        player_input=int(player_input)\n",
        "        player_inputs_list.append(player_input)\n",
        "        update_scores(player_input,predict)\n",
        "        if computer_score==5:\n",
        "            print(\"Computer Wins\")\n",
        "            break\n",
        "        elif player_score==5:\n",
        "            print(\"Player Wins\")\n",
        "            break\n",
        "\n",
        "gameplay()"
      ],
      "execution_count": null,
      "outputs": [
        {
          "output_type": "stream",
          "name": "stdout",
          "text": [
            "Enter either 0 or 1: 1\n",
            "Player Score:  0\n",
            "Computer Score:  1\n",
            "Enter either 0 or 1: 1\n",
            "Player Score:  1\n",
            "Computer Score:  1\n",
            "Enter either 0 or 1: 1\n",
            "Player Score:  1\n",
            "Computer Score:  2\n",
            "Enter either 0 or 1: 0\n",
            "Player Score:  1\n",
            "Computer Score:  3\n",
            "Enter either 0 or 1: 0\n",
            "Player Score:  1\n",
            "Computer Score:  4\n",
            "Enter either 0 or 1: 1\n",
            "Player Score:  1\n",
            "Computer Score:  5\n",
            "Computer Wins\n"
          ]
        }
      ]
    },
    {
      "cell_type": "markdown",
      "metadata": {
        "id": "E_xx932hSYn9"
      },
      "source": [
        "At the end of the game, if you want to look at the player inputs, then you can print the `player_inputs_list`:"
      ]
    },
    {
      "cell_type": "code",
      "metadata": {
        "id": "fTclQOhWSYMs",
        "colab": {
          "base_uri": "https://localhost:8080/"
        },
        "outputId": "62ed3aad-5d86-4814-bb2e-8952248a2ead"
      },
      "source": [
        "# S5.2: Print the 'player_inputs_list'.\n",
        "print(player_inputs_list)"
      ],
      "execution_count": null,
      "outputs": [
        {
          "output_type": "stream",
          "name": "stdout",
          "text": [
            "[1, 1, 1, 0, 0, 1]\n"
          ]
        }
      ]
    },
    {
      "cell_type": "markdown",
      "metadata": {
        "id": "7N6-lK2UDf2j"
      },
      "source": [
        "Thus, we modified the `prediction()` and `gameplay()` function using a Python list."
      ]
    },
    {
      "cell_type": "markdown",
      "metadata": {
        "id": "K9lJqak6SztT"
      },
      "source": [
        "We will stop here. \n",
        "\n",
        "In this class, we created a count-based Mind Reader game algorithm by using the concept of a Python list. In this process, we also learned some basics of Python lists and how the in-built `count()` function of Python lists can eradicate the need for user defined `update_counts()` function.\n",
        "\n",
        "\n",
        "In the next class, we will continue learning more concepts of Python lists."
      ]
    },
    {
      "cell_type": "markdown",
      "metadata": {
        "id": "oG4r4RrBsqn4"
      },
      "source": [
        "\n",
        "\n",
        "```\n",
        "     1\n",
        "    121\n",
        "   12321\n",
        "  1234321\n",
        "```\n",
        "\n"
      ]
    },
    {
      "cell_type": "markdown",
      "metadata": {
        "id": "mH4-6NfgSxyW"
      },
      "source": [
        "---"
      ]
    },
    {
      "cell_type": "code",
      "metadata": {
        "id": "Fww4fDSrs3WZ",
        "colab": {
          "base_uri": "https://localhost:8080/"
        },
        "outputId": "532eeece-0730-46c3-d544-90b81abff60c"
      },
      "source": [
        "n=int(input())\n",
        "k=n-1\n",
        "for i in range(n):\n",
        "    for j in range(k):\n",
        "        print(end=\"  \")\n",
        "    k-=1\n",
        "    for j in range(i+1):        \n",
        "        print(\"* \",end=\"  \")\n",
        "    print(\"\")\n"
      ],
      "execution_count": 55,
      "outputs": [
        {
          "output_type": "stream",
          "name": "stdout",
          "text": [
            "5\n",
            "        *   \n",
            "      *   *   \n",
            "    *   *   *   \n",
            "  *   *   *   *   \n",
            "*   *   *   *   *   \n"
          ]
        }
      ]
    },
    {
      "cell_type": "code",
      "metadata": {
        "colab": {
          "base_uri": "https://localhost:8080/"
        },
        "id": "0Gw69DdpylK7",
        "outputId": "4c0d04f3-b0ce-48ed-e9c9-c6e06eb3ad60"
      },
      "source": [
        "n=input()\n",
        "w=''\n",
        "for i in n:\n",
        "    w=i+w\n",
        "if n==w:\n",
        "    print('palindrome')\n",
        "else:\n",
        "    print('not')\n"
      ],
      "execution_count": 59,
      "outputs": [
        {
          "output_type": "stream",
          "name": "stdout",
          "text": [
            "naman\n",
            "palindrome\n"
          ]
        }
      ]
    },
    {
      "cell_type": "code",
      "metadata": {
        "id": "ibz_iE0Bzu14"
      },
      "source": [
        ""
      ],
      "execution_count": null,
      "outputs": []
    }
  ]
}