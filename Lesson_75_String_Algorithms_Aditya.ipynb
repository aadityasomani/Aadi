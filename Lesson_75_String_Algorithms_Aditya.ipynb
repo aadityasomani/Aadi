{
  "nbformat": 4,
  "nbformat_minor": 0,
  "metadata": {
    "colab": {
      "name": " Lesson 75 - String Algorithms - Aditya",
      "provenance": [],
      "collapsed_sections": [],
      "include_colab_link": true
    },
    "kernelspec": {
      "name": "python3",
      "display_name": "Python 3"
    }
  },
  "cells": [
    {
      "cell_type": "markdown",
      "metadata": {
        "id": "view-in-github",
        "colab_type": "text"
      },
      "source": [
        "<a href=\"https://colab.research.google.com/github/aadityasomani/Aadi/blob/master/Lesson_75_String_Algorithms_Aditya.ipynb\" target=\"_parent\"><img src=\"https://colab.research.google.com/assets/colab-badge.svg\" alt=\"Open In Colab\"/></a>"
      ]
    },
    {
      "cell_type": "markdown",
      "metadata": {
        "id": "vj2ogpJnbQC3"
      },
      "source": [
        "# Lesson 75: String Algorithms\n"
      ]
    },
    {
      "cell_type": "markdown",
      "metadata": {
        "id": "eM-FzF_5p1mW"
      },
      "source": [
        "---"
      ]
    },
    {
      "cell_type": "markdown",
      "metadata": {
        "id": "OgxYHwdXWiQm"
      },
      "source": [
        "### Teacher-Student Tasks\n",
        "\n",
        "In this class, we will understand what is string matching or pattern matching, hash tables and then we will implement string matching some string matching algorithms in python.\n"
      ]
    },
    {
      "cell_type": "markdown",
      "metadata": {
        "id": "ezAlaI4YCaBm"
      },
      "source": [
        "---"
      ]
    },
    {
      "cell_type": "markdown",
      "metadata": {
        "id": "vvtPBpDVXK0j"
      },
      "source": [
        "#### String Matching Problem\n",
        "\n",
        "Strings are a sequence of characters and are used to store data. Similar to another data type, we need to perform certain operations on them. There are many string algorithms available that can be used to solve various string processing problems, particularly finding a given substring within a string, also known as **pattern matching**.\n",
        "\n",
        "Let us discuss some of the pattern matching algorithms.\n",
        "\n",
        "**Pattern Matching:**\n",
        "\n",
        "\n",
        "- Pattern matching or string matching is used to search a string within another string.\n",
        "- The algorithm returns the index position where the pattern is matched in a given string. \n",
        "\n",
        "We will explore following string matching algorithms:\n",
        "\n",
        "1. Brute-force algorithm.\n",
        "2. Rabin-Karp algorithm.\n",
        "3. Knuth-Morris-Pratt algorithm.\n",
        "\n",
        "\n",
        "Before that, let us learn about hash tables.\n",
        "\n",
        "\n"
      ]
    },
    {
      "cell_type": "markdown",
      "metadata": {
        "id": "DlYJwp5uCxyi"
      },
      "source": [
        "---"
      ]
    },
    {
      "cell_type": "markdown",
      "metadata": {
        "id": "xGtIIHczC1bn"
      },
      "source": [
        "#### Task 1: Hash Tables\n",
        "\n",
        "A hash table is a data structure where elements are accessed by a keyword rather than an index number. \n",
        "\n",
        "In this data structure, the data items are stored in key/value pairs. A hash table uses a **hashing function** to find an index position where an element should be stored and retrieved. \n",
        "\n",
        "Each position in the hash table is often called a **slot** or a **bucket** and will store an element. Each data item in the form of (key, value) pairs would be stored in the hash table at a position that is decided by the hash value of the data. \n",
        "\n",
        "We will be creating our own hashing function and hash table.\n",
        "\n",
        "**Hashing:**\n",
        "\n",
        "This deals with generating slot or index to any \"key\" value. Perfect hashing or perfect hash function is the one which assigns a unique slot for every key value. Sometimes, there can be cases where the hash function generates the same index for multiple key values. The size of the hash table can be increased to improve the perfection of the hash function.\n",
        "\n",
        "First of all, let's create a hash table of size `10` with empty data."
      ]
    },
    {
      "cell_type": "code",
      "metadata": {
        "id": "tInrkOZDECB4",
        "colab": {
          "base_uri": "https://localhost:8080/"
        },
        "outputId": "b9509302-17f9-4370-a9a8-cf7563fd1398"
      },
      "source": [
        "# S1.1: Create an empty hash table.\n",
        "hash_table = [None] * 10\n",
        "print(hash_table) "
      ],
      "execution_count": null,
      "outputs": [
        {
          "output_type": "stream",
          "name": "stdout",
          "text": [
            "[None, None, None, None, None, None, None, None, None, None]\n"
          ]
        }
      ]
    },
    {
      "cell_type": "markdown",
      "metadata": {
        "id": "Jt2Nr7QeEVk5"
      },
      "source": [
        "Below is a simple hash function that returns the modulus of the length of the hash table. In our case, the length of the hash table is 10.\n",
        "\n",
        "Modulo operator (%) is used in the hashing function. The % (modulo) operator yields the remainder from the division of the first argument by the second."
      ]
    },
    {
      "cell_type": "code",
      "metadata": {
        "id": "O21czFUQEeR9",
        "colab": {
          "base_uri": "https://localhost:8080/"
        },
        "outputId": "ce3ca286-7715-44fd-ef88-bb36d5d03e47"
      },
      "source": [
        "# S1.2: Define the hashing function\n",
        "def hash_func(key):\n",
        "\treturn key % len(hash_table)\n",
        "\n",
        "print(hash_func(10)) \n",
        "print(hash_func(20)) \n",
        "print(hash_func(25)) "
      ],
      "execution_count": null,
      "outputs": [
        {
          "output_type": "stream",
          "name": "stdout",
          "text": [
            "0\n",
            "0\n",
            "5\n"
          ]
        }
      ]
    },
    {
      "cell_type": "markdown",
      "metadata": {
        "id": "3nXftoC-E8-o"
      },
      "source": [
        "**Inserting Data into Hash Table:**\n",
        "\n",
        "Here's a simple implementation of inserting data/values into the hash table. We first use the hashing function to generate a slot/index and store the given value into that slot.\n",
        "\n",
        "\n"
      ]
    },
    {
      "cell_type": "code",
      "metadata": {
        "id": "0vKgj-WrGYA6",
        "colab": {
          "base_uri": "https://localhost:8080/"
        },
        "outputId": "620a5bb0-cad9-47b5-cbbd-996b62262036"
      },
      "source": [
        "# S1.3: Insert Data into hash table\n",
        "def insert(hash_table, key, value):\n",
        "\thash_key = hash_func(key)\n",
        "\thash_table[hash_key] = value \n",
        "\n",
        "# Insert 'India' for key '10'\n",
        "insert(hash_table, 10, 'India')\n",
        "print (hash_table)\n",
        "\n",
        "# Insert 'USA' for key '25'\n",
        "insert(hash_table, 25, 'USA')\n",
        "print (hash_table)"
      ],
      "execution_count": null,
      "outputs": [
        {
          "output_type": "stream",
          "name": "stdout",
          "text": [
            "['India', None, None, None, None, None, None, None, None, None]\n",
            "['India', None, None, None, None, 'USA', None, None, None, None]\n"
          ]
        }
      ]
    },
    {
      "cell_type": "markdown",
      "metadata": {
        "id": "OuC_Sgeu5Jio"
      },
      "source": [
        "**Collision:**\n",
        "- A collision occurs when two items/values get the same slot/index, i.e. the hashing function generates same slot number for multiple items.\n",
        "- If proper collision resolution steps are not taken then the previous item in the slot will be replaced by the new item whenever the collision occurs.\n",
        "\n",
        "For Example:\n",
        "\n",
        "In the code above, we have inserted items `India` and `USA` with key `10` and `25` respectively. If we try to insert a new item with key `20` then the collision occurs because our hashing function will generate slot `0` for key `20`. But, slot `0` in the hash table has already been assigned to item `India`."
      ]
    },
    {
      "cell_type": "code",
      "metadata": {
        "id": "M1C35_KT07e4",
        "colab": {
          "base_uri": "https://localhost:8080/"
        },
        "outputId": "ac94ce13-13cd-4041-b34f-497345ff83d4"
      },
      "source": [
        "# S1.4: Insert 'Nepal' for key '20'\n",
        "insert(hash_table, 20, 'Nepal')\n",
        "print (hash_table)"
      ],
      "execution_count": null,
      "outputs": [
        {
          "output_type": "stream",
          "name": "stdout",
          "text": [
            "['Nepal', None, None, None, None, 'USA', None, None, None, None]\n"
          ]
        }
      ]
    },
    {
      "cell_type": "markdown",
      "metadata": {
        "id": "7v2P2Sxf5ybj"
      },
      "source": [
        "As you can see, `India` is replaced by `Nepal` as the first item of the hash table because the result of `hash_func()` for keys `10` and `20` is the same (i.e. `0`).\n",
        "\n",
        "**Collision Resolution:**\n",
        "\n",
        "There are generally two ways to resolve a collision:\n",
        "\n",
        "1. Linear Probing\n",
        "2. Chaining\n",
        "\n",
        "**1. Linear Probing**\n",
        "\n",
        "One way to resolve collision is to find another open slot whenever there is a collision and store the item in that open slot. \n",
        "\n",
        "The search for open slot starts from the slot where the collision happened. It moves sequentially through the slots until an empty slot is encountered. The movement is in a circular fashion.\n",
        "\n",
        "It can move to the first slot while searching for an empty slot. Hence, covering the entire hash table. This kind of sequential search is called Linear Probing.\n",
        "\n",
        "**2. Chaining**\n",
        "\n",
        "The other way to resolve collision is Chaining. This allows multiple items exist in the same slot/index. This can create a chain/collection of items in a single slot. When the collision happens, the item is stored in the same slot using chaining mechanism.\n",
        "\n",
        "While implementing Chaining in Python, we first create the hash table as a nested list (lists inside a list)."
      ]
    },
    {
      "cell_type": "code",
      "metadata": {
        "colab": {
          "base_uri": "https://localhost:8080/"
        },
        "id": "TEYgBJnM5x2x",
        "outputId": "9f9ac198-47eb-4562-8bf5-772c8703b825"
      },
      "source": [
        "# S1.5: Create hash table as nested list.\n",
        "hash_table = [[] for _ in range(10)]\n",
        "print(hash_table)"
      ],
      "execution_count": null,
      "outputs": [
        {
          "output_type": "stream",
          "name": "stdout",
          "text": [
            "[[], [], [], [], [], [], [], [], [], []]\n"
          ]
        }
      ]
    },
    {
      "cell_type": "markdown",
      "metadata": {
        "id": "465Ok4oD7Abz"
      },
      "source": [
        "The hashing function will be the same as we have done in above example."
      ]
    },
    {
      "cell_type": "markdown",
      "metadata": {
        "id": "TKW9MLqI7Pxe"
      },
      "source": [
        "We change the insert function. We use `append()` function to insert key-value pairs in the hash table."
      ]
    },
    {
      "cell_type": "code",
      "metadata": {
        "colab": {
          "base_uri": "https://localhost:8080/"
        },
        "id": "UuqTAn2C7XM1",
        "outputId": "524ca122-9c88-49fb-fbe5-9f77b7bde4e6"
      },
      "source": [
        "# S1.6: Insert key-value pairs in hash table.\n",
        "def insert(hash_table, key, value):\n",
        "\thash_key = hash_func(key)\n",
        "\thash_table[hash_key].append(value)\n",
        "\n",
        "# Insert 'Nepal' for key '10'\n",
        "insert(hash_table, 10, 'Nepal')\n",
        "print(hash_table)\n",
        "\n",
        "# Insert 'USA' for key '25'\n",
        "insert(hash_table, 25, 'USA')\n",
        "print(hash_table)\n",
        "\n",
        "# Insert 'India' for key '20'\n",
        "insert(hash_table, 20, 'India')\n",
        "print (hash_table)"
      ],
      "execution_count": null,
      "outputs": [
        {
          "output_type": "stream",
          "name": "stdout",
          "text": [
            "[['Nepal'], [], [], [], [], [], [], [], [], []]\n",
            "[['Nepal'], [], [], [], [], ['USA'], [], [], [], []]\n",
            "[['Nepal', 'India'], [], [], [], [], ['USA'], [], [], [], []]\n"
          ]
        }
      ]
    },
    {
      "cell_type": "markdown",
      "metadata": {
        "id": "CsPUpWBYGqTB"
      },
      "source": [
        "In this way, we can implement chaining using nested lists in Python. \n",
        "\n",
        "Let us discuss the string matching algorithms one by one."
      ]
    },
    {
      "cell_type": "markdown",
      "metadata": {
        "id": "f5w7Dz1DG74d"
      },
      "source": [
        "---"
      ]
    },
    {
      "cell_type": "markdown",
      "metadata": {
        "id": "Ae1Bug4jxrcE"
      },
      "source": [
        "#### Task 2: Brute Force Algorithm\n",
        "\n",
        "This is a very basic algorithm used for pattern matching. In this algorithm, we test all possible combinations of input string to determine the presence of the pattern in the string.\n",
        "\n",
        "Let us try to understand brute force algorithm with an example.\n",
        "\n",
        " Suppose we have a string `S = ABCDADBABA` and pattern `P = ABA`. The algorithm needs to determine whether the pattern exists in the string and the index position of the pattern (P) in the string (S) as shown in the image below:\n",
        "\n",
        "\n",
        "<img src=\"https://obj.whitehatjr.com/6a4071ec-6382-4c9b-b81c-678ba8f078c5.gif\" height=200/>\n",
        "\n",
        "\n",
        "In the above example, \n",
        "- The algorithm starts comparing the first character of the string (S) with the characters of the pattern (P). Thus, initial 3 characters of the string are checked.\n",
        "- The last character of the pattern does not matches with the third character of the string.\n",
        "- Since there is a mismatch, the pattern is shifted by one place.\n",
        "- Again, the second character of string (S) is compared with the first character of the pattern (P).\n",
        "- In this way, the characters of the string (S) is continually compared with the characters of the pattern (P) unless the pattern is found.\n",
        "- In this example, the pattern is found at index position `7` in the string. \n",
        "\n",
        "Let us create a Python function to implement Brute Force algorithm.\n",
        "\n",
        "\n",
        "\n",
        "\n"
      ]
    },
    {
      "cell_type": "code",
      "metadata": {
        "id": "aAbsoUkAzpe3"
      },
      "source": [
        "# S2.1: Create a function to implement brute force algorithm\n",
        "def brute_force(text, sub_str):  \n",
        " for i in range(len(text)-len(sub_str)+1): \n",
        "  index = i  \n",
        "  for j in range(len(sub_str)): \n",
        "   if text[index] == sub_str[j]: \n",
        "    index += 1 \n",
        "   else: \n",
        "    break \n",
        "   if index-i == len(sub_str): \n",
        "    return i \n",
        " return -1 \n"
      ],
      "execution_count": null,
      "outputs": []
    },
    {
      "cell_type": "code",
      "metadata": {
        "colab": {
          "base_uri": "https://localhost:8080/"
        },
        "id": "OmGZBa-p03Kz",
        "outputId": "b8a11583-55d7-4ad5-a0a2-15c96ac66c60"
      },
      "source": [
        "# S2.2: Look for pattern 'ABA' in the string 'ABCDADBABA' using brute force algorithm\n",
        "brute_force(\"ABCDADBABA\",\"ABA\")"
      ],
      "execution_count": null,
      "outputs": [
        {
          "output_type": "execute_result",
          "data": {
            "text/plain": [
              "7"
            ]
          },
          "metadata": {},
          "execution_count": 8
        }
      ]
    },
    {
      "cell_type": "markdown",
      "metadata": {
        "id": "fz0BFPs5HTf7"
      },
      "source": [
        "---"
      ]
    },
    {
      "cell_type": "markdown",
      "metadata": {
        "id": "4464gZXj2_eX"
      },
      "source": [
        "#### Task 3: Rabin-Karp Algorithm\n",
        "\n",
        "Rabin-Karp algorithm is an improved version of the brute-force approach. This algorithm reduces the number of comparisons by obtaining the hash value of the substrings and the pattern. The algorithm works as follows:\n",
        "\n",
        "1. First, the hash value of the pattern of length `p` and the hash values of all the possible substrings of length `p` is determined by using a hash function. \n",
        "\n",
        "   Thus, the total number of substrings would be `(s-p+1)`,\n",
        "   where `s` is the length of the input string.\n",
        "\n",
        "2. The hash value of each substring is compared with the hash value of the pattern one by one. \n",
        "\n",
        "3. If the hash values do not match, then the pattern is moved by one position.\n",
        "\n",
        "4. If both the hash value matches, then the substring and the pattern are compared character by character to ensure that the pattern actually exists in the input string.\n",
        "\n",
        "<img src=\"https://obj.whitehatjr.com/cadaff1d-326d-4a18-827d-903c2005d47d.png\" />\n",
        "\n",
        "\n",
        "\n",
        "\n",
        "\n",
        "\n"
      ]
    },
    {
      "cell_type": "code",
      "metadata": {
        "id": "ih_2CcYTmfRT"
      },
      "source": [
        "# S3.1: Create a function to implement Rabin-Karp algorithm\n",
        "\n",
        "num = 256  # num is the number of characters in the input alphabet\n",
        "def rabin_karp(pattern, input_string, p_num):  # p_num -> A prime number\n",
        "  pattern_length = len(pattern)\n",
        "  string_length = len(input_string)\n",
        "  i = 0\n",
        "  j = 0\n",
        "  hash_pattern = 0  # hash value for pattern\n",
        "  hash_string = 0   # hash value for input_string\n",
        "  h = 1\n",
        "  \n",
        "  # The value of h would be \"pow(num, pattern_length-1) % p_num\"\n",
        "  for i in range(pattern_length-1):\n",
        "    \th = (h * num)% p_num\n",
        "  \n",
        "  # Calculate the hash value of pattern and first window of input_string\n",
        "  for i in range(pattern_length):\n",
        "    hash_pattern = (num * hash_pattern + ord(pattern[i]))% p_num\n",
        "    hash_string = (num * hash_string + ord(input_string[i]))% p_num\n",
        "  \n",
        "  # Check both the hash values # If the hash values match then only check for characters one by one\n",
        "  for i in range(string_length-pattern_length + 1):\n",
        "    if hash_pattern == hash_string:\n",
        "      for j in range(pattern_length):\n",
        "        if input_string[i + j] != pattern[j]:\n",
        "          break\n",
        "\n",
        "      j+= 1\n",
        "      if j == pattern_length:\n",
        "        print(\"Pattern found at index \" + str(i))\n",
        "    \n",
        "    # Calculate hash value for next window of input_string\n",
        "    if i < string_length-pattern_length:\n",
        "      hash_string = (num*(hash_string-ord(input_string[i])*h) + ord(input_string[i + pattern_length]))% p_num\n"
      ],
      "execution_count": null,
      "outputs": []
    },
    {
      "cell_type": "code",
      "metadata": {
        "colab": {
          "base_uri": "https://localhost:8080/"
        },
        "id": "2dH3xPYRp1hZ",
        "outputId": "6c835ef7-0018-4bdc-b17b-a95935c7ed55"
      },
      "source": [
        " # S3.2: Look for pattern 'NEW' in the string 'NEW YORK NEW DELHI' using Rabin-Karp algorithm\n",
        "\n",
        " rabin_karp(\"NEW\", \"NEW YORK NEW DELHI\", 101)"
      ],
      "execution_count": null,
      "outputs": [
        {
          "output_type": "stream",
          "name": "stdout",
          "text": [
            "Pattern found at index 0\n",
            "Pattern found at index 9\n"
          ]
        }
      ]
    },
    {
      "cell_type": "markdown",
      "metadata": {
        "id": "xLe5gsEu_Aez"
      },
      "source": [
        "As you can see, the pattern `NEW` occurs at indexes `0` and `9`.\n",
        "\n",
        "Hence, we have successfully identified the required pattern using the Rabin-Karp algorithm. \n",
        "\n"
      ]
    },
    {
      "cell_type": "markdown",
      "metadata": {
        "id": "Xz0NQU_3HW8B"
      },
      "source": [
        "---"
      ]
    },
    {
      "cell_type": "markdown",
      "metadata": {
        "id": "vmxZiolWde_7"
      },
      "source": [
        "#### Task 4: Knuth-Morris-Pratt Algorithm\n",
        "\n",
        "The **Knuth-Morris-Pratt (KMP)** algorithm is a more speedy version of the Brute-Force algorithm as it provides an efficient way to shift the pattern by `n` steps rather than shifting them by one step on every mismatch. Thus, it minimizes the comparisons of the given patterns with the input string.\n",
        "\n",
        "The algorithm uses a preprocessed table called \"Prefix Table\" to determine how much the pattern should be shifted to search the pattern in the input string whenever there is a mismatch.\n",
        "\n",
        "\n",
        "**Prefix Table:**\n",
        "\n",
        "The prefix table is also known as Longest proper prefix or suffix. A proper prefix is a prefix that is not equal to the string itself.\n",
        "\n",
        "**For e.g:** Proper prefix of `\"abc\"` are `\"\"`, `\"a\"`, `\"ab\"` but not `\"abc\"`. \n",
        "\n",
        "The KMP algorithm uses the longest proper prefix (lps) to search for sub-patterns in the input string. \n",
        "\n",
        "For each sub-pattern `pattern[0..i]` where `i = 0` to `m-1`, `lps[i]` stores the length of the maximum matching proper prefix.\n",
        "\n",
        "Let's create the function to find the pattern using Knuth-Morris-Pratt Algorithm with help of the below steps:\n",
        "\n",
        "1. Compare `pattern[j]` with `j = 0` i.e. characters of a current substring with the input string.\n",
        "\n",
        "2. Compare the characters of `string[i]` and `pattern[j]`.\n",
        "\n",
        "3. Increment the values of `i` and `j` until `string[i]` and `pattern[j]` are matched.\n",
        "\n",
        "4. Compare the characters in `pattern[0..j-1]` with the `string[i-j…i-1]` when there is a mismatch.\n",
        "\n",
        "**Note**: It is not necessary to match the `lps[j-1]` characters with `string[i-j…i-1]` as these characters will match in any case.\n",
        "\n",
        "\n",
        "\n"
      ]
    },
    {
      "cell_type": "code",
      "metadata": {
        "id": "-d5zvegDdjqB"
      },
      "source": [
        "# S4.1: Create a function to implement KMP algorithm\n",
        "def KMP(pattern, string):\n",
        "\tpattern_length = len(pattern)\n",
        "\tstring_length = len(string)\n",
        "\n",
        "\t# Create lps[] that will hold the longest prefix suffix values\n",
        "\tlps = [0]* pattern_length\n",
        "\tj = 0 # index for pattern[]\n",
        "\n",
        "\t# Preprocess the pattern\n",
        "\tfind_lps(pattern, pattern_length, lps)\n",
        "\n",
        "\ti = 0 # index for string[]\n",
        "\twhile i < string_length:\n",
        "\t\tif pattern[j] == string[i]:\n",
        "\t\t\ti += 1\n",
        "\t\t\tj += 1\n",
        "\n",
        "\t\tif j == pattern_length:\n",
        "\t\t\tprint (\"Found pattern at index \" + str(i-j))\n",
        "\t\t\tj = lps[j-1]\n",
        "\n",
        "\t\t# mismatch after j matches\n",
        "\t\telif i < string_length and pattern[j] != string[i]:\n",
        "\t\t\n",
        "\t\t\tif j != 0:\n",
        "\t\t\t\tj = lps[j-1]\n",
        "\t\t\telse:\n",
        "\t\t\t\ti += 1\n",
        "\n",
        "def find_lps(pattern, pattern_length, lps):\n",
        "\tlps_len = 0 # length of the previous lps\n",
        "\n",
        "\tlps[0] # lps[0] is always 0\n",
        "\ti = 1\n",
        "\n",
        "\t# the loop calculates lps[i] for i = 1 to pattern_length-1\n",
        "\twhile i < pattern_length:\n",
        "\t\tif pattern[i]== pattern[lps_len]:\n",
        "\t\t\tlps_len += 1\n",
        "\t\t\tlps[i] = lps_len\n",
        "\t\t\ti += 1\n",
        "\t\telse:\t\t\n",
        "\t\t\tif lps_len != 0:\n",
        "\t\t\t\tlps_len = lps[lps_len-1]\t\n",
        "        \t\t\n",
        "\t\t\telse:\n",
        "\t\t\t\tlps[i] = 0\n",
        "\t\t\t\ti += 1"
      ],
      "execution_count": null,
      "outputs": []
    },
    {
      "cell_type": "code",
      "metadata": {
        "colab": {
          "base_uri": "https://localhost:8080/"
        },
        "id": "w4cox5A6doMq",
        "outputId": "b97e8458-60d7-4b8b-8c1c-940586d3ae7e"
      },
      "source": [
        " # S4.2: Look for pattern 'YO' in the string 'NEW YORK NEW DELHI' using the KMP algorithm\n",
        "string = \"NEW YORK NEW DELHI\"\n",
        "pattern = \"YO\"\n",
        "KMP(pattern, string)"
      ],
      "execution_count": null,
      "outputs": [
        {
          "output_type": "stream",
          "name": "stdout",
          "text": [
            "Found pattern at index 4\n"
          ]
        }
      ]
    },
    {
      "cell_type": "markdown",
      "metadata": {
        "id": "2QOSHnbNdrfJ"
      },
      "source": [
        "As you can see, the pattern `YO` occurs at index `4`.\n",
        "\n",
        "We will stop here. In the next class, we will learn to perform geometric computational tasks using geometric algorithms."
      ]
    },
    {
      "cell_type": "markdown",
      "metadata": {
        "id": "oG8-XRMwdsTB"
      },
      "source": [
        "---"
      ]
    }
  ]
}