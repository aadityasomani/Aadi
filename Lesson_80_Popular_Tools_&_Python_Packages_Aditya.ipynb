{
  "nbformat": 4,
  "nbformat_minor": 0,
  "metadata": {
    "colab": {
      "name": "Lesson 80 - Popular Tools & Python Packages -Aditya",
      "provenance": [],
      "collapsed_sections": [],
      "include_colab_link": true
    },
    "kernelspec": {
      "name": "python3",
      "display_name": "Python 3"
    }
  },
  "cells": [
    {
      "cell_type": "markdown",
      "metadata": {
        "id": "view-in-github",
        "colab_type": "text"
      },
      "source": [
        "<a href=\"https://colab.research.google.com/github/aadityasomani/Aadi/blob/master/Lesson_80_Popular_Tools_%26_Python_Packages_Aditya.ipynb\" target=\"_parent\"><img src=\"https://colab.research.google.com/assets/colab-badge.svg\" alt=\"Open In Colab\"/></a>"
      ]
    },
    {
      "cell_type": "markdown",
      "metadata": {
        "id": "hTJqFxq2fsB-"
      },
      "source": [
        "# Lesson 80: Popular tools and Python packages"
      ]
    },
    {
      "cell_type": "markdown",
      "metadata": {
        "id": "hNX3kbnHMnCb"
      },
      "source": [
        "---"
      ]
    },
    {
      "cell_type": "markdown",
      "metadata": {
        "id": "8s2zF1fKpO7i"
      },
      "source": [
        "### Teacher-Student Tasks\n",
        "\n",
        "Today Python is one of the most used programming languages in the world. No wonder Python is leading in data visualization as well. In addition to Matplotlib and Seaborn, Python has a variety of rich set of libraries such as Bokeh, Plotly, Pygal, Altair, Geoplotlib to perform data visualisation.\n",
        "\n",
        "In today's class, we will explore these visualisation tools and will also get acquainted with a very famous data visualisation tool called Tableau."
      ]
    },
    {
      "cell_type": "markdown",
      "metadata": {
        "id": "3RWIgslVpP0Z"
      },
      "source": [
        "---"
      ]
    },
    {
      "cell_type": "markdown",
      "metadata": {
        "id": "ZVO8QHPp_UGs"
      },
      "source": [
        "#### Introduction to Tableau \n",
        "\n",
        "\n",
        "Tableau is a powerful and fastest growing data visualization tool used in the business intelligence industry. It helps in simplifying raw data in a very easily understandable format. Tableau helps create the data that can be understood by professionals at any level in an organization. It also allows non-technical users to create customized dashboards.\n",
        "\n",
        "Data analysis is very fast with Tableau tool and the visualizations created are in the form of dashboards and worksheets.\n",
        "\n",
        "The best features of Tableau software are:\n",
        "\n",
        "**1. Data Blending:** Data blending is the most important feature in Tableau. It is used when we combine related data from multiple data sources, which you want to analyze together in a single view, and represent in the form of a graph.\n",
        "\n",
        "**2. Real time analysis:** Real-Time Analysis allows users to quickly understand and analyze dynamic data, when the real-time analysis of data is complicated. Tableau can help extract valuable information from fast moving data with interactive analytics.\n",
        "\n",
        "**3. Collaboration of data:** Data analysis is not an isolating task. That's why Tableau is built for collaboration. Team members can share data, make follow up queries, and forward easy-to-digest visualizations to others who could gain value from the data.\n",
        "\n",
        "The great thing about Tableau software is that it doesn't require any technical or any kind of programming skills to operate. The tool has garnered interest among the people from all sectors such as business, researchers, different industries, etc.\n",
        "\n",
        "All these reasons to use Tableau are going to make much more sense when we go about practically learning it. So let us dive right into it.\n",
        "\n"
      ]
    },
    {
      "cell_type": "markdown",
      "metadata": {
        "id": "prusTBMBsSEx"
      },
      "source": [
        "#### Tableau Interface\n",
        "\n",
        "Tableau is available in two ways:-\n",
        "\n",
        "1. Tableau Public (Free)\n",
        "2. Tableau Desktop (Commercial)\n",
        "\n",
        "Tableau Public is a free and open-source and Tableau Desktop is a paid source, personal edition. The limitation of using tableau public is that you cannot locally download the dashboards and they are published online. But, it is a good option when you are starting out.\n",
        "\n",
        "This is how the landing window of Tableau looks like.\n",
        "<img src=\"https://s3-whjr-v2-prod-bucket.whjr.online/62e97f84-fff9-47e1-b0a7-38b299707bfc.PNG\"/>\n",
        "\n",
        "On the left, we have the connect option through which we can connect to our data source.\n",
        "\n",
        "<center>\n",
        "<img src=\"https://s3-whjr-v2-prod-bucket.whjr.online/c30d707f-bf74-4075-950c-abc857c35160.PNG\"/></center>\n",
        "\n",
        "Next, we have the \"Open\" option, if you want to open a project you have worked on.\n",
        "\n",
        "<center>\n",
        "<img src=\"https://s3-whjr-v2-prod-bucket.whjr.online/32cad4c5-037f-4115-a82e-4449f166e42f.png\"/></center>\n",
        "\n",
        "Lastly, we have some resources which might help you to learn more about Tableau.\n",
        "<center>\n",
        "<img src=\"https://s3-whjr-v2-prod-bucket.whjr.online/5bd2a09e-19b0-4b0b-89ef-241a82138233.PNG\"/></center>"
      ]
    },
    {
      "cell_type": "markdown",
      "metadata": {
        "id": "_BEThyb1MzLZ"
      },
      "source": [
        "---"
      ]
    },
    {
      "cell_type": "markdown",
      "metadata": {
        "id": "nMjmLYPId9ql"
      },
      "source": [
        "#### Task 1: Bokeh \n",
        "\n",
        "Bokeh is a data visualization library in Python that provides high-performance interactive charts and plots.\n",
        "\n",
        "Bokeh prides itself on being a library for interactive data visualization.\n",
        "\n",
        "Unlike popular counterparts in the Python visualization space, like Matplotlib and Seaborn, Bokeh renders its graphics using HTML and JavaScript. This makes it a great candidate for building web-based dashboards and applications. However, it’s an equally powerful tool for exploring and understanding your data or creating beautiful custom charts for a project or report.\n",
        "\n",
        "Bokeh provides two visualization interfaces to users:\n",
        "**1. bokeh.models:** A low level interface that provides high flexibility to application developers.\n",
        "**2. bokeh.plotting:** A high level interface for creating visual glyphs.\n",
        "\n",
        "To install bokeh package, run the following command in the terminal:\n",
        "\n",
        "`pip install bokeh`\n",
        "\n",
        "Let us plot some visualization using `bokeh` library.\n",
        "\n",
        "**Scatter Markers:**\n",
        "\n",
        "To create scatter circle markers, `circle()` function of `bokeh` library is used."
      ]
    },
    {
      "cell_type": "code",
      "metadata": {
        "id": "xpw9-W3TDToo",
        "colab": {
          "base_uri": "https://localhost:8080/",
          "height": 417
        },
        "outputId": "3b3abc19-0a89-4ee0-a24d-74fa943c5cea"
      },
      "source": [
        "# T1.1: Create scatter circle markers and export them to an html file.\n",
        "# import 'figure' and 'show' classes from 'bokeh.plotting' module\n",
        "from bokeh.plotting import figure, show\n",
        "  \n",
        "# import 'output_file' and 'output_notebook' classes from 'bokeh.io' module\n",
        "from bokeh.io import output_file, output_notebook  \n",
        "\n",
        "  \n",
        "# Store the output to a notebook using the 'output_file()' function.\n",
        "output_file('filename.html')  \n",
        "output_notebook()\n",
        "  \n",
        "# Store the figure in a variable 'p' using the 'figure()' function\n",
        "p = figure(plot_width = 400, plot_height = 400)\n",
        "  \n",
        "# add a circle renderer with\n",
        "# size, color and alpha\n",
        "p.circle([1, 2, 3, 4, 5], [4, 7, 1, 6, 3], \n",
        "         size = 10, color = \"navy\", alpha = 0.5)\n",
        "  \n",
        "  \n",
        "# show the results\n",
        "show(p) "
      ],
      "execution_count": null,
      "outputs": [
        {
          "output_type": "display_data",
          "data": {
            "application/javascript": [
              "\n",
              "(function(root) {\n",
              "  function now() {\n",
              "    return new Date();\n",
              "  }\n",
              "\n",
              "  var force = true;\n",
              "\n",
              "  if (typeof root._bokeh_onload_callbacks === \"undefined\" || force === true) {\n",
              "    root._bokeh_onload_callbacks = [];\n",
              "    root._bokeh_is_loading = undefined;\n",
              "  }\n",
              "\n",
              "  var JS_MIME_TYPE = 'application/javascript';\n",
              "  var HTML_MIME_TYPE = 'text/html';\n",
              "  var EXEC_MIME_TYPE = 'application/vnd.bokehjs_exec.v0+json';\n",
              "  var CLASS_NAME = 'output_bokeh rendered_html';\n",
              "\n",
              "  /**\n",
              "   * Render data to the DOM node\n",
              "   */\n",
              "  function render(props, node) {\n",
              "    var script = document.createElement(\"script\");\n",
              "    node.appendChild(script);\n",
              "  }\n",
              "\n",
              "  /**\n",
              "   * Handle when an output is cleared or removed\n",
              "   */\n",
              "  function handleClearOutput(event, handle) {\n",
              "    var cell = handle.cell;\n",
              "\n",
              "    var id = cell.output_area._bokeh_element_id;\n",
              "    var server_id = cell.output_area._bokeh_server_id;\n",
              "    // Clean up Bokeh references\n",
              "    if (id != null && id in Bokeh.index) {\n",
              "      Bokeh.index[id].model.document.clear();\n",
              "      delete Bokeh.index[id];\n",
              "    }\n",
              "\n",
              "    if (server_id !== undefined) {\n",
              "      // Clean up Bokeh references\n",
              "      var cmd = \"from bokeh.io.state import curstate; print(curstate().uuid_to_server['\" + server_id + \"'].get_sessions()[0].document.roots[0]._id)\";\n",
              "      cell.notebook.kernel.execute(cmd, {\n",
              "        iopub: {\n",
              "          output: function(msg) {\n",
              "            var id = msg.content.text.trim();\n",
              "            if (id in Bokeh.index) {\n",
              "              Bokeh.index[id].model.document.clear();\n",
              "              delete Bokeh.index[id];\n",
              "            }\n",
              "          }\n",
              "        }\n",
              "      });\n",
              "      // Destroy server and session\n",
              "      var cmd = \"import bokeh.io.notebook as ion; ion.destroy_server('\" + server_id + \"')\";\n",
              "      cell.notebook.kernel.execute(cmd);\n",
              "    }\n",
              "  }\n",
              "\n",
              "  /**\n",
              "   * Handle when a new output is added\n",
              "   */\n",
              "  function handleAddOutput(event, handle) {\n",
              "    var output_area = handle.output_area;\n",
              "    var output = handle.output;\n",
              "\n",
              "    // limit handleAddOutput to display_data with EXEC_MIME_TYPE content only\n",
              "    if ((output.output_type != \"display_data\") || (!Object.prototype.hasOwnProperty.call(output.data, EXEC_MIME_TYPE))) {\n",
              "      return\n",
              "    }\n",
              "\n",
              "    var toinsert = output_area.element.find(\".\" + CLASS_NAME.split(' ')[0]);\n",
              "\n",
              "    if (output.metadata[EXEC_MIME_TYPE][\"id\"] !== undefined) {\n",
              "      toinsert[toinsert.length - 1].firstChild.textContent = output.data[JS_MIME_TYPE];\n",
              "      // store reference to embed id on output_area\n",
              "      output_area._bokeh_element_id = output.metadata[EXEC_MIME_TYPE][\"id\"];\n",
              "    }\n",
              "    if (output.metadata[EXEC_MIME_TYPE][\"server_id\"] !== undefined) {\n",
              "      var bk_div = document.createElement(\"div\");\n",
              "      bk_div.innerHTML = output.data[HTML_MIME_TYPE];\n",
              "      var script_attrs = bk_div.children[0].attributes;\n",
              "      for (var i = 0; i < script_attrs.length; i++) {\n",
              "        toinsert[toinsert.length - 1].firstChild.setAttribute(script_attrs[i].name, script_attrs[i].value);\n",
              "        toinsert[toinsert.length - 1].firstChild.textContent = bk_div.children[0].textContent\n",
              "      }\n",
              "      // store reference to server id on output_area\n",
              "      output_area._bokeh_server_id = output.metadata[EXEC_MIME_TYPE][\"server_id\"];\n",
              "    }\n",
              "  }\n",
              "\n",
              "  function register_renderer(events, OutputArea) {\n",
              "\n",
              "    function append_mime(data, metadata, element) {\n",
              "      // create a DOM node to render to\n",
              "      var toinsert = this.create_output_subarea(\n",
              "        metadata,\n",
              "        CLASS_NAME,\n",
              "        EXEC_MIME_TYPE\n",
              "      );\n",
              "      this.keyboard_manager.register_events(toinsert);\n",
              "      // Render to node\n",
              "      var props = {data: data, metadata: metadata[EXEC_MIME_TYPE]};\n",
              "      render(props, toinsert[toinsert.length - 1]);\n",
              "      element.append(toinsert);\n",
              "      return toinsert\n",
              "    }\n",
              "\n",
              "    /* Handle when an output is cleared or removed */\n",
              "    events.on('clear_output.CodeCell', handleClearOutput);\n",
              "    events.on('delete.Cell', handleClearOutput);\n",
              "\n",
              "    /* Handle when a new output is added */\n",
              "    events.on('output_added.OutputArea', handleAddOutput);\n",
              "\n",
              "    /**\n",
              "     * Register the mime type and append_mime function with output_area\n",
              "     */\n",
              "    OutputArea.prototype.register_mime_type(EXEC_MIME_TYPE, append_mime, {\n",
              "      /* Is output safe? */\n",
              "      safe: true,\n",
              "      /* Index of renderer in `output_area.display_order` */\n",
              "      index: 0\n",
              "    });\n",
              "  }\n",
              "\n",
              "  // register the mime type if in Jupyter Notebook environment and previously unregistered\n",
              "  if (root.Jupyter !== undefined) {\n",
              "    var events = require('base/js/events');\n",
              "    var OutputArea = require('notebook/js/outputarea').OutputArea;\n",
              "\n",
              "    if (OutputArea.prototype.mime_types().indexOf(EXEC_MIME_TYPE) == -1) {\n",
              "      register_renderer(events, OutputArea);\n",
              "    }\n",
              "  }\n",
              "\n",
              "  \n",
              "  if (typeof (root._bokeh_timeout) === \"undefined\" || force === true) {\n",
              "    root._bokeh_timeout = Date.now() + 5000;\n",
              "    root._bokeh_failed_load = false;\n",
              "  }\n",
              "\n",
              "  var NB_LOAD_WARNING = {'data': {'text/html':\n",
              "     \"<div style='background-color: #fdd'>\\n\"+\n",
              "     \"<p>\\n\"+\n",
              "     \"BokehJS does not appear to have successfully loaded. If loading BokehJS from CDN, this \\n\"+\n",
              "     \"may be due to a slow or bad network connection. Possible fixes:\\n\"+\n",
              "     \"</p>\\n\"+\n",
              "     \"<ul>\\n\"+\n",
              "     \"<li>re-rerun `output_notebook()` to attempt to load from CDN again, or</li>\\n\"+\n",
              "     \"<li>use INLINE resources instead, as so:</li>\\n\"+\n",
              "     \"</ul>\\n\"+\n",
              "     \"<code>\\n\"+\n",
              "     \"from bokeh.resources import INLINE\\n\"+\n",
              "     \"output_notebook(resources=INLINE)\\n\"+\n",
              "     \"</code>\\n\"+\n",
              "     \"</div>\"}};\n",
              "\n",
              "  function display_loaded() {\n",
              "    var el = document.getElementById(null);\n",
              "    if (el != null) {\n",
              "      el.textContent = \"BokehJS is loading...\";\n",
              "    }\n",
              "    if (root.Bokeh !== undefined) {\n",
              "      if (el != null) {\n",
              "        el.textContent = \"BokehJS \" + root.Bokeh.version + \" successfully loaded.\";\n",
              "      }\n",
              "    } else if (Date.now() < root._bokeh_timeout) {\n",
              "      setTimeout(display_loaded, 100)\n",
              "    }\n",
              "  }\n",
              "\n",
              "\n",
              "  function run_callbacks() {\n",
              "    try {\n",
              "      root._bokeh_onload_callbacks.forEach(function(callback) {\n",
              "        if (callback != null)\n",
              "          callback();\n",
              "      });\n",
              "    } finally {\n",
              "      delete root._bokeh_onload_callbacks\n",
              "    }\n",
              "    console.debug(\"Bokeh: all callbacks have finished\");\n",
              "  }\n",
              "\n",
              "  function load_libs(css_urls, js_urls, callback) {\n",
              "    if (css_urls == null) css_urls = [];\n",
              "    if (js_urls == null) js_urls = [];\n",
              "\n",
              "    root._bokeh_onload_callbacks.push(callback);\n",
              "    if (root._bokeh_is_loading > 0) {\n",
              "      console.debug(\"Bokeh: BokehJS is being loaded, scheduling callback at\", now());\n",
              "      return null;\n",
              "    }\n",
              "    if (js_urls == null || js_urls.length === 0) {\n",
              "      run_callbacks();\n",
              "      return null;\n",
              "    }\n",
              "    console.debug(\"Bokeh: BokehJS not loaded, scheduling load and callback at\", now());\n",
              "    root._bokeh_is_loading = css_urls.length + js_urls.length;\n",
              "\n",
              "    function on_load() {\n",
              "      root._bokeh_is_loading--;\n",
              "      if (root._bokeh_is_loading === 0) {\n",
              "        console.debug(\"Bokeh: all BokehJS libraries/stylesheets loaded\");\n",
              "        run_callbacks()\n",
              "      }\n",
              "    }\n",
              "\n",
              "    function on_error(url) {\n",
              "      console.error(\"failed to load \" + url);\n",
              "    }\n",
              "\n",
              "    for (let i = 0; i < css_urls.length; i++) {\n",
              "      const url = css_urls[i];\n",
              "      const element = document.createElement(\"link\");\n",
              "      element.onload = on_load;\n",
              "      element.onerror = on_error.bind(null, url);\n",
              "      element.rel = \"stylesheet\";\n",
              "      element.type = \"text/css\";\n",
              "      element.href = url;\n",
              "      console.debug(\"Bokeh: injecting link tag for BokehJS stylesheet: \", url);\n",
              "      document.body.appendChild(element);\n",
              "    }\n",
              "\n",
              "    const hashes = {\"https://cdn.bokeh.org/bokeh/release/bokeh-2.3.3.min.js\": \"dM3QQsP+wXdHg42wTqW85BjZQdLNNIXqlPw/BgKoExPmTG7ZLML4EGqLMfqHT6ON\", \"https://cdn.bokeh.org/bokeh/release/bokeh-tables-2.3.3.min.js\": \"8x57I4YuIfu8XyZfFo0XVr2WAT8EK4rh/uDe3wF7YuW2FNUSNEpJbsPaB1nJ2fz2\", \"https://cdn.bokeh.org/bokeh/release/bokeh-widgets-2.3.3.min.js\": \"3QTqdz9LyAm2i0sG5XTePsHec3UHWwVsrOL68SYRoAXsafvfAyqtQ+h440+qIBhS\"};\n",
              "\n",
              "    for (let i = 0; i < js_urls.length; i++) {\n",
              "      const url = js_urls[i];\n",
              "      const element = document.createElement('script');\n",
              "      element.onload = on_load;\n",
              "      element.onerror = on_error.bind(null, url);\n",
              "      element.async = false;\n",
              "      element.src = url;\n",
              "      if (url in hashes) {\n",
              "        element.crossOrigin = \"anonymous\";\n",
              "        element.integrity = \"sha384-\" + hashes[url];\n",
              "      }\n",
              "      console.debug(\"Bokeh: injecting script tag for BokehJS library: \", url);\n",
              "      document.head.appendChild(element);\n",
              "    }\n",
              "  };\n",
              "\n",
              "  function inject_raw_css(css) {\n",
              "    const element = document.createElement(\"style\");\n",
              "    element.appendChild(document.createTextNode(css));\n",
              "    document.body.appendChild(element);\n",
              "  }\n",
              "\n",
              "  \n",
              "  var js_urls = [\"https://cdn.bokeh.org/bokeh/release/bokeh-2.3.3.min.js\", \"https://cdn.bokeh.org/bokeh/release/bokeh-widgets-2.3.3.min.js\", \"https://cdn.bokeh.org/bokeh/release/bokeh-tables-2.3.3.min.js\"];\n",
              "  var css_urls = [];\n",
              "  \n",
              "\n",
              "  var inline_js = [\n",
              "    function(Bokeh) {\n",
              "      Bokeh.set_log_level(\"info\");\n",
              "    },\n",
              "    function(Bokeh) {\n",
              "    \n",
              "    \n",
              "    }\n",
              "  ];\n",
              "\n",
              "  function run_inline_js() {\n",
              "    \n",
              "    if (root.Bokeh !== undefined || force === true) {\n",
              "      \n",
              "    for (var i = 0; i < inline_js.length; i++) {\n",
              "      inline_js[i].call(root, root.Bokeh);\n",
              "    }\n",
              "    } else if (Date.now() < root._bokeh_timeout) {\n",
              "      setTimeout(run_inline_js, 100);\n",
              "    } else if (!root._bokeh_failed_load) {\n",
              "      console.log(\"Bokeh: BokehJS failed to load within specified timeout.\");\n",
              "      root._bokeh_failed_load = true;\n",
              "    } else if (force !== true) {\n",
              "      var cell = $(document.getElementById(null)).parents('.cell').data().cell;\n",
              "      cell.output_area.append_execute_result(NB_LOAD_WARNING)\n",
              "    }\n",
              "\n",
              "  }\n",
              "\n",
              "  if (root._bokeh_is_loading === 0) {\n",
              "    console.debug(\"Bokeh: BokehJS loaded, going straight to plotting\");\n",
              "    run_inline_js();\n",
              "  } else {\n",
              "    load_libs(css_urls, js_urls, function() {\n",
              "      console.debug(\"Bokeh: BokehJS plotting callback run at\", now());\n",
              "      run_inline_js();\n",
              "    });\n",
              "  }\n",
              "}(window));"
            ],
            "application/vnd.bokehjs_load.v0+json": "\n(function(root) {\n  function now() {\n    return new Date();\n  }\n\n  var force = true;\n\n  if (typeof root._bokeh_onload_callbacks === \"undefined\" || force === true) {\n    root._bokeh_onload_callbacks = [];\n    root._bokeh_is_loading = undefined;\n  }\n\n  \n\n  \n  if (typeof (root._bokeh_timeout) === \"undefined\" || force === true) {\n    root._bokeh_timeout = Date.now() + 5000;\n    root._bokeh_failed_load = false;\n  }\n\n  var NB_LOAD_WARNING = {'data': {'text/html':\n     \"<div style='background-color: #fdd'>\\n\"+\n     \"<p>\\n\"+\n     \"BokehJS does not appear to have successfully loaded. If loading BokehJS from CDN, this \\n\"+\n     \"may be due to a slow or bad network connection. Possible fixes:\\n\"+\n     \"</p>\\n\"+\n     \"<ul>\\n\"+\n     \"<li>re-rerun `output_notebook()` to attempt to load from CDN again, or</li>\\n\"+\n     \"<li>use INLINE resources instead, as so:</li>\\n\"+\n     \"</ul>\\n\"+\n     \"<code>\\n\"+\n     \"from bokeh.resources import INLINE\\n\"+\n     \"output_notebook(resources=INLINE)\\n\"+\n     \"</code>\\n\"+\n     \"</div>\"}};\n\n  function display_loaded() {\n    var el = document.getElementById(null);\n    if (el != null) {\n      el.textContent = \"BokehJS is loading...\";\n    }\n    if (root.Bokeh !== undefined) {\n      if (el != null) {\n        el.textContent = \"BokehJS \" + root.Bokeh.version + \" successfully loaded.\";\n      }\n    } else if (Date.now() < root._bokeh_timeout) {\n      setTimeout(display_loaded, 100)\n    }\n  }\n\n\n  function run_callbacks() {\n    try {\n      root._bokeh_onload_callbacks.forEach(function(callback) {\n        if (callback != null)\n          callback();\n      });\n    } finally {\n      delete root._bokeh_onload_callbacks\n    }\n    console.debug(\"Bokeh: all callbacks have finished\");\n  }\n\n  function load_libs(css_urls, js_urls, callback) {\n    if (css_urls == null) css_urls = [];\n    if (js_urls == null) js_urls = [];\n\n    root._bokeh_onload_callbacks.push(callback);\n    if (root._bokeh_is_loading > 0) {\n      console.debug(\"Bokeh: BokehJS is being loaded, scheduling callback at\", now());\n      return null;\n    }\n    if (js_urls == null || js_urls.length === 0) {\n      run_callbacks();\n      return null;\n    }\n    console.debug(\"Bokeh: BokehJS not loaded, scheduling load and callback at\", now());\n    root._bokeh_is_loading = css_urls.length + js_urls.length;\n\n    function on_load() {\n      root._bokeh_is_loading--;\n      if (root._bokeh_is_loading === 0) {\n        console.debug(\"Bokeh: all BokehJS libraries/stylesheets loaded\");\n        run_callbacks()\n      }\n    }\n\n    function on_error(url) {\n      console.error(\"failed to load \" + url);\n    }\n\n    for (let i = 0; i < css_urls.length; i++) {\n      const url = css_urls[i];\n      const element = document.createElement(\"link\");\n      element.onload = on_load;\n      element.onerror = on_error.bind(null, url);\n      element.rel = \"stylesheet\";\n      element.type = \"text/css\";\n      element.href = url;\n      console.debug(\"Bokeh: injecting link tag for BokehJS stylesheet: \", url);\n      document.body.appendChild(element);\n    }\n\n    const hashes = {\"https://cdn.bokeh.org/bokeh/release/bokeh-2.3.3.min.js\": \"dM3QQsP+wXdHg42wTqW85BjZQdLNNIXqlPw/BgKoExPmTG7ZLML4EGqLMfqHT6ON\", \"https://cdn.bokeh.org/bokeh/release/bokeh-tables-2.3.3.min.js\": \"8x57I4YuIfu8XyZfFo0XVr2WAT8EK4rh/uDe3wF7YuW2FNUSNEpJbsPaB1nJ2fz2\", \"https://cdn.bokeh.org/bokeh/release/bokeh-widgets-2.3.3.min.js\": \"3QTqdz9LyAm2i0sG5XTePsHec3UHWwVsrOL68SYRoAXsafvfAyqtQ+h440+qIBhS\"};\n\n    for (let i = 0; i < js_urls.length; i++) {\n      const url = js_urls[i];\n      const element = document.createElement('script');\n      element.onload = on_load;\n      element.onerror = on_error.bind(null, url);\n      element.async = false;\n      element.src = url;\n      if (url in hashes) {\n        element.crossOrigin = \"anonymous\";\n        element.integrity = \"sha384-\" + hashes[url];\n      }\n      console.debug(\"Bokeh: injecting script tag for BokehJS library: \", url);\n      document.head.appendChild(element);\n    }\n  };\n\n  function inject_raw_css(css) {\n    const element = document.createElement(\"style\");\n    element.appendChild(document.createTextNode(css));\n    document.body.appendChild(element);\n  }\n\n  \n  var js_urls = [\"https://cdn.bokeh.org/bokeh/release/bokeh-2.3.3.min.js\", \"https://cdn.bokeh.org/bokeh/release/bokeh-widgets-2.3.3.min.js\", \"https://cdn.bokeh.org/bokeh/release/bokeh-tables-2.3.3.min.js\"];\n  var css_urls = [];\n  \n\n  var inline_js = [\n    function(Bokeh) {\n      Bokeh.set_log_level(\"info\");\n    },\n    function(Bokeh) {\n    \n    \n    }\n  ];\n\n  function run_inline_js() {\n    \n    if (root.Bokeh !== undefined || force === true) {\n      \n    for (var i = 0; i < inline_js.length; i++) {\n      inline_js[i].call(root, root.Bokeh);\n    }\n    } else if (Date.now() < root._bokeh_timeout) {\n      setTimeout(run_inline_js, 100);\n    } else if (!root._bokeh_failed_load) {\n      console.log(\"Bokeh: BokehJS failed to load within specified timeout.\");\n      root._bokeh_failed_load = true;\n    } else if (force !== true) {\n      var cell = $(document.getElementById(null)).parents('.cell').data().cell;\n      cell.output_area.append_execute_result(NB_LOAD_WARNING)\n    }\n\n  }\n\n  if (root._bokeh_is_loading === 0) {\n    console.debug(\"Bokeh: BokehJS loaded, going straight to plotting\");\n    run_inline_js();\n  } else {\n    load_libs(css_urls, js_urls, function() {\n      console.debug(\"Bokeh: BokehJS plotting callback run at\", now());\n      run_inline_js();\n    });\n  }\n}(window));"
          },
          "metadata": {}
        },
        {
          "output_type": "display_data",
          "data": {
            "text/html": [
              "\n",
              "\n",
              "\n",
              "\n",
              "\n",
              "\n",
              "  <div class=\"bk-root\" id=\"41555250-8d6a-4493-b774-ab265236bf98\" data-root-id=\"1002\"></div>\n"
            ]
          },
          "metadata": {}
        },
        {
          "output_type": "display_data",
          "data": {
            "application/javascript": [
              "(function(root) {\n",
              "  function embed_document(root) {\n",
              "    \n",
              "  var docs_json = {\"923d12d4-0b98-403c-b313-e7d12f40eeb0\":{\"defs\":[],\"roots\":{\"references\":[{\"attributes\":{\"below\":[{\"id\":\"1011\"}],\"center\":[{\"id\":\"1014\"},{\"id\":\"1018\"}],\"height\":400,\"left\":[{\"id\":\"1015\"}],\"renderers\":[{\"id\":\"1036\"}],\"title\":{\"id\":\"1038\"},\"toolbar\":{\"id\":\"1026\"},\"width\":400,\"x_range\":{\"id\":\"1003\"},\"x_scale\":{\"id\":\"1007\"},\"y_range\":{\"id\":\"1005\"},\"y_scale\":{\"id\":\"1009\"}},\"id\":\"1002\",\"subtype\":\"Figure\",\"type\":\"Plot\"},{\"attributes\":{},\"id\":\"1019\",\"type\":\"PanTool\"},{\"attributes\":{},\"id\":\"1020\",\"type\":\"WheelZoomTool\"},{\"attributes\":{},\"id\":\"1005\",\"type\":\"DataRange1d\"},{\"attributes\":{\"overlay\":{\"id\":\"1025\"}},\"id\":\"1021\",\"type\":\"BoxZoomTool\"},{\"attributes\":{},\"id\":\"1022\",\"type\":\"SaveTool\"},{\"attributes\":{},\"id\":\"1040\",\"type\":\"BasicTickFormatter\"},{\"attributes\":{},\"id\":\"1023\",\"type\":\"ResetTool\"},{\"attributes\":{\"data\":{\"x\":[1,2,3,4,5],\"y\":[4,7,1,6,3]},\"selected\":{\"id\":\"1047\"},\"selection_policy\":{\"id\":\"1048\"}},\"id\":\"1033\",\"type\":\"ColumnDataSource\"},{\"attributes\":{\"fill_alpha\":{\"value\":0.1},\"fill_color\":{\"value\":\"navy\"},\"line_alpha\":{\"value\":0.1},\"line_color\":{\"value\":\"navy\"},\"size\":{\"value\":10},\"x\":{\"field\":\"x\"},\"y\":{\"field\":\"y\"}},\"id\":\"1035\",\"type\":\"Circle\"},{\"attributes\":{},\"id\":\"1024\",\"type\":\"HelpTool\"},{\"attributes\":{},\"id\":\"1009\",\"type\":\"LinearScale\"},{\"attributes\":{\"active_multi\":null,\"tools\":[{\"id\":\"1019\"},{\"id\":\"1020\"},{\"id\":\"1021\"},{\"id\":\"1022\"},{\"id\":\"1023\"},{\"id\":\"1024\"}]},\"id\":\"1026\",\"type\":\"Toolbar\"},{\"attributes\":{\"source\":{\"id\":\"1033\"}},\"id\":\"1037\",\"type\":\"CDSView\"},{\"attributes\":{},\"id\":\"1048\",\"type\":\"UnionRenderers\"},{\"attributes\":{\"formatter\":{\"id\":\"1040\"},\"major_label_policy\":{\"id\":\"1042\"},\"ticker\":{\"id\":\"1012\"}},\"id\":\"1011\",\"type\":\"LinearAxis\"},{\"attributes\":{},\"id\":\"1007\",\"type\":\"LinearScale\"},{\"attributes\":{},\"id\":\"1016\",\"type\":\"BasicTicker\"},{\"attributes\":{\"fill_alpha\":{\"value\":0.5},\"fill_color\":{\"value\":\"navy\"},\"line_alpha\":{\"value\":0.5},\"line_color\":{\"value\":\"navy\"},\"size\":{\"value\":10},\"x\":{\"field\":\"x\"},\"y\":{\"field\":\"y\"}},\"id\":\"1034\",\"type\":\"Circle\"},{\"attributes\":{},\"id\":\"1012\",\"type\":\"BasicTicker\"},{\"attributes\":{},\"id\":\"1043\",\"type\":\"BasicTickFormatter\"},{\"attributes\":{\"axis\":{\"id\":\"1011\"},\"ticker\":null},\"id\":\"1014\",\"type\":\"Grid\"},{\"attributes\":{},\"id\":\"1047\",\"type\":\"Selection\"},{\"attributes\":{\"axis\":{\"id\":\"1015\"},\"dimension\":1,\"ticker\":null},\"id\":\"1018\",\"type\":\"Grid\"},{\"attributes\":{},\"id\":\"1045\",\"type\":\"AllLabels\"},{\"attributes\":{\"formatter\":{\"id\":\"1043\"},\"major_label_policy\":{\"id\":\"1045\"},\"ticker\":{\"id\":\"1016\"}},\"id\":\"1015\",\"type\":\"LinearAxis\"},{\"attributes\":{},\"id\":\"1038\",\"type\":\"Title\"},{\"attributes\":{},\"id\":\"1042\",\"type\":\"AllLabels\"},{\"attributes\":{},\"id\":\"1003\",\"type\":\"DataRange1d\"},{\"attributes\":{\"data_source\":{\"id\":\"1033\"},\"glyph\":{\"id\":\"1034\"},\"hover_glyph\":null,\"muted_glyph\":null,\"nonselection_glyph\":{\"id\":\"1035\"},\"view\":{\"id\":\"1037\"}},\"id\":\"1036\",\"type\":\"GlyphRenderer\"},{\"attributes\":{\"bottom_units\":\"screen\",\"fill_alpha\":0.5,\"fill_color\":\"lightgrey\",\"left_units\":\"screen\",\"level\":\"overlay\",\"line_alpha\":1.0,\"line_color\":\"black\",\"line_dash\":[4,4],\"line_width\":2,\"right_units\":\"screen\",\"syncable\":false,\"top_units\":\"screen\"},\"id\":\"1025\",\"type\":\"BoxAnnotation\"}],\"root_ids\":[\"1002\"]},\"title\":\"Bokeh Application\",\"version\":\"2.3.3\"}};\n",
              "  var render_items = [{\"docid\":\"923d12d4-0b98-403c-b313-e7d12f40eeb0\",\"root_ids\":[\"1002\"],\"roots\":{\"1002\":\"41555250-8d6a-4493-b774-ab265236bf98\"}}];\n",
              "  root.Bokeh.embed.embed_items_notebook(docs_json, render_items);\n",
              "\n",
              "  }\n",
              "  if (root.Bokeh !== undefined) {\n",
              "    embed_document(root);\n",
              "  } else {\n",
              "    var attempts = 0;\n",
              "    var timer = setInterval(function(root) {\n",
              "      if (root.Bokeh !== undefined) {\n",
              "        clearInterval(timer);\n",
              "        embed_document(root);\n",
              "      } else {\n",
              "        attempts++;\n",
              "        if (attempts > 100) {\n",
              "          clearInterval(timer);\n",
              "          console.log(\"Bokeh: ERROR: Unable to run BokehJS code because BokehJS library is missing\");\n",
              "        }\n",
              "      }\n",
              "    }, 10, root)\n",
              "  }\n",
              "})(window);"
            ],
            "application/vnd.bokehjs_exec.v0+json": ""
          },
          "metadata": {
            "application/vnd.bokehjs_exec.v0+json": {
              "id": "1002"
            }
          }
        }
      ]
    },
    {
      "cell_type": "markdown",
      "metadata": {
        "id": "R-jfD_I2DfTH"
      },
      "source": [
        "**Single line:**\n",
        "\n",
        "To create a single line, the `line()` function of `bokeh` library is used."
      ]
    },
    {
      "cell_type": "code",
      "metadata": {
        "colab": {
          "base_uri": "https://localhost:8080/",
          "height": 417
        },
        "id": "Wrnt6fwwAgDw",
        "outputId": "c40c2797-ff7c-4e4f-9ebc-d75d48bc368b"
      },
      "source": [
        "# S1.2: Create single line and export it to an html file.\n",
        "# import modules\n",
        "from bokeh.plotting import figure, show\n",
        "from bokeh.io import output_file, output_notebook  \n",
        "\n",
        "\n",
        "# output to notebook\n",
        "output_file('filename.html')  \n",
        "output_notebook()\n",
        "  \n",
        "# create figure\n",
        "p = figure(plot_width = 400, plot_height = 400)\n",
        "   \n",
        "# add a line renderer\n",
        "p.line([1, 2, 3, 4, 5], [3, 1, 2, 6, 5], \n",
        "        line_width = 2, color = \"green\")\n",
        "  \n",
        "# show the results\n",
        "show(p)"
      ],
      "execution_count": null,
      "outputs": [
        {
          "output_type": "display_data",
          "data": {
            "application/javascript": [
              "\n",
              "(function(root) {\n",
              "  function now() {\n",
              "    return new Date();\n",
              "  }\n",
              "\n",
              "  var force = true;\n",
              "\n",
              "  if (typeof root._bokeh_onload_callbacks === \"undefined\" || force === true) {\n",
              "    root._bokeh_onload_callbacks = [];\n",
              "    root._bokeh_is_loading = undefined;\n",
              "  }\n",
              "\n",
              "  var JS_MIME_TYPE = 'application/javascript';\n",
              "  var HTML_MIME_TYPE = 'text/html';\n",
              "  var EXEC_MIME_TYPE = 'application/vnd.bokehjs_exec.v0+json';\n",
              "  var CLASS_NAME = 'output_bokeh rendered_html';\n",
              "\n",
              "  /**\n",
              "   * Render data to the DOM node\n",
              "   */\n",
              "  function render(props, node) {\n",
              "    var script = document.createElement(\"script\");\n",
              "    node.appendChild(script);\n",
              "  }\n",
              "\n",
              "  /**\n",
              "   * Handle when an output is cleared or removed\n",
              "   */\n",
              "  function handleClearOutput(event, handle) {\n",
              "    var cell = handle.cell;\n",
              "\n",
              "    var id = cell.output_area._bokeh_element_id;\n",
              "    var server_id = cell.output_area._bokeh_server_id;\n",
              "    // Clean up Bokeh references\n",
              "    if (id != null && id in Bokeh.index) {\n",
              "      Bokeh.index[id].model.document.clear();\n",
              "      delete Bokeh.index[id];\n",
              "    }\n",
              "\n",
              "    if (server_id !== undefined) {\n",
              "      // Clean up Bokeh references\n",
              "      var cmd = \"from bokeh.io.state import curstate; print(curstate().uuid_to_server['\" + server_id + \"'].get_sessions()[0].document.roots[0]._id)\";\n",
              "      cell.notebook.kernel.execute(cmd, {\n",
              "        iopub: {\n",
              "          output: function(msg) {\n",
              "            var id = msg.content.text.trim();\n",
              "            if (id in Bokeh.index) {\n",
              "              Bokeh.index[id].model.document.clear();\n",
              "              delete Bokeh.index[id];\n",
              "            }\n",
              "          }\n",
              "        }\n",
              "      });\n",
              "      // Destroy server and session\n",
              "      var cmd = \"import bokeh.io.notebook as ion; ion.destroy_server('\" + server_id + \"')\";\n",
              "      cell.notebook.kernel.execute(cmd);\n",
              "    }\n",
              "  }\n",
              "\n",
              "  /**\n",
              "   * Handle when a new output is added\n",
              "   */\n",
              "  function handleAddOutput(event, handle) {\n",
              "    var output_area = handle.output_area;\n",
              "    var output = handle.output;\n",
              "\n",
              "    // limit handleAddOutput to display_data with EXEC_MIME_TYPE content only\n",
              "    if ((output.output_type != \"display_data\") || (!Object.prototype.hasOwnProperty.call(output.data, EXEC_MIME_TYPE))) {\n",
              "      return\n",
              "    }\n",
              "\n",
              "    var toinsert = output_area.element.find(\".\" + CLASS_NAME.split(' ')[0]);\n",
              "\n",
              "    if (output.metadata[EXEC_MIME_TYPE][\"id\"] !== undefined) {\n",
              "      toinsert[toinsert.length - 1].firstChild.textContent = output.data[JS_MIME_TYPE];\n",
              "      // store reference to embed id on output_area\n",
              "      output_area._bokeh_element_id = output.metadata[EXEC_MIME_TYPE][\"id\"];\n",
              "    }\n",
              "    if (output.metadata[EXEC_MIME_TYPE][\"server_id\"] !== undefined) {\n",
              "      var bk_div = document.createElement(\"div\");\n",
              "      bk_div.innerHTML = output.data[HTML_MIME_TYPE];\n",
              "      var script_attrs = bk_div.children[0].attributes;\n",
              "      for (var i = 0; i < script_attrs.length; i++) {\n",
              "        toinsert[toinsert.length - 1].firstChild.setAttribute(script_attrs[i].name, script_attrs[i].value);\n",
              "        toinsert[toinsert.length - 1].firstChild.textContent = bk_div.children[0].textContent\n",
              "      }\n",
              "      // store reference to server id on output_area\n",
              "      output_area._bokeh_server_id = output.metadata[EXEC_MIME_TYPE][\"server_id\"];\n",
              "    }\n",
              "  }\n",
              "\n",
              "  function register_renderer(events, OutputArea) {\n",
              "\n",
              "    function append_mime(data, metadata, element) {\n",
              "      // create a DOM node to render to\n",
              "      var toinsert = this.create_output_subarea(\n",
              "        metadata,\n",
              "        CLASS_NAME,\n",
              "        EXEC_MIME_TYPE\n",
              "      );\n",
              "      this.keyboard_manager.register_events(toinsert);\n",
              "      // Render to node\n",
              "      var props = {data: data, metadata: metadata[EXEC_MIME_TYPE]};\n",
              "      render(props, toinsert[toinsert.length - 1]);\n",
              "      element.append(toinsert);\n",
              "      return toinsert\n",
              "    }\n",
              "\n",
              "    /* Handle when an output is cleared or removed */\n",
              "    events.on('clear_output.CodeCell', handleClearOutput);\n",
              "    events.on('delete.Cell', handleClearOutput);\n",
              "\n",
              "    /* Handle when a new output is added */\n",
              "    events.on('output_added.OutputArea', handleAddOutput);\n",
              "\n",
              "    /**\n",
              "     * Register the mime type and append_mime function with output_area\n",
              "     */\n",
              "    OutputArea.prototype.register_mime_type(EXEC_MIME_TYPE, append_mime, {\n",
              "      /* Is output safe? */\n",
              "      safe: true,\n",
              "      /* Index of renderer in `output_area.display_order` */\n",
              "      index: 0\n",
              "    });\n",
              "  }\n",
              "\n",
              "  // register the mime type if in Jupyter Notebook environment and previously unregistered\n",
              "  if (root.Jupyter !== undefined) {\n",
              "    var events = require('base/js/events');\n",
              "    var OutputArea = require('notebook/js/outputarea').OutputArea;\n",
              "\n",
              "    if (OutputArea.prototype.mime_types().indexOf(EXEC_MIME_TYPE) == -1) {\n",
              "      register_renderer(events, OutputArea);\n",
              "    }\n",
              "  }\n",
              "\n",
              "  \n",
              "  if (typeof (root._bokeh_timeout) === \"undefined\" || force === true) {\n",
              "    root._bokeh_timeout = Date.now() + 5000;\n",
              "    root._bokeh_failed_load = false;\n",
              "  }\n",
              "\n",
              "  var NB_LOAD_WARNING = {'data': {'text/html':\n",
              "     \"<div style='background-color: #fdd'>\\n\"+\n",
              "     \"<p>\\n\"+\n",
              "     \"BokehJS does not appear to have successfully loaded. If loading BokehJS from CDN, this \\n\"+\n",
              "     \"may be due to a slow or bad network connection. Possible fixes:\\n\"+\n",
              "     \"</p>\\n\"+\n",
              "     \"<ul>\\n\"+\n",
              "     \"<li>re-rerun `output_notebook()` to attempt to load from CDN again, or</li>\\n\"+\n",
              "     \"<li>use INLINE resources instead, as so:</li>\\n\"+\n",
              "     \"</ul>\\n\"+\n",
              "     \"<code>\\n\"+\n",
              "     \"from bokeh.resources import INLINE\\n\"+\n",
              "     \"output_notebook(resources=INLINE)\\n\"+\n",
              "     \"</code>\\n\"+\n",
              "     \"</div>\"}};\n",
              "\n",
              "  function display_loaded() {\n",
              "    var el = document.getElementById(null);\n",
              "    if (el != null) {\n",
              "      el.textContent = \"BokehJS is loading...\";\n",
              "    }\n",
              "    if (root.Bokeh !== undefined) {\n",
              "      if (el != null) {\n",
              "        el.textContent = \"BokehJS \" + root.Bokeh.version + \" successfully loaded.\";\n",
              "      }\n",
              "    } else if (Date.now() < root._bokeh_timeout) {\n",
              "      setTimeout(display_loaded, 100)\n",
              "    }\n",
              "  }\n",
              "\n",
              "\n",
              "  function run_callbacks() {\n",
              "    try {\n",
              "      root._bokeh_onload_callbacks.forEach(function(callback) {\n",
              "        if (callback != null)\n",
              "          callback();\n",
              "      });\n",
              "    } finally {\n",
              "      delete root._bokeh_onload_callbacks\n",
              "    }\n",
              "    console.debug(\"Bokeh: all callbacks have finished\");\n",
              "  }\n",
              "\n",
              "  function load_libs(css_urls, js_urls, callback) {\n",
              "    if (css_urls == null) css_urls = [];\n",
              "    if (js_urls == null) js_urls = [];\n",
              "\n",
              "    root._bokeh_onload_callbacks.push(callback);\n",
              "    if (root._bokeh_is_loading > 0) {\n",
              "      console.debug(\"Bokeh: BokehJS is being loaded, scheduling callback at\", now());\n",
              "      return null;\n",
              "    }\n",
              "    if (js_urls == null || js_urls.length === 0) {\n",
              "      run_callbacks();\n",
              "      return null;\n",
              "    }\n",
              "    console.debug(\"Bokeh: BokehJS not loaded, scheduling load and callback at\", now());\n",
              "    root._bokeh_is_loading = css_urls.length + js_urls.length;\n",
              "\n",
              "    function on_load() {\n",
              "      root._bokeh_is_loading--;\n",
              "      if (root._bokeh_is_loading === 0) {\n",
              "        console.debug(\"Bokeh: all BokehJS libraries/stylesheets loaded\");\n",
              "        run_callbacks()\n",
              "      }\n",
              "    }\n",
              "\n",
              "    function on_error(url) {\n",
              "      console.error(\"failed to load \" + url);\n",
              "    }\n",
              "\n",
              "    for (let i = 0; i < css_urls.length; i++) {\n",
              "      const url = css_urls[i];\n",
              "      const element = document.createElement(\"link\");\n",
              "      element.onload = on_load;\n",
              "      element.onerror = on_error.bind(null, url);\n",
              "      element.rel = \"stylesheet\";\n",
              "      element.type = \"text/css\";\n",
              "      element.href = url;\n",
              "      console.debug(\"Bokeh: injecting link tag for BokehJS stylesheet: \", url);\n",
              "      document.body.appendChild(element);\n",
              "    }\n",
              "\n",
              "    const hashes = {\"https://cdn.bokeh.org/bokeh/release/bokeh-2.3.3.min.js\": \"dM3QQsP+wXdHg42wTqW85BjZQdLNNIXqlPw/BgKoExPmTG7ZLML4EGqLMfqHT6ON\", \"https://cdn.bokeh.org/bokeh/release/bokeh-tables-2.3.3.min.js\": \"8x57I4YuIfu8XyZfFo0XVr2WAT8EK4rh/uDe3wF7YuW2FNUSNEpJbsPaB1nJ2fz2\", \"https://cdn.bokeh.org/bokeh/release/bokeh-widgets-2.3.3.min.js\": \"3QTqdz9LyAm2i0sG5XTePsHec3UHWwVsrOL68SYRoAXsafvfAyqtQ+h440+qIBhS\"};\n",
              "\n",
              "    for (let i = 0; i < js_urls.length; i++) {\n",
              "      const url = js_urls[i];\n",
              "      const element = document.createElement('script');\n",
              "      element.onload = on_load;\n",
              "      element.onerror = on_error.bind(null, url);\n",
              "      element.async = false;\n",
              "      element.src = url;\n",
              "      if (url in hashes) {\n",
              "        element.crossOrigin = \"anonymous\";\n",
              "        element.integrity = \"sha384-\" + hashes[url];\n",
              "      }\n",
              "      console.debug(\"Bokeh: injecting script tag for BokehJS library: \", url);\n",
              "      document.head.appendChild(element);\n",
              "    }\n",
              "  };\n",
              "\n",
              "  function inject_raw_css(css) {\n",
              "    const element = document.createElement(\"style\");\n",
              "    element.appendChild(document.createTextNode(css));\n",
              "    document.body.appendChild(element);\n",
              "  }\n",
              "\n",
              "  \n",
              "  var js_urls = [\"https://cdn.bokeh.org/bokeh/release/bokeh-2.3.3.min.js\", \"https://cdn.bokeh.org/bokeh/release/bokeh-widgets-2.3.3.min.js\", \"https://cdn.bokeh.org/bokeh/release/bokeh-tables-2.3.3.min.js\"];\n",
              "  var css_urls = [];\n",
              "  \n",
              "\n",
              "  var inline_js = [\n",
              "    function(Bokeh) {\n",
              "      Bokeh.set_log_level(\"info\");\n",
              "    },\n",
              "    function(Bokeh) {\n",
              "    \n",
              "    \n",
              "    }\n",
              "  ];\n",
              "\n",
              "  function run_inline_js() {\n",
              "    \n",
              "    if (root.Bokeh !== undefined || force === true) {\n",
              "      \n",
              "    for (var i = 0; i < inline_js.length; i++) {\n",
              "      inline_js[i].call(root, root.Bokeh);\n",
              "    }\n",
              "    } else if (Date.now() < root._bokeh_timeout) {\n",
              "      setTimeout(run_inline_js, 100);\n",
              "    } else if (!root._bokeh_failed_load) {\n",
              "      console.log(\"Bokeh: BokehJS failed to load within specified timeout.\");\n",
              "      root._bokeh_failed_load = true;\n",
              "    } else if (force !== true) {\n",
              "      var cell = $(document.getElementById(null)).parents('.cell').data().cell;\n",
              "      cell.output_area.append_execute_result(NB_LOAD_WARNING)\n",
              "    }\n",
              "\n",
              "  }\n",
              "\n",
              "  if (root._bokeh_is_loading === 0) {\n",
              "    console.debug(\"Bokeh: BokehJS loaded, going straight to plotting\");\n",
              "    run_inline_js();\n",
              "  } else {\n",
              "    load_libs(css_urls, js_urls, function() {\n",
              "      console.debug(\"Bokeh: BokehJS plotting callback run at\", now());\n",
              "      run_inline_js();\n",
              "    });\n",
              "  }\n",
              "}(window));"
            ],
            "application/vnd.bokehjs_load.v0+json": "\n(function(root) {\n  function now() {\n    return new Date();\n  }\n\n  var force = true;\n\n  if (typeof root._bokeh_onload_callbacks === \"undefined\" || force === true) {\n    root._bokeh_onload_callbacks = [];\n    root._bokeh_is_loading = undefined;\n  }\n\n  \n\n  \n  if (typeof (root._bokeh_timeout) === \"undefined\" || force === true) {\n    root._bokeh_timeout = Date.now() + 5000;\n    root._bokeh_failed_load = false;\n  }\n\n  var NB_LOAD_WARNING = {'data': {'text/html':\n     \"<div style='background-color: #fdd'>\\n\"+\n     \"<p>\\n\"+\n     \"BokehJS does not appear to have successfully loaded. If loading BokehJS from CDN, this \\n\"+\n     \"may be due to a slow or bad network connection. Possible fixes:\\n\"+\n     \"</p>\\n\"+\n     \"<ul>\\n\"+\n     \"<li>re-rerun `output_notebook()` to attempt to load from CDN again, or</li>\\n\"+\n     \"<li>use INLINE resources instead, as so:</li>\\n\"+\n     \"</ul>\\n\"+\n     \"<code>\\n\"+\n     \"from bokeh.resources import INLINE\\n\"+\n     \"output_notebook(resources=INLINE)\\n\"+\n     \"</code>\\n\"+\n     \"</div>\"}};\n\n  function display_loaded() {\n    var el = document.getElementById(null);\n    if (el != null) {\n      el.textContent = \"BokehJS is loading...\";\n    }\n    if (root.Bokeh !== undefined) {\n      if (el != null) {\n        el.textContent = \"BokehJS \" + root.Bokeh.version + \" successfully loaded.\";\n      }\n    } else if (Date.now() < root._bokeh_timeout) {\n      setTimeout(display_loaded, 100)\n    }\n  }\n\n\n  function run_callbacks() {\n    try {\n      root._bokeh_onload_callbacks.forEach(function(callback) {\n        if (callback != null)\n          callback();\n      });\n    } finally {\n      delete root._bokeh_onload_callbacks\n    }\n    console.debug(\"Bokeh: all callbacks have finished\");\n  }\n\n  function load_libs(css_urls, js_urls, callback) {\n    if (css_urls == null) css_urls = [];\n    if (js_urls == null) js_urls = [];\n\n    root._bokeh_onload_callbacks.push(callback);\n    if (root._bokeh_is_loading > 0) {\n      console.debug(\"Bokeh: BokehJS is being loaded, scheduling callback at\", now());\n      return null;\n    }\n    if (js_urls == null || js_urls.length === 0) {\n      run_callbacks();\n      return null;\n    }\n    console.debug(\"Bokeh: BokehJS not loaded, scheduling load and callback at\", now());\n    root._bokeh_is_loading = css_urls.length + js_urls.length;\n\n    function on_load() {\n      root._bokeh_is_loading--;\n      if (root._bokeh_is_loading === 0) {\n        console.debug(\"Bokeh: all BokehJS libraries/stylesheets loaded\");\n        run_callbacks()\n      }\n    }\n\n    function on_error(url) {\n      console.error(\"failed to load \" + url);\n    }\n\n    for (let i = 0; i < css_urls.length; i++) {\n      const url = css_urls[i];\n      const element = document.createElement(\"link\");\n      element.onload = on_load;\n      element.onerror = on_error.bind(null, url);\n      element.rel = \"stylesheet\";\n      element.type = \"text/css\";\n      element.href = url;\n      console.debug(\"Bokeh: injecting link tag for BokehJS stylesheet: \", url);\n      document.body.appendChild(element);\n    }\n\n    const hashes = {\"https://cdn.bokeh.org/bokeh/release/bokeh-2.3.3.min.js\": \"dM3QQsP+wXdHg42wTqW85BjZQdLNNIXqlPw/BgKoExPmTG7ZLML4EGqLMfqHT6ON\", \"https://cdn.bokeh.org/bokeh/release/bokeh-tables-2.3.3.min.js\": \"8x57I4YuIfu8XyZfFo0XVr2WAT8EK4rh/uDe3wF7YuW2FNUSNEpJbsPaB1nJ2fz2\", \"https://cdn.bokeh.org/bokeh/release/bokeh-widgets-2.3.3.min.js\": \"3QTqdz9LyAm2i0sG5XTePsHec3UHWwVsrOL68SYRoAXsafvfAyqtQ+h440+qIBhS\"};\n\n    for (let i = 0; i < js_urls.length; i++) {\n      const url = js_urls[i];\n      const element = document.createElement('script');\n      element.onload = on_load;\n      element.onerror = on_error.bind(null, url);\n      element.async = false;\n      element.src = url;\n      if (url in hashes) {\n        element.crossOrigin = \"anonymous\";\n        element.integrity = \"sha384-\" + hashes[url];\n      }\n      console.debug(\"Bokeh: injecting script tag for BokehJS library: \", url);\n      document.head.appendChild(element);\n    }\n  };\n\n  function inject_raw_css(css) {\n    const element = document.createElement(\"style\");\n    element.appendChild(document.createTextNode(css));\n    document.body.appendChild(element);\n  }\n\n  \n  var js_urls = [\"https://cdn.bokeh.org/bokeh/release/bokeh-2.3.3.min.js\", \"https://cdn.bokeh.org/bokeh/release/bokeh-widgets-2.3.3.min.js\", \"https://cdn.bokeh.org/bokeh/release/bokeh-tables-2.3.3.min.js\"];\n  var css_urls = [];\n  \n\n  var inline_js = [\n    function(Bokeh) {\n      Bokeh.set_log_level(\"info\");\n    },\n    function(Bokeh) {\n    \n    \n    }\n  ];\n\n  function run_inline_js() {\n    \n    if (root.Bokeh !== undefined || force === true) {\n      \n    for (var i = 0; i < inline_js.length; i++) {\n      inline_js[i].call(root, root.Bokeh);\n    }\n    } else if (Date.now() < root._bokeh_timeout) {\n      setTimeout(run_inline_js, 100);\n    } else if (!root._bokeh_failed_load) {\n      console.log(\"Bokeh: BokehJS failed to load within specified timeout.\");\n      root._bokeh_failed_load = true;\n    } else if (force !== true) {\n      var cell = $(document.getElementById(null)).parents('.cell').data().cell;\n      cell.output_area.append_execute_result(NB_LOAD_WARNING)\n    }\n\n  }\n\n  if (root._bokeh_is_loading === 0) {\n    console.debug(\"Bokeh: BokehJS loaded, going straight to plotting\");\n    run_inline_js();\n  } else {\n    load_libs(css_urls, js_urls, function() {\n      console.debug(\"Bokeh: BokehJS plotting callback run at\", now());\n      run_inline_js();\n    });\n  }\n}(window));"
          },
          "metadata": {}
        },
        {
          "output_type": "display_data",
          "data": {
            "text/html": [
              "\n",
              "\n",
              "\n",
              "\n",
              "\n",
              "\n",
              "  <div class=\"bk-root\" id=\"a47e6b85-67c4-4d37-aa32-e16a13821606\" data-root-id=\"1204\"></div>\n"
            ]
          },
          "metadata": {}
        },
        {
          "output_type": "display_data",
          "data": {
            "application/javascript": [
              "(function(root) {\n",
              "  function embed_document(root) {\n",
              "    \n",
              "  var docs_json = {\"7fa8c5b6-8c70-4834-b4f1-0d92a199c0e7\":{\"defs\":[],\"roots\":{\"references\":[{\"attributes\":{\"below\":[{\"id\":\"1213\"}],\"center\":[{\"id\":\"1216\"},{\"id\":\"1220\"}],\"height\":400,\"left\":[{\"id\":\"1217\"}],\"renderers\":[{\"id\":\"1238\"}],\"title\":{\"id\":\"1251\"},\"toolbar\":{\"id\":\"1228\"},\"width\":400,\"x_range\":{\"id\":\"1205\"},\"x_scale\":{\"id\":\"1209\"},\"y_range\":{\"id\":\"1207\"},\"y_scale\":{\"id\":\"1211\"}},\"id\":\"1204\",\"subtype\":\"Figure\",\"type\":\"Plot\"},{\"attributes\":{\"data_source\":{\"id\":\"1235\"},\"glyph\":{\"id\":\"1236\"},\"hover_glyph\":null,\"muted_glyph\":null,\"nonselection_glyph\":{\"id\":\"1237\"},\"view\":{\"id\":\"1239\"}},\"id\":\"1238\",\"type\":\"GlyphRenderer\"},{\"attributes\":{},\"id\":\"1221\",\"type\":\"PanTool\"},{\"attributes\":{},\"id\":\"1222\",\"type\":\"WheelZoomTool\"},{\"attributes\":{\"bottom_units\":\"screen\",\"fill_alpha\":0.5,\"fill_color\":\"lightgrey\",\"left_units\":\"screen\",\"level\":\"overlay\",\"line_alpha\":1.0,\"line_color\":\"black\",\"line_dash\":[4,4],\"line_width\":2,\"right_units\":\"screen\",\"syncable\":false,\"top_units\":\"screen\"},\"id\":\"1227\",\"type\":\"BoxAnnotation\"},{\"attributes\":{\"overlay\":{\"id\":\"1227\"}},\"id\":\"1223\",\"type\":\"BoxZoomTool\"},{\"attributes\":{},\"id\":\"1207\",\"type\":\"DataRange1d\"},{\"attributes\":{\"formatter\":{\"id\":\"1253\"},\"major_label_policy\":{\"id\":\"1255\"},\"ticker\":{\"id\":\"1214\"}},\"id\":\"1213\",\"type\":\"LinearAxis\"},{\"attributes\":{},\"id\":\"1258\",\"type\":\"AllLabels\"},{\"attributes\":{},\"id\":\"1214\",\"type\":\"BasicTicker\"},{\"attributes\":{},\"id\":\"1256\",\"type\":\"BasicTickFormatter\"},{\"attributes\":{\"active_multi\":null,\"tools\":[{\"id\":\"1221\"},{\"id\":\"1222\"},{\"id\":\"1223\"},{\"id\":\"1224\"},{\"id\":\"1225\"},{\"id\":\"1226\"}]},\"id\":\"1228\",\"type\":\"Toolbar\"},{\"attributes\":{\"line_color\":\"green\",\"line_width\":2,\"x\":{\"field\":\"x\"},\"y\":{\"field\":\"y\"}},\"id\":\"1236\",\"type\":\"Line\"},{\"attributes\":{},\"id\":\"1261\",\"type\":\"UnionRenderers\"},{\"attributes\":{},\"id\":\"1255\",\"type\":\"AllLabels\"},{\"attributes\":{},\"id\":\"1218\",\"type\":\"BasicTicker\"},{\"attributes\":{\"axis\":{\"id\":\"1217\"},\"dimension\":1,\"ticker\":null},\"id\":\"1220\",\"type\":\"Grid\"},{\"attributes\":{},\"id\":\"1253\",\"type\":\"BasicTickFormatter\"},{\"attributes\":{\"axis\":{\"id\":\"1213\"},\"ticker\":null},\"id\":\"1216\",\"type\":\"Grid\"},{\"attributes\":{},\"id\":\"1209\",\"type\":\"LinearScale\"},{\"attributes\":{},\"id\":\"1211\",\"type\":\"LinearScale\"},{\"attributes\":{},\"id\":\"1251\",\"type\":\"Title\"},{\"attributes\":{},\"id\":\"1225\",\"type\":\"ResetTool\"},{\"attributes\":{},\"id\":\"1226\",\"type\":\"HelpTool\"},{\"attributes\":{\"source\":{\"id\":\"1235\"}},\"id\":\"1239\",\"type\":\"CDSView\"},{\"attributes\":{\"formatter\":{\"id\":\"1256\"},\"major_label_policy\":{\"id\":\"1258\"},\"ticker\":{\"id\":\"1218\"}},\"id\":\"1217\",\"type\":\"LinearAxis\"},{\"attributes\":{},\"id\":\"1205\",\"type\":\"DataRange1d\"},{\"attributes\":{\"line_alpha\":0.1,\"line_color\":\"green\",\"line_width\":2,\"x\":{\"field\":\"x\"},\"y\":{\"field\":\"y\"}},\"id\":\"1237\",\"type\":\"Line\"},{\"attributes\":{},\"id\":\"1260\",\"type\":\"Selection\"},{\"attributes\":{\"data\":{\"x\":[1,2,3,4,5],\"y\":[3,1,2,6,5]},\"selected\":{\"id\":\"1260\"},\"selection_policy\":{\"id\":\"1261\"}},\"id\":\"1235\",\"type\":\"ColumnDataSource\"},{\"attributes\":{},\"id\":\"1224\",\"type\":\"SaveTool\"}],\"root_ids\":[\"1204\"]},\"title\":\"Bokeh Application\",\"version\":\"2.3.3\"}};\n",
              "  var render_items = [{\"docid\":\"7fa8c5b6-8c70-4834-b4f1-0d92a199c0e7\",\"root_ids\":[\"1204\"],\"roots\":{\"1204\":\"a47e6b85-67c4-4d37-aa32-e16a13821606\"}}];\n",
              "  root.Bokeh.embed.embed_items_notebook(docs_json, render_items);\n",
              "\n",
              "  }\n",
              "  if (root.Bokeh !== undefined) {\n",
              "    embed_document(root);\n",
              "  } else {\n",
              "    var attempts = 0;\n",
              "    var timer = setInterval(function(root) {\n",
              "      if (root.Bokeh !== undefined) {\n",
              "        clearInterval(timer);\n",
              "        embed_document(root);\n",
              "      } else {\n",
              "        attempts++;\n",
              "        if (attempts > 100) {\n",
              "          clearInterval(timer);\n",
              "          console.log(\"Bokeh: ERROR: Unable to run BokehJS code because BokehJS library is missing\");\n",
              "        }\n",
              "      }\n",
              "    }, 10, root)\n",
              "  }\n",
              "})(window);"
            ],
            "application/vnd.bokehjs_exec.v0+json": ""
          },
          "metadata": {
            "application/vnd.bokehjs_exec.v0+json": {
              "id": "1204"
            }
          }
        }
      ]
    },
    {
      "cell_type": "markdown",
      "metadata": {
        "id": "kgMBi-S4EJcp"
      },
      "source": [
        "---"
      ]
    },
    {
      "cell_type": "markdown",
      "metadata": {
        "id": "XWDu9s2DdI58"
      },
      "source": [
        "#### Task 2: Plotly\n",
        "\n",
        "Plotly ([plot.ly](https://plotly.com) as its URL goes), is a tech-computing company based in Montreal. It is known for developing and providing online analytics, statistics, and graphing tools for individuals or companies. It also develops/provides scientific graphing libraries for Arduino, Julia, MATLAB, Perl, Python, R, and REST.\n",
        "\n",
        "\n",
        "Plotly’s Python graphing library makes interactive graphs online and allows us to save them offline if need be.\n",
        "\n",
        "Plotly has got some amazing features that make it better than other graphing libraries:\n",
        "\n",
        "- It is interactive by default.\n",
        "- Charts are not saved as images but serialized as JSON, making them open to be read with R, MATLAB, Julia, and others easily.\n",
        "- Exports vector for print/publication.\n",
        "- Easy to manipulate/embed on the web.\n",
        "\n",
        "To install and upgrade this module, type the below command on the terminal:\n",
        "\n",
        "`!pip install --upgrade plotly`\n"
      ]
    },
    {
      "cell_type": "code",
      "metadata": {
        "colab": {
          "base_uri": "https://localhost:8080/"
        },
        "id": "hQnufirJFuRR",
        "outputId": "4f53ae6d-7a06-437f-966b-346fbb035382"
      },
      "source": [
        "!pip install --upgrade plotly"
      ],
      "execution_count": null,
      "outputs": [
        {
          "output_type": "stream",
          "name": "stdout",
          "text": [
            "Requirement already satisfied: plotly in /usr/local/lib/python3.7/dist-packages (4.4.1)\n",
            "Collecting plotly\n",
            "  Downloading plotly-5.5.0-py2.py3-none-any.whl (26.5 MB)\n",
            "\u001b[K     |████████████████████████████████| 26.5 MB 1.5 MB/s \n",
            "\u001b[?25hCollecting tenacity>=6.2.0\n",
            "  Downloading tenacity-8.0.1-py3-none-any.whl (24 kB)\n",
            "Requirement already satisfied: six in /usr/local/lib/python3.7/dist-packages (from plotly) (1.15.0)\n",
            "Installing collected packages: tenacity, plotly\n",
            "  Attempting uninstall: plotly\n",
            "    Found existing installation: plotly 4.4.1\n",
            "    Uninstalling plotly-4.4.1:\n",
            "      Successfully uninstalled plotly-4.4.1\n",
            "Successfully installed plotly-5.5.0 tenacity-8.0.1\n"
          ]
        }
      ]
    },
    {
      "cell_type": "markdown",
      "metadata": {
        "id": "rLX6jwErGSLK"
      },
      "source": [
        "\n",
        "Let’s create some plots using this module\n",
        "\n",
        "**1. Scatter Plot:**  \n",
        "- Scatter plots represent values for two different numeric variables. \n",
        "- They are mainly used for the representation of the relationship between two variables.\n",
        "- It can be created using the `scatter()` function of `plotly.express`\n",
        "\n",
        "Syntax of scatter plot using `plotly`: `plotly.express.scatter(X, y)`"
      ]
    },
    {
      "cell_type": "code",
      "metadata": {
        "colab": {
          "base_uri": "https://localhost:8080/",
          "height": 542
        },
        "id": "7Ij2I4QTEmjh",
        "outputId": "45674f18-c7e5-4f4d-c21e-3d1c78905605"
      },
      "source": [
        "# S2.1: Create scatter plot using plotly\n",
        "import plotly.express as px\n",
        "import numpy as np\n",
        "\t\n",
        "# creating random data through randomint\n",
        "# function of numpy.random\n",
        "np.random.seed(42)\n",
        "\t\n",
        "random_x= np.random.randint(1,101,100)\n",
        "random_y= np.random.randint(1,101,100)\n",
        "\t\n",
        "plot = px.scatter(random_x, random_y)\n",
        "plot.show()\n"
      ],
      "execution_count": null,
      "outputs": [
        {
          "output_type": "display_data",
          "data": {
            "text/html": [
              "<html>\n",
              "<head><meta charset=\"utf-8\" /></head>\n",
              "<body>\n",
              "    <div>            <script src=\"https://cdnjs.cloudflare.com/ajax/libs/mathjax/2.7.5/MathJax.js?config=TeX-AMS-MML_SVG\"></script><script type=\"text/javascript\">if (window.MathJax) {MathJax.Hub.Config({SVG: {font: \"STIX-Web\"}});}</script>                <script type=\"text/javascript\">window.PlotlyConfig = {MathJaxConfig: 'local'};</script>\n",
              "        <script src=\"https://cdn.plot.ly/plotly-2.8.3.min.js\"></script>                <div id=\"220d3b8e-e2ba-4dff-9a99-620fba056016\" class=\"plotly-graph-div\" style=\"height:525px; width:100%;\"></div>            <script type=\"text/javascript\">                                    window.PLOTLYENV=window.PLOTLYENV || {};                                    if (document.getElementById(\"220d3b8e-e2ba-4dff-9a99-620fba056016\")) {                    Plotly.newPlot(                        \"220d3b8e-e2ba-4dff-9a99-620fba056016\",                        [{\"hovertemplate\":\"x=%{x}<br>index=%{y}<extra></extra>\",\"legendgroup\":\"\",\"marker\":{\"color\":\"#636efa\",\"symbol\":\"circle\"},\"mode\":\"markers\",\"name\":\"\",\"orientation\":\"h\",\"showlegend\":false,\"x\":[26,89,60,41,29,15,45,65,89,71,9,88,1,8,88,63,11,81,8,35,35,33,5,41,28,7,73,72,12,34,33,48,23,62,88,37,99,44,86,91,35,65,99,47,78,3,1,5,90,14,27,9,79,15,90,42,77,51,63,96,52,96,4,94,23,15,43,29,36,13,32,71,59,86,28,66,42,45,62,57,6,28,28,44,84,30,62,75,92,89,62,97,1,27,62,77,3,70,72,27],\"xaxis\":\"x\",\"y\":[0,1,2,3,4,5,6,7,8,9,10,11,12,13,14,15,16,17,18,19,20,21,22,23,24,25,26,27,28,29,30,31,32,33,34,35,36,37,38,39,40,41,42,43,44,45,46,47,48,49,50,51,52,53,54,55,56,57,58,59,60,61,62,63,64,65,66,67,68,69,70,71,72,73,74,75,76,77,78,79,80,81,82,83,84,85,86,87,88,89,90,91,92,93,94,95,96,97,98,99],\"yaxis\":\"y\",\"type\":\"scatter\"}],                        {\"template\":{\"data\":{\"bar\":[{\"error_x\":{\"color\":\"#2a3f5f\"},\"error_y\":{\"color\":\"#2a3f5f\"},\"marker\":{\"line\":{\"color\":\"#E5ECF6\",\"width\":0.5},\"pattern\":{\"fillmode\":\"overlay\",\"size\":10,\"solidity\":0.2}},\"type\":\"bar\"}],\"barpolar\":[{\"marker\":{\"line\":{\"color\":\"#E5ECF6\",\"width\":0.5},\"pattern\":{\"fillmode\":\"overlay\",\"size\":10,\"solidity\":0.2}},\"type\":\"barpolar\"}],\"carpet\":[{\"aaxis\":{\"endlinecolor\":\"#2a3f5f\",\"gridcolor\":\"white\",\"linecolor\":\"white\",\"minorgridcolor\":\"white\",\"startlinecolor\":\"#2a3f5f\"},\"baxis\":{\"endlinecolor\":\"#2a3f5f\",\"gridcolor\":\"white\",\"linecolor\":\"white\",\"minorgridcolor\":\"white\",\"startlinecolor\":\"#2a3f5f\"},\"type\":\"carpet\"}],\"choropleth\":[{\"colorbar\":{\"outlinewidth\":0,\"ticks\":\"\"},\"type\":\"choropleth\"}],\"contour\":[{\"colorbar\":{\"outlinewidth\":0,\"ticks\":\"\"},\"colorscale\":[[0.0,\"#0d0887\"],[0.1111111111111111,\"#46039f\"],[0.2222222222222222,\"#7201a8\"],[0.3333333333333333,\"#9c179e\"],[0.4444444444444444,\"#bd3786\"],[0.5555555555555556,\"#d8576b\"],[0.6666666666666666,\"#ed7953\"],[0.7777777777777778,\"#fb9f3a\"],[0.8888888888888888,\"#fdca26\"],[1.0,\"#f0f921\"]],\"type\":\"contour\"}],\"contourcarpet\":[{\"colorbar\":{\"outlinewidth\":0,\"ticks\":\"\"},\"type\":\"contourcarpet\"}],\"heatmap\":[{\"colorbar\":{\"outlinewidth\":0,\"ticks\":\"\"},\"colorscale\":[[0.0,\"#0d0887\"],[0.1111111111111111,\"#46039f\"],[0.2222222222222222,\"#7201a8\"],[0.3333333333333333,\"#9c179e\"],[0.4444444444444444,\"#bd3786\"],[0.5555555555555556,\"#d8576b\"],[0.6666666666666666,\"#ed7953\"],[0.7777777777777778,\"#fb9f3a\"],[0.8888888888888888,\"#fdca26\"],[1.0,\"#f0f921\"]],\"type\":\"heatmap\"}],\"heatmapgl\":[{\"colorbar\":{\"outlinewidth\":0,\"ticks\":\"\"},\"colorscale\":[[0.0,\"#0d0887\"],[0.1111111111111111,\"#46039f\"],[0.2222222222222222,\"#7201a8\"],[0.3333333333333333,\"#9c179e\"],[0.4444444444444444,\"#bd3786\"],[0.5555555555555556,\"#d8576b\"],[0.6666666666666666,\"#ed7953\"],[0.7777777777777778,\"#fb9f3a\"],[0.8888888888888888,\"#fdca26\"],[1.0,\"#f0f921\"]],\"type\":\"heatmapgl\"}],\"histogram\":[{\"marker\":{\"pattern\":{\"fillmode\":\"overlay\",\"size\":10,\"solidity\":0.2}},\"type\":\"histogram\"}],\"histogram2d\":[{\"colorbar\":{\"outlinewidth\":0,\"ticks\":\"\"},\"colorscale\":[[0.0,\"#0d0887\"],[0.1111111111111111,\"#46039f\"],[0.2222222222222222,\"#7201a8\"],[0.3333333333333333,\"#9c179e\"],[0.4444444444444444,\"#bd3786\"],[0.5555555555555556,\"#d8576b\"],[0.6666666666666666,\"#ed7953\"],[0.7777777777777778,\"#fb9f3a\"],[0.8888888888888888,\"#fdca26\"],[1.0,\"#f0f921\"]],\"type\":\"histogram2d\"}],\"histogram2dcontour\":[{\"colorbar\":{\"outlinewidth\":0,\"ticks\":\"\"},\"colorscale\":[[0.0,\"#0d0887\"],[0.1111111111111111,\"#46039f\"],[0.2222222222222222,\"#7201a8\"],[0.3333333333333333,\"#9c179e\"],[0.4444444444444444,\"#bd3786\"],[0.5555555555555556,\"#d8576b\"],[0.6666666666666666,\"#ed7953\"],[0.7777777777777778,\"#fb9f3a\"],[0.8888888888888888,\"#fdca26\"],[1.0,\"#f0f921\"]],\"type\":\"histogram2dcontour\"}],\"mesh3d\":[{\"colorbar\":{\"outlinewidth\":0,\"ticks\":\"\"},\"type\":\"mesh3d\"}],\"parcoords\":[{\"line\":{\"colorbar\":{\"outlinewidth\":0,\"ticks\":\"\"}},\"type\":\"parcoords\"}],\"pie\":[{\"automargin\":true,\"type\":\"pie\"}],\"scatter\":[{\"marker\":{\"colorbar\":{\"outlinewidth\":0,\"ticks\":\"\"}},\"type\":\"scatter\"}],\"scatter3d\":[{\"line\":{\"colorbar\":{\"outlinewidth\":0,\"ticks\":\"\"}},\"marker\":{\"colorbar\":{\"outlinewidth\":0,\"ticks\":\"\"}},\"type\":\"scatter3d\"}],\"scattercarpet\":[{\"marker\":{\"colorbar\":{\"outlinewidth\":0,\"ticks\":\"\"}},\"type\":\"scattercarpet\"}],\"scattergeo\":[{\"marker\":{\"colorbar\":{\"outlinewidth\":0,\"ticks\":\"\"}},\"type\":\"scattergeo\"}],\"scattergl\":[{\"marker\":{\"colorbar\":{\"outlinewidth\":0,\"ticks\":\"\"}},\"type\":\"scattergl\"}],\"scattermapbox\":[{\"marker\":{\"colorbar\":{\"outlinewidth\":0,\"ticks\":\"\"}},\"type\":\"scattermapbox\"}],\"scatterpolar\":[{\"marker\":{\"colorbar\":{\"outlinewidth\":0,\"ticks\":\"\"}},\"type\":\"scatterpolar\"}],\"scatterpolargl\":[{\"marker\":{\"colorbar\":{\"outlinewidth\":0,\"ticks\":\"\"}},\"type\":\"scatterpolargl\"}],\"scatterternary\":[{\"marker\":{\"colorbar\":{\"outlinewidth\":0,\"ticks\":\"\"}},\"type\":\"scatterternary\"}],\"surface\":[{\"colorbar\":{\"outlinewidth\":0,\"ticks\":\"\"},\"colorscale\":[[0.0,\"#0d0887\"],[0.1111111111111111,\"#46039f\"],[0.2222222222222222,\"#7201a8\"],[0.3333333333333333,\"#9c179e\"],[0.4444444444444444,\"#bd3786\"],[0.5555555555555556,\"#d8576b\"],[0.6666666666666666,\"#ed7953\"],[0.7777777777777778,\"#fb9f3a\"],[0.8888888888888888,\"#fdca26\"],[1.0,\"#f0f921\"]],\"type\":\"surface\"}],\"table\":[{\"cells\":{\"fill\":{\"color\":\"#EBF0F8\"},\"line\":{\"color\":\"white\"}},\"header\":{\"fill\":{\"color\":\"#C8D4E3\"},\"line\":{\"color\":\"white\"}},\"type\":\"table\"}]},\"layout\":{\"annotationdefaults\":{\"arrowcolor\":\"#2a3f5f\",\"arrowhead\":0,\"arrowwidth\":1},\"autotypenumbers\":\"strict\",\"coloraxis\":{\"colorbar\":{\"outlinewidth\":0,\"ticks\":\"\"}},\"colorscale\":{\"diverging\":[[0,\"#8e0152\"],[0.1,\"#c51b7d\"],[0.2,\"#de77ae\"],[0.3,\"#f1b6da\"],[0.4,\"#fde0ef\"],[0.5,\"#f7f7f7\"],[0.6,\"#e6f5d0\"],[0.7,\"#b8e186\"],[0.8,\"#7fbc41\"],[0.9,\"#4d9221\"],[1,\"#276419\"]],\"sequential\":[[0.0,\"#0d0887\"],[0.1111111111111111,\"#46039f\"],[0.2222222222222222,\"#7201a8\"],[0.3333333333333333,\"#9c179e\"],[0.4444444444444444,\"#bd3786\"],[0.5555555555555556,\"#d8576b\"],[0.6666666666666666,\"#ed7953\"],[0.7777777777777778,\"#fb9f3a\"],[0.8888888888888888,\"#fdca26\"],[1.0,\"#f0f921\"]],\"sequentialminus\":[[0.0,\"#0d0887\"],[0.1111111111111111,\"#46039f\"],[0.2222222222222222,\"#7201a8\"],[0.3333333333333333,\"#9c179e\"],[0.4444444444444444,\"#bd3786\"],[0.5555555555555556,\"#d8576b\"],[0.6666666666666666,\"#ed7953\"],[0.7777777777777778,\"#fb9f3a\"],[0.8888888888888888,\"#fdca26\"],[1.0,\"#f0f921\"]]},\"colorway\":[\"#636efa\",\"#EF553B\",\"#00cc96\",\"#ab63fa\",\"#FFA15A\",\"#19d3f3\",\"#FF6692\",\"#B6E880\",\"#FF97FF\",\"#FECB52\"],\"font\":{\"color\":\"#2a3f5f\"},\"geo\":{\"bgcolor\":\"white\",\"lakecolor\":\"white\",\"landcolor\":\"#E5ECF6\",\"showlakes\":true,\"showland\":true,\"subunitcolor\":\"white\"},\"hoverlabel\":{\"align\":\"left\"},\"hovermode\":\"closest\",\"mapbox\":{\"style\":\"light\"},\"paper_bgcolor\":\"white\",\"plot_bgcolor\":\"#E5ECF6\",\"polar\":{\"angularaxis\":{\"gridcolor\":\"white\",\"linecolor\":\"white\",\"ticks\":\"\"},\"bgcolor\":\"#E5ECF6\",\"radialaxis\":{\"gridcolor\":\"white\",\"linecolor\":\"white\",\"ticks\":\"\"}},\"scene\":{\"xaxis\":{\"backgroundcolor\":\"#E5ECF6\",\"gridcolor\":\"white\",\"gridwidth\":2,\"linecolor\":\"white\",\"showbackground\":true,\"ticks\":\"\",\"zerolinecolor\":\"white\"},\"yaxis\":{\"backgroundcolor\":\"#E5ECF6\",\"gridcolor\":\"white\",\"gridwidth\":2,\"linecolor\":\"white\",\"showbackground\":true,\"ticks\":\"\",\"zerolinecolor\":\"white\"},\"zaxis\":{\"backgroundcolor\":\"#E5ECF6\",\"gridcolor\":\"white\",\"gridwidth\":2,\"linecolor\":\"white\",\"showbackground\":true,\"ticks\":\"\",\"zerolinecolor\":\"white\"}},\"shapedefaults\":{\"line\":{\"color\":\"#2a3f5f\"}},\"ternary\":{\"aaxis\":{\"gridcolor\":\"white\",\"linecolor\":\"white\",\"ticks\":\"\"},\"baxis\":{\"gridcolor\":\"white\",\"linecolor\":\"white\",\"ticks\":\"\"},\"bgcolor\":\"#E5ECF6\",\"caxis\":{\"gridcolor\":\"white\",\"linecolor\":\"white\",\"ticks\":\"\"}},\"title\":{\"x\":0.05},\"xaxis\":{\"automargin\":true,\"gridcolor\":\"white\",\"linecolor\":\"white\",\"ticks\":\"\",\"title\":{\"standoff\":15},\"zerolinecolor\":\"white\",\"zerolinewidth\":2},\"yaxis\":{\"automargin\":true,\"gridcolor\":\"white\",\"linecolor\":\"white\",\"ticks\":\"\",\"title\":{\"standoff\":15},\"zerolinecolor\":\"white\",\"zerolinewidth\":2}}},\"xaxis\":{\"anchor\":\"y\",\"domain\":[0.0,1.0],\"title\":{\"text\":\"x\"}},\"yaxis\":{\"anchor\":\"x\",\"domain\":[0.0,1.0],\"title\":{\"text\":\"index\"}},\"legend\":{\"tracegroupgap\":0},\"margin\":{\"t\":60}},                        {\"responsive\": true}                    ).then(function(){\n",
              "                            \n",
              "var gd = document.getElementById('220d3b8e-e2ba-4dff-9a99-620fba056016');\n",
              "var x = new MutationObserver(function (mutations, observer) {{\n",
              "        var display = window.getComputedStyle(gd).display;\n",
              "        if (!display || display === 'none') {{\n",
              "            console.log([gd, 'removed!']);\n",
              "            Plotly.purge(gd);\n",
              "            observer.disconnect();\n",
              "        }}\n",
              "}});\n",
              "\n",
              "// Listen for the removal of the full notebook cells\n",
              "var notebookContainer = gd.closest('#notebook-container');\n",
              "if (notebookContainer) {{\n",
              "    x.observe(notebookContainer, {childList: true});\n",
              "}}\n",
              "\n",
              "// Listen for the clearing of the current output cell\n",
              "var outputEl = gd.closest('.output');\n",
              "if (outputEl) {{\n",
              "    x.observe(outputEl, {childList: true});\n",
              "}}\n",
              "\n",
              "                        })                };                            </script>        </div>\n",
              "</body>\n",
              "</html>"
            ]
          },
          "metadata": {}
        }
      ]
    },
    {
      "cell_type": "markdown",
      "metadata": {
        "id": "ax8r2YpaHxa5"
      },
      "source": [
        "**2. Pie Plot:**\n",
        "\n",
        "- A pie chart is a circular analytical chart, which is divided into a region to symbolize numerical percentage. \n",
        "- The pie chart is used usually to show the percentage with the next corresponding slice of pie. \n",
        "- The pie chart helps to make understand well because of its different portions and color codings.\n",
        "\n",
        "Syntax of pie chart using `plotly`: `plotly.express.pie(data_frame)`"
      ]
    },
    {
      "cell_type": "code",
      "metadata": {
        "colab": {
          "base_uri": "https://localhost:8080/",
          "height": 542
        },
        "id": "SflZ-5s4HsJL",
        "outputId": "d79cdde8-0b13-4e47-cdd0-99a6946aac82"
      },
      "source": [
        "# S2.2: Create pie plot using plotly\n",
        "import plotly.express as px\n",
        "import numpy\n",
        " \n",
        "# Random Data\n",
        "random_x = [100, 2000, 550]\n",
        "names = ['A', 'B', 'C']\n",
        " \n",
        "fig = px.pie(values=random_x, names=names)\n",
        "fig.show()"
      ],
      "execution_count": null,
      "outputs": [
        {
          "output_type": "display_data",
          "data": {
            "text/html": [
              "<html>\n",
              "<head><meta charset=\"utf-8\" /></head>\n",
              "<body>\n",
              "    <div>            <script src=\"https://cdnjs.cloudflare.com/ajax/libs/mathjax/2.7.5/MathJax.js?config=TeX-AMS-MML_SVG\"></script><script type=\"text/javascript\">if (window.MathJax) {MathJax.Hub.Config({SVG: {font: \"STIX-Web\"}});}</script>                <script type=\"text/javascript\">window.PlotlyConfig = {MathJaxConfig: 'local'};</script>\n",
              "        <script src=\"https://cdn.plot.ly/plotly-2.8.3.min.js\"></script>                <div id=\"f601763a-beac-4f3b-afba-a54aa2309c02\" class=\"plotly-graph-div\" style=\"height:525px; width:100%;\"></div>            <script type=\"text/javascript\">                                    window.PLOTLYENV=window.PLOTLYENV || {};                                    if (document.getElementById(\"f601763a-beac-4f3b-afba-a54aa2309c02\")) {                    Plotly.newPlot(                        \"f601763a-beac-4f3b-afba-a54aa2309c02\",                        [{\"domain\":{\"x\":[0.0,1.0],\"y\":[0.0,1.0]},\"hovertemplate\":\"label=%{label}<br>value=%{value}<extra></extra>\",\"labels\":[\"A\",\"B\",\"C\"],\"legendgroup\":\"\",\"name\":\"\",\"showlegend\":true,\"values\":[100,2000,550],\"type\":\"pie\"}],                        {\"template\":{\"data\":{\"bar\":[{\"error_x\":{\"color\":\"#2a3f5f\"},\"error_y\":{\"color\":\"#2a3f5f\"},\"marker\":{\"line\":{\"color\":\"#E5ECF6\",\"width\":0.5},\"pattern\":{\"fillmode\":\"overlay\",\"size\":10,\"solidity\":0.2}},\"type\":\"bar\"}],\"barpolar\":[{\"marker\":{\"line\":{\"color\":\"#E5ECF6\",\"width\":0.5},\"pattern\":{\"fillmode\":\"overlay\",\"size\":10,\"solidity\":0.2}},\"type\":\"barpolar\"}],\"carpet\":[{\"aaxis\":{\"endlinecolor\":\"#2a3f5f\",\"gridcolor\":\"white\",\"linecolor\":\"white\",\"minorgridcolor\":\"white\",\"startlinecolor\":\"#2a3f5f\"},\"baxis\":{\"endlinecolor\":\"#2a3f5f\",\"gridcolor\":\"white\",\"linecolor\":\"white\",\"minorgridcolor\":\"white\",\"startlinecolor\":\"#2a3f5f\"},\"type\":\"carpet\"}],\"choropleth\":[{\"colorbar\":{\"outlinewidth\":0,\"ticks\":\"\"},\"type\":\"choropleth\"}],\"contour\":[{\"colorbar\":{\"outlinewidth\":0,\"ticks\":\"\"},\"colorscale\":[[0.0,\"#0d0887\"],[0.1111111111111111,\"#46039f\"],[0.2222222222222222,\"#7201a8\"],[0.3333333333333333,\"#9c179e\"],[0.4444444444444444,\"#bd3786\"],[0.5555555555555556,\"#d8576b\"],[0.6666666666666666,\"#ed7953\"],[0.7777777777777778,\"#fb9f3a\"],[0.8888888888888888,\"#fdca26\"],[1.0,\"#f0f921\"]],\"type\":\"contour\"}],\"contourcarpet\":[{\"colorbar\":{\"outlinewidth\":0,\"ticks\":\"\"},\"type\":\"contourcarpet\"}],\"heatmap\":[{\"colorbar\":{\"outlinewidth\":0,\"ticks\":\"\"},\"colorscale\":[[0.0,\"#0d0887\"],[0.1111111111111111,\"#46039f\"],[0.2222222222222222,\"#7201a8\"],[0.3333333333333333,\"#9c179e\"],[0.4444444444444444,\"#bd3786\"],[0.5555555555555556,\"#d8576b\"],[0.6666666666666666,\"#ed7953\"],[0.7777777777777778,\"#fb9f3a\"],[0.8888888888888888,\"#fdca26\"],[1.0,\"#f0f921\"]],\"type\":\"heatmap\"}],\"heatmapgl\":[{\"colorbar\":{\"outlinewidth\":0,\"ticks\":\"\"},\"colorscale\":[[0.0,\"#0d0887\"],[0.1111111111111111,\"#46039f\"],[0.2222222222222222,\"#7201a8\"],[0.3333333333333333,\"#9c179e\"],[0.4444444444444444,\"#bd3786\"],[0.5555555555555556,\"#d8576b\"],[0.6666666666666666,\"#ed7953\"],[0.7777777777777778,\"#fb9f3a\"],[0.8888888888888888,\"#fdca26\"],[1.0,\"#f0f921\"]],\"type\":\"heatmapgl\"}],\"histogram\":[{\"marker\":{\"pattern\":{\"fillmode\":\"overlay\",\"size\":10,\"solidity\":0.2}},\"type\":\"histogram\"}],\"histogram2d\":[{\"colorbar\":{\"outlinewidth\":0,\"ticks\":\"\"},\"colorscale\":[[0.0,\"#0d0887\"],[0.1111111111111111,\"#46039f\"],[0.2222222222222222,\"#7201a8\"],[0.3333333333333333,\"#9c179e\"],[0.4444444444444444,\"#bd3786\"],[0.5555555555555556,\"#d8576b\"],[0.6666666666666666,\"#ed7953\"],[0.7777777777777778,\"#fb9f3a\"],[0.8888888888888888,\"#fdca26\"],[1.0,\"#f0f921\"]],\"type\":\"histogram2d\"}],\"histogram2dcontour\":[{\"colorbar\":{\"outlinewidth\":0,\"ticks\":\"\"},\"colorscale\":[[0.0,\"#0d0887\"],[0.1111111111111111,\"#46039f\"],[0.2222222222222222,\"#7201a8\"],[0.3333333333333333,\"#9c179e\"],[0.4444444444444444,\"#bd3786\"],[0.5555555555555556,\"#d8576b\"],[0.6666666666666666,\"#ed7953\"],[0.7777777777777778,\"#fb9f3a\"],[0.8888888888888888,\"#fdca26\"],[1.0,\"#f0f921\"]],\"type\":\"histogram2dcontour\"}],\"mesh3d\":[{\"colorbar\":{\"outlinewidth\":0,\"ticks\":\"\"},\"type\":\"mesh3d\"}],\"parcoords\":[{\"line\":{\"colorbar\":{\"outlinewidth\":0,\"ticks\":\"\"}},\"type\":\"parcoords\"}],\"pie\":[{\"automargin\":true,\"type\":\"pie\"}],\"scatter\":[{\"marker\":{\"colorbar\":{\"outlinewidth\":0,\"ticks\":\"\"}},\"type\":\"scatter\"}],\"scatter3d\":[{\"line\":{\"colorbar\":{\"outlinewidth\":0,\"ticks\":\"\"}},\"marker\":{\"colorbar\":{\"outlinewidth\":0,\"ticks\":\"\"}},\"type\":\"scatter3d\"}],\"scattercarpet\":[{\"marker\":{\"colorbar\":{\"outlinewidth\":0,\"ticks\":\"\"}},\"type\":\"scattercarpet\"}],\"scattergeo\":[{\"marker\":{\"colorbar\":{\"outlinewidth\":0,\"ticks\":\"\"}},\"type\":\"scattergeo\"}],\"scattergl\":[{\"marker\":{\"colorbar\":{\"outlinewidth\":0,\"ticks\":\"\"}},\"type\":\"scattergl\"}],\"scattermapbox\":[{\"marker\":{\"colorbar\":{\"outlinewidth\":0,\"ticks\":\"\"}},\"type\":\"scattermapbox\"}],\"scatterpolar\":[{\"marker\":{\"colorbar\":{\"outlinewidth\":0,\"ticks\":\"\"}},\"type\":\"scatterpolar\"}],\"scatterpolargl\":[{\"marker\":{\"colorbar\":{\"outlinewidth\":0,\"ticks\":\"\"}},\"type\":\"scatterpolargl\"}],\"scatterternary\":[{\"marker\":{\"colorbar\":{\"outlinewidth\":0,\"ticks\":\"\"}},\"type\":\"scatterternary\"}],\"surface\":[{\"colorbar\":{\"outlinewidth\":0,\"ticks\":\"\"},\"colorscale\":[[0.0,\"#0d0887\"],[0.1111111111111111,\"#46039f\"],[0.2222222222222222,\"#7201a8\"],[0.3333333333333333,\"#9c179e\"],[0.4444444444444444,\"#bd3786\"],[0.5555555555555556,\"#d8576b\"],[0.6666666666666666,\"#ed7953\"],[0.7777777777777778,\"#fb9f3a\"],[0.8888888888888888,\"#fdca26\"],[1.0,\"#f0f921\"]],\"type\":\"surface\"}],\"table\":[{\"cells\":{\"fill\":{\"color\":\"#EBF0F8\"},\"line\":{\"color\":\"white\"}},\"header\":{\"fill\":{\"color\":\"#C8D4E3\"},\"line\":{\"color\":\"white\"}},\"type\":\"table\"}]},\"layout\":{\"annotationdefaults\":{\"arrowcolor\":\"#2a3f5f\",\"arrowhead\":0,\"arrowwidth\":1},\"autotypenumbers\":\"strict\",\"coloraxis\":{\"colorbar\":{\"outlinewidth\":0,\"ticks\":\"\"}},\"colorscale\":{\"diverging\":[[0,\"#8e0152\"],[0.1,\"#c51b7d\"],[0.2,\"#de77ae\"],[0.3,\"#f1b6da\"],[0.4,\"#fde0ef\"],[0.5,\"#f7f7f7\"],[0.6,\"#e6f5d0\"],[0.7,\"#b8e186\"],[0.8,\"#7fbc41\"],[0.9,\"#4d9221\"],[1,\"#276419\"]],\"sequential\":[[0.0,\"#0d0887\"],[0.1111111111111111,\"#46039f\"],[0.2222222222222222,\"#7201a8\"],[0.3333333333333333,\"#9c179e\"],[0.4444444444444444,\"#bd3786\"],[0.5555555555555556,\"#d8576b\"],[0.6666666666666666,\"#ed7953\"],[0.7777777777777778,\"#fb9f3a\"],[0.8888888888888888,\"#fdca26\"],[1.0,\"#f0f921\"]],\"sequentialminus\":[[0.0,\"#0d0887\"],[0.1111111111111111,\"#46039f\"],[0.2222222222222222,\"#7201a8\"],[0.3333333333333333,\"#9c179e\"],[0.4444444444444444,\"#bd3786\"],[0.5555555555555556,\"#d8576b\"],[0.6666666666666666,\"#ed7953\"],[0.7777777777777778,\"#fb9f3a\"],[0.8888888888888888,\"#fdca26\"],[1.0,\"#f0f921\"]]},\"colorway\":[\"#636efa\",\"#EF553B\",\"#00cc96\",\"#ab63fa\",\"#FFA15A\",\"#19d3f3\",\"#FF6692\",\"#B6E880\",\"#FF97FF\",\"#FECB52\"],\"font\":{\"color\":\"#2a3f5f\"},\"geo\":{\"bgcolor\":\"white\",\"lakecolor\":\"white\",\"landcolor\":\"#E5ECF6\",\"showlakes\":true,\"showland\":true,\"subunitcolor\":\"white\"},\"hoverlabel\":{\"align\":\"left\"},\"hovermode\":\"closest\",\"mapbox\":{\"style\":\"light\"},\"paper_bgcolor\":\"white\",\"plot_bgcolor\":\"#E5ECF6\",\"polar\":{\"angularaxis\":{\"gridcolor\":\"white\",\"linecolor\":\"white\",\"ticks\":\"\"},\"bgcolor\":\"#E5ECF6\",\"radialaxis\":{\"gridcolor\":\"white\",\"linecolor\":\"white\",\"ticks\":\"\"}},\"scene\":{\"xaxis\":{\"backgroundcolor\":\"#E5ECF6\",\"gridcolor\":\"white\",\"gridwidth\":2,\"linecolor\":\"white\",\"showbackground\":true,\"ticks\":\"\",\"zerolinecolor\":\"white\"},\"yaxis\":{\"backgroundcolor\":\"#E5ECF6\",\"gridcolor\":\"white\",\"gridwidth\":2,\"linecolor\":\"white\",\"showbackground\":true,\"ticks\":\"\",\"zerolinecolor\":\"white\"},\"zaxis\":{\"backgroundcolor\":\"#E5ECF6\",\"gridcolor\":\"white\",\"gridwidth\":2,\"linecolor\":\"white\",\"showbackground\":true,\"ticks\":\"\",\"zerolinecolor\":\"white\"}},\"shapedefaults\":{\"line\":{\"color\":\"#2a3f5f\"}},\"ternary\":{\"aaxis\":{\"gridcolor\":\"white\",\"linecolor\":\"white\",\"ticks\":\"\"},\"baxis\":{\"gridcolor\":\"white\",\"linecolor\":\"white\",\"ticks\":\"\"},\"bgcolor\":\"#E5ECF6\",\"caxis\":{\"gridcolor\":\"white\",\"linecolor\":\"white\",\"ticks\":\"\"}},\"title\":{\"x\":0.05},\"xaxis\":{\"automargin\":true,\"gridcolor\":\"white\",\"linecolor\":\"white\",\"ticks\":\"\",\"title\":{\"standoff\":15},\"zerolinecolor\":\"white\",\"zerolinewidth\":2},\"yaxis\":{\"automargin\":true,\"gridcolor\":\"white\",\"linecolor\":\"white\",\"ticks\":\"\",\"title\":{\"standoff\":15},\"zerolinecolor\":\"white\",\"zerolinewidth\":2}}},\"legend\":{\"tracegroupgap\":0},\"margin\":{\"t\":60}},                        {\"responsive\": true}                    ).then(function(){\n",
              "                            \n",
              "var gd = document.getElementById('f601763a-beac-4f3b-afba-a54aa2309c02');\n",
              "var x = new MutationObserver(function (mutations, observer) {{\n",
              "        var display = window.getComputedStyle(gd).display;\n",
              "        if (!display || display === 'none') {{\n",
              "            console.log([gd, 'removed!']);\n",
              "            Plotly.purge(gd);\n",
              "            observer.disconnect();\n",
              "        }}\n",
              "}});\n",
              "\n",
              "// Listen for the removal of the full notebook cells\n",
              "var notebookContainer = gd.closest('#notebook-container');\n",
              "if (notebookContainer) {{\n",
              "    x.observe(notebookContainer, {childList: true});\n",
              "}}\n",
              "\n",
              "// Listen for the clearing of the current output cell\n",
              "var outputEl = gd.closest('.output');\n",
              "if (outputEl) {{\n",
              "    x.observe(outputEl, {childList: true});\n",
              "}}\n",
              "\n",
              "                        })                };                            </script>        </div>\n",
              "</body>\n",
              "</html>"
            ]
          },
          "metadata": {}
        }
      ]
    },
    {
      "cell_type": "markdown",
      "metadata": {
        "id": "VNBl0oxGNt7b"
      },
      "source": [
        "As you can see, we have successfully created an interactive pie chart using the `pie()` function of `plotly`. "
      ]
    },
    {
      "cell_type": "markdown",
      "metadata": {
        "id": "spOPoxxGIXAx"
      },
      "source": [
        "---"
      ]
    },
    {
      "cell_type": "markdown",
      "metadata": {
        "id": "b7g-I5pEco-u"
      },
      "source": [
        "#### Task 3: Pygal\n",
        "\n",
        "Python provides different visualization packages that help in creating different types of charts, graphs, and plots. Pygal is an open-source python library that not only creates highly interactive plots but also creates SVG images of the graphs/plots so that we can use it and customize it accordingly. Pygal is highly customizable and creates graphs with a few lines of code. \n",
        "\n",
        "Pygal creates a variety of plots like a bar, area, histogram, line, etc and due to the high scalability of the images of the plot downloaded as SVG, we will have good quality images that can be embedded into different projects, websites, etc.\n",
        "\n",
        "Pygal is the Python module which provides 14-built in styles under the pygal.style class which are as follows:\n",
        "- DarkStyle\n",
        "- NeonStyle\n",
        "- DarkSolarizedStyle\n",
        "- LightSolarizedStyle\n",
        "- LightStyle\n",
        "- CleanStyle\n",
        "- RedBlueStyle\n",
        "- DarkColorizedStyle\n",
        "- LightColorizedStyle\n",
        "- TurquoiseStyle\n",
        "- LightGreenStyle\n",
        "- DarkGreenStyle\n",
        "- DarkGreenBlueStyle\n",
        "- BlueStyle\n",
        "\n",
        "Any graph can be styled using these style by passing the style name in the style argument.\n",
        "\n",
        "To install and upgrade Pygal module type the below command in the terminal.\n",
        "\n",
        "`!pip install --upgrade pygal`\n",
        "\n",
        "Also install and upgrade `cairosvg` to export SVG files to PDF, EPS, PS, and PNG files.\n"
      ]
    },
    {
      "cell_type": "code",
      "metadata": {
        "colab": {
          "base_uri": "https://localhost:8080/"
        },
        "id": "PktJCUZFYYLs",
        "outputId": "ce0f4224-4426-469c-f6e4-15c912efddbc"
      },
      "source": [
        "!pip install --upgrade pygal"
      ],
      "execution_count": null,
      "outputs": [
        {
          "output_type": "stream",
          "name": "stdout",
          "text": [
            "Collecting pygal\n",
            "  Downloading pygal-3.0.0-py2.py3-none-any.whl (129 kB)\n",
            "\u001b[?25l\r\u001b[K     |██▌                             | 10 kB 14.7 MB/s eta 0:00:01\r\u001b[K     |█████                           | 20 kB 20.8 MB/s eta 0:00:01\r\u001b[K     |███████▋                        | 30 kB 17.7 MB/s eta 0:00:01\r\u001b[K     |██████████▏                     | 40 kB 12.9 MB/s eta 0:00:01\r\u001b[K     |████████████▋                   | 51 kB 8.8 MB/s eta 0:00:01\r\u001b[K     |███████████████▏                | 61 kB 9.1 MB/s eta 0:00:01\r\u001b[K     |█████████████████▊              | 71 kB 7.6 MB/s eta 0:00:01\r\u001b[K     |████████████████████▎           | 81 kB 8.4 MB/s eta 0:00:01\r\u001b[K     |██████████████████████▉         | 92 kB 7.2 MB/s eta 0:00:01\r\u001b[K     |█████████████████████████▎      | 102 kB 7.8 MB/s eta 0:00:01\r\u001b[K     |███████████████████████████▉    | 112 kB 7.8 MB/s eta 0:00:01\r\u001b[K     |██████████████████████████████▍ | 122 kB 7.8 MB/s eta 0:00:01\r\u001b[K     |████████████████████████████████| 129 kB 7.8 MB/s \n",
            "\u001b[?25hInstalling collected packages: pygal\n",
            "Successfully installed pygal-3.0.0\n"
          ]
        }
      ]
    },
    {
      "cell_type": "code",
      "metadata": {
        "colab": {
          "base_uri": "https://localhost:8080/"
        },
        "id": "8XiPZNomd7Dv",
        "outputId": "71e6f363-8a25-4399-d175-23e5262c4612"
      },
      "source": [
        "!pip install --upgrade cairosvg"
      ],
      "execution_count": null,
      "outputs": [
        {
          "output_type": "stream",
          "name": "stdout",
          "text": [
            "Collecting cairosvg\n",
            "  Downloading CairoSVG-2.5.2-py3-none-any.whl (45 kB)\n",
            "\u001b[?25l\r\u001b[K     |███████▏                        | 10 kB 15.6 MB/s eta 0:00:01\r\u001b[K     |██████████████▎                 | 20 kB 21.2 MB/s eta 0:00:01\r\u001b[K     |█████████████████████▌          | 30 kB 19.4 MB/s eta 0:00:01\r\u001b[K     |████████████████████████████▋   | 40 kB 12.2 MB/s eta 0:00:01\r\u001b[K     |████████████████████████████████| 45 kB 2.1 MB/s \n",
            "\u001b[?25hRequirement already satisfied: pillow in /usr/local/lib/python3.7/dist-packages (from cairosvg) (7.1.2)\n",
            "Collecting cssselect2\n",
            "  Downloading cssselect2-0.4.1-py3-none-any.whl (13 kB)\n",
            "Collecting cairocffi\n",
            "  Downloading cairocffi-1.3.0.tar.gz (88 kB)\n",
            "\u001b[K     |████████████████████████████████| 88 kB 4.7 MB/s \n",
            "\u001b[?25hCollecting tinycss2\n",
            "  Downloading tinycss2-1.1.1-py3-none-any.whl (21 kB)\n",
            "Requirement already satisfied: defusedxml in /usr/local/lib/python3.7/dist-packages (from cairosvg) (0.7.1)\n",
            "Requirement already satisfied: cffi>=1.1.0 in /usr/local/lib/python3.7/dist-packages (from cairocffi->cairosvg) (1.15.0)\n",
            "Requirement already satisfied: pycparser in /usr/local/lib/python3.7/dist-packages (from cffi>=1.1.0->cairocffi->cairosvg) (2.21)\n",
            "Requirement already satisfied: webencodings in /usr/local/lib/python3.7/dist-packages (from cssselect2->cairosvg) (0.5.1)\n",
            "Building wheels for collected packages: cairocffi\n",
            "  Building wheel for cairocffi (setup.py) ... \u001b[?25l\u001b[?25hdone\n",
            "  Created wheel for cairocffi: filename=cairocffi-1.3.0-py3-none-any.whl size=89667 sha256=eb3877dcb531c4bd354f0681ce73d3f8820504f35957d17ccdb5c0625b607302\n",
            "  Stored in directory: /root/.cache/pip/wheels/4e/ca/e1/5c8a9692a27f639a07c949044bec943f26c81cd53d3805319f\n",
            "Successfully built cairocffi\n",
            "Installing collected packages: tinycss2, cssselect2, cairocffi, cairosvg\n",
            "Successfully installed cairocffi-1.3.0 cairosvg-2.5.2 cssselect2-0.4.1 tinycss2-1.1.1\n"
          ]
        }
      ]
    },
    {
      "cell_type": "markdown",
      "metadata": {
        "id": "8B3ZQtq5e1qN"
      },
      "source": [
        "Let us style a Stacked Line Chart using `pygal.style` class."
      ]
    },
    {
      "cell_type": "code",
      "metadata": {
        "colab": {
          "base_uri": "https://localhost:8080/",
          "height": 729
        },
        "id": "pGLtem0LYAdM",
        "outputId": "4006f7c2-3e43-442f-afb0-abb857b35587"
      },
      "source": [
        "# S3.1: Styling a stacked line chart.\n",
        "# importing pygal\n",
        "import pygal\n",
        "from pygal.style import LightSolarizedStyle\n",
        "\n",
        "# creating the chart object\n",
        "line = pygal.StackedLine(fill = True, style = LightSolarizedStyle)\n",
        "\n",
        "# naming the title\n",
        "line.title = 'Stacked Line'\t\t\n",
        "\n",
        "# Random data\n",
        "line.add('A', [26, 22, 39, 39, 32, 30, 33, 24, 24, 30])\n",
        "line.add('B', [31, 40, None, None, None, None, 40, 32, 25, 31])\n",
        "line.add('C', [37, 27, 31, 20, None, 32, 24, 39, 29, 22])\n",
        "line.add('D', [38, None, 20, 29, 33, 23, 32, 33, 32, 23])\n",
        "\n",
        "line\n"
      ],
      "execution_count": null,
      "outputs": [
        {
          "output_type": "execute_result",
          "data": {
            "image/png": "[encoded data removed]",
            "text/plain": [
              "<pygal.graph.stackedline.StackedLine at 0x7fea1e4d2890>"
            ],
            "image/svg+xml": "<svg xmlns:xlink=\"http://www.w3.org/1999/xlink\" xmlns=\"http://www.w3.org/2000/svg\" id=\"chart-e2010a5a-ac35-47a4-9861-9e5b88412559\" class=\"pygal-chart\" viewBox=\"0 0 800 600\"><!--Generated with pygal 3.0.0 (lxml) ©Kozea 2012-2016 on 2021-12-29--><!--http://pygal.org--><!--http://github.com/Kozea/pygal--><defs><style type=\"text/css\">#chart-e2010a5a-ac35-47a4-9861-9e5b88412559{-webkit-user-select:none;-webkit-font-smoothing:antialiased;font-family:Consolas,\"Liberation Mono\",Menlo,Courier,monospace}#chart-e2010a5a-ac35-47a4-9861-9e5b88412559 .title{font-family:Consolas,\"Liberation Mono\",Menlo,Courier,monospace;font-size:16px}#chart-e2010a5a-ac35-47a4-9861-9e5b88412559 .legends .legend text{font-family:Consolas,\"Liberation Mono\",Menlo,Courier,monospace;font-size:14px}#chart-e2010a5a-ac35-47a4-9861-9e5b88412559 .axis text{font-family:Consolas,\"Liberation Mono\",Menlo,Courier,monospace;font-size:10px}#chart-e2010a5a-ac35-47a4-9861-9e5b88412559 .axis text.major{font-family:Consolas,\"Liberation Mono\",Menlo,Courier,monospace;font-size:10px}#chart-e2010a5a-ac35-47a4-9861-9e5b88412559 .text-overlay text.value{font-family:Consolas,\"Liberation Mono\",Menlo,Courier,monospace;font-size:16px}#chart-e2010a5a-ac35-47a4-9861-9e5b88412559 .text-overlay text.label{font-family:Consolas,\"Liberation Mono\",Menlo,Courier,monospace;font-size:10px}#chart-e2010a5a-ac35-47a4-9861-9e5b88412559 .tooltip{font-family:Consolas,\"Liberation Mono\",Menlo,Courier,monospace;font-size:14px}#chart-e2010a5a-ac35-47a4-9861-9e5b88412559 text.no_data{font-family:Consolas,\"Liberation Mono\",Menlo,Courier,monospace;font-size:64px}\n#chart-e2010a5a-ac35-47a4-9861-9e5b88412559{background-color:#fdf6e3}#chart-e2010a5a-ac35-47a4-9861-9e5b88412559 path,#chart-e2010a5a-ac35-47a4-9861-9e5b88412559 line,#chart-e2010a5a-ac35-47a4-9861-9e5b88412559 rect,#chart-e2010a5a-ac35-47a4-9861-9e5b88412559 circle{-webkit-transition:500ms ease-in;-moz-transition:500ms ease-in;transition:500ms ease-in}#chart-e2010a5a-ac35-47a4-9861-9e5b88412559 .graph &gt; .background{fill:#fdf6e3}#chart-e2010a5a-ac35-47a4-9861-9e5b88412559 .plot &gt; .background{fill:#eee8d5}#chart-e2010a5a-ac35-47a4-9861-9e5b88412559 .graph{fill:#657b83}#chart-e2010a5a-ac35-47a4-9861-9e5b88412559 text.no_data{fill:#073642}#chart-e2010a5a-ac35-47a4-9861-9e5b88412559 .title{fill:#073642}#chart-e2010a5a-ac35-47a4-9861-9e5b88412559 .legends .legend text{fill:#657b83}#chart-e2010a5a-ac35-47a4-9861-9e5b88412559 .legends .legend:hover text{fill:#073642}#chart-e2010a5a-ac35-47a4-9861-9e5b88412559 .axis .line{stroke:#073642}#chart-e2010a5a-ac35-47a4-9861-9e5b88412559 .axis .guide.line{stroke:#073642}#chart-e2010a5a-ac35-47a4-9861-9e5b88412559 .axis .major.line{stroke:#657b83}#chart-e2010a5a-ac35-47a4-9861-9e5b88412559 .axis text.major{fill:#073642}#chart-e2010a5a-ac35-47a4-9861-9e5b88412559 .axis.y .guides:hover .guide.line,#chart-e2010a5a-ac35-47a4-9861-9e5b88412559 .line-graph .axis.x .guides:hover .guide.line,#chart-e2010a5a-ac35-47a4-9861-9e5b88412559 .stackedline-graph .axis.x .guides:hover .guide.line,#chart-e2010a5a-ac35-47a4-9861-9e5b88412559 .xy-graph .axis.x .guides:hover .guide.line{stroke:#073642}#chart-e2010a5a-ac35-47a4-9861-9e5b88412559 .axis .guides:hover text{fill:#073642}#chart-e2010a5a-ac35-47a4-9861-9e5b88412559 .reactive{fill-opacity:.66;stroke-opacity:.8;stroke-width:1}#chart-e2010a5a-ac35-47a4-9861-9e5b88412559 .ci{stroke:#657b83}#chart-e2010a5a-ac35-47a4-9861-9e5b88412559 .reactive.active,#chart-e2010a5a-ac35-47a4-9861-9e5b88412559 .active .reactive{fill-opacity:.9;stroke-opacity:.9;stroke-width:4}#chart-e2010a5a-ac35-47a4-9861-9e5b88412559 .ci .reactive.active{stroke-width:1.5}#chart-e2010a5a-ac35-47a4-9861-9e5b88412559 .series text{fill:#073642}#chart-e2010a5a-ac35-47a4-9861-9e5b88412559 .tooltip rect{fill:#eee8d5;stroke:#073642;-webkit-transition:opacity 500ms ease-in;-moz-transition:opacity 500ms ease-in;transition:opacity 500ms ease-in}#chart-e2010a5a-ac35-47a4-9861-9e5b88412559 .tooltip .label{fill:#657b83}#chart-e2010a5a-ac35-47a4-9861-9e5b88412559 .tooltip .label{fill:#657b83}#chart-e2010a5a-ac35-47a4-9861-9e5b88412559 .tooltip .legend{font-size:.8em;fill:#073642}#chart-e2010a5a-ac35-47a4-9861-9e5b88412559 .tooltip .x_label{font-size:.6em;fill:#073642}#chart-e2010a5a-ac35-47a4-9861-9e5b88412559 .tooltip .xlink{font-size:.5em;text-decoration:underline}#chart-e2010a5a-ac35-47a4-9861-9e5b88412559 .tooltip .value{font-size:1.5em}#chart-e2010a5a-ac35-47a4-9861-9e5b88412559 .bound{font-size:.5em}#chart-e2010a5a-ac35-47a4-9861-9e5b88412559 .max-value{font-size:.75em;fill:#073642}#chart-e2010a5a-ac35-47a4-9861-9e5b88412559 .map-element{fill:#eee8d5;stroke:#073642 !important}#chart-e2010a5a-ac35-47a4-9861-9e5b88412559 .map-element .reactive{fill-opacity:inherit;stroke-opacity:inherit}#chart-e2010a5a-ac35-47a4-9861-9e5b88412559 .color-0,#chart-e2010a5a-ac35-47a4-9861-9e5b88412559 .color-0 a:visited{stroke:#b58900;fill:#b58900}#chart-e2010a5a-ac35-47a4-9861-9e5b88412559 .color-1,#chart-e2010a5a-ac35-47a4-9861-9e5b88412559 .color-1 a:visited{stroke:#cb4b16;fill:#cb4b16}#chart-e2010a5a-ac35-47a4-9861-9e5b88412559 .color-2,#chart-e2010a5a-ac35-47a4-9861-9e5b88412559 .color-2 a:visited{stroke:#dc322f;fill:#dc322f}#chart-e2010a5a-ac35-47a4-9861-9e5b88412559 .color-3,#chart-e2010a5a-ac35-47a4-9861-9e5b88412559 .color-3 a:visited{stroke:#d33682;fill:#d33682}#chart-e2010a5a-ac35-47a4-9861-9e5b88412559 .text-overlay .color-0 text{fill:black}#chart-e2010a5a-ac35-47a4-9861-9e5b88412559 .text-overlay .color-1 text{fill:black}#chart-e2010a5a-ac35-47a4-9861-9e5b88412559 .text-overlay .color-2 text{fill:black}#chart-e2010a5a-ac35-47a4-9861-9e5b88412559 .text-overlay .color-3 text{fill:black}\n#chart-e2010a5a-ac35-47a4-9861-9e5b88412559 text.no_data{text-anchor:middle}#chart-e2010a5a-ac35-47a4-9861-9e5b88412559 .guide.line{fill:none}#chart-e2010a5a-ac35-47a4-9861-9e5b88412559 .centered{text-anchor:middle}#chart-e2010a5a-ac35-47a4-9861-9e5b88412559 .title{text-anchor:middle}#chart-e2010a5a-ac35-47a4-9861-9e5b88412559 .legends .legend text{fill-opacity:1}#chart-e2010a5a-ac35-47a4-9861-9e5b88412559 .axis.x text{text-anchor:middle}#chart-e2010a5a-ac35-47a4-9861-9e5b88412559 .axis.x:not(.web) text[transform]{text-anchor:start}#chart-e2010a5a-ac35-47a4-9861-9e5b88412559 .axis.x:not(.web) text[transform].backwards{text-anchor:end}#chart-e2010a5a-ac35-47a4-9861-9e5b88412559 .axis.y text{text-anchor:end}#chart-e2010a5a-ac35-47a4-9861-9e5b88412559 .axis.y text[transform].backwards{text-anchor:start}#chart-e2010a5a-ac35-47a4-9861-9e5b88412559 .axis.y2 text{text-anchor:start}#chart-e2010a5a-ac35-47a4-9861-9e5b88412559 .axis.y2 text[transform].backwards{text-anchor:end}#chart-e2010a5a-ac35-47a4-9861-9e5b88412559 .axis .guide.line{stroke-dasharray:4,4;stroke:black}#chart-e2010a5a-ac35-47a4-9861-9e5b88412559 .axis .major.guide.line{stroke-dasharray:6,6;stroke:black}#chart-e2010a5a-ac35-47a4-9861-9e5b88412559 .horizontal .axis.y .guide.line,#chart-e2010a5a-ac35-47a4-9861-9e5b88412559 .horizontal .axis.y2 .guide.line,#chart-e2010a5a-ac35-47a4-9861-9e5b88412559 .vertical .axis.x .guide.line{opacity:0}#chart-e2010a5a-ac35-47a4-9861-9e5b88412559 .horizontal .axis.always_show .guide.line,#chart-e2010a5a-ac35-47a4-9861-9e5b88412559 .vertical .axis.always_show .guide.line{opacity:1 !important}#chart-e2010a5a-ac35-47a4-9861-9e5b88412559 .axis.y .guides:hover .guide.line,#chart-e2010a5a-ac35-47a4-9861-9e5b88412559 .axis.y2 .guides:hover .guide.line,#chart-e2010a5a-ac35-47a4-9861-9e5b88412559 .axis.x .guides:hover .guide.line{opacity:1}#chart-e2010a5a-ac35-47a4-9861-9e5b88412559 .axis .guides:hover text{opacity:1}#chart-e2010a5a-ac35-47a4-9861-9e5b88412559 .nofill{fill:none}#chart-e2010a5a-ac35-47a4-9861-9e5b88412559 .subtle-fill{fill-opacity:.2}#chart-e2010a5a-ac35-47a4-9861-9e5b88412559 .dot{stroke-width:1px;fill-opacity:1;stroke-opacity:1}#chart-e2010a5a-ac35-47a4-9861-9e5b88412559 .dot.active{stroke-width:5px}#chart-e2010a5a-ac35-47a4-9861-9e5b88412559 .dot.negative{fill:transparent}#chart-e2010a5a-ac35-47a4-9861-9e5b88412559 text,#chart-e2010a5a-ac35-47a4-9861-9e5b88412559 tspan{stroke:none !important}#chart-e2010a5a-ac35-47a4-9861-9e5b88412559 .series text.active{opacity:1}#chart-e2010a5a-ac35-47a4-9861-9e5b88412559 .tooltip rect{fill-opacity:.95;stroke-width:.5}#chart-e2010a5a-ac35-47a4-9861-9e5b88412559 .tooltip text{fill-opacity:1}#chart-e2010a5a-ac35-47a4-9861-9e5b88412559 .showable{visibility:hidden}#chart-e2010a5a-ac35-47a4-9861-9e5b88412559 .showable.shown{visibility:visible}#chart-e2010a5a-ac35-47a4-9861-9e5b88412559 .gauge-background{fill:rgba(229,229,229,1);stroke:none}#chart-e2010a5a-ac35-47a4-9861-9e5b88412559 .bg-lines{stroke:#fdf6e3;stroke-width:2px}</style><script type=\"text/javascript\">window.pygal = window.pygal || {};window.pygal.config = window.pygal.config || {};window.pygal.config['e2010a5a-ac35-47a4-9861-9e5b88412559'] = {\"allow_interruptions\": false, \"box_mode\": \"extremes\", \"classes\": [\"pygal-chart\"], \"css\": [\"file://style.css\", \"file://graph.css\"], \"defs\": [], \"disable_xml_declaration\": true, \"dots_size\": 2.5, \"dynamic_print_values\": false, \"explicit_size\": false, \"fill\": true, \"force_uri_protocol\": \"https\", \"formatter\": null, \"half_pie\": false, \"height\": 600, \"include_x_axis\": false, \"inner_radius\": 0, \"interpolate\": null, \"interpolation_parameters\": {}, \"interpolation_precision\": 250, \"inverse_y_axis\": false, \"js\": [\"//kozea.github.io/pygal.js/2.0.x/pygal-tooltips.min.js\"], \"legend_at_bottom\": false, \"legend_at_bottom_columns\": null, \"legend_box_size\": 12, \"logarithmic\": false, \"margin\": 20, \"margin_bottom\": null, \"margin_left\": null, \"margin_right\": null, \"margin_top\": null, \"max_scale\": 16, \"min_scale\": 4, \"missing_value_fill_truncation\": \"x\", \"no_data_text\": \"No data\", \"no_prefix\": false, \"order_min\": null, \"pretty_print\": false, \"print_labels\": false, \"print_values\": false, \"print_values_position\": \"center\", \"print_zeroes\": true, \"range\": null, \"rounded_bars\": null, \"secondary_range\": null, \"show_dots\": true, \"show_legend\": true, \"show_minor_x_labels\": true, \"show_minor_y_labels\": true, \"show_only_major_dots\": false, \"show_x_guides\": false, \"show_x_labels\": true, \"show_y_guides\": true, \"show_y_labels\": true, \"spacing\": 10, \"stack_from_top\": false, \"strict\": false, \"stroke\": true, \"stroke_style\": null, \"style\": {\"background\": \"#fdf6e3\", \"ci_colors\": [], \"colors\": [\"#b58900\", \"#cb4b16\", \"#dc322f\", \"#d33682\", \"#6c71c4\", \"#268bd2\", \"#2aa198\", \"#859900\"], \"dot_opacity\": \"1\", \"font_family\": \"Consolas, \\\"Liberation Mono\\\", Menlo, Courier, monospace\", \"foreground\": \"#657b83\", \"foreground_strong\": \"#073642\", \"foreground_subtle\": \"#073642\", \"guide_stroke_color\": \"black\", \"guide_stroke_dasharray\": \"4,4\", \"label_font_family\": \"Consolas, \\\"Liberation Mono\\\", Menlo, Courier, monospace\", \"label_font_size\": 10, \"legend_font_family\": \"Consolas, \\\"Liberation Mono\\\", Menlo, Courier, monospace\", \"legend_font_size\": 14, \"major_guide_stroke_color\": \"black\", \"major_guide_stroke_dasharray\": \"6,6\", \"major_label_font_family\": \"Consolas, \\\"Liberation Mono\\\", Menlo, Courier, monospace\", \"major_label_font_size\": 10, \"no_data_font_family\": \"Consolas, \\\"Liberation Mono\\\", Menlo, Courier, monospace\", \"no_data_font_size\": 64, \"opacity\": \".66\", \"opacity_hover\": \".9\", \"plot_background\": \"#eee8d5\", \"stroke_opacity\": \".8\", \"stroke_opacity_hover\": \".9\", \"stroke_width\": \"1\", \"stroke_width_hover\": \"4\", \"title_font_family\": \"Consolas, \\\"Liberation Mono\\\", Menlo, Courier, monospace\", \"title_font_size\": 16, \"tooltip_font_family\": \"Consolas, \\\"Liberation Mono\\\", Menlo, Courier, monospace\", \"tooltip_font_size\": 14, \"transition\": \"500ms ease-in\", \"value_background\": \"rgba(229, 229, 229, 1)\", \"value_colors\": [], \"value_font_family\": \"Consolas, \\\"Liberation Mono\\\", Menlo, Courier, monospace\", \"value_font_size\": 16, \"value_label_font_family\": \"Consolas, \\\"Liberation Mono\\\", Menlo, Courier, monospace\", \"value_label_font_size\": 10}, \"title\": \"Stacked Line\", \"tooltip_border_radius\": 0, \"tooltip_fancy_mode\": true, \"truncate_label\": null, \"truncate_legend\": null, \"width\": 800, \"x_label_rotation\": 0, \"x_labels\": null, \"x_labels_major\": null, \"x_labels_major_count\": null, \"x_labels_major_every\": null, \"x_title\": null, \"xrange\": null, \"y_label_rotation\": 0, \"y_labels\": null, \"y_labels_major\": null, \"y_labels_major_count\": null, \"y_labels_major_every\": null, \"y_title\": null, \"zero\": 0, \"legends\": [\"A\", \"B\", \"C\", \"D\"]}</script><script type=\"text/javascript\" xlink:href=\"https://kozea.github.io/pygal.js/2.0.x/pygal-tooltips.min.js\"/></defs><title>Stacked Line</title><g class=\"graph stackedline-graph vertical\"><rect class=\"background\" height=\"600\" width=\"800\" x=\"0\" y=\"0\"/><g class=\"plot\" transform=\"translate(78, 46)\"><rect class=\"background\" height=\"534\" width=\"701.6\" x=\"0\" y=\"0\"/><g class=\"axis y always_show\"><path class=\"line\" d=\"M0.000000 534.000000 h701.600000\"/><g class=\"guides\"><path class=\"guide line\" d=\"M0.000000 486.388112 h701.600000\"/><text class=\"\" x=\"-5\" y=\"489.8881118881119\">30</text><title>30</title></g><g class=\"guides\"><path class=\"guide line\" d=\"M0.000000 439.709790 h701.600000\"/><text class=\"\" x=\"-5\" y=\"443.2097902097902\">40</text><title>40</title></g><g class=\"guides\"><path class=\"major guide line\" d=\"M0.000000 393.031469 h701.600000\"/><text class=\"major\" x=\"-5\" y=\"396.53146853146853\">50</text><title>50</title></g><g class=\"guides\"><path class=\"guide line\" d=\"M0.000000 346.353147 h701.600000\"/><text class=\"\" x=\"-5\" y=\"349.8531468531468\">60</text><title>60</title></g><g class=\"guides\"><path class=\"guide line\" d=\"M0.000000 299.674825 h701.600000\"/><text class=\"\" x=\"-5\" y=\"303.1748251748252\">70</text><title>70</title></g><g class=\"guides\"><path class=\"guide line\" d=\"M0.000000 252.996503 h701.600000\"/><text class=\"\" x=\"-5\" y=\"256.49650349650346\">80</text><title>80</title></g><g class=\"guides\"><path class=\"guide line\" d=\"M0.000000 206.318182 h701.600000\"/><text class=\"\" x=\"-5\" y=\"209.81818181818176\">90</text><title>90</title></g><g class=\"guides\"><path class=\"major guide line\" d=\"M0.000000 159.639860 h701.600000\"/><text class=\"major\" x=\"-5\" y=\"163.1398601398601\">100</text><title>100</title></g><g class=\"guides\"><path class=\"guide line\" d=\"M0.000000 112.961538 h701.600000\"/><text class=\"\" x=\"-5\" y=\"116.4615384615384\">110</text><title>110</title></g><g class=\"guides\"><path class=\"guide line\" d=\"M0.000000 66.283217 h701.600000\"/><text class=\"\" x=\"-5\" y=\"69.78321678321674\">120</text><title>120</title></g><g class=\"guides\"><path class=\"guide line\" d=\"M0.000000 19.604895 h701.600000\"/><text class=\"\" x=\"-5\" y=\"23.104895104895036\">130</text><title>130</title></g></g><g class=\"series serie-0 color-0\"><path class=\"line reactive\" d=\"M13.492308 534.000000 L13.492308 505.059441 88.449573 523.730769 163.406838 444.377622 238.364103 444.377622 313.321368 477.052448 388.278632 486.388112 463.235897 472.384615 538.193162 514.395105 613.150427 514.395105 688.107692 486.388112 688.107692 534.000000\"/></g><g class=\"series serie-1 color-1\"><path class=\"line reactive\" d=\"M13.492308 360.356643 L88.449573 337.017483 163.406838 444.377622 238.364103 444.377622 313.321368 477.052448 388.278632 486.388112 463.235897 285.671329 538.193162 365.024476 613.150427 397.699301 688.107692 341.685315 688.107692 486.388112 613.150427 514.395105 538.193162 514.395105 463.235897 472.384615 388.278632 486.388112 313.321368 477.052448 238.364103 444.377622 163.406838 444.377622 88.449573 523.730769 13.492308 505.059441\"/></g><g class=\"series serie-2 color-2\"><path class=\"line reactive\" d=\"M13.492308 187.646853 L88.449573 210.986014 163.406838 299.674825 238.364103 351.020979 313.321368 477.052448 388.278632 337.017483 463.235897 173.643357 538.193162 182.979021 613.150427 262.332168 688.107692 238.993007 688.107692 341.685315 613.150427 397.699301 538.193162 365.024476 463.235897 285.671329 388.278632 486.388112 313.321368 477.052448 238.364103 444.377622 163.406838 444.377622 88.449573 337.017483 13.492308 360.356643\"/></g><g class=\"series serie-3 color-3\"><path class=\"line reactive\" d=\"M13.492308 10.269231 L88.449573 210.986014 163.406838 206.318182 238.364103 215.653846 313.321368 323.013986 388.278632 229.657343 463.235897 24.272727 538.193162 28.940559 613.150427 112.961538 688.107692 131.632867 688.107692 238.993007 613.150427 262.332168 538.193162 182.979021 463.235897 173.643357 388.278632 337.017483 313.321368 477.052448 238.364103 351.020979 163.406838 299.674825 88.449573 210.986014 13.492308 187.646853\"/></g></g><g class=\"titles\"><text class=\"title plot_title\" x=\"400.0\" y=\"26\">Stacked Line</text></g><g class=\"plot overlay\" transform=\"translate(78, 46)\"><g class=\"series serie-0 color-0\"><g class=\"dots\"><circle class=\"dot reactive tooltip-trigger\" cx=\"13.492307692307692\" cy=\"505.05944055944053\" r=\"2.5\"/><desc class=\"value\">26</desc><desc class=\"x top\">13.492307692307692</desc><desc class=\"y top\">505.05944055944053</desc></g><g class=\"dots\"><circle class=\"dot reactive tooltip-trigger\" cx=\"88.44957264957263\" cy=\"523.7307692307693\" r=\"2.5\"/><desc class=\"value\">22</desc><desc class=\"x top\">88.44957264957263</desc><desc class=\"y top\">523.7307692307693</desc></g><g class=\"dots\"><circle class=\"dot reactive tooltip-trigger\" cx=\"163.4068376068376\" cy=\"444.3776223776224\" r=\"2.5\"/><desc class=\"value\">39</desc><desc class=\"x top\">163.4068376068376</desc><desc class=\"y top\">444.3776223776224</desc></g><g class=\"dots\"><circle class=\"dot reactive tooltip-trigger\" cx=\"238.36410256410258\" cy=\"444.3776223776224\" r=\"2.5\"/><desc class=\"value\">39</desc><desc class=\"x top\">238.36410256410258</desc><desc class=\"y top\">444.3776223776224</desc></g><g class=\"dots\"><circle class=\"dot reactive tooltip-trigger\" cx=\"313.3213675213675\" cy=\"477.0524475524476\" r=\"2.5\"/><desc class=\"value\">32</desc><desc class=\"x top\">313.3213675213675</desc><desc class=\"y top\">477.0524475524476</desc></g><g class=\"dots\"><circle class=\"dot reactive tooltip-trigger\" cx=\"388.2786324786325\" cy=\"486.3881118881119\" r=\"2.5\"/><desc class=\"value\">30</desc><desc class=\"x left top\">388.2786324786325</desc><desc class=\"y left top\">486.3881118881119</desc></g><g class=\"dots\"><circle class=\"dot reactive tooltip-trigger\" cx=\"463.2358974358974\" cy=\"472.38461538461536\" r=\"2.5\"/><desc class=\"value\">33</desc><desc class=\"x left top\">463.2358974358974</desc><desc class=\"y left top\">472.38461538461536</desc></g><g class=\"dots\"><circle class=\"dot reactive tooltip-trigger\" cx=\"538.1931623931624\" cy=\"514.3951048951049\" r=\"2.5\"/><desc class=\"value\">24</desc><desc class=\"x left top\">538.1931623931624</desc><desc class=\"y left top\">514.3951048951049</desc></g><g class=\"dots\"><circle class=\"dot reactive tooltip-trigger\" cx=\"613.1504273504273\" cy=\"514.3951048951049\" r=\"2.5\"/><desc class=\"value\">24</desc><desc class=\"x left top\">613.1504273504273</desc><desc class=\"y left top\">514.3951048951049</desc></g><g class=\"dots\"><circle class=\"dot reactive tooltip-trigger\" cx=\"688.1076923076923\" cy=\"486.3881118881119\" r=\"2.5\"/><desc class=\"value\">30</desc><desc class=\"x left top\">688.1076923076923</desc><desc class=\"y left top\">486.3881118881119</desc></g></g><g class=\"series serie-1 color-1\"><g class=\"dots\"><circle class=\"dot reactive tooltip-trigger\" cx=\"13.492307692307692\" cy=\"360.3566433566433\" r=\"2.5\"/><desc class=\"value\">57 (+31)</desc><desc class=\"x top\">13.492307692307692</desc><desc class=\"y top\">360.3566433566433</desc></g><g class=\"dots\"><circle class=\"dot reactive tooltip-trigger\" cx=\"88.44957264957263\" cy=\"337.01748251748245\" r=\"2.5\"/><desc class=\"value\">62 (+40)</desc><desc class=\"x top\">88.44957264957263</desc><desc class=\"y top\">337.01748251748245</desc></g><g class=\"dots\"><circle class=\"dot reactive tooltip-trigger\" cx=\"163.4068376068376\" cy=\"444.3776223776224\" r=\"2.5\"/><desc class=\"value\">39 (+0)</desc><desc class=\"x top\">163.4068376068376</desc><desc class=\"y top\">444.3776223776224</desc></g><g class=\"dots\"><circle class=\"dot reactive tooltip-trigger\" cx=\"238.36410256410258\" cy=\"444.3776223776224\" r=\"2.5\"/><desc class=\"value\">39 (+0)</desc><desc class=\"x top\">238.36410256410258</desc><desc class=\"y top\">444.3776223776224</desc></g><g class=\"dots\"><circle class=\"dot reactive tooltip-trigger\" cx=\"313.3213675213675\" cy=\"477.0524475524476\" r=\"2.5\"/><desc class=\"value\">32 (+0)</desc><desc class=\"x top\">313.3213675213675</desc><desc class=\"y top\">477.0524475524476</desc></g><g class=\"dots\"><circle class=\"dot reactive tooltip-trigger\" cx=\"388.2786324786325\" cy=\"486.3881118881119\" r=\"2.5\"/><desc class=\"value\">30 (+0)</desc><desc class=\"x left top\">388.2786324786325</desc><desc class=\"y left top\">486.3881118881119</desc></g><g class=\"dots\"><circle class=\"dot reactive tooltip-trigger\" cx=\"463.2358974358974\" cy=\"285.67132867132864\" r=\"2.5\"/><desc class=\"value\">73 (+40)</desc><desc class=\"x left top\">463.2358974358974</desc><desc class=\"y left top\">285.67132867132864</desc></g><g class=\"dots\"><circle class=\"dot reactive tooltip-trigger\" cx=\"538.1931623931624\" cy=\"365.0244755244755\" r=\"2.5\"/><desc class=\"value\">56 (+32)</desc><desc class=\"x left top\">538.1931623931624</desc><desc class=\"y left top\">365.0244755244755</desc></g><g class=\"dots\"><circle class=\"dot reactive tooltip-trigger\" cx=\"613.1504273504273\" cy=\"397.6993006993007\" r=\"2.5\"/><desc class=\"value\">49 (+25)</desc><desc class=\"x left top\">613.1504273504273</desc><desc class=\"y left top\">397.6993006993007</desc></g><g class=\"dots\"><circle class=\"dot reactive tooltip-trigger\" cx=\"688.1076923076923\" cy=\"341.68531468531467\" r=\"2.5\"/><desc class=\"value\">61 (+31)</desc><desc class=\"x left top\">688.1076923076923</desc><desc class=\"y left top\">341.68531468531467</desc></g></g><g class=\"series serie-2 color-2\"><g class=\"dots\"><circle class=\"dot reactive tooltip-trigger\" cx=\"13.492307692307692\" cy=\"187.64685314685312\" r=\"2.5\"/><desc class=\"value\">94 (+37)</desc><desc class=\"x \">13.492307692307692</desc><desc class=\"y \">187.64685314685312</desc></g><g class=\"dots\"><circle class=\"dot reactive tooltip-trigger\" cx=\"88.44957264957263\" cy=\"210.98601398601392\" r=\"2.5\"/><desc class=\"value\">89 (+27)</desc><desc class=\"x \">88.44957264957263</desc><desc class=\"y \">210.98601398601392</desc></g><g class=\"dots\"><circle class=\"dot reactive tooltip-trigger\" cx=\"163.4068376068376\" cy=\"299.6748251748252\" r=\"2.5\"/><desc class=\"value\">70 (+31)</desc><desc class=\"x top\">163.4068376068376</desc><desc class=\"y top\">299.6748251748252</desc></g><g class=\"dots\"><circle class=\"dot reactive tooltip-trigger\" cx=\"238.36410256410258\" cy=\"351.020979020979\" r=\"2.5\"/><desc class=\"value\">59 (+20)</desc><desc class=\"x top\">238.36410256410258</desc><desc class=\"y top\">351.020979020979</desc></g><g class=\"dots\"><circle class=\"dot reactive tooltip-trigger\" cx=\"313.3213675213675\" cy=\"477.0524475524476\" r=\"2.5\"/><desc class=\"value\">32 (+0)</desc><desc class=\"x top\">313.3213675213675</desc><desc class=\"y top\">477.0524475524476</desc></g><g class=\"dots\"><circle class=\"dot reactive tooltip-trigger\" cx=\"388.2786324786325\" cy=\"337.01748251748245\" r=\"2.5\"/><desc class=\"value\">62 (+32)</desc><desc class=\"x left top\">388.2786324786325</desc><desc class=\"y left top\">337.01748251748245</desc></g><g class=\"dots\"><circle class=\"dot reactive tooltip-trigger\" cx=\"463.2358974358974\" cy=\"173.64335664335658\" r=\"2.5\"/><desc class=\"value\">97 (+24)</desc><desc class=\"x left\">463.2358974358974</desc><desc class=\"y left\">173.64335664335658</desc></g><g class=\"dots\"><circle class=\"dot reactive tooltip-trigger\" cx=\"538.1931623931624\" cy=\"182.9790209790209\" r=\"2.5\"/><desc class=\"value\">95 (+39)</desc><desc class=\"x left\">538.1931623931624</desc><desc class=\"y left\">182.9790209790209</desc></g><g class=\"dots\"><circle class=\"dot reactive tooltip-trigger\" cx=\"613.1504273504273\" cy=\"262.3321678321678\" r=\"2.5\"/><desc class=\"value\">78 (+29)</desc><desc class=\"x left\">613.1504273504273</desc><desc class=\"y left\">262.3321678321678</desc></g><g class=\"dots\"><circle class=\"dot reactive tooltip-trigger\" cx=\"688.1076923076923\" cy=\"238.99300699300693\" r=\"2.5\"/><desc class=\"value\">83 (+22)</desc><desc class=\"x left\">688.1076923076923</desc><desc class=\"y left\">238.99300699300693</desc></g></g><g class=\"series serie-3 color-3\"><g class=\"dots\"><circle class=\"dot reactive tooltip-trigger\" cx=\"13.492307692307692\" cy=\"10.269230769230717\" r=\"2.5\"/><desc class=\"value\">132 (+38)</desc><desc class=\"x \">13.492307692307692</desc><desc class=\"y \">10.269230769230717</desc></g><g class=\"dots\"><circle class=\"dot reactive tooltip-trigger\" cx=\"88.44957264957263\" cy=\"210.98601398601392\" r=\"2.5\"/><desc class=\"value\">89 (+0)</desc><desc class=\"x \">88.44957264957263</desc><desc class=\"y \">210.98601398601392</desc></g><g class=\"dots\"><circle class=\"dot reactive tooltip-trigger\" cx=\"163.4068376068376\" cy=\"206.31818181818176\" r=\"2.5\"/><desc class=\"value\">90 (+20)</desc><desc class=\"x \">163.4068376068376</desc><desc class=\"y \">206.31818181818176</desc></g><g class=\"dots\"><circle class=\"dot reactive tooltip-trigger\" cx=\"238.36410256410258\" cy=\"215.65384615384613\" r=\"2.5\"/><desc class=\"value\">88 (+29)</desc><desc class=\"x \">238.36410256410258</desc><desc class=\"y \">215.65384615384613</desc></g><g class=\"dots\"><circle class=\"dot reactive tooltip-trigger\" cx=\"313.3213675213675\" cy=\"323.01398601398597\" r=\"2.5\"/><desc class=\"value\">65 (+33)</desc><desc class=\"x top\">313.3213675213675</desc><desc class=\"y top\">323.01398601398597</desc></g><g class=\"dots\"><circle class=\"dot reactive tooltip-trigger\" cx=\"388.2786324786325\" cy=\"229.6573426573426\" r=\"2.5\"/><desc class=\"value\">85 (+23)</desc><desc class=\"x left\">388.2786324786325</desc><desc class=\"y left\">229.6573426573426</desc></g><g class=\"dots\"><circle class=\"dot reactive tooltip-trigger\" cx=\"463.2358974358974\" cy=\"24.272727272727195\" r=\"2.5\"/><desc class=\"value\">129 (+32)</desc><desc class=\"x left\">463.2358974358974</desc><desc class=\"y left\">24.272727272727195</desc></g><g class=\"dots\"><circle class=\"dot reactive tooltip-trigger\" cx=\"538.1931623931624\" cy=\"28.940559440559355\" r=\"2.5\"/><desc class=\"value\">128 (+33)</desc><desc class=\"x left\">538.1931623931624</desc><desc class=\"y left\">28.940559440559355</desc></g><g class=\"dots\"><circle class=\"dot reactive tooltip-trigger\" cx=\"613.1504273504273\" cy=\"112.9615384615384\" r=\"2.5\"/><desc class=\"value\">110 (+32)</desc><desc class=\"x left\">613.1504273504273</desc><desc class=\"y left\">112.9615384615384</desc></g><g class=\"dots\"><circle class=\"dot reactive tooltip-trigger\" cx=\"688.1076923076923\" cy=\"131.6328671328671\" r=\"2.5\"/><desc class=\"value\">106 (+23)</desc><desc class=\"x left\">688.1076923076923</desc><desc class=\"y left\">131.6328671328671</desc></g></g></g><g class=\"plot text-overlay\" transform=\"translate(78, 46)\"><g class=\"series serie-0 color-0\"/><g class=\"series serie-1 color-1\"/><g class=\"series serie-2 color-2\"/><g class=\"series serie-3 color-3\"/></g><g class=\"plot tooltip-overlay\" transform=\"translate(78, 46)\"><g class=\"tooltip\" style=\"opacity: 0\" transform=\"translate(0 0)\"><rect class=\"tooltip-box\" height=\"0\" rx=\"0\" ry=\"0\" width=\"0\"/><g class=\"text\"/></g></g><g class=\"legends\" transform=\"translate(10, 56)\"><g class=\"legend reactive activate-serie\" id=\"activate-serie-0\"><rect class=\"color-0 reactive\" height=\"12\" width=\"12\" x=\"0.0\" y=\"1.0\"/><text x=\"17.0\" y=\"11.2\">A</text></g><g class=\"legend reactive activate-serie\" id=\"activate-serie-1\"><rect class=\"color-1 reactive\" height=\"12\" width=\"12\" x=\"0.0\" y=\"22.0\"/><text x=\"17.0\" y=\"32.2\">B</text></g><g class=\"legend reactive activate-serie\" id=\"activate-serie-2\"><rect class=\"color-2 reactive\" height=\"12\" width=\"12\" x=\"0.0\" y=\"43.0\"/><text x=\"17.0\" y=\"53.2\">C</text></g><g class=\"legend reactive activate-serie\" id=\"activate-serie-3\"><rect class=\"color-3 reactive\" height=\"12\" width=\"12\" x=\"0.0\" y=\"64.0\"/><text x=\"17.0\" y=\"74.2\">D</text></g></g><g class=\"legends\" transform=\"translate(790, 56)\"/></g></svg>"
          },
          "metadata": {},
          "execution_count": 8
        }
      ]
    },
    {
      "cell_type": "markdown",
      "metadata": {
        "id": "qLcGLGyCfZB1"
      },
      "source": [
        "You can also style a Bar Chart using `pygal.style` class."
      ]
    },
    {
      "cell_type": "code",
      "metadata": {
        "colab": {
          "base_uri": "https://localhost:8080/",
          "height": 729
        },
        "id": "9bNAzRDwfVG3",
        "outputId": "3467e04f-c8ea-41cf-dc61-cb224cd0265d"
      },
      "source": [
        "# S3.2: Styling a bar chart.\n",
        "# importing pygal\n",
        "import pygal\n",
        "from pygal.style import BlueStyle\n",
        "\n",
        "# creating the chart object\n",
        "bar = pygal.Bar(fill = True, style = BlueStyle)\n",
        "\n",
        "# naming the title\n",
        "bar.title = 'Bar Chart'\t\t\n",
        "\n",
        "# Random data\n",
        "bar.add('A', [26, 22, 39, 39, 32, 30, 33, 24, 24, 30])\n",
        "bar.add('B', [31, 40, None, None, None, None, 40, 32, 25, 31])\n",
        "bar.add('C', [37, 27, 31, 20, None, 32, 24, 39, 29, 22])\n",
        "bar.add('D', [38, None, 20, 29, 33, 23, 32, 33, 32, 23])\n",
        "\n",
        "bar\n"
      ],
      "execution_count": null,
      "outputs": [
        {
          "output_type": "execute_result",
          "data": {
            "image/png": "[encoded data removed]",
            "text/plain": [
              "<pygal.graph.bar.Bar at 0x7fea1b339310>"
            ],
            "image/svg+xml": "<svg xmlns:xlink=\"http://www.w3.org/1999/xlink\" xmlns=\"http://www.w3.org/2000/svg\" id=\"chart-478f7a96-83ac-4119-9626-dc387e7503f8\" class=\"pygal-chart\" viewBox=\"0 0 800 600\"><!--Generated with pygal 3.0.0 (lxml) ©Kozea 2012-2016 on 2021-12-29--><!--http://pygal.org--><!--http://github.com/Kozea/pygal--><defs><style type=\"text/css\">#chart-478f7a96-83ac-4119-9626-dc387e7503f8{-webkit-user-select:none;-webkit-font-smoothing:antialiased;font-family:Consolas,\"Liberation Mono\",Menlo,Courier,monospace}#chart-478f7a96-83ac-4119-9626-dc387e7503f8 .title{font-family:Consolas,\"Liberation Mono\",Menlo,Courier,monospace;font-size:16px}#chart-478f7a96-83ac-4119-9626-dc387e7503f8 .legends .legend text{font-family:Consolas,\"Liberation Mono\",Menlo,Courier,monospace;font-size:14px}#chart-478f7a96-83ac-4119-9626-dc387e7503f8 .axis text{font-family:Consolas,\"Liberation Mono\",Menlo,Courier,monospace;font-size:10px}#chart-478f7a96-83ac-4119-9626-dc387e7503f8 .axis text.major{font-family:Consolas,\"Liberation Mono\",Menlo,Courier,monospace;font-size:10px}#chart-478f7a96-83ac-4119-9626-dc387e7503f8 .text-overlay text.value{font-family:Consolas,\"Liberation Mono\",Menlo,Courier,monospace;font-size:16px}#chart-478f7a96-83ac-4119-9626-dc387e7503f8 .text-overlay text.label{font-family:Consolas,\"Liberation Mono\",Menlo,Courier,monospace;font-size:10px}#chart-478f7a96-83ac-4119-9626-dc387e7503f8 .tooltip{font-family:Consolas,\"Liberation Mono\",Menlo,Courier,monospace;font-size:14px}#chart-478f7a96-83ac-4119-9626-dc387e7503f8 text.no_data{font-family:Consolas,\"Liberation Mono\",Menlo,Courier,monospace;font-size:64px}\n#chart-478f7a96-83ac-4119-9626-dc387e7503f8{background-color:#f0f0f0}#chart-478f7a96-83ac-4119-9626-dc387e7503f8 path,#chart-478f7a96-83ac-4119-9626-dc387e7503f8 line,#chart-478f7a96-83ac-4119-9626-dc387e7503f8 rect,#chart-478f7a96-83ac-4119-9626-dc387e7503f8 circle{-webkit-transition:250ms ease-in;-moz-transition:250ms ease-in;transition:250ms ease-in}#chart-478f7a96-83ac-4119-9626-dc387e7503f8 .graph &gt; .background{fill:#f0f0f0}#chart-478f7a96-83ac-4119-9626-dc387e7503f8 .plot &gt; .background{fill:#f8f8f8}#chart-478f7a96-83ac-4119-9626-dc387e7503f8 .graph{fill:rgba(0,0,0,0.9)}#chart-478f7a96-83ac-4119-9626-dc387e7503f8 text.no_data{fill:rgba(0,0,0,0.9)}#chart-478f7a96-83ac-4119-9626-dc387e7503f8 .title{fill:rgba(0,0,0,0.9)}#chart-478f7a96-83ac-4119-9626-dc387e7503f8 .legends .legend text{fill:rgba(0,0,0,0.9)}#chart-478f7a96-83ac-4119-9626-dc387e7503f8 .legends .legend:hover text{fill:rgba(0,0,0,0.9)}#chart-478f7a96-83ac-4119-9626-dc387e7503f8 .axis .line{stroke:rgba(0,0,0,0.9)}#chart-478f7a96-83ac-4119-9626-dc387e7503f8 .axis .guide.line{stroke:rgba(0,0,0,0.6)}#chart-478f7a96-83ac-4119-9626-dc387e7503f8 .axis .major.line{stroke:rgba(0,0,0,0.9)}#chart-478f7a96-83ac-4119-9626-dc387e7503f8 .axis text.major{fill:rgba(0,0,0,0.9)}#chart-478f7a96-83ac-4119-9626-dc387e7503f8 .axis.y .guides:hover .guide.line,#chart-478f7a96-83ac-4119-9626-dc387e7503f8 .line-graph .axis.x .guides:hover .guide.line,#chart-478f7a96-83ac-4119-9626-dc387e7503f8 .stackedline-graph .axis.x .guides:hover .guide.line,#chart-478f7a96-83ac-4119-9626-dc387e7503f8 .xy-graph .axis.x .guides:hover .guide.line{stroke:rgba(0,0,0,0.9)}#chart-478f7a96-83ac-4119-9626-dc387e7503f8 .axis .guides:hover text{fill:rgba(0,0,0,0.9)}#chart-478f7a96-83ac-4119-9626-dc387e7503f8 .reactive{fill-opacity:.5;stroke-opacity:.8;stroke-width:1}#chart-478f7a96-83ac-4119-9626-dc387e7503f8 .ci{stroke:rgba(0,0,0,0.9)}#chart-478f7a96-83ac-4119-9626-dc387e7503f8 .reactive.active,#chart-478f7a96-83ac-4119-9626-dc387e7503f8 .active .reactive{fill-opacity:.9;stroke-opacity:.9;stroke-width:4}#chart-478f7a96-83ac-4119-9626-dc387e7503f8 .ci .reactive.active{stroke-width:1.5}#chart-478f7a96-83ac-4119-9626-dc387e7503f8 .series text{fill:rgba(0,0,0,0.9)}#chart-478f7a96-83ac-4119-9626-dc387e7503f8 .tooltip rect{fill:#f8f8f8;stroke:rgba(0,0,0,0.9);-webkit-transition:opacity 250ms ease-in;-moz-transition:opacity 250ms ease-in;transition:opacity 250ms ease-in}#chart-478f7a96-83ac-4119-9626-dc387e7503f8 .tooltip .label{fill:rgba(0,0,0,0.9)}#chart-478f7a96-83ac-4119-9626-dc387e7503f8 .tooltip .label{fill:rgba(0,0,0,0.9)}#chart-478f7a96-83ac-4119-9626-dc387e7503f8 .tooltip .legend{font-size:.8em;fill:rgba(0,0,0,0.6)}#chart-478f7a96-83ac-4119-9626-dc387e7503f8 .tooltip .x_label{font-size:.6em;fill:rgba(0,0,0,0.9)}#chart-478f7a96-83ac-4119-9626-dc387e7503f8 .tooltip .xlink{font-size:.5em;text-decoration:underline}#chart-478f7a96-83ac-4119-9626-dc387e7503f8 .tooltip .value{font-size:1.5em}#chart-478f7a96-83ac-4119-9626-dc387e7503f8 .bound{font-size:.5em}#chart-478f7a96-83ac-4119-9626-dc387e7503f8 .max-value{font-size:.75em;fill:rgba(0,0,0,0.6)}#chart-478f7a96-83ac-4119-9626-dc387e7503f8 .map-element{fill:#f8f8f8;stroke:rgba(0,0,0,0.6) !important}#chart-478f7a96-83ac-4119-9626-dc387e7503f8 .map-element .reactive{fill-opacity:inherit;stroke-opacity:inherit}#chart-478f7a96-83ac-4119-9626-dc387e7503f8 .color-0,#chart-478f7a96-83ac-4119-9626-dc387e7503f8 .color-0 a:visited{stroke:#00b2f0;fill:#00b2f0}#chart-478f7a96-83ac-4119-9626-dc387e7503f8 .color-1,#chart-478f7a96-83ac-4119-9626-dc387e7503f8 .color-1 a:visited{stroke:#43d9be;fill:#43d9be}#chart-478f7a96-83ac-4119-9626-dc387e7503f8 .color-2,#chart-478f7a96-83ac-4119-9626-dc387e7503f8 .color-2 a:visited{stroke:#0662ab;fill:#0662ab}#chart-478f7a96-83ac-4119-9626-dc387e7503f8 .color-3,#chart-478f7a96-83ac-4119-9626-dc387e7503f8 .color-3 a:visited{stroke:#00668a;fill:#00668a}#chart-478f7a96-83ac-4119-9626-dc387e7503f8 .text-overlay .color-0 text{fill:black}#chart-478f7a96-83ac-4119-9626-dc387e7503f8 .text-overlay .color-1 text{fill:black}#chart-478f7a96-83ac-4119-9626-dc387e7503f8 .text-overlay .color-2 text{fill:black}#chart-478f7a96-83ac-4119-9626-dc387e7503f8 .text-overlay .color-3 text{fill:black}\n#chart-478f7a96-83ac-4119-9626-dc387e7503f8 text.no_data{text-anchor:middle}#chart-478f7a96-83ac-4119-9626-dc387e7503f8 .guide.line{fill:none}#chart-478f7a96-83ac-4119-9626-dc387e7503f8 .centered{text-anchor:middle}#chart-478f7a96-83ac-4119-9626-dc387e7503f8 .title{text-anchor:middle}#chart-478f7a96-83ac-4119-9626-dc387e7503f8 .legends .legend text{fill-opacity:1}#chart-478f7a96-83ac-4119-9626-dc387e7503f8 .axis.x text{text-anchor:middle}#chart-478f7a96-83ac-4119-9626-dc387e7503f8 .axis.x:not(.web) text[transform]{text-anchor:start}#chart-478f7a96-83ac-4119-9626-dc387e7503f8 .axis.x:not(.web) text[transform].backwards{text-anchor:end}#chart-478f7a96-83ac-4119-9626-dc387e7503f8 .axis.y text{text-anchor:end}#chart-478f7a96-83ac-4119-9626-dc387e7503f8 .axis.y text[transform].backwards{text-anchor:start}#chart-478f7a96-83ac-4119-9626-dc387e7503f8 .axis.y2 text{text-anchor:start}#chart-478f7a96-83ac-4119-9626-dc387e7503f8 .axis.y2 text[transform].backwards{text-anchor:end}#chart-478f7a96-83ac-4119-9626-dc387e7503f8 .axis .guide.line{stroke-dasharray:4,4;stroke:black}#chart-478f7a96-83ac-4119-9626-dc387e7503f8 .axis .major.guide.line{stroke-dasharray:6,6;stroke:black}#chart-478f7a96-83ac-4119-9626-dc387e7503f8 .horizontal .axis.y .guide.line,#chart-478f7a96-83ac-4119-9626-dc387e7503f8 .horizontal .axis.y2 .guide.line,#chart-478f7a96-83ac-4119-9626-dc387e7503f8 .vertical .axis.x .guide.line{opacity:0}#chart-478f7a96-83ac-4119-9626-dc387e7503f8 .horizontal .axis.always_show .guide.line,#chart-478f7a96-83ac-4119-9626-dc387e7503f8 .vertical .axis.always_show .guide.line{opacity:1 !important}#chart-478f7a96-83ac-4119-9626-dc387e7503f8 .axis.y .guides:hover .guide.line,#chart-478f7a96-83ac-4119-9626-dc387e7503f8 .axis.y2 .guides:hover .guide.line,#chart-478f7a96-83ac-4119-9626-dc387e7503f8 .axis.x .guides:hover .guide.line{opacity:1}#chart-478f7a96-83ac-4119-9626-dc387e7503f8 .axis .guides:hover text{opacity:1}#chart-478f7a96-83ac-4119-9626-dc387e7503f8 .nofill{fill:none}#chart-478f7a96-83ac-4119-9626-dc387e7503f8 .subtle-fill{fill-opacity:.2}#chart-478f7a96-83ac-4119-9626-dc387e7503f8 .dot{stroke-width:1px;fill-opacity:1;stroke-opacity:1}#chart-478f7a96-83ac-4119-9626-dc387e7503f8 .dot.active{stroke-width:5px}#chart-478f7a96-83ac-4119-9626-dc387e7503f8 .dot.negative{fill:transparent}#chart-478f7a96-83ac-4119-9626-dc387e7503f8 text,#chart-478f7a96-83ac-4119-9626-dc387e7503f8 tspan{stroke:none !important}#chart-478f7a96-83ac-4119-9626-dc387e7503f8 .series text.active{opacity:1}#chart-478f7a96-83ac-4119-9626-dc387e7503f8 .tooltip rect{fill-opacity:.95;stroke-width:.5}#chart-478f7a96-83ac-4119-9626-dc387e7503f8 .tooltip text{fill-opacity:1}#chart-478f7a96-83ac-4119-9626-dc387e7503f8 .showable{visibility:hidden}#chart-478f7a96-83ac-4119-9626-dc387e7503f8 .showable.shown{visibility:visible}#chart-478f7a96-83ac-4119-9626-dc387e7503f8 .gauge-background{fill:rgba(229,229,229,1);stroke:none}#chart-478f7a96-83ac-4119-9626-dc387e7503f8 .bg-lines{stroke:#f0f0f0;stroke-width:2px}</style><script type=\"text/javascript\">window.pygal = window.pygal || {};window.pygal.config = window.pygal.config || {};window.pygal.config['478f7a96-83ac-4119-9626-dc387e7503f8'] = {\"allow_interruptions\": false, \"box_mode\": \"extremes\", \"classes\": [\"pygal-chart\"], \"css\": [\"file://style.css\", \"file://graph.css\"], \"defs\": [], \"disable_xml_declaration\": true, \"dots_size\": 2.5, \"dynamic_print_values\": false, \"explicit_size\": false, \"fill\": true, \"force_uri_protocol\": \"https\", \"formatter\": null, \"half_pie\": false, \"height\": 600, \"include_x_axis\": false, \"inner_radius\": 0, \"interpolate\": null, \"interpolation_parameters\": {}, \"interpolation_precision\": 250, \"inverse_y_axis\": false, \"js\": [\"//kozea.github.io/pygal.js/2.0.x/pygal-tooltips.min.js\"], \"legend_at_bottom\": false, \"legend_at_bottom_columns\": null, \"legend_box_size\": 12, \"logarithmic\": false, \"margin\": 20, \"margin_bottom\": null, \"margin_left\": null, \"margin_right\": null, \"margin_top\": null, \"max_scale\": 16, \"min_scale\": 4, \"missing_value_fill_truncation\": \"x\", \"no_data_text\": \"No data\", \"no_prefix\": false, \"order_min\": null, \"pretty_print\": false, \"print_labels\": false, \"print_values\": false, \"print_values_position\": \"center\", \"print_zeroes\": true, \"range\": null, \"rounded_bars\": null, \"secondary_range\": null, \"show_dots\": true, \"show_legend\": true, \"show_minor_x_labels\": true, \"show_minor_y_labels\": true, \"show_only_major_dots\": false, \"show_x_guides\": false, \"show_x_labels\": true, \"show_y_guides\": true, \"show_y_labels\": true, \"spacing\": 10, \"stack_from_top\": false, \"strict\": false, \"stroke\": true, \"stroke_style\": null, \"style\": {\"background\": \"#f0f0f0\", \"ci_colors\": [], \"colors\": [\"#00b2f0\", \"#43d9be\", \"#0662ab\", \"#00668a\", \"#98eadb\", \"#97d959\", \"#033861\", \"#ffd541\", \"#7dcf30\", \"#3ecdff\", \"#daaa00\"], \"dot_opacity\": \"1\", \"font_family\": \"Consolas, \\\"Liberation Mono\\\", Menlo, Courier, monospace\", \"foreground\": \"rgba(0, 0, 0, 0.9)\", \"foreground_strong\": \"rgba(0, 0, 0, 0.9)\", \"foreground_subtle\": \"rgba(0, 0, 0, 0.6)\", \"guide_stroke_color\": \"black\", \"guide_stroke_dasharray\": \"4,4\", \"label_font_family\": \"Consolas, \\\"Liberation Mono\\\", Menlo, Courier, monospace\", \"label_font_size\": 10, \"legend_font_family\": \"Consolas, \\\"Liberation Mono\\\", Menlo, Courier, monospace\", \"legend_font_size\": 14, \"major_guide_stroke_color\": \"black\", \"major_guide_stroke_dasharray\": \"6,6\", \"major_label_font_family\": \"Consolas, \\\"Liberation Mono\\\", Menlo, Courier, monospace\", \"major_label_font_size\": 10, \"no_data_font_family\": \"Consolas, \\\"Liberation Mono\\\", Menlo, Courier, monospace\", \"no_data_font_size\": 64, \"opacity\": \".5\", \"opacity_hover\": \".9\", \"plot_background\": \"#f8f8f8\", \"stroke_opacity\": \".8\", \"stroke_opacity_hover\": \".9\", \"stroke_width\": \"1\", \"stroke_width_hover\": \"4\", \"title_font_family\": \"Consolas, \\\"Liberation Mono\\\", Menlo, Courier, monospace\", \"title_font_size\": 16, \"tooltip_font_family\": \"Consolas, \\\"Liberation Mono\\\", Menlo, Courier, monospace\", \"tooltip_font_size\": 14, \"transition\": \"250ms ease-in\", \"value_background\": \"rgba(229, 229, 229, 1)\", \"value_colors\": [], \"value_font_family\": \"Consolas, \\\"Liberation Mono\\\", Menlo, Courier, monospace\", \"value_font_size\": 16, \"value_label_font_family\": \"Consolas, \\\"Liberation Mono\\\", Menlo, Courier, monospace\", \"value_label_font_size\": 10}, \"title\": \"Bar Chart\", \"tooltip_border_radius\": 0, \"tooltip_fancy_mode\": true, \"truncate_label\": null, \"truncate_legend\": null, \"width\": 800, \"x_label_rotation\": 0, \"x_labels\": null, \"x_labels_major\": null, \"x_labels_major_count\": null, \"x_labels_major_every\": null, \"x_title\": null, \"xrange\": null, \"y_label_rotation\": 0, \"y_labels\": null, \"y_labels_major\": null, \"y_labels_major_count\": null, \"y_labels_major_every\": null, \"y_title\": null, \"zero\": 0, \"legends\": [\"A\", \"B\", \"C\", \"D\"]}</script><script type=\"text/javascript\" xlink:href=\"https://kozea.github.io/pygal.js/2.0.x/pygal-tooltips.min.js\"/></defs><title>Bar Chart</title><g class=\"graph bar-graph vertical\"><rect class=\"background\" height=\"600\" width=\"800\" x=\"0\" y=\"0\"/><g class=\"plot\" transform=\"translate(72, 46)\"><rect class=\"background\" height=\"534\" width=\"707.6\" x=\"0\" y=\"0\"/><g class=\"axis y always_show\"><g class=\"guides\"><path class=\"axis major line\" d=\"M0.000000 523.730769 h707.600000\"/><text class=\"major\" x=\"-5\" y=\"527.2307692307693\">0</text><title>0</title></g><g class=\"guides\"><path class=\"guide line\" d=\"M0.000000 395.365385 h707.600000\"/><text class=\"\" x=\"-5\" y=\"398.8653846153846\">10</text><title>10</title></g><g class=\"guides\"><path class=\"guide line\" d=\"M0.000000 267.000000 h707.600000\"/><text class=\"\" x=\"-5\" y=\"270.49999999999994\">20</text><title>20</title></g><g class=\"guides\"><path class=\"guide line\" d=\"M0.000000 138.634615 h707.600000\"/><text class=\"\" x=\"-5\" y=\"142.1346153846153\">30</text><title>30</title></g><g class=\"guides\"><path class=\"guide line\" d=\"M0.000000 10.269231 h707.600000\"/><text class=\"\" x=\"-5\" y=\"13.769230769230717\">40</text><title>40</title></g></g><g class=\"series serie-0 color-0\"><g class=\"bars\"><g class=\"bar\"><rect class=\"rect reactive tooltip-trigger\" height=\"333.7500000000001\" rx=\"0\" ry=\"0\" width=\"13.172246153846151\" x=\"18.588107692307695\" y=\"189.98076923076917\"/><desc class=\"value\">26</desc><desc class=\"x centered\">25.17423076923077</desc><desc class=\"y centered\">356.8557692307692</desc></g><g class=\"bar\"><rect class=\"rect reactive tooltip-trigger\" height=\"282.40384615384625\" rx=\"0\" ry=\"0\" width=\"13.172246153846151\" x=\"86.62656923076923\" y=\"241.32692307692304\"/><desc class=\"value\">22</desc><desc class=\"x centered\">93.21269230769231</desc><desc class=\"y centered\">382.5288461538462</desc></g><g class=\"bar\"><rect class=\"rect reactive tooltip-trigger\" height=\"500.62500000000006\" rx=\"0\" ry=\"0\" width=\"13.172246153846151\" x=\"154.66503076923075\" y=\"23.105769230769226\"/><desc class=\"value\">39</desc><desc class=\"x centered\">161.25115384615384</desc><desc class=\"y centered\">273.4182692307693</desc></g><g class=\"bar\"><rect class=\"rect reactive tooltip-trigger\" height=\"500.62500000000006\" rx=\"0\" ry=\"0\" width=\"13.172246153846151\" x=\"222.70349230769233\" y=\"23.105769230769226\"/><desc class=\"value\">39</desc><desc class=\"x centered\">229.28961538461542</desc><desc class=\"y centered\">273.4182692307693</desc></g><g class=\"bar\"><rect class=\"rect reactive tooltip-trigger\" height=\"410.76923076923083\" rx=\"0\" ry=\"0\" width=\"13.172246153846151\" x=\"290.7419538461539\" y=\"112.96153846153845\"/><desc class=\"value\">32</desc><desc class=\"x centered\">297.32807692307694</desc><desc class=\"y centered\">318.34615384615387</desc></g><g class=\"bar\"><rect class=\"rect reactive tooltip-trigger\" height=\"385.096153846154\" rx=\"0\" ry=\"0\" width=\"13.172246153846151\" x=\"358.78041538461537\" y=\"138.6346153846153\"/><desc class=\"value\">30</desc><desc class=\"x centered\">365.3665384615384</desc><desc class=\"y centered\">331.18269230769226</desc></g><g class=\"bar\"><rect class=\"rect reactive tooltip-trigger\" height=\"423.6057692307693\" rx=\"0\" ry=\"0\" width=\"13.172246153846151\" x=\"426.81887692307686\" y=\"100.125\"/><desc class=\"value\">33</desc><desc class=\"x centered\">433.4049999999999</desc><desc class=\"y centered\">311.92788461538464</desc></g><g class=\"bar\"><rect class=\"rect reactive tooltip-trigger\" height=\"308.0769230769232\" rx=\"0\" ry=\"0\" width=\"13.172246153846151\" x=\"494.8573384615384\" y=\"215.65384615384608\"/><desc class=\"value\">24</desc><desc class=\"x centered\">501.44346153846146</desc><desc class=\"y centered\">369.6923076923077</desc></g><g class=\"bar\"><rect class=\"rect reactive tooltip-trigger\" height=\"308.0769230769232\" rx=\"0\" ry=\"0\" width=\"13.172246153846151\" x=\"562.8958000000001\" y=\"215.65384615384608\"/><desc class=\"value\">24</desc><desc class=\"x centered\">569.4819230769232</desc><desc class=\"y centered\">369.6923076923077</desc></g><g class=\"bar\"><rect class=\"rect reactive tooltip-trigger\" height=\"385.096153846154\" rx=\"0\" ry=\"0\" width=\"13.172246153846151\" x=\"630.9342615384617\" y=\"138.6346153846153\"/><desc class=\"value\">30</desc><desc class=\"x centered\">637.5203846153847</desc><desc class=\"y centered\">331.18269230769226</desc></g></g></g><g class=\"series serie-1 color-1\"><g class=\"bars\"><g class=\"bar\"><rect class=\"rect reactive tooltip-trigger\" height=\"397.93269230769243\" rx=\"0\" ry=\"0\" width=\"13.172246153846151\" x=\"33.55656923076923\" y=\"125.79807692307685\"/><desc class=\"value\">31</desc><desc class=\"x centered\">40.1426923076923</desc><desc class=\"y centered\">324.7644230769231</desc></g><g class=\"bar\"><rect class=\"rect reactive tooltip-trigger\" height=\"513.4615384615386\" rx=\"0\" ry=\"0\" width=\"13.172246153846151\" x=\"101.59503076923077\" y=\"10.269230769230717\"/><desc class=\"value\">40</desc><desc class=\"x centered\">108.18115384615385</desc><desc class=\"y centered\">267.0</desc></g><g class=\"bar\"><rect class=\"rect reactive tooltip-trigger\" height=\"513.4615384615386\" rx=\"0\" ry=\"0\" width=\"13.172246153846151\" x=\"441.7873384615384\" y=\"10.269230769230717\"/><desc class=\"value\">40</desc><desc class=\"x centered\">448.37346153846147</desc><desc class=\"y centered\">267.0</desc></g><g class=\"bar\"><rect class=\"rect reactive tooltip-trigger\" height=\"410.76923076923083\" rx=\"0\" ry=\"0\" width=\"13.172246153846151\" x=\"509.82579999999996\" y=\"112.96153846153845\"/><desc class=\"value\">32</desc><desc class=\"x centered\">516.411923076923</desc><desc class=\"y centered\">318.34615384615387</desc></g><g class=\"bar\"><rect class=\"rect reactive tooltip-trigger\" height=\"320.91346153846166\" rx=\"0\" ry=\"0\" width=\"13.172246153846151\" x=\"577.8642615384616\" y=\"202.81730769230762\"/><desc class=\"value\">25</desc><desc class=\"x centered\">584.4503846153847</desc><desc class=\"y centered\">363.27403846153845</desc></g><g class=\"bar\"><rect class=\"rect reactive tooltip-trigger\" height=\"397.93269230769243\" rx=\"0\" ry=\"0\" width=\"13.172246153846151\" x=\"645.9027230769232\" y=\"125.79807692307685\"/><desc class=\"value\">31</desc><desc class=\"x centered\">652.4888461538462</desc><desc class=\"y centered\">324.7644230769231</desc></g></g></g><g class=\"series serie-2 color-2\"><g class=\"bars\"><g class=\"bar\"><rect class=\"rect reactive tooltip-trigger\" height=\"474.95192307692315\" rx=\"0\" ry=\"0\" width=\"13.172246153846151\" x=\"48.52503076923077\" y=\"48.77884615384613\"/><desc class=\"value\">37</desc><desc class=\"x centered\">55.11115384615384</desc><desc class=\"y centered\">286.25480769230774</desc></g><g class=\"bar\"><rect class=\"rect reactive tooltip-trigger\" height=\"346.58653846153857\" rx=\"0\" ry=\"0\" width=\"13.172246153846151\" x=\"116.56349230769231\" y=\"177.14423076923072\"/><desc class=\"value\">27</desc><desc class=\"x centered\">123.14961538461539</desc><desc class=\"y centered\">350.4375</desc></g><g class=\"bar\"><rect class=\"rect reactive tooltip-trigger\" height=\"397.93269230769243\" rx=\"0\" ry=\"0\" width=\"13.172246153846151\" x=\"184.60195384615383\" y=\"125.79807692307685\"/><desc class=\"value\">31</desc><desc class=\"x centered\">191.18807692307692</desc><desc class=\"y centered\">324.7644230769231</desc></g><g class=\"bar\"><rect class=\"rect reactive tooltip-trigger\" height=\"256.73076923076934\" rx=\"0\" ry=\"0\" width=\"13.172246153846151\" x=\"252.6404153846154\" y=\"266.99999999999994\"/><desc class=\"value\">20</desc><desc class=\"x centered\">259.2265384615385</desc><desc class=\"y centered\">395.36538461538464</desc></g><g class=\"bar\"><rect class=\"rect reactive tooltip-trigger\" height=\"410.76923076923083\" rx=\"0\" ry=\"0\" width=\"13.172246153846151\" x=\"388.7173384615384\" y=\"112.96153846153845\"/><desc class=\"value\">32</desc><desc class=\"x centered\">395.3034615384615</desc><desc class=\"y centered\">318.34615384615387</desc></g><g class=\"bar\"><rect class=\"rect reactive tooltip-trigger\" height=\"308.0769230769232\" rx=\"0\" ry=\"0\" width=\"13.172246153846151\" x=\"456.7557999999999\" y=\"215.65384615384608\"/><desc class=\"value\">24</desc><desc class=\"x centered\">463.34192307692297</desc><desc class=\"y centered\">369.6923076923077</desc></g><g class=\"bar\"><rect class=\"rect reactive tooltip-trigger\" height=\"500.62500000000006\" rx=\"0\" ry=\"0\" width=\"13.172246153846151\" x=\"524.7942615384615\" y=\"23.105769230769226\"/><desc class=\"value\">39</desc><desc class=\"x centered\">531.3803846153845</desc><desc class=\"y centered\">273.4182692307693</desc></g><g class=\"bar\"><rect class=\"rect reactive tooltip-trigger\" height=\"372.25961538461553\" rx=\"0\" ry=\"0\" width=\"13.172246153846151\" x=\"592.8327230769232\" y=\"151.47115384615375\"/><desc class=\"value\">29</desc><desc class=\"x centered\">599.4188461538463</desc><desc class=\"y centered\">337.60096153846155</desc></g><g class=\"bar\"><rect class=\"rect reactive tooltip-trigger\" height=\"282.40384615384625\" rx=\"0\" ry=\"0\" width=\"13.172246153846151\" x=\"660.8711846153848\" y=\"241.32692307692304\"/><desc class=\"value\">22</desc><desc class=\"x centered\">667.4573076923078</desc><desc class=\"y centered\">382.5288461538462</desc></g></g></g><g class=\"series serie-3 color-3\"><g class=\"bars\"><g class=\"bar\"><rect class=\"rect reactive tooltip-trigger\" height=\"487.7884615384616\" rx=\"0\" ry=\"0\" width=\"13.172246153846151\" x=\"63.49349230769229\" y=\"35.94230769230768\"/><desc class=\"value\">38</desc><desc class=\"x centered\">70.07961538461537</desc><desc class=\"y centered\">279.83653846153845</desc></g><g class=\"bar\"><rect class=\"rect reactive tooltip-trigger\" height=\"256.73076923076934\" rx=\"0\" ry=\"0\" width=\"13.172246153846151\" x=\"199.57041538461536\" y=\"266.99999999999994\"/><desc class=\"value\">20</desc><desc class=\"x centered\">206.15653846153845</desc><desc class=\"y centered\">395.36538461538464</desc></g><g class=\"bar\"><rect class=\"rect reactive tooltip-trigger\" height=\"372.25961538461553\" rx=\"0\" ry=\"0\" width=\"13.172246153846151\" x=\"267.60887692307693\" y=\"151.47115384615375\"/><desc class=\"value\">29</desc><desc class=\"x centered\">274.195</desc><desc class=\"y centered\">337.60096153846155</desc></g><g class=\"bar\"><rect class=\"rect reactive tooltip-trigger\" height=\"423.6057692307693\" rx=\"0\" ry=\"0\" width=\"13.172246153846151\" x=\"335.6473384615385\" y=\"100.125\"/><desc class=\"value\">33</desc><desc class=\"x centered\">342.23346153846154</desc><desc class=\"y centered\">311.92788461538464</desc></g><g class=\"bar\"><rect class=\"rect reactive tooltip-trigger\" height=\"295.24038461538476\" rx=\"0\" ry=\"0\" width=\"13.172246153846151\" x=\"403.6858\" y=\"228.49038461538453\"/><desc class=\"value\">23</desc><desc class=\"x centered\">410.27192307692303</desc><desc class=\"y centered\">376.1105769230769</desc></g><g class=\"bar\"><rect class=\"rect reactive tooltip-trigger\" height=\"410.76923076923083\" rx=\"0\" ry=\"0\" width=\"13.172246153846151\" x=\"471.72426153846146\" y=\"112.96153846153845\"/><desc class=\"value\">32</desc><desc class=\"x centered\">478.3103846153845</desc><desc class=\"y centered\">318.34615384615387</desc></g><g class=\"bar\"><rect class=\"rect reactive tooltip-trigger\" height=\"423.6057692307693\" rx=\"0\" ry=\"0\" width=\"13.172246153846151\" x=\"539.762723076923\" y=\"100.125\"/><desc class=\"value\">33</desc><desc class=\"x centered\">546.348846153846</desc><desc class=\"y centered\">311.92788461538464</desc></g><g class=\"bar\"><rect class=\"rect reactive tooltip-trigger\" height=\"410.76923076923083\" rx=\"0\" ry=\"0\" width=\"13.172246153846151\" x=\"607.8011846153847\" y=\"112.96153846153845\"/><desc class=\"value\">32</desc><desc class=\"x centered\">614.3873076923078</desc><desc class=\"y centered\">318.34615384615387</desc></g><g class=\"bar\"><rect class=\"rect reactive tooltip-trigger\" height=\"295.24038461538476\" rx=\"0\" ry=\"0\" width=\"13.172246153846151\" x=\"675.8396461538463\" y=\"228.49038461538453\"/><desc class=\"value\">23</desc><desc class=\"x centered\">682.4257692307693</desc><desc class=\"y centered\">376.1105769230769</desc></g></g></g></g><g class=\"titles\"><text class=\"title plot_title\" x=\"400.0\" y=\"26\">Bar Chart</text></g><g class=\"plot overlay\" transform=\"translate(72, 46)\"><g class=\"series serie-0 color-0\"/><g class=\"series serie-1 color-1\"/><g class=\"series serie-2 color-2\"/><g class=\"series serie-3 color-3\"/></g><g class=\"plot text-overlay\" transform=\"translate(72, 46)\"><g class=\"series serie-0 color-0\"/><g class=\"series serie-1 color-1\"/><g class=\"series serie-2 color-2\"/><g class=\"series serie-3 color-3\"/></g><g class=\"plot tooltip-overlay\" transform=\"translate(72, 46)\"><g class=\"tooltip\" style=\"opacity: 0\" transform=\"translate(0 0)\"><rect class=\"tooltip-box\" height=\"0\" rx=\"0\" ry=\"0\" width=\"0\"/><g class=\"text\"/></g></g><g class=\"legends\" transform=\"translate(10, 56)\"><g class=\"legend reactive activate-serie\" id=\"activate-serie-0\"><rect class=\"color-0 reactive\" height=\"12\" width=\"12\" x=\"0.0\" y=\"1.0\"/><text x=\"17.0\" y=\"11.2\">A</text></g><g class=\"legend reactive activate-serie\" id=\"activate-serie-1\"><rect class=\"color-1 reactive\" height=\"12\" width=\"12\" x=\"0.0\" y=\"22.0\"/><text x=\"17.0\" y=\"32.2\">B</text></g><g class=\"legend reactive activate-serie\" id=\"activate-serie-2\"><rect class=\"color-2 reactive\" height=\"12\" width=\"12\" x=\"0.0\" y=\"43.0\"/><text x=\"17.0\" y=\"53.2\">C</text></g><g class=\"legend reactive activate-serie\" id=\"activate-serie-3\"><rect class=\"color-3 reactive\" height=\"12\" width=\"12\" x=\"0.0\" y=\"64.0\"/><text x=\"17.0\" y=\"74.2\">D</text></g></g><g class=\"legends\" transform=\"translate(790, 56)\"/></g></svg>"
          },
          "metadata": {},
          "execution_count": 9
        }
      ]
    },
    {
      "cell_type": "markdown",
      "metadata": {
        "id": "DUeorDqVN04S"
      },
      "source": [
        "As you can see, we have successfully created a custom styled bar plot using the `pygal` module."
      ]
    },
    {
      "cell_type": "markdown",
      "metadata": {
        "id": "y36y5F0Wf1De"
      },
      "source": [
        "---"
      ]
    },
    {
      "cell_type": "markdown",
      "metadata": {
        "id": "I9LcFnKncPQv"
      },
      "source": [
        "#### Task 4: Altair\n",
        "\n",
        "\n",
        "Altair is an open-source Python library used for declarative statistical visualization and is based on Vega and Vega-Lite. Altair creates highly interactive and informative visualizations so that we can spend more time understanding the data we are using and its meaning.\n",
        "\n",
        "Altair’s is simple, easy to use, and consistent because it is built on top of the powerful Vega-Lite visualization grammar. It produces beautiful and effective visualizations with a minimal amount of code. The visualizations produced can be downloaded in different formats and can be manipulated using different parameters.\n",
        "\n",
        "The following command can be used to install Altair like any other Python library:\n",
        "\n",
        "`!pip install --upgrade altair`\n",
        "\n",
        "We are going to use datasets from the `vega_datasets` package. To install, the following command should be employed:\n",
        "\n",
        "`pip install vega_datasets`\n",
        "\n",
        "**Essential elements of an Altair chart:**\n",
        "\n",
        "All Altair charts need three essential elements: Data, Mark, and Encoding. A valid chart can also be made by specifying only the data and mark.\n",
        "\n",
        "The basic format of all altair chart is:\n",
        "\n",
        "1. Make a chart. \n",
        "2. Pass in some data. \n",
        "3. Specify the type of mark you want. \n",
        "4. Specify the encoding.\n",
        "\n",
        "```python\n",
        "alt.Chart(data).mark_bar().encode( \n",
        "       encoding1 = 'column1', \n",
        "       encoding2 = 'column2', \n",
        "\n",
        ")\n",
        "```\n",
        "\n",
        "\n",
        "Let us visualize the iris dataset from the `vega_datasets` library in the form of a scatter plot. \n",
        "\n",
        "The mark method used for the scatter plot in this example is `mark_point()`. For this bi-variate analysis, we map the `sepalLength` and `petalLength` columns to the `x` and `y` axes encoding. Further, to differentiate the points from each other, we map the shape encoding to the species column. \n"
      ]
    },
    {
      "cell_type": "code",
      "metadata": {
        "colab": {
          "base_uri": "https://localhost:8080/",
          "height": 368
        },
        "id": "ezLrC0Euho3U",
        "outputId": "c31b440e-4200-4306-c4fa-fde6a6528096"
      },
      "source": [
        "# S4.1: Create scatter plot using 'altair' library.\n",
        "# Importing altair\n",
        "import altair as alt\n",
        "# Import data object from vega_datasets\n",
        "from vega_datasets import data\n",
        "\n",
        "# Selecting the data\n",
        "iris = data.iris()\n",
        "\n",
        "# Making the Scatter Plot\n",
        "alt.Chart(iris).mark_point().encode(\n",
        "\t# Map the sepalLength to x-axis\n",
        "\tx='sepalLength',\n",
        "\t# Map the petalLength to y-axis\n",
        "\ty='petalLength',\n",
        "\t# Map the species to shape\n",
        "\tshape='species'\n",
        ")\n"
      ],
      "execution_count": null,
      "outputs": [
        {
          "output_type": "execute_result",
          "data": {
            "text/plain": [
              "alt.Chart(...)"
            ],
            "text/html": [
              "\n",
              "<div id=\"altair-viz-1965c01f546b47e29f12da25966c4ba2\"></div>\n",
              "<script type=\"text/javascript\">\n",
              "  (function(spec, embedOpt){\n",
              "    let outputDiv = document.currentScript.previousElementSibling;\n",
              "    if (outputDiv.id !== \"altair-viz-1965c01f546b47e29f12da25966c4ba2\") {\n",
              "      outputDiv = document.getElementById(\"altair-viz-1965c01f546b47e29f12da25966c4ba2\");\n",
              "    }\n",
              "    const paths = {\n",
              "      \"vega\": \"https://cdn.jsdelivr.net/npm//vega@5?noext\",\n",
              "      \"vega-lib\": \"https://cdn.jsdelivr.net/npm//vega-lib?noext\",\n",
              "      \"vega-lite\": \"https://cdn.jsdelivr.net/npm//vega-lite@4.8.1?noext\",\n",
              "      \"vega-embed\": \"https://cdn.jsdelivr.net/npm//vega-embed@6?noext\",\n",
              "    };\n",
              "\n",
              "    function loadScript(lib) {\n",
              "      return new Promise(function(resolve, reject) {\n",
              "        var s = document.createElement('script');\n",
              "        s.src = paths[lib];\n",
              "        s.async = true;\n",
              "        s.onload = () => resolve(paths[lib]);\n",
              "        s.onerror = () => reject(`Error loading script: ${paths[lib]}`);\n",
              "        document.getElementsByTagName(\"head\")[0].appendChild(s);\n",
              "      });\n",
              "    }\n",
              "\n",
              "    function showError(err) {\n",
              "      outputDiv.innerHTML = `<div class=\"error\" style=\"color:red;\">${err}</div>`;\n",
              "      throw err;\n",
              "    }\n",
              "\n",
              "    function displayChart(vegaEmbed) {\n",
              "      vegaEmbed(outputDiv, spec, embedOpt)\n",
              "        .catch(err => showError(`Javascript Error: ${err.message}<br>This usually means there's a typo in your chart specification. See the javascript console for the full traceback.`));\n",
              "    }\n",
              "\n",
              "    if(typeof define === \"function\" && define.amd) {\n",
              "      requirejs.config({paths});\n",
              "      require([\"vega-embed\"], displayChart, err => showError(`Error loading script: ${err.message}`));\n",
              "    } else if (typeof vegaEmbed === \"function\") {\n",
              "      displayChart(vegaEmbed);\n",
              "    } else {\n",
              "      loadScript(\"vega\")\n",
              "        .then(() => loadScript(\"vega-lite\"))\n",
              "        .then(() => loadScript(\"vega-embed\"))\n",
              "        .catch(showError)\n",
              "        .then(() => displayChart(vegaEmbed));\n",
              "    }\n",
              "  })({\"config\": {\"view\": {\"continuousWidth\": 400, \"continuousHeight\": 300}}, \"data\": {\"name\": \"data-a264acbd6e539a8b3afc0cb5f240fb57\"}, \"mark\": \"point\", \"encoding\": {\"shape\": {\"type\": \"nominal\", \"field\": \"species\"}, \"x\": {\"type\": \"quantitative\", \"field\": \"sepalLength\"}, \"y\": {\"type\": \"quantitative\", \"field\": \"petalLength\"}}, \"$schema\": \"https://vega.github.io/schema/vega-lite/v4.8.1.json\", \"datasets\": {\"data-a264acbd6e539a8b3afc0cb5f240fb57\": [{\"sepalLength\": 5.1, \"sepalWidth\": 3.5, \"petalLength\": 1.4, \"petalWidth\": 0.2, \"species\": \"setosa\"}, {\"sepalLength\": 4.9, \"sepalWidth\": 3.0, \"petalLength\": 1.4, \"petalWidth\": 0.2, \"species\": \"setosa\"}, {\"sepalLength\": 4.7, \"sepalWidth\": 3.2, \"petalLength\": 1.3, \"petalWidth\": 0.2, \"species\": \"setosa\"}, {\"sepalLength\": 4.6, \"sepalWidth\": 3.1, \"petalLength\": 1.5, \"petalWidth\": 0.2, \"species\": \"setosa\"}, {\"sepalLength\": 5.0, \"sepalWidth\": 3.6, \"petalLength\": 1.4, \"petalWidth\": 0.2, \"species\": \"setosa\"}, {\"sepalLength\": 5.4, \"sepalWidth\": 3.9, \"petalLength\": 1.7000000000000002, \"petalWidth\": 0.4, \"species\": \"setosa\"}, {\"sepalLength\": 4.6, \"sepalWidth\": 3.4, \"petalLength\": 1.4, \"petalWidth\": 0.30000000000000004, \"species\": \"setosa\"}, {\"sepalLength\": 5.0, \"sepalWidth\": 3.4, \"petalLength\": 1.5, \"petalWidth\": 0.2, \"species\": \"setosa\"}, {\"sepalLength\": 4.4, \"sepalWidth\": 2.9, \"petalLength\": 1.4, \"petalWidth\": 0.2, \"species\": \"setosa\"}, {\"sepalLength\": 4.9, \"sepalWidth\": 3.1, \"petalLength\": 1.5, \"petalWidth\": 0.1, \"species\": \"setosa\"}, {\"sepalLength\": 5.4, \"sepalWidth\": 3.7, \"petalLength\": 1.5, \"petalWidth\": 0.2, \"species\": \"setosa\"}, {\"sepalLength\": 4.8, \"sepalWidth\": 3.4, \"petalLength\": 1.6, \"petalWidth\": 0.2, \"species\": \"setosa\"}, {\"sepalLength\": 4.8, \"sepalWidth\": 3.0, \"petalLength\": 1.4, \"petalWidth\": 0.1, \"species\": \"setosa\"}, {\"sepalLength\": 4.3, \"sepalWidth\": 3.0, \"petalLength\": 1.1, \"petalWidth\": 0.1, \"species\": \"setosa\"}, {\"sepalLength\": 5.8, \"sepalWidth\": 4.0, \"petalLength\": 1.2, \"petalWidth\": 0.2, \"species\": \"setosa\"}, {\"sepalLength\": 5.7, \"sepalWidth\": 4.4, \"petalLength\": 1.5, \"petalWidth\": 0.4, \"species\": \"setosa\"}, {\"sepalLength\": 5.4, \"sepalWidth\": 3.9, \"petalLength\": 1.3, \"petalWidth\": 0.4, \"species\": \"setosa\"}, {\"sepalLength\": 5.1, \"sepalWidth\": 3.5, \"petalLength\": 1.4, \"petalWidth\": 0.30000000000000004, \"species\": \"setosa\"}, {\"sepalLength\": 5.7, \"sepalWidth\": 3.8, \"petalLength\": 1.7000000000000002, \"petalWidth\": 0.30000000000000004, \"species\": \"setosa\"}, {\"sepalLength\": 5.1, \"sepalWidth\": 3.8, \"petalLength\": 1.5, \"petalWidth\": 0.30000000000000004, \"species\": \"setosa\"}, {\"sepalLength\": 5.4, \"sepalWidth\": 3.4, \"petalLength\": 1.7000000000000002, \"petalWidth\": 0.2, \"species\": \"setosa\"}, {\"sepalLength\": 5.1, \"sepalWidth\": 3.7, \"petalLength\": 1.5, \"petalWidth\": 0.4, \"species\": \"setosa\"}, {\"sepalLength\": 4.6, \"sepalWidth\": 3.6, \"petalLength\": 1.0, \"petalWidth\": 0.2, \"species\": \"setosa\"}, {\"sepalLength\": 5.1, \"sepalWidth\": 3.3, \"petalLength\": 1.7000000000000002, \"petalWidth\": 0.5, \"species\": \"setosa\"}, {\"sepalLength\": 4.8, \"sepalWidth\": 3.4, \"petalLength\": 1.9, \"petalWidth\": 0.2, \"species\": \"setosa\"}, {\"sepalLength\": 5.0, \"sepalWidth\": 3.0, \"petalLength\": 1.6, \"petalWidth\": 0.2, \"species\": \"setosa\"}, {\"sepalLength\": 5.0, \"sepalWidth\": 3.4, \"petalLength\": 1.6, \"petalWidth\": 0.4, \"species\": \"setosa\"}, {\"sepalLength\": 5.2, \"sepalWidth\": 3.5, \"petalLength\": 1.5, \"petalWidth\": 0.2, \"species\": \"setosa\"}, {\"sepalLength\": 5.2, \"sepalWidth\": 3.4, \"petalLength\": 1.4, \"petalWidth\": 0.2, \"species\": \"setosa\"}, {\"sepalLength\": 4.7, \"sepalWidth\": 3.2, \"petalLength\": 1.6, \"petalWidth\": 0.2, \"species\": \"setosa\"}, {\"sepalLength\": 4.8, \"sepalWidth\": 3.1, \"petalLength\": 1.6, \"petalWidth\": 0.2, \"species\": \"setosa\"}, {\"sepalLength\": 5.4, \"sepalWidth\": 3.4, \"petalLength\": 1.5, \"petalWidth\": 0.4, \"species\": \"setosa\"}, {\"sepalLength\": 5.2, \"sepalWidth\": 4.1, \"petalLength\": 1.5, \"petalWidth\": 0.1, \"species\": \"setosa\"}, {\"sepalLength\": 5.5, \"sepalWidth\": 4.2, \"petalLength\": 1.4, \"petalWidth\": 0.2, \"species\": \"setosa\"}, {\"sepalLength\": 4.9, \"sepalWidth\": 3.1, \"petalLength\": 1.5, \"petalWidth\": 0.2, \"species\": \"setosa\"}, {\"sepalLength\": 5.0, \"sepalWidth\": 3.2, \"petalLength\": 1.2, \"petalWidth\": 0.2, \"species\": \"setosa\"}, {\"sepalLength\": 5.5, \"sepalWidth\": 3.5, \"petalLength\": 1.3, \"petalWidth\": 0.2, \"species\": \"setosa\"}, {\"sepalLength\": 4.9, \"sepalWidth\": 3.6, \"petalLength\": 1.4, \"petalWidth\": 0.1, \"species\": \"setosa\"}, {\"sepalLength\": 4.4, \"sepalWidth\": 3.0, \"petalLength\": 1.3, \"petalWidth\": 0.2, \"species\": \"setosa\"}, {\"sepalLength\": 5.1, \"sepalWidth\": 3.4, \"petalLength\": 1.5, \"petalWidth\": 0.2, \"species\": \"setosa\"}, {\"sepalLength\": 5.0, \"sepalWidth\": 3.5, \"petalLength\": 1.3, \"petalWidth\": 0.30000000000000004, \"species\": \"setosa\"}, {\"sepalLength\": 4.5, \"sepalWidth\": 2.3, \"petalLength\": 1.3, \"petalWidth\": 0.30000000000000004, \"species\": \"setosa\"}, {\"sepalLength\": 4.4, \"sepalWidth\": 3.2, \"petalLength\": 1.3, \"petalWidth\": 0.2, \"species\": \"setosa\"}, {\"sepalLength\": 5.0, \"sepalWidth\": 3.5, \"petalLength\": 1.6, \"petalWidth\": 0.6000000000000001, \"species\": \"setosa\"}, {\"sepalLength\": 5.1, \"sepalWidth\": 3.8, \"petalLength\": 1.9, \"petalWidth\": 0.4, \"species\": \"setosa\"}, {\"sepalLength\": 4.8, \"sepalWidth\": 3.0, \"petalLength\": 1.4, \"petalWidth\": 0.30000000000000004, \"species\": \"setosa\"}, {\"sepalLength\": 5.1, \"sepalWidth\": 3.8, \"petalLength\": 1.6, \"petalWidth\": 0.2, \"species\": \"setosa\"}, {\"sepalLength\": 4.6, \"sepalWidth\": 3.2, \"petalLength\": 1.4, \"petalWidth\": 0.2, \"species\": \"setosa\"}, {\"sepalLength\": 5.3, \"sepalWidth\": 3.7, \"petalLength\": 1.5, \"petalWidth\": 0.2, \"species\": \"setosa\"}, {\"sepalLength\": 5.0, \"sepalWidth\": 3.3, \"petalLength\": 1.4, \"petalWidth\": 0.2, \"species\": \"setosa\"}, {\"sepalLength\": 7.0, \"sepalWidth\": 3.2, \"petalLength\": 4.7, \"petalWidth\": 1.4, \"species\": \"versicolor\"}, {\"sepalLength\": 6.4, \"sepalWidth\": 3.2, \"petalLength\": 4.5, \"petalWidth\": 1.5, \"species\": \"versicolor\"}, {\"sepalLength\": 6.9, \"sepalWidth\": 3.1, \"petalLength\": 4.9, \"petalWidth\": 1.5, \"species\": \"versicolor\"}, {\"sepalLength\": 5.5, \"sepalWidth\": 2.3, \"petalLength\": 4.0, \"petalWidth\": 1.3, \"species\": \"versicolor\"}, {\"sepalLength\": 6.5, \"sepalWidth\": 2.8, \"petalLength\": 4.6, \"petalWidth\": 1.5, \"species\": \"versicolor\"}, {\"sepalLength\": 5.7, \"sepalWidth\": 2.8, \"petalLength\": 4.5, \"petalWidth\": 1.3, \"species\": \"versicolor\"}, {\"sepalLength\": 6.3, \"sepalWidth\": 3.3, \"petalLength\": 4.7, \"petalWidth\": 1.6, \"species\": \"versicolor\"}, {\"sepalLength\": 4.9, \"sepalWidth\": 2.4, \"petalLength\": 3.3, \"petalWidth\": 1.0, \"species\": \"versicolor\"}, {\"sepalLength\": 6.6, \"sepalWidth\": 2.9, \"petalLength\": 4.6, \"petalWidth\": 1.3, \"species\": \"versicolor\"}, {\"sepalLength\": 5.2, \"sepalWidth\": 2.7, \"petalLength\": 3.9, \"petalWidth\": 1.4, \"species\": \"versicolor\"}, {\"sepalLength\": 5.0, \"sepalWidth\": 2.0, \"petalLength\": 3.5, \"petalWidth\": 1.0, \"species\": \"versicolor\"}, {\"sepalLength\": 5.9, \"sepalWidth\": 3.0, \"petalLength\": 4.2, \"petalWidth\": 1.5, \"species\": \"versicolor\"}, {\"sepalLength\": 6.0, \"sepalWidth\": 2.2, \"petalLength\": 4.0, \"petalWidth\": 1.0, \"species\": \"versicolor\"}, {\"sepalLength\": 6.1, \"sepalWidth\": 2.9, \"petalLength\": 4.7, \"petalWidth\": 1.4, \"species\": \"versicolor\"}, {\"sepalLength\": 5.6, \"sepalWidth\": 2.9, \"petalLength\": 3.6, \"petalWidth\": 1.3, \"species\": \"versicolor\"}, {\"sepalLength\": 6.7, \"sepalWidth\": 3.1, \"petalLength\": 4.4, \"petalWidth\": 1.4, \"species\": \"versicolor\"}, {\"sepalLength\": 5.6, \"sepalWidth\": 3.0, \"petalLength\": 4.5, \"petalWidth\": 1.5, \"species\": \"versicolor\"}, {\"sepalLength\": 5.8, \"sepalWidth\": 2.7, \"petalLength\": 4.1, \"petalWidth\": 1.0, \"species\": \"versicolor\"}, {\"sepalLength\": 6.2, \"sepalWidth\": 2.2, \"petalLength\": 4.5, \"petalWidth\": 1.5, \"species\": \"versicolor\"}, {\"sepalLength\": 5.6, \"sepalWidth\": 2.5, \"petalLength\": 3.9, \"petalWidth\": 1.1, \"species\": \"versicolor\"}, {\"sepalLength\": 5.9, \"sepalWidth\": 3.2, \"petalLength\": 4.8, \"petalWidth\": 1.8, \"species\": \"versicolor\"}, {\"sepalLength\": 6.1, \"sepalWidth\": 2.8, \"petalLength\": 4.0, \"petalWidth\": 1.3, \"species\": \"versicolor\"}, {\"sepalLength\": 6.3, \"sepalWidth\": 2.5, \"petalLength\": 4.9, \"petalWidth\": 1.5, \"species\": \"versicolor\"}, {\"sepalLength\": 6.1, \"sepalWidth\": 2.8, \"petalLength\": 4.7, \"petalWidth\": 1.2, \"species\": \"versicolor\"}, {\"sepalLength\": 6.4, \"sepalWidth\": 2.9, \"petalLength\": 4.3, \"petalWidth\": 1.3, \"species\": \"versicolor\"}, {\"sepalLength\": 6.6, \"sepalWidth\": 3.0, \"petalLength\": 4.4, \"petalWidth\": 1.4, \"species\": \"versicolor\"}, {\"sepalLength\": 6.8, \"sepalWidth\": 2.8, \"petalLength\": 4.8, \"petalWidth\": 1.4, \"species\": \"versicolor\"}, {\"sepalLength\": 6.7, \"sepalWidth\": 3.0, \"petalLength\": 5.0, \"petalWidth\": 1.7000000000000002, \"species\": \"versicolor\"}, {\"sepalLength\": 6.0, \"sepalWidth\": 2.9, \"petalLength\": 4.5, \"petalWidth\": 1.5, \"species\": \"versicolor\"}, {\"sepalLength\": 5.7, \"sepalWidth\": 2.6, \"petalLength\": 3.5, \"petalWidth\": 1.0, \"species\": \"versicolor\"}, {\"sepalLength\": 5.5, \"sepalWidth\": 2.4, \"petalLength\": 3.8, \"petalWidth\": 1.1, \"species\": \"versicolor\"}, {\"sepalLength\": 5.5, \"sepalWidth\": 2.4, \"petalLength\": 3.7, \"petalWidth\": 1.0, \"species\": \"versicolor\"}, {\"sepalLength\": 5.8, \"sepalWidth\": 2.7, \"petalLength\": 3.9, \"petalWidth\": 1.2, \"species\": \"versicolor\"}, {\"sepalLength\": 6.0, \"sepalWidth\": 2.7, \"petalLength\": 5.1, \"petalWidth\": 1.6, \"species\": \"versicolor\"}, {\"sepalLength\": 5.4, \"sepalWidth\": 3.0, \"petalLength\": 4.5, \"petalWidth\": 1.5, \"species\": \"versicolor\"}, {\"sepalLength\": 6.0, \"sepalWidth\": 3.4, \"petalLength\": 4.5, \"petalWidth\": 1.6, \"species\": \"versicolor\"}, {\"sepalLength\": 6.7, \"sepalWidth\": 3.1, \"petalLength\": 4.7, \"petalWidth\": 1.5, \"species\": \"versicolor\"}, {\"sepalLength\": 6.3, \"sepalWidth\": 2.3, \"petalLength\": 4.4, \"petalWidth\": 1.3, \"species\": \"versicolor\"}, {\"sepalLength\": 5.6, \"sepalWidth\": 3.0, \"petalLength\": 4.1, \"petalWidth\": 1.3, \"species\": \"versicolor\"}, {\"sepalLength\": 5.5, \"sepalWidth\": 2.5, \"petalLength\": 4.0, \"petalWidth\": 1.3, \"species\": \"versicolor\"}, {\"sepalLength\": 5.5, \"sepalWidth\": 2.6, \"petalLength\": 4.4, \"petalWidth\": 1.2, \"species\": \"versicolor\"}, {\"sepalLength\": 6.1, \"sepalWidth\": 3.0, \"petalLength\": 4.6, \"petalWidth\": 1.4, \"species\": \"versicolor\"}, {\"sepalLength\": 5.8, \"sepalWidth\": 2.6, \"petalLength\": 4.0, \"petalWidth\": 1.2, \"species\": \"versicolor\"}, {\"sepalLength\": 5.0, \"sepalWidth\": 2.3, \"petalLength\": 3.3, \"petalWidth\": 1.0, \"species\": \"versicolor\"}, {\"sepalLength\": 5.6, \"sepalWidth\": 2.7, \"petalLength\": 4.2, \"petalWidth\": 1.3, \"species\": \"versicolor\"}, {\"sepalLength\": 5.7, \"sepalWidth\": 3.0, \"petalLength\": 4.2, \"petalWidth\": 1.2, \"species\": \"versicolor\"}, {\"sepalLength\": 5.7, \"sepalWidth\": 2.9, \"petalLength\": 4.2, \"petalWidth\": 1.3, \"species\": \"versicolor\"}, {\"sepalLength\": 6.2, \"sepalWidth\": 2.9, \"petalLength\": 4.3, \"petalWidth\": 1.3, \"species\": \"versicolor\"}, {\"sepalLength\": 5.1, \"sepalWidth\": 2.5, \"petalLength\": 3.0, \"petalWidth\": 1.1, \"species\": \"versicolor\"}, {\"sepalLength\": 5.7, \"sepalWidth\": 2.8, \"petalLength\": 4.1, \"petalWidth\": 1.3, \"species\": \"versicolor\"}, {\"sepalLength\": 6.3, \"sepalWidth\": 3.3, \"petalLength\": 6.0, \"petalWidth\": 2.5, \"species\": \"virginica\"}, {\"sepalLength\": 5.8, \"sepalWidth\": 2.7, \"petalLength\": 5.1, \"petalWidth\": 1.9, \"species\": \"virginica\"}, {\"sepalLength\": 7.1, \"sepalWidth\": 3.0, \"petalLength\": 5.9, \"petalWidth\": 2.1, \"species\": \"virginica\"}, {\"sepalLength\": 6.3, \"sepalWidth\": 2.9, \"petalLength\": 5.6, \"petalWidth\": 1.8, \"species\": \"virginica\"}, {\"sepalLength\": 6.5, \"sepalWidth\": 3.0, \"petalLength\": 5.8, \"petalWidth\": 2.2, \"species\": \"virginica\"}, {\"sepalLength\": 7.6, \"sepalWidth\": 3.0, \"petalLength\": 6.6, \"petalWidth\": 2.1, \"species\": \"virginica\"}, {\"sepalLength\": 4.9, \"sepalWidth\": 2.5, \"petalLength\": 4.5, \"petalWidth\": 1.7000000000000002, \"species\": \"virginica\"}, {\"sepalLength\": 7.3, \"sepalWidth\": 2.9, \"petalLength\": 6.3, \"petalWidth\": 1.8, \"species\": \"virginica\"}, {\"sepalLength\": 6.7, \"sepalWidth\": 2.5, \"petalLength\": 5.8, \"petalWidth\": 1.8, \"species\": \"virginica\"}, {\"sepalLength\": 7.2, \"sepalWidth\": 3.6, \"petalLength\": 6.1, \"petalWidth\": 2.5, \"species\": \"virginica\"}, {\"sepalLength\": 6.5, \"sepalWidth\": 3.2, \"petalLength\": 5.1, \"petalWidth\": 2.0, \"species\": \"virginica\"}, {\"sepalLength\": 6.4, \"sepalWidth\": 2.7, \"petalLength\": 5.3, \"petalWidth\": 1.9, \"species\": \"virginica\"}, {\"sepalLength\": 6.8, \"sepalWidth\": 3.0, \"petalLength\": 5.5, \"petalWidth\": 2.1, \"species\": \"virginica\"}, {\"sepalLength\": 5.7, \"sepalWidth\": 2.5, \"petalLength\": 5.0, \"petalWidth\": 2.0, \"species\": \"virginica\"}, {\"sepalLength\": 5.8, \"sepalWidth\": 2.8, \"petalLength\": 5.1, \"petalWidth\": 2.4, \"species\": \"virginica\"}, {\"sepalLength\": 6.4, \"sepalWidth\": 3.2, \"petalLength\": 5.3, \"petalWidth\": 2.3, \"species\": \"virginica\"}, {\"sepalLength\": 6.5, \"sepalWidth\": 3.0, \"petalLength\": 5.5, \"petalWidth\": 1.8, \"species\": \"virginica\"}, {\"sepalLength\": 7.7, \"sepalWidth\": 3.8, \"petalLength\": 6.7, \"petalWidth\": 2.2, \"species\": \"virginica\"}, {\"sepalLength\": 7.7, \"sepalWidth\": 2.6, \"petalLength\": 6.9, \"petalWidth\": 2.3, \"species\": \"virginica\"}, {\"sepalLength\": 6.0, \"sepalWidth\": 2.2, \"petalLength\": 5.0, \"petalWidth\": 1.5, \"species\": \"virginica\"}, {\"sepalLength\": 6.9, \"sepalWidth\": 3.2, \"petalLength\": 5.7, \"petalWidth\": 2.3, \"species\": \"virginica\"}, {\"sepalLength\": 5.6, \"sepalWidth\": 2.8, \"petalLength\": 4.9, \"petalWidth\": 2.0, \"species\": \"virginica\"}, {\"sepalLength\": 7.7, \"sepalWidth\": 2.8, \"petalLength\": 6.7, \"petalWidth\": 2.0, \"species\": \"virginica\"}, {\"sepalLength\": 6.3, \"sepalWidth\": 2.7, \"petalLength\": 4.9, \"petalWidth\": 1.8, \"species\": \"virginica\"}, {\"sepalLength\": 6.7, \"sepalWidth\": 3.3, \"petalLength\": 5.7, \"petalWidth\": 2.1, \"species\": \"virginica\"}, {\"sepalLength\": 7.2, \"sepalWidth\": 3.2, \"petalLength\": 6.0, \"petalWidth\": 1.8, \"species\": \"virginica\"}, {\"sepalLength\": 6.2, \"sepalWidth\": 2.8, \"petalLength\": 4.8, \"petalWidth\": 1.8, \"species\": \"virginica\"}, {\"sepalLength\": 6.1, \"sepalWidth\": 3.0, \"petalLength\": 4.9, \"petalWidth\": 1.8, \"species\": \"virginica\"}, {\"sepalLength\": 6.4, \"sepalWidth\": 2.8, \"petalLength\": 5.6, \"petalWidth\": 2.1, \"species\": \"virginica\"}, {\"sepalLength\": 7.2, \"sepalWidth\": 3.0, \"petalLength\": 5.8, \"petalWidth\": 1.6, \"species\": \"virginica\"}, {\"sepalLength\": 7.4, \"sepalWidth\": 2.8, \"petalLength\": 6.1, \"petalWidth\": 1.9, \"species\": \"virginica\"}, {\"sepalLength\": 7.9, \"sepalWidth\": 3.8, \"petalLength\": 6.4, \"petalWidth\": 2.0, \"species\": \"virginica\"}, {\"sepalLength\": 6.4, \"sepalWidth\": 2.8, \"petalLength\": 5.6, \"petalWidth\": 2.2, \"species\": \"virginica\"}, {\"sepalLength\": 6.3, \"sepalWidth\": 2.8, \"petalLength\": 5.1, \"petalWidth\": 1.5, \"species\": \"virginica\"}, {\"sepalLength\": 6.1, \"sepalWidth\": 2.6, \"petalLength\": 5.6, \"petalWidth\": 1.4, \"species\": \"virginica\"}, {\"sepalLength\": 7.7, \"sepalWidth\": 3.0, \"petalLength\": 6.1, \"petalWidth\": 2.3, \"species\": \"virginica\"}, {\"sepalLength\": 6.3, \"sepalWidth\": 3.4, \"petalLength\": 5.6, \"petalWidth\": 2.4, \"species\": \"virginica\"}, {\"sepalLength\": 6.4, \"sepalWidth\": 3.1, \"petalLength\": 5.5, \"petalWidth\": 1.8, \"species\": \"virginica\"}, {\"sepalLength\": 6.0, \"sepalWidth\": 3.0, \"petalLength\": 4.8, \"petalWidth\": 1.8, \"species\": \"virginica\"}, {\"sepalLength\": 6.9, \"sepalWidth\": 3.1, \"petalLength\": 5.4, \"petalWidth\": 2.1, \"species\": \"virginica\"}, {\"sepalLength\": 6.7, \"sepalWidth\": 3.1, \"petalLength\": 5.6, \"petalWidth\": 2.4, \"species\": \"virginica\"}, {\"sepalLength\": 6.9, \"sepalWidth\": 3.1, \"petalLength\": 5.1, \"petalWidth\": 2.3, \"species\": \"virginica\"}, {\"sepalLength\": 5.8, \"sepalWidth\": 2.7, \"petalLength\": 5.1, \"petalWidth\": 1.9, \"species\": \"virginica\"}, {\"sepalLength\": 6.8, \"sepalWidth\": 3.2, \"petalLength\": 5.9, \"petalWidth\": 2.3, \"species\": \"virginica\"}, {\"sepalLength\": 6.7, \"sepalWidth\": 3.3, \"petalLength\": 5.7, \"petalWidth\": 2.5, \"species\": \"virginica\"}, {\"sepalLength\": 6.7, \"sepalWidth\": 3.0, \"petalLength\": 5.2, \"petalWidth\": 2.3, \"species\": \"virginica\"}, {\"sepalLength\": 6.3, \"sepalWidth\": 2.5, \"petalLength\": 5.0, \"petalWidth\": 1.9, \"species\": \"virginica\"}, {\"sepalLength\": 6.5, \"sepalWidth\": 3.0, \"petalLength\": 5.2, \"petalWidth\": 2.0, \"species\": \"virginica\"}, {\"sepalLength\": 6.2, \"sepalWidth\": 3.4, \"petalLength\": 5.4, \"petalWidth\": 2.3, \"species\": \"virginica\"}, {\"sepalLength\": 5.9, \"sepalWidth\": 3.0, \"petalLength\": 5.1, \"petalWidth\": 1.8, \"species\": \"virginica\"}]}}, {\"mode\": \"vega-lite\"});\n",
              "</script>"
            ]
          },
          "metadata": {},
          "execution_count": 10
        }
      ]
    },
    {
      "cell_type": "markdown",
      "metadata": {
        "id": "Wzk2Th6Rh8Sk"
      },
      "source": [
        "---"
      ]
    },
    {
      "cell_type": "markdown",
      "metadata": {
        "id": "cIMH-rQ5cddR"
      },
      "source": [
        "#### Task 5: Geoplotlib\n",
        "\n",
        "Geoplotlib is an open-source Python toolbox for visualizing geographical data. It supports the development of hardware-accelerated interactive visualizations in pure Python and provides implementations of dot maps, kernel density estimation, spatial graphs, shapefiles, and many more common spatial visualizations.\n",
        "\n",
        "Geoplotlib can be used to make a variety of maps, such as equivalent area maps, heat maps, and point density maps.\n",
        "\n",
        "**Note:** We cannot run the geoplotlib toolbox in colab environment. You need to install the supported packages on your local machine.\n",
        "\n",
        "**List of required packages:**\n",
        "- `pip`\n",
        "- `numpy >= 1.12`\n",
        "- `pyglet >= 1.2.4`\n",
        "\n",
        "The following command can be used to install geoplotlib like any other python library:\n",
        "\n",
        "`!pip install --upgrade geoplotlib`\n",
        "\n"
      ]
    },
    {
      "cell_type": "markdown",
      "metadata": {
        "id": "krTBiTBvqHK2"
      },
      "source": [
        "Hence, we have learned various data visualization packages that can be used a variety of maps, graphs and plot geospatial data."
      ]
    },
    {
      "cell_type": "markdown",
      "metadata": {
        "id": "3ncrU2WoNnMq"
      },
      "source": [
        "---"
      ]
    }
  ]
}