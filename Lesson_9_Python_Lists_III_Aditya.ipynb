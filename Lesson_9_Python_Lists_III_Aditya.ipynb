{
  "nbformat": 4,
  "nbformat_minor": 0,
  "metadata": {
    "colab": {
      "name": "Lesson 9 - Python Lists III - Aditya",
      "provenance": [],
      "collapsed_sections": [],
      "include_colab_link": true
    },
    "kernelspec": {
      "name": "python3",
      "display_name": "Python 3"
    }
  },
  "cells": [
    {
      "cell_type": "markdown",
      "metadata": {
        "id": "view-in-github",
        "colab_type": "text"
      },
      "source": [
        "<a href=\"https://colab.research.google.com/github/aadityasomani/Aadi/blob/master/Lesson_9_Python_Lists_III_Aditya.ipynb\" target=\"_parent\"><img src=\"https://colab.research.google.com/assets/colab-badge.svg\" alt=\"Open In Colab\"/></a>"
      ]
    },
    {
      "cell_type": "markdown",
      "metadata": {
        "id": "7LlG_PPFjJUz"
      },
      "source": [
        "# Lesson 9 - Python Lists III"
      ]
    },
    {
      "cell_type": "markdown",
      "metadata": {
        "id": "ufJSmLTQs3O3"
      },
      "source": [
        "---"
      ]
    },
    {
      "cell_type": "markdown",
      "metadata": {
        "id": "bQWxe7FVzpnK"
      },
      "source": [
        "#### Task 1: Multiple Data Types\n",
        "\n",
        "A Python list can store values of different types. Recall that in one of the previous lesson, we created 4 different variables to store the attributes of a planet.  \n",
        "\n",
        "(*Learned in Lesson : Variables and Data Types*)\n",
        "\n",
        "||Mercury|\n",
        "|-|-|\n",
        "|Diameter (km)|4879|\n",
        "|Gravity ($m/s^2$)|3.7|\n",
        "|Ring|No|\n",
        "\n",
        "\n",
        "\n",
        "\n",
        "**Q:** Do you remember the different data types in python?\n",
        "\n",
        "**A:** There are four different data types. They are:\n",
        "1. `int`: A numeric value without a digit after the decimal point. \n",
        "For example: `13, -244`, etc. \n",
        "\n",
        "2. `float`: A numeric value with a digit after the decimal point. \n",
        "For example: `2.71, -3.14898`, etc.\n",
        "\n",
        "    **Note:** Both the `int` and `float` values can be positive or negative or `0`.\n",
        "\n",
        "3. `str` (stands for string): Any value enclosed within single (`' '`) or double (`\" \"`) quotes. For example: `'Windows 10', '15 August 1947'`, etc.\n",
        "\n",
        "4. `bool` (stands for boolean): Either `True` or `False`.\n",
        "\n",
        "Let's store the name of the planet, its diameter, gravity, and whether it has a ring or not in a Python list:\n"
      ]
    },
    {
      "cell_type": "code",
      "metadata": {
        "id": "Zh7dKWu3zvgS",
        "colab": {
          "base_uri": "https://localhost:8080/"
        },
        "outputId": "e4d58277-d644-41d9-e0c0-f0b2924411dc"
      },
      "source": [
        "# S1.1: Create a list that contains \"Mercury\", its diameter, gravity, and whether it has a ring or not.\n",
        "planet=['Mercury',5626,6.59,True]\n",
        "planet"
      ],
      "execution_count": null,
      "outputs": [
        {
          "output_type": "execute_result",
          "data": {
            "text/plain": [
              "['Mercury', 5626, 6.59, True]"
            ]
          },
          "metadata": {},
          "execution_count": 2
        }
      ]
    },
    {
      "cell_type": "markdown",
      "metadata": {
        "id": "jAL58hNHVupQ"
      },
      "source": [
        "Hence, we can notice that a Python list is capable of storing items having different data types. Let us learn how to determine the number of items stored in a list."
      ]
    },
    {
      "cell_type": "markdown",
      "metadata": {
        "id": "HCSXokBQzz_M"
      },
      "source": [
        "---"
      ]
    },
    {
      "cell_type": "markdown",
      "metadata": {
        "id": "b449Ffvhz0-D"
      },
      "source": [
        "#### Task 2: List Length\n",
        "To see how many items are stored in a list, you can use a function called `len()`.\n",
        "\n",
        "\n",
        "\n",
        "**Syntax:** `len(list_name)`\n",
        "\n",
        "Let us find out the number of items stored in the `planet` list:"
      ]
    },
    {
      "cell_type": "code",
      "metadata": {
        "id": "QmAry8Iyz3hM",
        "colab": {
          "base_uri": "https://localhost:8080/"
        },
        "outputId": "bc7cce9f-0ce4-4a60-e039-a74be9391e6d"
      },
      "source": [
        "# S2.1: Find the number of items stored in the 'planet' list.\n",
        "len(planet)"
      ],
      "execution_count": null,
      "outputs": [
        {
          "output_type": "execute_result",
          "data": {
            "text/plain": [
              "4"
            ]
          },
          "metadata": {},
          "execution_count": 3
        }
      ]
    },
    {
      "cell_type": "markdown",
      "metadata": {
        "id": "-pA-oZtiVsMk"
      },
      "source": [
        "Thus, the `len()` function returns the total number of items in the list. Let us learn how to access individual items of a list."
      ]
    },
    {
      "cell_type": "markdown",
      "metadata": {
        "id": "VrrdIxJjzja0"
      },
      "source": [
        "---"
      ]
    },
    {
      "cell_type": "markdown",
      "metadata": {
        "id": "h-foVuZpz9cq"
      },
      "source": [
        "#### Task 3: List Indexing\n",
        "\n",
        "Imagine a multi-story building. When you enter into the lift, you can see such buttons.\n",
        "\n",
        "\n",
        "\n",
        "<img src=\"https://s3-whjr-v2-prod-bucket.whjr.online/da5ce5fe-b6e6-4625-9fdd-77305142334a.gif\" />\n",
        "\n",
        "- To move to the 2nd floor, you need to press **2**. \n",
        "- To move to the 5th floor, you need to press **5**.\n",
        "- To come back to the ground floor, you need to press the **0** or **G** button.\n",
        "\n",
        "So the floor number always starts with **0** and **G**. \n",
        "\n",
        "Similarly, in a list, the index which indicates the location of the element always starts with **0** and **not 1**. This is called as **Zero-Based Indexing.**\n",
        "\n",
        "\n",
        "A list index is also similar to your roll number in your class in the school. But here's a catch: The roll number of the first student will be `1`. On the other hand, the roll number of the first item in a Python list is `0`. \n",
        "\n",
        "For example: In the `planet` list, the first item is `\"Mercury\"` so its index is `0`.\n",
        "\n",
        "To get an item located at each index in a list, just write the list name followed by the square brackets `[], ` and inside the brackets, enter the index number.\n",
        "\n",
        "**Syntax:** `list_name[index_number]`\n",
        "\n"
      ]
    },
    {
      "cell_type": "code",
      "metadata": {
        "id": "-5IyZLF2z-Uz",
        "colab": {
          "base_uri": "https://localhost:8080/"
        },
        "outputId": "530df353-c1ce-45c2-eaae-9fcfe636292f"
      },
      "source": [
        "# S3.1: Print the items at each index in the 'planet' list.\n",
        "planet[2]"
      ],
      "execution_count": null,
      "outputs": [
        {
          "output_type": "execute_result",
          "data": {
            "text/plain": [
              "6.59"
            ]
          },
          "metadata": {},
          "execution_count": 6
        }
      ]
    },
    {
      "cell_type": "markdown",
      "metadata": {
        "id": "50X_qVLV4LIL"
      },
      "source": [
        "Imagine that you have a list containing `100` items. Getting each item of that list using this method will not be feasible. In such cases, you can retrieve every item using a loop called as `for` loop.\n",
        "Let's first learn the `for` loop. "
      ]
    },
    {
      "cell_type": "markdown",
      "metadata": {
        "id": "RzPVnLT04NbD"
      },
      "source": [
        "---"
      ]
    },
    {
      "cell_type": "markdown",
      "metadata": {
        "id": "JOpx4Gje0BkH"
      },
      "source": [
        "#### Task 4: The `for` Loop\n",
        "\n",
        "\n",
        "The `for` loop is used to repeat or iterate a set of statements for a fixed number of times. \n",
        "\n",
        "**For e.g:** If we want to print the first `5` natural numbers using `for` loop.\n",
        "First, we will use a ready-made function called `range()` inside `for` loop which generates consecutive natural numbers between two specific numbers.\n",
        "\n",
        "```python\n",
        "for i in range(1, 6):\n",
        "  print(i)\n",
        "```\n",
        "\n",
        "\n",
        "The above code can be read as *for every number in the range of `1` to `6` and except `6`, print a number.* So, in the range of `1` to `6` and except `6`, there are `5` numbers starting from `1` to `5`. So, all these numbers in this range will get printed one by one. \n",
        "\n",
        "<img src=\"https://curriculum.whitehatjr.com/APT+Asset/Untitled-1.gif\" width=600/>\n",
        "\n",
        "**The range function:**\n",
        "\n",
        "It is used to generate a range of numbers. \n",
        "\n",
        "**Syntax:** `range(start, end)`\n",
        "\n",
        "Where,\n",
        "\n",
        "- `start` (optional):  An integer that specifies from which position to start. Default is 0.\n",
        "- `end` (required): An integer that specifies at which position to stop. This number is not included in the range.\n",
        "\n",
        "**For e.g:**\n",
        "1. `range(0,6)` $\\Rightarrow$ Generates numbers from 0 to 5.\n",
        "2.`range(6)` $\\Rightarrow$ Generates numbers from 0 to 5.\n",
        "3. `range(1,11)` $\\Rightarrow$ Generates numbers from 1 to 10.\n",
        "4. `range(11)` $\\Rightarrow$ Generates numbers from 0 to 10.\n",
        "\n",
        "\n"
      ]
    },
    {
      "cell_type": "markdown",
      "metadata": {
        "id": "9Ox6XpAb0Exy"
      },
      "source": [
        "\n",
        "\n",
        "Now, let's retrieve all the values of the `planet` list using the `for` loop:"
      ]
    },
    {
      "cell_type": "code",
      "metadata": {
        "id": "C-CoERDG0LUN",
        "colab": {
          "base_uri": "https://localhost:8080/"
        },
        "outputId": "cb9ebf12-9087-4b08-9905-e76cc4786c34"
      },
      "source": [
        "# S4.1: Using 'for' loop, print each element of the 'planet' list.\n",
        "# 1. First, find out how many items are there in the 'planet' list and store it in the variable called num_items.\n",
        "num_items=len(planet)\n",
        "\n",
        "# 2. Now iterate through each item using the for loop.\n",
        "for i in range(num_items):\n",
        "    print(planet[i])\n",
        "\n",
        "  # 3. Now, write the print() function with 'i' and 'planet[i]' as inputs.\n"
      ],
      "execution_count": null,
      "outputs": [
        {
          "output_type": "stream",
          "name": "stdout",
          "text": [
            "Mercury\n",
            "5626\n",
            "6.59\n",
            "True\n"
          ]
        }
      ]
    },
    {
      "cell_type": "markdown",
      "metadata": {
        "id": "0UnmVNi80NR5"
      },
      "source": [
        "Here:\n",
        "\n",
        "- The value of `num_items` is `4` because the length of the `planet` list is `4` as it contains `4` items. \n",
        "\n",
        "- The `range()` function, takes `4` as input and generates numbers from `0` to `3`. The number `4` is excluded.\n",
        "\n",
        "- The value of `i` also goes from `0` to `3`. Hence, `planet[i]` goes from `planet[0]` to `planet[3]`. Essentially, the variable `i` stores the values generated by the `range()` function, but only one value at-a-time.\n",
        "\n",
        "- So, for every value of `i` the `print()` function takes `planet[i]` as input and prints each item contained in the planet list.\n",
        "\n",
        "There is another way to get all the items from a Python list using a for loop:\n"
      ]
    },
    {
      "cell_type": "code",
      "metadata": {
        "id": "9FBF_dDp0V-b",
        "colab": {
          "base_uri": "https://localhost:8080/"
        },
        "outputId": "16da9a3c-58fd-4fe6-a585-302dd6acad0f"
      },
      "source": [
        "# S4.2: Demonstrate another way of getting all the items from a list using the 'for' loop.\n",
        "for i in planet:\n",
        "    print(i)"
      ],
      "execution_count": null,
      "outputs": [
        {
          "output_type": "stream",
          "name": "stdout",
          "text": [
            "Mercury\n",
            "5626\n",
            "6.59\n",
            "True\n"
          ]
        }
      ]
    },
    {
      "cell_type": "markdown",
      "metadata": {
        "id": "aSMbRQAF0ZLW"
      },
      "source": [
        "Here, the variable `i` does not take the numeric value because the `range()` function is not used here. So, the value of `i` goes from the first item of the `planet` list till the last item in the `planet` list.\n",
        "\n",
        "**What if you want to print items of a list in reverse order?**\n",
        "\n",
        "This can be achieved using **Negative Indexing**.\n",
        "\n",
        "---"
      ]
    },
    {
      "cell_type": "markdown",
      "metadata": {
        "id": "2mfUa8mDx1t-"
      },
      "source": [
        "#### Task 5: Negative Indexing\n",
        "\n",
        "You can also use negative indices to get items from a list. They help to retrieve items from a list in reverse order.\n",
        "\n",
        "The negative indices begin with `-1` and go till `-n` where `n` is the number of items in a list.\n",
        "\n",
        "- The last item in the list is located at the `-1` index.\n",
        "- The first item in the list is located at the `-n` index.\n",
        "\n",
        "\n",
        "<img src='https://curriculum.whitehatjr.com/APT+Asset/APT+C6+images/whj-python-list-apt-c8.gif' height=400>\n",
        "\n",
        "Let us retrieve all the items of `planet` list using negative indexing.\n"
      ]
    },
    {
      "cell_type": "code",
      "metadata": {
        "id": "eNow53vbeVyj",
        "colab": {
          "base_uri": "https://localhost:8080/",
          "height": 34
        },
        "outputId": "12ad315e-69cb-42bf-94b6-ec7dbd0eab6f"
      },
      "source": [
        "# S5.1: Use the negative indices to retrieve all the items from the 'planet' list.\n",
        "planet[-4]"
      ],
      "execution_count": null,
      "outputs": [
        {
          "output_type": "execute_result",
          "data": {
            "application/vnd.google.colaboratory.intrinsic+json": {
              "type": "string"
            },
            "text/plain": [
              "'Mercury'"
            ]
          },
          "metadata": {},
          "execution_count": 14
        }
      ]
    },
    {
      "cell_type": "markdown",
      "metadata": {
        "id": "cXtWzL-lYDtv"
      },
      "source": [
        "Similarly, let us retrieve all the items from the `planet` list in the reverse order using `for` loop and neagtive indexing:"
      ]
    },
    {
      "cell_type": "code",
      "metadata": {
        "id": "bDQ_d0F5fEdn",
        "colab": {
          "base_uri": "https://localhost:8080/"
        },
        "outputId": "8af8c2f3-d6ce-4bc3-cdc9-c70b7363066e"
      },
      "source": [
        "# S5.2: Using the 'for' loop and negative indices, retrieve all the items from the 'planet' list in the reverse order.\n",
        "for i in range(1,5):\n",
        "    print(planet[-i])"
      ],
      "execution_count": null,
      "outputs": [
        {
          "output_type": "stream",
          "name": "stdout",
          "text": [
            "True\n",
            "6.59\n",
            "5626\n",
            "Mercury\n"
          ]
        }
      ]
    },
    {
      "cell_type": "markdown",
      "metadata": {
        "id": "MfTs0p63z8fE"
      },
      "source": [
        "---"
      ]
    },
    {
      "cell_type": "markdown",
      "metadata": {
        "id": "ZAylC_zL6ugR"
      },
      "source": [
        "#### Task  4: List Slicing\n",
        "\n",
        "Suppose that I have a list of `10` cars that I own.\n",
        "\n",
        "`my_cars = ['Chrysler', 'Lamborghini', 'Bugatti', 'Porsche', 'Ford', 'Rolls Royce', 'Suzuki', 'Bentley', 'Lexus', 'Tesla']`\n",
        "\n",
        "\n",
        "\n",
        "Let's say, I want to see a list of only the first five cars, then I can use the concept of **list slicing**. \n",
        "\n",
        "To slice a list, write the name of the list followed by square brackets, and inside the square brackets, enter the **starting point** (in this case it is zero) followed by a colon sign (`:`) and the **ending point**.\n",
        "\n",
        "**Syntax:** `list_name[start_index:end_index]`\n",
        "\n",
        "\n",
        "\n",
        "\n",
        "\n",
        "Note that the item at the `end-index` will not be a part of the sub-list:"
      ]
    },
    {
      "cell_type": "code",
      "metadata": {
        "id": "AQ_0cIRS0yPB",
        "colab": {
          "base_uri": "https://localhost:8080/"
        },
        "outputId": "ac16ba8c-72f9-40ba-94dd-2447f812451c"
      },
      "source": [
        "# S4.1: Retrieve the items from a list using the slicing method by mentioning both the starting and ending indices.\n",
        "my_cars = ['Chrysler', 'Lamborghini', 'Bugatti', 'Porsche', 'Ford', 'Rolls Royce', 'Suzuki', 'Bentley', 'Lexus', 'Tesla']\n",
        "my_cars[0:3]"
      ],
      "execution_count": null,
      "outputs": [
        {
          "output_type": "execute_result",
          "data": {
            "text/plain": [
              "['Chrysler', 'Lamborghini', 'Bugatti']"
            ]
          },
          "metadata": {},
          "execution_count": 35
        }
      ]
    },
    {
      "cell_type": "markdown",
      "metadata": {
        "id": "lJ9Hizr40RPE"
      },
      "source": [
        "In `my_cars[0:5]` sub-list, the item at index `5` will not be included in the sub-list. The sub-list will contain the items ranging from indices `0` to `4` from the parent list.\n",
        "\n",
        "If you do not specify the starting point, then Python assumes that you want to get the items starting from the first item of the list:"
      ]
    },
    {
      "cell_type": "code",
      "metadata": {
        "id": "c0z7tD64pwDg",
        "colab": {
          "base_uri": "https://localhost:8080/"
        },
        "outputId": "b927fd31-652e-4444-dec2-480a5c8b2b87"
      },
      "source": [
        "# S4.2: Retrieve the first 5 items from the 'my_cars' Python list without mentioning the starting index.\n",
        "my_cars[:5]"
      ],
      "execution_count": null,
      "outputs": [
        {
          "output_type": "execute_result",
          "data": {
            "text/plain": [
              "['Chrysler', 'Lamborghini', 'Bugatti', 'Porsche', 'Ford']"
            ]
          },
          "metadata": {},
          "execution_count": 36
        }
      ]
    },
    {
      "cell_type": "markdown",
      "metadata": {
        "id": "L0EkhHikprK5"
      },
      "source": [
        "Now, using the list slicing concept, you print all the cars stored in the `my_cars` list starting from `'Lamborghini'` to `'Bentley'`:"
      ]
    },
    {
      "cell_type": "code",
      "metadata": {
        "id": "iEiOH3rGCIHb",
        "colab": {
          "base_uri": "https://localhost:8080/"
        },
        "outputId": "d26651df-d579-40ef-ed03-6115252f6097"
      },
      "source": [
        "# S4.3: Write a code to see all the cars in the list starting from 'Lamborghini' to 'Bentley'.\n",
        "my_cars[1:8]"
      ],
      "execution_count": null,
      "outputs": [
        {
          "output_type": "execute_result",
          "data": {
            "text/plain": [
              "['Lamborghini',\n",
              " 'Bugatti',\n",
              " 'Porsche',\n",
              " 'Ford',\n",
              " 'Rolls Royce',\n",
              " 'Suzuki',\n",
              " 'Bentley']"
            ]
          },
          "metadata": {},
          "execution_count": 37
        }
      ]
    },
    {
      "cell_type": "markdown",
      "metadata": {
        "id": "ex4bN7z7s8Zd"
      },
      "source": [
        "\n",
        "To retrieve all the items from a list in the reverse order, you can also use the list slicing method with a negative index `-1` after the second colon (`:`) sign: "
      ]
    },
    {
      "cell_type": "code",
      "metadata": {
        "id": "1b50S7aptGxL",
        "colab": {
          "base_uri": "https://localhost:8080/"
        },
        "outputId": "35ab9c1b-73f8-4e5e-b0c1-1c1180b7dc68"
      },
      "source": [
        "# S4.3: Retrieve all the items from the 'my_cars' list in reverse order.\n",
        "my_cars[::-1]"
      ],
      "execution_count": null,
      "outputs": [
        {
          "output_type": "execute_result",
          "data": {
            "text/plain": [
              "['Tesla',\n",
              " 'Lexus',\n",
              " 'Bentley',\n",
              " 'Suzuki',\n",
              " 'Rolls Royce',\n",
              " 'Ford',\n",
              " 'Porsche',\n",
              " 'Bugatti',\n",
              " 'Lamborghini',\n",
              " 'Chrysler']"
            ]
          },
          "metadata": {},
          "execution_count": 40
        }
      ]
    },
    {
      "cell_type": "markdown",
      "metadata": {
        "id": "cVWbgqvjYoKW"
      },
      "source": [
        "As you can see in the output, the `my_cars` list is printed in the reverse order. Thus, we can use list slicing to obtain our desired list from an existing list.\n",
        "\n"
      ]
    },
    {
      "cell_type": "markdown",
      "metadata": {
        "id": "QFmDbPBs0ye8"
      },
      "source": [
        "---"
      ]
    },
    {
      "cell_type": "markdown",
      "metadata": {
        "id": "R5OAAjHrD-N-"
      },
      "source": [
        "#### Task 5: Index of an Item\n",
        "\n",
        "Suppose that you want to find the index of `Ford` in the `my_cars` list, then you can use the `index()` function.\n",
        "\n",
        "To find an index of an item, write the name of the list followed by the dot `(.)` operator followed by the `index()` function. Inside the `index()` function, enter the item whose index you wish to find.\n",
        "\n",
        "**Syntax:** `list_name.index(item)`\n",
        "\n",
        "**For example:**  `my_cars.index('Chrysler')` $\\Rightarrow$ returns `0` as index of `'Chrysler'` is `0`."
      ]
    },
    {
      "cell_type": "code",
      "metadata": {
        "id": "ZNCl8haaDgfZ",
        "colab": {
          "base_uri": "https://localhost:8080/"
        },
        "outputId": "d42a2e67-8f9c-4e18-ee92-1359255a73b5"
      },
      "source": [
        "# S5.1: Find the index of 'Ford'.\n",
        "my_cars.index('Ford')"
      ],
      "execution_count": null,
      "outputs": [
        {
          "output_type": "execute_result",
          "data": {
            "text/plain": [
              "4"
            ]
          },
          "metadata": {},
          "execution_count": 41
        }
      ]
    },
    {
      "cell_type": "markdown",
      "metadata": {
        "id": "DGeWh7-DJE0h"
      },
      "source": [
        "So, the item `'Ford'` exists at the `index = 4` in the `my_cars` list."
      ]
    },
    {
      "cell_type": "markdown",
      "metadata": {
        "id": "-5Y_OPoBGTwZ"
      },
      "source": [
        "---"
      ]
    },
    {
      "cell_type": "markdown",
      "metadata": {
        "id": "Z5pRYBB0CedN"
      },
      "source": [
        "#### Task 6: Removing an Item\n",
        "\n",
        "Let's say you sold your `'Bentley'` car to your friend. So, you will have to remove it from the list of your cars. \n",
        "\n",
        "To remove an item from a list, use the `remove()` function followed by the item that you wish to remove:\n",
        "\n",
        "\n",
        "**Syntax:** `list_name.remove(item)`\n",
        "\n",
        "\n"
      ]
    },
    {
      "cell_type": "code",
      "metadata": {
        "id": "u_tvV0GzC4Nn",
        "colab": {
          "base_uri": "https://localhost:8080/"
        },
        "outputId": "8b798d59-22e3-4c14-8420-d5076bfa2a12"
      },
      "source": [
        "# S6.1: Remove 'Bentley' from the 'my_cars' list.\n",
        "my_cars.remove(my_cars[1])\n",
        "my_cars"
      ],
      "execution_count": null,
      "outputs": [
        {
          "output_type": "execute_result",
          "data": {
            "text/plain": [
              "['Chrysler',\n",
              " 'Bugatti',\n",
              " 'Porsche',\n",
              " 'Ford',\n",
              " 'Rolls Royce',\n",
              " 'Suzuki',\n",
              " 'Lexus',\n",
              " 'Tesla']"
            ]
          },
          "metadata": {},
          "execution_count": 43
        }
      ]
    },
    {
      "cell_type": "markdown",
      "metadata": {
        "id": "TdMqCMvbDQ7v"
      },
      "source": [
        "Now, `'Bentley'` is not part of `my_cars` list anymore."
      ]
    },
    {
      "cell_type": "markdown",
      "metadata": {
        "id": "WxeRaXtGD3D8"
      },
      "source": [
        "---"
      ]
    },
    {
      "cell_type": "markdown",
      "metadata": {
        "id": "6MbJIuLm2mru"
      },
      "source": [
        "#### Task 7: Item Replacement\n",
        "\n",
        "You can replace an existing item in a list with a new item. Suppose I exchanged my `Suzuki` car with a `McLaren` car. So, I need to update `my_cars` list accordingly.\n",
        "\n",
        "To replace an item, first get the index of that item. Then using the list indexing method, replace the existing item with the new one.\n",
        "\n",
        "**Syntax:** `list_name[list_name.index('current_item')] = new_item`\n",
        "\n",
        "**For example:** Replace the item `Suzuki` with `McLaren` in the `my_cars` list.\n"
      ]
    },
    {
      "cell_type": "code",
      "metadata": {
        "id": "rUdiT9wr3lXk",
        "colab": {
          "base_uri": "https://localhost:8080/",
          "height": 201
        },
        "outputId": "ced8bab8-001d-4fd3-d59f-4b968a5777ce"
      },
      "source": [
        "# S7.1: Replace 'Suzuki' with 'McLaren' in the 'my_cars' list.\n",
        "my_cars[my_cars.index('Suzuki')]='McLaren'\n",
        "my_cars"
      ],
      "execution_count": null,
      "outputs": [
        {
          "output_type": "error",
          "ename": "ValueError",
          "evalue": "ignored",
          "traceback": [
            "\u001b[0;31m---------------------------------------------------------------------------\u001b[0m",
            "\u001b[0;31mValueError\u001b[0m                                Traceback (most recent call last)",
            "\u001b[0;32m<ipython-input-46-8481ce50580f>\u001b[0m in \u001b[0;36m<module>\u001b[0;34m()\u001b[0m\n\u001b[1;32m      1\u001b[0m \u001b[0;31m# S7.1: Replace 'Suzuki' with 'McLaren' in the 'my_cars' list.\u001b[0m\u001b[0;34m\u001b[0m\u001b[0;34m\u001b[0m\u001b[0;34m\u001b[0m\u001b[0m\n\u001b[0;32m----> 2\u001b[0;31m \u001b[0mmy_cars\u001b[0m\u001b[0;34m[\u001b[0m\u001b[0mmy_cars\u001b[0m\u001b[0;34m.\u001b[0m\u001b[0mindex\u001b[0m\u001b[0;34m(\u001b[0m\u001b[0;34m'Suzuki'\u001b[0m\u001b[0;34m)\u001b[0m\u001b[0;34m]\u001b[0m\u001b[0;34m=\u001b[0m\u001b[0;34m'McLaren'\u001b[0m\u001b[0;34m\u001b[0m\u001b[0;34m\u001b[0m\u001b[0m\n\u001b[0m\u001b[1;32m      3\u001b[0m \u001b[0mmy_cars\u001b[0m\u001b[0;34m\u001b[0m\u001b[0;34m\u001b[0m\u001b[0m\n",
            "\u001b[0;31mValueError\u001b[0m: 'Suzuki' is not in list"
          ]
        }
      ]
    },
    {
      "cell_type": "markdown",
      "metadata": {
        "id": "U853vHUg4IG4"
      },
      "source": [
        "As you can see, the `'Suzuki'` car has been replaced by `'McLaren'` using the list indexing method.\n",
        "\n",
        "\n",
        "We will stop here. In the next class, we will learn about nested Python lists."
      ]
    },
    {
      "cell_type": "markdown",
      "metadata": {
        "id": "Qt9D8ub44plU"
      },
      "source": [
        "#### Activity : Sorting List Items \n",
        "\n",
        "Write a program to sort the numeric items contained in a list in the increasing order.\n",
        "*The selection sort algorithm sorts an array by repeatedly finding the minimum element (considering ascending order) from unsorted part and putting it at the beginning. The algorithm maintains two subarrays in a given array.*\n",
        "\n",
        "#### 1) The subarray which is already sorted. \n",
        "#### 2) Remaining subarray which is unsorted.\n",
        "#### In every iteration of selection sort, the minimum element (considering ascending order) from the unsorted subarray is picked and moved to the sorted subarray. "
      ]
    },
    {
      "cell_type": "markdown",
      "metadata": {
        "id": "Y_pSI5rb8a7y"
      },
      "source": [
        "---"
      ]
    },
    {
      "cell_type": "code",
      "metadata": {
        "id": "al5FZPSY4Jai",
        "colab": {
          "base_uri": "https://localhost:8080/"
        },
        "outputId": "7d2c9dcf-c370-49c5-fb71-f842b49b82ba"
      },
      "source": [
        "def selection_sort(array, n):\n",
        "    for i in range(n-1):\n",
        "        index_min = i\n",
        "        for j in range(index_min+1,n):\n",
        "            if array[index_min]>array[j]:\n",
        "                index_min=j\n",
        "        array[i],array[index_min]=array[index_min],array[i]\n",
        "    return array\n",
        "\n",
        "array=[2,6,3,5,1,8]\n",
        "n=len(array)\n",
        "print(selection_sort(array,n))"
      ],
      "execution_count": null,
      "outputs": [
        {
          "output_type": "stream",
          "name": "stdout",
          "text": [
            "[1, 2, 3, 5, 6, 8]\n"
          ]
        }
      ]
    },
    {
      "cell_type": "markdown",
      "metadata": {
        "id": "d_-Rhsfe6pJw"
      },
      "source": [
        "###Bubble Sort is the simplest sorting algorithm that works by repeatedly swapping the adjacent elements if they are in wrong order.\n",
        "\n",
        "Example: \n",
        "\n",
        "First Pass: \n",
        "\n",
        "( 5 1 4 2 8 ) –> ( 1 5 4 2 8 ), Here, algorithm compares the first two elements, and swaps since 5 > 1. \n",
        "\n",
        "( 1 5 4 2 8 ) –>  ( 1 4 5 2 8 ), Swap since 5 > 4 \n",
        "\n",
        "( 1 4 5 2 8 ) –>  ( 1 4 2 5 8 ), Swap since 5 > 2 \n",
        "\n",
        "( 1 4 2 5 8 ) –> ( 1 4 2 5 8 ), Now, since these elements are already in order (8 > 5), algorithm does not swap them.\n",
        "\n",
        "Second Pass: \n",
        "\n",
        "( 1 4 2 5 8 ) –> ( 1 4 2 5 8 ) \n",
        "\n",
        "( 1 4 2 5 8 ) –> ( 1 2 4 5 8 ), Swap since 4 > 2 \n",
        "\n",
        "( 1 2 4 5 8 ) –> ( 1 2 4 5 8 ) \n",
        "\n",
        "( 1 2 4 5 8 ) –>  ( 1 2 4 5 8 ) \n",
        "\n",
        "Now, the array is already sorted, but our algorithm does not know if it is completed. The algorithm needs one whole pass without any swap to know it is sorted.\n",
        "\n",
        "Third Pass: \n",
        "( 1 2 4 5 8 ) –> ( 1 2 4 5 8 ) \n",
        "\n",
        "( 1 2 4 5 8 ) –> ( 1 2 4 5 8 ) \n",
        "\n",
        "( 1 2 4 5 8 ) –> ( 1 2 4 5 8 ) \n",
        "\n",
        "( 1 2 4 5 8 ) –> ( 1 2 4 5 8 ) "
      ]
    },
    {
      "cell_type": "code",
      "metadata": {
        "id": "1qfpGchi7Iya",
        "colab": {
          "base_uri": "https://localhost:8080/"
        },
        "outputId": "5ab64012-7ba8-4fc1-f073-57dd73fc3973"
      },
      "source": [
        "def bubble_sort(array, n):\n",
        "    for i in range(n-1):\n",
        "        for j in range(i+1,n):\n",
        "            if array[i]>array[j]:\n",
        "                array[i],array[j]=array[j],array[i]\n",
        "    return array\n",
        "\n",
        "array=[2,6,3,5,1,8]\n",
        "n=len(array)\n",
        "print(bubble_sort(array,n))"
      ],
      "execution_count": null,
      "outputs": [
        {
          "output_type": "stream",
          "name": "stdout",
          "text": [
            "[1, 2, 3, 5, 6, 8]\n"
          ]
        }
      ]
    }
  ]
}