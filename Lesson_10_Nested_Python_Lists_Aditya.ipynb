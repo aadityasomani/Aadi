{
  "nbformat": 4,
  "nbformat_minor": 0,
  "metadata": {
    "colab": {
      "name": "Lesson 10 - Nested Python Lists -Aditya",
      "provenance": [],
      "collapsed_sections": [],
      "include_colab_link": true
    },
    "kernelspec": {
      "name": "python3",
      "display_name": "Python 3"
    }
  },
  "cells": [
    {
      "cell_type": "markdown",
      "metadata": {
        "id": "view-in-github",
        "colab_type": "text"
      },
      "source": [
        "<a href=\"https://colab.research.google.com/github/aadityasomani/Aadi/blob/master/Lesson_10_Nested_Python_Lists_Aditya.ipynb\" target=\"_parent\"><img src=\"https://colab.research.google.com/assets/colab-badge.svg\" alt=\"Open In Colab\"/></a>"
      ]
    },
    {
      "cell_type": "markdown",
      "metadata": {
        "id": "7LlG_PPFjJUz"
      },
      "source": [
        "# Lesson 10: Nested Python Lists\n"
      ]
    },
    {
      "cell_type": "markdown",
      "metadata": {
        "id": "XBPlCWSSye_4"
      },
      "source": [
        "---"
      ]
    },
    {
      "cell_type": "markdown",
      "metadata": {
        "id": "qjixVTncxTQh"
      },
      "source": [
        "### Teacher-Student Activities\n",
        "\n",
        "In the previous lesson, we learned how to apply several operations on a Python list. \n",
        "\n",
        "In this lesson, we are going to learn about nested Python lists."
      ]
    },
    {
      "cell_type": "markdown",
      "metadata": {
        "id": "IFaexN7T8zWE"
      },
      "source": [
        "---"
      ]
    },
    {
      "cell_type": "markdown",
      "metadata": {
        "id": "PUgYXGbR-0Uh"
      },
      "source": [
        "#### Task 1: Data Representation in Two-Dimensions Using Python Lists\n",
        "\n",
        "A two-dimensional (or a tabular) data can be represented using a Python list.\n",
        "\n",
        "Consider the example shown below. Here we have two-dimensional (or a tabular) data of 9 planets and their corresponding diameters (in km).\n",
        "\n",
        "<img src=\"https://curriculum.whitehatjr.com/APT+Asset/APT+C7+images/apt-c7-planets-08-01.png\" height=450/>\n",
        "\n",
        "\n",
        "Suppose we want to create a list of all planets and their corresponding diameters. Instead of creating 9 separate lists for each planet, we can store the above table inside a single list using the nested list concept.\n",
        "\n",
        "**Nested List:**\n",
        "\n",
        "*A nested list is a collection of lists inside a list, just like a gift box inside another gift box*. \n",
        "\n",
        "\n",
        "\n",
        "<img src='https://student-datasets-bucket.s3.ap-south-1.amazonaws.com/images/nested-boxes.jpg' width=300>\n",
        "\n",
        "\n",
        "**For example:**\n",
        "1. `list1=[[1,2,3],[4,5],[6,7]]` $\\Rightarrow$ Here `list1` is a nested list having `3` **inner lists** or **sublists**.\n",
        "\n",
        "2. `list2=[['cat','dog'],['pigeon']]` $\\Rightarrow$ Here `list2` is a nested list having `2` sublists.\n",
        "\n",
        "3. `list3=['John', 2.0, 5, [10, 20]]` $\\Rightarrow$ Here `list3` contains a string, a float, an integer, and another list.\n",
        "\n",
        "\n",
        "\n",
        "Let's create a **nested list** `planet_diameters` to store the planets and their corresponding diameters in it. Since there are 9 planets, so we will create 9 sublists or inner lists and store the details of 9 planets in those 9 sublists. \n",
        "\n",
        "\n",
        "<img src=\"https://curriculum.whitehatjr.com/APT+Asset/APT+C7+images/apt-c7-09-planet-list-01.png\" height=400/>\n",
        "\n",
        "\n"
      ]
    },
    {
      "cell_type": "code",
      "metadata": {
        "id": "LgxEFIOD-26f",
        "colab": {
          "base_uri": "https://localhost:8080/"
        },
        "outputId": "01ab563f-fa7f-4c5c-dd25-83d3e711b8a8"
      },
      "source": [
        "# S1.1: Represent a two-dimensional data in a nested list.\n",
        "planet_diameters=[['mercury',5623],\n",
        "                  ['venus',6532],\n",
        "                  ['earth',12756],\n",
        "                  ['mars',6972],\n",
        "                  ['jupiter',956],\n",
        "                  ['saturn',123295],\n",
        "                  ['uranus',5111],\n",
        "                  ['pluto',852]]\n",
        "planet_diameters"
      ],
      "execution_count": null,
      "outputs": [
        {
          "output_type": "execute_result",
          "data": {
            "text/plain": [
              "[['mercury', 5623],\n",
              " ['venus', 6532],\n",
              " ['earth', 12756],\n",
              " ['mars', 6972],\n",
              " ['jupiter', 956],\n",
              " ['saturn', 123295],\n",
              " ['uranus', 5111],\n",
              " ['pluto', 852]]"
            ]
          },
          "metadata": {},
          "execution_count": 2
        }
      ]
    },
    {
      "cell_type": "markdown",
      "metadata": {
        "id": "UXwVQ2QZ-3o0"
      },
      "source": [
        "\n",
        "**Note:** The indentation for a nested list is not necessary. We indent a nested list to make it more readable.\n",
        "\n",
        "\n",
        "\n",
        "Thus, we can use the **nested list** to represent any two-dimensional data or tables having values arranged in rows and columns.\n",
        "\n",
        "The row and column indices begin with `0` as shown in table below:\n",
        "\n",
        "<img src=\"https://curriculum.whitehatjr.com/APT+Asset/APT+C7+images/apt-c7-10-row-01.png\" height=400/>\n",
        "\n",
        "\n",
        "\n",
        "\n",
        "\n",
        "\n",
        "Now, refer to the table below which holds the density and gravity of each planet in addition to their diameters:\n",
        "\n",
        "<img src=\"https://curriculum.whitehatjr.com/APT+Asset/APT+C7+images/apt-c7-11-density-01.png\" height=400/>\n",
        "\n",
        "\n",
        "\n",
        "\n",
        "\n",
        "Create a nested list containing 9 sublists where each sublist contains the planet details for each planet. The sublists must be separated by a comma."
      ]
    },
    {
      "cell_type": "code",
      "metadata": {
        "id": "G8ehLQ5N-6CM"
      },
      "source": [
        "# S1.2: Create a nested list to represent the two-dimensional data shown in the table above.\n"
      ],
      "execution_count": null,
      "outputs": []
    },
    {
      "cell_type": "markdown",
      "metadata": {
        "id": "YpLNlN4xxBfK"
      },
      "source": [
        "For all practical purposes, we can call the `planet_data` list a **two-dimensional** list because it stores a tabular format having some rows and columns."
      ]
    },
    {
      "cell_type": "markdown",
      "metadata": {
        "id": "-Q6JpUh9_uNh"
      },
      "source": [
        "---"
      ]
    },
    {
      "cell_type": "markdown",
      "metadata": {
        "id": "rt6SyGw5-80p"
      },
      "source": [
        "#### Task 2: Indexing a Nested List\n",
        "\n",
        "In the previous class (*Lesson: Python List III*), we learned how to access individual elements of a list.\n",
        "\n",
        "\n",
        "\n",
        "\n",
        "\n",
        "\n",
        "Consider the `planet_data` 2D list.\n",
        "\n",
        "<img src=\"https://curriculum.whitehatjr.com/APT+Asset/APT+C7+images/planet.png\" height=400/>\n",
        "\n",
        "\n",
        "Let's say you want to see only the diameter of `'Jupiter'` from the `planet_data` list. For this, you will use the list indexing method which you learned in the previous class. \n",
        "\n",
        "\n",
        "**Q. How do get a specific item using the list indexing method? Provide its syntax.**\n",
        "\n",
        "**Ans.** First, write the name of the list, followed by the square brackets. Inside the square brackets, enter the index of the item which we want to retrieve from a list. The indices of the items stored in a Python list begin from `0`. The syntax for list indexing is `list_name[index_of_item]`\n",
        "\n",
        "**List Indexing for 2D list:**\n",
        "\n",
        "To get an item of a 1D list, we need to specify one index. Similarly, to get a specific item from a 2D list, we need to specify two indices.\n",
        "\n",
        "For this, write the list name followed by two consecutive square brackets `[][]`. \n",
        "\n",
        "- In the first square bracket, enter the row index.\n",
        "\n",
        "- In the second square bracket, enter the column index.\n",
        "\n",
        "\n",
        "**Syntax:** `list_name[row_index][col_index]`\n",
        "\n",
        "\n",
        "In `planet_data` 2D list, there are 9 rows and 4 columns, so the row indices go from `0` to `8` and the column indices go from `0` to `3`:\n",
        "\n",
        "\n",
        "\n",
        "<img src=\"https://curriculum.whitehatjr.com/APT+Asset/APT+C7+images/apt-c7-13-index-01.png\" height=400/>\n",
        "\n",
        "To retrieve the diameter of Jupiter, you need to specify the **row index** and **column index** for Jupiter.\n",
        "\n",
        "\n",
        "\n",
        "<img src=\"https://curriculum.whitehatjr.com/APT+Asset/APT+C7+images/planet-jupiter-gif-c7-apt.gif\" height=400/>\n",
        "\n"
      ]
    },
    {
      "cell_type": "markdown",
      "metadata": {
        "id": "XnjMlb0ObP-z"
      },
      "source": [
        "As we can see in the above image, let us write a code to retrieve the diameeter of `Jupiter` from the `planet_data` list:"
      ]
    },
    {
      "cell_type": "code",
      "metadata": {
        "id": "eG3W2xq0_AlX",
        "colab": {
          "base_uri": "https://localhost:8080/"
        },
        "outputId": "788c6936-2a52-49bf-a524-eaedae56901b"
      },
      "source": [
        "# S2.1: Retrieve the diameter of 'Jupiter' from the 'planet_data' list.\n",
        "planet_diameters[4][1]"
      ],
      "execution_count": null,
      "outputs": [
        {
          "output_type": "execute_result",
          "data": {
            "text/plain": [
              "956"
            ]
          },
          "metadata": {},
          "execution_count": 4
        }
      ]
    },
    {
      "cell_type": "markdown",
      "metadata": {
        "id": "zUxxm199bkmm"
      },
      "source": [
        "Let us also retrieve the density of `Saturn` planet using list indexing method:"
      ]
    },
    {
      "cell_type": "code",
      "metadata": {
        "id": "TJTqwWs3_FLX",
        "colab": {
          "base_uri": "https://localhost:8080/"
        },
        "outputId": "8c4d532b-465d-4c79-9665-7246c05e96f4"
      },
      "source": [
        "# S2.2: Retrieve the density of 'Saturn' from the 'planet_data' list.\n",
        "planet_diameters[5][1]"
      ],
      "execution_count": null,
      "outputs": [
        {
          "output_type": "execute_result",
          "data": {
            "text/plain": [
              "123295"
            ]
          },
          "metadata": {},
          "execution_count": 7
        }
      ]
    },
    {
      "cell_type": "markdown",
      "metadata": {
        "id": "Lt2KVjuv4y8_"
      },
      "source": [
        "To get all the items of a row from a 2D list, just enter the row index of that row in the first square bracket after writing the name of the list. No need to enter the column index in this case.\n",
        "\n",
        "**Syntax:** `list_name[row_index]`\n",
        "\n",
        "\n",
        "\n",
        "<img src=\"https://curriculum.whitehatjr.com/APT+Asset/APT+C7+images/PLATER-MARS-apt-c7-gif.gif\" height=400/>\n",
        "\n",
        "Let's get all the details of `'Mars'` from the `planet_data` list."
      ]
    },
    {
      "cell_type": "code",
      "metadata": {
        "id": "Bv0dXmVU4mI1",
        "colab": {
          "base_uri": "https://localhost:8080/"
        },
        "outputId": "88610d7c-2a23-432f-8b09-f2eb1ccfbba8"
      },
      "source": [
        "# S2.3: Retrieve all the details of 'Mars' using the list indexing method.\n",
        "planet_diameters[1]"
      ],
      "execution_count": null,
      "outputs": [
        {
          "output_type": "execute_result",
          "data": {
            "text/plain": [
              "['venus', 6532]"
            ]
          },
          "metadata": {},
          "execution_count": 8
        }
      ]
    },
    {
      "cell_type": "markdown",
      "metadata": {
        "id": "Z41PMkO6twJY"
      },
      "source": [
        "---"
      ]
    },
    {
      "cell_type": "markdown",
      "metadata": {
        "id": "pvs9woietw-g"
      },
      "source": [
        "#### Task 3: Length of Nested Python Lists\n",
        "\n",
        "The length of a nested list is the number of sublists it contains.\n",
        "\n",
        "\n",
        "In the `planet_data` list, there are 9 sublists. Hence, its length is 9. You can use the `len()` function to compute the length of a nested list.\n",
        "\n",
        "**Syntax:** `len(list_name)`"
      ]
    },
    {
      "cell_type": "code",
      "metadata": {
        "id": "VxS958TmuKM7",
        "colab": {
          "base_uri": "https://localhost:8080/"
        },
        "outputId": "2a917f80-0271-495f-9355-5fb16a7748d1"
      },
      "source": [
        "# S3.1: Find the number of sublists in the 'planet_data' list using the 'len()' function.\n",
        "len(planet_diameters)"
      ],
      "execution_count": null,
      "outputs": [
        {
          "output_type": "execute_result",
          "data": {
            "text/plain": [
              "8"
            ]
          },
          "metadata": {},
          "execution_count": 9
        }
      ]
    },
    {
      "cell_type": "markdown",
      "metadata": {
        "id": "lRBY_h1YuYEm"
      },
      "source": [
        "\n",
        "**What if we need to count the total number of items in a nested list?**\n",
        "\n",
        "For this:\n",
        "- First, find the length of each sublist using the `len()` function.\n",
        "- Then add the length of each sublist.\n",
        "\n",
        "\n",
        "\n",
        "\n",
        "\n",
        "To perform these tasks, we will use a `for` loop which will iterate through every sublist.\n",
        "\n",
        "Follow the steps given below:\n",
        "\n",
        "1. Create a `num_items` variable with an initial value equal to `0`. \n",
        "\n",
        "2. Find the total number of items contained in each sublist in the `planet_data` list, using the `for` loop and the `len()` function.\n",
        "\n",
        "3. Add the length of each list to the `num_items` variable."
      ]
    },
    {
      "cell_type": "code",
      "metadata": {
        "id": "3uG5bpc6ugJG",
        "colab": {
          "base_uri": "https://localhost:8080/"
        },
        "outputId": "20342b40-50a3-44b8-bbda-2ea781041c69"
      },
      "source": [
        "# S3.2: Find the total number of items in a nested list.\n",
        "num_items=0\n",
        "for i in planet_diameters:\n",
        "    num_items+=len(i)\n",
        "num_items"
      ],
      "execution_count": null,
      "outputs": [
        {
          "output_type": "execute_result",
          "data": {
            "text/plain": [
              "16"
            ]
          },
          "metadata": {},
          "execution_count": 12
        }
      ]
    },
    {
      "cell_type": "markdown",
      "metadata": {
        "id": "5d9rQsdmvj3b"
      },
      "source": [
        "In the above code:\n",
        "\n",
        "- We iterate through each sublist in the `planet_data` list.\n",
        "\n",
        "- We compute the length of each sublist using the `len()` function. We store this value in a `length_of_sublist` variable which we have created inside the `for` loop.\n",
        "\n",
        "- We add the length of each sublist to the `num_items` variable using the `+` operator. Recall that this is a **right-to-left** operation in which we first update the value stored in a variable and then assign the updated value to the same variable.\n",
        "\n",
        "- Finally, we print the value stored in the `num_items` variable to get the total number of items contained in the `planet_data` list.\n",
        "\n",
        "*In general, if a two-dimensional list has $q$ rows and $r$ columns, then it will have $q \\times r$ items.*\n"
      ]
    },
    {
      "cell_type": "markdown",
      "metadata": {
        "id": "DnlxSGHc-zCk"
      },
      "source": [
        "---"
      ]
    },
    {
      "cell_type": "markdown",
      "metadata": {
        "id": "7_j0m3MB0GfD"
      },
      "source": [
        "#### Task 4: Data Representation in Three-Dimensions using Python Lists\n",
        "\n",
        "Let's learn about three-dimensional lists in Python. \n",
        "\n",
        "*For all practical purposes, a three-dimensional list is a collection of equal-sized two-dimensional lists* where the **size** of a two-dimensional list is the number of rows and columns contained in a two-dimensional list. E.g., if there are 2 two-dimensional lists having 3 rows and 2 columns, then you can create a three-dimensional list using them.\n",
        "\n",
        "Hence, the equal-sized two-dimensional lists will always have the same number of rows and columns.\n",
        "\n",
        "**Note:** In a three-dimensional list, we can refer to a two-dimensional list as a **block** for ease of understanding.\n",
        "\n",
        "Now, let's create a three-dimensional list that contains three equal-sized two-dimensional lists. Let the size of each two-dimensional list be 3 rows and 3 columns. Let each item in the three-dimensional list indicate the position it acquires in the list.\n",
        "\n",
        "<img src='https://student-datasets-bucket.s3.ap-south-1.amazonaws.com/images/3D_array.jpg'>\n",
        "\n",
        "So each item will be of the form $ijk$, where $ijk$ indicates that the item is present in the $i^{th}$ block, $j^{th}$ row, and $k^{th}$ column. \n",
        "\n",
        "\n",
        "Hence, \n",
        "\n",
        "- if $i = 1, j = 1, k = 1$, then it means the item exists in the first block, first row, and first column.\n",
        "\n",
        "- if $i = 1, j = 1, k = 2$, then it means the item exists in the first block, first row, and second column.\n",
        "\n",
        "- if $i = 1, j = 1, k = 3$, then it means the item exists in the first block, first row, and third column.\n",
        "\n",
        "    $$\\vdots$$\n",
        "\n",
        "    \n",
        "\n",
        "   \n",
        "\n",
        "- if $i = 3, j = 3, k = 1$, then it means the item exists in the third block, third row, and first column.\n",
        "\n",
        "- if $i = 3, j = 3, k = 2$, then it means the item exists in the third block, third row, and second column.\n",
        "\n",
        "- if $i = 3, j = 3, k = 3$, then it means the item exists in the third block, third row, and third column."
      ]
    },
    {
      "cell_type": "code",
      "metadata": {
        "id": "sxzt8Po1VorE",
        "colab": {
          "base_uri": "https://localhost:8080/"
        },
        "outputId": "07d19c08-2804-4c73-c518-b398f6dd3192"
      },
      "source": [
        "# S4.1: Create a three-dimensional list in Python.\n",
        "three_dim=[[[111,112,113],[121,122,123],[131,132,133]],\n",
        "           [[211,212,213],[221,222,223],[231,232,233]],\n",
        "           [[311,312,313],[321,322,323],[331,332,333]]]\n",
        "three_dim"
      ],
      "execution_count": null,
      "outputs": [
        {
          "output_type": "execute_result",
          "data": {
            "text/plain": [
              "[[[111, 112, 113], [121, 122, 123], [131, 132, 133]],\n",
              " [[211, 212, 213], [221, 222, 223], [231, 232, 233]],\n",
              " [[311, 312, 313], [321, 322, 323], [331, 332, 333]]]"
            ]
          },
          "metadata": {},
          "execution_count": 14
        }
      ]
    },
    {
      "cell_type": "markdown",
      "metadata": {
        "id": "KY3BNCvi0UTh"
      },
      "source": [
        "**Note:** The indentation for a nested list is not necessary. We indent a nested list to make it more readable.\n",
        "\n",
        "\n",
        "In the above example, the number `111` means the item exists in the first block, first row, and first column. Similarly, `121` means the item exists in the first block, second row, and first column, and so on.\n",
        "\n",
        "We have 3 blocks where each block is a two-dimensional list. So the blocks represent the third dimension. You can compute the number of blocks contained in a three-dimensional list using the `len()` function."
      ]
    },
    {
      "cell_type": "code",
      "metadata": {
        "id": "DVaVcWNZ3EYT",
        "colab": {
          "base_uri": "https://localhost:8080/"
        },
        "outputId": "c24d02cd-d795-4320-e62d-0e3e3beaf1c7"
      },
      "source": [
        "# S4.2: Using the 'len()' function, find the number of blocks contained in the 'three_dim_list'.\n",
        "len(three_dim)"
      ],
      "execution_count": null,
      "outputs": [
        {
          "output_type": "execute_result",
          "data": {
            "text/plain": [
              "3"
            ]
          },
          "metadata": {},
          "execution_count": 15
        }
      ]
    },
    {
      "cell_type": "markdown",
      "metadata": {
        "id": "GdWe36Z-25f-"
      },
      "source": [
        "You can imagine these blocks as a stack of few books in which one book lies on top of another.\n",
        "\n",
        "<img src='https://s3-whjr-v2-prod-bucket.whjr.online/9cfb99b0-d4d2-4268-a79d-378f09f39cd4.png' width=400>\n",
        "\n",
        "Surely, we can't actually draw three dimensions on a two-dimensional screen but using the example of a stack of books we can try to visualize them.\n",
        "\n",
        "We can retrieve the items from a three-dimensional list using the list indexing method. Let us learn how to do so.\n",
        "\n"
      ]
    },
    {
      "cell_type": "markdown",
      "metadata": {
        "id": "S_GKUgWieRjX"
      },
      "source": [
        "---"
      ]
    },
    {
      "cell_type": "markdown",
      "metadata": {
        "id": "A2TwL3fgeSJx"
      },
      "source": [
        "#### Task 5: Retrieving Items from a Three-Dimensional List\n",
        "\n",
        "\n",
        "To retrieve an item from a three-dimensional list, you need to write the name of the list, followed by three square brackets. Inside the square brackets, you have to enter the block index, row index, and column index in that order.\n",
        "\n",
        "**Syntax:** `list_name[block_index][row_index][col_index]`\n",
        "\n",
        "**Note:** The block, row, and column indices begin from `0`.\n",
        "\n",
        "Let's try to retrieve item `121` from `three_dim_list`:"
      ]
    },
    {
      "cell_type": "code",
      "metadata": {
        "id": "e6FPCiBg7J3j",
        "colab": {
          "base_uri": "https://localhost:8080/"
        },
        "outputId": "047765b6-a544-49e6-81ba-dc37f8cb2d3e"
      },
      "source": [
        "# S5.1: Retrieve 121 from 'three_dim_list' using the list indexing method.\n",
        "three_dim[0][1][0]"
      ],
      "execution_count": null,
      "outputs": [
        {
          "output_type": "execute_result",
          "data": {
            "text/plain": [
              "121"
            ]
          },
          "metadata": {},
          "execution_count": 17
        }
      ]
    },
    {
      "cell_type": "code",
      "metadata": {
        "id": "fY5hYYk_53Ws"
      },
      "source": [
        "# S5.2: Retrieve 232 from 'three_dim_list' using the list indexing method.\n"
      ],
      "execution_count": null,
      "outputs": []
    },
    {
      "cell_type": "markdown",
      "metadata": {
        "id": "V-jwR0f6SK8V"
      },
      "source": [
        "We can retrieve all the items from a three-dimensional list using the nested `for` loop. The nested `for` loop means there are `for` loops inside a `for` loop. \n",
        "\n",
        "In this example, using the `for` loop, \n",
        "\n",
        "- First, we will iterate through each block. \n",
        "\n",
        "- Then within each block, we will iterate through each row. \n",
        "\n",
        "- Then within each row, we will iterate through each column to get every single item from the nested list stored in the `three_dim_list` variable."
      ]
    },
    {
      "cell_type": "code",
      "metadata": {
        "id": "E_qUBN-uSks3",
        "colab": {
          "base_uri": "https://localhost:8080/"
        },
        "outputId": "6ab319e9-129d-4822-9841-ce538b2edcaa"
      },
      "source": [
        "# S5.3: Retrieve items of a multi-dimensional list using the nested 'for' loop.\n",
        "for i in three_dim:\n",
        "    for j in i:\n",
        "        for k in j:\n",
        "            print(k ,end=\" \")\n",
        "        print(\" \")\n",
        "    print(\" \")"
      ],
      "execution_count": null,
      "outputs": [
        {
          "output_type": "stream",
          "name": "stdout",
          "text": [
            "111 112 113  \n",
            "121 122 123  \n",
            "131 132 133  \n",
            " \n",
            "211 212 213  \n",
            "221 222 223  \n",
            "231 232 233  \n",
            " \n",
            "311 312 313  \n",
            "321 322 323  \n",
            "331 332 333  \n",
            " \n"
          ]
        }
      ]
    },
    {
      "cell_type": "markdown",
      "metadata": {
        "id": "vVXF--C8XWfn"
      },
      "source": [
        "Here, `i` goes from `0` to `2`, `j` goes from `0` to `2`, and `k` also goes from `0` to `2`.\n",
        "\n",
        "Hence, \n",
        "for first three iterations,\n",
        "- `i = 0`, `j = 0` and `k` will go from `0` to `2`.\n",
        "\n",
        "Then, in the subsequent iterations:\n",
        "-  for `i = 0` and `j = 1`, again `k` will go from `0` to `2`.\n",
        "\n",
        "- for `i = 0` and `j = 2`, again `k` will go from `0` to `2`.\n",
        "\n",
        "- for `i = 1` and `j = 0`, again `k` will go from `0` to `2`.\n",
        "\n",
        "- for `i = 1` and `j = 1`, again `k` will go from `0` to `2`.\n",
        "\n",
        "- for `i = 1` and `j = 2`, again `k` will go from `0` to `2`.\n",
        "\n",
        "- for `i = 2` and `j = 0`, again `k` will go from `0` to `2`.\n",
        "\n",
        "- for `i = 2` and `j = 1`, again `k` will go from `0` to `2`.\n",
        "\n",
        "- for `i = 2` and `j = 2`, again `k` will go from `0` to `2`.\n",
        "\n",
        "So, all-in-all, there will be 27 iterations. In the above code. \n",
        "\n",
        "- The `end=' '` parameter in the first `print()` function, provides a space between two consecutive items in a row.\n",
        "\n",
        "- The second `print()` function prints a new line after each row.\n",
        "\n",
        "- The third `print()` function prints an empty newline after each block.\n",
        "\n",
        "*In general, if a three-dimensional list has $p$ blocks, $q$ rows, and $r$ columns, then it will have $p \\times q \\times r$ items.*\n",
        "\n",
        "Now, you try to iterate through each item in the `three_dim_list` using the `for` loop but without using the `range()` function."
      ]
    },
    {
      "cell_type": "code",
      "metadata": {
        "id": "qs-vfeIizdzv",
        "colab": {
          "base_uri": "https://localhost:8080/"
        },
        "outputId": "b1147227-d632-4b87-f1f1-33facf1a4c8a"
      },
      "source": [
        "# S5.4: Iterate through each item in the 'three_dim_list' using the 'for' loop without using the 'range()' function.\n",
        "for i in range(3):\n",
        "    for j in range(3):\n",
        "        for k in range(3):\n",
        "            print(three_dim[i][j][k], end=\" \")\n",
        "        print(' ')\n",
        "    print(' ')"
      ],
      "execution_count": null,
      "outputs": [
        {
          "output_type": "stream",
          "name": "stdout",
          "text": [
            "111 112 113  \n",
            "121 122 123  \n",
            "131 132 133  \n",
            " \n",
            "211 212 213  \n",
            "221 222 223  \n",
            "231 232 233  \n",
            " \n",
            "311 312 313  \n",
            "321 322 323  \n",
            "331 332 333  \n",
            " \n"
          ]
        }
      ]
    },
    {
      "cell_type": "markdown",
      "metadata": {
        "id": "aQvSsgUwOnIK"
      },
      "source": [
        "In the above code, \n",
        "\n",
        "The `block` variable goes through the first block: \n",
        "\n",
        "    ```\n",
        "    111 112 113 \n",
        "    121 122 123 \n",
        "    131 132 133\n",
        "    ```\n",
        "\n",
        "To the third block:\n",
        "\n",
        "    ```\n",
        "    311 312 313 \n",
        "    321 322 323 \n",
        "    331 332 333 \n",
        "    ```\n",
        "\n",
        "In the `three_dim_list`.\n",
        "\n",
        "- The `row` variable goes through each row in each block.\n",
        "\n",
        "- The `item` variable goes through each item in each row in each block.\n",
        "\n",
        "- The `end=' '` parameter in the first `print()` function, provides a space between two consecutive items in a row.\n",
        "\n",
        "- The second `print()` function prints a new line after each row.\n",
        "\n",
        "- The third `print()` function prints an empty newline after each block.\n",
        "\n",
        "\n",
        "You can also use the `for` loop to find the number of items in a three-dimensional list as we did in the case of the two-dimensional list. To find the number of items in the `three_dim_list`, using the `for` loop:\n",
        "\n",
        "- First, create a variable, say `num_items`, with an initial value equal to `0`.\n",
        "\n",
        "- Then iterate through each block.\n",
        "\n",
        "- Then within each block, iterate through each row.\n",
        "\n",
        "- Then find the number of items in each row using the `len()` function and add the result to the `num_items` variable.\n",
        "\n",
        "The output should be `27` because there are `27` items in the `three_dim_list`:"
      ]
    },
    {
      "cell_type": "code",
      "metadata": {
        "id": "HteQVNqsoltL",
        "colab": {
          "base_uri": "https://localhost:8080/"
        },
        "outputId": "867a702a-077f-461b-8119-7527b3953596"
      },
      "source": [
        "# S5.5: Using the 'for', find the number of items in the 'three_dim_list'.\n",
        "num=0\n",
        "for block in three_dim:\n",
        "    for row in block:\n",
        "        num+=len(row)\n",
        "print(num)"
      ],
      "execution_count": null,
      "outputs": [
        {
          "output_type": "stream",
          "name": "stdout",
          "text": [
            "27\n"
          ]
        }
      ]
    },
    {
      "cell_type": "markdown",
      "metadata": {
        "id": "_bJ_zgrWipaK"
      },
      "source": [
        "This is where we will stop today. We have covered some important topics related to lists in this class like creating a nested list and also how to retrieve an item from a nested list.\n",
        "\n",
        "In the next class, we will learn list comprehension."
      ]
    },
    {
      "cell_type": "markdown",
      "metadata": {
        "id": "gMcANT9pT7MX"
      },
      "source": [
        "Exponents \n",
        "\n",
        "Write a code to get the following output.\n",
        "\n",
        "```\n",
        "Numbers raised to power 1 ==> [1, 2, 3, 4, 5, 6, 7, 8, 9]\n",
        "Numbers raised to power 2 ==> [1, 4, 9, 16, 25, 36, 49, 64, 81]\n",
        "Numbers raised to power 3 ==> [1, 8, 27, 64, 125, 216, 343, 512, 729]\n",
        "Numbers raised to power 4 ==> [1, 16, 81, 256, 625, 1296, 2401, 4096, 6561]\n",
        "Numbers raised to power 5 ==> [1, 32, 243, 1024, 3125, 7776, 16807, 32768, 59049]\n",
        "Numbers raised to power 6 ==> [1, 64, 729, 4096, 15625, 46656, 117649, 262144, 531441]\n",
        "Numbers raised to power 7 ==> [1, 128, 2187, 16384, 78125, 279936, 823543, 2097152, 4782969]\n",
        "Numbers raised to power 8 ==> [1, 256, 6561, 65536, 390625, 1679616, 5764801, 16777216, 43046721]\n",
        "Numbers raised to power 9 ==> [1, 512, 19683, 262144, 1953125, 10077696, 40353607, 134217728, 387420489]\n",
        "```"
      ]
    },
    {
      "cell_type": "markdown",
      "metadata": {
        "id": "SwrzH2vNIabl"
      },
      "source": [
        "---"
      ]
    },
    {
      "cell_type": "code",
      "metadata": {
        "id": "XKqUTQzWTwr6",
        "colab": {
          "base_uri": "https://localhost:8080/"
        },
        "outputId": "7279666b-4b30-41a3-b4cf-be51eca79fec"
      },
      "source": [
        "lst=[]\n",
        "for i in range(1,10):\n",
        "    lst.append(i)\n",
        "\n",
        "for i in lst:\n",
        "    lst2=[]\n",
        "    for j in range(1,10):\n",
        "        lst2.append(j**i)\n",
        "    print(\"Numbers raised to power\",i,'==>',lst2) "
      ],
      "execution_count": null,
      "outputs": [
        {
          "output_type": "stream",
          "name": "stdout",
          "text": [
            "Numbers raised to power 1 ==> [1, 2, 3, 4, 5, 6, 7, 8, 9]\n",
            "Numbers raised to power 2 ==> [1, 4, 9, 16, 25, 36, 49, 64, 81]\n",
            "Numbers raised to power 3 ==> [1, 8, 27, 64, 125, 216, 343, 512, 729]\n",
            "Numbers raised to power 4 ==> [1, 16, 81, 256, 625, 1296, 2401, 4096, 6561]\n",
            "Numbers raised to power 5 ==> [1, 32, 243, 1024, 3125, 7776, 16807, 32768, 59049]\n",
            "Numbers raised to power 6 ==> [1, 64, 729, 4096, 15625, 46656, 117649, 262144, 531441]\n",
            "Numbers raised to power 7 ==> [1, 128, 2187, 16384, 78125, 279936, 823543, 2097152, 4782969]\n",
            "Numbers raised to power 8 ==> [1, 256, 6561, 65536, 390625, 1679616, 5764801, 16777216, 43046721]\n",
            "Numbers raised to power 9 ==> [1, 512, 19683, 262144, 1953125, 10077696, 40353607, 134217728, 387420489]\n"
          ]
        }
      ]
    },
    {
      "cell_type": "markdown",
      "metadata": {
        "id": "lkpNSUtjW4gR"
      },
      "source": [
        "# Suppose I want to flatten a given 2-D list:\n",
        "\n",
        "matrix = [[1, 2, 3], [4, 5, 6], [7, 8, 9]]\n",
        "\n",
        "Expected Output: flatten_matrix = [1, 2, 3, 4, 5, 6, 7, 8, 9]"
      ]
    },
    {
      "cell_type": "code",
      "metadata": {
        "colab": {
          "base_uri": "https://localhost:8080/"
        },
        "id": "GEkPdhNaXArQ",
        "outputId": "94968c0a-1afd-4f80-9ce3-29d892e791bc"
      },
      "source": [
        "matrix = [[1, 2, 3], [4, 5, 6], [7, 8, 9]]\n",
        "flatten_matrix=[]\n",
        "for row in matrix:\n",
        "    for items in row:\n",
        "        flatten_matrix.append(items)\n",
        "print(flatten_matrix)"
      ],
      "execution_count": null,
      "outputs": [
        {
          "output_type": "stream",
          "name": "stdout",
          "text": [
            "[1, 2, 3, 4, 5, 6, 7, 8, 9]\n"
          ]
        }
      ]
    },
    {
      "cell_type": "markdown",
      "metadata": {
        "id": "h7hbIpwbX4rf"
      },
      "source": [
        "# create a matrix which looks like below:\n",
        "\n",
        "matrix = [[0, 1, 2, 3, 4],\n",
        "          [0, 1, 2, 3, 4],\n",
        "          [0, 1, 2, 3, 4],\n",
        "          [0, 1, 2, 3, 4],\n",
        "          [0, 1, 2, 3, 4]]"
      ]
    },
    {
      "cell_type": "code",
      "metadata": {
        "colab": {
          "base_uri": "https://localhost:8080/"
        },
        "id": "C32mnWnfYDxu",
        "outputId": "6bb5506c-a9b3-441e-8fc0-2d86dbb59711"
      },
      "source": [
        "matrix=[]\n",
        "for row in range(0,5):\n",
        "    matrix.append([])\n",
        "    for items in range(0,5):\n",
        "        matrix[row].append(items)\n",
        "    \n",
        "print(matrix)\n",
        "print(len(matrix))"
      ],
      "execution_count": 48,
      "outputs": [
        {
          "output_type": "stream",
          "name": "stdout",
          "text": [
            "[[0, 1, 2, 3, 4], [0, 1, 2, 3, 4], [0, 1, 2, 3, 4], [0, 1, 2, 3, 4], [0, 1, 2, 3, 4]]\n",
            "5\n"
          ]
        }
      ]
    }
  ]
}