{
  "nbformat": 4,
  "nbformat_minor": 0,
  "metadata": {
    "colab": {
      "name": "AT_CapstoneProject4_GenderVoicesClassification_QuestionCopy_v0.2",
      "provenance": [],
      "collapsed_sections": [],
      "include_colab_link": true
    },
    "kernelspec": {
      "name": "python3",
      "display_name": "Python 3"
    }
  },
  "cells": [
    {
      "cell_type": "markdown",
      "metadata": {
        "id": "view-in-github",
        "colab_type": "text"
      },
      "source": [
        "<a href=\"https://colab.research.google.com/github/aadityasomani/Aadi/blob/master/AT_CapstoneProject4_GenderVoicesClassification_QuestionCopy_v0_2.ipynb\" target=\"_parent\"><img src=\"https://colab.research.google.com/assets/colab-badge.svg\" alt=\"Open In Colab\"/></a>"
      ]
    },
    {
      "cell_type": "markdown",
      "metadata": {
        "id": "CmnfQSircLEN"
      },
      "source": [
        "# Capstone Project 4: Gender Voices Classification"
      ]
    },
    {
      "cell_type": "markdown",
      "metadata": {
        "id": "1e2xVjjhcPJM"
      },
      "source": [
        "### Overview\n",
        "\n",
        "In this project, you are provided with a dataset which contains some statistical information about the audio frequencies of different male and female voices. Based on the information provided, you have to find out which voice belongs to which gender using the `RandomForestClassifier` algorithm.\n",
        "\n",
        "The data description is provided below for the dataset.\n",
        "\n",
        "<img src='https://student-datasets-bucket.s3.ap-south-1.amazonaws.com/whitehat-ds-datasets/project-4/gender_voice_dataset_attributes.png' width=600>\n",
        "\n",
        "*Dataset credits: https://www.mldata.io/dataset-details/gender_voice/*\n",
        "\n",
        "Please note that\n",
        "\n",
        "1. In the `label` column, `0` denotes the male class and `1` denotes the female class.\n",
        "\n",
        "2. You are not required to know the meaning of all the other attributes in the dataset. You just need to deploy a prediction model with these attributes as the feature variables and the `label` column as the target variable. \n",
        "\n",
        "You can get the datasets from the following links:\n",
        "\n",
        "1. Train dataset \n",
        "  \n",
        "  https://s3-student-datasets-bucket.whjr.online/whitehat-ds-datasets/project-4/gender-voice-train.csv\n",
        "\n",
        "2. Test dataset \n",
        "\n",
        "  https://s3-student-datasets-bucket.whjr.online/whitehat-ds-datasets/project-4/gender-voice-test.csv"
      ]
    },
    {
      "cell_type": "markdown",
      "metadata": {
        "id": "_F-OALfPcTJa"
      },
      "source": [
        "---"
      ]
    },
    {
      "cell_type": "markdown",
      "metadata": {
        "id": "ydmz0sX16yhf"
      },
      "source": [
        "### Project Requirements\n",
        "\n",
        "1. Create a pandas DataFrame for the train and test datasets.\n",
        "\n",
        "2. Display the first five rows of both the training and test DataFrames.\n",
        "\n",
        "3. Display the last five rows of both the training and test DataFrames.\n",
        "\n",
        "4. Find the number of rows and columns in the train and test DataFrames.\n",
        "\n",
        "5. Check for the missing values in the train and test DataFrames.\n",
        "\n",
        "6. Count the number of `male` and `female` classes in the train DataFrame. \n",
        "\n",
        "7. Separate the feature variables, i.e., `x_train` and `x_test` from both the DataFrames.\n",
        "\n",
        "8. Separate the target variable, i.e., `y_train` and `y_test` from both the DataFrames.\n",
        "\n",
        "9. Apply the `RandomForestClassifier` machine learning model to predict the `males` and `female` classes in the test DataFrame, i.e, `x_test`.\n",
        "\n",
        "10. Print the confusion matrix and the classification report to evaluate your prediction model. Also, based on the confusion matrix, precision, recall and f1-score values, report whether the prediction model deployed by you is making accurate predictions or not."
      ]
    },
    {
      "cell_type": "markdown",
      "metadata": {
        "id": "KVicIGwLcVkt"
      },
      "source": [
        "---"
      ]
    },
    {
      "cell_type": "markdown",
      "metadata": {
        "id": "2gGlNzCuqCPM"
      },
      "source": [
        "#### Getting Started\n",
        "\n",
        "Follow the steps described below to solve the project:\n",
        "\n",
        "1. Click on the link provided below to open the Colab file for this project.\n",
        "   \n",
        "   https://colab.research.google.com/drive/1eP0L1-vjjYnZSHtiEQ1EL0UFQ3NiyA65?usp=sharing\n",
        "\n",
        "2. Create the duplicate copy of the Colab file. Here are the steps to create the duplicate copy:\n",
        "\n",
        "    - Click on the **File** menu. A new drop-down list will appear.\n",
        "\n",
        "      <img src='https://student-datasets-bucket.s3.ap-south-1.amazonaws.com/images/project-share-images/0_file_menu.png' width=500>\n",
        "\n",
        "    - Click on the **Save a copy in Drive** option. A duplicate copy will get created. It will open up in the new tab on your web browser.\n",
        "\n",
        "      <img src='https://student-datasets-bucket.s3.ap-south-1.amazonaws.com/images/project-share-images/1_create_colab_duplicate_copy.png' width=500>\n",
        "\n",
        "     - After creating the duplicate copy of the notebook, please rename it in the **YYYY-MM-DD_StudentName_CapstoneProject4** format. \n",
        "\n",
        "3. Now, write your code in the prescribed code cells."
      ]
    },
    {
      "cell_type": "markdown",
      "metadata": {
        "id": "EBcpW3VtqLhO"
      },
      "source": [
        "---"
      ]
    },
    {
      "cell_type": "markdown",
      "metadata": {
        "id": "WWYYVXmiWA2U"
      },
      "source": [
        "#### 1. Create The DataFrames\n",
        "\n",
        "Create the Pandas DataFrames for both the training and test datasets."
      ]
    },
    {
      "cell_type": "code",
      "metadata": {
        "id": "FcPnUmo26rpg"
      },
      "source": [
        "# Create the DataFrames for both the train and test datasets and store them in the 'train_df' and 'test_df' variables respectively.\n",
        "import pandas as pd\n",
        "train_df=pd.read_csv(\"https://s3-student-datasets-bucket.whjr.online/whitehat-ds-datasets/project-4/gender-voice-train.csv\")\n",
        "test_df=pd.read_csv(\"https://s3-student-datasets-bucket.whjr.online/whitehat-ds-datasets/project-4/gender-voice-test.csv\")"
      ],
      "execution_count": 1,
      "outputs": []
    },
    {
      "cell_type": "markdown",
      "metadata": {
        "id": "K2Ki2PRyF4Wv"
      },
      "source": [
        "---"
      ]
    },
    {
      "cell_type": "markdown",
      "metadata": {
        "id": "vRmVd-pzgcu_"
      },
      "source": [
        "#### 2. Display First Five Rows\n",
        "\n",
        "Display the first five rows of both the `train_df` and `test_df` DataFrames."
      ]
    },
    {
      "cell_type": "code",
      "metadata": {
        "id": "ACRMQ_vbWozF",
        "outputId": "2df171d5-22d3-4a99-b950-10b096ce7ca8",
        "colab": {
          "base_uri": "https://localhost:8080/",
          "height": 222
        }
      },
      "source": [
        "# Display the first 5 rows of the 'train_df' DataFrame.\n",
        "train_df.head()"
      ],
      "execution_count": 2,
      "outputs": [
        {
          "output_type": "execute_result",
          "data": {
            "text/html": [
              "<div>\n",
              "<style scoped>\n",
              "    .dataframe tbody tr th:only-of-type {\n",
              "        vertical-align: middle;\n",
              "    }\n",
              "\n",
              "    .dataframe tbody tr th {\n",
              "        vertical-align: top;\n",
              "    }\n",
              "\n",
              "    .dataframe thead th {\n",
              "        text-align: right;\n",
              "    }\n",
              "</style>\n",
              "<table border=\"1\" class=\"dataframe\">\n",
              "  <thead>\n",
              "    <tr style=\"text-align: right;\">\n",
              "      <th></th>\n",
              "      <th>label</th>\n",
              "      <th>meanfreq</th>\n",
              "      <th>sd</th>\n",
              "      <th>median</th>\n",
              "      <th>Q25</th>\n",
              "      <th>Q75</th>\n",
              "      <th>IQR</th>\n",
              "      <th>skew</th>\n",
              "      <th>kurt</th>\n",
              "      <th>sp.ent</th>\n",
              "      <th>sfm</th>\n",
              "      <th>mode</th>\n",
              "      <th>centroid</th>\n",
              "      <th>meanfun</th>\n",
              "      <th>minfun</th>\n",
              "      <th>maxfun</th>\n",
              "      <th>meandom</th>\n",
              "      <th>mindom</th>\n",
              "      <th>maxdom</th>\n",
              "      <th>dfrange</th>\n",
              "      <th>modindx</th>\n",
              "    </tr>\n",
              "  </thead>\n",
              "  <tbody>\n",
              "    <tr>\n",
              "      <th>0</th>\n",
              "      <td>1</td>\n",
              "      <td>0.235668</td>\n",
              "      <td>0.035568</td>\n",
              "      <td>0.240065</td>\n",
              "      <td>0.222366</td>\n",
              "      <td>0.257763</td>\n",
              "      <td>0.035397</td>\n",
              "      <td>2.006333</td>\n",
              "      <td>6.427613</td>\n",
              "      <td>0.828406</td>\n",
              "      <td>0.177183</td>\n",
              "      <td>0.242788</td>\n",
              "      <td>0.235668</td>\n",
              "      <td>0.190731</td>\n",
              "      <td>0.047478</td>\n",
              "      <td>0.279070</td>\n",
              "      <td>1.240513</td>\n",
              "      <td>0.023438</td>\n",
              "      <td>9.140625</td>\n",
              "      <td>9.117188</td>\n",
              "      <td>0.087997</td>\n",
              "    </tr>\n",
              "    <tr>\n",
              "      <th>1</th>\n",
              "      <td>0</td>\n",
              "      <td>0.190578</td>\n",
              "      <td>0.059717</td>\n",
              "      <td>0.190747</td>\n",
              "      <td>0.151985</td>\n",
              "      <td>0.242259</td>\n",
              "      <td>0.090273</td>\n",
              "      <td>2.727301</td>\n",
              "      <td>13.710214</td>\n",
              "      <td>0.901150</td>\n",
              "      <td>0.370874</td>\n",
              "      <td>0.186667</td>\n",
              "      <td>0.190578</td>\n",
              "      <td>0.118140</td>\n",
              "      <td>0.047198</td>\n",
              "      <td>0.279070</td>\n",
              "      <td>1.262109</td>\n",
              "      <td>0.023438</td>\n",
              "      <td>4.757812</td>\n",
              "      <td>4.734375</td>\n",
              "      <td>0.194908</td>\n",
              "    </tr>\n",
              "    <tr>\n",
              "      <th>2</th>\n",
              "      <td>0</td>\n",
              "      <td>0.202016</td>\n",
              "      <td>0.062551</td>\n",
              "      <td>0.233775</td>\n",
              "      <td>0.133369</td>\n",
              "      <td>0.258403</td>\n",
              "      <td>0.125034</td>\n",
              "      <td>2.132116</td>\n",
              "      <td>7.588438</td>\n",
              "      <td>0.872074</td>\n",
              "      <td>0.283257</td>\n",
              "      <td>0.262950</td>\n",
              "      <td>0.202016</td>\n",
              "      <td>0.121069</td>\n",
              "      <td>0.046967</td>\n",
              "      <td>0.277457</td>\n",
              "      <td>0.898143</td>\n",
              "      <td>0.023438</td>\n",
              "      <td>8.460938</td>\n",
              "      <td>8.437500</td>\n",
              "      <td>0.085771</td>\n",
              "    </tr>\n",
              "    <tr>\n",
              "      <th>3</th>\n",
              "      <td>1</td>\n",
              "      <td>0.236232</td>\n",
              "      <td>0.041141</td>\n",
              "      <td>0.244934</td>\n",
              "      <td>0.227932</td>\n",
              "      <td>0.260342</td>\n",
              "      <td>0.032410</td>\n",
              "      <td>2.175879</td>\n",
              "      <td>7.324086</td>\n",
              "      <td>0.831379</td>\n",
              "      <td>0.235322</td>\n",
              "      <td>0.243340</td>\n",
              "      <td>0.236232</td>\n",
              "      <td>0.179134</td>\n",
              "      <td>0.049896</td>\n",
              "      <td>0.274286</td>\n",
              "      <td>1.379012</td>\n",
              "      <td>0.023438</td>\n",
              "      <td>10.617188</td>\n",
              "      <td>10.593750</td>\n",
              "      <td>0.103917</td>\n",
              "    </tr>\n",
              "    <tr>\n",
              "      <th>4</th>\n",
              "      <td>0</td>\n",
              "      <td>0.189003</td>\n",
              "      <td>0.061455</td>\n",
              "      <td>0.202376</td>\n",
              "      <td>0.135446</td>\n",
              "      <td>0.234851</td>\n",
              "      <td>0.099406</td>\n",
              "      <td>1.620451</td>\n",
              "      <td>6.374442</td>\n",
              "      <td>0.928735</td>\n",
              "      <td>0.472934</td>\n",
              "      <td>0.215050</td>\n",
              "      <td>0.189003</td>\n",
              "      <td>0.114454</td>\n",
              "      <td>0.047856</td>\n",
              "      <td>0.271186</td>\n",
              "      <td>1.147995</td>\n",
              "      <td>0.023438</td>\n",
              "      <td>5.953125</td>\n",
              "      <td>5.929688</td>\n",
              "      <td>0.119684</td>\n",
              "    </tr>\n",
              "  </tbody>\n",
              "</table>\n",
              "</div>"
            ],
            "text/plain": [
              "   label  meanfreq        sd  ...     maxdom    dfrange   modindx\n",
              "0      1  0.235668  0.035568  ...   9.140625   9.117188  0.087997\n",
              "1      0  0.190578  0.059717  ...   4.757812   4.734375  0.194908\n",
              "2      0  0.202016  0.062551  ...   8.460938   8.437500  0.085771\n",
              "3      1  0.236232  0.041141  ...  10.617188  10.593750  0.103917\n",
              "4      0  0.189003  0.061455  ...   5.953125   5.929688  0.119684\n",
              "\n",
              "[5 rows x 21 columns]"
            ]
          },
          "metadata": {},
          "execution_count": 2
        }
      ]
    },
    {
      "cell_type": "code",
      "metadata": {
        "id": "2SKbLbNyWq7b",
        "outputId": "48aaa9c3-cc24-43a8-e088-3dd78d912b4d",
        "colab": {
          "base_uri": "https://localhost:8080/",
          "height": 222
        }
      },
      "source": [
        "# Display the first 5 rows of the 'test_df' DataFrame.\n",
        "test_df.head()"
      ],
      "execution_count": 3,
      "outputs": [
        {
          "output_type": "execute_result",
          "data": {
            "text/html": [
              "<div>\n",
              "<style scoped>\n",
              "    .dataframe tbody tr th:only-of-type {\n",
              "        vertical-align: middle;\n",
              "    }\n",
              "\n",
              "    .dataframe tbody tr th {\n",
              "        vertical-align: top;\n",
              "    }\n",
              "\n",
              "    .dataframe thead th {\n",
              "        text-align: right;\n",
              "    }\n",
              "</style>\n",
              "<table border=\"1\" class=\"dataframe\">\n",
              "  <thead>\n",
              "    <tr style=\"text-align: right;\">\n",
              "      <th></th>\n",
              "      <th>label</th>\n",
              "      <th>meanfreq</th>\n",
              "      <th>sd</th>\n",
              "      <th>median</th>\n",
              "      <th>Q25</th>\n",
              "      <th>Q75</th>\n",
              "      <th>IQR</th>\n",
              "      <th>skew</th>\n",
              "      <th>kurt</th>\n",
              "      <th>sp.ent</th>\n",
              "      <th>sfm</th>\n",
              "      <th>mode</th>\n",
              "      <th>centroid</th>\n",
              "      <th>meanfun</th>\n",
              "      <th>minfun</th>\n",
              "      <th>maxfun</th>\n",
              "      <th>meandom</th>\n",
              "      <th>mindom</th>\n",
              "      <th>maxdom</th>\n",
              "      <th>dfrange</th>\n",
              "      <th>modindx</th>\n",
              "    </tr>\n",
              "  </thead>\n",
              "  <tbody>\n",
              "    <tr>\n",
              "      <th>0</th>\n",
              "      <td>1</td>\n",
              "      <td>0.186833</td>\n",
              "      <td>0.027472</td>\n",
              "      <td>0.184325</td>\n",
              "      <td>0.173955</td>\n",
              "      <td>0.204731</td>\n",
              "      <td>0.030777</td>\n",
              "      <td>2.655225</td>\n",
              "      <td>10.565846</td>\n",
              "      <td>0.821812</td>\n",
              "      <td>0.159883</td>\n",
              "      <td>0.180645</td>\n",
              "      <td>0.186833</td>\n",
              "      <td>0.172790</td>\n",
              "      <td>0.023495</td>\n",
              "      <td>0.271186</td>\n",
              "      <td>0.178571</td>\n",
              "      <td>0.007812</td>\n",
              "      <td>0.226562</td>\n",
              "      <td>0.218750</td>\n",
              "      <td>0.108929</td>\n",
              "    </tr>\n",
              "    <tr>\n",
              "      <th>1</th>\n",
              "      <td>0</td>\n",
              "      <td>0.188879</td>\n",
              "      <td>0.060316</td>\n",
              "      <td>0.195537</td>\n",
              "      <td>0.138072</td>\n",
              "      <td>0.242975</td>\n",
              "      <td>0.104904</td>\n",
              "      <td>1.497393</td>\n",
              "      <td>5.037085</td>\n",
              "      <td>0.909425</td>\n",
              "      <td>0.374225</td>\n",
              "      <td>0.140386</td>\n",
              "      <td>0.188879</td>\n",
              "      <td>0.133092</td>\n",
              "      <td>0.050847</td>\n",
              "      <td>0.272727</td>\n",
              "      <td>0.855938</td>\n",
              "      <td>0.023438</td>\n",
              "      <td>8.718750</td>\n",
              "      <td>8.695312</td>\n",
              "      <td>0.098712</td>\n",
              "    </tr>\n",
              "    <tr>\n",
              "      <th>2</th>\n",
              "      <td>0</td>\n",
              "      <td>0.150705</td>\n",
              "      <td>0.087127</td>\n",
              "      <td>0.174299</td>\n",
              "      <td>0.069666</td>\n",
              "      <td>0.226082</td>\n",
              "      <td>0.156416</td>\n",
              "      <td>2.603951</td>\n",
              "      <td>22.328899</td>\n",
              "      <td>0.969287</td>\n",
              "      <td>0.781729</td>\n",
              "      <td>0.050181</td>\n",
              "      <td>0.150705</td>\n",
              "      <td>0.109992</td>\n",
              "      <td>0.017260</td>\n",
              "      <td>0.266667</td>\n",
              "      <td>1.240954</td>\n",
              "      <td>0.007812</td>\n",
              "      <td>5.562500</td>\n",
              "      <td>5.554688</td>\n",
              "      <td>0.332396</td>\n",
              "    </tr>\n",
              "    <tr>\n",
              "      <th>3</th>\n",
              "      <td>1</td>\n",
              "      <td>0.183667</td>\n",
              "      <td>0.040607</td>\n",
              "      <td>0.182534</td>\n",
              "      <td>0.156480</td>\n",
              "      <td>0.207646</td>\n",
              "      <td>0.051166</td>\n",
              "      <td>2.054138</td>\n",
              "      <td>7.483019</td>\n",
              "      <td>0.898138</td>\n",
              "      <td>0.313925</td>\n",
              "      <td>0.177040</td>\n",
              "      <td>0.183667</td>\n",
              "      <td>0.149237</td>\n",
              "      <td>0.018648</td>\n",
              "      <td>0.262295</td>\n",
              "      <td>0.550312</td>\n",
              "      <td>0.007812</td>\n",
              "      <td>3.421875</td>\n",
              "      <td>3.414062</td>\n",
              "      <td>0.166503</td>\n",
              "    </tr>\n",
              "    <tr>\n",
              "      <th>4</th>\n",
              "      <td>1</td>\n",
              "      <td>0.205159</td>\n",
              "      <td>0.039543</td>\n",
              "      <td>0.210805</td>\n",
              "      <td>0.186667</td>\n",
              "      <td>0.228908</td>\n",
              "      <td>0.042241</td>\n",
              "      <td>2.099683</td>\n",
              "      <td>7.562209</td>\n",
              "      <td>0.876002</td>\n",
              "      <td>0.271880</td>\n",
              "      <td>0.224885</td>\n",
              "      <td>0.205159</td>\n",
              "      <td>0.154736</td>\n",
              "      <td>0.047105</td>\n",
              "      <td>0.277457</td>\n",
              "      <td>1.578835</td>\n",
              "      <td>0.187500</td>\n",
              "      <td>10.804688</td>\n",
              "      <td>10.617188</td>\n",
              "      <td>0.113644</td>\n",
              "    </tr>\n",
              "  </tbody>\n",
              "</table>\n",
              "</div>"
            ],
            "text/plain": [
              "   label  meanfreq        sd  ...     maxdom    dfrange   modindx\n",
              "0      1  0.186833  0.027472  ...   0.226562   0.218750  0.108929\n",
              "1      0  0.188879  0.060316  ...   8.718750   8.695312  0.098712\n",
              "2      0  0.150705  0.087127  ...   5.562500   5.554688  0.332396\n",
              "3      1  0.183667  0.040607  ...   3.421875   3.414062  0.166503\n",
              "4      1  0.205159  0.039543  ...  10.804688  10.617188  0.113644\n",
              "\n",
              "[5 rows x 21 columns]"
            ]
          },
          "metadata": {},
          "execution_count": 3
        }
      ]
    },
    {
      "cell_type": "markdown",
      "metadata": {
        "id": "52J9hBwPWTbU"
      },
      "source": [
        "---"
      ]
    },
    {
      "cell_type": "markdown",
      "metadata": {
        "id": "HK98NjiBGrOf"
      },
      "source": [
        "#### 3. Display Last Five Rows\n",
        "\n",
        "Display the last five rows of both the `train_df` and `test_df` DataFrames."
      ]
    },
    {
      "cell_type": "code",
      "metadata": {
        "id": "nkMqKkKgGyxd",
        "outputId": "e0c7afe1-e402-4bdd-e362-fedbd97129ac",
        "colab": {
          "base_uri": "https://localhost:8080/",
          "height": 222
        }
      },
      "source": [
        "# Display the last 5 rows of the 'train_df' DataFrame.\n",
        "train_df.tail()"
      ],
      "execution_count": 4,
      "outputs": [
        {
          "output_type": "execute_result",
          "data": {
            "text/html": [
              "<div>\n",
              "<style scoped>\n",
              "    .dataframe tbody tr th:only-of-type {\n",
              "        vertical-align: middle;\n",
              "    }\n",
              "\n",
              "    .dataframe tbody tr th {\n",
              "        vertical-align: top;\n",
              "    }\n",
              "\n",
              "    .dataframe thead th {\n",
              "        text-align: right;\n",
              "    }\n",
              "</style>\n",
              "<table border=\"1\" class=\"dataframe\">\n",
              "  <thead>\n",
              "    <tr style=\"text-align: right;\">\n",
              "      <th></th>\n",
              "      <th>label</th>\n",
              "      <th>meanfreq</th>\n",
              "      <th>sd</th>\n",
              "      <th>median</th>\n",
              "      <th>Q25</th>\n",
              "      <th>Q75</th>\n",
              "      <th>IQR</th>\n",
              "      <th>skew</th>\n",
              "      <th>kurt</th>\n",
              "      <th>sp.ent</th>\n",
              "      <th>sfm</th>\n",
              "      <th>mode</th>\n",
              "      <th>centroid</th>\n",
              "      <th>meanfun</th>\n",
              "      <th>minfun</th>\n",
              "      <th>maxfun</th>\n",
              "      <th>meandom</th>\n",
              "      <th>mindom</th>\n",
              "      <th>maxdom</th>\n",
              "      <th>dfrange</th>\n",
              "      <th>modindx</th>\n",
              "    </tr>\n",
              "  </thead>\n",
              "  <tbody>\n",
              "    <tr>\n",
              "      <th>2117</th>\n",
              "      <td>1</td>\n",
              "      <td>0.166738</td>\n",
              "      <td>0.052677</td>\n",
              "      <td>0.169427</td>\n",
              "      <td>0.162650</td>\n",
              "      <td>0.189223</td>\n",
              "      <td>0.026573</td>\n",
              "      <td>7.550412</td>\n",
              "      <td>76.134526</td>\n",
              "      <td>0.865282</td>\n",
              "      <td>0.427317</td>\n",
              "      <td>0.167465</td>\n",
              "      <td>0.166738</td>\n",
              "      <td>0.152651</td>\n",
              "      <td>0.022727</td>\n",
              "      <td>0.208333</td>\n",
              "      <td>0.174154</td>\n",
              "      <td>0.161133</td>\n",
              "      <td>0.214844</td>\n",
              "      <td>0.053711</td>\n",
              "      <td>0.136364</td>\n",
              "    </tr>\n",
              "    <tr>\n",
              "      <th>2118</th>\n",
              "      <td>0</td>\n",
              "      <td>0.198718</td>\n",
              "      <td>0.058959</td>\n",
              "      <td>0.217333</td>\n",
              "      <td>0.143111</td>\n",
              "      <td>0.252000</td>\n",
              "      <td>0.108889</td>\n",
              "      <td>1.116666</td>\n",
              "      <td>3.569725</td>\n",
              "      <td>0.917123</td>\n",
              "      <td>0.363369</td>\n",
              "      <td>0.227556</td>\n",
              "      <td>0.198718</td>\n",
              "      <td>0.139322</td>\n",
              "      <td>0.050473</td>\n",
              "      <td>0.279070</td>\n",
              "      <td>0.792092</td>\n",
              "      <td>0.023438</td>\n",
              "      <td>4.968750</td>\n",
              "      <td>4.945312</td>\n",
              "      <td>0.155766</td>\n",
              "    </tr>\n",
              "    <tr>\n",
              "      <th>2119</th>\n",
              "      <td>0</td>\n",
              "      <td>0.202333</td>\n",
              "      <td>0.063001</td>\n",
              "      <td>0.221946</td>\n",
              "      <td>0.137544</td>\n",
              "      <td>0.264817</td>\n",
              "      <td>0.127273</td>\n",
              "      <td>2.000371</td>\n",
              "      <td>6.681799</td>\n",
              "      <td>0.873847</td>\n",
              "      <td>0.261759</td>\n",
              "      <td>0.272855</td>\n",
              "      <td>0.202333</td>\n",
              "      <td>0.123610</td>\n",
              "      <td>0.047291</td>\n",
              "      <td>0.269663</td>\n",
              "      <td>1.190168</td>\n",
              "      <td>0.023438</td>\n",
              "      <td>7.429688</td>\n",
              "      <td>7.406250</td>\n",
              "      <td>0.093438</td>\n",
              "    </tr>\n",
              "    <tr>\n",
              "      <th>2120</th>\n",
              "      <td>0</td>\n",
              "      <td>0.181799</td>\n",
              "      <td>0.058102</td>\n",
              "      <td>0.192037</td>\n",
              "      <td>0.123670</td>\n",
              "      <td>0.225568</td>\n",
              "      <td>0.101897</td>\n",
              "      <td>1.091660</td>\n",
              "      <td>4.009295</td>\n",
              "      <td>0.925575</td>\n",
              "      <td>0.427947</td>\n",
              "      <td>0.190731</td>\n",
              "      <td>0.181799</td>\n",
              "      <td>0.110586</td>\n",
              "      <td>0.049741</td>\n",
              "      <td>0.274286</td>\n",
              "      <td>0.789062</td>\n",
              "      <td>0.023438</td>\n",
              "      <td>4.359375</td>\n",
              "      <td>4.335938</td>\n",
              "      <td>0.062312</td>\n",
              "    </tr>\n",
              "    <tr>\n",
              "      <th>2121</th>\n",
              "      <td>0</td>\n",
              "      <td>0.167732</td>\n",
              "      <td>0.066225</td>\n",
              "      <td>0.171886</td>\n",
              "      <td>0.112598</td>\n",
              "      <td>0.225196</td>\n",
              "      <td>0.112598</td>\n",
              "      <td>0.822981</td>\n",
              "      <td>3.103282</td>\n",
              "      <td>0.953210</td>\n",
              "      <td>0.634648</td>\n",
              "      <td>0.173381</td>\n",
              "      <td>0.167732</td>\n",
              "      <td>0.126107</td>\n",
              "      <td>0.048096</td>\n",
              "      <td>0.279070</td>\n",
              "      <td>0.813616</td>\n",
              "      <td>0.023438</td>\n",
              "      <td>6.023438</td>\n",
              "      <td>6.000000</td>\n",
              "      <td>0.123384</td>\n",
              "    </tr>\n",
              "  </tbody>\n",
              "</table>\n",
              "</div>"
            ],
            "text/plain": [
              "      label  meanfreq        sd  ...    maxdom   dfrange   modindx\n",
              "2117      1  0.166738  0.052677  ...  0.214844  0.053711  0.136364\n",
              "2118      0  0.198718  0.058959  ...  4.968750  4.945312  0.155766\n",
              "2119      0  0.202333  0.063001  ...  7.429688  7.406250  0.093438\n",
              "2120      0  0.181799  0.058102  ...  4.359375  4.335938  0.062312\n",
              "2121      0  0.167732  0.066225  ...  6.023438  6.000000  0.123384\n",
              "\n",
              "[5 rows x 21 columns]"
            ]
          },
          "metadata": {},
          "execution_count": 4
        }
      ]
    },
    {
      "cell_type": "code",
      "metadata": {
        "id": "hZx3oRPyG4H7",
        "outputId": "fdfcb160-8859-46ad-9e6b-1a4cb2986499",
        "colab": {
          "base_uri": "https://localhost:8080/",
          "height": 222
        }
      },
      "source": [
        "# Display the last 5 rows of the 'test_df' DataFrame.\n",
        "train_df.tail()"
      ],
      "execution_count": 5,
      "outputs": [
        {
          "output_type": "execute_result",
          "data": {
            "text/html": [
              "<div>\n",
              "<style scoped>\n",
              "    .dataframe tbody tr th:only-of-type {\n",
              "        vertical-align: middle;\n",
              "    }\n",
              "\n",
              "    .dataframe tbody tr th {\n",
              "        vertical-align: top;\n",
              "    }\n",
              "\n",
              "    .dataframe thead th {\n",
              "        text-align: right;\n",
              "    }\n",
              "</style>\n",
              "<table border=\"1\" class=\"dataframe\">\n",
              "  <thead>\n",
              "    <tr style=\"text-align: right;\">\n",
              "      <th></th>\n",
              "      <th>label</th>\n",
              "      <th>meanfreq</th>\n",
              "      <th>sd</th>\n",
              "      <th>median</th>\n",
              "      <th>Q25</th>\n",
              "      <th>Q75</th>\n",
              "      <th>IQR</th>\n",
              "      <th>skew</th>\n",
              "      <th>kurt</th>\n",
              "      <th>sp.ent</th>\n",
              "      <th>sfm</th>\n",
              "      <th>mode</th>\n",
              "      <th>centroid</th>\n",
              "      <th>meanfun</th>\n",
              "      <th>minfun</th>\n",
              "      <th>maxfun</th>\n",
              "      <th>meandom</th>\n",
              "      <th>mindom</th>\n",
              "      <th>maxdom</th>\n",
              "      <th>dfrange</th>\n",
              "      <th>modindx</th>\n",
              "    </tr>\n",
              "  </thead>\n",
              "  <tbody>\n",
              "    <tr>\n",
              "      <th>2117</th>\n",
              "      <td>1</td>\n",
              "      <td>0.166738</td>\n",
              "      <td>0.052677</td>\n",
              "      <td>0.169427</td>\n",
              "      <td>0.162650</td>\n",
              "      <td>0.189223</td>\n",
              "      <td>0.026573</td>\n",
              "      <td>7.550412</td>\n",
              "      <td>76.134526</td>\n",
              "      <td>0.865282</td>\n",
              "      <td>0.427317</td>\n",
              "      <td>0.167465</td>\n",
              "      <td>0.166738</td>\n",
              "      <td>0.152651</td>\n",
              "      <td>0.022727</td>\n",
              "      <td>0.208333</td>\n",
              "      <td>0.174154</td>\n",
              "      <td>0.161133</td>\n",
              "      <td>0.214844</td>\n",
              "      <td>0.053711</td>\n",
              "      <td>0.136364</td>\n",
              "    </tr>\n",
              "    <tr>\n",
              "      <th>2118</th>\n",
              "      <td>0</td>\n",
              "      <td>0.198718</td>\n",
              "      <td>0.058959</td>\n",
              "      <td>0.217333</td>\n",
              "      <td>0.143111</td>\n",
              "      <td>0.252000</td>\n",
              "      <td>0.108889</td>\n",
              "      <td>1.116666</td>\n",
              "      <td>3.569725</td>\n",
              "      <td>0.917123</td>\n",
              "      <td>0.363369</td>\n",
              "      <td>0.227556</td>\n",
              "      <td>0.198718</td>\n",
              "      <td>0.139322</td>\n",
              "      <td>0.050473</td>\n",
              "      <td>0.279070</td>\n",
              "      <td>0.792092</td>\n",
              "      <td>0.023438</td>\n",
              "      <td>4.968750</td>\n",
              "      <td>4.945312</td>\n",
              "      <td>0.155766</td>\n",
              "    </tr>\n",
              "    <tr>\n",
              "      <th>2119</th>\n",
              "      <td>0</td>\n",
              "      <td>0.202333</td>\n",
              "      <td>0.063001</td>\n",
              "      <td>0.221946</td>\n",
              "      <td>0.137544</td>\n",
              "      <td>0.264817</td>\n",
              "      <td>0.127273</td>\n",
              "      <td>2.000371</td>\n",
              "      <td>6.681799</td>\n",
              "      <td>0.873847</td>\n",
              "      <td>0.261759</td>\n",
              "      <td>0.272855</td>\n",
              "      <td>0.202333</td>\n",
              "      <td>0.123610</td>\n",
              "      <td>0.047291</td>\n",
              "      <td>0.269663</td>\n",
              "      <td>1.190168</td>\n",
              "      <td>0.023438</td>\n",
              "      <td>7.429688</td>\n",
              "      <td>7.406250</td>\n",
              "      <td>0.093438</td>\n",
              "    </tr>\n",
              "    <tr>\n",
              "      <th>2120</th>\n",
              "      <td>0</td>\n",
              "      <td>0.181799</td>\n",
              "      <td>0.058102</td>\n",
              "      <td>0.192037</td>\n",
              "      <td>0.123670</td>\n",
              "      <td>0.225568</td>\n",
              "      <td>0.101897</td>\n",
              "      <td>1.091660</td>\n",
              "      <td>4.009295</td>\n",
              "      <td>0.925575</td>\n",
              "      <td>0.427947</td>\n",
              "      <td>0.190731</td>\n",
              "      <td>0.181799</td>\n",
              "      <td>0.110586</td>\n",
              "      <td>0.049741</td>\n",
              "      <td>0.274286</td>\n",
              "      <td>0.789062</td>\n",
              "      <td>0.023438</td>\n",
              "      <td>4.359375</td>\n",
              "      <td>4.335938</td>\n",
              "      <td>0.062312</td>\n",
              "    </tr>\n",
              "    <tr>\n",
              "      <th>2121</th>\n",
              "      <td>0</td>\n",
              "      <td>0.167732</td>\n",
              "      <td>0.066225</td>\n",
              "      <td>0.171886</td>\n",
              "      <td>0.112598</td>\n",
              "      <td>0.225196</td>\n",
              "      <td>0.112598</td>\n",
              "      <td>0.822981</td>\n",
              "      <td>3.103282</td>\n",
              "      <td>0.953210</td>\n",
              "      <td>0.634648</td>\n",
              "      <td>0.173381</td>\n",
              "      <td>0.167732</td>\n",
              "      <td>0.126107</td>\n",
              "      <td>0.048096</td>\n",
              "      <td>0.279070</td>\n",
              "      <td>0.813616</td>\n",
              "      <td>0.023438</td>\n",
              "      <td>6.023438</td>\n",
              "      <td>6.000000</td>\n",
              "      <td>0.123384</td>\n",
              "    </tr>\n",
              "  </tbody>\n",
              "</table>\n",
              "</div>"
            ],
            "text/plain": [
              "      label  meanfreq        sd  ...    maxdom   dfrange   modindx\n",
              "2117      1  0.166738  0.052677  ...  0.214844  0.053711  0.136364\n",
              "2118      0  0.198718  0.058959  ...  4.968750  4.945312  0.155766\n",
              "2119      0  0.202333  0.063001  ...  7.429688  7.406250  0.093438\n",
              "2120      0  0.181799  0.058102  ...  4.359375  4.335938  0.062312\n",
              "2121      0  0.167732  0.066225  ...  6.023438  6.000000  0.123384\n",
              "\n",
              "[5 rows x 21 columns]"
            ]
          },
          "metadata": {},
          "execution_count": 5
        }
      ]
    },
    {
      "cell_type": "markdown",
      "metadata": {
        "id": "xWZH9p5FGqc-"
      },
      "source": [
        "---"
      ]
    },
    {
      "cell_type": "markdown",
      "metadata": {
        "id": "gGYkD2qwWSvO"
      },
      "source": [
        "#### 4. Rows & Columns In Train DataFrame\n",
        "\n",
        "Find the number of rows and columns in both the `train_df` and `test_df` DataFrames."
      ]
    },
    {
      "cell_type": "code",
      "metadata": {
        "id": "tQeowD6QMgZT",
        "outputId": "b10dac04-e078-463d-928e-d20ad54a2b05",
        "colab": {
          "base_uri": "https://localhost:8080/"
        }
      },
      "source": [
        "# Print the number of rows and columns in both the DataFrames.\n",
        "print(train_df.shape)\n",
        "test_df.shape"
      ],
      "execution_count": 6,
      "outputs": [
        {
          "output_type": "stream",
          "name": "stdout",
          "text": [
            "(2122, 21)\n"
          ]
        },
        {
          "output_type": "execute_result",
          "data": {
            "text/plain": [
              "(1046, 21)"
            ]
          },
          "metadata": {},
          "execution_count": 6
        }
      ]
    },
    {
      "cell_type": "markdown",
      "metadata": {
        "id": "5SMkQqLOWaZf"
      },
      "source": [
        "---"
      ]
    },
    {
      "cell_type": "markdown",
      "metadata": {
        "id": "Pk824C11Wbe8"
      },
      "source": [
        "#### 5. Check For Missing Values \n",
        "\n",
        "Check whether any of the columns in both the `train_df` and `test_df` DataFrames has any missing value."
      ]
    },
    {
      "cell_type": "code",
      "metadata": {
        "id": "_pkyxjiSNhMd",
        "outputId": "e928ab43-a026-4647-889e-3495f7190adc",
        "colab": {
          "base_uri": "https://localhost:8080/"
        }
      },
      "source": [
        "# Check for the missing values in the 'train_df' DataFrame.\n",
        "train_df.isnull().sum()"
      ],
      "execution_count": 8,
      "outputs": [
        {
          "output_type": "execute_result",
          "data": {
            "text/plain": [
              "label       0\n",
              "meanfreq    0\n",
              "sd          0\n",
              "median      0\n",
              "Q25         0\n",
              "Q75         0\n",
              "IQR         0\n",
              "skew        0\n",
              "kurt        0\n",
              "sp.ent      0\n",
              "sfm         0\n",
              "mode        0\n",
              "centroid    0\n",
              "meanfun     0\n",
              "minfun      0\n",
              "maxfun      0\n",
              "meandom     0\n",
              "mindom      0\n",
              "maxdom      0\n",
              "dfrange     0\n",
              "modindx     0\n",
              "dtype: int64"
            ]
          },
          "metadata": {},
          "execution_count": 8
        }
      ]
    },
    {
      "cell_type": "code",
      "metadata": {
        "id": "VSlTOdfAW0wE",
        "outputId": "bfb9485f-87c9-47d9-ba25-32bf04a39244",
        "colab": {
          "base_uri": "https://localhost:8080/"
        }
      },
      "source": [
        "# Check for the missing values in the 'test_df' DataFrame.\n",
        "test_df.isnull().sum()"
      ],
      "execution_count": 9,
      "outputs": [
        {
          "output_type": "execute_result",
          "data": {
            "text/plain": [
              "label       0\n",
              "meanfreq    0\n",
              "sd          0\n",
              "median      0\n",
              "Q25         0\n",
              "Q75         0\n",
              "IQR         0\n",
              "skew        0\n",
              "kurt        0\n",
              "sp.ent      0\n",
              "sfm         0\n",
              "mode        0\n",
              "centroid    0\n",
              "meanfun     0\n",
              "minfun      0\n",
              "maxfun      0\n",
              "meandom     0\n",
              "mindom      0\n",
              "maxdom      0\n",
              "dfrange     0\n",
              "modindx     0\n",
              "dtype: int64"
            ]
          },
          "metadata": {},
          "execution_count": 9
        }
      ]
    },
    {
      "cell_type": "markdown",
      "metadata": {
        "id": "20AKOJSKW4_w"
      },
      "source": [
        "---"
      ]
    },
    {
      "cell_type": "markdown",
      "metadata": {
        "id": "WiIDT8mFW55v"
      },
      "source": [
        "#### 6. Count The `male` & `female` Classes\n",
        "\n",
        "Find out the number of `male` and `female` values in both the `train_df` and `test_df` DataFrames."
      ]
    },
    {
      "cell_type": "code",
      "metadata": {
        "id": "lDDdueENNjfU",
        "outputId": "1df74ab8-93cb-460b-eca3-ad03e7652baa",
        "colab": {
          "base_uri": "https://localhost:8080/"
        }
      },
      "source": [
        "# Print the count of the 'male' and 'female' classes in the 'train_df' DataFrame.\n",
        "train_df['label'].value_counts()"
      ],
      "execution_count": 11,
      "outputs": [
        {
          "output_type": "execute_result",
          "data": {
            "text/plain": [
              "1    1085\n",
              "0    1037\n",
              "Name: label, dtype: int64"
            ]
          },
          "metadata": {},
          "execution_count": 11
        }
      ]
    },
    {
      "cell_type": "code",
      "metadata": {
        "id": "j_CldNLAXDhp",
        "outputId": "b393c900-a5b5-4b00-80c9-37e433325399",
        "colab": {
          "base_uri": "https://localhost:8080/"
        }
      },
      "source": [
        "# Print the count of the 'male' and 'female' classes in the 'test_df' DataFrame.\n",
        "test_df['label'].value_counts()"
      ],
      "execution_count": 12,
      "outputs": [
        {
          "output_type": "execute_result",
          "data": {
            "text/plain": [
              "0    547\n",
              "1    499\n",
              "Name: label, dtype: int64"
            ]
          },
          "metadata": {},
          "execution_count": 12
        }
      ]
    },
    {
      "cell_type": "markdown",
      "metadata": {
        "id": "r_sUY5HQXGyV"
      },
      "source": [
        "---"
      ]
    },
    {
      "cell_type": "markdown",
      "metadata": {
        "id": "g7LNHmeuXIEs"
      },
      "source": [
        "#### 7. Feature Variables Extraction\n",
        "\n",
        "Get the feature variables, i.e., `x_train` and `x_test` from both the `train_df` and `test_df` DataFrames respectively. Then, display the first 5 rows of `x_train` and `x_test` DataFrames."
      ]
    },
    {
      "cell_type": "code",
      "metadata": {
        "id": "YjNvPnyiNqVw",
        "outputId": "1ba1317b-0461-4f14-c851-c76cd96f187d",
        "colab": {
          "base_uri": "https://localhost:8080/",
          "height": 222
        }
      },
      "source": [
        "# Get the feature variables from the 'train_df' DataFrame.\n",
        "x_train=train_df.iloc[:,1:]\n",
        "# Display the first 5 rows of the 'x_train' DataFrame.\n",
        "x_train.head()"
      ],
      "execution_count": 16,
      "outputs": [
        {
          "output_type": "execute_result",
          "data": {
            "text/html": [
              "<div>\n",
              "<style scoped>\n",
              "    .dataframe tbody tr th:only-of-type {\n",
              "        vertical-align: middle;\n",
              "    }\n",
              "\n",
              "    .dataframe tbody tr th {\n",
              "        vertical-align: top;\n",
              "    }\n",
              "\n",
              "    .dataframe thead th {\n",
              "        text-align: right;\n",
              "    }\n",
              "</style>\n",
              "<table border=\"1\" class=\"dataframe\">\n",
              "  <thead>\n",
              "    <tr style=\"text-align: right;\">\n",
              "      <th></th>\n",
              "      <th>meanfreq</th>\n",
              "      <th>sd</th>\n",
              "      <th>median</th>\n",
              "      <th>Q25</th>\n",
              "      <th>Q75</th>\n",
              "      <th>IQR</th>\n",
              "      <th>skew</th>\n",
              "      <th>kurt</th>\n",
              "      <th>sp.ent</th>\n",
              "      <th>sfm</th>\n",
              "      <th>mode</th>\n",
              "      <th>centroid</th>\n",
              "      <th>meanfun</th>\n",
              "      <th>minfun</th>\n",
              "      <th>maxfun</th>\n",
              "      <th>meandom</th>\n",
              "      <th>mindom</th>\n",
              "      <th>maxdom</th>\n",
              "      <th>dfrange</th>\n",
              "      <th>modindx</th>\n",
              "    </tr>\n",
              "  </thead>\n",
              "  <tbody>\n",
              "    <tr>\n",
              "      <th>0</th>\n",
              "      <td>0.235668</td>\n",
              "      <td>0.035568</td>\n",
              "      <td>0.240065</td>\n",
              "      <td>0.222366</td>\n",
              "      <td>0.257763</td>\n",
              "      <td>0.035397</td>\n",
              "      <td>2.006333</td>\n",
              "      <td>6.427613</td>\n",
              "      <td>0.828406</td>\n",
              "      <td>0.177183</td>\n",
              "      <td>0.242788</td>\n",
              "      <td>0.235668</td>\n",
              "      <td>0.190731</td>\n",
              "      <td>0.047478</td>\n",
              "      <td>0.279070</td>\n",
              "      <td>1.240513</td>\n",
              "      <td>0.023438</td>\n",
              "      <td>9.140625</td>\n",
              "      <td>9.117188</td>\n",
              "      <td>0.087997</td>\n",
              "    </tr>\n",
              "    <tr>\n",
              "      <th>1</th>\n",
              "      <td>0.190578</td>\n",
              "      <td>0.059717</td>\n",
              "      <td>0.190747</td>\n",
              "      <td>0.151985</td>\n",
              "      <td>0.242259</td>\n",
              "      <td>0.090273</td>\n",
              "      <td>2.727301</td>\n",
              "      <td>13.710214</td>\n",
              "      <td>0.901150</td>\n",
              "      <td>0.370874</td>\n",
              "      <td>0.186667</td>\n",
              "      <td>0.190578</td>\n",
              "      <td>0.118140</td>\n",
              "      <td>0.047198</td>\n",
              "      <td>0.279070</td>\n",
              "      <td>1.262109</td>\n",
              "      <td>0.023438</td>\n",
              "      <td>4.757812</td>\n",
              "      <td>4.734375</td>\n",
              "      <td>0.194908</td>\n",
              "    </tr>\n",
              "    <tr>\n",
              "      <th>2</th>\n",
              "      <td>0.202016</td>\n",
              "      <td>0.062551</td>\n",
              "      <td>0.233775</td>\n",
              "      <td>0.133369</td>\n",
              "      <td>0.258403</td>\n",
              "      <td>0.125034</td>\n",
              "      <td>2.132116</td>\n",
              "      <td>7.588438</td>\n",
              "      <td>0.872074</td>\n",
              "      <td>0.283257</td>\n",
              "      <td>0.262950</td>\n",
              "      <td>0.202016</td>\n",
              "      <td>0.121069</td>\n",
              "      <td>0.046967</td>\n",
              "      <td>0.277457</td>\n",
              "      <td>0.898143</td>\n",
              "      <td>0.023438</td>\n",
              "      <td>8.460938</td>\n",
              "      <td>8.437500</td>\n",
              "      <td>0.085771</td>\n",
              "    </tr>\n",
              "    <tr>\n",
              "      <th>3</th>\n",
              "      <td>0.236232</td>\n",
              "      <td>0.041141</td>\n",
              "      <td>0.244934</td>\n",
              "      <td>0.227932</td>\n",
              "      <td>0.260342</td>\n",
              "      <td>0.032410</td>\n",
              "      <td>2.175879</td>\n",
              "      <td>7.324086</td>\n",
              "      <td>0.831379</td>\n",
              "      <td>0.235322</td>\n",
              "      <td>0.243340</td>\n",
              "      <td>0.236232</td>\n",
              "      <td>0.179134</td>\n",
              "      <td>0.049896</td>\n",
              "      <td>0.274286</td>\n",
              "      <td>1.379012</td>\n",
              "      <td>0.023438</td>\n",
              "      <td>10.617188</td>\n",
              "      <td>10.593750</td>\n",
              "      <td>0.103917</td>\n",
              "    </tr>\n",
              "    <tr>\n",
              "      <th>4</th>\n",
              "      <td>0.189003</td>\n",
              "      <td>0.061455</td>\n",
              "      <td>0.202376</td>\n",
              "      <td>0.135446</td>\n",
              "      <td>0.234851</td>\n",
              "      <td>0.099406</td>\n",
              "      <td>1.620451</td>\n",
              "      <td>6.374442</td>\n",
              "      <td>0.928735</td>\n",
              "      <td>0.472934</td>\n",
              "      <td>0.215050</td>\n",
              "      <td>0.189003</td>\n",
              "      <td>0.114454</td>\n",
              "      <td>0.047856</td>\n",
              "      <td>0.271186</td>\n",
              "      <td>1.147995</td>\n",
              "      <td>0.023438</td>\n",
              "      <td>5.953125</td>\n",
              "      <td>5.929688</td>\n",
              "      <td>0.119684</td>\n",
              "    </tr>\n",
              "  </tbody>\n",
              "</table>\n",
              "</div>"
            ],
            "text/plain": [
              "   meanfreq        sd    median  ...     maxdom    dfrange   modindx\n",
              "0  0.235668  0.035568  0.240065  ...   9.140625   9.117188  0.087997\n",
              "1  0.190578  0.059717  0.190747  ...   4.757812   4.734375  0.194908\n",
              "2  0.202016  0.062551  0.233775  ...   8.460938   8.437500  0.085771\n",
              "3  0.236232  0.041141  0.244934  ...  10.617188  10.593750  0.103917\n",
              "4  0.189003  0.061455  0.202376  ...   5.953125   5.929688  0.119684\n",
              "\n",
              "[5 rows x 20 columns]"
            ]
          },
          "metadata": {},
          "execution_count": 16
        }
      ]
    },
    {
      "cell_type": "code",
      "metadata": {
        "id": "nX0KwFHOOnbM",
        "outputId": "09dd8b72-b216-4f2b-e7b3-e83a01e3a255",
        "colab": {
          "base_uri": "https://localhost:8080/",
          "height": 222
        }
      },
      "source": [
        "# Get the feature variables from the 'test_df' DataFrame.\n",
        "x_test=test_df.iloc[:,1:]\n",
        "# Display the first 5 rows of the 'x_test' DataFrame.\n",
        "x_test.head()"
      ],
      "execution_count": 17,
      "outputs": [
        {
          "output_type": "execute_result",
          "data": {
            "text/html": [
              "<div>\n",
              "<style scoped>\n",
              "    .dataframe tbody tr th:only-of-type {\n",
              "        vertical-align: middle;\n",
              "    }\n",
              "\n",
              "    .dataframe tbody tr th {\n",
              "        vertical-align: top;\n",
              "    }\n",
              "\n",
              "    .dataframe thead th {\n",
              "        text-align: right;\n",
              "    }\n",
              "</style>\n",
              "<table border=\"1\" class=\"dataframe\">\n",
              "  <thead>\n",
              "    <tr style=\"text-align: right;\">\n",
              "      <th></th>\n",
              "      <th>meanfreq</th>\n",
              "      <th>sd</th>\n",
              "      <th>median</th>\n",
              "      <th>Q25</th>\n",
              "      <th>Q75</th>\n",
              "      <th>IQR</th>\n",
              "      <th>skew</th>\n",
              "      <th>kurt</th>\n",
              "      <th>sp.ent</th>\n",
              "      <th>sfm</th>\n",
              "      <th>mode</th>\n",
              "      <th>centroid</th>\n",
              "      <th>meanfun</th>\n",
              "      <th>minfun</th>\n",
              "      <th>maxfun</th>\n",
              "      <th>meandom</th>\n",
              "      <th>mindom</th>\n",
              "      <th>maxdom</th>\n",
              "      <th>dfrange</th>\n",
              "      <th>modindx</th>\n",
              "    </tr>\n",
              "  </thead>\n",
              "  <tbody>\n",
              "    <tr>\n",
              "      <th>0</th>\n",
              "      <td>0.186833</td>\n",
              "      <td>0.027472</td>\n",
              "      <td>0.184325</td>\n",
              "      <td>0.173955</td>\n",
              "      <td>0.204731</td>\n",
              "      <td>0.030777</td>\n",
              "      <td>2.655225</td>\n",
              "      <td>10.565846</td>\n",
              "      <td>0.821812</td>\n",
              "      <td>0.159883</td>\n",
              "      <td>0.180645</td>\n",
              "      <td>0.186833</td>\n",
              "      <td>0.172790</td>\n",
              "      <td>0.023495</td>\n",
              "      <td>0.271186</td>\n",
              "      <td>0.178571</td>\n",
              "      <td>0.007812</td>\n",
              "      <td>0.226562</td>\n",
              "      <td>0.218750</td>\n",
              "      <td>0.108929</td>\n",
              "    </tr>\n",
              "    <tr>\n",
              "      <th>1</th>\n",
              "      <td>0.188879</td>\n",
              "      <td>0.060316</td>\n",
              "      <td>0.195537</td>\n",
              "      <td>0.138072</td>\n",
              "      <td>0.242975</td>\n",
              "      <td>0.104904</td>\n",
              "      <td>1.497393</td>\n",
              "      <td>5.037085</td>\n",
              "      <td>0.909425</td>\n",
              "      <td>0.374225</td>\n",
              "      <td>0.140386</td>\n",
              "      <td>0.188879</td>\n",
              "      <td>0.133092</td>\n",
              "      <td>0.050847</td>\n",
              "      <td>0.272727</td>\n",
              "      <td>0.855938</td>\n",
              "      <td>0.023438</td>\n",
              "      <td>8.718750</td>\n",
              "      <td>8.695312</td>\n",
              "      <td>0.098712</td>\n",
              "    </tr>\n",
              "    <tr>\n",
              "      <th>2</th>\n",
              "      <td>0.150705</td>\n",
              "      <td>0.087127</td>\n",
              "      <td>0.174299</td>\n",
              "      <td>0.069666</td>\n",
              "      <td>0.226082</td>\n",
              "      <td>0.156416</td>\n",
              "      <td>2.603951</td>\n",
              "      <td>22.328899</td>\n",
              "      <td>0.969287</td>\n",
              "      <td>0.781729</td>\n",
              "      <td>0.050181</td>\n",
              "      <td>0.150705</td>\n",
              "      <td>0.109992</td>\n",
              "      <td>0.017260</td>\n",
              "      <td>0.266667</td>\n",
              "      <td>1.240954</td>\n",
              "      <td>0.007812</td>\n",
              "      <td>5.562500</td>\n",
              "      <td>5.554688</td>\n",
              "      <td>0.332396</td>\n",
              "    </tr>\n",
              "    <tr>\n",
              "      <th>3</th>\n",
              "      <td>0.183667</td>\n",
              "      <td>0.040607</td>\n",
              "      <td>0.182534</td>\n",
              "      <td>0.156480</td>\n",
              "      <td>0.207646</td>\n",
              "      <td>0.051166</td>\n",
              "      <td>2.054138</td>\n",
              "      <td>7.483019</td>\n",
              "      <td>0.898138</td>\n",
              "      <td>0.313925</td>\n",
              "      <td>0.177040</td>\n",
              "      <td>0.183667</td>\n",
              "      <td>0.149237</td>\n",
              "      <td>0.018648</td>\n",
              "      <td>0.262295</td>\n",
              "      <td>0.550312</td>\n",
              "      <td>0.007812</td>\n",
              "      <td>3.421875</td>\n",
              "      <td>3.414062</td>\n",
              "      <td>0.166503</td>\n",
              "    </tr>\n",
              "    <tr>\n",
              "      <th>4</th>\n",
              "      <td>0.205159</td>\n",
              "      <td>0.039543</td>\n",
              "      <td>0.210805</td>\n",
              "      <td>0.186667</td>\n",
              "      <td>0.228908</td>\n",
              "      <td>0.042241</td>\n",
              "      <td>2.099683</td>\n",
              "      <td>7.562209</td>\n",
              "      <td>0.876002</td>\n",
              "      <td>0.271880</td>\n",
              "      <td>0.224885</td>\n",
              "      <td>0.205159</td>\n",
              "      <td>0.154736</td>\n",
              "      <td>0.047105</td>\n",
              "      <td>0.277457</td>\n",
              "      <td>1.578835</td>\n",
              "      <td>0.187500</td>\n",
              "      <td>10.804688</td>\n",
              "      <td>10.617188</td>\n",
              "      <td>0.113644</td>\n",
              "    </tr>\n",
              "  </tbody>\n",
              "</table>\n",
              "</div>"
            ],
            "text/plain": [
              "   meanfreq        sd    median  ...     maxdom    dfrange   modindx\n",
              "0  0.186833  0.027472  0.184325  ...   0.226562   0.218750  0.108929\n",
              "1  0.188879  0.060316  0.195537  ...   8.718750   8.695312  0.098712\n",
              "2  0.150705  0.087127  0.174299  ...   5.562500   5.554688  0.332396\n",
              "3  0.183667  0.040607  0.182534  ...   3.421875   3.414062  0.166503\n",
              "4  0.205159  0.039543  0.210805  ...  10.804688  10.617188  0.113644\n",
              "\n",
              "[5 rows x 20 columns]"
            ]
          },
          "metadata": {},
          "execution_count": 17
        }
      ]
    },
    {
      "cell_type": "markdown",
      "metadata": {
        "id": "4av3tfU5XSMN"
      },
      "source": [
        "---"
      ]
    },
    {
      "cell_type": "markdown",
      "metadata": {
        "id": "LRDStIQ7XTL-"
      },
      "source": [
        "#### 8. Target Variable Extraction\n",
        "\n",
        "Get the target variables, i.e., `y_train` and `y_test` from both the `train_df` and `test_df` DataFrames respectively. Then, display the first 5 rows of `y_train` and `y_test` Pandas series."
      ]
    },
    {
      "cell_type": "code",
      "metadata": {
        "id": "ThmWhnUJOWE8"
      },
      "source": [
        "# Get the target variable from the 'train_df' DataFrame.\n",
        "y_train()\n",
        "# Display the first 5 rows of the 'y_train' Pandas series.\n"
      ],
      "execution_count": null,
      "outputs": []
    },
    {
      "cell_type": "code",
      "metadata": {
        "id": "LSD9PoaGOtiN"
      },
      "source": [
        "# Get the target variable from the 'test_df' DataFrame.\n",
        "\n",
        "# Display the first 5 rows of the 'y_test' Pandas series.\n"
      ],
      "execution_count": null,
      "outputs": []
    },
    {
      "cell_type": "markdown",
      "metadata": {
        "id": "eL342E7EXe-s"
      },
      "source": [
        "--- "
      ]
    },
    {
      "cell_type": "markdown",
      "metadata": {
        "id": "7IUzWvtCXgN9"
      },
      "source": [
        "#### 9. Building A Random Forest Classifier Model"
      ]
    },
    {
      "cell_type": "code",
      "metadata": {
        "id": "zhIZ8xDDO2Zn"
      },
      "source": [
        "# Build a Random Forest Classifier model.\n",
        "# Import the 'RandomForestClassifier' module.\n",
        "\n",
        "# Import the confusion_matrix and classification_report modules.\n"
      ],
      "execution_count": null,
      "outputs": []
    },
    {
      "cell_type": "code",
      "metadata": {
        "id": "hldcIw1_PIi4"
      },
      "source": [
        "# Predict the target variable based on the feature variables of the test DataFrame.\n"
      ],
      "execution_count": null,
      "outputs": []
    },
    {
      "cell_type": "markdown",
      "metadata": {
        "id": "k0--8i9mNPRT"
      },
      "source": [
        "---"
      ]
    },
    {
      "cell_type": "markdown",
      "metadata": {
        "id": "u4_z7q5IXrc3"
      },
      "source": [
        "#### 10. Confusion Matrix & Classification Report\n",
        "\n",
        "Print the confusion matrix and classification report to evaluate the model. Interpret and report the results obtained from the confusion matrix and the classification report."
      ]
    },
    {
      "cell_type": "code",
      "metadata": {
        "id": "P4mV8cniPPlp"
      },
      "source": [
        "# Print the confusion matrix to see the number of TN, FN, TP and FP values.\n"
      ],
      "execution_count": null,
      "outputs": []
    },
    {
      "cell_type": "code",
      "metadata": {
        "id": "ReCoX3X8PaQT"
      },
      "source": [
        "# Print the precision, recall and f1-score values for both the male and female classes.\n"
      ],
      "execution_count": null,
      "outputs": []
    },
    {
      "cell_type": "markdown",
      "metadata": {
        "id": "IOGEGt1fwB1y"
      },
      "source": [
        "**Write your interpretation of the results here.**\n",
        "\n",
        "- Interpretation 1: \n",
        "\n",
        "- Interpretation 2:\n",
        "\n",
        "- Interpretation 3:\n",
        "\n",
        "  $\\dots$\n",
        "\n",
        "- Interpretation N\n"
      ]
    },
    {
      "cell_type": "markdown",
      "metadata": {
        "id": "Cbdam0nqXxB0"
      },
      "source": [
        "---"
      ]
    },
    {
      "cell_type": "markdown",
      "metadata": {
        "id": "Z1GYYaw02Xxb"
      },
      "source": [
        "### Submitting the Project\n",
        "\n",
        "Follow the steps described below to submit the project.\n",
        "\n",
        "1. After finishing the project, click on the **Share** button on the top right corner of the notebook. A new dialog box will appear.\n",
        "\n",
        "  <img src='https://student-datasets-bucket.s3.ap-south-1.amazonaws.com/images/project-share-images/2_share_button.png' width=500>\n",
        "\n",
        "2. In the dialog box, click on the **Copy link** button.\n",
        "\n",
        "   <img src='https://student-datasets-bucket.s3.ap-south-1.amazonaws.com/images/project-share-images/3_copy_link.png' width=500>\n",
        "\n",
        "\n",
        "3. The link of the duplicate copy (named as **YYYY-MM-DD_StudentName_CapstoneProject4**) of the notebook will get copied \n",
        "\n",
        "   <img src='https://student-datasets-bucket.s3.ap-south-1.amazonaws.com/images/project-share-images/4_copy_link_confirmation.png' width=500>\n",
        "\n",
        "4. Go to your dashboard and click on the **My Projects** option.\n",
        "\n",
        "   <img src='https://student-datasets-bucket.s3.ap-south-1.amazonaws.com/images/project-share-images/5_student_dashboard.png' width=800>\n",
        "\n",
        "   <img src='https://student-datasets-bucket.s3.ap-south-1.amazonaws.com/images/project-share-images/6_my_projects.png' width=800>\n",
        "\n",
        "5. Click on the **View Project** button for the project you want to submit.\n",
        "\n",
        "   <img src='https://student-datasets-bucket.s3.ap-south-1.amazonaws.com/images/project-share-images/7_view_project.png' width=800>\n",
        "\n",
        "6. Click on the **Submit Project Here** button.\n",
        "\n",
        "   <img src='https://student-datasets-bucket.s3.ap-south-1.amazonaws.com/images/project-share-images/8_submit_project.png' width=800>\n",
        "\n",
        "7. Paste the link to the project file named as **YYYY-MM-DD_StudentName_CapstoneProject4** in the URL box and then click on the **Submit** button.\n",
        "\n",
        "   <img src='https://student-datasets-bucket.s3.ap-south-1.amazonaws.com/images/project-share-images/9_enter_project_url.png' width=800>\n"
      ]
    },
    {
      "cell_type": "markdown",
      "metadata": {
        "id": "Ks5J-3rE2XDC"
      },
      "source": [
        "---"
      ]
    }
  ]
}