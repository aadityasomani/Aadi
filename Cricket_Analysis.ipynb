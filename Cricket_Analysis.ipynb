{
  "nbformat": 4,
  "nbformat_minor": 0,
  "metadata": {
    "colab": {
      "name": "Cricket Analysis.ipynb",
      "provenance": [],
      "collapsed_sections": [],
      "mount_file_id": "1nwiU9F0GuX8Y_Wd1mnC65tOZTUK4A9ZJ",
      "authorship_tag": "ABX9TyN5MZJkgk3dVSkmptfDkG5g",
      "include_colab_link": true
    },
    "kernelspec": {
      "name": "python3",
      "display_name": "Python 3"
    },
    "language_info": {
      "name": "python"
    },
    "accelerator": "GPU"
  },
  "cells": [
    {
      "cell_type": "markdown",
      "metadata": {
        "id": "view-in-github",
        "colab_type": "text"
      },
      "source": [
        "<a href=\"https://colab.research.google.com/github/aadityasomani/Aadi/blob/master/Cricket_Analysis.ipynb\" target=\"_parent\"><img src=\"https://colab.research.google.com/assets/colab-badge.svg\" alt=\"Open In Colab\"/></a>"
      ]
    },
    {
      "cell_type": "code",
      "metadata": {
        "id": "AYvjZFDH6TaC"
      },
      "source": [
        "import numpy as np\n",
        "import pandas as pd\n",
        "import matplotlib.pyplot as plt\n",
        "import seaborn as sns"
      ],
      "execution_count": null,
      "outputs": []
    },
    {
      "cell_type": "code",
      "metadata": {
        "colab": {
          "base_uri": "https://localhost:8080/"
        },
        "id": "DoCL9RNqnnvH",
        "outputId": "122bf383-2330-4859-bcda-149b466fc265"
      },
      "source": [
        "from google.colab import drive\n",
        "drive.mount('/content/drive')"
      ],
      "execution_count": null,
      "outputs": [
        {
          "output_type": "stream",
          "name": "stdout",
          "text": [
            "Drive already mounted at /content/drive; to attempt to forcibly remount, call drive.mount(\"/content/drive\", force_remount=True).\n"
          ]
        }
      ]
    },
    {
      "cell_type": "code",
      "metadata": {
        "id": "SqziLgHQ6fvM"
      },
      "source": [
        "matches_df=pd.read_csv(\"/content/drive/MyDrive/matches.csv\")\n",
        "deliveies_df=pd.read_csv(\"/content/drive/MyDrive/deliveries.csv\")"
      ],
      "execution_count": null,
      "outputs": []
    },
    {
      "cell_type": "code",
      "metadata": {
        "colab": {
          "base_uri": "https://localhost:8080/",
          "height": 452
        },
        "id": "toHB9XnO63Is",
        "outputId": "4e33ea50-5e5f-4efa-a582-9ab5ad2b5aa4"
      },
      "source": [
        "matches_df.head()"
      ],
      "execution_count": null,
      "outputs": [
        {
          "output_type": "execute_result",
          "data": {
            "text/html": [
              "<div>\n",
              "<style scoped>\n",
              "    .dataframe tbody tr th:only-of-type {\n",
              "        vertical-align: middle;\n",
              "    }\n",
              "\n",
              "    .dataframe tbody tr th {\n",
              "        vertical-align: top;\n",
              "    }\n",
              "\n",
              "    .dataframe thead th {\n",
              "        text-align: right;\n",
              "    }\n",
              "</style>\n",
              "<table border=\"1\" class=\"dataframe\">\n",
              "  <thead>\n",
              "    <tr style=\"text-align: right;\">\n",
              "      <th></th>\n",
              "      <th>id</th>\n",
              "      <th>season</th>\n",
              "      <th>city</th>\n",
              "      <th>date</th>\n",
              "      <th>team1</th>\n",
              "      <th>team2</th>\n",
              "      <th>toss_winner</th>\n",
              "      <th>toss_decision</th>\n",
              "      <th>result</th>\n",
              "      <th>dl_applied</th>\n",
              "      <th>winner</th>\n",
              "      <th>win_by_runs</th>\n",
              "      <th>win_by_wickets</th>\n",
              "      <th>player_of_match</th>\n",
              "      <th>venue</th>\n",
              "      <th>umpire1</th>\n",
              "      <th>umpire2</th>\n",
              "      <th>umpire3</th>\n",
              "    </tr>\n",
              "  </thead>\n",
              "  <tbody>\n",
              "    <tr>\n",
              "      <th>0</th>\n",
              "      <td>1</td>\n",
              "      <td>2017</td>\n",
              "      <td>Hyderabad</td>\n",
              "      <td>05-04-2017</td>\n",
              "      <td>Sunrisers Hyderabad</td>\n",
              "      <td>Royal Challengers Bangalore</td>\n",
              "      <td>Royal Challengers Bangalore</td>\n",
              "      <td>field</td>\n",
              "      <td>normal</td>\n",
              "      <td>0</td>\n",
              "      <td>Sunrisers Hyderabad</td>\n",
              "      <td>35</td>\n",
              "      <td>0</td>\n",
              "      <td>Yuvraj Singh</td>\n",
              "      <td>Rajiv Gandhi International Stadium, Uppal</td>\n",
              "      <td>AY Dandekar</td>\n",
              "      <td>NJ Llong</td>\n",
              "      <td>NaN</td>\n",
              "    </tr>\n",
              "    <tr>\n",
              "      <th>1</th>\n",
              "      <td>2</td>\n",
              "      <td>2017</td>\n",
              "      <td>Pune</td>\n",
              "      <td>06-04-2017</td>\n",
              "      <td>Mumbai Indians</td>\n",
              "      <td>Rising Pune Supergiant</td>\n",
              "      <td>Rising Pune Supergiant</td>\n",
              "      <td>field</td>\n",
              "      <td>normal</td>\n",
              "      <td>0</td>\n",
              "      <td>Rising Pune Supergiant</td>\n",
              "      <td>0</td>\n",
              "      <td>7</td>\n",
              "      <td>SPD Smith</td>\n",
              "      <td>Maharashtra Cricket Association Stadium</td>\n",
              "      <td>A Nand Kishore</td>\n",
              "      <td>S Ravi</td>\n",
              "      <td>NaN</td>\n",
              "    </tr>\n",
              "    <tr>\n",
              "      <th>2</th>\n",
              "      <td>3</td>\n",
              "      <td>2017</td>\n",
              "      <td>Rajkot</td>\n",
              "      <td>07-04-2017</td>\n",
              "      <td>Gujarat Lions</td>\n",
              "      <td>Kolkata Knight Riders</td>\n",
              "      <td>Kolkata Knight Riders</td>\n",
              "      <td>field</td>\n",
              "      <td>normal</td>\n",
              "      <td>0</td>\n",
              "      <td>Kolkata Knight Riders</td>\n",
              "      <td>0</td>\n",
              "      <td>10</td>\n",
              "      <td>CA Lynn</td>\n",
              "      <td>Saurashtra Cricket Association Stadium</td>\n",
              "      <td>Nitin Menon</td>\n",
              "      <td>CK Nandan</td>\n",
              "      <td>NaN</td>\n",
              "    </tr>\n",
              "    <tr>\n",
              "      <th>3</th>\n",
              "      <td>4</td>\n",
              "      <td>2017</td>\n",
              "      <td>Indore</td>\n",
              "      <td>08-04-2017</td>\n",
              "      <td>Rising Pune Supergiant</td>\n",
              "      <td>Kings XI Punjab</td>\n",
              "      <td>Kings XI Punjab</td>\n",
              "      <td>field</td>\n",
              "      <td>normal</td>\n",
              "      <td>0</td>\n",
              "      <td>Kings XI Punjab</td>\n",
              "      <td>0</td>\n",
              "      <td>6</td>\n",
              "      <td>GJ Maxwell</td>\n",
              "      <td>Holkar Cricket Stadium</td>\n",
              "      <td>AK Chaudhary</td>\n",
              "      <td>C Shamshuddin</td>\n",
              "      <td>NaN</td>\n",
              "    </tr>\n",
              "    <tr>\n",
              "      <th>4</th>\n",
              "      <td>5</td>\n",
              "      <td>2017</td>\n",
              "      <td>Bangalore</td>\n",
              "      <td>08-04-2017</td>\n",
              "      <td>Royal Challengers Bangalore</td>\n",
              "      <td>Delhi Daredevils</td>\n",
              "      <td>Royal Challengers Bangalore</td>\n",
              "      <td>bat</td>\n",
              "      <td>normal</td>\n",
              "      <td>0</td>\n",
              "      <td>Royal Challengers Bangalore</td>\n",
              "      <td>15</td>\n",
              "      <td>0</td>\n",
              "      <td>KM Jadhav</td>\n",
              "      <td>M Chinnaswamy Stadium</td>\n",
              "      <td>NaN</td>\n",
              "      <td>NaN</td>\n",
              "      <td>NaN</td>\n",
              "    </tr>\n",
              "  </tbody>\n",
              "</table>\n",
              "</div>"
            ],
            "text/plain": [
              "   id  season       city  ...         umpire1        umpire2 umpire3\n",
              "0   1    2017  Hyderabad  ...     AY Dandekar       NJ Llong     NaN\n",
              "1   2    2017       Pune  ...  A Nand Kishore         S Ravi     NaN\n",
              "2   3    2017     Rajkot  ...     Nitin Menon      CK Nandan     NaN\n",
              "3   4    2017     Indore  ...    AK Chaudhary  C Shamshuddin     NaN\n",
              "4   5    2017  Bangalore  ...             NaN            NaN     NaN\n",
              "\n",
              "[5 rows x 18 columns]"
            ]
          },
          "metadata": {},
          "execution_count": 208
        }
      ]
    },
    {
      "cell_type": "code",
      "metadata": {
        "colab": {
          "base_uri": "https://localhost:8080/",
          "height": 400
        },
        "id": "2e1EM9GR64Sp",
        "outputId": "acacaf25-21db-431f-a338-55ea2d7c9742"
      },
      "source": [
        "deliveies_df.head()"
      ],
      "execution_count": null,
      "outputs": [
        {
          "output_type": "execute_result",
          "data": {
            "text/html": [
              "<div>\n",
              "<style scoped>\n",
              "    .dataframe tbody tr th:only-of-type {\n",
              "        vertical-align: middle;\n",
              "    }\n",
              "\n",
              "    .dataframe tbody tr th {\n",
              "        vertical-align: top;\n",
              "    }\n",
              "\n",
              "    .dataframe thead th {\n",
              "        text-align: right;\n",
              "    }\n",
              "</style>\n",
              "<table border=\"1\" class=\"dataframe\">\n",
              "  <thead>\n",
              "    <tr style=\"text-align: right;\">\n",
              "      <th></th>\n",
              "      <th>match_id</th>\n",
              "      <th>inning</th>\n",
              "      <th>batting_team</th>\n",
              "      <th>bowling_team</th>\n",
              "      <th>over</th>\n",
              "      <th>ball</th>\n",
              "      <th>batsman</th>\n",
              "      <th>non_striker</th>\n",
              "      <th>bowler</th>\n",
              "      <th>is_super_over</th>\n",
              "      <th>wide_runs</th>\n",
              "      <th>bye_runs</th>\n",
              "      <th>legbye_runs</th>\n",
              "      <th>noball_runs</th>\n",
              "      <th>penalty_runs</th>\n",
              "      <th>batsman_runs</th>\n",
              "      <th>extra_runs</th>\n",
              "      <th>total_runs</th>\n",
              "      <th>player_dismissed</th>\n",
              "      <th>dismissal_kind</th>\n",
              "      <th>fielder</th>\n",
              "    </tr>\n",
              "  </thead>\n",
              "  <tbody>\n",
              "    <tr>\n",
              "      <th>0</th>\n",
              "      <td>1</td>\n",
              "      <td>1</td>\n",
              "      <td>Sunrisers Hyderabad</td>\n",
              "      <td>Royal Challengers Bangalore</td>\n",
              "      <td>1</td>\n",
              "      <td>1</td>\n",
              "      <td>DA Warner</td>\n",
              "      <td>S Dhawan</td>\n",
              "      <td>TS Mills</td>\n",
              "      <td>0</td>\n",
              "      <td>0</td>\n",
              "      <td>0</td>\n",
              "      <td>0</td>\n",
              "      <td>0</td>\n",
              "      <td>0</td>\n",
              "      <td>0</td>\n",
              "      <td>0</td>\n",
              "      <td>0</td>\n",
              "      <td>NaN</td>\n",
              "      <td>NaN</td>\n",
              "      <td>NaN</td>\n",
              "    </tr>\n",
              "    <tr>\n",
              "      <th>1</th>\n",
              "      <td>1</td>\n",
              "      <td>1</td>\n",
              "      <td>Sunrisers Hyderabad</td>\n",
              "      <td>Royal Challengers Bangalore</td>\n",
              "      <td>1</td>\n",
              "      <td>2</td>\n",
              "      <td>DA Warner</td>\n",
              "      <td>S Dhawan</td>\n",
              "      <td>TS Mills</td>\n",
              "      <td>0</td>\n",
              "      <td>0</td>\n",
              "      <td>0</td>\n",
              "      <td>0</td>\n",
              "      <td>0</td>\n",
              "      <td>0</td>\n",
              "      <td>0</td>\n",
              "      <td>0</td>\n",
              "      <td>0</td>\n",
              "      <td>NaN</td>\n",
              "      <td>NaN</td>\n",
              "      <td>NaN</td>\n",
              "    </tr>\n",
              "    <tr>\n",
              "      <th>2</th>\n",
              "      <td>1</td>\n",
              "      <td>1</td>\n",
              "      <td>Sunrisers Hyderabad</td>\n",
              "      <td>Royal Challengers Bangalore</td>\n",
              "      <td>1</td>\n",
              "      <td>3</td>\n",
              "      <td>DA Warner</td>\n",
              "      <td>S Dhawan</td>\n",
              "      <td>TS Mills</td>\n",
              "      <td>0</td>\n",
              "      <td>0</td>\n",
              "      <td>0</td>\n",
              "      <td>0</td>\n",
              "      <td>0</td>\n",
              "      <td>0</td>\n",
              "      <td>4</td>\n",
              "      <td>0</td>\n",
              "      <td>4</td>\n",
              "      <td>NaN</td>\n",
              "      <td>NaN</td>\n",
              "      <td>NaN</td>\n",
              "    </tr>\n",
              "    <tr>\n",
              "      <th>3</th>\n",
              "      <td>1</td>\n",
              "      <td>1</td>\n",
              "      <td>Sunrisers Hyderabad</td>\n",
              "      <td>Royal Challengers Bangalore</td>\n",
              "      <td>1</td>\n",
              "      <td>4</td>\n",
              "      <td>DA Warner</td>\n",
              "      <td>S Dhawan</td>\n",
              "      <td>TS Mills</td>\n",
              "      <td>0</td>\n",
              "      <td>0</td>\n",
              "      <td>0</td>\n",
              "      <td>0</td>\n",
              "      <td>0</td>\n",
              "      <td>0</td>\n",
              "      <td>0</td>\n",
              "      <td>0</td>\n",
              "      <td>0</td>\n",
              "      <td>NaN</td>\n",
              "      <td>NaN</td>\n",
              "      <td>NaN</td>\n",
              "    </tr>\n",
              "    <tr>\n",
              "      <th>4</th>\n",
              "      <td>1</td>\n",
              "      <td>1</td>\n",
              "      <td>Sunrisers Hyderabad</td>\n",
              "      <td>Royal Challengers Bangalore</td>\n",
              "      <td>1</td>\n",
              "      <td>5</td>\n",
              "      <td>DA Warner</td>\n",
              "      <td>S Dhawan</td>\n",
              "      <td>TS Mills</td>\n",
              "      <td>0</td>\n",
              "      <td>2</td>\n",
              "      <td>0</td>\n",
              "      <td>0</td>\n",
              "      <td>0</td>\n",
              "      <td>0</td>\n",
              "      <td>0</td>\n",
              "      <td>2</td>\n",
              "      <td>2</td>\n",
              "      <td>NaN</td>\n",
              "      <td>NaN</td>\n",
              "      <td>NaN</td>\n",
              "    </tr>\n",
              "  </tbody>\n",
              "</table>\n",
              "</div>"
            ],
            "text/plain": [
              "   match_id  inning  ... dismissal_kind fielder\n",
              "0         1       1  ...            NaN     NaN\n",
              "1         1       1  ...            NaN     NaN\n",
              "2         1       1  ...            NaN     NaN\n",
              "3         1       1  ...            NaN     NaN\n",
              "4         1       1  ...            NaN     NaN\n",
              "\n",
              "[5 rows x 21 columns]"
            ]
          },
          "metadata": {},
          "execution_count": 209
        }
      ]
    },
    {
      "cell_type": "code",
      "metadata": {
        "colab": {
          "base_uri": "https://localhost:8080/"
        },
        "id": "64M7-r-j7KsY",
        "outputId": "bfcedd4c-6b44-4ac4-b2a4-7a88d04e4134"
      },
      "source": [
        "deliveies_df.shape"
      ],
      "execution_count": null,
      "outputs": [
        {
          "output_type": "execute_result",
          "data": {
            "text/plain": [
              "(150460, 21)"
            ]
          },
          "metadata": {},
          "execution_count": 210
        }
      ]
    },
    {
      "cell_type": "code",
      "metadata": {
        "colab": {
          "base_uri": "https://localhost:8080/"
        },
        "id": "tr0S1hbB7PoQ",
        "outputId": "656c59d2-7461-4bce-878c-a08a5dfa76e8"
      },
      "source": [
        "matches_df.shape"
      ],
      "execution_count": null,
      "outputs": [
        {
          "output_type": "execute_result",
          "data": {
            "text/plain": [
              "(636, 18)"
            ]
          },
          "metadata": {},
          "execution_count": 211
        }
      ]
    },
    {
      "cell_type": "code",
      "metadata": {
        "colab": {
          "base_uri": "https://localhost:8080/"
        },
        "id": "Uq_dSQTT7RWM",
        "outputId": "c0dd4b12-ed67-488a-b372-c11edf981630"
      },
      "source": [
        "teams=matches_df['team1']\n",
        "matches_df['team2'].unique()"
      ],
      "execution_count": null,
      "outputs": [
        {
          "output_type": "execute_result",
          "data": {
            "text/plain": [
              "array(['Royal Challengers Bangalore', 'Rising Pune Supergiant',\n",
              "       'Kolkata Knight Riders', 'Kings XI Punjab', 'Delhi Daredevils',\n",
              "       'Sunrisers Hyderabad', 'Mumbai Indians', 'Gujarat Lions',\n",
              "       'Rajasthan Royals', 'Chennai Super Kings', 'Deccan Chargers',\n",
              "       'Pune Warriors', 'Kochi Tuskers Kerala', 'Rising Pune Supergiants'],\n",
              "      dtype=object)"
            ]
          },
          "metadata": {},
          "execution_count": 212
        }
      ]
    },
    {
      "cell_type": "code",
      "metadata": {
        "colab": {
          "base_uri": "https://localhost:8080/"
        },
        "id": "P8XY0a0e8XG1",
        "outputId": "c4c8c33c-95b7-4e07-d233-49e8f4bd7f51"
      },
      "source": [
        "deliveies_df['batting_team'].describe()"
      ],
      "execution_count": null,
      "outputs": [
        {
          "output_type": "execute_result",
          "data": {
            "text/plain": [
              "count             150460\n",
              "unique                14\n",
              "top       Mumbai Indians\n",
              "freq               18943\n",
              "Name: batting_team, dtype: object"
            ]
          },
          "metadata": {},
          "execution_count": 213
        }
      ]
    },
    {
      "cell_type": "code",
      "metadata": {
        "colab": {
          "base_uri": "https://localhost:8080/"
        },
        "id": "muJ1zxaY9Vip",
        "outputId": "7f9057ed-f826-495f-9276-4b8732689355"
      },
      "source": [
        "deliveies_df['batting_team'].unique()"
      ],
      "execution_count": null,
      "outputs": [
        {
          "output_type": "execute_result",
          "data": {
            "text/plain": [
              "array(['Sunrisers Hyderabad', 'Royal Challengers Bangalore',\n",
              "       'Mumbai Indians', 'Rising Pune Supergiant', 'Gujarat Lions',\n",
              "       'Kolkata Knight Riders', 'Kings XI Punjab', 'Delhi Daredevils',\n",
              "       'Chennai Super Kings', 'Rajasthan Royals', 'Deccan Chargers',\n",
              "       'Kochi Tuskers Kerala', 'Pune Warriors', 'Rising Pune Supergiants'],\n",
              "      dtype=object)"
            ]
          },
          "metadata": {},
          "execution_count": 214
        }
      ]
    },
    {
      "cell_type": "code",
      "metadata": {
        "colab": {
          "base_uri": "https://localhost:8080/"
        },
        "id": "CGDDyWYj9hCl",
        "outputId": "8bd7ebca-2975-4113-98b7-dcbc05cfa7ee"
      },
      "source": [
        "batsman_score=deliveies_df.loc[:,['batsman_runs','batsman']]\n",
        "batsman_score['batsman'].describe()"
      ],
      "execution_count": null,
      "outputs": [
        {
          "output_type": "execute_result",
          "data": {
            "text/plain": [
              "count      150460\n",
              "unique        461\n",
              "top       V Kohli\n",
              "freq         3494\n",
              "Name: batsman, dtype: object"
            ]
          },
          "metadata": {},
          "execution_count": 215
        }
      ]
    },
    {
      "cell_type": "code",
      "metadata": {
        "colab": {
          "base_uri": "https://localhost:8080/"
        },
        "id": "UXlTbwF8-qMP",
        "outputId": "c2879eb6-fe10-439b-c565-357b04f022ea"
      },
      "source": [
        "highest_run=batsman_score.loc[batsman_score['batsman']=='V Kohli','batsman_runs'].sum()\n",
        "highest_run"
      ],
      "execution_count": null,
      "outputs": [
        {
          "output_type": "execute_result",
          "data": {
            "text/plain": [
              "4423"
            ]
          },
          "metadata": {},
          "execution_count": 216
        }
      ]
    },
    {
      "cell_type": "code",
      "metadata": {
        "id": "9lQ8GtnUAPA7",
        "colab": {
          "base_uri": "https://localhost:8080/"
        },
        "outputId": "7be2057a-73c7-4d59-d51a-f7618da0a3c5"
      },
      "source": [
        "deliveies_df['batting_team'].unique()"
      ],
      "execution_count": null,
      "outputs": [
        {
          "output_type": "execute_result",
          "data": {
            "text/plain": [
              "array(['Sunrisers Hyderabad', 'Royal Challengers Bangalore',\n",
              "       'Mumbai Indians', 'Rising Pune Supergiant', 'Gujarat Lions',\n",
              "       'Kolkata Knight Riders', 'Kings XI Punjab', 'Delhi Daredevils',\n",
              "       'Chennai Super Kings', 'Rajasthan Royals', 'Deccan Chargers',\n",
              "       'Kochi Tuskers Kerala', 'Pune Warriors', 'Rising Pune Supergiants'],\n",
              "      dtype=object)"
            ]
          },
          "metadata": {},
          "execution_count": 217
        }
      ]
    },
    {
      "cell_type": "code",
      "metadata": {
        "colab": {
          "base_uri": "https://localhost:8080/"
        },
        "id": "i2GetikTrW8z",
        "outputId": "0f54b384-b858-48c5-f9f6-26025c6c684c"
      },
      "source": [
        "len(deliveies_df['batting_team'].unique())"
      ],
      "execution_count": null,
      "outputs": [
        {
          "output_type": "execute_result",
          "data": {
            "text/plain": [
              "14"
            ]
          },
          "metadata": {},
          "execution_count": 218
        }
      ]
    },
    {
      "cell_type": "code",
      "metadata": {
        "id": "tf59l5gmrZLO"
      },
      "source": [
        "deliveies_df['batting_team']=deliveies_df['batting_team'].replace({'Rising Pune Supergiant':'Rising Pune Supergiants'})"
      ],
      "execution_count": null,
      "outputs": []
    },
    {
      "cell_type": "code",
      "metadata": {
        "id": "DMorFEuLrvBv",
        "colab": {
          "base_uri": "https://localhost:8080/"
        },
        "outputId": "2ef1e040-8d91-47a6-dabc-9711bd988bd0"
      },
      "source": [
        "highest_run=batsman_score.loc[batsman_score['batsman']=='V Kohli','batsman_runs'].sum()\n",
        "highest_run"
      ],
      "execution_count": null,
      "outputs": [
        {
          "output_type": "execute_result",
          "data": {
            "text/plain": [
              "4423"
            ]
          },
          "metadata": {},
          "execution_count": 220
        }
      ]
    },
    {
      "cell_type": "code",
      "metadata": {
        "colab": {
          "base_uri": "https://localhost:8080/"
        },
        "id": "8uH6CaJQsLbf",
        "outputId": "358e6a48-6c43-473e-91f4-da09b995bf55"
      },
      "source": [
        "batsman_name=list(batsman_score['batsman'].unique())\n",
        "len(batsman_name)"
      ],
      "execution_count": null,
      "outputs": [
        {
          "output_type": "execute_result",
          "data": {
            "text/plain": [
              "461"
            ]
          },
          "metadata": {},
          "execution_count": 221
        }
      ]
    },
    {
      "cell_type": "code",
      "metadata": {
        "id": "2bflb7-dsbmB"
      },
      "source": [
        "runs=[]\n",
        "for i in batsman_name:\n",
        "    runs.append(batsman_score.loc[batsman_score['batsman']==i,'batsman_runs'].sum())\n",
        "    "
      ],
      "execution_count": null,
      "outputs": []
    },
    {
      "cell_type": "code",
      "metadata": {
        "id": "-_EuIFKUs6oi"
      },
      "source": [
        "runs_seies=pd.Series(runs)"
      ],
      "execution_count": null,
      "outputs": []
    },
    {
      "cell_type": "code",
      "metadata": {
        "colab": {
          "base_uri": "https://localhost:8080/"
        },
        "id": "I0ZeROUss86n",
        "outputId": "303ad33e-791d-4c87-b9d7-832cdfc3f5ca"
      },
      "source": [
        "runs_seies.sort_values(ascending=False)"
      ],
      "execution_count": null,
      "outputs": [
        {
          "output_type": "execute_result",
          "data": {
            "text/plain": [
              "33     4548\n",
              "87     4423\n",
              "19     4207\n",
              "36     4132\n",
              "0      4014\n",
              "       ... \n",
              "314       0\n",
              "399       0\n",
              "409       0\n",
              "295       0\n",
              "319       0\n",
              "Length: 461, dtype: int64"
            ]
          },
          "metadata": {},
          "execution_count": 224
        }
      ]
    },
    {
      "cell_type": "code",
      "metadata": {
        "colab": {
          "base_uri": "https://localhost:8080/",
          "height": 35
        },
        "id": "B713QQv4GVG6",
        "outputId": "2e4363a2-7517-4ab9-fdc0-e4e3b0fa9a14"
      },
      "source": [
        "batsman_name[33]"
      ],
      "execution_count": null,
      "outputs": [
        {
          "output_type": "execute_result",
          "data": {
            "application/vnd.google.colaboratory.intrinsic+json": {
              "type": "string"
            },
            "text/plain": [
              "'SK Raina'"
            ]
          },
          "metadata": {},
          "execution_count": 225
        }
      ]
    },
    {
      "cell_type": "code",
      "metadata": {
        "colab": {
          "base_uri": "https://localhost:8080/"
        },
        "id": "dmYqbTEktZm-",
        "outputId": "f5e6901d-b82f-41cf-f93b-c35e596b54d8"
      },
      "source": [
        "batsman_name.index('V Kohli')"
      ],
      "execution_count": null,
      "outputs": [
        {
          "output_type": "execute_result",
          "data": {
            "text/plain": [
              "87"
            ]
          },
          "metadata": {},
          "execution_count": 226
        }
      ]
    },
    {
      "cell_type": "code",
      "metadata": {
        "id": "F34-jCSptjUu"
      },
      "source": [
        "runs_df=pd.DataFrame(deliveies_df.groupby(['batsman']).batsman_runs.sum()).sort_values(ascending=False,by='batsman_runs')"
      ],
      "execution_count": null,
      "outputs": []
    },
    {
      "cell_type": "code",
      "metadata": {
        "colab": {
          "base_uri": "https://localhost:8080/",
          "height": 238
        },
        "id": "0mF1xHKHvhfa",
        "outputId": "bc9727e8-8cdf-494a-c1a2-4f050d909976"
      },
      "source": [
        "runs_df.head()"
      ],
      "execution_count": null,
      "outputs": [
        {
          "output_type": "execute_result",
          "data": {
            "text/html": [
              "<div>\n",
              "<style scoped>\n",
              "    .dataframe tbody tr th:only-of-type {\n",
              "        vertical-align: middle;\n",
              "    }\n",
              "\n",
              "    .dataframe tbody tr th {\n",
              "        vertical-align: top;\n",
              "    }\n",
              "\n",
              "    .dataframe thead th {\n",
              "        text-align: right;\n",
              "    }\n",
              "</style>\n",
              "<table border=\"1\" class=\"dataframe\">\n",
              "  <thead>\n",
              "    <tr style=\"text-align: right;\">\n",
              "      <th></th>\n",
              "      <th>batsman_runs</th>\n",
              "    </tr>\n",
              "    <tr>\n",
              "      <th>batsman</th>\n",
              "      <th></th>\n",
              "    </tr>\n",
              "  </thead>\n",
              "  <tbody>\n",
              "    <tr>\n",
              "      <th>SK Raina</th>\n",
              "      <td>4548</td>\n",
              "    </tr>\n",
              "    <tr>\n",
              "      <th>V Kohli</th>\n",
              "      <td>4423</td>\n",
              "    </tr>\n",
              "    <tr>\n",
              "      <th>RG Sharma</th>\n",
              "      <td>4207</td>\n",
              "    </tr>\n",
              "    <tr>\n",
              "      <th>G Gambhir</th>\n",
              "      <td>4132</td>\n",
              "    </tr>\n",
              "    <tr>\n",
              "      <th>DA Warner</th>\n",
              "      <td>4014</td>\n",
              "    </tr>\n",
              "  </tbody>\n",
              "</table>\n",
              "</div>"
            ],
            "text/plain": [
              "           batsman_runs\n",
              "batsman                \n",
              "SK Raina           4548\n",
              "V Kohli            4423\n",
              "RG Sharma          4207\n",
              "G Gambhir          4132\n",
              "DA Warner          4014"
            ]
          },
          "metadata": {},
          "execution_count": 228
        }
      ]
    },
    {
      "cell_type": "code",
      "metadata": {
        "colab": {
          "base_uri": "https://localhost:8080/"
        },
        "id": "o-h4xo_elLke",
        "outputId": "e2c571e1-ee5f-4bcd-e552-2b0a251fb4db"
      },
      "source": [
        "deliveies_df.isnull().sum()"
      ],
      "execution_count": null,
      "outputs": [
        {
          "output_type": "execute_result",
          "data": {
            "text/plain": [
              "match_id                 0\n",
              "inning                   0\n",
              "batting_team             0\n",
              "bowling_team             0\n",
              "over                     0\n",
              "ball                     0\n",
              "batsman                  0\n",
              "non_striker              0\n",
              "bowler                   0\n",
              "is_super_over            0\n",
              "wide_runs                0\n",
              "bye_runs                 0\n",
              "legbye_runs              0\n",
              "noball_runs              0\n",
              "penalty_runs             0\n",
              "batsman_runs             0\n",
              "extra_runs               0\n",
              "total_runs               0\n",
              "player_dismissed    143022\n",
              "dismissal_kind      143022\n",
              "fielder             145091\n",
              "dtype: int64"
            ]
          },
          "metadata": {},
          "execution_count": 229
        }
      ]
    },
    {
      "cell_type": "code",
      "metadata": {
        "id": "Lq4_hJcolTP1"
      },
      "source": [
        "deliveies_df.fillna(\"0\",inplace=True)"
      ],
      "execution_count": null,
      "outputs": []
    },
    {
      "cell_type": "code",
      "metadata": {
        "colab": {
          "base_uri": "https://localhost:8080/"
        },
        "id": "JZrR0feKlleF",
        "outputId": "7eaa5f07-de30-4324-8a00-4041c94dd8cb"
      },
      "source": [
        "deliveies_df.isnull().sum()"
      ],
      "execution_count": null,
      "outputs": [
        {
          "output_type": "execute_result",
          "data": {
            "text/plain": [
              "match_id            0\n",
              "inning              0\n",
              "batting_team        0\n",
              "bowling_team        0\n",
              "over                0\n",
              "ball                0\n",
              "batsman             0\n",
              "non_striker         0\n",
              "bowler              0\n",
              "is_super_over       0\n",
              "wide_runs           0\n",
              "bye_runs            0\n",
              "legbye_runs         0\n",
              "noball_runs         0\n",
              "penalty_runs        0\n",
              "batsman_runs        0\n",
              "extra_runs          0\n",
              "total_runs          0\n",
              "player_dismissed    0\n",
              "dismissal_kind      0\n",
              "fielder             0\n",
              "dtype: int64"
            ]
          },
          "metadata": {},
          "execution_count": 231
        }
      ]
    },
    {
      "cell_type": "code",
      "metadata": {
        "colab": {
          "base_uri": "https://localhost:8080/"
        },
        "id": "9koET_kGlmiW",
        "outputId": "e1569176-71b8-4a7e-9289-bddc5ae3a578"
      },
      "source": [
        "matches_df.isnull().sum()"
      ],
      "execution_count": null,
      "outputs": [
        {
          "output_type": "execute_result",
          "data": {
            "text/plain": [
              "id                   0\n",
              "season               0\n",
              "city                 7\n",
              "date                 0\n",
              "team1                0\n",
              "team2                0\n",
              "toss_winner          0\n",
              "toss_decision        0\n",
              "result               0\n",
              "dl_applied           0\n",
              "winner               3\n",
              "win_by_runs          0\n",
              "win_by_wickets       0\n",
              "player_of_match      3\n",
              "venue                0\n",
              "umpire1              1\n",
              "umpire2              1\n",
              "umpire3            636\n",
              "dtype: int64"
            ]
          },
          "metadata": {},
          "execution_count": 232
        }
      ]
    },
    {
      "cell_type": "code",
      "metadata": {
        "colab": {
          "base_uri": "https://localhost:8080/"
        },
        "id": "lV0ayStil0zt",
        "outputId": "4e11e316-f47c-41f6-fe3b-8582c8005306"
      },
      "source": [
        "matches_df['team1'].unique()"
      ],
      "execution_count": null,
      "outputs": [
        {
          "output_type": "execute_result",
          "data": {
            "text/plain": [
              "array(['Sunrisers Hyderabad', 'Mumbai Indians', 'Gujarat Lions',\n",
              "       'Rising Pune Supergiant', 'Royal Challengers Bangalore',\n",
              "       'Kolkata Knight Riders', 'Delhi Daredevils', 'Kings XI Punjab',\n",
              "       'Chennai Super Kings', 'Rajasthan Royals', 'Deccan Chargers',\n",
              "       'Kochi Tuskers Kerala', 'Pune Warriors', 'Rising Pune Supergiants'],\n",
              "      dtype=object)"
            ]
          },
          "metadata": {},
          "execution_count": 233
        }
      ]
    },
    {
      "cell_type": "code",
      "metadata": {
        "id": "mJiJvnb1lqzr"
      },
      "source": [
        "matches_df['team1']=matches_df['team1'].replace({'Rising Pune Supergiant':'Rising Pune Supergiants'})\n",
        "matches_df['team2']=matches_df['team2'].replace({'Rising Pune Supergiant':'Rising Pune Supergiants'})\n"
      ],
      "execution_count": null,
      "outputs": []
    },
    {
      "cell_type": "code",
      "metadata": {
        "id": "2gQQ85VWmCFc"
      },
      "source": [
        "matches_df['winner']=matches_df['winner'].replace({'Rising Pune Supergiant':'Rising Pune Supergiants'})"
      ],
      "execution_count": null,
      "outputs": []
    },
    {
      "cell_type": "code",
      "metadata": {
        "colab": {
          "base_uri": "https://localhost:8080/"
        },
        "id": "SGQYWWaKmK0f",
        "outputId": "95ec3c0e-8cc7-4f20-d95a-b6e352c237d2"
      },
      "source": [
        "matches_df.columns"
      ],
      "execution_count": null,
      "outputs": [
        {
          "output_type": "execute_result",
          "data": {
            "text/plain": [
              "Index(['id', 'season', 'city', 'date', 'team1', 'team2', 'toss_winner',\n",
              "       'toss_decision', 'result', 'dl_applied', 'winner', 'win_by_runs',\n",
              "       'win_by_wickets', 'player_of_match', 'venue', 'umpire1', 'umpire2',\n",
              "       'umpire3'],\n",
              "      dtype='object')"
            ]
          },
          "metadata": {},
          "execution_count": 236
        }
      ]
    },
    {
      "cell_type": "code",
      "metadata": {
        "colab": {
          "base_uri": "https://localhost:8080/"
        },
        "id": "0OD9ZgxhmRZA",
        "outputId": "d6e46544-9d6c-4983-ed52-7c92af521d1d"
      },
      "source": [
        "deliveies_df.columns"
      ],
      "execution_count": null,
      "outputs": [
        {
          "output_type": "execute_result",
          "data": {
            "text/plain": [
              "Index(['match_id', 'inning', 'batting_team', 'bowling_team', 'over', 'ball',\n",
              "       'batsman', 'non_striker', 'bowler', 'is_super_over', 'wide_runs',\n",
              "       'bye_runs', 'legbye_runs', 'noball_runs', 'penalty_runs',\n",
              "       'batsman_runs', 'extra_runs', 'total_runs', 'player_dismissed',\n",
              "       'dismissal_kind', 'fielder'],\n",
              "      dtype='object')"
            ]
          },
          "metadata": {},
          "execution_count": 237
        }
      ]
    },
    {
      "cell_type": "code",
      "metadata": {
        "colab": {
          "base_uri": "https://localhost:8080/"
        },
        "id": "R02KtF7dmWpp",
        "outputId": "218f0a9a-1627-4abd-ea7a-edd9047daa0d"
      },
      "source": [
        "matches_df=matches_df.rename(columns={'id':'match_id'})\n",
        "matches_df.columns"
      ],
      "execution_count": null,
      "outputs": [
        {
          "output_type": "execute_result",
          "data": {
            "text/plain": [
              "Index(['match_id', 'season', 'city', 'date', 'team1', 'team2', 'toss_winner',\n",
              "       'toss_decision', 'result', 'dl_applied', 'winner', 'win_by_runs',\n",
              "       'win_by_wickets', 'player_of_match', 'venue', 'umpire1', 'umpire2',\n",
              "       'umpire3'],\n",
              "      dtype='object')"
            ]
          },
          "metadata": {},
          "execution_count": 238
        }
      ]
    },
    {
      "cell_type": "code",
      "metadata": {
        "id": "r-H8Wgw3mn2n"
      },
      "source": [
        "matches_df.fillna(\"0\",inplace=True)"
      ],
      "execution_count": null,
      "outputs": []
    },
    {
      "cell_type": "code",
      "metadata": {
        "colab": {
          "base_uri": "https://localhost:8080/"
        },
        "id": "fGOgc6Ydmyqu",
        "outputId": "8ae5a6b0-7a54-4aef-8422-bd65080f9849"
      },
      "source": [
        "matches_df.isnull().sum()"
      ],
      "execution_count": null,
      "outputs": [
        {
          "output_type": "execute_result",
          "data": {
            "text/plain": [
              "match_id           0\n",
              "season             0\n",
              "city               0\n",
              "date               0\n",
              "team1              0\n",
              "team2              0\n",
              "toss_winner        0\n",
              "toss_decision      0\n",
              "result             0\n",
              "dl_applied         0\n",
              "winner             0\n",
              "win_by_runs        0\n",
              "win_by_wickets     0\n",
              "player_of_match    0\n",
              "venue              0\n",
              "umpire1            0\n",
              "umpire2            0\n",
              "umpire3            0\n",
              "dtype: int64"
            ]
          },
          "metadata": {},
          "execution_count": 240
        }
      ]
    },
    {
      "cell_type": "code",
      "metadata": {
        "id": "_YFPQnyYm032"
      },
      "source": [
        "ipl_df=pd.merge(matches_df,deliveies_df,how='inner',on='match_id')"
      ],
      "execution_count": null,
      "outputs": []
    },
    {
      "cell_type": "code",
      "metadata": {
        "colab": {
          "base_uri": "https://localhost:8080/",
          "height": 573
        },
        "id": "BJnFmz8EnFkt",
        "outputId": "dfb7079e-9f2c-4790-d30a-fb3e924ce0cb"
      },
      "source": [
        "ipl_df.head()"
      ],
      "execution_count": null,
      "outputs": [
        {
          "output_type": "execute_result",
          "data": {
            "text/html": [
              "<div>\n",
              "<style scoped>\n",
              "    .dataframe tbody tr th:only-of-type {\n",
              "        vertical-align: middle;\n",
              "    }\n",
              "\n",
              "    .dataframe tbody tr th {\n",
              "        vertical-align: top;\n",
              "    }\n",
              "\n",
              "    .dataframe thead th {\n",
              "        text-align: right;\n",
              "    }\n",
              "</style>\n",
              "<table border=\"1\" class=\"dataframe\">\n",
              "  <thead>\n",
              "    <tr style=\"text-align: right;\">\n",
              "      <th></th>\n",
              "      <th>match_id</th>\n",
              "      <th>season</th>\n",
              "      <th>city</th>\n",
              "      <th>date</th>\n",
              "      <th>team1</th>\n",
              "      <th>team2</th>\n",
              "      <th>toss_winner</th>\n",
              "      <th>toss_decision</th>\n",
              "      <th>result</th>\n",
              "      <th>dl_applied</th>\n",
              "      <th>winner</th>\n",
              "      <th>win_by_runs</th>\n",
              "      <th>win_by_wickets</th>\n",
              "      <th>player_of_match</th>\n",
              "      <th>venue</th>\n",
              "      <th>umpire1</th>\n",
              "      <th>umpire2</th>\n",
              "      <th>umpire3</th>\n",
              "      <th>inning</th>\n",
              "      <th>batting_team</th>\n",
              "      <th>bowling_team</th>\n",
              "      <th>over</th>\n",
              "      <th>ball</th>\n",
              "      <th>batsman</th>\n",
              "      <th>non_striker</th>\n",
              "      <th>bowler</th>\n",
              "      <th>is_super_over</th>\n",
              "      <th>wide_runs</th>\n",
              "      <th>bye_runs</th>\n",
              "      <th>legbye_runs</th>\n",
              "      <th>noball_runs</th>\n",
              "      <th>penalty_runs</th>\n",
              "      <th>batsman_runs</th>\n",
              "      <th>extra_runs</th>\n",
              "      <th>total_runs</th>\n",
              "      <th>player_dismissed</th>\n",
              "      <th>dismissal_kind</th>\n",
              "      <th>fielder</th>\n",
              "    </tr>\n",
              "  </thead>\n",
              "  <tbody>\n",
              "    <tr>\n",
              "      <th>0</th>\n",
              "      <td>1</td>\n",
              "      <td>2017</td>\n",
              "      <td>Hyderabad</td>\n",
              "      <td>05-04-2017</td>\n",
              "      <td>Sunrisers Hyderabad</td>\n",
              "      <td>Royal Challengers Bangalore</td>\n",
              "      <td>Royal Challengers Bangalore</td>\n",
              "      <td>field</td>\n",
              "      <td>normal</td>\n",
              "      <td>0</td>\n",
              "      <td>Sunrisers Hyderabad</td>\n",
              "      <td>35</td>\n",
              "      <td>0</td>\n",
              "      <td>Yuvraj Singh</td>\n",
              "      <td>Rajiv Gandhi International Stadium, Uppal</td>\n",
              "      <td>AY Dandekar</td>\n",
              "      <td>NJ Llong</td>\n",
              "      <td>0</td>\n",
              "      <td>1</td>\n",
              "      <td>Sunrisers Hyderabad</td>\n",
              "      <td>Royal Challengers Bangalore</td>\n",
              "      <td>1</td>\n",
              "      <td>1</td>\n",
              "      <td>DA Warner</td>\n",
              "      <td>S Dhawan</td>\n",
              "      <td>TS Mills</td>\n",
              "      <td>0</td>\n",
              "      <td>0</td>\n",
              "      <td>0</td>\n",
              "      <td>0</td>\n",
              "      <td>0</td>\n",
              "      <td>0</td>\n",
              "      <td>0</td>\n",
              "      <td>0</td>\n",
              "      <td>0</td>\n",
              "      <td>0</td>\n",
              "      <td>0</td>\n",
              "      <td>0</td>\n",
              "    </tr>\n",
              "    <tr>\n",
              "      <th>1</th>\n",
              "      <td>1</td>\n",
              "      <td>2017</td>\n",
              "      <td>Hyderabad</td>\n",
              "      <td>05-04-2017</td>\n",
              "      <td>Sunrisers Hyderabad</td>\n",
              "      <td>Royal Challengers Bangalore</td>\n",
              "      <td>Royal Challengers Bangalore</td>\n",
              "      <td>field</td>\n",
              "      <td>normal</td>\n",
              "      <td>0</td>\n",
              "      <td>Sunrisers Hyderabad</td>\n",
              "      <td>35</td>\n",
              "      <td>0</td>\n",
              "      <td>Yuvraj Singh</td>\n",
              "      <td>Rajiv Gandhi International Stadium, Uppal</td>\n",
              "      <td>AY Dandekar</td>\n",
              "      <td>NJ Llong</td>\n",
              "      <td>0</td>\n",
              "      <td>1</td>\n",
              "      <td>Sunrisers Hyderabad</td>\n",
              "      <td>Royal Challengers Bangalore</td>\n",
              "      <td>1</td>\n",
              "      <td>2</td>\n",
              "      <td>DA Warner</td>\n",
              "      <td>S Dhawan</td>\n",
              "      <td>TS Mills</td>\n",
              "      <td>0</td>\n",
              "      <td>0</td>\n",
              "      <td>0</td>\n",
              "      <td>0</td>\n",
              "      <td>0</td>\n",
              "      <td>0</td>\n",
              "      <td>0</td>\n",
              "      <td>0</td>\n",
              "      <td>0</td>\n",
              "      <td>0</td>\n",
              "      <td>0</td>\n",
              "      <td>0</td>\n",
              "    </tr>\n",
              "    <tr>\n",
              "      <th>2</th>\n",
              "      <td>1</td>\n",
              "      <td>2017</td>\n",
              "      <td>Hyderabad</td>\n",
              "      <td>05-04-2017</td>\n",
              "      <td>Sunrisers Hyderabad</td>\n",
              "      <td>Royal Challengers Bangalore</td>\n",
              "      <td>Royal Challengers Bangalore</td>\n",
              "      <td>field</td>\n",
              "      <td>normal</td>\n",
              "      <td>0</td>\n",
              "      <td>Sunrisers Hyderabad</td>\n",
              "      <td>35</td>\n",
              "      <td>0</td>\n",
              "      <td>Yuvraj Singh</td>\n",
              "      <td>Rajiv Gandhi International Stadium, Uppal</td>\n",
              "      <td>AY Dandekar</td>\n",
              "      <td>NJ Llong</td>\n",
              "      <td>0</td>\n",
              "      <td>1</td>\n",
              "      <td>Sunrisers Hyderabad</td>\n",
              "      <td>Royal Challengers Bangalore</td>\n",
              "      <td>1</td>\n",
              "      <td>3</td>\n",
              "      <td>DA Warner</td>\n",
              "      <td>S Dhawan</td>\n",
              "      <td>TS Mills</td>\n",
              "      <td>0</td>\n",
              "      <td>0</td>\n",
              "      <td>0</td>\n",
              "      <td>0</td>\n",
              "      <td>0</td>\n",
              "      <td>0</td>\n",
              "      <td>4</td>\n",
              "      <td>0</td>\n",
              "      <td>4</td>\n",
              "      <td>0</td>\n",
              "      <td>0</td>\n",
              "      <td>0</td>\n",
              "    </tr>\n",
              "    <tr>\n",
              "      <th>3</th>\n",
              "      <td>1</td>\n",
              "      <td>2017</td>\n",
              "      <td>Hyderabad</td>\n",
              "      <td>05-04-2017</td>\n",
              "      <td>Sunrisers Hyderabad</td>\n",
              "      <td>Royal Challengers Bangalore</td>\n",
              "      <td>Royal Challengers Bangalore</td>\n",
              "      <td>field</td>\n",
              "      <td>normal</td>\n",
              "      <td>0</td>\n",
              "      <td>Sunrisers Hyderabad</td>\n",
              "      <td>35</td>\n",
              "      <td>0</td>\n",
              "      <td>Yuvraj Singh</td>\n",
              "      <td>Rajiv Gandhi International Stadium, Uppal</td>\n",
              "      <td>AY Dandekar</td>\n",
              "      <td>NJ Llong</td>\n",
              "      <td>0</td>\n",
              "      <td>1</td>\n",
              "      <td>Sunrisers Hyderabad</td>\n",
              "      <td>Royal Challengers Bangalore</td>\n",
              "      <td>1</td>\n",
              "      <td>4</td>\n",
              "      <td>DA Warner</td>\n",
              "      <td>S Dhawan</td>\n",
              "      <td>TS Mills</td>\n",
              "      <td>0</td>\n",
              "      <td>0</td>\n",
              "      <td>0</td>\n",
              "      <td>0</td>\n",
              "      <td>0</td>\n",
              "      <td>0</td>\n",
              "      <td>0</td>\n",
              "      <td>0</td>\n",
              "      <td>0</td>\n",
              "      <td>0</td>\n",
              "      <td>0</td>\n",
              "      <td>0</td>\n",
              "    </tr>\n",
              "    <tr>\n",
              "      <th>4</th>\n",
              "      <td>1</td>\n",
              "      <td>2017</td>\n",
              "      <td>Hyderabad</td>\n",
              "      <td>05-04-2017</td>\n",
              "      <td>Sunrisers Hyderabad</td>\n",
              "      <td>Royal Challengers Bangalore</td>\n",
              "      <td>Royal Challengers Bangalore</td>\n",
              "      <td>field</td>\n",
              "      <td>normal</td>\n",
              "      <td>0</td>\n",
              "      <td>Sunrisers Hyderabad</td>\n",
              "      <td>35</td>\n",
              "      <td>0</td>\n",
              "      <td>Yuvraj Singh</td>\n",
              "      <td>Rajiv Gandhi International Stadium, Uppal</td>\n",
              "      <td>AY Dandekar</td>\n",
              "      <td>NJ Llong</td>\n",
              "      <td>0</td>\n",
              "      <td>1</td>\n",
              "      <td>Sunrisers Hyderabad</td>\n",
              "      <td>Royal Challengers Bangalore</td>\n",
              "      <td>1</td>\n",
              "      <td>5</td>\n",
              "      <td>DA Warner</td>\n",
              "      <td>S Dhawan</td>\n",
              "      <td>TS Mills</td>\n",
              "      <td>0</td>\n",
              "      <td>2</td>\n",
              "      <td>0</td>\n",
              "      <td>0</td>\n",
              "      <td>0</td>\n",
              "      <td>0</td>\n",
              "      <td>0</td>\n",
              "      <td>2</td>\n",
              "      <td>2</td>\n",
              "      <td>0</td>\n",
              "      <td>0</td>\n",
              "      <td>0</td>\n",
              "    </tr>\n",
              "  </tbody>\n",
              "</table>\n",
              "</div>"
            ],
            "text/plain": [
              "   match_id  season       city  ... player_dismissed dismissal_kind fielder\n",
              "0         1    2017  Hyderabad  ...                0              0       0\n",
              "1         1    2017  Hyderabad  ...                0              0       0\n",
              "2         1    2017  Hyderabad  ...                0              0       0\n",
              "3         1    2017  Hyderabad  ...                0              0       0\n",
              "4         1    2017  Hyderabad  ...                0              0       0\n",
              "\n",
              "[5 rows x 38 columns]"
            ]
          },
          "metadata": {},
          "execution_count": 242
        }
      ]
    },
    {
      "cell_type": "code",
      "metadata": {
        "colab": {
          "base_uri": "https://localhost:8080/"
        },
        "id": "VkeFjzUDnG1D",
        "outputId": "eb4f690e-d1e8-4d66-e28c-be681d0c42ed"
      },
      "source": [
        "ipl_df.isnull().sum()"
      ],
      "execution_count": null,
      "outputs": [
        {
          "output_type": "execute_result",
          "data": {
            "text/plain": [
              "match_id            0\n",
              "season              0\n",
              "city                0\n",
              "date                0\n",
              "team1               0\n",
              "team2               0\n",
              "toss_winner         0\n",
              "toss_decision       0\n",
              "result              0\n",
              "dl_applied          0\n",
              "winner              0\n",
              "win_by_runs         0\n",
              "win_by_wickets      0\n",
              "player_of_match     0\n",
              "venue               0\n",
              "umpire1             0\n",
              "umpire2             0\n",
              "umpire3             0\n",
              "inning              0\n",
              "batting_team        0\n",
              "bowling_team        0\n",
              "over                0\n",
              "ball                0\n",
              "batsman             0\n",
              "non_striker         0\n",
              "bowler              0\n",
              "is_super_over       0\n",
              "wide_runs           0\n",
              "bye_runs            0\n",
              "legbye_runs         0\n",
              "noball_runs         0\n",
              "penalty_runs        0\n",
              "batsman_runs        0\n",
              "extra_runs          0\n",
              "total_runs          0\n",
              "player_dismissed    0\n",
              "dismissal_kind      0\n",
              "fielder             0\n",
              "dtype: int64"
            ]
          },
          "metadata": {},
          "execution_count": 243
        }
      ]
    },
    {
      "cell_type": "code",
      "metadata": {
        "colab": {
          "base_uri": "https://localhost:8080/"
        },
        "id": "D4Prz0rvnL9A",
        "outputId": "0a33d4ac-cbfa-4c24-fa3d-7a7d57356ff9"
      },
      "source": [
        "ipl_df.shape"
      ],
      "execution_count": null,
      "outputs": [
        {
          "output_type": "execute_result",
          "data": {
            "text/plain": [
              "(150460, 38)"
            ]
          },
          "metadata": {},
          "execution_count": 244
        }
      ]
    },
    {
      "cell_type": "code",
      "metadata": {
        "id": "p4xm3z9vG3WS"
      },
      "source": [
        "matches_high=pd.DataFrame(ipl_df.groupby(['team1']).sum()).sort_values(ascending=False,by='match_id')"
      ],
      "execution_count": null,
      "outputs": []
    },
    {
      "cell_type": "code",
      "metadata": {
        "id": "XHIuT7cnJ_iq"
      },
      "source": [
        "matches_high=pd.DataFrame(matches_df['team2'].value_counts())"
      ],
      "execution_count": null,
      "outputs": []
    },
    {
      "cell_type": "code",
      "metadata": {
        "colab": {
          "base_uri": "https://localhost:8080/",
          "height": 457
        },
        "id": "oiMe9pudHRZq",
        "outputId": "2d9fcc09-24a2-476d-fa16-427374ce3ad5"
      },
      "source": [
        "matches_high"
      ],
      "execution_count": null,
      "outputs": [
        {
          "output_type": "execute_result",
          "data": {
            "text/html": [
              "<div>\n",
              "<style scoped>\n",
              "    .dataframe tbody tr th:only-of-type {\n",
              "        vertical-align: middle;\n",
              "    }\n",
              "\n",
              "    .dataframe tbody tr th {\n",
              "        vertical-align: top;\n",
              "    }\n",
              "\n",
              "    .dataframe thead th {\n",
              "        text-align: right;\n",
              "    }\n",
              "</style>\n",
              "<table border=\"1\" class=\"dataframe\">\n",
              "  <thead>\n",
              "    <tr style=\"text-align: right;\">\n",
              "      <th></th>\n",
              "      <th>team2</th>\n",
              "    </tr>\n",
              "  </thead>\n",
              "  <tbody>\n",
              "    <tr>\n",
              "      <th>Delhi Daredevils</th>\n",
              "      <td>84</td>\n",
              "    </tr>\n",
              "    <tr>\n",
              "      <th>Royal Challengers Bangalore</th>\n",
              "      <td>82</td>\n",
              "    </tr>\n",
              "    <tr>\n",
              "      <th>Kolkata Knight Riders</th>\n",
              "      <td>80</td>\n",
              "    </tr>\n",
              "    <tr>\n",
              "      <th>Mumbai Indians</th>\n",
              "      <td>75</td>\n",
              "    </tr>\n",
              "    <tr>\n",
              "      <th>Kings XI Punjab</th>\n",
              "      <td>71</td>\n",
              "    </tr>\n",
              "    <tr>\n",
              "      <th>Rajasthan Royals</th>\n",
              "      <td>64</td>\n",
              "    </tr>\n",
              "    <tr>\n",
              "      <th>Chennai Super Kings</th>\n",
              "      <td>54</td>\n",
              "    </tr>\n",
              "    <tr>\n",
              "      <th>Deccan Chargers</th>\n",
              "      <td>32</td>\n",
              "    </tr>\n",
              "    <tr>\n",
              "      <th>Sunrisers Hyderabad</th>\n",
              "      <td>30</td>\n",
              "    </tr>\n",
              "    <tr>\n",
              "      <th>Pune Warriors</th>\n",
              "      <td>26</td>\n",
              "    </tr>\n",
              "    <tr>\n",
              "      <th>Gujarat Lions</th>\n",
              "      <td>16</td>\n",
              "    </tr>\n",
              "    <tr>\n",
              "      <th>Rising Pune Supergiants</th>\n",
              "      <td>15</td>\n",
              "    </tr>\n",
              "    <tr>\n",
              "      <th>Kochi Tuskers Kerala</th>\n",
              "      <td>7</td>\n",
              "    </tr>\n",
              "  </tbody>\n",
              "</table>\n",
              "</div>"
            ],
            "text/plain": [
              "                             team2\n",
              "Delhi Daredevils                84\n",
              "Royal Challengers Bangalore     82\n",
              "Kolkata Knight Riders           80\n",
              "Mumbai Indians                  75\n",
              "Kings XI Punjab                 71\n",
              "Rajasthan Royals                64\n",
              "Chennai Super Kings             54\n",
              "Deccan Chargers                 32\n",
              "Sunrisers Hyderabad             30\n",
              "Pune Warriors                   26\n",
              "Gujarat Lions                   16\n",
              "Rising Pune Supergiants         15\n",
              "Kochi Tuskers Kerala             7"
            ]
          },
          "metadata": {},
          "execution_count": 247
        }
      ]
    },
    {
      "cell_type": "code",
      "metadata": {
        "id": "YZjmlVJAHTQG"
      },
      "source": [
        "df1=matches_df.pivot_table(values='team2',index='team1',aggfunc='count')"
      ],
      "execution_count": null,
      "outputs": []
    },
    {
      "cell_type": "code",
      "metadata": {
        "id": "d4TGhE-yx9V6"
      },
      "source": [
        "df1.reset_index(level=0,inplace=True)"
      ],
      "execution_count": null,
      "outputs": []
    },
    {
      "cell_type": "code",
      "metadata": {
        "colab": {
          "base_uri": "https://localhost:8080/",
          "height": 457
        },
        "id": "cQBV52T3x-eY",
        "outputId": "eac1b35f-6342-4195-f43a-7b401a2d616d"
      },
      "source": [
        "df1=df1.rename(columns={'team1':'team','team2':'Matches'})\n",
        "df1"
      ],
      "execution_count": null,
      "outputs": [
        {
          "output_type": "execute_result",
          "data": {
            "text/html": [
              "<div>\n",
              "<style scoped>\n",
              "    .dataframe tbody tr th:only-of-type {\n",
              "        vertical-align: middle;\n",
              "    }\n",
              "\n",
              "    .dataframe tbody tr th {\n",
              "        vertical-align: top;\n",
              "    }\n",
              "\n",
              "    .dataframe thead th {\n",
              "        text-align: right;\n",
              "    }\n",
              "</style>\n",
              "<table border=\"1\" class=\"dataframe\">\n",
              "  <thead>\n",
              "    <tr style=\"text-align: right;\">\n",
              "      <th></th>\n",
              "      <th>team</th>\n",
              "      <th>Matches</th>\n",
              "    </tr>\n",
              "  </thead>\n",
              "  <tbody>\n",
              "    <tr>\n",
              "      <th>0</th>\n",
              "      <td>Chennai Super Kings</td>\n",
              "      <td>77</td>\n",
              "    </tr>\n",
              "    <tr>\n",
              "      <th>1</th>\n",
              "      <td>Deccan Chargers</td>\n",
              "      <td>43</td>\n",
              "    </tr>\n",
              "    <tr>\n",
              "      <th>2</th>\n",
              "      <td>Delhi Daredevils</td>\n",
              "      <td>63</td>\n",
              "    </tr>\n",
              "    <tr>\n",
              "      <th>3</th>\n",
              "      <td>Gujarat Lions</td>\n",
              "      <td>14</td>\n",
              "    </tr>\n",
              "    <tr>\n",
              "      <th>4</th>\n",
              "      <td>Kings XI Punjab</td>\n",
              "      <td>77</td>\n",
              "    </tr>\n",
              "    <tr>\n",
              "      <th>5</th>\n",
              "      <td>Kochi Tuskers Kerala</td>\n",
              "      <td>7</td>\n",
              "    </tr>\n",
              "    <tr>\n",
              "      <th>6</th>\n",
              "      <td>Kolkata Knight Riders</td>\n",
              "      <td>68</td>\n",
              "    </tr>\n",
              "    <tr>\n",
              "      <th>7</th>\n",
              "      <td>Mumbai Indians</td>\n",
              "      <td>82</td>\n",
              "    </tr>\n",
              "    <tr>\n",
              "      <th>8</th>\n",
              "      <td>Pune Warriors</td>\n",
              "      <td>20</td>\n",
              "    </tr>\n",
              "    <tr>\n",
              "      <th>9</th>\n",
              "      <td>Rajasthan Royals</td>\n",
              "      <td>54</td>\n",
              "    </tr>\n",
              "    <tr>\n",
              "      <th>10</th>\n",
              "      <td>Rising Pune Supergiants</td>\n",
              "      <td>15</td>\n",
              "    </tr>\n",
              "    <tr>\n",
              "      <th>11</th>\n",
              "      <td>Royal Challengers Bangalore</td>\n",
              "      <td>70</td>\n",
              "    </tr>\n",
              "    <tr>\n",
              "      <th>12</th>\n",
              "      <td>Sunrisers Hyderabad</td>\n",
              "      <td>46</td>\n",
              "    </tr>\n",
              "  </tbody>\n",
              "</table>\n",
              "</div>"
            ],
            "text/plain": [
              "                           team  Matches\n",
              "0           Chennai Super Kings       77\n",
              "1               Deccan Chargers       43\n",
              "2              Delhi Daredevils       63\n",
              "3                 Gujarat Lions       14\n",
              "4               Kings XI Punjab       77\n",
              "5          Kochi Tuskers Kerala        7\n",
              "6         Kolkata Knight Riders       68\n",
              "7                Mumbai Indians       82\n",
              "8                 Pune Warriors       20\n",
              "9              Rajasthan Royals       54\n",
              "10      Rising Pune Supergiants       15\n",
              "11  Royal Challengers Bangalore       70\n",
              "12          Sunrisers Hyderabad       46"
            ]
          },
          "metadata": {},
          "execution_count": 250
        }
      ]
    },
    {
      "cell_type": "code",
      "metadata": {
        "colab": {
          "base_uri": "https://localhost:8080/",
          "height": 457
        },
        "id": "MlrN62LXyK2Q",
        "outputId": "1eb7776d-3d46-43d7-bba6-f716dc9bcb1b"
      },
      "source": [
        "df2=matches_df.pivot_table(values='team1',index='team2',aggfunc='count')\n",
        "df2.reset_index(level=0,inplace=True)\n",
        "df2=df2.rename(columns={'team1':'Matches','team2':'team'})\n",
        "df2"
      ],
      "execution_count": null,
      "outputs": [
        {
          "output_type": "execute_result",
          "data": {
            "text/html": [
              "<div>\n",
              "<style scoped>\n",
              "    .dataframe tbody tr th:only-of-type {\n",
              "        vertical-align: middle;\n",
              "    }\n",
              "\n",
              "    .dataframe tbody tr th {\n",
              "        vertical-align: top;\n",
              "    }\n",
              "\n",
              "    .dataframe thead th {\n",
              "        text-align: right;\n",
              "    }\n",
              "</style>\n",
              "<table border=\"1\" class=\"dataframe\">\n",
              "  <thead>\n",
              "    <tr style=\"text-align: right;\">\n",
              "      <th></th>\n",
              "      <th>team</th>\n",
              "      <th>Matches</th>\n",
              "    </tr>\n",
              "  </thead>\n",
              "  <tbody>\n",
              "    <tr>\n",
              "      <th>0</th>\n",
              "      <td>Chennai Super Kings</td>\n",
              "      <td>54</td>\n",
              "    </tr>\n",
              "    <tr>\n",
              "      <th>1</th>\n",
              "      <td>Deccan Chargers</td>\n",
              "      <td>32</td>\n",
              "    </tr>\n",
              "    <tr>\n",
              "      <th>2</th>\n",
              "      <td>Delhi Daredevils</td>\n",
              "      <td>84</td>\n",
              "    </tr>\n",
              "    <tr>\n",
              "      <th>3</th>\n",
              "      <td>Gujarat Lions</td>\n",
              "      <td>16</td>\n",
              "    </tr>\n",
              "    <tr>\n",
              "      <th>4</th>\n",
              "      <td>Kings XI Punjab</td>\n",
              "      <td>71</td>\n",
              "    </tr>\n",
              "    <tr>\n",
              "      <th>5</th>\n",
              "      <td>Kochi Tuskers Kerala</td>\n",
              "      <td>7</td>\n",
              "    </tr>\n",
              "    <tr>\n",
              "      <th>6</th>\n",
              "      <td>Kolkata Knight Riders</td>\n",
              "      <td>80</td>\n",
              "    </tr>\n",
              "    <tr>\n",
              "      <th>7</th>\n",
              "      <td>Mumbai Indians</td>\n",
              "      <td>75</td>\n",
              "    </tr>\n",
              "    <tr>\n",
              "      <th>8</th>\n",
              "      <td>Pune Warriors</td>\n",
              "      <td>26</td>\n",
              "    </tr>\n",
              "    <tr>\n",
              "      <th>9</th>\n",
              "      <td>Rajasthan Royals</td>\n",
              "      <td>64</td>\n",
              "    </tr>\n",
              "    <tr>\n",
              "      <th>10</th>\n",
              "      <td>Rising Pune Supergiants</td>\n",
              "      <td>15</td>\n",
              "    </tr>\n",
              "    <tr>\n",
              "      <th>11</th>\n",
              "      <td>Royal Challengers Bangalore</td>\n",
              "      <td>82</td>\n",
              "    </tr>\n",
              "    <tr>\n",
              "      <th>12</th>\n",
              "      <td>Sunrisers Hyderabad</td>\n",
              "      <td>30</td>\n",
              "    </tr>\n",
              "  </tbody>\n",
              "</table>\n",
              "</div>"
            ],
            "text/plain": [
              "                           team  Matches\n",
              "0           Chennai Super Kings       54\n",
              "1               Deccan Chargers       32\n",
              "2              Delhi Daredevils       84\n",
              "3                 Gujarat Lions       16\n",
              "4               Kings XI Punjab       71\n",
              "5          Kochi Tuskers Kerala        7\n",
              "6         Kolkata Knight Riders       80\n",
              "7                Mumbai Indians       75\n",
              "8                 Pune Warriors       26\n",
              "9              Rajasthan Royals       64\n",
              "10      Rising Pune Supergiants       15\n",
              "11  Royal Challengers Bangalore       82\n",
              "12          Sunrisers Hyderabad       30"
            ]
          },
          "metadata": {},
          "execution_count": 251
        }
      ]
    },
    {
      "cell_type": "code",
      "metadata": {
        "colab": {
          "base_uri": "https://localhost:8080/",
          "height": 865
        },
        "id": "V1uhVESy0BZN",
        "outputId": "1fa9eee1-2047-4a47-ba4e-8ee87e066962"
      },
      "source": [
        "df=df1.append(df2)\n",
        "df"
      ],
      "execution_count": null,
      "outputs": [
        {
          "output_type": "execute_result",
          "data": {
            "text/html": [
              "<div>\n",
              "<style scoped>\n",
              "    .dataframe tbody tr th:only-of-type {\n",
              "        vertical-align: middle;\n",
              "    }\n",
              "\n",
              "    .dataframe tbody tr th {\n",
              "        vertical-align: top;\n",
              "    }\n",
              "\n",
              "    .dataframe thead th {\n",
              "        text-align: right;\n",
              "    }\n",
              "</style>\n",
              "<table border=\"1\" class=\"dataframe\">\n",
              "  <thead>\n",
              "    <tr style=\"text-align: right;\">\n",
              "      <th></th>\n",
              "      <th>team</th>\n",
              "      <th>Matches</th>\n",
              "    </tr>\n",
              "  </thead>\n",
              "  <tbody>\n",
              "    <tr>\n",
              "      <th>0</th>\n",
              "      <td>Chennai Super Kings</td>\n",
              "      <td>77</td>\n",
              "    </tr>\n",
              "    <tr>\n",
              "      <th>1</th>\n",
              "      <td>Deccan Chargers</td>\n",
              "      <td>43</td>\n",
              "    </tr>\n",
              "    <tr>\n",
              "      <th>2</th>\n",
              "      <td>Delhi Daredevils</td>\n",
              "      <td>63</td>\n",
              "    </tr>\n",
              "    <tr>\n",
              "      <th>3</th>\n",
              "      <td>Gujarat Lions</td>\n",
              "      <td>14</td>\n",
              "    </tr>\n",
              "    <tr>\n",
              "      <th>4</th>\n",
              "      <td>Kings XI Punjab</td>\n",
              "      <td>77</td>\n",
              "    </tr>\n",
              "    <tr>\n",
              "      <th>5</th>\n",
              "      <td>Kochi Tuskers Kerala</td>\n",
              "      <td>7</td>\n",
              "    </tr>\n",
              "    <tr>\n",
              "      <th>6</th>\n",
              "      <td>Kolkata Knight Riders</td>\n",
              "      <td>68</td>\n",
              "    </tr>\n",
              "    <tr>\n",
              "      <th>7</th>\n",
              "      <td>Mumbai Indians</td>\n",
              "      <td>82</td>\n",
              "    </tr>\n",
              "    <tr>\n",
              "      <th>8</th>\n",
              "      <td>Pune Warriors</td>\n",
              "      <td>20</td>\n",
              "    </tr>\n",
              "    <tr>\n",
              "      <th>9</th>\n",
              "      <td>Rajasthan Royals</td>\n",
              "      <td>54</td>\n",
              "    </tr>\n",
              "    <tr>\n",
              "      <th>10</th>\n",
              "      <td>Rising Pune Supergiants</td>\n",
              "      <td>15</td>\n",
              "    </tr>\n",
              "    <tr>\n",
              "      <th>11</th>\n",
              "      <td>Royal Challengers Bangalore</td>\n",
              "      <td>70</td>\n",
              "    </tr>\n",
              "    <tr>\n",
              "      <th>12</th>\n",
              "      <td>Sunrisers Hyderabad</td>\n",
              "      <td>46</td>\n",
              "    </tr>\n",
              "    <tr>\n",
              "      <th>0</th>\n",
              "      <td>Chennai Super Kings</td>\n",
              "      <td>54</td>\n",
              "    </tr>\n",
              "    <tr>\n",
              "      <th>1</th>\n",
              "      <td>Deccan Chargers</td>\n",
              "      <td>32</td>\n",
              "    </tr>\n",
              "    <tr>\n",
              "      <th>2</th>\n",
              "      <td>Delhi Daredevils</td>\n",
              "      <td>84</td>\n",
              "    </tr>\n",
              "    <tr>\n",
              "      <th>3</th>\n",
              "      <td>Gujarat Lions</td>\n",
              "      <td>16</td>\n",
              "    </tr>\n",
              "    <tr>\n",
              "      <th>4</th>\n",
              "      <td>Kings XI Punjab</td>\n",
              "      <td>71</td>\n",
              "    </tr>\n",
              "    <tr>\n",
              "      <th>5</th>\n",
              "      <td>Kochi Tuskers Kerala</td>\n",
              "      <td>7</td>\n",
              "    </tr>\n",
              "    <tr>\n",
              "      <th>6</th>\n",
              "      <td>Kolkata Knight Riders</td>\n",
              "      <td>80</td>\n",
              "    </tr>\n",
              "    <tr>\n",
              "      <th>7</th>\n",
              "      <td>Mumbai Indians</td>\n",
              "      <td>75</td>\n",
              "    </tr>\n",
              "    <tr>\n",
              "      <th>8</th>\n",
              "      <td>Pune Warriors</td>\n",
              "      <td>26</td>\n",
              "    </tr>\n",
              "    <tr>\n",
              "      <th>9</th>\n",
              "      <td>Rajasthan Royals</td>\n",
              "      <td>64</td>\n",
              "    </tr>\n",
              "    <tr>\n",
              "      <th>10</th>\n",
              "      <td>Rising Pune Supergiants</td>\n",
              "      <td>15</td>\n",
              "    </tr>\n",
              "    <tr>\n",
              "      <th>11</th>\n",
              "      <td>Royal Challengers Bangalore</td>\n",
              "      <td>82</td>\n",
              "    </tr>\n",
              "    <tr>\n",
              "      <th>12</th>\n",
              "      <td>Sunrisers Hyderabad</td>\n",
              "      <td>30</td>\n",
              "    </tr>\n",
              "  </tbody>\n",
              "</table>\n",
              "</div>"
            ],
            "text/plain": [
              "                           team  Matches\n",
              "0           Chennai Super Kings       77\n",
              "1               Deccan Chargers       43\n",
              "2              Delhi Daredevils       63\n",
              "3                 Gujarat Lions       14\n",
              "4               Kings XI Punjab       77\n",
              "5          Kochi Tuskers Kerala        7\n",
              "6         Kolkata Knight Riders       68\n",
              "7                Mumbai Indians       82\n",
              "8                 Pune Warriors       20\n",
              "9              Rajasthan Royals       54\n",
              "10      Rising Pune Supergiants       15\n",
              "11  Royal Challengers Bangalore       70\n",
              "12          Sunrisers Hyderabad       46\n",
              "0           Chennai Super Kings       54\n",
              "1               Deccan Chargers       32\n",
              "2              Delhi Daredevils       84\n",
              "3                 Gujarat Lions       16\n",
              "4               Kings XI Punjab       71\n",
              "5          Kochi Tuskers Kerala        7\n",
              "6         Kolkata Knight Riders       80\n",
              "7                Mumbai Indians       75\n",
              "8                 Pune Warriors       26\n",
              "9              Rajasthan Royals       64\n",
              "10      Rising Pune Supergiants       15\n",
              "11  Royal Challengers Bangalore       82\n",
              "12          Sunrisers Hyderabad       30"
            ]
          },
          "metadata": {},
          "execution_count": 252
        }
      ]
    },
    {
      "cell_type": "code",
      "metadata": {
        "colab": {
          "base_uri": "https://localhost:8080/",
          "height": 488
        },
        "id": "KDqhqE_k1VEn",
        "outputId": "528f851d-8a54-4346-8b52-adc5808f0c00"
      },
      "source": [
        "count_df=pd.DataFrame(df.groupby('team').Matches.sum())\n",
        "count_df"
      ],
      "execution_count": null,
      "outputs": [
        {
          "output_type": "execute_result",
          "data": {
            "text/html": [
              "<div>\n",
              "<style scoped>\n",
              "    .dataframe tbody tr th:only-of-type {\n",
              "        vertical-align: middle;\n",
              "    }\n",
              "\n",
              "    .dataframe tbody tr th {\n",
              "        vertical-align: top;\n",
              "    }\n",
              "\n",
              "    .dataframe thead th {\n",
              "        text-align: right;\n",
              "    }\n",
              "</style>\n",
              "<table border=\"1\" class=\"dataframe\">\n",
              "  <thead>\n",
              "    <tr style=\"text-align: right;\">\n",
              "      <th></th>\n",
              "      <th>Matches</th>\n",
              "    </tr>\n",
              "    <tr>\n",
              "      <th>team</th>\n",
              "      <th></th>\n",
              "    </tr>\n",
              "  </thead>\n",
              "  <tbody>\n",
              "    <tr>\n",
              "      <th>Chennai Super Kings</th>\n",
              "      <td>131</td>\n",
              "    </tr>\n",
              "    <tr>\n",
              "      <th>Deccan Chargers</th>\n",
              "      <td>75</td>\n",
              "    </tr>\n",
              "    <tr>\n",
              "      <th>Delhi Daredevils</th>\n",
              "      <td>147</td>\n",
              "    </tr>\n",
              "    <tr>\n",
              "      <th>Gujarat Lions</th>\n",
              "      <td>30</td>\n",
              "    </tr>\n",
              "    <tr>\n",
              "      <th>Kings XI Punjab</th>\n",
              "      <td>148</td>\n",
              "    </tr>\n",
              "    <tr>\n",
              "      <th>Kochi Tuskers Kerala</th>\n",
              "      <td>14</td>\n",
              "    </tr>\n",
              "    <tr>\n",
              "      <th>Kolkata Knight Riders</th>\n",
              "      <td>148</td>\n",
              "    </tr>\n",
              "    <tr>\n",
              "      <th>Mumbai Indians</th>\n",
              "      <td>157</td>\n",
              "    </tr>\n",
              "    <tr>\n",
              "      <th>Pune Warriors</th>\n",
              "      <td>46</td>\n",
              "    </tr>\n",
              "    <tr>\n",
              "      <th>Rajasthan Royals</th>\n",
              "      <td>118</td>\n",
              "    </tr>\n",
              "    <tr>\n",
              "      <th>Rising Pune Supergiants</th>\n",
              "      <td>30</td>\n",
              "    </tr>\n",
              "    <tr>\n",
              "      <th>Royal Challengers Bangalore</th>\n",
              "      <td>152</td>\n",
              "    </tr>\n",
              "    <tr>\n",
              "      <th>Sunrisers Hyderabad</th>\n",
              "      <td>76</td>\n",
              "    </tr>\n",
              "  </tbody>\n",
              "</table>\n",
              "</div>"
            ],
            "text/plain": [
              "                             Matches\n",
              "team                                \n",
              "Chennai Super Kings              131\n",
              "Deccan Chargers                   75\n",
              "Delhi Daredevils                 147\n",
              "Gujarat Lions                     30\n",
              "Kings XI Punjab                  148\n",
              "Kochi Tuskers Kerala              14\n",
              "Kolkata Knight Riders            148\n",
              "Mumbai Indians                   157\n",
              "Pune Warriors                     46\n",
              "Rajasthan Royals                 118\n",
              "Rising Pune Supergiants           30\n",
              "Royal Challengers Bangalore      152\n",
              "Sunrisers Hyderabad               76"
            ]
          },
          "metadata": {},
          "execution_count": 255
        }
      ]
    },
    {
      "cell_type": "code",
      "metadata": {
        "colab": {
          "base_uri": "https://localhost:8080/",
          "height": 488
        },
        "id": "e2iCcsHG1qjD",
        "outputId": "2f8e57a0-1976-4313-f33d-54279964d2c9"
      },
      "source": [
        "count_df.sort_values(ascending=True,by='Matches')"
      ],
      "execution_count": null,
      "outputs": [
        {
          "output_type": "execute_result",
          "data": {
            "text/html": [
              "<div>\n",
              "<style scoped>\n",
              "    .dataframe tbody tr th:only-of-type {\n",
              "        vertical-align: middle;\n",
              "    }\n",
              "\n",
              "    .dataframe tbody tr th {\n",
              "        vertical-align: top;\n",
              "    }\n",
              "\n",
              "    .dataframe thead th {\n",
              "        text-align: right;\n",
              "    }\n",
              "</style>\n",
              "<table border=\"1\" class=\"dataframe\">\n",
              "  <thead>\n",
              "    <tr style=\"text-align: right;\">\n",
              "      <th></th>\n",
              "      <th>Matches</th>\n",
              "    </tr>\n",
              "    <tr>\n",
              "      <th>team</th>\n",
              "      <th></th>\n",
              "    </tr>\n",
              "  </thead>\n",
              "  <tbody>\n",
              "    <tr>\n",
              "      <th>Kochi Tuskers Kerala</th>\n",
              "      <td>14</td>\n",
              "    </tr>\n",
              "    <tr>\n",
              "      <th>Gujarat Lions</th>\n",
              "      <td>30</td>\n",
              "    </tr>\n",
              "    <tr>\n",
              "      <th>Rising Pune Supergiants</th>\n",
              "      <td>30</td>\n",
              "    </tr>\n",
              "    <tr>\n",
              "      <th>Pune Warriors</th>\n",
              "      <td>46</td>\n",
              "    </tr>\n",
              "    <tr>\n",
              "      <th>Deccan Chargers</th>\n",
              "      <td>75</td>\n",
              "    </tr>\n",
              "    <tr>\n",
              "      <th>Sunrisers Hyderabad</th>\n",
              "      <td>76</td>\n",
              "    </tr>\n",
              "    <tr>\n",
              "      <th>Rajasthan Royals</th>\n",
              "      <td>118</td>\n",
              "    </tr>\n",
              "    <tr>\n",
              "      <th>Chennai Super Kings</th>\n",
              "      <td>131</td>\n",
              "    </tr>\n",
              "    <tr>\n",
              "      <th>Delhi Daredevils</th>\n",
              "      <td>147</td>\n",
              "    </tr>\n",
              "    <tr>\n",
              "      <th>Kings XI Punjab</th>\n",
              "      <td>148</td>\n",
              "    </tr>\n",
              "    <tr>\n",
              "      <th>Kolkata Knight Riders</th>\n",
              "      <td>148</td>\n",
              "    </tr>\n",
              "    <tr>\n",
              "      <th>Royal Challengers Bangalore</th>\n",
              "      <td>152</td>\n",
              "    </tr>\n",
              "    <tr>\n",
              "      <th>Mumbai Indians</th>\n",
              "      <td>157</td>\n",
              "    </tr>\n",
              "  </tbody>\n",
              "</table>\n",
              "</div>"
            ],
            "text/plain": [
              "                             Matches\n",
              "team                                \n",
              "Kochi Tuskers Kerala              14\n",
              "Gujarat Lions                     30\n",
              "Rising Pune Supergiants           30\n",
              "Pune Warriors                     46\n",
              "Deccan Chargers                   75\n",
              "Sunrisers Hyderabad               76\n",
              "Rajasthan Royals                 118\n",
              "Chennai Super Kings              131\n",
              "Delhi Daredevils                 147\n",
              "Kings XI Punjab                  148\n",
              "Kolkata Knight Riders            148\n",
              "Royal Challengers Bangalore      152\n",
              "Mumbai Indians                   157"
            ]
          },
          "metadata": {},
          "execution_count": 261
        }
      ]
    },
    {
      "cell_type": "code",
      "metadata": {
        "colab": {
          "base_uri": "https://localhost:8080/",
          "height": 336
        },
        "id": "KhK3_4Bn2OUp",
        "outputId": "a8cd3ff0-f758-4955-9bd3-55858e9ff167"
      },
      "source": [
        "plt.figure(figsize=(15,5))\n",
        "plt.title(\"Total No Of Matches Played\")\n",
        "plt.barh(count_df.index,count_df['Matches'])\n",
        "plt.show()"
      ],
      "execution_count": null,
      "outputs": [
        {
          "output_type": "display_data",
          "data": {
            "image/png": "[encoded data removed]",
            "text/plain": [
              "<Figure size 1080x360 with 1 Axes>"
            ]
          },
          "metadata": {
            "needs_background": "light"
          }
        }
      ]
    },
    {
      "cell_type": "code",
      "metadata": {
        "colab": {
          "base_uri": "https://localhost:8080/",
          "height": 573
        },
        "id": "gmIVvZu93tGT",
        "outputId": "135d029c-d20a-4e90-deeb-ac28aec496b9"
      },
      "source": [
        "ipl_df.head()"
      ],
      "execution_count": null,
      "outputs": [
        {
          "output_type": "execute_result",
          "data": {
            "text/html": [
              "<div>\n",
              "<style scoped>\n",
              "    .dataframe tbody tr th:only-of-type {\n",
              "        vertical-align: middle;\n",
              "    }\n",
              "\n",
              "    .dataframe tbody tr th {\n",
              "        vertical-align: top;\n",
              "    }\n",
              "\n",
              "    .dataframe thead th {\n",
              "        text-align: right;\n",
              "    }\n",
              "</style>\n",
              "<table border=\"1\" class=\"dataframe\">\n",
              "  <thead>\n",
              "    <tr style=\"text-align: right;\">\n",
              "      <th></th>\n",
              "      <th>match_id</th>\n",
              "      <th>season</th>\n",
              "      <th>city</th>\n",
              "      <th>date</th>\n",
              "      <th>team1</th>\n",
              "      <th>team2</th>\n",
              "      <th>toss_winner</th>\n",
              "      <th>toss_decision</th>\n",
              "      <th>result</th>\n",
              "      <th>dl_applied</th>\n",
              "      <th>winner</th>\n",
              "      <th>win_by_runs</th>\n",
              "      <th>win_by_wickets</th>\n",
              "      <th>player_of_match</th>\n",
              "      <th>venue</th>\n",
              "      <th>umpire1</th>\n",
              "      <th>umpire2</th>\n",
              "      <th>umpire3</th>\n",
              "      <th>inning</th>\n",
              "      <th>batting_team</th>\n",
              "      <th>bowling_team</th>\n",
              "      <th>over</th>\n",
              "      <th>ball</th>\n",
              "      <th>batsman</th>\n",
              "      <th>non_striker</th>\n",
              "      <th>bowler</th>\n",
              "      <th>is_super_over</th>\n",
              "      <th>wide_runs</th>\n",
              "      <th>bye_runs</th>\n",
              "      <th>legbye_runs</th>\n",
              "      <th>noball_runs</th>\n",
              "      <th>penalty_runs</th>\n",
              "      <th>batsman_runs</th>\n",
              "      <th>extra_runs</th>\n",
              "      <th>total_runs</th>\n",
              "      <th>player_dismissed</th>\n",
              "      <th>dismissal_kind</th>\n",
              "      <th>fielder</th>\n",
              "    </tr>\n",
              "  </thead>\n",
              "  <tbody>\n",
              "    <tr>\n",
              "      <th>0</th>\n",
              "      <td>1</td>\n",
              "      <td>2017</td>\n",
              "      <td>Hyderabad</td>\n",
              "      <td>05-04-2017</td>\n",
              "      <td>Sunrisers Hyderabad</td>\n",
              "      <td>Royal Challengers Bangalore</td>\n",
              "      <td>Royal Challengers Bangalore</td>\n",
              "      <td>field</td>\n",
              "      <td>normal</td>\n",
              "      <td>0</td>\n",
              "      <td>Sunrisers Hyderabad</td>\n",
              "      <td>35</td>\n",
              "      <td>0</td>\n",
              "      <td>Yuvraj Singh</td>\n",
              "      <td>Rajiv Gandhi International Stadium, Uppal</td>\n",
              "      <td>AY Dandekar</td>\n",
              "      <td>NJ Llong</td>\n",
              "      <td>0</td>\n",
              "      <td>1</td>\n",
              "      <td>Sunrisers Hyderabad</td>\n",
              "      <td>Royal Challengers Bangalore</td>\n",
              "      <td>1</td>\n",
              "      <td>1</td>\n",
              "      <td>DA Warner</td>\n",
              "      <td>S Dhawan</td>\n",
              "      <td>TS Mills</td>\n",
              "      <td>0</td>\n",
              "      <td>0</td>\n",
              "      <td>0</td>\n",
              "      <td>0</td>\n",
              "      <td>0</td>\n",
              "      <td>0</td>\n",
              "      <td>0</td>\n",
              "      <td>0</td>\n",
              "      <td>0</td>\n",
              "      <td>0</td>\n",
              "      <td>0</td>\n",
              "      <td>0</td>\n",
              "    </tr>\n",
              "    <tr>\n",
              "      <th>1</th>\n",
              "      <td>1</td>\n",
              "      <td>2017</td>\n",
              "      <td>Hyderabad</td>\n",
              "      <td>05-04-2017</td>\n",
              "      <td>Sunrisers Hyderabad</td>\n",
              "      <td>Royal Challengers Bangalore</td>\n",
              "      <td>Royal Challengers Bangalore</td>\n",
              "      <td>field</td>\n",
              "      <td>normal</td>\n",
              "      <td>0</td>\n",
              "      <td>Sunrisers Hyderabad</td>\n",
              "      <td>35</td>\n",
              "      <td>0</td>\n",
              "      <td>Yuvraj Singh</td>\n",
              "      <td>Rajiv Gandhi International Stadium, Uppal</td>\n",
              "      <td>AY Dandekar</td>\n",
              "      <td>NJ Llong</td>\n",
              "      <td>0</td>\n",
              "      <td>1</td>\n",
              "      <td>Sunrisers Hyderabad</td>\n",
              "      <td>Royal Challengers Bangalore</td>\n",
              "      <td>1</td>\n",
              "      <td>2</td>\n",
              "      <td>DA Warner</td>\n",
              "      <td>S Dhawan</td>\n",
              "      <td>TS Mills</td>\n",
              "      <td>0</td>\n",
              "      <td>0</td>\n",
              "      <td>0</td>\n",
              "      <td>0</td>\n",
              "      <td>0</td>\n",
              "      <td>0</td>\n",
              "      <td>0</td>\n",
              "      <td>0</td>\n",
              "      <td>0</td>\n",
              "      <td>0</td>\n",
              "      <td>0</td>\n",
              "      <td>0</td>\n",
              "    </tr>\n",
              "    <tr>\n",
              "      <th>2</th>\n",
              "      <td>1</td>\n",
              "      <td>2017</td>\n",
              "      <td>Hyderabad</td>\n",
              "      <td>05-04-2017</td>\n",
              "      <td>Sunrisers Hyderabad</td>\n",
              "      <td>Royal Challengers Bangalore</td>\n",
              "      <td>Royal Challengers Bangalore</td>\n",
              "      <td>field</td>\n",
              "      <td>normal</td>\n",
              "      <td>0</td>\n",
              "      <td>Sunrisers Hyderabad</td>\n",
              "      <td>35</td>\n",
              "      <td>0</td>\n",
              "      <td>Yuvraj Singh</td>\n",
              "      <td>Rajiv Gandhi International Stadium, Uppal</td>\n",
              "      <td>AY Dandekar</td>\n",
              "      <td>NJ Llong</td>\n",
              "      <td>0</td>\n",
              "      <td>1</td>\n",
              "      <td>Sunrisers Hyderabad</td>\n",
              "      <td>Royal Challengers Bangalore</td>\n",
              "      <td>1</td>\n",
              "      <td>3</td>\n",
              "      <td>DA Warner</td>\n",
              "      <td>S Dhawan</td>\n",
              "      <td>TS Mills</td>\n",
              "      <td>0</td>\n",
              "      <td>0</td>\n",
              "      <td>0</td>\n",
              "      <td>0</td>\n",
              "      <td>0</td>\n",
              "      <td>0</td>\n",
              "      <td>4</td>\n",
              "      <td>0</td>\n",
              "      <td>4</td>\n",
              "      <td>0</td>\n",
              "      <td>0</td>\n",
              "      <td>0</td>\n",
              "    </tr>\n",
              "    <tr>\n",
              "      <th>3</th>\n",
              "      <td>1</td>\n",
              "      <td>2017</td>\n",
              "      <td>Hyderabad</td>\n",
              "      <td>05-04-2017</td>\n",
              "      <td>Sunrisers Hyderabad</td>\n",
              "      <td>Royal Challengers Bangalore</td>\n",
              "      <td>Royal Challengers Bangalore</td>\n",
              "      <td>field</td>\n",
              "      <td>normal</td>\n",
              "      <td>0</td>\n",
              "      <td>Sunrisers Hyderabad</td>\n",
              "      <td>35</td>\n",
              "      <td>0</td>\n",
              "      <td>Yuvraj Singh</td>\n",
              "      <td>Rajiv Gandhi International Stadium, Uppal</td>\n",
              "      <td>AY Dandekar</td>\n",
              "      <td>NJ Llong</td>\n",
              "      <td>0</td>\n",
              "      <td>1</td>\n",
              "      <td>Sunrisers Hyderabad</td>\n",
              "      <td>Royal Challengers Bangalore</td>\n",
              "      <td>1</td>\n",
              "      <td>4</td>\n",
              "      <td>DA Warner</td>\n",
              "      <td>S Dhawan</td>\n",
              "      <td>TS Mills</td>\n",
              "      <td>0</td>\n",
              "      <td>0</td>\n",
              "      <td>0</td>\n",
              "      <td>0</td>\n",
              "      <td>0</td>\n",
              "      <td>0</td>\n",
              "      <td>0</td>\n",
              "      <td>0</td>\n",
              "      <td>0</td>\n",
              "      <td>0</td>\n",
              "      <td>0</td>\n",
              "      <td>0</td>\n",
              "    </tr>\n",
              "    <tr>\n",
              "      <th>4</th>\n",
              "      <td>1</td>\n",
              "      <td>2017</td>\n",
              "      <td>Hyderabad</td>\n",
              "      <td>05-04-2017</td>\n",
              "      <td>Sunrisers Hyderabad</td>\n",
              "      <td>Royal Challengers Bangalore</td>\n",
              "      <td>Royal Challengers Bangalore</td>\n",
              "      <td>field</td>\n",
              "      <td>normal</td>\n",
              "      <td>0</td>\n",
              "      <td>Sunrisers Hyderabad</td>\n",
              "      <td>35</td>\n",
              "      <td>0</td>\n",
              "      <td>Yuvraj Singh</td>\n",
              "      <td>Rajiv Gandhi International Stadium, Uppal</td>\n",
              "      <td>AY Dandekar</td>\n",
              "      <td>NJ Llong</td>\n",
              "      <td>0</td>\n",
              "      <td>1</td>\n",
              "      <td>Sunrisers Hyderabad</td>\n",
              "      <td>Royal Challengers Bangalore</td>\n",
              "      <td>1</td>\n",
              "      <td>5</td>\n",
              "      <td>DA Warner</td>\n",
              "      <td>S Dhawan</td>\n",
              "      <td>TS Mills</td>\n",
              "      <td>0</td>\n",
              "      <td>2</td>\n",
              "      <td>0</td>\n",
              "      <td>0</td>\n",
              "      <td>0</td>\n",
              "      <td>0</td>\n",
              "      <td>0</td>\n",
              "      <td>2</td>\n",
              "      <td>2</td>\n",
              "      <td>0</td>\n",
              "      <td>0</td>\n",
              "      <td>0</td>\n",
              "    </tr>\n",
              "  </tbody>\n",
              "</table>\n",
              "</div>"
            ],
            "text/plain": [
              "   match_id  season       city  ... player_dismissed dismissal_kind fielder\n",
              "0         1    2017  Hyderabad  ...                0              0       0\n",
              "1         1    2017  Hyderabad  ...                0              0       0\n",
              "2         1    2017  Hyderabad  ...                0              0       0\n",
              "3         1    2017  Hyderabad  ...                0              0       0\n",
              "4         1    2017  Hyderabad  ...                0              0       0\n",
              "\n",
              "[5 rows x 38 columns]"
            ]
          },
          "metadata": {},
          "execution_count": 265
        }
      ]
    },
    {
      "cell_type": "code",
      "metadata": {
        "colab": {
          "base_uri": "https://localhost:8080/",
          "height": 423
        },
        "id": "SYlhsVWJ4JvQ",
        "outputId": "483cb01f-f71a-4749-95ee-f1c568d76644"
      },
      "source": [
        "ipl_4=ipl_df[ipl_df['batsman_runs']==4]\n",
        "foures=pd.DataFrame(ipl_4['batsman'].value_counts())\n",
        "foures"
      ],
      "execution_count": null,
      "outputs": [
        {
          "output_type": "execute_result",
          "data": {
            "text/html": [
              "<div>\n",
              "<style scoped>\n",
              "    .dataframe tbody tr th:only-of-type {\n",
              "        vertical-align: middle;\n",
              "    }\n",
              "\n",
              "    .dataframe tbody tr th {\n",
              "        vertical-align: top;\n",
              "    }\n",
              "\n",
              "    .dataframe thead th {\n",
              "        text-align: right;\n",
              "    }\n",
              "</style>\n",
              "<table border=\"1\" class=\"dataframe\">\n",
              "  <thead>\n",
              "    <tr style=\"text-align: right;\">\n",
              "      <th></th>\n",
              "      <th>batsman</th>\n",
              "    </tr>\n",
              "  </thead>\n",
              "  <tbody>\n",
              "    <tr>\n",
              "      <th>G Gambhir</th>\n",
              "      <td>484</td>\n",
              "    </tr>\n",
              "    <tr>\n",
              "      <th>SK Raina</th>\n",
              "      <td>402</td>\n",
              "    </tr>\n",
              "    <tr>\n",
              "      <th>S Dhawan</th>\n",
              "      <td>401</td>\n",
              "    </tr>\n",
              "    <tr>\n",
              "      <th>DA Warner</th>\n",
              "      <td>401</td>\n",
              "    </tr>\n",
              "    <tr>\n",
              "      <th>V Kohli</th>\n",
              "      <td>384</td>\n",
              "    </tr>\n",
              "    <tr>\n",
              "      <th>...</th>\n",
              "      <td>...</td>\n",
              "    </tr>\n",
              "    <tr>\n",
              "      <th>Vishnu Vinod</th>\n",
              "      <td>1</td>\n",
              "    </tr>\n",
              "    <tr>\n",
              "      <th>JM Kemp</th>\n",
              "      <td>1</td>\n",
              "    </tr>\n",
              "    <tr>\n",
              "      <th>Karanveer Singh</th>\n",
              "      <td>1</td>\n",
              "    </tr>\n",
              "    <tr>\n",
              "      <th>S Nadeem</th>\n",
              "      <td>1</td>\n",
              "    </tr>\n",
              "    <tr>\n",
              "      <th>Joginder Sharma</th>\n",
              "      <td>1</td>\n",
              "    </tr>\n",
              "  </tbody>\n",
              "</table>\n",
              "<p>368 rows × 1 columns</p>\n",
              "</div>"
            ],
            "text/plain": [
              "                 batsman\n",
              "G Gambhir            484\n",
              "SK Raina             402\n",
              "S Dhawan             401\n",
              "DA Warner            401\n",
              "V Kohli              384\n",
              "...                  ...\n",
              "Vishnu Vinod           1\n",
              "JM Kemp                1\n",
              "Karanveer Singh        1\n",
              "S Nadeem               1\n",
              "Joginder Sharma        1\n",
              "\n",
              "[368 rows x 1 columns]"
            ]
          },
          "metadata": {},
          "execution_count": 266
        }
      ]
    },
    {
      "cell_type": "code",
      "metadata": {
        "colab": {
          "base_uri": "https://localhost:8080/",
          "height": 423
        },
        "id": "MHDFP4Xu5AId",
        "outputId": "bff74fd3-1e5c-4c86-f8cb-4e28c9c6cc58"
      },
      "source": [
        "ipl_6=ipl_df[ipl_df['batsman_runs']==6]\n",
        "sixes=pd.DataFrame(ipl_6['batsman'].value_counts())\n",
        "sixes"
      ],
      "execution_count": null,
      "outputs": [
        {
          "output_type": "execute_result",
          "data": {
            "text/html": [
              "<div>\n",
              "<style scoped>\n",
              "    .dataframe tbody tr th:only-of-type {\n",
              "        vertical-align: middle;\n",
              "    }\n",
              "\n",
              "    .dataframe tbody tr th {\n",
              "        vertical-align: top;\n",
              "    }\n",
              "\n",
              "    .dataframe thead th {\n",
              "        text-align: right;\n",
              "    }\n",
              "</style>\n",
              "<table border=\"1\" class=\"dataframe\">\n",
              "  <thead>\n",
              "    <tr style=\"text-align: right;\">\n",
              "      <th></th>\n",
              "      <th>batsman</th>\n",
              "    </tr>\n",
              "  </thead>\n",
              "  <tbody>\n",
              "    <tr>\n",
              "      <th>CH Gayle</th>\n",
              "      <td>266</td>\n",
              "    </tr>\n",
              "    <tr>\n",
              "      <th>SK Raina</th>\n",
              "      <td>174</td>\n",
              "    </tr>\n",
              "    <tr>\n",
              "      <th>RG Sharma</th>\n",
              "      <td>173</td>\n",
              "    </tr>\n",
              "    <tr>\n",
              "      <th>DA Warner</th>\n",
              "      <td>160</td>\n",
              "    </tr>\n",
              "    <tr>\n",
              "      <th>V Kohli</th>\n",
              "      <td>160</td>\n",
              "    </tr>\n",
              "    <tr>\n",
              "      <th>...</th>\n",
              "      <td>...</td>\n",
              "    </tr>\n",
              "    <tr>\n",
              "      <th>K Upadhyay</th>\n",
              "      <td>1</td>\n",
              "    </tr>\n",
              "    <tr>\n",
              "      <th>R McLaren</th>\n",
              "      <td>1</td>\n",
              "    </tr>\n",
              "    <tr>\n",
              "      <th>Niraj Patel</th>\n",
              "      <td>1</td>\n",
              "    </tr>\n",
              "    <tr>\n",
              "      <th>LPC Silva</th>\n",
              "      <td>1</td>\n",
              "    </tr>\n",
              "    <tr>\n",
              "      <th>KW Richardson</th>\n",
              "      <td>1</td>\n",
              "    </tr>\n",
              "  </tbody>\n",
              "</table>\n",
              "<p>301 rows × 1 columns</p>\n",
              "</div>"
            ],
            "text/plain": [
              "               batsman\n",
              "CH Gayle           266\n",
              "SK Raina           174\n",
              "RG Sharma          173\n",
              "DA Warner          160\n",
              "V Kohli            160\n",
              "...                ...\n",
              "K Upadhyay           1\n",
              "R McLaren            1\n",
              "Niraj Patel          1\n",
              "LPC Silva            1\n",
              "KW Richardson        1\n",
              "\n",
              "[301 rows x 1 columns]"
            ]
          },
          "metadata": {},
          "execution_count": 267
        }
      ]
    },
    {
      "cell_type": "code",
      "metadata": {
        "colab": {
          "base_uri": "https://localhost:8080/"
        },
        "id": "XW_Y5Auq4wuo",
        "outputId": "11106d5d-aaed-40c6-805a-483ba6335551"
      },
      "source": [
        "pof_df=matches_df['player_of_match']\n",
        "pof_df.describe()"
      ],
      "execution_count": null,
      "outputs": [
        {
          "output_type": "execute_result",
          "data": {
            "text/plain": [
              "count          636\n",
              "unique         202\n",
              "top       CH Gayle\n",
              "freq            18\n",
              "Name: player_of_match, dtype: object"
            ]
          },
          "metadata": {},
          "execution_count": 270
        }
      ]
    },
    {
      "cell_type": "code",
      "metadata": {
        "colab": {
          "base_uri": "https://localhost:8080/"
        },
        "id": "N3uFjOzh5e1T",
        "outputId": "931a24b3-af50-417b-822f-fff09edee10d"
      },
      "source": [
        "pof_df.value_counts()"
      ],
      "execution_count": null,
      "outputs": [
        {
          "output_type": "execute_result",
          "data": {
            "text/plain": [
              "CH Gayle          18\n",
              "YK Pathan         16\n",
              "AB de Villiers    15\n",
              "DA Warner         15\n",
              "RG Sharma         14\n",
              "                  ..\n",
              "CL White           1\n",
              "MR Marsh           1\n",
              "Mohammed Siraj     1\n",
              "R McLaren          1\n",
              "JD Ryder           1\n",
              "Name: player_of_match, Length: 202, dtype: int64"
            ]
          },
          "metadata": {},
          "execution_count": 271
        }
      ]
    },
    {
      "cell_type": "code",
      "metadata": {
        "colab": {
          "base_uri": "https://localhost:8080/"
        },
        "id": "x5iC6INt5xvl",
        "outputId": "8c3a805a-88eb-42de-d5b0-1e37eb53a8b3"
      },
      "source": [
        "deliveies_df['dismissal_kind'].value_counts()"
      ],
      "execution_count": null,
      "outputs": [
        {
          "output_type": "execute_result",
          "data": {
            "text/plain": [
              "0                        143022\n",
              "caught                     4373\n",
              "bowled                     1382\n",
              "run out                     755\n",
              "lbw                         455\n",
              "stumped                     243\n",
              "caught and bowled           211\n",
              "hit wicket                    9\n",
              "retired hurt                  9\n",
              "obstructing the field         1\n",
              "Name: dismissal_kind, dtype: int64"
            ]
          },
          "metadata": {},
          "execution_count": 272
        }
      ]
    },
    {
      "cell_type": "code",
      "metadata": {
        "colab": {
          "base_uri": "https://localhost:8080/",
          "height": 423
        },
        "id": "A_B5ItpM6FuE",
        "outputId": "474b9a6b-f5f8-4733-a91d-8cc2f91f38df"
      },
      "source": [
        "bowling_df=deliveies_df[['player_dismissed','dismissal_kind','fielder','bowler']]\n",
        "bowling_df"
      ],
      "execution_count": null,
      "outputs": [
        {
          "output_type": "execute_result",
          "data": {
            "text/html": [
              "<div>\n",
              "<style scoped>\n",
              "    .dataframe tbody tr th:only-of-type {\n",
              "        vertical-align: middle;\n",
              "    }\n",
              "\n",
              "    .dataframe tbody tr th {\n",
              "        vertical-align: top;\n",
              "    }\n",
              "\n",
              "    .dataframe thead th {\n",
              "        text-align: right;\n",
              "    }\n",
              "</style>\n",
              "<table border=\"1\" class=\"dataframe\">\n",
              "  <thead>\n",
              "    <tr style=\"text-align: right;\">\n",
              "      <th></th>\n",
              "      <th>player_dismissed</th>\n",
              "      <th>dismissal_kind</th>\n",
              "      <th>fielder</th>\n",
              "      <th>bowler</th>\n",
              "    </tr>\n",
              "  </thead>\n",
              "  <tbody>\n",
              "    <tr>\n",
              "      <th>0</th>\n",
              "      <td>0</td>\n",
              "      <td>0</td>\n",
              "      <td>0</td>\n",
              "      <td>TS Mills</td>\n",
              "    </tr>\n",
              "    <tr>\n",
              "      <th>1</th>\n",
              "      <td>0</td>\n",
              "      <td>0</td>\n",
              "      <td>0</td>\n",
              "      <td>TS Mills</td>\n",
              "    </tr>\n",
              "    <tr>\n",
              "      <th>2</th>\n",
              "      <td>0</td>\n",
              "      <td>0</td>\n",
              "      <td>0</td>\n",
              "      <td>TS Mills</td>\n",
              "    </tr>\n",
              "    <tr>\n",
              "      <th>3</th>\n",
              "      <td>0</td>\n",
              "      <td>0</td>\n",
              "      <td>0</td>\n",
              "      <td>TS Mills</td>\n",
              "    </tr>\n",
              "    <tr>\n",
              "      <th>4</th>\n",
              "      <td>0</td>\n",
              "      <td>0</td>\n",
              "      <td>0</td>\n",
              "      <td>TS Mills</td>\n",
              "    </tr>\n",
              "    <tr>\n",
              "      <th>...</th>\n",
              "      <td>...</td>\n",
              "      <td>...</td>\n",
              "      <td>...</td>\n",
              "      <td>...</td>\n",
              "    </tr>\n",
              "    <tr>\n",
              "      <th>150455</th>\n",
              "      <td>0</td>\n",
              "      <td>0</td>\n",
              "      <td>0</td>\n",
              "      <td>B Kumar</td>\n",
              "    </tr>\n",
              "    <tr>\n",
              "      <th>150456</th>\n",
              "      <td>CJ Jordan</td>\n",
              "      <td>run out</td>\n",
              "      <td>NV Ojha</td>\n",
              "      <td>B Kumar</td>\n",
              "    </tr>\n",
              "    <tr>\n",
              "      <th>150457</th>\n",
              "      <td>0</td>\n",
              "      <td>0</td>\n",
              "      <td>0</td>\n",
              "      <td>B Kumar</td>\n",
              "    </tr>\n",
              "    <tr>\n",
              "      <th>150458</th>\n",
              "      <td>0</td>\n",
              "      <td>0</td>\n",
              "      <td>0</td>\n",
              "      <td>B Kumar</td>\n",
              "    </tr>\n",
              "    <tr>\n",
              "      <th>150459</th>\n",
              "      <td>0</td>\n",
              "      <td>0</td>\n",
              "      <td>0</td>\n",
              "      <td>B Kumar</td>\n",
              "    </tr>\n",
              "  </tbody>\n",
              "</table>\n",
              "<p>150460 rows × 4 columns</p>\n",
              "</div>"
            ],
            "text/plain": [
              "       player_dismissed dismissal_kind  fielder    bowler\n",
              "0                     0              0        0  TS Mills\n",
              "1                     0              0        0  TS Mills\n",
              "2                     0              0        0  TS Mills\n",
              "3                     0              0        0  TS Mills\n",
              "4                     0              0        0  TS Mills\n",
              "...                 ...            ...      ...       ...\n",
              "150455                0              0        0   B Kumar\n",
              "150456        CJ Jordan        run out  NV Ojha   B Kumar\n",
              "150457                0              0        0   B Kumar\n",
              "150458                0              0        0   B Kumar\n",
              "150459                0              0        0   B Kumar\n",
              "\n",
              "[150460 rows x 4 columns]"
            ]
          },
          "metadata": {},
          "execution_count": 273
        }
      ]
    },
    {
      "cell_type": "code",
      "metadata": {
        "colab": {
          "base_uri": "https://localhost:8080/",
          "height": 423
        },
        "id": "GysjTTAH6jlP",
        "outputId": "a8fcd054-3225-4e67-d92e-103afe8b63e6"
      },
      "source": [
        "catches_df=bowling_df[bowling_df['dismissal_kind']=='caught']\n",
        "catches_df"
      ],
      "execution_count": null,
      "outputs": [
        {
          "output_type": "execute_result",
          "data": {
            "text/html": [
              "<div>\n",
              "<style scoped>\n",
              "    .dataframe tbody tr th:only-of-type {\n",
              "        vertical-align: middle;\n",
              "    }\n",
              "\n",
              "    .dataframe tbody tr th {\n",
              "        vertical-align: top;\n",
              "    }\n",
              "\n",
              "    .dataframe thead th {\n",
              "        text-align: right;\n",
              "    }\n",
              "</style>\n",
              "<table border=\"1\" class=\"dataframe\">\n",
              "  <thead>\n",
              "    <tr style=\"text-align: right;\">\n",
              "      <th></th>\n",
              "      <th>player_dismissed</th>\n",
              "      <th>dismissal_kind</th>\n",
              "      <th>fielder</th>\n",
              "      <th>bowler</th>\n",
              "    </tr>\n",
              "  </thead>\n",
              "  <tbody>\n",
              "    <tr>\n",
              "      <th>11</th>\n",
              "      <td>DA Warner</td>\n",
              "      <td>caught</td>\n",
              "      <td>Mandeep Singh</td>\n",
              "      <td>A Choudhary</td>\n",
              "    </tr>\n",
              "    <tr>\n",
              "      <th>64</th>\n",
              "      <td>S Dhawan</td>\n",
              "      <td>caught</td>\n",
              "      <td>Sachin Baby</td>\n",
              "      <td>STR Binny</td>\n",
              "    </tr>\n",
              "    <tr>\n",
              "      <th>94</th>\n",
              "      <td>MC Henriques</td>\n",
              "      <td>caught</td>\n",
              "      <td>Sachin Baby</td>\n",
              "      <td>YS Chahal</td>\n",
              "    </tr>\n",
              "    <tr>\n",
              "      <th>165</th>\n",
              "      <td>CH Gayle</td>\n",
              "      <td>caught</td>\n",
              "      <td>DA Warner</td>\n",
              "      <td>DJ Hooda</td>\n",
              "    </tr>\n",
              "    <tr>\n",
              "      <th>206</th>\n",
              "      <td>TM Head</td>\n",
              "      <td>caught</td>\n",
              "      <td>Yuvraj Singh</td>\n",
              "      <td>Rashid Khan</td>\n",
              "    </tr>\n",
              "    <tr>\n",
              "      <th>...</th>\n",
              "      <td>...</td>\n",
              "      <td>...</td>\n",
              "      <td>...</td>\n",
              "      <td>...</td>\n",
              "    </tr>\n",
              "    <tr>\n",
              "      <th>150309</th>\n",
              "      <td>Yuvraj Singh</td>\n",
              "      <td>caught</td>\n",
              "      <td>SR Watson</td>\n",
              "      <td>CJ Jordan</td>\n",
              "    </tr>\n",
              "    <tr>\n",
              "      <th>150326</th>\n",
              "      <td>Bipul Sharma</td>\n",
              "      <td>caught</td>\n",
              "      <td>YS Chahal</td>\n",
              "      <td>CJ Jordan</td>\n",
              "    </tr>\n",
              "    <tr>\n",
              "      <th>150402</th>\n",
              "      <td>CH Gayle</td>\n",
              "      <td>caught</td>\n",
              "      <td>Bipul Sharma</td>\n",
              "      <td>BCJ Cutting</td>\n",
              "    </tr>\n",
              "    <tr>\n",
              "      <th>150422</th>\n",
              "      <td>AB de Villiers</td>\n",
              "      <td>caught</td>\n",
              "      <td>MC Henriques</td>\n",
              "      <td>Bipul Sharma</td>\n",
              "    </tr>\n",
              "    <tr>\n",
              "      <th>150438</th>\n",
              "      <td>SR Watson</td>\n",
              "      <td>caught</td>\n",
              "      <td>MC Henriques</td>\n",
              "      <td>Mustafizur Rahman</td>\n",
              "    </tr>\n",
              "  </tbody>\n",
              "</table>\n",
              "<p>4373 rows × 4 columns</p>\n",
              "</div>"
            ],
            "text/plain": [
              "       player_dismissed dismissal_kind        fielder             bowler\n",
              "11            DA Warner         caught  Mandeep Singh        A Choudhary\n",
              "64             S Dhawan         caught    Sachin Baby          STR Binny\n",
              "94         MC Henriques         caught    Sachin Baby          YS Chahal\n",
              "165            CH Gayle         caught      DA Warner           DJ Hooda\n",
              "206             TM Head         caught   Yuvraj Singh        Rashid Khan\n",
              "...                 ...            ...            ...                ...\n",
              "150309     Yuvraj Singh         caught      SR Watson          CJ Jordan\n",
              "150326     Bipul Sharma         caught      YS Chahal          CJ Jordan\n",
              "150402         CH Gayle         caught   Bipul Sharma        BCJ Cutting\n",
              "150422   AB de Villiers         caught   MC Henriques       Bipul Sharma\n",
              "150438        SR Watson         caught   MC Henriques  Mustafizur Rahman\n",
              "\n",
              "[4373 rows x 4 columns]"
            ]
          },
          "metadata": {},
          "execution_count": 274
        }
      ]
    },
    {
      "cell_type": "code",
      "metadata": {
        "id": "tEgkl2Sp6zPj"
      },
      "source": [
        "catches=pd.DataFrame(catches_df.groupby('dismissal_kind').fielder.value_counts())"
      ],
      "execution_count": null,
      "outputs": []
    },
    {
      "cell_type": "code",
      "metadata": {
        "colab": {
          "base_uri": "https://localhost:8080/",
          "height": 455
        },
        "id": "ZhiLq5vU7EJN",
        "outputId": "99867dfc-4817-44fc-b4cf-c1a5de3fa280"
      },
      "source": [
        "catches"
      ],
      "execution_count": null,
      "outputs": [
        {
          "output_type": "execute_result",
          "data": {
            "text/html": [
              "<div>\n",
              "<style scoped>\n",
              "    .dataframe tbody tr th:only-of-type {\n",
              "        vertical-align: middle;\n",
              "    }\n",
              "\n",
              "    .dataframe tbody tr th {\n",
              "        vertical-align: top;\n",
              "    }\n",
              "\n",
              "    .dataframe thead th {\n",
              "        text-align: right;\n",
              "    }\n",
              "</style>\n",
              "<table border=\"1\" class=\"dataframe\">\n",
              "  <thead>\n",
              "    <tr style=\"text-align: right;\">\n",
              "      <th></th>\n",
              "      <th></th>\n",
              "      <th>fielder</th>\n",
              "    </tr>\n",
              "    <tr>\n",
              "      <th>dismissal_kind</th>\n",
              "      <th>fielder</th>\n",
              "      <th></th>\n",
              "    </tr>\n",
              "  </thead>\n",
              "  <tbody>\n",
              "    <tr>\n",
              "      <th rowspan=\"11\" valign=\"top\">caught</th>\n",
              "      <th>KD Karthik</th>\n",
              "      <td>88</td>\n",
              "    </tr>\n",
              "    <tr>\n",
              "      <th>SK Raina</th>\n",
              "      <td>83</td>\n",
              "    </tr>\n",
              "    <tr>\n",
              "      <th>AB de Villiers</th>\n",
              "      <td>81</td>\n",
              "    </tr>\n",
              "    <tr>\n",
              "      <th>MS Dhoni</th>\n",
              "      <td>76</td>\n",
              "    </tr>\n",
              "    <tr>\n",
              "      <th>RV Uthappa</th>\n",
              "      <td>75</td>\n",
              "    </tr>\n",
              "    <tr>\n",
              "      <th>...</th>\n",
              "      <td>...</td>\n",
              "    </tr>\n",
              "    <tr>\n",
              "      <th>UT Khawaja</th>\n",
              "      <td>1</td>\n",
              "    </tr>\n",
              "    <tr>\n",
              "      <th>V Shankar</th>\n",
              "      <td>1</td>\n",
              "    </tr>\n",
              "    <tr>\n",
              "      <th>WD Parnell (sub)</th>\n",
              "      <td>1</td>\n",
              "    </tr>\n",
              "    <tr>\n",
              "      <th>WP Saha (sub)</th>\n",
              "      <td>1</td>\n",
              "    </tr>\n",
              "    <tr>\n",
              "      <th>Younis Khan</th>\n",
              "      <td>1</td>\n",
              "    </tr>\n",
              "  </tbody>\n",
              "</table>\n",
              "<p>440 rows × 1 columns</p>\n",
              "</div>"
            ],
            "text/plain": [
              "                                 fielder\n",
              "dismissal_kind fielder                  \n",
              "caught         KD Karthik             88\n",
              "               SK Raina               83\n",
              "               AB de Villiers         81\n",
              "               MS Dhoni               76\n",
              "               RV Uthappa             75\n",
              "...                                  ...\n",
              "               UT Khawaja              1\n",
              "               V Shankar               1\n",
              "               WD Parnell (sub)        1\n",
              "               WP Saha (sub)           1\n",
              "               Younis Khan             1\n",
              "\n",
              "[440 rows x 1 columns]"
            ]
          },
          "metadata": {},
          "execution_count": 276
        }
      ]
    },
    {
      "cell_type": "code",
      "metadata": {
        "colab": {
          "base_uri": "https://localhost:8080/",
          "height": 455
        },
        "id": "i1Wu4u-g7FGJ",
        "outputId": "11a1f633-0555-4980-b6be-e45cfc45a5e9"
      },
      "source": [
        "run_out=bowling_df[bowling_df['dismissal_kind']=='run out']\n",
        "run_outs=pd.DataFrame(run_out.groupby('dismissal_kind').fielder.value_counts())\n",
        "run_outs"
      ],
      "execution_count": null,
      "outputs": [
        {
          "output_type": "execute_result",
          "data": {
            "text/html": [
              "<div>\n",
              "<style scoped>\n",
              "    .dataframe tbody tr th:only-of-type {\n",
              "        vertical-align: middle;\n",
              "    }\n",
              "\n",
              "    .dataframe tbody tr th {\n",
              "        vertical-align: top;\n",
              "    }\n",
              "\n",
              "    .dataframe thead th {\n",
              "        text-align: right;\n",
              "    }\n",
              "</style>\n",
              "<table border=\"1\" class=\"dataframe\">\n",
              "  <thead>\n",
              "    <tr style=\"text-align: right;\">\n",
              "      <th></th>\n",
              "      <th></th>\n",
              "      <th>fielder</th>\n",
              "    </tr>\n",
              "    <tr>\n",
              "      <th>dismissal_kind</th>\n",
              "      <th>fielder</th>\n",
              "      <th></th>\n",
              "    </tr>\n",
              "  </thead>\n",
              "  <tbody>\n",
              "    <tr>\n",
              "      <th rowspan=\"11\" valign=\"top\">run out</th>\n",
              "      <th>MS Dhoni</th>\n",
              "      <td>20</td>\n",
              "    </tr>\n",
              "    <tr>\n",
              "      <th>RA Jadeja</th>\n",
              "      <td>19</td>\n",
              "    </tr>\n",
              "    <tr>\n",
              "      <th>MK Pandey</th>\n",
              "      <td>14</td>\n",
              "    </tr>\n",
              "    <tr>\n",
              "      <th>V Kohli</th>\n",
              "      <td>14</td>\n",
              "    </tr>\n",
              "    <tr>\n",
              "      <th>AB de Villiers</th>\n",
              "      <td>13</td>\n",
              "    </tr>\n",
              "    <tr>\n",
              "      <th>...</th>\n",
              "      <td>...</td>\n",
              "    </tr>\n",
              "    <tr>\n",
              "      <th>VVS Laxman</th>\n",
              "      <td>1</td>\n",
              "    </tr>\n",
              "    <tr>\n",
              "      <th>W Jaffer</th>\n",
              "      <td>1</td>\n",
              "    </tr>\n",
              "    <tr>\n",
              "      <th>WD Parnell</th>\n",
              "      <td>1</td>\n",
              "    </tr>\n",
              "    <tr>\n",
              "      <th>WPUJC Vaas</th>\n",
              "      <td>1</td>\n",
              "    </tr>\n",
              "    <tr>\n",
              "      <th>Y Venugopal Rao</th>\n",
              "      <td>1</td>\n",
              "    </tr>\n",
              "  </tbody>\n",
              "</table>\n",
              "<p>240 rows × 1 columns</p>\n",
              "</div>"
            ],
            "text/plain": [
              "                                fielder\n",
              "dismissal_kind fielder                 \n",
              "run out        MS Dhoni              20\n",
              "               RA Jadeja             19\n",
              "               MK Pandey             14\n",
              "               V Kohli               14\n",
              "               AB de Villiers        13\n",
              "...                                 ...\n",
              "               VVS Laxman             1\n",
              "               W Jaffer               1\n",
              "               WD Parnell             1\n",
              "               WPUJC Vaas             1\n",
              "               Y Venugopal Rao        1\n",
              "\n",
              "[240 rows x 1 columns]"
            ]
          },
          "metadata": {},
          "execution_count": 277
        }
      ]
    },
    {
      "cell_type": "code",
      "metadata": {
        "colab": {
          "base_uri": "https://localhost:8080/",
          "height": 1000
        },
        "id": "1jMFehKn7rb1",
        "outputId": "a6ea7ff0-2bf3-47f9-baed-5608f1aa7ed3"
      },
      "source": [
        "stump_out=bowling_df[bowling_df['dismissal_kind']=='stumped']\n",
        "stump_outs=pd.DataFrame(stump_out.groupby('dismissal_kind').fielder.value_counts())\n",
        "stump_outs"
      ],
      "execution_count": null,
      "outputs": [
        {
          "output_type": "execute_result",
          "data": {
            "text/html": [
              "<div>\n",
              "<style scoped>\n",
              "    .dataframe tbody tr th:only-of-type {\n",
              "        vertical-align: middle;\n",
              "    }\n",
              "\n",
              "    .dataframe tbody tr th {\n",
              "        vertical-align: top;\n",
              "    }\n",
              "\n",
              "    .dataframe thead th {\n",
              "        text-align: right;\n",
              "    }\n",
              "</style>\n",
              "<table border=\"1\" class=\"dataframe\">\n",
              "  <thead>\n",
              "    <tr style=\"text-align: right;\">\n",
              "      <th></th>\n",
              "      <th></th>\n",
              "      <th>fielder</th>\n",
              "    </tr>\n",
              "    <tr>\n",
              "      <th>dismissal_kind</th>\n",
              "      <th>fielder</th>\n",
              "      <th></th>\n",
              "    </tr>\n",
              "  </thead>\n",
              "  <tbody>\n",
              "    <tr>\n",
              "      <th rowspan=\"32\" valign=\"top\">stumped</th>\n",
              "      <th>RV Uthappa</th>\n",
              "      <td>32</td>\n",
              "    </tr>\n",
              "    <tr>\n",
              "      <th>MS Dhoni</th>\n",
              "      <td>30</td>\n",
              "    </tr>\n",
              "    <tr>\n",
              "      <th>KD Karthik</th>\n",
              "      <td>26</td>\n",
              "    </tr>\n",
              "    <tr>\n",
              "      <th>WP Saha</th>\n",
              "      <td>17</td>\n",
              "    </tr>\n",
              "    <tr>\n",
              "      <th>AC Gilchrist</th>\n",
              "      <td>16</td>\n",
              "    </tr>\n",
              "    <tr>\n",
              "      <th>PA Patel</th>\n",
              "      <td>14</td>\n",
              "    </tr>\n",
              "    <tr>\n",
              "      <th>NV Ojha</th>\n",
              "      <td>10</td>\n",
              "    </tr>\n",
              "    <tr>\n",
              "      <th>KC Sangakkara</th>\n",
              "      <td>9</td>\n",
              "    </tr>\n",
              "    <tr>\n",
              "      <th>AB de Villiers</th>\n",
              "      <td>7</td>\n",
              "    </tr>\n",
              "    <tr>\n",
              "      <th>KM Jadhav</th>\n",
              "      <td>7</td>\n",
              "    </tr>\n",
              "    <tr>\n",
              "      <th>MS Bisla</th>\n",
              "      <td>7</td>\n",
              "    </tr>\n",
              "    <tr>\n",
              "      <th>SP Goswami</th>\n",
              "      <td>7</td>\n",
              "    </tr>\n",
              "    <tr>\n",
              "      <th>BB McCullum</th>\n",
              "      <td>6</td>\n",
              "    </tr>\n",
              "    <tr>\n",
              "      <th>AP Tare</th>\n",
              "      <td>5</td>\n",
              "    </tr>\n",
              "    <tr>\n",
              "      <th>DH Yagnik</th>\n",
              "      <td>5</td>\n",
              "    </tr>\n",
              "    <tr>\n",
              "      <th>CM Gautam</th>\n",
              "      <td>4</td>\n",
              "    </tr>\n",
              "    <tr>\n",
              "      <th>KL Rahul</th>\n",
              "      <td>4</td>\n",
              "    </tr>\n",
              "    <tr>\n",
              "      <th>Kamran Akmal</th>\n",
              "      <td>4</td>\n",
              "    </tr>\n",
              "    <tr>\n",
              "      <th>YV Takawale</th>\n",
              "      <td>4</td>\n",
              "    </tr>\n",
              "    <tr>\n",
              "      <th>MV Boucher</th>\n",
              "      <td>3</td>\n",
              "    </tr>\n",
              "    <tr>\n",
              "      <th>PR Shah</th>\n",
              "      <td>3</td>\n",
              "    </tr>\n",
              "    <tr>\n",
              "      <th>Q de Kock</th>\n",
              "      <td>3</td>\n",
              "    </tr>\n",
              "    <tr>\n",
              "      <th>RR Pant</th>\n",
              "      <td>3</td>\n",
              "    </tr>\n",
              "    <tr>\n",
              "      <th>SV Samson</th>\n",
              "      <td>3</td>\n",
              "    </tr>\n",
              "    <tr>\n",
              "      <th>AT Rayudu</th>\n",
              "      <td>2</td>\n",
              "    </tr>\n",
              "    <tr>\n",
              "      <th>DJ Jacobs</th>\n",
              "      <td>2</td>\n",
              "    </tr>\n",
              "    <tr>\n",
              "      <th>KB Arun Karthik</th>\n",
              "      <td>2</td>\n",
              "    </tr>\n",
              "    <tr>\n",
              "      <th>M Rawat</th>\n",
              "      <td>2</td>\n",
              "    </tr>\n",
              "    <tr>\n",
              "      <th>N Saini</th>\n",
              "      <td>2</td>\n",
              "    </tr>\n",
              "    <tr>\n",
              "      <th>Vishnu Vinod</th>\n",
              "      <td>2</td>\n",
              "    </tr>\n",
              "    <tr>\n",
              "      <th>Gurkeerat Singh</th>\n",
              "      <td>1</td>\n",
              "    </tr>\n",
              "    <tr>\n",
              "      <th>KH Devdhar</th>\n",
              "      <td>1</td>\n",
              "    </tr>\n",
              "  </tbody>\n",
              "</table>\n",
              "</div>"
            ],
            "text/plain": [
              "                                fielder\n",
              "dismissal_kind fielder                 \n",
              "stumped        RV Uthappa            32\n",
              "               MS Dhoni              30\n",
              "               KD Karthik            26\n",
              "               WP Saha               17\n",
              "               AC Gilchrist          16\n",
              "               PA Patel              14\n",
              "               NV Ojha               10\n",
              "               KC Sangakkara          9\n",
              "               AB de Villiers         7\n",
              "               KM Jadhav              7\n",
              "               MS Bisla               7\n",
              "               SP Goswami             7\n",
              "               BB McCullum            6\n",
              "               AP Tare                5\n",
              "               DH Yagnik              5\n",
              "               CM Gautam              4\n",
              "               KL Rahul               4\n",
              "               Kamran Akmal           4\n",
              "               YV Takawale            4\n",
              "               MV Boucher             3\n",
              "               PR Shah                3\n",
              "               Q de Kock              3\n",
              "               RR Pant                3\n",
              "               SV Samson              3\n",
              "               AT Rayudu              2\n",
              "               DJ Jacobs              2\n",
              "               KB Arun Karthik        2\n",
              "               M Rawat                2\n",
              "               N Saini                2\n",
              "               Vishnu Vinod           2\n",
              "               Gurkeerat Singh        1\n",
              "               KH Devdhar             1"
            ]
          },
          "metadata": {},
          "execution_count": 278
        }
      ]
    },
    {
      "cell_type": "code",
      "metadata": {
        "colab": {
          "base_uri": "https://localhost:8080/",
          "height": 455
        },
        "id": "iMBW00tj7-ZV",
        "outputId": "b14f8dba-a3c8-46a6-b790-4fd7526b22dd"
      },
      "source": [
        "wicket_df=pd.DataFrame(bowling_df.groupby('dismissal_kind').bowler.value_counts())\n",
        "wicket_df"
      ],
      "execution_count": null,
      "outputs": [
        {
          "output_type": "execute_result",
          "data": {
            "text/html": [
              "<div>\n",
              "<style scoped>\n",
              "    .dataframe tbody tr th:only-of-type {\n",
              "        vertical-align: middle;\n",
              "    }\n",
              "\n",
              "    .dataframe tbody tr th {\n",
              "        vertical-align: top;\n",
              "    }\n",
              "\n",
              "    .dataframe thead th {\n",
              "        text-align: right;\n",
              "    }\n",
              "</style>\n",
              "<table border=\"1\" class=\"dataframe\">\n",
              "  <thead>\n",
              "    <tr style=\"text-align: right;\">\n",
              "      <th></th>\n",
              "      <th></th>\n",
              "      <th>bowler</th>\n",
              "    </tr>\n",
              "    <tr>\n",
              "      <th>dismissal_kind</th>\n",
              "      <th>bowler</th>\n",
              "      <th></th>\n",
              "    </tr>\n",
              "  </thead>\n",
              "  <tbody>\n",
              "    <tr>\n",
              "      <th rowspan=\"5\" valign=\"top\">0</th>\n",
              "      <th>Harbhajan Singh</th>\n",
              "      <td>2853</td>\n",
              "    </tr>\n",
              "    <tr>\n",
              "      <th>A Mishra</th>\n",
              "      <td>2561</td>\n",
              "    </tr>\n",
              "    <tr>\n",
              "      <th>P Kumar</th>\n",
              "      <td>2535</td>\n",
              "    </tr>\n",
              "    <tr>\n",
              "      <th>SL Malinga</th>\n",
              "      <td>2524</td>\n",
              "    </tr>\n",
              "    <tr>\n",
              "      <th>PP Chawla</th>\n",
              "      <td>2461</td>\n",
              "    </tr>\n",
              "    <tr>\n",
              "      <th>...</th>\n",
              "      <th>...</th>\n",
              "      <td>...</td>\n",
              "    </tr>\n",
              "    <tr>\n",
              "      <th rowspan=\"5\" valign=\"top\">stumped</th>\n",
              "      <th>TM Dilshan</th>\n",
              "      <td>1</td>\n",
              "    </tr>\n",
              "    <tr>\n",
              "      <th>TM Head</th>\n",
              "      <td>1</td>\n",
              "    </tr>\n",
              "    <tr>\n",
              "      <th>V Sehwag</th>\n",
              "      <td>1</td>\n",
              "    </tr>\n",
              "    <tr>\n",
              "      <th>WPUJC Vaas</th>\n",
              "      <td>1</td>\n",
              "    </tr>\n",
              "    <tr>\n",
              "      <th>Washington Sundar</th>\n",
              "      <td>1</td>\n",
              "    </tr>\n",
              "  </tbody>\n",
              "</table>\n",
              "<p>1420 rows × 1 columns</p>\n",
              "</div>"
            ],
            "text/plain": [
              "                                  bowler\n",
              "dismissal_kind bowler                   \n",
              "0              Harbhajan Singh      2853\n",
              "               A Mishra             2561\n",
              "               P Kumar              2535\n",
              "               SL Malinga           2524\n",
              "               PP Chawla            2461\n",
              "...                                  ...\n",
              "stumped        TM Dilshan              1\n",
              "               TM Head                 1\n",
              "               V Sehwag                1\n",
              "               WPUJC Vaas              1\n",
              "               Washington Sundar       1\n",
              "\n",
              "[1420 rows x 1 columns]"
            ]
          },
          "metadata": {},
          "execution_count": 282
        }
      ]
    },
    {
      "cell_type": "code",
      "metadata": {
        "id": "u0neOaJt9IOu"
      },
      "source": [
        ""
      ],
      "execution_count": null,
      "outputs": []
    },
    {
      "cell_type": "code",
      "metadata": {
        "id": "osd676QM74cv"
      },
      "source": [
        ""
      ],
      "execution_count": null,
      "outputs": []
    }
  ]
}