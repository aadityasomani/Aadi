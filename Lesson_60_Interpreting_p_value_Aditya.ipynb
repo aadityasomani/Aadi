{
  "nbformat": 4,
  "nbformat_minor": 0,
  "metadata": {
    "colab": {
      "name": "Lesson 60 - Interpreting p-value -Aditya",
      "provenance": [],
      "collapsed_sections": [],
      "include_colab_link": true
    },
    "kernelspec": {
      "name": "python3",
      "display_name": "Python 3"
    }
  },
  "cells": [
    {
      "cell_type": "markdown",
      "metadata": {
        "id": "view-in-github",
        "colab_type": "text"
      },
      "source": [
        "<a href=\"https://colab.research.google.com/github/aadityasomani/Aadi/blob/master/Lesson_60_Interpreting_p_value_Aditya.ipynb\" target=\"_parent\"><img src=\"https://colab.research.google.com/assets/colab-badge.svg\" alt=\"Open In Colab\"/></a>"
      ]
    },
    {
      "cell_type": "markdown",
      "metadata": {
        "id": "cN_oEsXfM_LV"
      },
      "source": [
        "# Lesson 60: Interpreting p-value"
      ]
    },
    {
      "cell_type": "markdown",
      "metadata": {
        "id": "-OfiaBxqxTcE"
      },
      "source": [
        "---"
      ]
    },
    {
      "cell_type": "markdown",
      "metadata": {
        "id": "gFjOAv8nAhzQ"
      },
      "source": [
        "### Teacher-Student Tasks\n",
        "\n",
        "In the previous class, you learned feature encoding using the one-hot encoding and dummy coding processes. You also learned to calculate the adjusted R-squared value to evaluate a linear regression model.\n",
        "\n",
        "In this class, you will learn the concept of p-value which will help you to determine which features are significant to the dataset and which are not so that you can create your model with those features which are significantly contributing in prediction.\n",
        "\n",
        "Let's quickly run the codes covered in the previous classes and begin this session from **Task 1: Understanding Hypothesis Testing** section."
      ]
    },
    {
      "cell_type": "markdown",
      "metadata": {
        "id": "7rqO31eQB5O-"
      },
      "source": [
        "---"
      ]
    },
    {
      "cell_type": "markdown",
      "metadata": {
        "id": "f-uhY3ryaj4N"
      },
      "source": [
        "### Problem Statement\n",
        "\n",
        "Build a linear regression model to predict prices of cars based on their technical specifications such as car manufacturer, its engine capacity, fuel efficiency, body type, etc.\n",
        "\n",
        "**Dataset Description:**\n",
        "\n",
        "The dataset contains 205 rows and 26 columns. Each column represents an attribute of a car as described in the table below:\n",
        "\n",
        "|Sr No.|Attribute|Attribute Information|\n",
        "|-|-|-|\n",
        "|1|Car_ID|Unique id of each car (Integer)|\t\t\n",
        "|2|Symboling|Assigned insurance risk rating; a value of +3 indicates that the car is risky; -3 suggests that it is probably a safe car (Categorical)|\n",
        "|3|carCompany|Name of car company (Categorical)|\n",
        "|4|fueltype| fuel-type i.e. petrol or diesel (Categorical)|\t\n",
        "|5|aspiration|Aspiration used in a car (Categorical)|\t\t\n",
        "|6|doornumber|Number of doors in a car (Categorical)|\t\t\n",
        "|7|carbody|Body-type of a car (Categorical)|\n",
        "|8|drivewheel|Type of drive wheel (Categorical)|\n",
        "|9|enginelocation|Location of car engine (Categorical)|\n",
        "|10|wheelbase|Weelbase of car (Numeric)|\t\t\n",
        "|11|carlength|Length of car (Numeric)|\t\t\n",
        "|12|carwidth|Width of car (Numeric)|\n",
        "|13|carheight|Height of car (Numeric)|\n",
        "|14|curbweight|The weight of a car without occupants or baggage (Numeric)|\n",
        "|15|enginetype|Type of engine (Categorical)|\n",
        "|16|cylindernumber|Number of cylinders placed in the car engine (Categorical)||17|enginesize|Capacity of an engine (Numeric)|\n",
        "|18|fuelsystem|Fuel system of a car (Categorical)|\n",
        "|19|boreratio|Bore ratio of car (Numeric)|\n",
        "|20|stroke|Stroke or volume inside the engine (Numeric)|\n",
        "|21|compressionratio|Compression ratio of an engine (Numeric)|\n",
        "|22|horsepower|Power output of an engine (Numeric)|\t\t\n",
        "|23|peakrpm|Peak revolutions per minute (Numeric)|\n",
        "|24|citympg|Mileage in city (Numeric)|\n",
        "|25|highwaympg|Mileage on highway (Numeric)|\n",
        "|26|price(Dependent variable)|Price of a car (Numeric)|\t\n",
        "\n",
        "This dataset consists of three types of entities: \n",
        "\n",
        "- The specification of an auto in terms of various characteristics. \n",
        "\n",
        "- Its assigned insurance risk rating. \n",
        "\n",
        "- Its normalized losses in use as compared to other cars. \n",
        "\n",
        "The second rating corresponds to the degree to which the auto is riskier than its price indicates. Cars are initially assigned a risk factor symbol associated with their price. Then, if it is riskier (or less), this symbol is adjusted by moving it up (or down) the scale. Actuarians call this process **symboling**. A value of $+3$ indicates that the auto is risky, $-3$ that it is probably pretty safe.\n",
        "\n",
        "The third factor is the relative average loss payment per insured vehicle year. This value is normalized for all autos within a particular size classification (two-door small, station wagons, sports/speciality etc.), and represents the average loss per car per year.\n",
        "\n",
        "**Note:** Several of the attributes in the database could be used as a \"class\" attribute.\n",
        "\n",
        "**Dataset source:** https://archive.ics.uci.edu/ml/datasets/Automobile\n",
        "\n",
        "\n",
        "The above dataset consists of data taken from 1985 Ward's Automotive Yearbook. Here's the list of sources of the data:\n",
        "\n",
        "1. 1985 Model Import Car and Truck Specifications, 1985 Ward's Automotive Yearbook.\n",
        "\n",
        "2. Personal Auto Manuals, Insurance Services Office, 160 Water Street, New York, NY 10038\n",
        "\n",
        "3. Insurance Collision Report, Insurance Institute for Highway Safety, Watergate 600, Washington, DC 20037\n",
        "\n",
        "\n",
        "**Citation:**\n",
        "\n",
        "Dua, D., & Graff, C.. (2017). UCI Machine Learning Repository."
      ]
    },
    {
      "cell_type": "markdown",
      "metadata": {
        "id": "SZEA9P6hDG28"
      },
      "source": [
        "---"
      ]
    },
    {
      "cell_type": "markdown",
      "metadata": {
        "id": "keVeYBHNDHh8"
      },
      "source": [
        "#### Recap\n",
        "\n",
        "https://student-datasets-bucket.s3.ap-south-1.amazonaws.com/whitehat-ds-datasets/car-prices.csv"
      ]
    },
    {
      "cell_type": "code",
      "metadata": {
        "id": "5f2emlnJM56A",
        "colab": {
          "base_uri": "https://localhost:8080/"
        },
        "outputId": "298bddd2-e649-43cc-ce78-e2375028a5e7"
      },
      "source": [
        "# Import the modules, read the dataset and create a Pandas DataFrame.\n",
        "import numpy as np\n",
        "import pandas as pd\n",
        "import matplotlib.pyplot as plt\n",
        "import seaborn as sns\n",
        "\n",
        "# Read the dataset\n",
        "cars_df = pd.read_csv(\"https://student-datasets-bucket.s3.ap-south-1.amazonaws.com/whitehat-ds-datasets/car-prices.csv\")\n",
        "\n",
        "# Data Cleaning\n",
        "# Extract the name of the manufactures from the car names and display the first 25 cars to verify whether names are extracted successfully.\n",
        "car_companies = pd.Series([car.split(\" \")[0] for car in cars_df['CarName']], index = cars_df.index)\n",
        "\n",
        "# Create a new column named 'car_company'. It should store the company names of a the cars.\n",
        "cars_df['car_company'] = car_companies\n",
        "\n",
        "# Replace the misspelled 'car_company' names with their correct names.\n",
        "# volkswagen\n",
        "cars_df.loc[(cars_df['car_company'] == \"vw\") | (cars_df['car_company'] == \"vokswagen\"), 'car_company'] = 'volkswagen'\n",
        "\n",
        "# porsche\n",
        "cars_df.loc[cars_df['car_company'] == \"porcshce\", 'car_company'] = 'porsche'\n",
        "\n",
        "# toyota\n",
        "cars_df.loc[cars_df['car_company'] == \"toyouta\", 'car_company'] = 'toyota'\n",
        "\n",
        "# nissan\n",
        "cars_df.loc[cars_df['car_company'] == \"Nissan\", 'car_company'] = 'nissan'\n",
        "\n",
        "# mazda\n",
        "cars_df.loc[cars_df['car_company'] == \"maxda\", 'car_company'] = 'mazda'\n",
        "\n",
        "# Drop 'CarName' column from the 'cars_df' DataFrame.\n",
        "cars_df.drop(columns= ['CarName'], axis = 1, inplace = True)\n",
        "\n",
        "# Data Preparation\n",
        "# Extract all the numeric (float and int type) columns from the dataset.\n",
        "cars_numeric_df = cars_df.select_dtypes(include = ['int64', 'float64'])\n",
        "\n",
        "# Drop the 'car_ID' column from the 'cars_numeric_df' DataFrame. \n",
        "cars_numeric_df.drop(columns = ['car_ID'], axis = 1, inplace = True)\n",
        "\n",
        "# Mapping Categorical Values\n",
        "# Map the values of the 'doornumber' and 'cylindernumber' columns to their corresponding numeric values.\n",
        "words_dict = {\"two\": 2, \"three\": 3, \"four\": 4, \"five\": 5, \"six\": 6, \"eight\": 8, \"twelve\": 12}\n",
        "def num_map(series):\n",
        "    return series.map(words_dict)\n",
        "\n",
        "# Applying the function to the two columns\n",
        "cars_df[['cylindernumber', 'doornumber']] = cars_df[['cylindernumber', 'doornumber']].apply(num_map, axis = 1)\n",
        "\n",
        "# Feature Encoding\n",
        "# Create dummy variables for the 'carbody' columns.\n",
        "car_body_dummies = pd.get_dummies(cars_df['carbody'], dtype = int)\n",
        "\n",
        "# Create dummy variables for the 'carbody' columns with 1 column less.\n",
        "car_body_new_dummies = pd.get_dummies(cars_df['carbody'], drop_first = True, dtype = int)\n",
        "\n",
        "# Create a DataFrame containing all the non-numeric type features.\n",
        "cars_categorical_df = cars_df.select_dtypes(include = ['object'])\n",
        "\n",
        "# Get dummy variables for all the categorical type columns using the dummy coding process.\n",
        "cars_dummies_df = pd.get_dummies(cars_categorical_df, drop_first = True, dtype = int)\n",
        "\n",
        "# Drop the categorical type columns from the 'cars_df' DataFrame.\n",
        "cars_df.drop(list(cars_categorical_df.columns), axis = 1, inplace = True)\n",
        "\n",
        "# Concatenate the 'cars_df' and 'cars_dummies_df' DataFrames.\n",
        "cars_df = pd.concat([cars_df, cars_dummies_df], axis = 1)\n",
        "\n",
        "# Drop the 'car_ID' column\n",
        "cars_df.drop('car_ID', axis = 1, inplace = True)\n",
        "\n",
        "# Test-Train Split\n",
        "# Split the 'cars_df' Dataframe into the train and test sets.\n",
        "from sklearn.model_selection import train_test_split\n",
        "train_df, test_df = train_test_split(cars_df, test_size = 0.3, random_state = 42)\n",
        "\n",
        "# Create separate data-frames for the feature and target variables for both the train and test sets.\n",
        "features = list(cars_df.columns)\n",
        "features.remove('price')\n",
        "\n",
        "X_train = train_df[features]\n",
        "y_train = train_df['price']\n",
        "X_test = test_df[features]\n",
        "y_test = test_df['price']\n",
        "\n",
        "# Feature Scaling\n",
        "# Normalise only the numeric columns that were you had prior to any data-cleaning exercise.\n",
        "def standard_norm(series):\n",
        "  new_series = (series - series.mean()) / series.std()\n",
        "  return new_series\n",
        "\n",
        "# Normalising the features in the train and test sets.\n",
        "X_train[X_train.columns[:16]] = X_train[X_train.columns[:16]].apply(standard_norm, axis = 0)\n",
        "X_test[X_train.columns[:16]] = X_test[X_train.columns[:16]].apply(standard_norm, axis = 0)\n",
        "\n",
        "# Model Building\n",
        "# Build a linear regression model using all the features to predict car prices.\n",
        "import statsmodels.api as sm\n",
        "\n",
        "X_train_sm = sm.add_constant(X_train)\n",
        "lin_reg = sm.OLS(y_train, X_train_sm).fit()\n",
        "\n",
        "# Print the summary of the linear regression report.\n",
        "print(lin_reg.summary())"
      ],
      "execution_count": null,
      "outputs": [
        {
          "output_type": "stream",
          "name": "stderr",
          "text": [
            "/usr/local/lib/python3.7/dist-packages/pandas/core/frame.py:4174: SettingWithCopyWarning: \n",
            "A value is trying to be set on a copy of a slice from a DataFrame\n",
            "\n",
            "See the caveats in the documentation: https://pandas.pydata.org/pandas-docs/stable/user_guide/indexing.html#returning-a-view-versus-a-copy\n",
            "  errors=errors,\n",
            "/usr/local/lib/python3.7/dist-packages/pandas/core/frame.py:3069: SettingWithCopyWarning: \n",
            "A value is trying to be set on a copy of a slice from a DataFrame.\n",
            "Try using .loc[row_indexer,col_indexer] = value instead\n",
            "\n",
            "See the caveats in the documentation: https://pandas.pydata.org/pandas-docs/stable/user_guide/indexing.html#returning-a-view-versus-a-copy\n",
            "  self[k1] = value[k2]\n"
          ]
        },
        {
          "output_type": "stream",
          "name": "stdout",
          "text": [
            "                            OLS Regression Results                            \n",
            "==============================================================================\n",
            "Dep. Variable:                  price   R-squared:                       0.977\n",
            "Model:                            OLS   Adj. R-squared:                  0.963\n",
            "Method:                 Least Squares   F-statistic:                     67.51\n",
            "Date:                Tue, 01 Feb 2022   Prob (F-statistic):           3.52e-53\n",
            "Time:                        06:40:29   Log-Likelihood:                -1214.5\n",
            "No. Observations:                 143   AIC:                             2541.\n",
            "Df Residuals:                      87   BIC:                             2707.\n",
            "Df Model:                          55                                         \n",
            "Covariance Type:            nonrobust                                         \n",
            "==========================================================================================\n",
            "                             coef    std err          t      P>|t|      [0.025      0.975]\n",
            "------------------------------------------------------------------------------------------\n",
            "const                   1.111e+04   2193.733      5.066      0.000    6752.981    1.55e+04\n",
            "symboling               -259.2601    338.261     -0.766      0.445    -931.591     413.071\n",
            "doornumber               256.3005    276.490      0.927      0.357    -293.252     805.853\n",
            "wheelbase                462.1973    669.416      0.690      0.492    -868.339    1792.734\n",
            "carlength               -627.4075    676.243     -0.928      0.356   -1971.514     716.699\n",
            "carwidth                1488.5498    503.255      2.958      0.004     488.276    2488.824\n",
            "carheight               -330.0812    362.153     -0.911      0.365   -1049.900     389.738\n",
            "curbweight              2138.0076    870.269      2.457      0.016     408.253    3867.762\n",
            "cylindernumber          -847.8692    723.186     -1.172      0.244   -2285.280     589.542\n",
            "enginesize              4083.0225   1082.968      3.770      0.000    1930.507    6235.538\n",
            "boreratio              -1027.6732    378.099     -2.718      0.008   -1779.186    -276.160\n",
            "stroke                   -75.9375    283.049     -0.268      0.789    -638.529     486.654\n",
            "compressionratio         465.2682   1681.273      0.277      0.783   -2876.444    3806.980\n",
            "horsepower               256.2853    832.526      0.308      0.759   -1398.450    1911.020\n",
            "peakrpm                  831.7857    326.495      2.548      0.013     182.842    1480.729\n",
            "citympg                  639.1211    853.572      0.749      0.456   -1057.446    2335.688\n",
            "highwaympg              -239.9637    769.123     -0.312      0.756   -1768.679    1288.752\n",
            "fueltype_gas            6290.6800   2516.294      2.500      0.014    1289.273    1.13e+04\n",
            "aspiration_turbo        2528.1790    820.112      3.083      0.003     898.118    4158.240\n",
            "carbody_hardtop         -233.7527   1674.144     -0.140      0.889   -3561.296    3093.790\n",
            "carbody_hatchback      -3517.0830   1136.021     -3.096      0.003   -5775.048   -1259.118\n",
            "carbody_sedan          -3523.8275   1243.949     -2.833      0.006   -5996.310   -1051.345\n",
            "carbody_wagon          -4154.1619   1363.304     -3.047      0.003   -6863.876   -1444.448\n",
            "drivewheel_fwd          -850.5823   1150.963     -0.739      0.462   -3138.245    1437.080\n",
            "drivewheel_rwd         -1393.0072   1327.046     -1.050      0.297   -4030.655    1244.640\n",
            "enginelocation_rear     4920.8510   1878.236      2.620      0.010    1187.653    8654.049\n",
            "enginetype_dohcv         290.8615   3118.387      0.093      0.926   -5907.270    6488.993\n",
            "enginetype_l           -1259.1940    958.461     -1.314      0.192   -3164.240     645.852\n",
            "enginetype_ohc          -318.0058    902.080     -0.353      0.725   -2110.988    1474.976\n",
            "enginetype_ohcf         1138.9452   1059.824      1.075      0.286    -967.570    3245.460\n",
            "enginetype_ohcv        -1391.8556   1301.970     -1.069      0.288   -3979.663    1195.952\n",
            "enginetype_rotor        6744.3881   2491.565      2.707      0.008    1792.132    1.17e+04\n",
            "fuelsystem_2bbl         2404.4879   1359.986      1.768      0.081    -298.631    5107.607\n",
            "fuelsystem_4bbl         1132.0482   2592.199      0.437      0.663   -4020.227    6284.324\n",
            "fuelsystem_idi          4822.5828   4052.732      1.190      0.237   -3232.661    1.29e+04\n",
            "fuelsystem_mfi         -2.379e-12   2.53e-12     -0.941      0.349   -7.41e-12    2.65e-12\n",
            "fuelsystem_mpfi         1568.0491   1482.816      1.057      0.293   -1379.208    4515.306\n",
            "fuelsystem_spdi         1158.1552   1718.412      0.674      0.502   -2257.375    4573.685\n",
            "fuelsystem_spfi         2039.4149   2480.546      0.822      0.413   -2890.939    6969.769\n",
            "car_company_audi          14.9686   2053.835      0.007      0.994   -4067.251    4097.188\n",
            "car_company_bmw         7272.2594   1965.043      3.701      0.000    3366.524    1.12e+04\n",
            "car_company_buick       6875.9526   2219.913      3.097      0.003    2463.635    1.13e+04\n",
            "car_company_chevrolet  -4172.9890   2343.759     -1.780      0.078   -8831.465     485.487\n",
            "car_company_dodge      -4140.1906   1782.403     -2.323      0.023   -7682.909    -597.472\n",
            "car_company_honda      -2024.8946   2014.830     -1.005      0.318   -6029.588    1979.799\n",
            "car_company_isuzu      -1568.7948   1939.801     -0.809      0.421   -5424.360    2286.770\n",
            "car_company_jaguar      1491.0493   2560.096      0.582      0.562   -3597.419    6579.517\n",
            "car_company_mazda      -2504.6200   1527.853     -1.639      0.105   -5541.394     532.154\n",
            "car_company_mercury    -1594.0387   2486.135     -0.641      0.523   -6535.502    3347.424\n",
            "car_company_mitsubishi -4572.3670   1771.568     -2.581      0.012   -8093.551   -1051.183\n",
            "car_company_nissan     -3072.2827   1501.862     -2.046      0.044   -6057.396     -87.169\n",
            "car_company_peugeot    -1259.1940    958.461     -1.314      0.192   -3164.240     645.852\n",
            "car_company_plymouth   -4405.8614   1752.695     -2.514      0.014   -7889.532    -922.191\n",
            "car_company_porsche     5532.1130   2496.536      2.216      0.029     569.977    1.05e+04\n",
            "car_company_renault    -3693.7631   2120.914     -1.742      0.085   -7909.309     521.783\n",
            "car_company_saab         809.4785   1941.181      0.417      0.678   -3048.828    4667.785\n",
            "car_company_subaru     -3781.9058   1543.236     -2.451      0.016   -6849.254    -714.558\n",
            "car_company_toyota     -2751.7696   1433.614     -1.919      0.058   -5601.233      97.694\n",
            "car_company_volkswagen -1847.2038   1683.429     -1.097      0.276   -5193.202    1498.794\n",
            "car_company_volvo        237.9138   1973.607      0.121      0.904   -3684.843    4160.671\n",
            "==============================================================================\n",
            "Omnibus:                        1.439   Durbin-Watson:                   1.908\n",
            "Prob(Omnibus):                  0.487   Jarque-Bera (JB):                1.004\n",
            "Skew:                           0.119   Prob(JB):                        0.605\n",
            "Kurtosis:                       3.335   Cond. No.                     1.43e+16\n",
            "==============================================================================\n",
            "\n",
            "Warnings:\n",
            "[1] Standard Errors assume that the covariance matrix of the errors is correctly specified.\n",
            "[2] The smallest eigenvalue is 5.22e-30. This might indicate that there are\n",
            "strong multicollinearity problems or that the design matrix is singular.\n"
          ]
        }
      ]
    },
    {
      "cell_type": "markdown",
      "metadata": {
        "id": "mebERAD9DtH7"
      },
      "source": [
        "---\n"
      ]
    },
    {
      "cell_type": "markdown",
      "metadata": {
        "id": "g_cZ9JNVTL10"
      },
      "source": [
        "#### Understanding Hypothesis Testing\n",
        "\n",
        "From the summary report of the linear regression, you may observe that each feature variable has a **p-value** `(P>|t|)` associated with it. The p-value is one of the important statistics which can be used to eliminate features which are not relatively significant in our model. Before understanding the p-value concept, let us first explore the concept of hypothesis testing.\n",
        "\n",
        "**Hypothesis Testing**\n",
        "\n",
        "Hypothesis Testing is basically testing an assumption that we make about a parameter. This assumption may or may not be true. Eg., \"students having an affluent background are more likely to do well in academics in higher education\" is one such hypothesis.\n",
        "\n",
        "The steps followed in hypothesis testing are:\n",
        "\n",
        "1. An initial assumption or hypothesis is made.\n",
        "2. The validity of that hypothesis is tested.\n",
        "3. If the hypothesis is found to be true, it is accepted otherwise it is rejected.\n",
        "\n",
        "There are two types of hypothesis:\n",
        "\n",
        "1. **Null hypothesis:** denoted by $H_0$, is a general statement or an initial assumption which we make about a parameter. \n",
        "2. **Alternative hypothesis:** denoted by $H_1$ or $H_a$, It is contrary to the null hypothesis. It is the hypothesis we would accept if our null hypothesis is found to be false. \n",
        "\n",
        "In hypothesis testing, we need to gather enough evidence to either accept or reject our null hypothesis. There are two types of hypothesis tests that can be used for multiple linear regression: \n",
        "- **F-test:** This test measures the overall significance of all the coefficients.\n",
        "- **T-test:** This test measures the significance of each individual coefficient.\n",
        "\n",
        "Let us first determine the overall significance of our model using the F-test."
      ]
    },
    {
      "cell_type": "markdown",
      "metadata": {
        "id": "uVqKWc0FWd_K"
      },
      "source": [
        "---"
      ]
    },
    {
      "cell_type": "markdown",
      "metadata": {
        "id": "VtfCyEXmWqZd"
      },
      "source": [
        "#### Task 1: F-Test\n",
        "\n",
        "The F-test is used to assess all the coefficients collectively. It validates whether any of the independent variables are significant. Let us apply F-test to the car price prediction model.\n",
        "\n",
        "The regression equation for the car price prediction model can be given as\n",
        "\n",
        "$$Y = \\beta_0 + \\beta_1 x_1 + \\beta_2 x_2 + \\beta_3 x_3 + \\dots + \\beta_{59} x_{59} + \\epsilon$$\n",
        "\n",
        "where,\n",
        " - $x_1$ is `symboling`\n",
        " - $x_2$ is `doornumber`\n",
        " - $x_3$ is `wheelbase`\n",
        " \n",
        " $\\vdots$   \n",
        "\n",
        " - $x_{59}$ is `wheelbase` and \n",
        " - $Y$ is the `price`\n",
        "\n",
        "**Step 1: Define null and alternative hypothesis**\n",
        "\n",
        "$H_0: \\beta_1 = \\beta_2 = \\dots = \\beta_{59} = 0$ i.e. all the regression coefficients are equal to zero.\n",
        " \n",
        "$H_1: \\beta_i \\neq 0$, i.e. at least one of the coefficient is not zero.\n",
        "\n",
        "- $H_0$ means that none of the feature or independent variables have a significant relationship with our target variable `price` and our model has no predictive capability.\n",
        "\n",
        "- $H_1$ means that at least one feature variable has a significant relationship with our target variable `price`.\n",
        "\n",
        "**Step 2: Calculate the test statistic value** (in case of F-test it is F-statistic value)\n",
        "\n",
        "It is calculated as\n",
        "\n",
        "$$F* = \\frac{\\textrm{explained variance}}{\\textrm{unexplained variance}} = \\frac{\\text{MSM}}{\\text{MSE}}$$\n",
        "\n",
        "where,\n",
        "\n",
        "- MSM is the Mean of Squares for Model\n",
        "- MSE is Mean of Squared Errors (or Residuals)\n",
        "\n",
        "Further, MSM  is calculated as\n",
        "\n",
        "$$\\text{MSM} = \\frac{\\text{SSM}}{\\text{DFM}}=\\frac{\\sum(y_{\\text{pred}} - \\bar{y})^2}{ p - 1}$$\n",
        "\n",
        "where,\n",
        "- SSM is the Sum of Squares for Model\n",
        "- DFM is Degrees of Freedom for Model\n",
        "- $p$ is the number of independent variables\n",
        "\n",
        "Similarly, MSE is calculated as:\n",
        "\n",
        "$$\\text{MSE} = \\frac{\\text{SSE}}{\\text{DFE}}=\\frac{\\sum(y - y_{\\text{pred}})^2}{ N - p}$$\n",
        "\n",
        "where,\n",
        "- SSE is the Sum of Squares for Errors\n",
        "- DFE is Degrees of Freedom for Errors\n",
        "- $N$ is number of instances (or rows) in the dataset\n",
        "\n",
        "Let's create `mean_sq_model()` and `mean_sq_error()` functions to calculate the MSM and MSE values using the above formulae respectively.\n",
        "\n",
        "**Note:** You can also obtain the MSM and MSE values using the `mse_model` and `mse_resid` attributes respectively of `statsmodels.api` module."
      ]
    },
    {
      "cell_type": "code",
      "metadata": {
        "id": "k87IbgJ2o-Br"
      },
      "source": [
        "# S1.1: Calculate N and p values\n",
        "N=X_train.shape[0]\n",
        "p=X_train.shape[1]"
      ],
      "execution_count": null,
      "outputs": []
    },
    {
      "cell_type": "code",
      "metadata": {
        "id": "nB_mnlQfq4HM"
      },
      "source": [
        "# S1.2: Create functions to calculate MSM and MSE values respectively.\n",
        "def msm(x,y):\n",
        "    y_pred=lin_reg.predict(x)\n",
        "    return (sum((y_pred-y.mean())**2))/(p-1)\n",
        "def mse(x,y):\n",
        "    y_pred=lin_reg.predict(x)\n",
        "    return (sum((y-y_pred)**2))/(N-p)"
      ],
      "execution_count": null,
      "outputs": []
    },
    {
      "cell_type": "code",
      "metadata": {
        "id": "kljuui_SrREE",
        "colab": {
          "base_uri": "https://localhost:8080/"
        },
        "outputId": "8e25960a-e27e-4c9c-beb8-c964e339e618"
      },
      "source": [
        "# S1.3: Calculate the MSM and MSE on the train sets\n",
        "print(f'MSM={msm(X_train_sm,y_train)}\\tMSE={mse(X_train_sm,y_train)}')"
      ],
      "execution_count": null,
      "outputs": [
        {
          "output_type": "stream",
          "name": "stdout",
          "text": [
            "MSM=146831795.74120072\tMSE=2375608.360221412\n"
          ]
        }
      ]
    },
    {
      "cell_type": "markdown",
      "metadata": {
        "id": "SeXUsj5Ds9LN"
      },
      "source": [
        "Now let us calculate the F-statistic value using the\n",
        "\n",
        "$$F* = \\frac{\\text{MSM}}{\\text{MSE}}$$\n",
        "\n",
        " formula."
      ]
    },
    {
      "cell_type": "code",
      "metadata": {
        "id": "iP6rtlBEtS_A",
        "colab": {
          "base_uri": "https://localhost:8080/"
        },
        "outputId": "0e6bc365-e096-4b33-c1ed-fa800235a9c8"
      },
      "source": [
        "# S1.4: Calculate the F-statistic using the above formula.\n",
        "f_stat=msm(X_train_sm,y_train)/mse(X_train_sm,y_train)\n",
        "f_stat"
      ],
      "execution_count": null,
      "outputs": [
        {
          "output_type": "execute_result",
          "data": {
            "text/plain": [
              "61.80808175280022"
            ]
          },
          "metadata": {},
          "execution_count": 51
        }
      ]
    },
    {
      "cell_type": "markdown",
      "metadata": {
        "id": "bF35-Ib0ux0R"
      },
      "source": [
        "**Step 3: Determine the p-value or probability value for the F-statistic**\n",
        "\n",
        "We can use manually calculate p-value for any test-statistic using the formula:\n",
        "$$\\textrm{p value} = 2 \\times  (1 - \\textrm{cdf}(|ts|))$$\n",
        "\n",
        "where $|ts|$ is the absolute value of test statistic (in this case, F-statistic)\n",
        "\n"
      ]
    },
    {
      "cell_type": "code",
      "metadata": {
        "id": "6KUSyTPlvNrQ",
        "colab": {
          "base_uri": "https://localhost:8080/"
        },
        "outputId": "765786bd-a696-46f0-d2d2-be8f4bf990a5"
      },
      "source": [
        "# S1.5: Calculate p-value for F-statistic.\n",
        "from scipy.stats import norm\n",
        "f_p_value=2*(1-(norm.cdf(abs(f_stat))))\n",
        "f_p_value"
      ],
      "execution_count": null,
      "outputs": [
        {
          "output_type": "execute_result",
          "data": {
            "text/plain": [
              "0.0"
            ]
          },
          "metadata": {},
          "execution_count": 53
        }
      ]
    },
    {
      "cell_type": "markdown",
      "metadata": {
        "id": "Y1tK5Pjpvab-"
      },
      "source": [
        "We can also directly calculate p-value for F-statistic using `f_pvalue` attribute of the `statsmodels.api` module."
      ]
    },
    {
      "cell_type": "code",
      "metadata": {
        "id": "sqP5GjemvZ__",
        "colab": {
          "base_uri": "https://localhost:8080/"
        },
        "outputId": "19090097-b313-4c43-de45-31839327dd05"
      },
      "source": [
        "# S1.6: Calculate p-value using f_pvalue attribute\n",
        "print(round(lin_reg.f_pvalue,5))"
      ],
      "execution_count": null,
      "outputs": [
        {
          "output_type": "stream",
          "name": "stdout",
          "text": [
            "0.0\n"
          ]
        }
      ]
    },
    {
      "cell_type": "markdown",
      "metadata": {
        "id": "dPpkhyzvwazi"
      },
      "source": [
        "Thus, the F-statistic value is 61.81 and its p-value is 0.0. You may observe these values are similar to the `F-statistic` and `Prob (F-statistic)` values of the summary table. Hence, you can also derive F-statistic and its p-value directly from the summary table.\n",
        "\n",
        "**Step 4: Accept or reject null hypothesis based on the p-value**\n",
        "\n",
        "After determining the p-value, we either accept or reject our null hypothesis. \n",
        "\n",
        "If p-value is below 0.05, the null hypothesis will be rejected. Let's determine whether the p-value is below 0.05 or not. \n",
        "\n"
      ]
    },
    {
      "cell_type": "code",
      "metadata": {
        "id": "-kC7V6ex4V6U",
        "colab": {
          "base_uri": "https://localhost:8080/"
        },
        "outputId": "3d4ad2e3-3794-4414-8250-797191b30d42"
      },
      "source": [
        "# S1.7: Create a function to accept or reject null hypothesis.\n",
        "def null_hyp(p_value):\n",
        "    if p_value>0.05:\n",
        "        print(\"Accept Null Hypothesis\")\n",
        "    else:\n",
        "        print(\"Reject Null Hypothesis\")\n",
        "null_hyp(f_p_value)"
      ],
      "execution_count": null,
      "outputs": [
        {
          "output_type": "stream",
          "name": "stdout",
          "text": [
            "Reject Null Hypothesis\n"
          ]
        }
      ]
    },
    {
      "cell_type": "markdown",
      "metadata": {
        "id": "Rex_Dpqw4iFx"
      },
      "source": [
        "The p-value that we obtained from F-test is equal to 0.00, so we can reject our null hypothesis and conclude that at least one of the independent variable has linear relationship with our target variable `price`. But, what is p-value?\n",
        "\n",
        "**What is meant by p-value?**\n",
        "\n",
        "The p-value is a probability value that helps us to determine whether our hypothesis is correct. The p-value for each feature tests the null hypothesis that there is no correlation between the feature and the target variable. Smaller the p-value, stronger is the evidence that you should reject null hypothesis. A p-value less than 0.05 is statistically significant. It indicates that there is less than 5% probability that the null hypothesis is correct. Therefore, we reject the null hypothesis, and accept the alternative hypothesis. However, a p-value greater than 0.05 indicates weak evidence and we fail to reject the null hypothesis.\n",
        "\n",
        "The F-test for our model rejected the null hypothesis and concluded that at least one feature variable is significant and our model definitely possess predictive capability. Now, we will perform **t-test** to determine which variables are significant in predicting the price of a car and which are not."
      ]
    },
    {
      "cell_type": "markdown",
      "metadata": {
        "id": "GRB8dcxb5lsA"
      },
      "source": [
        "---"
      ]
    },
    {
      "cell_type": "markdown",
      "metadata": {
        "id": "SCeaSQ-n7NXJ"
      },
      "source": [
        "#### Task 2: T-Test\n",
        "\n",
        "After concluding from the F-test that at least one feature variable is significant, now we may want to know which variables are significant. For this, we can do a **t-test** to find out which independent variable is making a useful contribution in the prediction of the dependent variable.\n",
        "\n",
        "Remember, the regression equation for our model is:\n",
        "\n",
        "\n",
        "\n",
        "$$Y = \\beta_0 + \\beta_1 x_1 + \\beta_2 x_2 + \\beta_3 x_3 + \\dots + \\beta_{59} x_{59} + \\epsilon$$\n",
        "\n",
        "where,\n",
        "\n",
        " - $x_1$ is symboling\n",
        " - $x_2$ is doornumber \n",
        " - $x_3$ is wheelbase\n",
        " \n",
        " $\\vdots$   \n",
        "\n",
        " -  $x_{59}$ is wheelbase    \n",
        "\n",
        " and \n",
        " - $Y$ is the price\n",
        "\n",
        "For example, let us determine whether feature `symboling` is contributing significantly in the prediction of dependent variable `price`. We will follow the same steps as that of F-test.\n",
        "\n",
        "**Step 1:  Define the null and alternative hypothesis**\n",
        "\n",
        "$H_0:   \\beta_1 = 0$ i.e. `symboling` and `price` are not linearly related\n",
        " \n",
        "$H_1:   \\beta_1 \\neq 0$ i.e. `symboling` and `price` are linearly related\n",
        "\n",
        "**Step 2: Calculate the test statistic value** (in case of t-test, it is t-statistic value)\n",
        "\n",
        "The t-statistic is calculated as:\n",
        "\n",
        "$$t∗= \\frac{\\textrm{coefficient - hypothesized  value} }{\\textrm{standard  error  of  coefficient}}$$\n",
        "\n",
        "As the hypothesized value is usually 0, \n",
        "$$t∗= \\frac{\\textrm{coefficient} }{\\textrm{standard  error  of  coefficient}}$$\n",
        "\n",
        "For our example above, the t-statistic is:\n",
        "\n",
        "$$t∗= \\frac{\\beta_1 }{SE(\\beta_1)}$$\n",
        " \n",
        "The **standard error of coefficient (SE)** is an estimate of the standard deviation of the coefficient, the amount it varies across cases. Its formula is quite complicated. \n",
        "\n",
        "However, we can obtain standard error for every coefficient by using `bse` attribute of `statsmodels.api` module. The `b` in `bse` stands for the coefficient $\\beta$ and `se` for standard errors.\n"
      ]
    },
    {
      "cell_type": "code",
      "metadata": {
        "id": "W74Uh6Oa82C7",
        "colab": {
          "base_uri": "https://localhost:8080/"
        },
        "outputId": "140ba410-a426-4cfc-ad8b-e97b88582df5"
      },
      "source": [
        "# S2.1: Calculate the SE(beta_1) value.\n",
        "se_beta1=lin_reg.bse['symboling']\n",
        "se_beta1"
      ],
      "execution_count": null,
      "outputs": [
        {
          "output_type": "execute_result",
          "data": {
            "text/plain": [
              "338.2612040241071"
            ]
          },
          "metadata": {},
          "execution_count": 58
        }
      ]
    },
    {
      "cell_type": "code",
      "metadata": {
        "id": "2fB6j9d094l8",
        "colab": {
          "base_uri": "https://localhost:8080/"
        },
        "outputId": "89dd80ee-1fe8-4d92-ca01-99fd43c1eec1"
      },
      "source": [
        "# S2.2: Calculate t-statistic for beta_1 using the above formula.\n",
        "t_stat_b1=lin_reg.params['symboling']/se_beta1\n",
        "t_stat_b1"
      ],
      "execution_count": null,
      "outputs": [
        {
          "output_type": "execute_result",
          "data": {
            "text/plain": [
              "-0.7664492916550205"
            ]
          },
          "metadata": {},
          "execution_count": 60
        }
      ]
    },
    {
      "cell_type": "markdown",
      "metadata": {
        "id": "PXwNEAyT-X0K"
      },
      "source": [
        "**Step 3:  Determine the p-value or probability value for the t-statistic**\n",
        "\n",
        "After obtaining the t-statistic for $\\beta_1$, let's validate the null hypothesis by calculating the p-value.\n"
      ]
    },
    {
      "cell_type": "code",
      "metadata": {
        "id": "mtTAnmdm-fJP",
        "colab": {
          "base_uri": "https://localhost:8080/"
        },
        "outputId": "20436ae5-0b20-4f1a-f549-c14f77878199"
      },
      "source": [
        "# S2.3: Calculate p-value based on t-statistic.\n",
        "p_value_beta1=2*(1-(norm.cdf(abs(t_stat_b1))))\n",
        "p_value_beta1"
      ],
      "execution_count": null,
      "outputs": [
        {
          "output_type": "execute_result",
          "data": {
            "text/plain": [
              "0.4434090131015025"
            ]
          },
          "metadata": {},
          "execution_count": 62
        }
      ]
    },
    {
      "cell_type": "markdown",
      "metadata": {
        "id": "y-bMn1aa-1cG"
      },
      "source": [
        "Thus, the t-statistic value for $\\beta_1$ is -0.766 and its p-value is 0.443. You can also derive these values directly from the summary table.\n",
        "\n",
        "**Step 4: Accept or reject null hypothesis based on the p-value**\n",
        "\n",
        "After determining the p-value, we either accept or reject our null hypothesis.\n",
        "\n"
      ]
    },
    {
      "cell_type": "code",
      "metadata": {
        "id": "dx8Bm83l_HpY",
        "colab": {
          "base_uri": "https://localhost:8080/"
        },
        "outputId": "187a56cb-5e63-49f9-ada8-63acc89fc1c4"
      },
      "source": [
        "# S2.4: Accept or reject null hypothesis\n",
        "null_hyp(p_value_beta1)"
      ],
      "execution_count": null,
      "outputs": [
        {
          "output_type": "stream",
          "name": "stdout",
          "text": [
            "Accept Null Hypothesis\n"
          ]
        }
      ]
    },
    {
      "cell_type": "markdown",
      "metadata": {
        "id": "AoEIHQEc_d7M"
      },
      "source": [
        "Since the p-value is above 0.05, the null hypothesis will be accepted. This means that `symboling` and `price` are not linearly related and `symboling` is not making a useful contribution in predicting the target variable `price`. Hence, we can remove this feature from our model.\n",
        "\n",
        "Similarly, let's perform t-test for the second feature `doornumber` to determine whether it is significant or not. For this, our null hypothesis and alternate hypothesis would be:\n",
        "\n",
        "$H_0:   \\beta_2 = 0$ i.e. `doornumber` and `price` are not linearly related\n",
        " \n",
        "$H_1:   \\beta_2 \\neq 0$ i.e. `doornumber` and `price` are  linearly related\n",
        "\n"
      ]
    },
    {
      "cell_type": "code",
      "metadata": {
        "id": "S9Nf7rJTAlI2",
        "colab": {
          "base_uri": "https://localhost:8080/"
        },
        "outputId": "2c10586e-1c4e-45e0-c365-c0175a9538b2"
      },
      "source": [
        "# S2.5: Calculate the SE (beta_2) value.\n",
        "se_beta2=lin_reg.bse['doornumber']\n",
        "se_beta2"
      ],
      "execution_count": null,
      "outputs": [
        {
          "output_type": "execute_result",
          "data": {
            "text/plain": [
              "276.4895152296255"
            ]
          },
          "metadata": {},
          "execution_count": 64
        }
      ]
    },
    {
      "cell_type": "code",
      "metadata": {
        "id": "lJdf1NrCAtaB",
        "colab": {
          "base_uri": "https://localhost:8080/"
        },
        "outputId": "9ba4c5d2-ed78-462b-b903-144c1b3f1162"
      },
      "source": [
        "# S2.6: Calculate t-statistic for beta_2 using formula\n",
        "t_stat_b2=lin_reg.params['doornumber']/se_beta2\n",
        "t_stat_b2"
      ],
      "execution_count": null,
      "outputs": [
        {
          "output_type": "execute_result",
          "data": {
            "text/plain": [
              "0.9269809100875498"
            ]
          },
          "metadata": {},
          "execution_count": 65
        }
      ]
    },
    {
      "cell_type": "code",
      "metadata": {
        "id": "jl1Nx1f9A6L-",
        "colab": {
          "base_uri": "https://localhost:8080/"
        },
        "outputId": "5207984d-aedc-4624-a5f3-6a5943812402"
      },
      "source": [
        "# S2.7: Calculate p-value based on t-statistic\n",
        "p_value_beta2=2*(1-(norm.cdf(abs(t_stat_b2))))\n",
        "p_value_beta2"
      ],
      "execution_count": null,
      "outputs": [
        {
          "output_type": "execute_result",
          "data": {
            "text/plain": [
              "0.3539364459547798"
            ]
          },
          "metadata": {},
          "execution_count": 66
        }
      ]
    },
    {
      "cell_type": "code",
      "metadata": {
        "id": "14smmrFRCEzJ",
        "colab": {
          "base_uri": "https://localhost:8080/"
        },
        "outputId": "60abcc8c-8d52-451e-b2d5-bbf80b57be54"
      },
      "source": [
        "# S2.8: Accept or reject null hypothesis\n",
        "null_hyp(p_value_beta2)"
      ],
      "execution_count": null,
      "outputs": [
        {
          "output_type": "stream",
          "name": "stdout",
          "text": [
            "Accept Null Hypothesis\n"
          ]
        }
      ]
    },
    {
      "cell_type": "markdown",
      "metadata": {
        "id": "JqNFRfH3CLPu"
      },
      "source": [
        "Since the p-value is above 0.05, the null hypothesis will be accepted. This means that the feature `doornumber` is not making a useful contribution in predicting the target variable `price`. Hence, we can remove this feature from our model. \n",
        "\n",
        "Similarly, you can perform t-test for each independent variable and determine which variable is actually contributing in predicting the price of a car. \n",
        "\n",
        "You can obtain p-values for all features all at once either from the summary of linear regression report or by using `pvalues` attribute of Linear regression object."
      ]
    },
    {
      "cell_type": "code",
      "metadata": {
        "id": "FuTVDydcDhB9",
        "colab": {
          "base_uri": "https://localhost:8080/"
        },
        "outputId": "e8e307ff-7a05-45e6-97db-67200db1cd67"
      },
      "source": [
        "# S2.9: Obtain p-values for all features\n",
        "lin_reg.pvalues"
      ],
      "execution_count": null,
      "outputs": [
        {
          "output_type": "execute_result",
          "data": {
            "text/plain": [
              "const                     0.000002\n",
              "symboling                 0.445484\n",
              "doornumber                0.356501\n",
              "wheelbase                 0.491750\n",
              "carlength                 0.356087\n",
              "carwidth                  0.003989\n",
              "carheight                 0.364582\n",
              "curbweight                0.016007\n",
              "cylindernumber            0.244234\n",
              "enginesize                0.000297\n",
              "boreratio                 0.007926\n",
              "stroke                    0.789116\n",
              "compressionratio          0.782639\n",
              "horsepower                0.758939\n",
              "peakrpm                   0.012603\n",
              "citympg                   0.456021\n",
              "highwaympg                0.755790\n",
              "fueltype_gas              0.014296\n",
              "aspiration_turbo          0.002748\n",
              "carbody_hardtop           0.889279\n",
              "carbody_hatchback         0.002640\n",
              "carbody_sedan             0.005734\n",
              "carbody_wagon             0.003059\n",
              "drivewheel_fwd            0.461885\n",
              "drivewheel_rwd            0.296761\n",
              "enginelocation_rear       0.010376\n",
              "enginetype_dohcv          0.925901\n",
              "enginetype_l              0.192379\n",
              "enginetype_ohc            0.725297\n",
              "enginetype_ohcf           0.285501\n",
              "enginetype_ohcv           0.288010\n",
              "enginetype_rotor          0.008174\n",
              "fuelsystem_2bbl           0.080563\n",
              "fuelsystem_4bbl           0.663401\n",
              "fuelsystem_idi            0.237300\n",
              "fuelsystem_mfi            0.349398\n",
              "fuelsystem_mpfi           0.293220\n",
              "fuelsystem_spdi           0.502118\n",
              "fuelsystem_spfi           0.413231\n",
              "car_company_audi          0.994202\n",
              "car_company_bmw           0.000376\n",
              "car_company_buick         0.002628\n",
              "car_company_chevrolet     0.078490\n",
              "car_company_dodge         0.022523\n",
              "car_company_honda         0.317686\n",
              "car_company_isuzu         0.420871\n",
              "car_company_jaguar        0.561791\n",
              "car_company_mazda         0.104761\n",
              "car_company_mercury       0.523097\n",
              "car_company_mitsubishi    0.011527\n",
              "car_company_nissan        0.043811\n",
              "car_company_peugeot       0.192379\n",
              "car_company_plymouth      0.013786\n",
              "car_company_porsche       0.029307\n",
              "car_company_renault       0.085115\n",
              "car_company_saab          0.677703\n",
              "car_company_subaru        0.016262\n",
              "car_company_toyota        0.058203\n",
              "car_company_volkswagen    0.275544\n",
              "car_company_volvo         0.904327\n",
              "dtype: float64"
            ]
          },
          "metadata": {},
          "execution_count": 68
        }
      ]
    },
    {
      "cell_type": "markdown",
      "metadata": {
        "id": "OrL_v5-lDvcz"
      },
      "source": [
        "Let us obtain those features whose p-value is less than 0.05 and perform linear regression using the reduced features.\n",
        "\n"
      ]
    },
    {
      "cell_type": "code",
      "metadata": {
        "id": "1viwlEMcQIIc",
        "colab": {
          "base_uri": "https://localhost:8080/",
          "height": 1000
        },
        "outputId": "f8d3ca16-4b99-47c6-8fd5-373ccef2e23d"
      },
      "source": [
        "# S2.10: Create a dataframe with Features and their corresponding p-values\n",
        "df_pvalues=pd.DataFrame(zip(features,lin_reg.pvalues.iloc[1:]),columns=['features','pvalues'])\n",
        "df_pvalues"
      ],
      "execution_count": null,
      "outputs": [
        {
          "output_type": "execute_result",
          "data": {
            "text/html": [
              "\n",
              "  <div id=\"df-825baf47-ad88-4376-a84f-47466325f15b\">\n",
              "    <div class=\"colab-df-container\">\n",
              "      <div>\n",
              "<style scoped>\n",
              "    .dataframe tbody tr th:only-of-type {\n",
              "        vertical-align: middle;\n",
              "    }\n",
              "\n",
              "    .dataframe tbody tr th {\n",
              "        vertical-align: top;\n",
              "    }\n",
              "\n",
              "    .dataframe thead th {\n",
              "        text-align: right;\n",
              "    }\n",
              "</style>\n",
              "<table border=\"1\" class=\"dataframe\">\n",
              "  <thead>\n",
              "    <tr style=\"text-align: right;\">\n",
              "      <th></th>\n",
              "      <th>features</th>\n",
              "      <th>pvalues</th>\n",
              "    </tr>\n",
              "  </thead>\n",
              "  <tbody>\n",
              "    <tr>\n",
              "      <th>0</th>\n",
              "      <td>symboling</td>\n",
              "      <td>0.445484</td>\n",
              "    </tr>\n",
              "    <tr>\n",
              "      <th>1</th>\n",
              "      <td>doornumber</td>\n",
              "      <td>0.356501</td>\n",
              "    </tr>\n",
              "    <tr>\n",
              "      <th>2</th>\n",
              "      <td>wheelbase</td>\n",
              "      <td>0.491750</td>\n",
              "    </tr>\n",
              "    <tr>\n",
              "      <th>3</th>\n",
              "      <td>carlength</td>\n",
              "      <td>0.356087</td>\n",
              "    </tr>\n",
              "    <tr>\n",
              "      <th>4</th>\n",
              "      <td>carwidth</td>\n",
              "      <td>0.003989</td>\n",
              "    </tr>\n",
              "    <tr>\n",
              "      <th>5</th>\n",
              "      <td>carheight</td>\n",
              "      <td>0.364582</td>\n",
              "    </tr>\n",
              "    <tr>\n",
              "      <th>6</th>\n",
              "      <td>curbweight</td>\n",
              "      <td>0.016007</td>\n",
              "    </tr>\n",
              "    <tr>\n",
              "      <th>7</th>\n",
              "      <td>cylindernumber</td>\n",
              "      <td>0.244234</td>\n",
              "    </tr>\n",
              "    <tr>\n",
              "      <th>8</th>\n",
              "      <td>enginesize</td>\n",
              "      <td>0.000297</td>\n",
              "    </tr>\n",
              "    <tr>\n",
              "      <th>9</th>\n",
              "      <td>boreratio</td>\n",
              "      <td>0.007926</td>\n",
              "    </tr>\n",
              "    <tr>\n",
              "      <th>10</th>\n",
              "      <td>stroke</td>\n",
              "      <td>0.789116</td>\n",
              "    </tr>\n",
              "    <tr>\n",
              "      <th>11</th>\n",
              "      <td>compressionratio</td>\n",
              "      <td>0.782639</td>\n",
              "    </tr>\n",
              "    <tr>\n",
              "      <th>12</th>\n",
              "      <td>horsepower</td>\n",
              "      <td>0.758939</td>\n",
              "    </tr>\n",
              "    <tr>\n",
              "      <th>13</th>\n",
              "      <td>peakrpm</td>\n",
              "      <td>0.012603</td>\n",
              "    </tr>\n",
              "    <tr>\n",
              "      <th>14</th>\n",
              "      <td>citympg</td>\n",
              "      <td>0.456021</td>\n",
              "    </tr>\n",
              "    <tr>\n",
              "      <th>15</th>\n",
              "      <td>highwaympg</td>\n",
              "      <td>0.755790</td>\n",
              "    </tr>\n",
              "    <tr>\n",
              "      <th>16</th>\n",
              "      <td>fueltype_gas</td>\n",
              "      <td>0.014296</td>\n",
              "    </tr>\n",
              "    <tr>\n",
              "      <th>17</th>\n",
              "      <td>aspiration_turbo</td>\n",
              "      <td>0.002748</td>\n",
              "    </tr>\n",
              "    <tr>\n",
              "      <th>18</th>\n",
              "      <td>carbody_hardtop</td>\n",
              "      <td>0.889279</td>\n",
              "    </tr>\n",
              "    <tr>\n",
              "      <th>19</th>\n",
              "      <td>carbody_hatchback</td>\n",
              "      <td>0.002640</td>\n",
              "    </tr>\n",
              "    <tr>\n",
              "      <th>20</th>\n",
              "      <td>carbody_sedan</td>\n",
              "      <td>0.005734</td>\n",
              "    </tr>\n",
              "    <tr>\n",
              "      <th>21</th>\n",
              "      <td>carbody_wagon</td>\n",
              "      <td>0.003059</td>\n",
              "    </tr>\n",
              "    <tr>\n",
              "      <th>22</th>\n",
              "      <td>drivewheel_fwd</td>\n",
              "      <td>0.461885</td>\n",
              "    </tr>\n",
              "    <tr>\n",
              "      <th>23</th>\n",
              "      <td>drivewheel_rwd</td>\n",
              "      <td>0.296761</td>\n",
              "    </tr>\n",
              "    <tr>\n",
              "      <th>24</th>\n",
              "      <td>enginelocation_rear</td>\n",
              "      <td>0.010376</td>\n",
              "    </tr>\n",
              "    <tr>\n",
              "      <th>25</th>\n",
              "      <td>enginetype_dohcv</td>\n",
              "      <td>0.925901</td>\n",
              "    </tr>\n",
              "    <tr>\n",
              "      <th>26</th>\n",
              "      <td>enginetype_l</td>\n",
              "      <td>0.192379</td>\n",
              "    </tr>\n",
              "    <tr>\n",
              "      <th>27</th>\n",
              "      <td>enginetype_ohc</td>\n",
              "      <td>0.725297</td>\n",
              "    </tr>\n",
              "    <tr>\n",
              "      <th>28</th>\n",
              "      <td>enginetype_ohcf</td>\n",
              "      <td>0.285501</td>\n",
              "    </tr>\n",
              "    <tr>\n",
              "      <th>29</th>\n",
              "      <td>enginetype_ohcv</td>\n",
              "      <td>0.288010</td>\n",
              "    </tr>\n",
              "    <tr>\n",
              "      <th>30</th>\n",
              "      <td>enginetype_rotor</td>\n",
              "      <td>0.008174</td>\n",
              "    </tr>\n",
              "    <tr>\n",
              "      <th>31</th>\n",
              "      <td>fuelsystem_2bbl</td>\n",
              "      <td>0.080563</td>\n",
              "    </tr>\n",
              "    <tr>\n",
              "      <th>32</th>\n",
              "      <td>fuelsystem_4bbl</td>\n",
              "      <td>0.663401</td>\n",
              "    </tr>\n",
              "    <tr>\n",
              "      <th>33</th>\n",
              "      <td>fuelsystem_idi</td>\n",
              "      <td>0.237300</td>\n",
              "    </tr>\n",
              "    <tr>\n",
              "      <th>34</th>\n",
              "      <td>fuelsystem_mfi</td>\n",
              "      <td>0.349398</td>\n",
              "    </tr>\n",
              "    <tr>\n",
              "      <th>35</th>\n",
              "      <td>fuelsystem_mpfi</td>\n",
              "      <td>0.293220</td>\n",
              "    </tr>\n",
              "    <tr>\n",
              "      <th>36</th>\n",
              "      <td>fuelsystem_spdi</td>\n",
              "      <td>0.502118</td>\n",
              "    </tr>\n",
              "    <tr>\n",
              "      <th>37</th>\n",
              "      <td>fuelsystem_spfi</td>\n",
              "      <td>0.413231</td>\n",
              "    </tr>\n",
              "    <tr>\n",
              "      <th>38</th>\n",
              "      <td>car_company_audi</td>\n",
              "      <td>0.994202</td>\n",
              "    </tr>\n",
              "    <tr>\n",
              "      <th>39</th>\n",
              "      <td>car_company_bmw</td>\n",
              "      <td>0.000376</td>\n",
              "    </tr>\n",
              "    <tr>\n",
              "      <th>40</th>\n",
              "      <td>car_company_buick</td>\n",
              "      <td>0.002628</td>\n",
              "    </tr>\n",
              "    <tr>\n",
              "      <th>41</th>\n",
              "      <td>car_company_chevrolet</td>\n",
              "      <td>0.078490</td>\n",
              "    </tr>\n",
              "    <tr>\n",
              "      <th>42</th>\n",
              "      <td>car_company_dodge</td>\n",
              "      <td>0.022523</td>\n",
              "    </tr>\n",
              "    <tr>\n",
              "      <th>43</th>\n",
              "      <td>car_company_honda</td>\n",
              "      <td>0.317686</td>\n",
              "    </tr>\n",
              "    <tr>\n",
              "      <th>44</th>\n",
              "      <td>car_company_isuzu</td>\n",
              "      <td>0.420871</td>\n",
              "    </tr>\n",
              "    <tr>\n",
              "      <th>45</th>\n",
              "      <td>car_company_jaguar</td>\n",
              "      <td>0.561791</td>\n",
              "    </tr>\n",
              "    <tr>\n",
              "      <th>46</th>\n",
              "      <td>car_company_mazda</td>\n",
              "      <td>0.104761</td>\n",
              "    </tr>\n",
              "    <tr>\n",
              "      <th>47</th>\n",
              "      <td>car_company_mercury</td>\n",
              "      <td>0.523097</td>\n",
              "    </tr>\n",
              "    <tr>\n",
              "      <th>48</th>\n",
              "      <td>car_company_mitsubishi</td>\n",
              "      <td>0.011527</td>\n",
              "    </tr>\n",
              "    <tr>\n",
              "      <th>49</th>\n",
              "      <td>car_company_nissan</td>\n",
              "      <td>0.043811</td>\n",
              "    </tr>\n",
              "    <tr>\n",
              "      <th>50</th>\n",
              "      <td>car_company_peugeot</td>\n",
              "      <td>0.192379</td>\n",
              "    </tr>\n",
              "    <tr>\n",
              "      <th>51</th>\n",
              "      <td>car_company_plymouth</td>\n",
              "      <td>0.013786</td>\n",
              "    </tr>\n",
              "    <tr>\n",
              "      <th>52</th>\n",
              "      <td>car_company_porsche</td>\n",
              "      <td>0.029307</td>\n",
              "    </tr>\n",
              "    <tr>\n",
              "      <th>53</th>\n",
              "      <td>car_company_renault</td>\n",
              "      <td>0.085115</td>\n",
              "    </tr>\n",
              "    <tr>\n",
              "      <th>54</th>\n",
              "      <td>car_company_saab</td>\n",
              "      <td>0.677703</td>\n",
              "    </tr>\n",
              "    <tr>\n",
              "      <th>55</th>\n",
              "      <td>car_company_subaru</td>\n",
              "      <td>0.016262</td>\n",
              "    </tr>\n",
              "    <tr>\n",
              "      <th>56</th>\n",
              "      <td>car_company_toyota</td>\n",
              "      <td>0.058203</td>\n",
              "    </tr>\n",
              "    <tr>\n",
              "      <th>57</th>\n",
              "      <td>car_company_volkswagen</td>\n",
              "      <td>0.275544</td>\n",
              "    </tr>\n",
              "    <tr>\n",
              "      <th>58</th>\n",
              "      <td>car_company_volvo</td>\n",
              "      <td>0.904327</td>\n",
              "    </tr>\n",
              "  </tbody>\n",
              "</table>\n",
              "</div>\n",
              "      <button class=\"colab-df-convert\" onclick=\"convertToInteractive('df-825baf47-ad88-4376-a84f-47466325f15b')\"\n",
              "              title=\"Convert this dataframe to an interactive table.\"\n",
              "              style=\"display:none;\">\n",
              "        \n",
              "  <svg xmlns=\"http://www.w3.org/2000/svg\" height=\"24px\"viewBox=\"0 0 24 24\"\n",
              "       width=\"24px\">\n",
              "    <path d=\"M0 0h24v24H0V0z\" fill=\"none\"/>\n",
              "    <path d=\"M18.56 5.44l.94 2.06.94-2.06 2.06-.94-2.06-.94-.94-2.06-.94 2.06-2.06.94zm-11 1L8.5 8.5l.94-2.06 2.06-.94-2.06-.94L8.5 2.5l-.94 2.06-2.06.94zm10 10l.94 2.06.94-2.06 2.06-.94-2.06-.94-.94-2.06-.94 2.06-2.06.94z\"/><path d=\"M17.41 7.96l-1.37-1.37c-.4-.4-.92-.59-1.43-.59-.52 0-1.04.2-1.43.59L10.3 9.45l-7.72 7.72c-.78.78-.78 2.05 0 2.83L4 21.41c.39.39.9.59 1.41.59.51 0 1.02-.2 1.41-.59l7.78-7.78 2.81-2.81c.8-.78.8-2.07 0-2.86zM5.41 20L4 18.59l7.72-7.72 1.47 1.35L5.41 20z\"/>\n",
              "  </svg>\n",
              "      </button>\n",
              "      \n",
              "  <style>\n",
              "    .colab-df-container {\n",
              "      display:flex;\n",
              "      flex-wrap:wrap;\n",
              "      gap: 12px;\n",
              "    }\n",
              "\n",
              "    .colab-df-convert {\n",
              "      background-color: #E8F0FE;\n",
              "      border: none;\n",
              "      border-radius: 50%;\n",
              "      cursor: pointer;\n",
              "      display: none;\n",
              "      fill: #1967D2;\n",
              "      height: 32px;\n",
              "      padding: 0 0 0 0;\n",
              "      width: 32px;\n",
              "    }\n",
              "\n",
              "    .colab-df-convert:hover {\n",
              "      background-color: #E2EBFA;\n",
              "      box-shadow: 0px 1px 2px rgba(60, 64, 67, 0.3), 0px 1px 3px 1px rgba(60, 64, 67, 0.15);\n",
              "      fill: #174EA6;\n",
              "    }\n",
              "\n",
              "    [theme=dark] .colab-df-convert {\n",
              "      background-color: #3B4455;\n",
              "      fill: #D2E3FC;\n",
              "    }\n",
              "\n",
              "    [theme=dark] .colab-df-convert:hover {\n",
              "      background-color: #434B5C;\n",
              "      box-shadow: 0px 1px 3px 1px rgba(0, 0, 0, 0.15);\n",
              "      filter: drop-shadow(0px 1px 2px rgba(0, 0, 0, 0.3));\n",
              "      fill: #FFFFFF;\n",
              "    }\n",
              "  </style>\n",
              "\n",
              "      <script>\n",
              "        const buttonEl =\n",
              "          document.querySelector('#df-825baf47-ad88-4376-a84f-47466325f15b button.colab-df-convert');\n",
              "        buttonEl.style.display =\n",
              "          google.colab.kernel.accessAllowed ? 'block' : 'none';\n",
              "\n",
              "        async function convertToInteractive(key) {\n",
              "          const element = document.querySelector('#df-825baf47-ad88-4376-a84f-47466325f15b');\n",
              "          const dataTable =\n",
              "            await google.colab.kernel.invokeFunction('convertToInteractive',\n",
              "                                                     [key], {});\n",
              "          if (!dataTable) return;\n",
              "\n",
              "          const docLinkHtml = 'Like what you see? Visit the ' +\n",
              "            '<a target=\"_blank\" href=https://colab.research.google.com/notebooks/data_table.ipynb>data table notebook</a>'\n",
              "            + ' to learn more about interactive tables.';\n",
              "          element.innerHTML = '';\n",
              "          dataTable['output_type'] = 'display_data';\n",
              "          await google.colab.output.renderOutput(dataTable, element);\n",
              "          const docLink = document.createElement('div');\n",
              "          docLink.innerHTML = docLinkHtml;\n",
              "          element.appendChild(docLink);\n",
              "        }\n",
              "      </script>\n",
              "    </div>\n",
              "  </div>\n",
              "  "
            ],
            "text/plain": [
              "                  features   pvalues\n",
              "0                symboling  0.445484\n",
              "1               doornumber  0.356501\n",
              "2                wheelbase  0.491750\n",
              "3                carlength  0.356087\n",
              "4                 carwidth  0.003989\n",
              "5                carheight  0.364582\n",
              "6               curbweight  0.016007\n",
              "7           cylindernumber  0.244234\n",
              "8               enginesize  0.000297\n",
              "9                boreratio  0.007926\n",
              "10                  stroke  0.789116\n",
              "11        compressionratio  0.782639\n",
              "12              horsepower  0.758939\n",
              "13                 peakrpm  0.012603\n",
              "14                 citympg  0.456021\n",
              "15              highwaympg  0.755790\n",
              "16            fueltype_gas  0.014296\n",
              "17        aspiration_turbo  0.002748\n",
              "18         carbody_hardtop  0.889279\n",
              "19       carbody_hatchback  0.002640\n",
              "20           carbody_sedan  0.005734\n",
              "21           carbody_wagon  0.003059\n",
              "22          drivewheel_fwd  0.461885\n",
              "23          drivewheel_rwd  0.296761\n",
              "24     enginelocation_rear  0.010376\n",
              "25        enginetype_dohcv  0.925901\n",
              "26            enginetype_l  0.192379\n",
              "27          enginetype_ohc  0.725297\n",
              "28         enginetype_ohcf  0.285501\n",
              "29         enginetype_ohcv  0.288010\n",
              "30        enginetype_rotor  0.008174\n",
              "31         fuelsystem_2bbl  0.080563\n",
              "32         fuelsystem_4bbl  0.663401\n",
              "33          fuelsystem_idi  0.237300\n",
              "34          fuelsystem_mfi  0.349398\n",
              "35         fuelsystem_mpfi  0.293220\n",
              "36         fuelsystem_spdi  0.502118\n",
              "37         fuelsystem_spfi  0.413231\n",
              "38        car_company_audi  0.994202\n",
              "39         car_company_bmw  0.000376\n",
              "40       car_company_buick  0.002628\n",
              "41   car_company_chevrolet  0.078490\n",
              "42       car_company_dodge  0.022523\n",
              "43       car_company_honda  0.317686\n",
              "44       car_company_isuzu  0.420871\n",
              "45      car_company_jaguar  0.561791\n",
              "46       car_company_mazda  0.104761\n",
              "47     car_company_mercury  0.523097\n",
              "48  car_company_mitsubishi  0.011527\n",
              "49      car_company_nissan  0.043811\n",
              "50     car_company_peugeot  0.192379\n",
              "51    car_company_plymouth  0.013786\n",
              "52     car_company_porsche  0.029307\n",
              "53     car_company_renault  0.085115\n",
              "54        car_company_saab  0.677703\n",
              "55      car_company_subaru  0.016262\n",
              "56      car_company_toyota  0.058203\n",
              "57  car_company_volkswagen  0.275544\n",
              "58       car_company_volvo  0.904327"
            ]
          },
          "metadata": {},
          "execution_count": 70
        }
      ]
    },
    {
      "cell_type": "code",
      "metadata": {
        "id": "fnllksChTeQS",
        "colab": {
          "base_uri": "https://localhost:8080/",
          "height": 676
        },
        "outputId": "1b60b1d3-cc57-45d1-dd7e-6bb6b515b599"
      },
      "source": [
        "# S2.11: Drop those features whose p-value is greater than 0.05\n",
        "df_reduce=df_pvalues.drop(df_pvalues[df_pvalues['pvalues']>=0.05].index)\n",
        "df_reduce"
      ],
      "execution_count": null,
      "outputs": [
        {
          "output_type": "execute_result",
          "data": {
            "text/html": [
              "\n",
              "  <div id=\"df-429f2346-1c7c-43b3-bf6d-cb1c00f1e629\">\n",
              "    <div class=\"colab-df-container\">\n",
              "      <div>\n",
              "<style scoped>\n",
              "    .dataframe tbody tr th:only-of-type {\n",
              "        vertical-align: middle;\n",
              "    }\n",
              "\n",
              "    .dataframe tbody tr th {\n",
              "        vertical-align: top;\n",
              "    }\n",
              "\n",
              "    .dataframe thead th {\n",
              "        text-align: right;\n",
              "    }\n",
              "</style>\n",
              "<table border=\"1\" class=\"dataframe\">\n",
              "  <thead>\n",
              "    <tr style=\"text-align: right;\">\n",
              "      <th></th>\n",
              "      <th>features</th>\n",
              "      <th>pvalues</th>\n",
              "    </tr>\n",
              "  </thead>\n",
              "  <tbody>\n",
              "    <tr>\n",
              "      <th>4</th>\n",
              "      <td>carwidth</td>\n",
              "      <td>0.003989</td>\n",
              "    </tr>\n",
              "    <tr>\n",
              "      <th>6</th>\n",
              "      <td>curbweight</td>\n",
              "      <td>0.016007</td>\n",
              "    </tr>\n",
              "    <tr>\n",
              "      <th>8</th>\n",
              "      <td>enginesize</td>\n",
              "      <td>0.000297</td>\n",
              "    </tr>\n",
              "    <tr>\n",
              "      <th>9</th>\n",
              "      <td>boreratio</td>\n",
              "      <td>0.007926</td>\n",
              "    </tr>\n",
              "    <tr>\n",
              "      <th>13</th>\n",
              "      <td>peakrpm</td>\n",
              "      <td>0.012603</td>\n",
              "    </tr>\n",
              "    <tr>\n",
              "      <th>16</th>\n",
              "      <td>fueltype_gas</td>\n",
              "      <td>0.014296</td>\n",
              "    </tr>\n",
              "    <tr>\n",
              "      <th>17</th>\n",
              "      <td>aspiration_turbo</td>\n",
              "      <td>0.002748</td>\n",
              "    </tr>\n",
              "    <tr>\n",
              "      <th>19</th>\n",
              "      <td>carbody_hatchback</td>\n",
              "      <td>0.002640</td>\n",
              "    </tr>\n",
              "    <tr>\n",
              "      <th>20</th>\n",
              "      <td>carbody_sedan</td>\n",
              "      <td>0.005734</td>\n",
              "    </tr>\n",
              "    <tr>\n",
              "      <th>21</th>\n",
              "      <td>carbody_wagon</td>\n",
              "      <td>0.003059</td>\n",
              "    </tr>\n",
              "    <tr>\n",
              "      <th>24</th>\n",
              "      <td>enginelocation_rear</td>\n",
              "      <td>0.010376</td>\n",
              "    </tr>\n",
              "    <tr>\n",
              "      <th>30</th>\n",
              "      <td>enginetype_rotor</td>\n",
              "      <td>0.008174</td>\n",
              "    </tr>\n",
              "    <tr>\n",
              "      <th>39</th>\n",
              "      <td>car_company_bmw</td>\n",
              "      <td>0.000376</td>\n",
              "    </tr>\n",
              "    <tr>\n",
              "      <th>40</th>\n",
              "      <td>car_company_buick</td>\n",
              "      <td>0.002628</td>\n",
              "    </tr>\n",
              "    <tr>\n",
              "      <th>42</th>\n",
              "      <td>car_company_dodge</td>\n",
              "      <td>0.022523</td>\n",
              "    </tr>\n",
              "    <tr>\n",
              "      <th>48</th>\n",
              "      <td>car_company_mitsubishi</td>\n",
              "      <td>0.011527</td>\n",
              "    </tr>\n",
              "    <tr>\n",
              "      <th>49</th>\n",
              "      <td>car_company_nissan</td>\n",
              "      <td>0.043811</td>\n",
              "    </tr>\n",
              "    <tr>\n",
              "      <th>51</th>\n",
              "      <td>car_company_plymouth</td>\n",
              "      <td>0.013786</td>\n",
              "    </tr>\n",
              "    <tr>\n",
              "      <th>52</th>\n",
              "      <td>car_company_porsche</td>\n",
              "      <td>0.029307</td>\n",
              "    </tr>\n",
              "    <tr>\n",
              "      <th>55</th>\n",
              "      <td>car_company_subaru</td>\n",
              "      <td>0.016262</td>\n",
              "    </tr>\n",
              "  </tbody>\n",
              "</table>\n",
              "</div>\n",
              "      <button class=\"colab-df-convert\" onclick=\"convertToInteractive('df-429f2346-1c7c-43b3-bf6d-cb1c00f1e629')\"\n",
              "              title=\"Convert this dataframe to an interactive table.\"\n",
              "              style=\"display:none;\">\n",
              "        \n",
              "  <svg xmlns=\"http://www.w3.org/2000/svg\" height=\"24px\"viewBox=\"0 0 24 24\"\n",
              "       width=\"24px\">\n",
              "    <path d=\"M0 0h24v24H0V0z\" fill=\"none\"/>\n",
              "    <path d=\"M18.56 5.44l.94 2.06.94-2.06 2.06-.94-2.06-.94-.94-2.06-.94 2.06-2.06.94zm-11 1L8.5 8.5l.94-2.06 2.06-.94-2.06-.94L8.5 2.5l-.94 2.06-2.06.94zm10 10l.94 2.06.94-2.06 2.06-.94-2.06-.94-.94-2.06-.94 2.06-2.06.94z\"/><path d=\"M17.41 7.96l-1.37-1.37c-.4-.4-.92-.59-1.43-.59-.52 0-1.04.2-1.43.59L10.3 9.45l-7.72 7.72c-.78.78-.78 2.05 0 2.83L4 21.41c.39.39.9.59 1.41.59.51 0 1.02-.2 1.41-.59l7.78-7.78 2.81-2.81c.8-.78.8-2.07 0-2.86zM5.41 20L4 18.59l7.72-7.72 1.47 1.35L5.41 20z\"/>\n",
              "  </svg>\n",
              "      </button>\n",
              "      \n",
              "  <style>\n",
              "    .colab-df-container {\n",
              "      display:flex;\n",
              "      flex-wrap:wrap;\n",
              "      gap: 12px;\n",
              "    }\n",
              "\n",
              "    .colab-df-convert {\n",
              "      background-color: #E8F0FE;\n",
              "      border: none;\n",
              "      border-radius: 50%;\n",
              "      cursor: pointer;\n",
              "      display: none;\n",
              "      fill: #1967D2;\n",
              "      height: 32px;\n",
              "      padding: 0 0 0 0;\n",
              "      width: 32px;\n",
              "    }\n",
              "\n",
              "    .colab-df-convert:hover {\n",
              "      background-color: #E2EBFA;\n",
              "      box-shadow: 0px 1px 2px rgba(60, 64, 67, 0.3), 0px 1px 3px 1px rgba(60, 64, 67, 0.15);\n",
              "      fill: #174EA6;\n",
              "    }\n",
              "\n",
              "    [theme=dark] .colab-df-convert {\n",
              "      background-color: #3B4455;\n",
              "      fill: #D2E3FC;\n",
              "    }\n",
              "\n",
              "    [theme=dark] .colab-df-convert:hover {\n",
              "      background-color: #434B5C;\n",
              "      box-shadow: 0px 1px 3px 1px rgba(0, 0, 0, 0.15);\n",
              "      filter: drop-shadow(0px 1px 2px rgba(0, 0, 0, 0.3));\n",
              "      fill: #FFFFFF;\n",
              "    }\n",
              "  </style>\n",
              "\n",
              "      <script>\n",
              "        const buttonEl =\n",
              "          document.querySelector('#df-429f2346-1c7c-43b3-bf6d-cb1c00f1e629 button.colab-df-convert');\n",
              "        buttonEl.style.display =\n",
              "          google.colab.kernel.accessAllowed ? 'block' : 'none';\n",
              "\n",
              "        async function convertToInteractive(key) {\n",
              "          const element = document.querySelector('#df-429f2346-1c7c-43b3-bf6d-cb1c00f1e629');\n",
              "          const dataTable =\n",
              "            await google.colab.kernel.invokeFunction('convertToInteractive',\n",
              "                                                     [key], {});\n",
              "          if (!dataTable) return;\n",
              "\n",
              "          const docLinkHtml = 'Like what you see? Visit the ' +\n",
              "            '<a target=\"_blank\" href=https://colab.research.google.com/notebooks/data_table.ipynb>data table notebook</a>'\n",
              "            + ' to learn more about interactive tables.';\n",
              "          element.innerHTML = '';\n",
              "          dataTable['output_type'] = 'display_data';\n",
              "          await google.colab.output.renderOutput(dataTable, element);\n",
              "          const docLink = document.createElement('div');\n",
              "          docLink.innerHTML = docLinkHtml;\n",
              "          element.appendChild(docLink);\n",
              "        }\n",
              "      </script>\n",
              "    </div>\n",
              "  </div>\n",
              "  "
            ],
            "text/plain": [
              "                  features   pvalues\n",
              "4                 carwidth  0.003989\n",
              "6               curbweight  0.016007\n",
              "8               enginesize  0.000297\n",
              "9                boreratio  0.007926\n",
              "13                 peakrpm  0.012603\n",
              "16            fueltype_gas  0.014296\n",
              "17        aspiration_turbo  0.002748\n",
              "19       carbody_hatchback  0.002640\n",
              "20           carbody_sedan  0.005734\n",
              "21           carbody_wagon  0.003059\n",
              "24     enginelocation_rear  0.010376\n",
              "30        enginetype_rotor  0.008174\n",
              "39         car_company_bmw  0.000376\n",
              "40       car_company_buick  0.002628\n",
              "42       car_company_dodge  0.022523\n",
              "48  car_company_mitsubishi  0.011527\n",
              "49      car_company_nissan  0.043811\n",
              "51    car_company_plymouth  0.013786\n",
              "52     car_company_porsche  0.029307\n",
              "55      car_company_subaru  0.016262"
            ]
          },
          "metadata": {},
          "execution_count": 71
        }
      ]
    },
    {
      "cell_type": "markdown",
      "metadata": {
        "id": "grmZkV4dTozs"
      },
      "source": [
        "As you can see, we created a dataframe with only significant features. Now let us again perform linear regression using the reduced features."
      ]
    },
    {
      "cell_type": "code",
      "metadata": {
        "id": "Wi-4VYmEUOV8",
        "colab": {
          "base_uri": "https://localhost:8080/"
        },
        "outputId": "07d661af-ea9e-4699-c139-00a1423a51a6"
      },
      "source": [
        "# S2.12: Build a linear regression model again with reduced features\n",
        "X=cars_df[df_reduce['features']]\n",
        "y=cars_df['price']\n",
        "# Add a constant to get an intercept\n",
        "X_train,X_test,y_train,y_test=train_test_split(X,y,test_size=0.3,random_state=42)\n",
        "X_train_sm=sm.add_constant(X_train)\n",
        "# Fit the regression line using 'OLS'\n",
        "lr=sm.OLS(y_train,X_train_sm).fit()\n",
        "# Print the parameters, i.e. the intercept and the slope of the regression line fitted\n",
        "print(lr.params)"
      ],
      "execution_count": null,
      "outputs": [
        {
          "output_type": "stream",
          "name": "stdout",
          "text": [
            "const                    -53791.819570\n",
            "carwidth                    753.474269\n",
            "curbweight                    4.428973\n",
            "enginesize                   74.268798\n",
            "boreratio                 -3078.561286\n",
            "peakrpm                       1.388919\n",
            "fueltype_gas               1773.266895\n",
            "aspiration_turbo           2292.596075\n",
            "carbody_hatchback         -3406.641972\n",
            "carbody_sedan             -2572.719660\n",
            "carbody_wagon             -4333.578687\n",
            "enginelocation_rear        6294.842568\n",
            "enginetype_rotor           6097.102852\n",
            "car_company_bmw            7435.913217\n",
            "car_company_buick          6274.024134\n",
            "car_company_dodge          -839.674285\n",
            "car_company_mitsubishi    -2286.698580\n",
            "car_company_nissan        -1663.305257\n",
            "car_company_plymouth      -1535.223683\n",
            "car_company_porsche        6730.682278\n",
            "car_company_subaru          782.752913\n",
            "dtype: float64\n"
          ]
        }
      ]
    },
    {
      "cell_type": "code",
      "metadata": {
        "id": "V_5R_5YUXffV",
        "colab": {
          "base_uri": "https://localhost:8080/"
        },
        "outputId": "8e221bae-b20c-4c37-eb6a-7cea10a2caab"
      },
      "source": [
        "# S2.13: Print the summary table for the above linear regression model.\n",
        "print(lr.summary())"
      ],
      "execution_count": null,
      "outputs": [
        {
          "output_type": "stream",
          "name": "stdout",
          "text": [
            "                            OLS Regression Results                            \n",
            "==============================================================================\n",
            "Dep. Variable:                  price   R-squared:                       0.958\n",
            "Model:                            OLS   Adj. R-squared:                  0.952\n",
            "Method:                 Least Squares   F-statistic:                     140.6\n",
            "Date:                Tue, 01 Feb 2022   Prob (F-statistic):           2.54e-74\n",
            "Time:                        07:12:52   Log-Likelihood:                -1257.2\n",
            "No. Observations:                 143   AIC:                             2556.\n",
            "Df Residuals:                     122   BIC:                             2619.\n",
            "Df Model:                          20                                         \n",
            "Covariance Type:            nonrobust                                         \n",
            "==========================================================================================\n",
            "                             coef    std err          t      P>|t|      [0.025      0.975]\n",
            "------------------------------------------------------------------------------------------\n",
            "const                  -5.379e+04   8480.894     -6.343      0.000   -7.06e+04    -3.7e+04\n",
            "carwidth                 753.4743    141.953      5.308      0.000     472.465    1034.484\n",
            "curbweight                 4.4290      0.901      4.917      0.000       2.646       6.212\n",
            "enginesize                74.2688      9.378      7.920      0.000      55.704      92.833\n",
            "boreratio              -3078.5613    849.734     -3.623      0.000   -4760.695   -1396.428\n",
            "peakrpm                    1.3889      0.408      3.407      0.001       0.582       2.196\n",
            "fueltype_gas            1773.2669    717.973      2.470      0.015     351.968    3194.566\n",
            "aspiration_turbo        2292.5961    504.833      4.541      0.000    1293.230    3291.963\n",
            "carbody_hatchback      -3406.6420    808.692     -4.213      0.000   -5007.528   -1805.755\n",
            "carbody_sedan          -2572.7197    790.237     -3.256      0.001   -4137.072   -1008.367\n",
            "carbody_wagon          -4333.5787    924.414     -4.688      0.000   -6163.548   -2503.610\n",
            "enginelocation_rear     6294.8426   1998.899      3.149      0.002    2337.823    1.03e+04\n",
            "enginetype_rotor        6097.1029   1369.173      4.453      0.000    3386.688    8807.517\n",
            "car_company_bmw         7435.9132    773.716      9.611      0.000    5904.265    8967.562\n",
            "car_company_buick       6274.0241   1113.307      5.635      0.000    4070.123    8477.926\n",
            "car_company_dodge       -839.6743    788.237     -1.065      0.289   -2400.067     720.719\n",
            "car_company_mitsubishi -2286.6986    668.480     -3.421      0.001   -3610.021    -963.376\n",
            "car_company_nissan     -1663.3053    632.237     -2.631      0.010   -2914.882    -411.729\n",
            "car_company_plymouth   -1535.2237    771.693     -1.989      0.049   -3062.868      -7.580\n",
            "car_company_porsche     6730.6823   1435.015      4.690      0.000    3889.927    9571.437\n",
            "car_company_subaru       782.7529    853.859      0.917      0.361    -907.547    2473.053\n",
            "==============================================================================\n",
            "Omnibus:                        2.394   Durbin-Watson:                   2.041\n",
            "Prob(Omnibus):                  0.302   Jarque-Bera (JB):                2.135\n",
            "Skew:                          -0.104   Prob(JB):                        0.344\n",
            "Kurtosis:                       3.561   Cond. No.                     3.42e+05\n",
            "==============================================================================\n",
            "\n",
            "Warnings:\n",
            "[1] Standard Errors assume that the covariance matrix of the errors is correctly specified.\n",
            "[2] The condition number is large, 3.42e+05. This might indicate that there are\n",
            "strong multicollinearity or other numerical problems.\n"
          ]
        }
      ]
    },
    {
      "cell_type": "markdown",
      "metadata": {
        "id": "64zwtdo2PBb0"
      },
      "source": [
        "We build the linear regression model again after removing all the features having the higher p-value and we still have a few features which have high p-values. This is not the right approach to tackle the high-values issue. Ideally, in the first iteration, we should remove only one feature having higher p-value, then rebuild the model, then again check for the p-value and then remove the next feature having highest p-value and so on.\n",
        "\n",
        "These iterations can become very long. We can reduce the number of iterations by finding out the most relevant features in the first go. In the next class, we will how to select such relevant features to reduce the number of iterations for building the most accurate linear regression model."
      ]
    },
    {
      "cell_type": "markdown",
      "metadata": {
        "id": "ijKY83ukqRon"
      },
      "source": [
        "---"
      ]
    }
  ]
}