{
  "nbformat": 4,
  "nbformat_minor": 0,
  "metadata": {
    "colab": {
      "name": "Lesson 77 - Graph Algorithms - Aditya",
      "provenance": [],
      "collapsed_sections": [],
      "include_colab_link": true
    },
    "kernelspec": {
      "name": "python3",
      "display_name": "Python 3"
    }
  },
  "cells": [
    {
      "cell_type": "markdown",
      "metadata": {
        "id": "view-in-github",
        "colab_type": "text"
      },
      "source": [
        "<a href=\"https://colab.research.google.com/github/aadityasomani/Aadi/blob/master/Lesson_77_Graph_Algorithms_Aditya.ipynb\" target=\"_parent\"><img src=\"https://colab.research.google.com/assets/colab-badge.svg\" alt=\"Open In Colab\"/></a>"
      ]
    },
    {
      "cell_type": "markdown",
      "metadata": {
        "id": "LeYxrqxRJGh9"
      },
      "source": [
        "# Lesson 77: Graph Algorithms\n"
      ]
    },
    {
      "cell_type": "markdown",
      "metadata": {
        "id": "dTf42JJMJsFD"
      },
      "source": [
        "---"
      ]
    },
    {
      "cell_type": "markdown",
      "metadata": {
        "id": "JfTCxEfkNjoe"
      },
      "source": [
        "### Teacher-Student Tasks\n",
        "\n",
        "Graphs are used to solve many computing problems. Graph traversal is a process for exploring a graph by analysing all of its vertices and edges.\n",
        "\n",
        "Graph traversal algorithms are useful in identifying the available paths to reach from one vertex to another in a graph and also helps  identifying the best path out of all available paths. Let us explore some of the important graph algorithms:\n",
        "\n",
        "\n",
        "\n",
        "1. Breadth First Search\n",
        "2. Depth First Search\n",
        "\n",
        "\n"
      ]
    },
    {
      "cell_type": "markdown",
      "metadata": {
        "id": "kdRUn_-rJuET"
      },
      "source": [
        "---"
      ]
    },
    {
      "cell_type": "markdown",
      "metadata": {
        "id": "w-koKYZ9ZpwL"
      },
      "source": [
        "#### Task 1:  Breadth First Search (BFS)\n",
        "\n",
        "**Breadth First Search (BFS)** is a graph traversal algorithm where we start traversing the graph from the root node or the source node and traverse all the neighboring nodes at the present depth level. After all the nodes of the current depth have been visited, we move to the next depth level and traverse all the neighboring unvisited nodes. This process continues unless the search element is found or all the nodes have been visited.\n",
        "\n",
        "Consider following example of an undirected graph. \n",
        "\n",
        "<center>\n",
        "<img src=\"https://obj.whitehatjr.com/9b259a62-ee5f-4ede-969f-c89a56586f0f.PNG\"/></center>\n",
        "\n",
        "The adjacency list for the graph is as follows:\n",
        "\n",
        "```python\n",
        "    graph = dict() \n",
        "    graph['E'] = ['B', 'H', 'G'] \n",
        "    graph['B'] = ['E', 'A', 'F'] \n",
        "    graph['C'] = ['A', 'D'] \n",
        "    graph['G'] = ['A', 'E'] \n",
        "    graph['F'] = ['B', 'H'] \n",
        "    graph['A'] = ['B', 'G', 'C'] \n",
        "    graph['H'] = ['E', 'F'] \n",
        "    graph['D'] = ['C'] \n",
        "```\n",
        "\n",
        "We will traverse this graph using the BFS algorithm. For this, we will use a **queue**.  The algorithm maintains a list `visited_vertices[]` to store the vertices that have been visited. \n",
        "\n",
        "Let us start our traversal from the E node with help of the below steps:\n",
        "\n",
        "1. Queue the E node and add to the `visited_vertices[]` list. \n",
        "\n",
        "2. Traverse through the entire graph using a `while` loop.\n",
        "\n",
        "    - Inside the `while` loop, dequeue the E node. \n",
        "    - Sort the unvisited adjacent nodes of E i.e. B, G, and H, and add them to the queue. \n",
        "    - The resultant queue should contain the B, G, and H nodes. Add these nodes  to the `visited_vertices[]` list. \n",
        "\n",
        "3. Start the next iteration of the `while` loop as the queue is not empty, which means that the entire graph is not traversed yet.\n",
        "\n",
        "4. Dequeue Node B. The adjacent nodes of node B should be E, A, and F. As node E has already been visited, enqueue the nodes A and F only in sorted order. Then add Nodes A and F to the `visited_vertices[]` list.\n",
        "\n",
        "5. Check if queue contain G, H, A, and F nodes, the `visited_vertices[]` list contain E, B, G, H, A, F nodes.\n",
        "\n",
        "6. Keep visiting and enqueuing adjacent nodes of every unvisited node of the queue unless all the nodes have been visited.\n",
        "\n",
        "The resultant complete BFS traversal should be **E-B-G-H-A-F-C-D**.\n"
      ]
    },
    {
      "cell_type": "code",
      "metadata": {
        "id": "Z0ROmVlQnf2X"
      },
      "source": [
        "# S1.1: Create a function to implement BFS in python\n",
        "from collections import deque\n",
        "\n",
        "def breadth_first_search(graph, root):\n",
        "  visited_vertices = list()\n",
        "  graph_queue = deque([root])\n",
        "  visited_vertices.append(root)\n",
        "  node = root\n",
        "\n",
        "  while len(graph_queue) > 0:\n",
        "    node = graph_queue.popleft()\n",
        "    adj_nodes = graph[node]\n",
        "    remaining_elements = set(adj_nodes).difference(set(visited_vertices))\n",
        "\n",
        "    if len(remaining_elements) > 0:\n",
        "      for elem in sorted(remaining_elements):\n",
        "        visited_vertices.append(elem)\n",
        "        graph_queue.append(elem)\n",
        "        \n",
        "  return visited_vertices"
      ],
      "execution_count": 1,
      "outputs": []
    },
    {
      "cell_type": "markdown",
      "metadata": {
        "id": "znJi-A0cHGtR"
      },
      "source": [
        "Now that we have created the function, we call the `breadth_first_search()` function and pass the above `graph` adjacency matrix and start node as `E` as inputs."
      ]
    },
    {
      "cell_type": "code",
      "metadata": {
        "colab": {
          "base_uri": "https://localhost:8080/"
        },
        "id": "IZtVAfhm_xkw",
        "outputId": "0799c43e-8238-4f33-e0cb-289e26d65215"
      },
      "source": [
        "# S1.2: Call the `breadth_first_search()` function.\n",
        "graph = dict() \n",
        "graph['E'] = ['B', 'H', 'G'] \n",
        "graph['B'] = ['E', 'A', 'F'] \n",
        "graph['C'] = ['A', 'D'] \n",
        "graph['G'] = ['A', 'E'] \n",
        "graph['F'] = ['B', 'H'] \n",
        "graph['A'] = ['B', 'G', 'C'] \n",
        "graph['H'] = ['E', 'F'] \n",
        "graph['D'] = ['C'] \n",
        "\n",
        "breadth_first_search(graph, 'E')"
      ],
      "execution_count": 2,
      "outputs": [
        {
          "output_type": "execute_result",
          "data": {
            "text/plain": [
              "['E', 'B', 'G', 'H', 'A', 'F', 'C', 'D']"
            ]
          },
          "metadata": {},
          "execution_count": 2
        }
      ]
    },
    {
      "cell_type": "markdown",
      "metadata": {
        "id": "HtprF6C4Hxfe"
      },
      "source": [
        "As you can see in the output, the BFS traversal is same as that obtained before writing the python code. "
      ]
    },
    {
      "cell_type": "markdown",
      "metadata": {
        "id": "tv6-yNc2Jzkr"
      },
      "source": [
        "---"
      ]
    },
    {
      "cell_type": "markdown",
      "metadata": {
        "id": "syqEvEyppAvy"
      },
      "source": [
        "#### Task 2:  Depth First Search (DFS)\n",
        "\n",
        "Depth first search (DFS) algorithm first traverses the depth of a particular path in the graph before traversing its breadth. \n",
        "Thus, child nodes are visited first before sibling nodes. \n",
        "\n",
        "Consider the same example of undirected graph as used in BFS.\n",
        "\n",
        "<center>\n",
        "<img src=\"https://obj.whitehatjr.com/9b259a62-ee5f-4ede-969f-c89a56586f0f.PNG\"/></center>\n",
        "\n",
        "The adjacency list for the graph is as follows:\n",
        "\n",
        "```python\n",
        "    graph = dict() \n",
        "    graph['E'] = ['B', 'H', 'G'] \n",
        "    graph['B'] = ['E', 'A', 'F'] \n",
        "    graph['C'] = ['A', 'D'] \n",
        "    graph['G'] = ['A', 'E'] \n",
        "    graph['F'] = ['B', 'H'] \n",
        "    graph['A'] = ['B', 'G', 'C'] \n",
        "    graph['H'] = ['E', 'F'] \n",
        "    graph['D'] = ['C'] \n",
        "```\n",
        "\n",
        "The graph traversal for the above graph is as follows:\n",
        "\n",
        "1. Suppose we start from vertex **A**.\n",
        "2. After visiting vertex A, we visit one of its neighbours, **B**. \n",
        "3. After visiting vertex B, again we visit one of its neighbours, **E**.\n",
        "4. Vertex E has two neighbours, G and H, we visit **G**. G has two neighbours, A and E which are already visitied. Thus, we will visit **H**.\n",
        "5. Next, we look for the neighbours of the H vertex, which are the F and E vertices. As E is already visited, we visit vertex **F**.\n",
        "6. All the neighbours of F are already visited.So , finally, we visit **C** and **D** vertices.\n",
        "\n",
        "Thus, the complete DFS traversal is **A-B-E-G-H-F-C-D**\n",
        "\n",
        "---\n",
        "\n",
        "\n",
        "Let us implement DFS by creating a function with starting node, called `root` and graph's adjacency matrix `graph` as inputs.\n",
        "\n",
        "`def DFS(graph, root):`\n",
        "\n",
        "- Unlike BFS, DFS uses a **stack**  to maintain the state.  For this, we will use a list `graph_stack[]` variable. We also maintain a list `visited_vertices[]` to store the vertices that have been visited.\n",
        "\n",
        "  ```python\n",
        "visited_vertices = list()\n",
        "graph_stack = list()\n",
        "  ```\n",
        "\n",
        "- `root` is pushed onto the stack using `append()` function. `node = root` holds the first node in the stack:\n",
        "\n",
        "  ```python\n",
        "  graph_stack.append(root)\n",
        "  node = root\n",
        "  ```\n",
        "\n"
      ]
    },
    {
      "cell_type": "markdown",
      "metadata": {
        "id": "vFL_DxNjLQHX"
      },
      "source": [
        "Now let us implement DFS algorithm with help of the following steps:\n",
        "\n",
        "1. Traverse through the entire graph using a `while` loop. The `while` loop should keep executing unless the stack is empty.\n",
        "\n",
        " Inside the `while` loop,\n",
        "\n",
        "  - Add the node that is not in the `visited_vertices` list.\n",
        "\n",
        "  - Add all the adjacent nodes to the current node to `adj_nodes` list using ` adj_nodes = graph[node]`. \n",
        "\n",
        "  - Pop the node if all the adjacent nodes have been visited from the `graph_stack` stack using the `pop()` function. Set `node` to `graph_stack[-1]`. `graph_stack[-1]` indicates the top node on the stack. \n",
        "\n",
        "2. Continue the execution of `while` loop after popping the current node to jump back to the beginning of the `while` loop.\n",
        "\n",
        "3. Obtain the nodes that are yet to be visited by finding the difference between the `adj_nodes` and\n",
        "`visited_vertices` with the below statement:\n",
        "\n",
        "  `remaining_elements =\n",
        "set(adj_nodes).difference(set(visited_vertices))`\n",
        "\n",
        "4. Assign the first item within `sorted(remaining_elements)` to the `first_adj_node` and push onto the top of the stack. \n",
        "\n",
        "5. Point the top of the stack to this node.\n",
        "\n",
        "6. Return the `visited_vertices` list when the `while` loop exits."
      ]
    },
    {
      "cell_type": "code",
      "metadata": {
        "id": "rWGJ-_DKOnuK"
      },
      "source": [
        "# S2.1: Create a function to perform depth first search\n",
        "# Initiate the 'depth_first_search' function with 'graph' and 'root' as inputs\n",
        "def depth_first_search(graph, root):\n",
        "  # Store two empty lists in variables 'visited_vertices' and 'graph_stack'\n",
        "  visited_vertices = list()\n",
        "  graph_stack = list()\n",
        "  # Append 'root' to the 'graph_stack' using the 'append()' function\n",
        "  graph_stack.append(root)\n",
        "  # Store the value of 'root' in a variable 'node'\n",
        "  node = root\n",
        "\n",
        "# Initiate the 'while' loop that traverse through the entire graph\n",
        "  while len(graph_stack) > 0:\n",
        "    # Add the node that is not in the 'visited_vertices' list.\n",
        "    if node not in visited_vertices:\n",
        "      visited_vertices.append(node)\n",
        "    \n",
        "    # Add all the adjacent nodes to the current node to 'adj_nodes' list using 'adj_nodes = graph[node]'.\n",
        "    adj_nodes = graph[node]\n",
        "  \n",
        "    # Pop the node from the graph_stack stack using the 'pop()' function, if all adjacent nodes are visited.\n",
        "    if set(adj_nodes).issubset(set(visited_vertices)):\n",
        "      graph_stack.pop()\n",
        "      # Set node to 'graph_stack[-1]' i.e. top of the stack. \n",
        "      if len(graph_stack) > 0:\n",
        "        node = graph_stack[-1]\n",
        "      # Continue the execution of 'while' loop using the 'continue' statement.\n",
        "      continue\n",
        "    # Obtain the nodes that are yet to be visited. \n",
        "    else:\n",
        "      remaining_elements = set(adj_nodes).difference(set(visited_vertices))\n",
        "      # Assign the first item within 'sorted(remaining_elements)' to the 'first_adj_node' \n",
        "      first_adj_node = sorted(remaining_elements)[0]\n",
        "      # Push 'first_adj_node' to the top of the stack.\n",
        "      graph_stack.append(first_adj_node)\n",
        "      # Point the top of the stack to this node.\n",
        "      node = first_adj_node\n",
        "  # Return the 'visited_vertices' list when the 'while' loop exits.\n",
        "  return visited_vertices"
      ],
      "execution_count": 3,
      "outputs": []
    },
    {
      "cell_type": "markdown",
      "metadata": {
        "id": "JRqfh7JiIvSC"
      },
      "source": [
        "Now that we have created the function, we call the `depth_first_search()` function and pass the above `graph` adjacency matrix and start node as `A` as inputs."
      ]
    },
    {
      "cell_type": "code",
      "metadata": {
        "colab": {
          "base_uri": "https://localhost:8080/"
        },
        "id": "Ycf4FDNNB0f2",
        "outputId": "401d3ba6-5757-4bd0-c437-59927f173331"
      },
      "source": [
        "# S2.2:  Call the 'depth_first_search(); function\n",
        "graph = dict() \n",
        "graph['E'] = ['B', 'H', 'G'] \n",
        "graph['B'] = ['E', 'A', 'F'] \n",
        "graph['C'] = ['A', 'D'] \n",
        "graph['G'] = ['A', 'E'] \n",
        "graph['F'] = ['B', 'H'] \n",
        "graph['A'] = ['B', 'G', 'C'] \n",
        "graph['H'] = ['E', 'F'] \n",
        "graph['D'] = ['C'] \n",
        "\n",
        "depth_first_search(graph, 'A')"
      ],
      "execution_count": 4,
      "outputs": [
        {
          "output_type": "execute_result",
          "data": {
            "text/plain": [
              "['A', 'B', 'E', 'G', 'H', 'F', 'C', 'D']"
            ]
          },
          "metadata": {},
          "execution_count": 4
        }
      ]
    },
    {
      "cell_type": "markdown",
      "metadata": {
        "id": "hZRunilsJA-U"
      },
      "source": [
        "As you can see in the output, the DFS traversal is same as that obtained before writing the python code. "
      ]
    },
    {
      "cell_type": "markdown",
      "metadata": {
        "id": "VG2kPffAVb5n"
      },
      "source": [
        "---"
      ]
    },
    {
      "cell_type": "markdown",
      "metadata": {
        "id": "lZM-cEqEVclw"
      },
      "source": [
        "#### Task 3: Cycle Detection\n",
        "\n",
        "#### Cyclic Graphs\n",
        "\n",
        "A cyclic graph is a graph with cycles. A graph is said to have a cycle when there exists at least one path that begins from a given vertex and ends at the same vertex.\n",
        "\n",
        "<img src=\"https://obj.whitehatjr.com/01b00e92-264b-44f9-9536-32bfc58d54ec.PNG\"/>\n",
        "\n",
        "Suppose we have a directed graph as follows:\n",
        "\n",
        "<img src=\"https://obj.whitehatjr.com/f1844e8e-80d0-439e-b08f-d0c3df61df62.PNG\"/>\n",
        "\n",
        "You may observe that this graph indeed has a cycle (A $\\rightarrow$ C $\\rightarrow$  F $\\rightarrow$  D $\\rightarrow$  C). \n",
        "To prove that this cycle exists, we will use Depth First Search (DFS).\n",
        "\n",
        "**Cycle detection using DFS:** \n",
        "\n",
        "DFS can be used to detect whether there is a cycle in the graph. There is a cycle in a graph only if there is a back edge present in the graph.  A back edge is an edge that goes back to itself (self-loop) or one of its ancestors in the tree produced by DFS. To detect a cycle, check for a cycle in individual trees by determining whether there are any back edges.\n",
        "\n",
        "To detect a back edge, keep track of vertices in the recursion stack of function created for DFS traversal. \n",
        "If we get a vertex that is already in the recursion stack, then there is a cycle in the tree. Use an array `recursion_stack[]` to keep track of vertices in the recursion stack.\n",
        "\n",
        "Now let us detect cycles by using DFS alogorithm with help of the below steps:\n",
        "1. Create a graph with the given number of vertices and edges.\n",
        "2. Create a recursive function that initializes:\n",
        "    -  current index\n",
        "    - `visited[]` list\n",
        "    - `recursion_stack[]` list\n",
        "\n",
        "3. Make the current node as visited and add push the node to the `recursion_stack`.\n",
        "\n",
        "4. Call the function recursively for the vertices which are unvisited and also find its adjacent vertices. Return `True` if the recursive function returns `True`.\n",
        "\n",
        "5. Return `True` if the adjacent vertices are already present in the `recursion_ stack`.\n",
        "\n",
        "6. Create a wrapper class that calls the recursive function for all the vertices and if any function returns true return true. Else return `False` if the function returns false for all vertices.\n",
        "\n",
        "Following Python code can be used to detect whether a graph has a cycle or not:"
      ]
    },
    {
      "cell_type": "code",
      "metadata": {
        "colab": {
          "base_uri": "https://localhost:8080/"
        },
        "id": "Zr_iAM2k6b9F",
        "outputId": "efb05f5f-be78-4fdd-a524-f25d0109120f"
      },
      "source": [
        "# S3.1: Python program to detect cycle in a graph\n",
        "\n",
        "from collections import defaultdict\n",
        "\n",
        "class Graph():\n",
        "\tdef __init__(self,vertices):\n",
        "\t\tself.graph = defaultdict(list)\n",
        "\t\tself.V = vertices\n",
        "\n",
        "\tdef addEdge(self,u,v):\n",
        "\t\tself.graph[u].append(v)\n",
        "\n",
        "\tdef isCyclicUtil(self, v, visited, recursion_stack):\n",
        "\n",
        "\t\t# Mark current node as visited and adds to recursion_stack\n",
        "\t\tvisited[v] = True\n",
        "\t\trecursion_stack[v] = True\n",
        "\n",
        "\t\t# Recur for all neighbours if any neighbour is visited and in recursion_stack then graph is cyclic\n",
        "\t\tfor neighbour in self.graph[v]:\n",
        "\t\t\tif visited[neighbour] == False:\n",
        "\t\t\t\tif self.isCyclicUtil(neighbour, visited, recursion_stack) == True:\n",
        "\t\t\t\t\treturn True\n",
        "\t\t\telif recursion_stack[neighbour] == True:\n",
        "\t\t\t\treturn True\n",
        "\n",
        "\t\t# The node needs to be poped from recursion_stack before function ends\n",
        "\t\trecStack[v] = False\n",
        "\t\treturn False\n",
        "\n",
        "\t# Returns true if graph is cyclic else false\n",
        "\tdef isCyclic(self):\n",
        "\t\tvisited = [False] * self.V\n",
        "\t\trecursion_stack = [False] * self.V\n",
        "\t\tfor node in range(self.V):\n",
        "\t\t\tif visited[node] == False:\n",
        "\t\t\t\tif self.isCyclicUtil(node,visited,recursion_stack) == True:\n",
        "\t\t\t\t\treturn True\n",
        "\t\treturn False\n",
        "\n",
        "g = Graph(4)\n",
        "g.addEdge(0, 1)\n",
        "g.addEdge(0, 2)\n",
        "g.addEdge(1, 2)\n",
        "g.addEdge(2, 0)\n",
        "g.addEdge(2, 3)\n",
        "g.addEdge(3, 3)\n",
        "if g.isCyclic() == 1:\n",
        "\tprint(\"Graph has a cycle\")\n",
        "else:\n",
        "\tprint(\"Graph has no cycle\")\n"
      ],
      "execution_count": 5,
      "outputs": [
        {
          "output_type": "stream",
          "name": "stdout",
          "text": [
            "Graph has a cycle\n"
          ]
        }
      ]
    },
    {
      "cell_type": "markdown",
      "metadata": {
        "id": "DAyCM12GJ7Ks"
      },
      "source": [
        "---"
      ]
    },
    {
      "cell_type": "markdown",
      "metadata": {
        "id": "-879LAN-7umw"
      },
      "source": [
        "#### Task 4: Minimum Spanning Tree\n",
        "\n",
        "**What is a Spanning tree?**\n",
        "\n",
        "Given an undirected and connected graph $G=(V,E)$.\n",
        "\n",
        "A spanning tree of the graph $G$ is a tree that includes every vertex of $G$ and is a subset of graph $G$.\n",
        "\n",
        "**Cost of Spanning tree:**\n",
        "\n",
        "The cost of the spanning tree is the sum of the weights of all the edges in the tree. There can be many spanning trees.\n",
        "\n",
        "Consider the following undirected graph:\n",
        "\n",
        "<img src=\"https://obj.whitehatjr.com/dd3c4e0b-1305-468e-91c9-31516c781f99.PNG\"/>\n",
        "\n",
        "The above graph can have the following multiple spanning trees:\n",
        "\n",
        "<img src=\"https://obj.whitehatjr.com/73df9638-5fd5-4473-aa70-39178fcd814b.PNG\"/>\n",
        "\n",
        "The cost of each spanning tree is the sum of the weights of all the edges.\n",
        "\n",
        "**Minimum Spanning Tree (MST):**\n",
        "\n",
        "Minimum spanning tree is the spanning tree whose cost is minimum among all the spanning trees.\n",
        "\n",
        "<img src=\"https://obj.whitehatjr.com/419d8e20-1c1b-447c-9f19-a21891893fc0.PNG\"/>\n",
        "\n",
        "Thus, a minimum spanning tree has a minimum cost or weight than all other spanning trees of the same graph. MST is used widely in many algorithms like Travelling Salesman problem and also in a wide variety of applications such as:\n",
        "- Network design\n",
        "- Image segmentation\n",
        "- Handwriting recognition\n",
        "\n"
      ]
    },
    {
      "cell_type": "markdown",
      "metadata": {
        "id": "KLm8s0lQWZkC"
      },
      "source": [
        "##### MST Algorithms\n",
        "\n",
        "Following are the two commonly used algorithms for finding Minimum Spanning Tree:\n",
        "\n",
        "1. Kruskal's algorithm\n",
        "2. Prim's algorithm\n",
        "\n",
        "**1. Kruskal's algorithm:**\n",
        "\n",
        "\n",
        "This algorithm is one of the greedy algorithms that attempts to pick the edge having least possible weight in order to construct the MST.\n",
        "\n",
        "\n",
        "The steps for Kruskal's algorithm are as follows:\n",
        "\n",
        "1. Sort all the edges from low to high.\n",
        "2. Pick the edge having lowest weight and add it to the spanning tree. However, if adding that edge would result in a cycle, then reject that edge.\n",
        "3. Keep adding the edges unless all the vertices are reached.\n",
        "\n",
        "Let us construct the minimum spanning tree for the following weighted directed graph.\n",
        "\n",
        "<img src=\"https://obj.whitehatjr.com/dd3c4e0b-1305-468e-91c9-31516c781f99.PNG\"/>\n",
        "\n",
        "**Step 1:** Pick the edge having smallest weight. If there are more than 1 such edge then choose anyone of them.\n",
        "\n",
        "<img src=\"https://obj.whitehatjr.com/097626b6-0604-4148-90ba-54244e9539a1.PNG\"/>\n",
        "\n",
        "**Step 2:** Select the next minimum weight edge and add it to the tree.\n",
        "\n",
        "<img src=\"https://obj.whitehatjr.com/8048115f-469c-4a63-897d-0ef0930d6c7f.PNG\"/>\n",
        "\n",
        "**Step 3:** Keep on choosing the minimum weight edges that doesn't create a cycle and add it to the spanning tree.\n",
        "\n",
        "<img src=\"https://obj.whitehatjr.com/41e9e836-cb75-4d1a-beed-880f73ce786b.PNG\"/>\n",
        "\n",
        "The above spanning tree covers all the vertices and considers only the minimum possible weight edges. Thus, we have obtained the minimum spanning tree with **cost = 6**.\n",
        "\n",
        "Let us implement Kruskal's algorithm in Python.\n"
      ]
    },
    {
      "cell_type": "code",
      "metadata": {
        "colab": {
          "base_uri": "https://localhost:8080/"
        },
        "id": "fJgR1YBB5K1M",
        "outputId": "c0255106-586a-4bc8-a9b9-7d253e74d592"
      },
      "source": [
        "# T4.1: Kruskal's algorithm in Python\n",
        "# Initiate a class 'Graph' and 'vertices' as class variable. \n",
        "class Graph:\n",
        "    def __init__(self, vertices):\n",
        "        self.V = vertices\n",
        "        # Store an empty list in a class variable 'graph'.\n",
        "        self.graph = []\n",
        "\n",
        "    # Create a class function to append the edges to the 'graph' list. \n",
        "    def add_edge(self, u, v, w):\n",
        "        self.graph.append([u, v, w])\n",
        "\n",
        "    # Create the class function 'find', to determine the parent of the element 'i'.  \n",
        "    def find(self, parent, i):\n",
        "        if parent[i] == i:\n",
        "            return i\n",
        "        return self.find(parent, parent[i])\n",
        "\n",
        "    # Create the class function 'apply_union'. \n",
        "    def apply_union(self, parent, rank, x, y):\n",
        "        xroot = self.find(parent, x)\n",
        "        yroot = self.find(parent, y)\n",
        "        if rank[xroot] < rank[yroot]:\n",
        "            parent[xroot] = yroot\n",
        "        elif rank[xroot] > rank[yroot]:\n",
        "            parent[yroot] = xroot\n",
        "        else:\n",
        "            parent[yroot] = xroot\n",
        "            rank[xroot] += 1\n",
        "\n",
        "    #  Applying Kruskal algorithm\n",
        "    def kruskal_algo(self):\n",
        "        result = []\n",
        "        i, e = 0, 0\n",
        "        self.graph = sorted(self.graph, key=lambda item: item[2])\n",
        "        parent = []\n",
        "        rank = []\n",
        "        for node in range(self.V):\n",
        "            parent.append(node)\n",
        "            rank.append(0)\n",
        "        while e < self.V - 1:\n",
        "            u, v, w = self.graph[i]\n",
        "            i = i + 1\n",
        "            x = self.find(parent, u)\n",
        "            y = self.find(parent, v)\n",
        "            if x != y:\n",
        "                e = e + 1\n",
        "                result.append([u, v, w])\n",
        "                self.apply_union(parent, rank, x, y)\n",
        "        for u, v, weight in result:\n",
        "            print(\"%d - %d: %d\" % (u, v, weight))\n",
        "\n",
        "\n",
        "g = Graph(6)\n",
        "g.add_edge(0, 1, 4)\n",
        "g.add_edge(0, 2, 4)\n",
        "g.add_edge(1, 2, 2)\n",
        "g.add_edge(1, 0, 4)\n",
        "g.add_edge(2, 0, 4)\n",
        "g.add_edge(2, 1, 2)\n",
        "g.add_edge(2, 3, 3)\n",
        "g.add_edge(2, 5, 2)\n",
        "g.add_edge(2, 4, 4)\n",
        "g.add_edge(3, 2, 3)\n",
        "g.add_edge(3, 4, 3)\n",
        "g.add_edge(4, 2, 4)\n",
        "g.add_edge(4, 3, 3)\n",
        "g.add_edge(5, 2, 2)\n",
        "g.add_edge(5, 4, 3)\n",
        "g.kruskal_algo()"
      ],
      "execution_count": 6,
      "outputs": [
        {
          "output_type": "stream",
          "name": "stdout",
          "text": [
            "1 - 2: 2\n",
            "2 - 5: 2\n",
            "2 - 3: 3\n",
            "3 - 4: 3\n",
            "0 - 1: 4\n"
          ]
        }
      ]
    },
    {
      "cell_type": "markdown",
      "metadata": {
        "id": "icoX5y4iZ3t0"
      },
      "source": [
        "**2. Prim's algorithm:**\n",
        "\n",
        "\n",
        "\n",
        "This algorithm is also one of the greedy algorithm that takes a graph as input and finds the minimum spanning tree for the graph.\n",
        "\n",
        "It randomly selects a vertex and then adds the minimum weight edge from this vertex to the spanning tree. It continues to add the minimum weight edge to the vertices already added to the spanning tree and stops when all the vertices are added to the spanning tree. \n",
        "\n",
        "\n",
        "The steps for Prim's algorithm are as follows:\n",
        "1. Pick a vertex from the graph randomly.\n",
        "2. Check all the edges that connect this vertex with other vertices. Determine the edge which has minimum weight out of all those edges. Add that edge to the tree.\n",
        "3. Continue finding minimum weight edge and adding vertices to the tree unless we get the minimum spanning tree. \n",
        "\n",
        "\n",
        "Let us construct the minimum spanning tree for the following weighted directed graph using Prim's algorithm.\n",
        "\n",
        "<img src=\"https://obj.whitehatjr.com/dd3c4e0b-1305-468e-91c9-31516c781f99.PNG\"/>\n",
        "\n",
        "**Step 1:** Pick any random vertex from the graph.\n",
        "\n",
        "<img src=\"https://obj.whitehatjr.com/60f611fc-ff60-4a82-b21e-7e17ffeec52a.PNG\"/>\n",
        "\n",
        "**Step 2:** Pick the shortest edge from this vertex and add it to the tree.\n",
        "\n",
        "<img src=\"https://obj.whitehatjr.com/1c7a858e-fba6-46fa-bc91-f63d39cdb489.PNG\"/>\n",
        "\n",
        "**Step 3:** Pick the nearest vertex not yet in the MST.\n",
        "\n",
        "\n",
        "<img src=\"https://obj.whitehatjr.com/8221ab48-cdbd-4fa9-992d-c917f8124be7.PNG\"/>\n",
        "\n",
        "**Step 4:** Select the nearest edge not yet in the MST. If there are multiple choices, choose one at random.\n",
        "\n",
        "<img src=\"https://obj.whitehatjr.com/41e9e836-cb75-4d1a-beed-880f73ce786b.PNG\"/>\n",
        "\n",
        "Let us implement Prim's algorithm in Python.\n"
      ]
    },
    {
      "cell_type": "code",
      "metadata": {
        "colab": {
          "base_uri": "https://localhost:8080/"
        },
        "id": "7w8XX-rvuJYK",
        "outputId": "ee717c60-12e1-4cd0-dda6-d11116a52d13"
      },
      "source": [
        "# S4.2: Prim's Algorithm in Python\n",
        "\n",
        "INF = 9999999\n",
        "# number of vertices in graph\n",
        "V = 5\n",
        "# create a 2d array of size 5x5\n",
        "# for adjacency matrix to represent graph\n",
        "G = [[0, 9, 75, 0, 0],\n",
        "     [9, 0, 95, 19, 42],\n",
        "     [75, 95, 0, 51, 66],\n",
        "     [0, 19, 51, 0, 31],\n",
        "     [0, 42, 66, 31, 0]]\n",
        "# create a array to track selected vertex\n",
        "# selected will become true otherwise false\n",
        "selected = [0, 0, 0, 0, 0]\n",
        "# set number of edge to 0\n",
        "no_edge = 0\n",
        "# the number of egde in minimum spanning tree will be\n",
        "# always less than(V - 1), where V is number of vertices in\n",
        "# graph\n",
        "# choose 0th vertex and make it true\n",
        "selected[0] = True\n",
        "# print for edge and weight\n",
        "print(\"Edge : Weight\\n\")\n",
        "while (no_edge < V - 1):\n",
        "    # For every vertex in the set S, find the all adjacent vertices\n",
        "    #, calculate the distance from the vertex selected at step 1.\n",
        "    # if the vertex is already in the set S, discard it otherwise\n",
        "    # choose another vertex nearest to selected vertex  at step 1.\n",
        "    minimum = INF\n",
        "    x = 0\n",
        "    y = 0\n",
        "    for i in range(V):\n",
        "        if selected[i]:\n",
        "            for j in range(V):\n",
        "                if ((not selected[j]) and G[i][j]):  \n",
        "                    # not in selected and there is an edge\n",
        "                    if minimum > G[i][j]:\n",
        "                        minimum = G[i][j]\n",
        "                        x = i\n",
        "                        y = j\n",
        "    print(str(x) + \"-\" + str(y) + \":\" + str(G[x][y]))\n",
        "    selected[y] = True\n",
        "    no_edge += 1"
      ],
      "execution_count": 7,
      "outputs": [
        {
          "output_type": "stream",
          "name": "stdout",
          "text": [
            "Edge : Weight\n",
            "\n",
            "0-1:9\n",
            "1-3:19\n",
            "3-4:31\n",
            "3-2:51\n"
          ]
        }
      ]
    },
    {
      "cell_type": "markdown",
      "metadata": {
        "id": "ApIGJfaCJx6T"
      },
      "source": [
        "We will stop here. In the next class, we will learn the basics of relational databases and how data is maintained in large corporations."
      ]
    },
    {
      "cell_type": "markdown",
      "metadata": {
        "id": "Mc8Q_PTDzeaS"
      },
      "source": [
        "---"
      ]
    }
  ]
}