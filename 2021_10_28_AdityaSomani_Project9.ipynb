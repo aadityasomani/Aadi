{
  "nbformat": 4,
  "nbformat_minor": 0,
  "metadata": {
    "colab": {
      "name": "2021-10-28_AdityaSomani_Project9.ipynb",
      "provenance": [],
      "collapsed_sections": [],
      "include_colab_link": true
    },
    "kernelspec": {
      "name": "python3",
      "display_name": "Python 3"
    }
  },
  "cells": [
    {
      "cell_type": "markdown",
      "metadata": {
        "id": "view-in-github",
        "colab_type": "text"
      },
      "source": [
        "<a href=\"https://colab.research.google.com/github/aadityasomani/Aadi/blob/master/2021_10_28_AdityaSomani_Project9.ipynb\" target=\"_parent\"><img src=\"https://colab.research.google.com/assets/colab-badge.svg\" alt=\"Open In Colab\"/></a>"
      ]
    },
    {
      "cell_type": "markdown",
      "metadata": {
        "id": "YZnBY81YDCCr"
      },
      "source": [
        "### Instructions"
      ]
    },
    {
      "cell_type": "markdown",
      "metadata": {
        "id": "bEyBzxYRhrLG"
      },
      "source": [
        "#### Goal of the Project\n",
        "\n",
        "This project is designed for you to practice and solve the activities that are based on the concepts covered in the following lessons:\n",
        "\n",
        " 1. Python Lists I\n",
        "\n",
        " 2. NumPy Arrays I"
      ]
    },
    {
      "cell_type": "markdown",
      "metadata": {
        "id": "DPOFIO3EHncO"
      },
      "source": [
        "---"
      ]
    },
    {
      "cell_type": "markdown",
      "metadata": {
        "id": "krym8CeMhscq"
      },
      "source": [
        "#### Getting Started:\n",
        "\n",
        "1. Click on this link to open the Colab file for this project.\n",
        "\n",
        "     https://colab.research.google.com/drive/13ECRje7H8Zs4fvw-4MrwqGrVWweJ06xi\n",
        "2. Create a duplicate copy of the Colab file as described below.\n",
        "\n",
        "  - Click on the **File menu**. A new drop-down list will appear.\n",
        "\n",
        "   <img src='https://student-datasets-bucket.s3.ap-south-1.amazonaws.com/images/lesson-0/0_file_menu.png' width=500>\n",
        "\n",
        "  - Click on the **Save a copy in Drive** option. A duplicate copy will get created. It will open up in the new tab on your web browser.\n",
        "\n",
        "  <img src='https://student-datasets-bucket.s3.ap-south-1.amazonaws.com/images/lesson-0/1_create_colab_duplicate_copy.png' width=500>\n",
        "\n",
        "3. After creating the duplicate copy of the notebook, please rename it in the **YYYY-MM-DD_StudentName_Project9** format.\n",
        "\n",
        "4. Now, write your code in the prescribed code cells.\n"
      ]
    },
    {
      "cell_type": "markdown",
      "metadata": {
        "id": "BBqkpH4_Doqe"
      },
      "source": [
        "---"
      ]
    },
    {
      "cell_type": "markdown",
      "metadata": {
        "id": "q4fH06mIjuK3"
      },
      "source": [
        "#### Activity 1: Create a 3 X 3 Matrix\n",
        "\n",
        "To create a 3x3 matrix with values ranging from 2 to 10.\n",
        "\n",
        "**For Example**:\n",
        "\n",
        "```\n",
        "[[ 2  3  4]\n",
        " [ 5  6  7]\n",
        " [ 8  9 10]]\n",
        "```\n",
        "\n",
        "Follow the steps given below to achieve the desired result:\n",
        "\n",
        "  - **Step 1**: Import `numpy` module.\n",
        "\n",
        "  - **Step 2**: Use `arange()` function to create array of numbers from 2 to 10 and `reshape()` function to reshape your array into another array having 3 rows and 3 columns. Store this reshaped array in a variable `x`.\n",
        "\n",
        "  - **Step 3**: Print variable `x` to get the output.\n",
        "\n",
        " "
      ]
    },
    {
      "cell_type": "code",
      "metadata": {
        "id": "4EAoTskqg041",
        "colab": {
          "base_uri": "https://localhost:8080/"
        },
        "outputId": "8d568506-7ef6-4bbc-8162-f59d0d709502"
      },
      "source": [
        "# Write your code here\n",
        "# Step 1: Import numpy module \n",
        "import numpy as np\n",
        "# Step 2: Declare a variable 'x' to store the result and use 'arange()' and 'reshape()' functions\n",
        "x=np.arange(2,11).reshape(3,3)\n",
        "# Step 3: Print the variable 'x' to see the output\n",
        "x"
      ],
      "execution_count": null,
      "outputs": [
        {
          "output_type": "execute_result",
          "data": {
            "text/plain": [
              "array([[ 2,  3,  4],\n",
              "       [ 5,  6,  7],\n",
              "       [ 8,  9, 10]])"
            ]
          },
          "metadata": {},
          "execution_count": 2
        }
      ]
    },
    {
      "cell_type": "markdown",
      "metadata": {
        "id": "xJlPs9X9oeRw"
      },
      "source": [
        "---"
      ]
    },
    {
      "cell_type": "markdown",
      "metadata": {
        "id": "qA-b1CdeofKc"
      },
      "source": [
        "#### Activity 2: Change Dimension of an Array and Convert the NumPy Array into a List\n",
        "\n",
        "Write a program to change the dimension of an array (say `my_arr =[1, 2, 3, 4, 5, 6, 7, 8, 9]`) into a 3 X 3 (3 rows and 3 columns) array and convert this NumPy array into a list.\n",
        "\n",
        "**For Example:**\n",
        "```\n",
        "Original array is [1 2 3 4 5 6 7 8 9]\n",
        "Dimension is (9,)\n",
        "Change array shape to (3, 3) -> 3 rows and 3 columns \n",
        "[[1 2 3]\n",
        " [4 5 6]\n",
        " [7 8 9]]\n",
        "\n",
        "The data type of the converted variable is \n",
        " list\n",
        "```\n"
      ]
    },
    {
      "cell_type": "code",
      "metadata": {
        "id": "AtvPTG3kpBoS",
        "colab": {
          "base_uri": "https://localhost:8080/"
        },
        "outputId": "d86e300e-2a41-42f7-a3d2-2749f0a30c9b"
      },
      "source": [
        "# Write your code here\n",
        "# Import numpy module \n",
        "import numpy as np\n",
        "# Create a NumPy array containing a list of numbers\n",
        "arr=np.arange(1,10)\n",
        "# Print the dimension of the array \n",
        "print(arr.ndim)\n",
        "# Change the dimension of the array into a 3 X 3\n",
        "arr=arr.reshape(3,3)\n",
        "# Print the array \n",
        "print(arr)\n",
        "# Convert the NumPy array into a Python list \n",
        "arr=list(arr)\n",
        "# Use type() function to verify the conversion\n",
        "print(type(arr))"
      ],
      "execution_count": null,
      "outputs": [
        {
          "output_type": "stream",
          "name": "stdout",
          "text": [
            "1\n",
            "[[1 2 3]\n",
            " [4 5 6]\n",
            " [7 8 9]]\n",
            "<class 'list'>\n"
          ]
        }
      ]
    },
    {
      "cell_type": "markdown",
      "metadata": {
        "id": "KOVBiUSMzut1"
      },
      "source": [
        "---"
      ]
    },
    {
      "cell_type": "markdown",
      "metadata": {
        "id": "b4aeCDi0pkJz"
      },
      "source": [
        "#### Activity 3: Find Square Root and Calculate the value of $c$ \n",
        "\n",
        "Write a program to perform following two tasks:\n",
        "-  Print the square root of numbers in the list.\n",
        "- Compute the value of $c$ in the equation $c=\\sqrt(a^2 + b^2)$. \n",
        "\n",
        "**For Example**:\n",
        "\n",
        "```\n",
        "list1 = [4, 16, 9, 1, 25]\n",
        "[2   4    3   1    5 ]\n",
        "If a=27\n",
        "   b=39\n",
        "The value of c =  47.43416490252569\n",
        "```\n",
        "**Hint:** Use `np.sqrt()` function.\n",
        " "
      ]
    },
    {
      "cell_type": "code",
      "metadata": {
        "id": "d5ufKLNYzsIl",
        "colab": {
          "base_uri": "https://localhost:8080/"
        },
        "outputId": "c7f41fd0-4151-4b9b-ffa5-826100671bae"
      },
      "source": [
        "# Write your solution here\n",
        "list1 = [4, 16, 9, 1, 25]\n",
        "list1=np.sqrt(list1)\n",
        "list1=np.array(list1,int)\n",
        "print(list1)\n",
        "a=27\n",
        "b=39\n",
        "c=np.sqrt(a*a+b*b)\n",
        "print(c)"
      ],
      "execution_count": null,
      "outputs": [
        {
          "output_type": "stream",
          "name": "stdout",
          "text": [
            "[2 4 3 1 5]\n",
            "47.43416490252569\n"
          ]
        }
      ]
    },
    {
      "cell_type": "markdown",
      "metadata": {
        "id": "EuzS4rnHjIyn"
      },
      "source": [
        "---"
      ]
    },
    {
      "cell_type": "markdown",
      "metadata": {
        "id": "LhJ4fOqUonsD"
      },
      "source": [
        "\n",
        "Extra Submission\n",
        "\n"
      ]
    },
    {
      "cell_type": "code",
      "metadata": {
        "colab": {
          "base_uri": "https://localhost:8080/"
        },
        "id": "MXXRwhRzorgE",
        "outputId": "3f00847f-d5ca-4da8-88f1-f0d9bbf9cd00"
      },
      "source": [
        "import numpy as np\n",
        "mat1 = ([1, 6, 5],[3 ,4, 8],[2, 12, 3])\n",
        "mat2 = ([3, 4, 6],[5, 6, 7],[6,56, 7])\n",
        "res = np.dot(mat1,mat2)\n",
        "print(res)"
      ],
      "execution_count": null,
      "outputs": [
        {
          "output_type": "stream",
          "name": "stdout",
          "text": [
            "[[ 63 320  83]\n",
            " [ 77 484 102]\n",
            " [ 84 248 117]]\n"
          ]
        }
      ]
    },
    {
      "cell_type": "markdown",
      "metadata": {
        "id": "BNlGj8NNJ1Y0"
      },
      "source": [
        "### Submitting the Project:\n",
        "\n",
        "1. After finishing the project, click on the **Share** button on the top right corner of the notebook. A new dialog box will appear.\n",
        "\n",
        "  <img src='https://student-datasets-bucket.s3.ap-south-1.amazonaws.com/images/project-share-images/2_share_button.png' width=500>\n",
        "\n",
        "2. In the dialog box, make sure that '**Anyone on the Internet with this link can view**' option is selected and then click on the **Copy link** button.\n",
        "\n",
        "   <img src='https://student-datasets-bucket.s3.ap-south-1.amazonaws.com/images/project-share-images/3_copy_link.png' width=500>\n",
        "\n",
        "3. The link of the duplicate copy (named as **YYYY-MM-DD_StudentName_Project9**) of the notebook will get copied \n",
        "\n",
        "   <img src='https://student-datasets-bucket.s3.ap-south-1.amazonaws.com/images/project-share-images/4_copy_link_confirmation.png' width=500>\n",
        "\n",
        "4. Go to your dashboard and click on the **My Projects** option.\n",
        "   \n",
        "   <img src='https://student-datasets-bucket.s3.ap-south-1.amazonaws.com/images/project-share-images/5_student_dashboard.png' width=800>\n",
        "\n",
        "  <img src='https://student-datasets-bucket.s3.ap-south-1.amazonaws.com/images/project-share-images/6_my_projects.png' width=800>\n",
        "\n",
        "5. Click on the **View Project** button for the project you want to submit.\n",
        "\n",
        "   <img src='https://student-datasets-bucket.s3.ap-south-1.amazonaws.com/images/project-share-images/7_view_project.png' width=800>\n",
        "\n",
        "6. Click on the **Submit Project Here** button.\n",
        "\n",
        "   <img src='https://student-datasets-bucket.s3.ap-south-1.amazonaws.com/images/project-share-images/8_submit_project.png' width=800>\n",
        "\n",
        "7. Paste the link to the project file named as **YYYY-MM-DD_StudentName_Project9** in the URL box and then click on the **Submit** button.\n",
        "\n",
        "   <img src='https://student-datasets-bucket.s3.ap-south-1.amazonaws.com/images/project-share-images/9_enter_project_url.png' width=800> "
      ]
    },
    {
      "cell_type": "markdown",
      "metadata": {
        "id": "HSz7jRSlGxIO"
      },
      "source": [
        "---"
      ]
    }
  ]
}